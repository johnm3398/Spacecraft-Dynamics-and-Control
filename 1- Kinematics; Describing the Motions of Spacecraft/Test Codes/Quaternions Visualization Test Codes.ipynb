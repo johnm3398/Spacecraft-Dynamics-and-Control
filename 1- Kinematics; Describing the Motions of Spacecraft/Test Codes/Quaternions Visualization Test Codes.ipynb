{
 "cells": [
  {
   "cell_type": "code",
   "execution_count": 1,
   "id": "bcddc7df-872b-4326-8be9-ed8c973f4726",
   "metadata": {},
   "outputs": [],
   "source": [
    "import numpy as np\n",
    "import plotly.graph_objects as go"
   ]
  },
  {
   "cell_type": "code",
   "execution_count": 2,
   "id": "52f78309-c5ba-4871-8103-56d18e7c7c08",
   "metadata": {},
   "outputs": [],
   "source": [
    "'''\n",
    "The definitions of Rotation Matrices\n",
    "--------------------------------------------------------------------------------------------------------------------------------------------------------\n",
    "    - The rotation abt the 1st principle axis (x-axis) is defined by the angle 'psi'\n",
    "    - The rotation abt the 2nd principle axis (y-axis) is defined by the angle 'theta'\n",
    "    - The rotation abt the 3rd principle axis (z-axis) is defined by the angle 'phi'\n",
    "'''\n",
    "\n",
    "def rotation_matrix_x(phi):\n",
    "    \"\"\"Generate rotation matrix for a roll (rotation about the x-axis)\"\"\"\n",
    "    phi = np.radians(phi)\n",
    "    c, s = np.cos(phi), np.sin(phi)\n",
    "    return np.array([[1, 0, 0], \n",
    "                     [0, c, s], \n",
    "                     [0, -s, c]])\n",
    "\n",
    "def rotation_matrix_y(theta):\n",
    "    \"\"\"Generate rotation matrix for a pitch (rotation about the y-axis)\"\"\"\n",
    "    theta = np.radians(theta)\n",
    "    c, s = np.cos(theta), np.sin(theta)\n",
    "    return np.array([[c, 0, -s], \n",
    "                     [0, 1, 0], \n",
    "                     [s, 0, c]])\n",
    "\n",
    "def rotation_matrix_z(psi):\n",
    "    \"\"\"Generate rotation matrix for a yaw (rotation about the z-axis)\"\"\"\n",
    "    psi = np.radians(psi)\n",
    "    c, s = np.cos(psi), np.sin(psi)\n",
    "    return np.array([[c, s, 0], \n",
    "                     [-s, c, 0], \n",
    "                     [0, 0, 1]])"
   ]
  },
  {
   "cell_type": "code",
   "execution_count": 3,
   "id": "2cf302be-3f08-410f-91f5-2005f435cb4c",
   "metadata": {},
   "outputs": [
    {
     "name": "stdout",
     "output_type": "stream",
     "text": [
      "Direction Cosine Matrix (DCM):\n",
      " [[-0.21212121  0.84848485  0.48484848]\n",
      " [ 0.96969697  0.12121212  0.21212121]\n",
      " [ 0.12121212  0.51515152 -0.84848485]]\n"
     ]
    }
   ],
   "source": [
    "def quaternion_to_DCM(q):\n",
    "    \"\"\"\n",
    "    Converts a quaternion to a direction cosine matrix (DCM).\n",
    "\n",
    "    Args:\n",
    "        q (np.array): A numpy array of size 4 (a row vector) representing the quaternion,\n",
    "                      where q[0] is the scalar part (beta_0), and q[1], q[2], q[3] are the \n",
    "                      vector parts (beta_1, beta_2, beta_3).\n",
    "\n",
    "    Returns:\n",
    "        np.array: A 3x3 rotation matrix (DCM).\n",
    "\n",
    "    Example:\n",
    "        >>> q = np.array([1, 5, 6, 2])\n",
    "        >>> quaternion_to_DCM(q)\n",
    "        array([[ 0.38461538, -0.07692308,  0.91923077],\n",
    "               [ 0.07692308,  0.99230769, -0.09615385],\n",
    "               [-0.91923077,  0.09615385,  0.38461538]])\n",
    "    \"\"\"\n",
    "    # Ensure q is a float array to maintain precision\n",
    "    q = np.array(q, dtype=np.float64)\n",
    "    \n",
    "    # Check that the holonomic constraint of quaternion is satisfied, else normalize it\n",
    "    q_norm = np.linalg.norm(q)\n",
    "    if not np.isclose(q_norm, 1.0, atol=1e-8):\n",
    "        q /= q_norm\n",
    "    \n",
    "    # Extract components\n",
    "    q0, q1, q2, q3 = q\n",
    "    \n",
    "    # Compute the elements of the DCM\n",
    "    C = np.array([\n",
    "        [q0**2 + q1**2 - q2**2 - q3**2, 2 * (q1*q2 + q0*q3),         2 * (q1*q3 - q0*q2)],\n",
    "        [2 * (q1*q2 - q0*q3),           q0**2 - q1**2 + q2**2 - q3**2, 2 * (q2*q3 + q0*q1)],\n",
    "        [2 * (q1*q3 + q0*q2),           2 * (q2*q3 - q0*q1),           q0**2 - q1**2 - q2**2 + q3**2]\n",
    "    ])\n",
    "    \n",
    "    return C\n",
    "\n",
    "# Example usage:\n",
    "q = np.array([-1, 5, 6, 2])\n",
    "C = quaternion_to_DCM(q)\n",
    "print(\"Direction Cosine Matrix (DCM):\\n\", C)"
   ]
  },
  {
   "cell_type": "code",
   "execution_count": 4,
   "id": "c06d88ba-6df7-4adf-8a95-b45f8eced710",
   "metadata": {},
   "outputs": [
    {
     "name": "stdout",
     "output_type": "stream",
     "text": [
      "[ 0.12309149 -0.61545746 -0.73854895 -0.24618298]\n"
     ]
    }
   ],
   "source": [
    "def DCM_to_quaternion(dcm):\n",
    "    \"\"\"\n",
    "    Converts a Direction Cosine Matrix (DCM) to a quaternion using a method to ensure robustness against numerical issues.\n",
    "    \n",
    "    Args:\n",
    "        dcm (np.array): A 3x3 rotation matrix (DCM).\n",
    "    \n",
    "    Returns:\n",
    "        np.array: A quaternion represented as a numpy array of size 4, with the scalar component as the first element.\n",
    "    \n",
    "    Example Usage:\n",
    "        >>> dcm = np.array([[-0.21212121, 0.96969697, 0.12121212],\n",
    "                            [0.84848485, 0.12121212, 0.51515152],\n",
    "                            [0.48484848, 0.21212121, -0.84848485]])\n",
    "        >>> quaternion = DCM_to_quaternion(dcm)\n",
    "        >>> print(quaternion)\n",
    "    \n",
    "    Notes:\n",
    "    - If the scalar component (q0) is negative, it is flipped to positive. (Ensuring shortes path of rotation)\n",
    "    - Corresponding vector component is also flipped when q0 is flipped. (Shepperd's Method)\n",
    "    - Flipping maintains the quaternion's correct rotational encoding.\n",
    "    - Ensures the quaternion represents a rotation of less than 180 degrees.\n",
    "    - Adheres to quaternion algebra for accurate 3D rotation representation.\n",
    "    \"\"\"\n",
    "    trace = np.trace(dcm)\n",
    "    q_squared = np.zeros(4)\n",
    "    q_squared[0] = (1.0 + trace) / 4.0\n",
    "    q_squared[1] = (1.0 + 2 * dcm[0, 0] - trace) / 4.0\n",
    "    q_squared[2] = (1.0 + 2 * dcm[1, 1] - trace) / 4.0\n",
    "    q_squared[3] = (1.0 + 2 * dcm[2, 2] - trace) / 4.0\n",
    "\n",
    "    q = np.zeros(4)\n",
    "    max_index = np.argmax(q_squared)\n",
    "\n",
    "    if max_index == 0:\n",
    "        q[0] = np.sqrt(q_squared[0])\n",
    "        q[1] = (dcm[1, 2] - dcm[2, 1]) / (4 * q[0])\n",
    "        q[2] = (dcm[2, 0] - dcm[0, 2]) / (4 * q[0])\n",
    "        q[3] = (dcm[0, 1] - dcm[1, 0]) / (4 * q[0])\n",
    "    \n",
    "    elif max_index == 1:\n",
    "        q[1] = np.sqrt(q_squared[1])\n",
    "        q[0] = (dcm[1, 2] - dcm[2, 1]) / (4 * q[1])\n",
    "        if q[0] < 0:\n",
    "            q[0] = -q[0]\n",
    "            q[1] = -q[1]\n",
    "            \n",
    "        q[2] = (dcm[0, 1] + dcm[1, 0]) / (4 * q[1])\n",
    "        q[3] = (dcm[2, 0] + dcm[0, 2]) / (4 * q[1])\n",
    "        \n",
    "    elif max_index == 2:\n",
    "        q[2] = np.sqrt(q_squared[2])\n",
    "        q[0] = (dcm[2, 0] - dcm[0, 2]) / (4 * q[2])\n",
    "        if q[0] < 0:\n",
    "            q[0] = -q[0]\n",
    "            q[2] = -q[2]\n",
    "        q[1] = (dcm[0, 1] + dcm[1, 0]) / (4 * q[2])\n",
    "        q[3] = (dcm[1, 2] + dcm[2, 1]) / (4 * q[2])\n",
    "\n",
    "    elif max_index == 3:\n",
    "        q[3] = np.sqrt(q_squared[3])\n",
    "        q[0] = (dcm[0, 1] - dcm[1, 0]) / (4 * q[3])\n",
    "        if q[0] < 0:\n",
    "            q[0] = -q[0]\n",
    "            q[3] = -q[3]\n",
    "            \n",
    "        q[1] = (dcm[2, 0] + dcm[0, 2]) / (4 * q[3])\n",
    "        q[2] = (dcm[1, 2] + dcm[2, 1]) / (4 * q[3])\n",
    "    \n",
    "    return q\n",
    "\n",
    "# Example Usage\n",
    "dcm = np.array([[-0.21212121,  0.84848485,  0.48484848],\n",
    "                [ 0.96969697,  0.12121212,  0.21212121],\n",
    "                [ 0.12121212,  0.51515152, -0.84848485]])\n",
    "quaternion = DCM_to_quaternion(dcm)\n",
    "print(quaternion)"
   ]
  },
  {
   "cell_type": "code",
   "execution_count": 5,
   "id": "4607b3e8-00e1-4a08-960a-44d64a700dd9",
   "metadata": {},
   "outputs": [],
   "source": [
    "def slerp(q0, q1, t_array):\n",
    "    \"\"\"\n",
    "    Performs spherical linear interpolation between two quaternions.\n",
    "\n",
    "    Args:\n",
    "        q0 (np.ndarray): The starting quaternion.\n",
    "        q1 (np.ndarray): The ending quaternion.\n",
    "        t_array (np.ndarray): An array of interpolation factors from 0 to 1.\n",
    "\n",
    "    Returns:\n",
    "        list: A list of interpolated quaternions.\n",
    "    \"\"\"\n",
    "    q0 = q0 / np.linalg.norm(q0)\n",
    "    q1 = q1 / np.linalg.norm(q1)\n",
    "    dot_product = np.dot(q0, q1)\n",
    "\n",
    "    # Adjust quaternions if necessary\n",
    "    if dot_product < 0.0:\n",
    "        q1 = -q1\n",
    "        dot_product = -dot_product\n",
    "\n",
    "    if dot_product > 0.9995:\n",
    "        # Quaternions are nearly identical, use linear interpolation\n",
    "        interpolated_quaternions = [q0 + t * (q1 - q0) for t in t_array]\n",
    "    else:\n",
    "        theta_0 = np.arccos(dot_product)\n",
    "        sin_theta_0 = np.sin(theta_0)\n",
    "        interpolated_quaternions = [\n",
    "            (np.sin((1 - t) * theta_0) / sin_theta_0) * q0 + (np.sin(t * theta_0) / sin_theta_0) * q1\n",
    "            for t in t_array\n",
    "        ]\n",
    "\n",
    "    # Normalize the interpolated quaternions\n",
    "    interpolated_quaternions = [q / np.linalg.norm(q) for q in interpolated_quaternions]\n",
    "    return interpolated_quaternions"
   ]
  },
  {
   "cell_type": "code",
   "execution_count": 6,
   "id": "c849b38e-a8b3-4f9d-8d95-416cdd6f43ef",
   "metadata": {},
   "outputs": [],
   "source": [
    "def initialize_ref_frame(fig, frame_matrix, frame_label, colors, is_static=False):\n",
    "    \"\"\"\n",
    "    Initializes vectors on the provided Plotly figure as either static or dynamic using a color dictionary.\n",
    "\n",
    "    Args:\n",
    "        fig (plotly.graph_objects.Figure): The figure to which the frame vectors will be added.\n",
    "        frame_matrix (np.ndarray): A 3x3 matrix representing the orientation of the frame, where each column is a unit vector (i, j, k).\n",
    "        frame_label (str): The base label for the frame vectors ('N' for the N-frame, 'E' for the E-frame).\n",
    "        colors (dict): A dictionary specifying the colors for each vector, keyed by 'i', 'j', 'k'.\n",
    "        is_static (bool, optional): If True, the frame will be added as static (with dotted lines). \n",
    "                                    If False, it will be added as dynamic (with solid lines). \n",
    "                                    Defaults to False.\n",
    "\n",
    "    Returns:\n",
    "        list: A list of trace indices added to the figure.\n",
    "\n",
    "    Note:\n",
    "        - This function modifies the provided `fig` object in place by adding traces representing the frame vectors. It does not return a new figure.\n",
    "        - The `line_style` is set to 'dot' for static frames and 'solid' for dynamic frames to visually distinguish between them.\n",
    "        - The function uses the `frame_matrix` to extract the vectors corresponding to the axes (i, j, k) \n",
    "          and assigns the specified colors from the `colors` dictionary.\n",
    "        - The `frame_label` is appended with a suffix to indicate whether the frame is static or dynamic.\n",
    "        - The `trace_indices` list stores the indices of the added traces. \n",
    "          The `len(fig.data) - 1` expression is used to get the index of the most recently added trace, \n",
    "          as `len(fig.data)` gives the total number of traces in the figure, and subtracting 1 gives the index of the last added trace.\n",
    "\n",
    "    Example:\n",
    "        colors = {'i': 'red', 'j': 'green', 'k': 'blue'}\n",
    "        frame_matrix = np.eye(3)\n",
    "        fig = go.Figure()\n",
    "        trace_indices = initialize_ref_frame(fig, frame_matrix, 'N', colors, is_static=True)\n",
    "        print(trace_indices)  # Output should be [0, 1, 2] for the first call\n",
    "    \"\"\"\n",
    "    line_style = 'dot' if is_static else 'solid'\n",
    "    \n",
    "    suffix = \" (static)\" if is_static else \"\"\n",
    "    \n",
    "    axis_labels = ['i', 'j', 'k'] \n",
    "\n",
    "    trace_indices = []\n",
    "\n",
    "    for i, axis in enumerate(axis_labels):\n",
    "        vec = frame_matrix[i, :]\n",
    "        name = f'{frame_label}_{axis}{suffix}'\n",
    "        color = colors[axis]  # Access color using axis label as key\n",
    "        trace = go.Scatter3d(x=[0, vec[0]], \n",
    "                             y=[0, vec[1]], \n",
    "                             z=[0, vec[2]],\n",
    "                             mode='lines+markers', \n",
    "                             name=name,\n",
    "                             marker=dict(color=color),\n",
    "                             line=dict(dash=line_style, color=color))\n",
    "        fig.add_trace(trace)\n",
    "\n",
    "        trace_indices.append(len(fig.data)-1)\n",
    "\n",
    "    return trace_indices"
   ]
  },
  {
   "cell_type": "code",
   "execution_count": 7,
   "id": "a9db0c39-31bb-4bdf-9efd-8362683e3309",
   "metadata": {},
   "outputs": [],
   "source": [
    "def setup_animation_scene(fig, frames, title):\n",
    "    \"\"\"\n",
    "    Adds animation controls and configures layout settings for a Plotly figure.\n",
    "\n",
    "    Args:\n",
    "        fig (plotly.graph_objects.Figure): The figure to which the controls will be added.\n",
    "        frames (list): List of animation frames to be included in the slider control.\n",
    "        title (str): The title to set for the animation scene.\n",
    "\n",
    "    Note:\n",
    "    - Animation Controls: This function sets up interactive controls that allow users to play through or step through the animation frames at their own pace. \n",
    "                          The 'Play' button starts the animation, while the slider allows users to jump to specific points in the animation.\n",
    "    \n",
    "    - Button Configuration: The 'Play' button is configured to start the animation immediately when clicked, using the 'immediate' mode. \n",
    "                            It ensures that the animation runs smoothly, redrawing each frame with a duration of 100 milliseconds.\n",
    "    \n",
    "    - Slider Mechanism: The slider below the animation includes steps corresponding to each frame created in the animation sequence. \n",
    "                        Users can move the slider to navigate to different frames, which is particularly useful for examining specific moments of the animation in detail.\n",
    "    \n",
    "    - Current Value Display: The slider also shows the current frame number as the animation plays, \n",
    "                             providing immediate visual feedback to users on their current position within the animation sequence.\n",
    "    \n",
    "    - Layout Configuration: The function also defines the visual layout of the 3D scene. \n",
    "                            It sets a fixed cube aspect for the axes to ensure that objects in the 3D space are displayed proportionally. \n",
    "                            The axes are configured to not auto-scale, maintaining consistent spatial references.\n",
    "    \n",
    "    - Scene Dimensions: The overall dimensions of the figure are set to ensure sufficient space for viewing the animation comfortably, enhancing the visual experience for the user.\n",
    "    \n",
    "    - Usability and Interactivity: By integrating these controls, the function enhances the usability and interactivity of the visualization, \n",
    "                                   making it a more effective tool for presentations or educational purposes where step-by-step analysis of movements is beneficial.\n",
    "\n",
    "    \"\"\"\n",
    "    # Update the figure with animation controls\n",
    "    fig.update_layout(updatemenus=[{\"type\": \"buttons\",\n",
    "                                    \"showactive\": False,\n",
    "                                    \"y\": -0.13,\n",
    "                                    \"x\": -0.02,\n",
    "                                    \"xanchor\": 'left',\n",
    "                                    \"yanchor\": 'bottom',\n",
    "                                    \"buttons\": [{\"label\": 'Play',\n",
    "                                                 \"method\": 'animate',\n",
    "                                                 \"args\": [None, {\"frame\": {\"duration\": 100, \"redraw\": True},\n",
    "                                                                 \"fromcurrent\": True,\n",
    "                                                                 \"mode\": 'immediate'}]}]}],\n",
    "                      sliders=[{\"steps\": [{\"method\": 'animate',\n",
    "                                           \"args\": [[f.name], {\"mode\": 'immediate', \n",
    "                                                               \"frame\": {\"duration\": 100, \"redraw\": True},\n",
    "                                                               \"fromcurrent\": True}],\n",
    "                                           \"label\": str(k)} for k, f in enumerate(frames)],\n",
    "                                \"x\": 0.1,\n",
    "                                \"y\": 0,\n",
    "                                \"currentvalue\": {\"visible\": True, \"prefix\": 'Step: '}}])\n",
    "\n",
    "    # Set additional layout settings for the 3D scene\n",
    "    fig.update_layout(width=1000,\n",
    "                      height=800,\n",
    "                      template='presentation',\n",
    "                      scene={\"aspectmode\": 'cube',\n",
    "                             \"xaxis\": {\"range\": [-1, 1], \"autorange\": False},\n",
    "                             \"yaxis\": {\"range\": [-1, 1], \"autorange\": False},\n",
    "                             \"zaxis\": {\"range\": [-1, 1], \"autorange\": False}},\n",
    "                      title=f\"{title}\")"
   ]
  },
  {
   "cell_type": "code",
   "execution_count": 30,
   "id": "3c00e4ef-1d63-4b0e-b8c0-bc2f3808a739",
   "metadata": {},
   "outputs": [
    {
     "name": "stdout",
     "output_type": "stream",
     "text": [
      "Quaternion (q0-first): [0.81251992 0.33655677 0.33655677 0.33655677]\n",
      "----------------------------------------------------\n",
      "DCM:\n",
      "[[ 0.54691816  0.77345908 -0.32037724]\n",
      " [-0.32037724  0.54691816  0.77345908]\n",
      " [ 0.77345908 -0.32037724  0.54691816]]\n",
      "----------------------------------------------------\n",
      "Euler Angles (321 sequence): <54.73561031724535, 18.685740350534424, 54.73561031724535>\n"
     ]
    },
    {
     "data": {
      "application/vnd.plotly.v1+json": {
       "config": {
        "plotlyServerURL": "https://plot.ly"
       },
       "data": [
        {
         "line": {
          "color": "red",
          "dash": "dot"
         },
         "marker": {
          "color": "red"
         },
         "mode": "lines+markers",
         "name": "N_i (static)",
         "type": "scatter3d",
         "x": [
          0,
          1
         ],
         "y": [
          0,
          0
         ],
         "z": [
          0,
          0
         ]
        },
        {
         "line": {
          "color": "green",
          "dash": "dot"
         },
         "marker": {
          "color": "green"
         },
         "mode": "lines+markers",
         "name": "N_j (static)",
         "type": "scatter3d",
         "x": [
          0,
          0
         ],
         "y": [
          0,
          1
         ],
         "z": [
          0,
          0
         ]
        },
        {
         "line": {
          "color": "blue",
          "dash": "dot"
         },
         "marker": {
          "color": "blue"
         },
         "mode": "lines+markers",
         "name": "N_k (static)",
         "type": "scatter3d",
         "x": [
          0,
          0
         ],
         "y": [
          0,
          0
         ],
         "z": [
          0,
          1
         ]
        },
        {
         "line": {
          "color": "red",
          "dash": "solid"
         },
         "marker": {
          "color": "red"
         },
         "mode": "lines+markers",
         "name": "E_i",
         "type": "scatter3d",
         "x": [
          0,
          0.5469181606780272
         ],
         "y": [
          0,
          0.7734590803390139
         ],
         "z": [
          0,
          -0.3203772410170408
         ]
        },
        {
         "line": {
          "color": "green",
          "dash": "solid"
         },
         "marker": {
          "color": "green"
         },
         "mode": "lines+markers",
         "name": "E_j",
         "type": "scatter3d",
         "x": [
          0,
          -0.3203772410170408
         ],
         "y": [
          0,
          0.5469181606780272
         ],
         "z": [
          0,
          0.7734590803390139
         ]
        },
        {
         "line": {
          "color": "blue",
          "dash": "solid"
         },
         "marker": {
          "color": "blue"
         },
         "mode": "lines+markers",
         "name": "E_k",
         "type": "scatter3d",
         "x": [
          0,
          0.7734590803390139
         ],
         "y": [
          0,
          -0.3203772410170408
         ],
         "z": [
          0,
          0.5469181606780272
         ]
        },
        {
         "hoverinfo": "text+name",
         "line": {
          "color": "purple",
          "width": 5
         },
         "mode": "lines+markers",
         "name": "Rotation Axis (normalized)",
         "text": "x: 0.58<br>y: 0.58<br>z: 0.58<br>Norm: 1.00",
         "type": "scatter3d",
         "x": [
          0,
          0.5773502691896258
         ],
         "y": [
          0,
          0.5773502691896258
         ],
         "z": [
          0,
          0.5773502691896258
         ]
        }
       ],
       "frames": [
        {
         "data": [
          {
           "marker": {
            "color": "red"
           },
           "mode": "lines+markers",
           "type": "scatter3d",
           "x": [
            0,
            1
           ],
           "y": [
            0,
            0
           ],
           "z": [
            0,
            0
           ]
          },
          {
           "marker": {
            "color": "green"
           },
           "mode": "lines+markers",
           "type": "scatter3d",
           "x": [
            0,
            0
           ],
           "y": [
            0,
            1
           ],
           "z": [
            0,
            0
           ]
          },
          {
           "marker": {
            "color": "blue"
           },
           "mode": "lines+markers",
           "type": "scatter3d",
           "x": [
            0,
            0
           ],
           "y": [
            0,
            0
           ],
           "z": [
            0,
            1
           ]
          }
         ],
         "name": "0",
         "traces": [
          3,
          4,
          5
         ]
        },
        {
         "data": [
          {
           "marker": {
            "color": "red"
           },
           "mode": "lines+markers",
           "type": "scatter3d",
           "x": [
            0,
            0.9994263045191348
           ],
           "y": [
            0,
            0.02423363533264282
           ],
           "z": [
            0,
            -0.023659939851777806
           ]
          },
          {
           "marker": {
            "color": "green"
           },
           "mode": "lines+markers",
           "type": "scatter3d",
           "x": [
            0,
            -0.023659939851777806
           ],
           "y": [
            0,
            0.9994263045191348
           ],
           "z": [
            0,
            0.02423363533264282
           ]
          },
          {
           "marker": {
            "color": "blue"
           },
           "mode": "lines+markers",
           "type": "scatter3d",
           "x": [
            0,
            0.02423363533264282
           ],
           "y": [
            0,
            -0.023659939851777806
           ],
           "z": [
            0,
            0.9994263045191348
           ]
          }
         ],
         "name": "1",
         "traces": [
          3,
          4,
          5
         ]
        },
        {
         "data": [
          {
           "marker": {
            "color": "red"
           },
           "mode": "lines+markers",
           "type": "scatter3d",
           "x": [
            0,
            0.9977062054560544
           ],
           "y": [
            0,
            0.04899925796492484
           ],
           "z": [
            0,
            -0.04670546342097909
           ]
          },
          {
           "marker": {
            "color": "green"
           },
           "mode": "lines+markers",
           "type": "scatter3d",
           "x": [
            0,
            -0.04670546342097909
           ],
           "y": [
            0,
            0.9977062054560544
           ],
           "z": [
            0,
            0.04899925796492484
           ]
          },
          {
           "marker": {
            "color": "blue"
           },
           "mode": "lines+markers",
           "type": "scatter3d",
           "x": [
            0,
            0.04899925796492484
           ],
           "y": [
            0,
            -0.04670546342097909
           ],
           "z": [
            0,
            0.9977062054560544
           ]
          }
         ],
         "name": "2",
         "traces": [
          3,
          4,
          5
         ]
        },
        {
         "data": [
          {
           "marker": {
            "color": "red"
           },
           "mode": "lines+markers",
           "type": "scatter3d",
           "x": [
            0,
            0.9948426632499352
           ],
           "y": [
            0,
            0.07425424411949123
           ],
           "z": [
            0,
            -0.0690969073694264
           ]
          },
          {
           "marker": {
            "color": "green"
           },
           "mode": "lines+markers",
           "type": "scatter3d",
           "x": [
            0,
            -0.0690969073694264
           ],
           "y": [
            0,
            0.9948426632499352
           ],
           "z": [
            0,
            0.07425424411949123
           ]
          },
          {
           "marker": {
            "color": "blue"
           },
           "mode": "lines+markers",
           "type": "scatter3d",
           "x": [
            0,
            0.07425424411949123
           ],
           "y": [
            0,
            -0.0690969073694264
           ],
           "z": [
            0,
            0.9948426632499352
           ]
          }
         ],
         "name": "3",
         "traces": [
          3,
          4,
          5
         ]
        },
        {
         "data": [
          {
           "marker": {
            "color": "red"
           },
           "mode": "lines+markers",
           "type": "scatter3d",
           "x": [
            0,
            0.9908406063044465
           ],
           "y": [
            0,
            0.09995512778206343
           ],
           "z": [
            0,
            -0.09079573408650994
           ]
          },
          {
           "marker": {
            "color": "green"
           },
           "mode": "lines+markers",
           "type": "scatter3d",
           "x": [
            0,
            -0.09079573408650994
           ],
           "y": [
            0,
            0.9908406063044465
           ],
           "z": [
            0,
            0.09995512778206343
           ]
          },
          {
           "marker": {
            "color": "blue"
           },
           "mode": "lines+markers",
           "type": "scatter3d",
           "x": [
            0,
            0.09995512778206343
           ],
           "y": [
            0,
            -0.09079573408650994
           ],
           "z": [
            0,
            0.9908406063044465
           ]
          }
         ],
         "name": "4",
         "traces": [
          3,
          4,
          5
         ]
        },
        {
         "data": [
          {
           "marker": {
            "color": "red"
           },
           "mode": "lines+markers",
           "type": "scatter3d",
           "x": [
            0,
            0.9857069225055396
           ],
           "y": [
            0,
            0.1260576755102071
           ],
           "z": [
            0,
            -0.11176459801574672
           ]
          },
          {
           "marker": {
            "color": "green"
           },
           "mode": "lines+markers",
           "type": "scatter3d",
           "x": [
            0,
            -0.11176459801574672
           ],
           "y": [
            0,
            0.9857069225055396
           ],
           "z": [
            0,
            0.1260576755102071
           ]
          },
          {
           "marker": {
            "color": "blue"
           },
           "mode": "lines+markers",
           "type": "scatter3d",
           "x": [
            0,
            0.1260576755102071
           ],
           "y": [
            0,
            -0.11176459801574672
           ],
           "z": [
            0,
            0.9857069225055396
           ]
          }
         ],
         "name": "5",
         "traces": [
          3,
          4,
          5
         ]
        },
        {
         "data": [
          {
           "marker": {
            "color": "red"
           },
           "mode": "lines+markers",
           "type": "scatter3d",
           "x": [
            0,
            0.9794504473668014
           ],
           "y": [
            0,
            0.1525169625629101
           ],
           "z": [
            0,
            -0.13196740992971148
           ]
          },
          {
           "marker": {
            "color": "green"
           },
           "mode": "lines+markers",
           "type": "scatter3d",
           "x": [
            0,
            -0.13196740992971148
           ],
           "y": [
            0,
            0.9794504473668014
           ],
           "z": [
            0,
            0.1525169625629101
           ]
          },
          {
           "marker": {
            "color": "blue"
           },
           "mode": "lines+markers",
           "type": "scatter3d",
           "x": [
            0,
            0.1525169625629101
           ],
           "y": [
            0,
            -0.13196740992971148
           ],
           "z": [
            0,
            0.9794504473668014
           ]
          }
         ],
         "name": "6",
         "traces": [
          3,
          4,
          5
         ]
        },
        {
         "data": [
          {
           "marker": {
            "color": "red"
           },
           "mode": "lines+markers",
           "type": "scatter3d",
           "x": [
            0,
            0.9720819488227717
           ],
           "y": [
            0,
            0.1792874502199453
           ],
           "z": [
            0,
            -0.15136939904271685
           ]
          },
          {
           "marker": {
            "color": "green"
           },
           "mode": "lines+markers",
           "type": "scatter3d",
           "x": [
            0,
            -0.15136939904271685
           ],
           "y": [
            0,
            0.9720819488227717
           ],
           "z": [
            0,
            0.1792874502199453
           ]
          },
          {
           "marker": {
            "color": "blue"
           },
           "mode": "lines+markers",
           "type": "scatter3d",
           "x": [
            0,
            0.1792874502199453
           ],
           "y": [
            0,
            -0.15136939904271685
           ],
           "z": [
            0,
            0.9720819488227717
           ]
          }
         ],
         "name": "7",
         "traces": [
          3,
          4,
          5
         ]
        },
        {
         "data": [
          {
           "marker": {
            "color": "red"
           },
           "mode": "lines+markers",
           "type": "scatter3d",
           "x": [
            0,
            0.9636141086963965
           ],
           "y": [
            0,
            0.20632306415794455
           ],
           "z": [
            0,
            -0.169937172854341
           ]
          },
          {
           "marker": {
            "color": "green"
           },
           "mode": "lines+markers",
           "type": "scatter3d",
           "x": [
            0,
            -0.169937172854341
           ],
           "y": [
            0,
            0.9636141086963965
           ],
           "z": [
            0,
            0.20632306415794455
           ]
          },
          {
           "marker": {
            "color": "blue"
           },
           "mode": "lines+markers",
           "type": "scatter3d",
           "x": [
            0,
            0.20632306415794455
           ],
           "y": [
            0,
            -0.169937172854341
           ],
           "z": [
            0,
            0.9636141086963965
           ]
          }
         ],
         "name": "8",
         "traces": [
          3,
          4,
          5
         ]
        },
        {
         "data": [
          {
           "marker": {
            "color": "red"
           },
           "mode": "lines+markers",
           "type": "scatter3d",
           "x": [
            0,
            0.9540615008725157
           ],
           "y": [
            0,
            0.23357727374829185
           ],
           "z": [
            0,
            -0.18763877462080758
           ]
          },
          {
           "marker": {
            "color": "green"
           },
           "mode": "lines+markers",
           "type": "scatter3d",
           "x": [
            0,
            -0.18763877462080758
           ],
           "y": [
            0,
            0.9540615008725157
           ],
           "z": [
            0,
            0.23357727374829185
           ]
          },
          {
           "marker": {
            "color": "blue"
           },
           "mode": "lines+markers",
           "type": "scatter3d",
           "x": [
            0,
            0.23357727374829185
           ],
           "y": [
            0,
            -0.18763877462080758
           ],
           "z": [
            0,
            0.9540615008725157
           ]
          }
         ],
         "name": "9",
         "traces": [
          3,
          4,
          5
         ]
        },
        {
         "data": [
          {
           "marker": {
            "color": "red"
           },
           "mode": "lines+markers",
           "type": "scatter3d",
           "x": [
            0,
            0.9434405662149464
           ],
           "y": [
            0,
            0.2610031721403578
           ],
           "z": [
            0,
            -0.2044437383553042
           ]
          },
          {
           "marker": {
            "color": "green"
           },
           "mode": "lines+markers",
           "type": "scatter3d",
           "x": [
            0,
            -0.2044437383553042
           ],
           "y": [
            0,
            0.9434405662149464
           ],
           "z": [
            0,
            0.2610031721403578
           ]
          },
          {
           "marker": {
            "color": "blue"
           },
           "mode": "lines+markers",
           "type": "scatter3d",
           "x": [
            0,
            0.2610031721403578
           ],
           "y": [
            0,
            -0.2044437383553042
           ],
           "z": [
            0,
            0.9434405662149464
           ]
          }
         ],
         "name": "10",
         "traces": [
          3,
          4,
          5
         ]
        },
        {
         "data": [
          {
           "marker": {
            "color": "red"
           },
           "mode": "lines+markers",
           "type": "scatter3d",
           "x": [
            0,
            0.9317695842703354
           ],
           "y": [
            0,
            0.28855355699224355
           ],
           "z": [
            0,
            -0.22032314126257896
           ]
          },
          {
           "marker": {
            "color": "green"
           },
           "mode": "lines+markers",
           "type": "scatter3d",
           "x": [
            0,
            -0.22032314126257896
           ],
           "y": [
            0,
            0.9317695842703354
           ],
           "z": [
            0,
            0.28855355699224355
           ]
          },
          {
           "marker": {
            "color": "blue"
           },
           "mode": "lines+markers",
           "type": "scatter3d",
           "x": [
            0,
            0.28855355699224355
           ],
           "y": [
            0,
            -0.22032314126257896
           ],
           "z": [
            0,
            0.9317695842703354
           ]
          }
         ],
         "name": "11",
         "traces": [
          3,
          4,
          5
         ]
        },
        {
         "data": [
          {
           "marker": {
            "color": "red"
           },
           "mode": "lines+markers",
           "type": "scatter3d",
           "x": [
            0,
            0.9190686418074794
           ],
           "y": [
            0,
            0.31618101171009244
           ],
           "z": [
            0,
            -0.23524965351757182
           ]
          },
          {
           "marker": {
            "color": "green"
           },
           "mode": "lines+markers",
           "type": "scatter3d",
           "x": [
            0,
            -0.23524965351757182
           ],
           "y": [
            0,
            0.9190686418074794
           ],
           "z": [
            0,
            0.31618101171009244
           ]
          },
          {
           "marker": {
            "color": "blue"
           },
           "mode": "lines+markers",
           "type": "scatter3d",
           "x": [
            0,
            0.31618101171009244
           ],
           "y": [
            0,
            -0.23524965351757182
           ],
           "z": [
            0,
            0.9190686418074794
           ]
          }
         ],
         "name": "12",
         "traces": [
          3,
          4,
          5
         ]
        },
        {
         "data": [
          {
           "marker": {
            "color": "red"
           },
           "mode": "lines+markers",
           "type": "scatter3d",
           "x": [
            0,
            0.9053595982462592
           ],
           "y": [
            0,
            0.34383798705614615
           ],
           "z": [
            0,
            -0.24919758530240538
           ]
          },
          {
           "marker": {
            "color": "green"
           },
           "mode": "lines+markers",
           "type": "scatter3d",
           "x": [
            0,
            -0.24919758530240538
           ],
           "y": [
            0,
            0.9053595982462592
           ],
           "z": [
            0,
            0.34383798705614615
           ]
          },
          {
           "marker": {
            "color": "blue"
           },
           "mode": "lines+markers",
           "type": "scatter3d",
           "x": [
            0,
            0.34383798705614615
           ],
           "y": [
            0,
            -0.24919758530240538
           ],
           "z": [
            0,
            0.9053595982462592
           ]
          }
         ],
         "name": "13",
         "traces": [
          3,
          4,
          5
         ]
        },
        {
         "data": [
          {
           "marker": {
            "color": "red"
           },
           "mode": "lines+markers",
           "type": "scatter3d",
           "x": [
            0,
            0.890666048035689
           ],
           "y": [
            0,
            0.37147688298509335
           ],
           "z": [
            0,
            -0.2621429310207825
           ]
          },
          {
           "marker": {
            "color": "green"
           },
           "mode": "lines+markers",
           "type": "scatter3d",
           "x": [
            0,
            -0.2621429310207825
           ],
           "y": [
            0,
            0.890666048035689
           ],
           "z": [
            0,
            0.37147688298509335
           ]
          },
          {
           "marker": {
            "color": "blue"
           },
           "mode": "lines+markers",
           "type": "scatter3d",
           "x": [
            0,
            0.37147688298509335
           ],
           "y": [
            0,
            -0.2621429310207825
           ],
           "z": [
            0,
            0.890666048035689
           ]
          }
         ],
         "name": "14",
         "traces": [
          3,
          4,
          5
         ]
        },
        {
         "data": [
          {
           "marker": {
            "color": "red"
           },
           "mode": "lines+markers",
           "type": "scatter3d",
           "x": [
            0,
            0.8750132800458302
           ],
           "y": [
            0,
            0.3990501305678624
           ],
           "z": [
            0,
            -0.27406341061369266
           ]
          },
          {
           "marker": {
            "color": "green"
           },
           "mode": "lines+markers",
           "type": "scatter3d",
           "x": [
            0,
            -0.27406341061369266
           ],
           "y": [
            0,
            0.8750132800458302
           ],
           "z": [
            0,
            0.3990501305678624
           ]
          },
          {
           "marker": {
            "color": "blue"
           },
           "mode": "lines+markers",
           "type": "scatter3d",
           "x": [
            0,
            0.3990501305678624
           ],
           "y": [
            0,
            -0.27406341061369266
           ],
           "z": [
            0,
            0.8750132800458302
           ]
          }
         ],
         "name": "15",
         "traces": [
          3,
          4,
          5
         ]
        },
        {
         "data": [
          {
           "marker": {
            "color": "red"
           },
           "mode": "lines+markers",
           "type": "scatter3d",
           "x": [
            0,
            0.8584282340434588
           ],
           "y": [
            0,
            0.42651027386186047
           ],
           "z": [
            0,
            -0.28493850790531916
           ]
          },
          {
           "marker": {
            "color": "green"
           },
           "mode": "lines+markers",
           "type": "scatter3d",
           "x": [
            0,
            -0.28493850790531916
           ],
           "y": [
            0,
            0.8584282340434588
           ],
           "z": [
            0,
            0.42651027386186047
           ]
          },
          {
           "marker": {
            "color": "blue"
           },
           "mode": "lines+markers",
           "type": "scatter3d",
           "x": [
            0,
            0.42651027386186047
           ],
           "y": [
            0,
            -0.28493850790531916
           ],
           "z": [
            0,
            0.8584282340434588
           ]
          }
         ],
         "name": "16",
         "traces": [
          3,
          4,
          5
         ]
        },
        {
         "data": [
          {
           "marker": {
            "color": "red"
           },
           "mode": "lines+markers",
           "type": "scatter3d",
           "x": [
            0,
            0.8409394543263993
           ],
           "y": [
            0,
            0.4538100515867523
           ],
           "z": [
            0,
            -0.2947495059131516
           ]
          },
          {
           "marker": {
            "color": "green"
           },
           "mode": "lines+markers",
           "type": "scatter3d",
           "x": [
            0,
            -0.2947495059131516
           ],
           "y": [
            0,
            0.8409394543263993
           ],
           "z": [
            0,
            0.4538100515867523
           ]
          },
          {
           "marker": {
            "color": "blue"
           },
           "mode": "lines+markers",
           "type": "scatter3d",
           "x": [
            0,
            0.4538100515867523
           ],
           "y": [
            0,
            -0.2947495059131516
           ],
           "z": [
            0,
            0.8409394543263993
           ]
          }
         ],
         "name": "17",
         "traces": [
          3,
          4,
          5
         ]
        },
        {
         "data": [
          {
           "marker": {
            "color": "red"
           },
           "mode": "lines+markers",
           "type": "scatter3d",
           "x": [
            0,
            0.8225770405963205
           ],
           "y": [
            0,
            0.4809024784652099
           ],
           "z": [
            0,
            -0.3034795190615303
           ]
          },
          {
           "marker": {
            "color": "green"
           },
           "mode": "lines+markers",
           "type": "scatter3d",
           "x": [
            0,
            -0.3034795190615303
           ],
           "y": [
            0,
            0.8225770405963205
           ],
           "z": [
            0,
            0.4809024784652099
           ]
          },
          {
           "marker": {
            "color": "blue"
           },
           "mode": "lines+markers",
           "type": "scatter3d",
           "x": [
            0,
            0.4809024784652099
           ],
           "y": [
            0,
            -0.3034795190615303
           ],
           "z": [
            0,
            0.8225770405963205
           ]
          }
         ],
         "name": "18",
         "traces": [
          3,
          4,
          5
         ]
        },
        {
         "data": [
          {
           "marker": {
            "color": "red"
           },
           "mode": "lines+markers",
           "type": "scatter3d",
           "x": [
            0,
            0.8033725961545466
           ],
           "y": [
            0,
            0.5077409260886356
           ],
           "z": [
            0,
            -0.31111352224318195
           ]
          },
          {
           "marker": {
            "color": "green"
           },
           "mode": "lines+markers",
           "type": "scatter3d",
           "x": [
            0,
            -0.31111352224318195
           ],
           "y": [
            0,
            0.8033725961545466
           ],
           "z": [
            0,
            0.5077409260886356
           ]
          },
          {
           "marker": {
            "color": "blue"
           },
           "mode": "lines+markers",
           "type": "scatter3d",
           "x": [
            0,
            0.5077409260886356
           ],
           "y": [
            0,
            -0.31111352224318195
           ],
           "z": [
            0,
            0.8033725961545466
           ]
          }
         ],
         "name": "19",
         "traces": [
          3,
          4,
          5
         ]
        },
        {
         "data": [
          {
           "marker": {
            "color": "red"
           },
           "mode": "lines+markers",
           "type": "scatter3d",
           "x": [
            0,
            0.7833591735100434
           ],
           "y": [
            0,
            0.5342792031686846
           ],
           "z": [
            0,
            -0.31763837667872785
           ]
          },
          {
           "marker": {
            "color": "green"
           },
           "mode": "lines+markers",
           "type": "scatter3d",
           "x": [
            0,
            -0.31763837667872785
           ],
           "y": [
            0,
            0.7833591735100434
           ],
           "z": [
            0,
            0.5342792031686846
           ]
          },
          {
           "marker": {
            "color": "blue"
           },
           "mode": "lines+markers",
           "type": "scatter3d",
           "x": [
            0,
            0.5342792031686846
           ],
           "y": [
            0,
            -0.31763837667872785
           ],
           "z": [
            0,
            0.7833591735100434
           ]
          }
         ],
         "name": "20",
         "traces": [
          3,
          4,
          5
         ]
        },
        {
         "data": [
          {
           "marker": {
            "color": "red"
           },
           "mode": "lines+markers",
           "type": "scatter3d",
           "x": [
            0,
            0.7625712174931947
           ],
           "y": [
            0,
            0.5604716350364645
           ],
           "z": [
            0,
            -0.3230428525296591
           ]
          },
          {
           "marker": {
            "color": "green"
           },
           "mode": "lines+markers",
           "type": "scatter3d",
           "x": [
            0,
            -0.3230428525296591
           ],
           "y": [
            0,
            0.7625712174931947
           ],
           "z": [
            0,
            0.5604716350364645
           ]
          },
          {
           "marker": {
            "color": "blue"
           },
           "mode": "lines+markers",
           "type": "scatter3d",
           "x": [
            0,
            0.5604716350364645
           ],
           "y": [
            0,
            -0.3230428525296591
           ],
           "z": [
            0,
            0.7625712174931947
           ]
          }
         ],
         "name": "21",
         "traces": [
          3,
          4,
          5
         ]
        },
        {
         "data": [
          {
           "marker": {
            "color": "red"
           },
           "mode": "lines+markers",
           "type": "scatter3d",
           "x": [
            0,
            0.7410445059732703
           ],
           "y": [
            0,
            0.5862731422525889
           ],
           "z": [
            0,
            -0.32731764822585924
           ]
          },
          {
           "marker": {
            "color": "green"
           },
           "mode": "lines+markers",
           "type": "scatter3d",
           "x": [
            0,
            -0.32731764822585924
           ],
           "y": [
            0,
            0.7410445059732703
           ],
           "z": [
            0,
            0.5862731422525889
           ]
          },
          {
           "marker": {
            "color": "blue"
           },
           "mode": "lines+markers",
           "type": "scatter3d",
           "x": [
            0,
            0.5862731422525889
           ],
           "y": [
            0,
            -0.32731764822585924
           ],
           "z": [
            0,
            0.7410445059732703
           ]
          }
         ],
         "name": "22",
         "traces": [
          3,
          4,
          5
         ]
        },
        {
         "data": [
          {
           "marker": {
            "color": "red"
           },
           "mode": "lines+markers",
           "type": "scatter3d",
           "x": [
            0,
            0.7188160882816208
           ],
           "y": [
            0,
            0.61163931819279
           ],
           "z": [
            0,
            -0.33045540647441085
           ]
          },
          {
           "marker": {
            "color": "green"
           },
           "mode": "lines+markers",
           "type": "scatter3d",
           "x": [
            0,
            -0.33045540647441085
           ],
           "y": [
            0,
            0.7188160882816208
           ],
           "z": [
            0,
            0.61163931819279
           ]
          },
          {
           "marker": {
            "color": "blue"
           },
           "mode": "lines+markers",
           "type": "scatter3d",
           "x": [
            0,
            0.61163931819279
           ],
           "y": [
            0,
            -0.33045540647441085
           ],
           "z": [
            0,
            0.7188160882816208
           ]
          }
         ],
         "name": "23",
         "traces": [
          3,
          4,
          5
         ]
        },
        {
         "data": [
          {
           "marker": {
            "color": "red"
           },
           "mode": "lines+markers",
           "type": "scatter3d",
           "x": [
            0,
            0.6959242214465757
           ],
           "y": [
            0,
            0.6365265054755564
           ],
           "z": [
            0,
            -0.33245072692213207
           ]
          },
          {
           "marker": {
            "color": "green"
           },
           "mode": "lines+markers",
           "type": "scatter3d",
           "x": [
            0,
            -0.33245072692213207
           ],
           "y": [
            0,
            0.6959242214465757
           ],
           "z": [
            0,
            0.6365265054755564
           ]
          },
          {
           "marker": {
            "color": "blue"
           },
           "mode": "lines+markers",
           "type": "scatter3d",
           "x": [
            0,
            0.6365265054755564
           ],
           "y": [
            0,
            -0.33245072692213207
           ],
           "z": [
            0,
            0.6959242214465757
           ]
          }
         ],
         "name": "24",
         "traces": [
          3,
          4,
          5
         ]
        },
        {
         "data": [
          {
           "marker": {
            "color": "red"
           },
           "mode": "lines+markers",
           "type": "scatter3d",
           "x": [
            0,
            0.6724083043497903
           ],
           "y": [
            0,
            0.6608918711002614
           ],
           "z": [
            0,
            -0.3333001754500517
           ]
          },
          {
           "marker": {
            "color": "green"
           },
           "mode": "lines+markers",
           "type": "scatter3d",
           "x": [
            0,
            -0.3333001754500517
           ],
           "y": [
            0,
            0.6724083043497903
           ],
           "z": [
            0,
            0.6608918711002614
           ]
          },
          {
           "marker": {
            "color": "blue"
           },
           "mode": "lines+markers",
           "type": "scatter3d",
           "x": [
            0,
            0.6608918711002614
           ],
           "y": [
            0,
            -0.3333001754500517
           ],
           "z": [
            0,
            0.6724083043497903
           ]
          }
         ],
         "name": "25",
         "traces": [
          3,
          4,
          5
         ]
        },
        {
         "data": [
          {
           "marker": {
            "color": "red"
           },
           "mode": "lines+markers",
           "type": "scatter3d",
           "x": [
            0,
            0.6483088099173655
           ],
           "y": [
            0,
            0.6846934801664597
           ],
           "z": [
            0,
            -0.3330022900838248
           ]
          },
          {
           "marker": {
            "color": "green"
           },
           "mode": "lines+markers",
           "type": "scatter3d",
           "x": [
            0,
            -0.3330022900838248
           ],
           "y": [
            0,
            0.6483088099173655
           ],
           "z": [
            0,
            0.6846934801664597
           ]
          },
          {
           "marker": {
            "color": "blue"
           },
           "mode": "lines+markers",
           "type": "scatter3d",
           "x": [
            0,
            0.6846934801664597
           ],
           "y": [
            0,
            -0.3330022900838248
           ],
           "z": [
            0,
            0.6483088099173655
           ]
          }
         ],
         "name": "26",
         "traces": [
          3,
          4,
          5
         ]
        },
        {
         "data": [
          {
           "marker": {
            "color": "red"
           },
           "mode": "lines+markers",
           "type": "scatter3d",
           "x": [
            0,
            0.6236672154624416
           ],
           "y": [
            0,
            0.707890368047475
           ],
           "z": [
            0,
            -0.3315575835099164
           ]
          },
          {
           "marker": {
            "color": "green"
           },
           "mode": "lines+markers",
           "type": "scatter3d",
           "x": [
            0,
            -0.3315575835099164
           ],
           "y": [
            0,
            0.6236672154624416
           ],
           "z": [
            0,
            0.707890368047475
           ]
          },
          {
           "marker": {
            "color": "blue"
           },
           "mode": "lines+markers",
           "type": "scatter3d",
           "x": [
            0,
            0.707890368047475
           ],
           "y": [
            0,
            -0.3315575835099164
           ],
           "z": [
            0,
            0.6236672154624416
           ]
          }
         ],
         "name": "27",
         "traces": [
          3,
          4,
          5
         ]
        },
        {
         "data": [
          {
           "marker": {
            "color": "red"
           },
           "mode": "lines+markers",
           "type": "scatter3d",
           "x": [
            0,
            0.5985259312991594
           ],
           "y": [
            0,
            0.7304426108940655
           ],
           "z": [
            0,
            -0.3289685421932246
           ]
          },
          {
           "marker": {
            "color": "green"
           },
           "mode": "lines+markers",
           "type": "scatter3d",
           "x": [
            0,
            -0.3289685421932246
           ],
           "y": [
            0,
            0.5985259312991594
           ],
           "z": [
            0,
            0.7304426108940655
           ]
          },
          {
           "marker": {
            "color": "blue"
           },
           "mode": "lines+markers",
           "type": "scatter3d",
           "x": [
            0,
            0.7304426108940655
           ],
           "y": [
            0,
            -0.3289685421932246
           ],
           "z": [
            0,
            0.5985259312991594
           ]
          }
         ],
         "name": "28",
         "traces": [
          3,
          4,
          5
         ]
        },
        {
         "data": [
          {
           "marker": {
            "color": "red"
           },
           "mode": "lines+markers",
           "type": "scatter3d",
           "x": [
            0,
            0.5729282277508416
           ],
           "y": [
            0,
            0.752311394346817
           ],
           "z": [
            0,
            -0.32523962209765866
           ]
          },
          {
           "marker": {
            "color": "green"
           },
           "mode": "lines+markers",
           "type": "scatter3d",
           "x": [
            0,
            -0.32523962209765866
           ],
           "y": [
            0,
            0.5729282277508418
           ],
           "z": [
            0,
            0.752311394346817
           ]
          },
          {
           "marker": {
            "color": "blue"
           },
           "mode": "lines+markers",
           "type": "scatter3d",
           "x": [
            0,
            0.752311394346817
           ],
           "y": [
            0,
            -0.32523962209765866
           ],
           "z": [
            0,
            0.5729282277508418
           ]
          }
         ],
         "name": "29",
         "traces": [
          3,
          4,
          5
         ]
        },
        {
         "data": [
          {
           "marker": {
            "color": "red"
           },
           "mode": "lines+markers",
           "type": "scatter3d",
           "x": [
            0,
            0.5469181606780272
           ],
           "y": [
            0,
            0.7734590803390139
           ],
           "z": [
            0,
            -0.3203772410170408
           ]
          },
          {
           "marker": {
            "color": "green"
           },
           "mode": "lines+markers",
           "type": "scatter3d",
           "x": [
            0,
            -0.3203772410170408
           ],
           "y": [
            0,
            0.5469181606780272
           ],
           "z": [
            0,
            0.7734590803390139
           ]
          },
          {
           "marker": {
            "color": "blue"
           },
           "mode": "lines+markers",
           "type": "scatter3d",
           "x": [
            0,
            0.7734590803390139
           ],
           "y": [
            0,
            -0.3203772410170408
           ],
           "z": [
            0,
            0.5469181606780272
           ]
          }
         ],
         "name": "30",
         "traces": [
          3,
          4,
          5
         ]
        }
       ],
       "layout": {
        "height": 800,
        "scene": {
         "aspectmode": "cube",
         "aspectratio": {
          "x": 1,
          "y": 1,
          "z": 1
         },
         "xaxis": {
          "autorange": false,
          "range": [
           -1,
           1
          ],
          "type": "linear"
         },
         "yaxis": {
          "autorange": false,
          "range": [
           -1,
           1
          ],
          "type": "linear"
         },
         "zaxis": {
          "autorange": false,
          "range": [
           -1,
           1
          ],
          "type": "linear"
         }
        },
        "sliders": [
         {
          "active": 30,
          "currentvalue": {
           "prefix": "Step: ",
           "visible": true
          },
          "steps": [
           {
            "args": [
             [
              "0"
             ],
             {
              "frame": {
               "duration": 100,
               "redraw": true
              },
              "fromcurrent": true,
              "mode": "immediate"
             }
            ],
            "label": "0",
            "method": "animate"
           },
           {
            "args": [
             [
              "1"
             ],
             {
              "frame": {
               "duration": 100,
               "redraw": true
              },
              "fromcurrent": true,
              "mode": "immediate"
             }
            ],
            "label": "1",
            "method": "animate"
           },
           {
            "args": [
             [
              "2"
             ],
             {
              "frame": {
               "duration": 100,
               "redraw": true
              },
              "fromcurrent": true,
              "mode": "immediate"
             }
            ],
            "label": "2",
            "method": "animate"
           },
           {
            "args": [
             [
              "3"
             ],
             {
              "frame": {
               "duration": 100,
               "redraw": true
              },
              "fromcurrent": true,
              "mode": "immediate"
             }
            ],
            "label": "3",
            "method": "animate"
           },
           {
            "args": [
             [
              "4"
             ],
             {
              "frame": {
               "duration": 100,
               "redraw": true
              },
              "fromcurrent": true,
              "mode": "immediate"
             }
            ],
            "label": "4",
            "method": "animate"
           },
           {
            "args": [
             [
              "5"
             ],
             {
              "frame": {
               "duration": 100,
               "redraw": true
              },
              "fromcurrent": true,
              "mode": "immediate"
             }
            ],
            "label": "5",
            "method": "animate"
           },
           {
            "args": [
             [
              "6"
             ],
             {
              "frame": {
               "duration": 100,
               "redraw": true
              },
              "fromcurrent": true,
              "mode": "immediate"
             }
            ],
            "label": "6",
            "method": "animate"
           },
           {
            "args": [
             [
              "7"
             ],
             {
              "frame": {
               "duration": 100,
               "redraw": true
              },
              "fromcurrent": true,
              "mode": "immediate"
             }
            ],
            "label": "7",
            "method": "animate"
           },
           {
            "args": [
             [
              "8"
             ],
             {
              "frame": {
               "duration": 100,
               "redraw": true
              },
              "fromcurrent": true,
              "mode": "immediate"
             }
            ],
            "label": "8",
            "method": "animate"
           },
           {
            "args": [
             [
              "9"
             ],
             {
              "frame": {
               "duration": 100,
               "redraw": true
              },
              "fromcurrent": true,
              "mode": "immediate"
             }
            ],
            "label": "9",
            "method": "animate"
           },
           {
            "args": [
             [
              "10"
             ],
             {
              "frame": {
               "duration": 100,
               "redraw": true
              },
              "fromcurrent": true,
              "mode": "immediate"
             }
            ],
            "label": "10",
            "method": "animate"
           },
           {
            "args": [
             [
              "11"
             ],
             {
              "frame": {
               "duration": 100,
               "redraw": true
              },
              "fromcurrent": true,
              "mode": "immediate"
             }
            ],
            "label": "11",
            "method": "animate"
           },
           {
            "args": [
             [
              "12"
             ],
             {
              "frame": {
               "duration": 100,
               "redraw": true
              },
              "fromcurrent": true,
              "mode": "immediate"
             }
            ],
            "label": "12",
            "method": "animate"
           },
           {
            "args": [
             [
              "13"
             ],
             {
              "frame": {
               "duration": 100,
               "redraw": true
              },
              "fromcurrent": true,
              "mode": "immediate"
             }
            ],
            "label": "13",
            "method": "animate"
           },
           {
            "args": [
             [
              "14"
             ],
             {
              "frame": {
               "duration": 100,
               "redraw": true
              },
              "fromcurrent": true,
              "mode": "immediate"
             }
            ],
            "label": "14",
            "method": "animate"
           },
           {
            "args": [
             [
              "15"
             ],
             {
              "frame": {
               "duration": 100,
               "redraw": true
              },
              "fromcurrent": true,
              "mode": "immediate"
             }
            ],
            "label": "15",
            "method": "animate"
           },
           {
            "args": [
             [
              "16"
             ],
             {
              "frame": {
               "duration": 100,
               "redraw": true
              },
              "fromcurrent": true,
              "mode": "immediate"
             }
            ],
            "label": "16",
            "method": "animate"
           },
           {
            "args": [
             [
              "17"
             ],
             {
              "frame": {
               "duration": 100,
               "redraw": true
              },
              "fromcurrent": true,
              "mode": "immediate"
             }
            ],
            "label": "17",
            "method": "animate"
           },
           {
            "args": [
             [
              "18"
             ],
             {
              "frame": {
               "duration": 100,
               "redraw": true
              },
              "fromcurrent": true,
              "mode": "immediate"
             }
            ],
            "label": "18",
            "method": "animate"
           },
           {
            "args": [
             [
              "19"
             ],
             {
              "frame": {
               "duration": 100,
               "redraw": true
              },
              "fromcurrent": true,
              "mode": "immediate"
             }
            ],
            "label": "19",
            "method": "animate"
           },
           {
            "args": [
             [
              "20"
             ],
             {
              "frame": {
               "duration": 100,
               "redraw": true
              },
              "fromcurrent": true,
              "mode": "immediate"
             }
            ],
            "label": "20",
            "method": "animate"
           },
           {
            "args": [
             [
              "21"
             ],
             {
              "frame": {
               "duration": 100,
               "redraw": true
              },
              "fromcurrent": true,
              "mode": "immediate"
             }
            ],
            "label": "21",
            "method": "animate"
           },
           {
            "args": [
             [
              "22"
             ],
             {
              "frame": {
               "duration": 100,
               "redraw": true
              },
              "fromcurrent": true,
              "mode": "immediate"
             }
            ],
            "label": "22",
            "method": "animate"
           },
           {
            "args": [
             [
              "23"
             ],
             {
              "frame": {
               "duration": 100,
               "redraw": true
              },
              "fromcurrent": true,
              "mode": "immediate"
             }
            ],
            "label": "23",
            "method": "animate"
           },
           {
            "args": [
             [
              "24"
             ],
             {
              "frame": {
               "duration": 100,
               "redraw": true
              },
              "fromcurrent": true,
              "mode": "immediate"
             }
            ],
            "label": "24",
            "method": "animate"
           },
           {
            "args": [
             [
              "25"
             ],
             {
              "frame": {
               "duration": 100,
               "redraw": true
              },
              "fromcurrent": true,
              "mode": "immediate"
             }
            ],
            "label": "25",
            "method": "animate"
           },
           {
            "args": [
             [
              "26"
             ],
             {
              "frame": {
               "duration": 100,
               "redraw": true
              },
              "fromcurrent": true,
              "mode": "immediate"
             }
            ],
            "label": "26",
            "method": "animate"
           },
           {
            "args": [
             [
              "27"
             ],
             {
              "frame": {
               "duration": 100,
               "redraw": true
              },
              "fromcurrent": true,
              "mode": "immediate"
             }
            ],
            "label": "27",
            "method": "animate"
           },
           {
            "args": [
             [
              "28"
             ],
             {
              "frame": {
               "duration": 100,
               "redraw": true
              },
              "fromcurrent": true,
              "mode": "immediate"
             }
            ],
            "label": "28",
            "method": "animate"
           },
           {
            "args": [
             [
              "29"
             ],
             {
              "frame": {
               "duration": 100,
               "redraw": true
              },
              "fromcurrent": true,
              "mode": "immediate"
             }
            ],
            "label": "29",
            "method": "animate"
           },
           {
            "args": [
             [
              "30"
             ],
             {
              "frame": {
               "duration": 100,
               "redraw": true
              },
              "fromcurrent": true,
              "mode": "immediate"
             }
            ],
            "label": "30",
            "method": "animate"
           }
          ],
          "x": 0.1,
          "y": 0
         }
        ],
        "template": {
         "data": {
          "pie": [
           {
            "automargin": true,
            "type": "pie"
           }
          ],
          "scatter": [
           {
            "line": {
             "width": 3
            },
            "marker": {
             "size": 9
            },
            "type": "scatter"
           }
          ],
          "scatter3d": [
           {
            "line": {
             "width": 3
            },
            "marker": {
             "size": 9
            },
            "type": "scatter3d"
           }
          ],
          "scattergeo": [
           {
            "line": {
             "width": 3
            },
            "marker": {
             "size": 9
            },
            "type": "scattergeo"
           }
          ],
          "scattergl": [
           {
            "line": {
             "width": 3
            },
            "marker": {
             "size": 9
            },
            "type": "scattergl"
           }
          ],
          "scatterpolar": [
           {
            "line": {
             "width": 3
            },
            "marker": {
             "size": 9
            },
            "type": "scatterpolar"
           }
          ],
          "scatterpolargl": [
           {
            "line": {
             "width": 3
            },
            "marker": {
             "size": 9
            },
            "type": "scatterpolargl"
           }
          ],
          "scatterternary": [
           {
            "line": {
             "width": 3
            },
            "marker": {
             "size": 9
            },
            "type": "scatterternary"
           }
          ],
          "table": [
           {
            "cells": {
             "height": 30
            },
            "header": {
             "height": 36
            },
            "type": "table"
           }
          ]
         },
         "layout": {
          "font": {
           "size": 18
          },
          "xaxis": {
           "title": {
            "standoff": 15
           }
          },
          "yaxis": {
           "title": {
            "standoff": 15
           }
          }
         }
        },
        "title": {
         "text": "Quaternion Rotation Animation"
        },
        "updatemenus": [
         {
          "active": 0,
          "buttons": [
           {
            "args": [
             null,
             {
              "frame": {
               "duration": 100,
               "redraw": true
              },
              "fromcurrent": true,
              "mode": "immediate"
             }
            ],
            "label": "Play",
            "method": "animate"
           }
          ],
          "showactive": false,
          "type": "buttons",
          "x": -0.02,
          "xanchor": "left",
          "y": -0.13,
          "yanchor": "bottom"
         }
        ],
        "width": 1000
       }
      },
      "text/html": [
       "<div>                            <div id=\"e49f26f1-b200-499f-8e1f-8c3aea66f8c2\" class=\"plotly-graph-div\" style=\"height:800px; width:1000px;\"></div>            <script type=\"text/javascript\">                require([\"plotly\"], function(Plotly) {                    window.PLOTLYENV=window.PLOTLYENV || {};                                    if (document.getElementById(\"e49f26f1-b200-499f-8e1f-8c3aea66f8c2\")) {                    Plotly.newPlot(                        \"e49f26f1-b200-499f-8e1f-8c3aea66f8c2\",                        [{\"line\":{\"color\":\"red\",\"dash\":\"dot\"},\"marker\":{\"color\":\"red\"},\"mode\":\"lines+markers\",\"name\":\"N_i (static)\",\"x\":[0,1.0],\"y\":[0,0.0],\"z\":[0,0.0],\"type\":\"scatter3d\"},{\"line\":{\"color\":\"green\",\"dash\":\"dot\"},\"marker\":{\"color\":\"green\"},\"mode\":\"lines+markers\",\"name\":\"N_j (static)\",\"x\":[0,0.0],\"y\":[0,1.0],\"z\":[0,0.0],\"type\":\"scatter3d\"},{\"line\":{\"color\":\"blue\",\"dash\":\"dot\"},\"marker\":{\"color\":\"blue\"},\"mode\":\"lines+markers\",\"name\":\"N_k (static)\",\"x\":[0,0.0],\"y\":[0,0.0],\"z\":[0,1.0],\"type\":\"scatter3d\"},{\"line\":{\"color\":\"red\",\"dash\":\"solid\"},\"marker\":{\"color\":\"red\"},\"mode\":\"lines+markers\",\"name\":\"E_i\",\"x\":[0,1.0],\"y\":[0,0.0],\"z\":[0,0.0],\"type\":\"scatter3d\"},{\"line\":{\"color\":\"green\",\"dash\":\"solid\"},\"marker\":{\"color\":\"green\"},\"mode\":\"lines+markers\",\"name\":\"E_j\",\"x\":[0,0.0],\"y\":[0,1.0],\"z\":[0,0.0],\"type\":\"scatter3d\"},{\"line\":{\"color\":\"blue\",\"dash\":\"solid\"},\"marker\":{\"color\":\"blue\"},\"mode\":\"lines+markers\",\"name\":\"E_k\",\"x\":[0,0.0],\"y\":[0,0.0],\"z\":[0,1.0],\"type\":\"scatter3d\"},{\"hoverinfo\":\"text+name\",\"line\":{\"color\":\"purple\",\"width\":5},\"mode\":\"lines+markers\",\"name\":\"Rotation Axis (normalized)\",\"text\":\"x: 0.58\\u003cbr\\u003ey: 0.58\\u003cbr\\u003ez: 0.58\\u003cbr\\u003eNorm: 1.00\",\"x\":[0,0.5773502691896258],\"y\":[0,0.5773502691896258],\"z\":[0,0.5773502691896258],\"type\":\"scatter3d\"}],                        {\"template\":{\"data\":{\"pie\":[{\"automargin\":true,\"type\":\"pie\"}],\"scatter3d\":[{\"line\":{\"width\":3},\"marker\":{\"size\":9},\"type\":\"scatter3d\"}],\"scattergeo\":[{\"line\":{\"width\":3},\"marker\":{\"size\":9},\"type\":\"scattergeo\"}],\"scattergl\":[{\"line\":{\"width\":3},\"marker\":{\"size\":9},\"type\":\"scattergl\"}],\"scatterpolargl\":[{\"line\":{\"width\":3},\"marker\":{\"size\":9},\"type\":\"scatterpolargl\"}],\"scatterpolar\":[{\"line\":{\"width\":3},\"marker\":{\"size\":9},\"type\":\"scatterpolar\"}],\"scatter\":[{\"line\":{\"width\":3},\"marker\":{\"size\":9},\"type\":\"scatter\"}],\"scatterternary\":[{\"line\":{\"width\":3},\"marker\":{\"size\":9},\"type\":\"scatterternary\"}],\"table\":[{\"cells\":{\"height\":30},\"header\":{\"height\":36},\"type\":\"table\"}]},\"layout\":{\"font\":{\"size\":18},\"xaxis\":{\"title\":{\"standoff\":15}},\"yaxis\":{\"title\":{\"standoff\":15}}}},\"updatemenus\":[{\"buttons\":[{\"args\":[null,{\"frame\":{\"duration\":100,\"redraw\":true},\"fromcurrent\":true,\"mode\":\"immediate\"}],\"label\":\"Play\",\"method\":\"animate\"}],\"showactive\":false,\"type\":\"buttons\",\"x\":-0.02,\"xanchor\":\"left\",\"y\":-0.13,\"yanchor\":\"bottom\"}],\"sliders\":[{\"currentvalue\":{\"prefix\":\"Step: \",\"visible\":true},\"steps\":[{\"args\":[[\"0\"],{\"mode\":\"immediate\",\"frame\":{\"duration\":100,\"redraw\":true},\"fromcurrent\":true}],\"label\":\"0\",\"method\":\"animate\"},{\"args\":[[\"1\"],{\"mode\":\"immediate\",\"frame\":{\"duration\":100,\"redraw\":true},\"fromcurrent\":true}],\"label\":\"1\",\"method\":\"animate\"},{\"args\":[[\"2\"],{\"mode\":\"immediate\",\"frame\":{\"duration\":100,\"redraw\":true},\"fromcurrent\":true}],\"label\":\"2\",\"method\":\"animate\"},{\"args\":[[\"3\"],{\"mode\":\"immediate\",\"frame\":{\"duration\":100,\"redraw\":true},\"fromcurrent\":true}],\"label\":\"3\",\"method\":\"animate\"},{\"args\":[[\"4\"],{\"mode\":\"immediate\",\"frame\":{\"duration\":100,\"redraw\":true},\"fromcurrent\":true}],\"label\":\"4\",\"method\":\"animate\"},{\"args\":[[\"5\"],{\"mode\":\"immediate\",\"frame\":{\"duration\":100,\"redraw\":true},\"fromcurrent\":true}],\"label\":\"5\",\"method\":\"animate\"},{\"args\":[[\"6\"],{\"mode\":\"immediate\",\"frame\":{\"duration\":100,\"redraw\":true},\"fromcurrent\":true}],\"label\":\"6\",\"method\":\"animate\"},{\"args\":[[\"7\"],{\"mode\":\"immediate\",\"frame\":{\"duration\":100,\"redraw\":true},\"fromcurrent\":true}],\"label\":\"7\",\"method\":\"animate\"},{\"args\":[[\"8\"],{\"mode\":\"immediate\",\"frame\":{\"duration\":100,\"redraw\":true},\"fromcurrent\":true}],\"label\":\"8\",\"method\":\"animate\"},{\"args\":[[\"9\"],{\"mode\":\"immediate\",\"frame\":{\"duration\":100,\"redraw\":true},\"fromcurrent\":true}],\"label\":\"9\",\"method\":\"animate\"},{\"args\":[[\"10\"],{\"mode\":\"immediate\",\"frame\":{\"duration\":100,\"redraw\":true},\"fromcurrent\":true}],\"label\":\"10\",\"method\":\"animate\"},{\"args\":[[\"11\"],{\"mode\":\"immediate\",\"frame\":{\"duration\":100,\"redraw\":true},\"fromcurrent\":true}],\"label\":\"11\",\"method\":\"animate\"},{\"args\":[[\"12\"],{\"mode\":\"immediate\",\"frame\":{\"duration\":100,\"redraw\":true},\"fromcurrent\":true}],\"label\":\"12\",\"method\":\"animate\"},{\"args\":[[\"13\"],{\"mode\":\"immediate\",\"frame\":{\"duration\":100,\"redraw\":true},\"fromcurrent\":true}],\"label\":\"13\",\"method\":\"animate\"},{\"args\":[[\"14\"],{\"mode\":\"immediate\",\"frame\":{\"duration\":100,\"redraw\":true},\"fromcurrent\":true}],\"label\":\"14\",\"method\":\"animate\"},{\"args\":[[\"15\"],{\"mode\":\"immediate\",\"frame\":{\"duration\":100,\"redraw\":true},\"fromcurrent\":true}],\"label\":\"15\",\"method\":\"animate\"},{\"args\":[[\"16\"],{\"mode\":\"immediate\",\"frame\":{\"duration\":100,\"redraw\":true},\"fromcurrent\":true}],\"label\":\"16\",\"method\":\"animate\"},{\"args\":[[\"17\"],{\"mode\":\"immediate\",\"frame\":{\"duration\":100,\"redraw\":true},\"fromcurrent\":true}],\"label\":\"17\",\"method\":\"animate\"},{\"args\":[[\"18\"],{\"mode\":\"immediate\",\"frame\":{\"duration\":100,\"redraw\":true},\"fromcurrent\":true}],\"label\":\"18\",\"method\":\"animate\"},{\"args\":[[\"19\"],{\"mode\":\"immediate\",\"frame\":{\"duration\":100,\"redraw\":true},\"fromcurrent\":true}],\"label\":\"19\",\"method\":\"animate\"},{\"args\":[[\"20\"],{\"mode\":\"immediate\",\"frame\":{\"duration\":100,\"redraw\":true},\"fromcurrent\":true}],\"label\":\"20\",\"method\":\"animate\"},{\"args\":[[\"21\"],{\"mode\":\"immediate\",\"frame\":{\"duration\":100,\"redraw\":true},\"fromcurrent\":true}],\"label\":\"21\",\"method\":\"animate\"},{\"args\":[[\"22\"],{\"mode\":\"immediate\",\"frame\":{\"duration\":100,\"redraw\":true},\"fromcurrent\":true}],\"label\":\"22\",\"method\":\"animate\"},{\"args\":[[\"23\"],{\"mode\":\"immediate\",\"frame\":{\"duration\":100,\"redraw\":true},\"fromcurrent\":true}],\"label\":\"23\",\"method\":\"animate\"},{\"args\":[[\"24\"],{\"mode\":\"immediate\",\"frame\":{\"duration\":100,\"redraw\":true},\"fromcurrent\":true}],\"label\":\"24\",\"method\":\"animate\"},{\"args\":[[\"25\"],{\"mode\":\"immediate\",\"frame\":{\"duration\":100,\"redraw\":true},\"fromcurrent\":true}],\"label\":\"25\",\"method\":\"animate\"},{\"args\":[[\"26\"],{\"mode\":\"immediate\",\"frame\":{\"duration\":100,\"redraw\":true},\"fromcurrent\":true}],\"label\":\"26\",\"method\":\"animate\"},{\"args\":[[\"27\"],{\"mode\":\"immediate\",\"frame\":{\"duration\":100,\"redraw\":true},\"fromcurrent\":true}],\"label\":\"27\",\"method\":\"animate\"},{\"args\":[[\"28\"],{\"mode\":\"immediate\",\"frame\":{\"duration\":100,\"redraw\":true},\"fromcurrent\":true}],\"label\":\"28\",\"method\":\"animate\"},{\"args\":[[\"29\"],{\"mode\":\"immediate\",\"frame\":{\"duration\":100,\"redraw\":true},\"fromcurrent\":true}],\"label\":\"29\",\"method\":\"animate\"},{\"args\":[[\"30\"],{\"mode\":\"immediate\",\"frame\":{\"duration\":100,\"redraw\":true},\"fromcurrent\":true}],\"label\":\"30\",\"method\":\"animate\"}],\"x\":0.1,\"y\":0}],\"scene\":{\"xaxis\":{\"range\":[-1,1],\"autorange\":false},\"yaxis\":{\"range\":[-1,1],\"autorange\":false},\"zaxis\":{\"range\":[-1,1],\"autorange\":false},\"aspectmode\":\"cube\"},\"width\":1000,\"height\":800,\"title\":{\"text\":\"Quaternion Rotation Animation\"}},                        {\"responsive\": true}                    ).then(function(){\n",
       "                            Plotly.addFrames('e49f26f1-b200-499f-8e1f-8c3aea66f8c2', [{\"data\":[{\"marker\":{\"color\":\"red\"},\"mode\":\"lines+markers\",\"x\":[0,1.0],\"y\":[0,0.0],\"z\":[0,0.0],\"type\":\"scatter3d\"},{\"marker\":{\"color\":\"green\"},\"mode\":\"lines+markers\",\"x\":[0,0.0],\"y\":[0,1.0],\"z\":[0,0.0],\"type\":\"scatter3d\"},{\"marker\":{\"color\":\"blue\"},\"mode\":\"lines+markers\",\"x\":[0,0.0],\"y\":[0,0.0],\"z\":[0,1.0],\"type\":\"scatter3d\"}],\"name\":\"0\",\"traces\":[3,4,5]},{\"data\":[{\"marker\":{\"color\":\"red\"},\"mode\":\"lines+markers\",\"x\":[0,0.9994263045191348],\"y\":[0,0.02423363533264282],\"z\":[0,-0.023659939851777806],\"type\":\"scatter3d\"},{\"marker\":{\"color\":\"green\"},\"mode\":\"lines+markers\",\"x\":[0,-0.023659939851777806],\"y\":[0,0.9994263045191348],\"z\":[0,0.02423363533264282],\"type\":\"scatter3d\"},{\"marker\":{\"color\":\"blue\"},\"mode\":\"lines+markers\",\"x\":[0,0.02423363533264282],\"y\":[0,-0.023659939851777806],\"z\":[0,0.9994263045191348],\"type\":\"scatter3d\"}],\"name\":\"1\",\"traces\":[3,4,5]},{\"data\":[{\"marker\":{\"color\":\"red\"},\"mode\":\"lines+markers\",\"x\":[0,0.9977062054560544],\"y\":[0,0.04899925796492484],\"z\":[0,-0.04670546342097909],\"type\":\"scatter3d\"},{\"marker\":{\"color\":\"green\"},\"mode\":\"lines+markers\",\"x\":[0,-0.04670546342097909],\"y\":[0,0.9977062054560544],\"z\":[0,0.04899925796492484],\"type\":\"scatter3d\"},{\"marker\":{\"color\":\"blue\"},\"mode\":\"lines+markers\",\"x\":[0,0.04899925796492484],\"y\":[0,-0.04670546342097909],\"z\":[0,0.9977062054560544],\"type\":\"scatter3d\"}],\"name\":\"2\",\"traces\":[3,4,5]},{\"data\":[{\"marker\":{\"color\":\"red\"},\"mode\":\"lines+markers\",\"x\":[0,0.9948426632499352],\"y\":[0,0.07425424411949123],\"z\":[0,-0.0690969073694264],\"type\":\"scatter3d\"},{\"marker\":{\"color\":\"green\"},\"mode\":\"lines+markers\",\"x\":[0,-0.0690969073694264],\"y\":[0,0.9948426632499352],\"z\":[0,0.07425424411949123],\"type\":\"scatter3d\"},{\"marker\":{\"color\":\"blue\"},\"mode\":\"lines+markers\",\"x\":[0,0.07425424411949123],\"y\":[0,-0.0690969073694264],\"z\":[0,0.9948426632499352],\"type\":\"scatter3d\"}],\"name\":\"3\",\"traces\":[3,4,5]},{\"data\":[{\"marker\":{\"color\":\"red\"},\"mode\":\"lines+markers\",\"x\":[0,0.9908406063044465],\"y\":[0,0.09995512778206343],\"z\":[0,-0.09079573408650994],\"type\":\"scatter3d\"},{\"marker\":{\"color\":\"green\"},\"mode\":\"lines+markers\",\"x\":[0,-0.09079573408650994],\"y\":[0,0.9908406063044465],\"z\":[0,0.09995512778206343],\"type\":\"scatter3d\"},{\"marker\":{\"color\":\"blue\"},\"mode\":\"lines+markers\",\"x\":[0,0.09995512778206343],\"y\":[0,-0.09079573408650994],\"z\":[0,0.9908406063044465],\"type\":\"scatter3d\"}],\"name\":\"4\",\"traces\":[3,4,5]},{\"data\":[{\"marker\":{\"color\":\"red\"},\"mode\":\"lines+markers\",\"x\":[0,0.9857069225055396],\"y\":[0,0.1260576755102071],\"z\":[0,-0.11176459801574672],\"type\":\"scatter3d\"},{\"marker\":{\"color\":\"green\"},\"mode\":\"lines+markers\",\"x\":[0,-0.11176459801574672],\"y\":[0,0.9857069225055396],\"z\":[0,0.1260576755102071],\"type\":\"scatter3d\"},{\"marker\":{\"color\":\"blue\"},\"mode\":\"lines+markers\",\"x\":[0,0.1260576755102071],\"y\":[0,-0.11176459801574672],\"z\":[0,0.9857069225055396],\"type\":\"scatter3d\"}],\"name\":\"5\",\"traces\":[3,4,5]},{\"data\":[{\"marker\":{\"color\":\"red\"},\"mode\":\"lines+markers\",\"x\":[0,0.9794504473668014],\"y\":[0,0.1525169625629101],\"z\":[0,-0.13196740992971148],\"type\":\"scatter3d\"},{\"marker\":{\"color\":\"green\"},\"mode\":\"lines+markers\",\"x\":[0,-0.13196740992971148],\"y\":[0,0.9794504473668014],\"z\":[0,0.1525169625629101],\"type\":\"scatter3d\"},{\"marker\":{\"color\":\"blue\"},\"mode\":\"lines+markers\",\"x\":[0,0.1525169625629101],\"y\":[0,-0.13196740992971148],\"z\":[0,0.9794504473668014],\"type\":\"scatter3d\"}],\"name\":\"6\",\"traces\":[3,4,5]},{\"data\":[{\"marker\":{\"color\":\"red\"},\"mode\":\"lines+markers\",\"x\":[0,0.9720819488227717],\"y\":[0,0.1792874502199453],\"z\":[0,-0.15136939904271685],\"type\":\"scatter3d\"},{\"marker\":{\"color\":\"green\"},\"mode\":\"lines+markers\",\"x\":[0,-0.15136939904271685],\"y\":[0,0.9720819488227717],\"z\":[0,0.1792874502199453],\"type\":\"scatter3d\"},{\"marker\":{\"color\":\"blue\"},\"mode\":\"lines+markers\",\"x\":[0,0.1792874502199453],\"y\":[0,-0.15136939904271685],\"z\":[0,0.9720819488227717],\"type\":\"scatter3d\"}],\"name\":\"7\",\"traces\":[3,4,5]},{\"data\":[{\"marker\":{\"color\":\"red\"},\"mode\":\"lines+markers\",\"x\":[0,0.9636141086963965],\"y\":[0,0.20632306415794455],\"z\":[0,-0.169937172854341],\"type\":\"scatter3d\"},{\"marker\":{\"color\":\"green\"},\"mode\":\"lines+markers\",\"x\":[0,-0.169937172854341],\"y\":[0,0.9636141086963965],\"z\":[0,0.20632306415794455],\"type\":\"scatter3d\"},{\"marker\":{\"color\":\"blue\"},\"mode\":\"lines+markers\",\"x\":[0,0.20632306415794455],\"y\":[0,-0.169937172854341],\"z\":[0,0.9636141086963965],\"type\":\"scatter3d\"}],\"name\":\"8\",\"traces\":[3,4,5]},{\"data\":[{\"marker\":{\"color\":\"red\"},\"mode\":\"lines+markers\",\"x\":[0,0.9540615008725157],\"y\":[0,0.23357727374829185],\"z\":[0,-0.18763877462080758],\"type\":\"scatter3d\"},{\"marker\":{\"color\":\"green\"},\"mode\":\"lines+markers\",\"x\":[0,-0.18763877462080758],\"y\":[0,0.9540615008725157],\"z\":[0,0.23357727374829185],\"type\":\"scatter3d\"},{\"marker\":{\"color\":\"blue\"},\"mode\":\"lines+markers\",\"x\":[0,0.23357727374829185],\"y\":[0,-0.18763877462080758],\"z\":[0,0.9540615008725157],\"type\":\"scatter3d\"}],\"name\":\"9\",\"traces\":[3,4,5]},{\"data\":[{\"marker\":{\"color\":\"red\"},\"mode\":\"lines+markers\",\"x\":[0,0.9434405662149464],\"y\":[0,0.2610031721403578],\"z\":[0,-0.2044437383553042],\"type\":\"scatter3d\"},{\"marker\":{\"color\":\"green\"},\"mode\":\"lines+markers\",\"x\":[0,-0.2044437383553042],\"y\":[0,0.9434405662149464],\"z\":[0,0.2610031721403578],\"type\":\"scatter3d\"},{\"marker\":{\"color\":\"blue\"},\"mode\":\"lines+markers\",\"x\":[0,0.2610031721403578],\"y\":[0,-0.2044437383553042],\"z\":[0,0.9434405662149464],\"type\":\"scatter3d\"}],\"name\":\"10\",\"traces\":[3,4,5]},{\"data\":[{\"marker\":{\"color\":\"red\"},\"mode\":\"lines+markers\",\"x\":[0,0.9317695842703354],\"y\":[0,0.28855355699224355],\"z\":[0,-0.22032314126257896],\"type\":\"scatter3d\"},{\"marker\":{\"color\":\"green\"},\"mode\":\"lines+markers\",\"x\":[0,-0.22032314126257896],\"y\":[0,0.9317695842703354],\"z\":[0,0.28855355699224355],\"type\":\"scatter3d\"},{\"marker\":{\"color\":\"blue\"},\"mode\":\"lines+markers\",\"x\":[0,0.28855355699224355],\"y\":[0,-0.22032314126257896],\"z\":[0,0.9317695842703354],\"type\":\"scatter3d\"}],\"name\":\"11\",\"traces\":[3,4,5]},{\"data\":[{\"marker\":{\"color\":\"red\"},\"mode\":\"lines+markers\",\"x\":[0,0.9190686418074794],\"y\":[0,0.31618101171009244],\"z\":[0,-0.23524965351757182],\"type\":\"scatter3d\"},{\"marker\":{\"color\":\"green\"},\"mode\":\"lines+markers\",\"x\":[0,-0.23524965351757182],\"y\":[0,0.9190686418074794],\"z\":[0,0.31618101171009244],\"type\":\"scatter3d\"},{\"marker\":{\"color\":\"blue\"},\"mode\":\"lines+markers\",\"x\":[0,0.31618101171009244],\"y\":[0,-0.23524965351757182],\"z\":[0,0.9190686418074794],\"type\":\"scatter3d\"}],\"name\":\"12\",\"traces\":[3,4,5]},{\"data\":[{\"marker\":{\"color\":\"red\"},\"mode\":\"lines+markers\",\"x\":[0,0.9053595982462592],\"y\":[0,0.34383798705614615],\"z\":[0,-0.24919758530240538],\"type\":\"scatter3d\"},{\"marker\":{\"color\":\"green\"},\"mode\":\"lines+markers\",\"x\":[0,-0.24919758530240538],\"y\":[0,0.9053595982462592],\"z\":[0,0.34383798705614615],\"type\":\"scatter3d\"},{\"marker\":{\"color\":\"blue\"},\"mode\":\"lines+markers\",\"x\":[0,0.34383798705614615],\"y\":[0,-0.24919758530240538],\"z\":[0,0.9053595982462592],\"type\":\"scatter3d\"}],\"name\":\"13\",\"traces\":[3,4,5]},{\"data\":[{\"marker\":{\"color\":\"red\"},\"mode\":\"lines+markers\",\"x\":[0,0.890666048035689],\"y\":[0,0.37147688298509335],\"z\":[0,-0.2621429310207825],\"type\":\"scatter3d\"},{\"marker\":{\"color\":\"green\"},\"mode\":\"lines+markers\",\"x\":[0,-0.2621429310207825],\"y\":[0,0.890666048035689],\"z\":[0,0.37147688298509335],\"type\":\"scatter3d\"},{\"marker\":{\"color\":\"blue\"},\"mode\":\"lines+markers\",\"x\":[0,0.37147688298509335],\"y\":[0,-0.2621429310207825],\"z\":[0,0.890666048035689],\"type\":\"scatter3d\"}],\"name\":\"14\",\"traces\":[3,4,5]},{\"data\":[{\"marker\":{\"color\":\"red\"},\"mode\":\"lines+markers\",\"x\":[0,0.8750132800458302],\"y\":[0,0.3990501305678624],\"z\":[0,-0.27406341061369266],\"type\":\"scatter3d\"},{\"marker\":{\"color\":\"green\"},\"mode\":\"lines+markers\",\"x\":[0,-0.27406341061369266],\"y\":[0,0.8750132800458302],\"z\":[0,0.3990501305678624],\"type\":\"scatter3d\"},{\"marker\":{\"color\":\"blue\"},\"mode\":\"lines+markers\",\"x\":[0,0.3990501305678624],\"y\":[0,-0.27406341061369266],\"z\":[0,0.8750132800458302],\"type\":\"scatter3d\"}],\"name\":\"15\",\"traces\":[3,4,5]},{\"data\":[{\"marker\":{\"color\":\"red\"},\"mode\":\"lines+markers\",\"x\":[0,0.8584282340434588],\"y\":[0,0.42651027386186047],\"z\":[0,-0.28493850790531916],\"type\":\"scatter3d\"},{\"marker\":{\"color\":\"green\"},\"mode\":\"lines+markers\",\"x\":[0,-0.28493850790531916],\"y\":[0,0.8584282340434588],\"z\":[0,0.42651027386186047],\"type\":\"scatter3d\"},{\"marker\":{\"color\":\"blue\"},\"mode\":\"lines+markers\",\"x\":[0,0.42651027386186047],\"y\":[0,-0.28493850790531916],\"z\":[0,0.8584282340434588],\"type\":\"scatter3d\"}],\"name\":\"16\",\"traces\":[3,4,5]},{\"data\":[{\"marker\":{\"color\":\"red\"},\"mode\":\"lines+markers\",\"x\":[0,0.8409394543263993],\"y\":[0,0.4538100515867523],\"z\":[0,-0.2947495059131516],\"type\":\"scatter3d\"},{\"marker\":{\"color\":\"green\"},\"mode\":\"lines+markers\",\"x\":[0,-0.2947495059131516],\"y\":[0,0.8409394543263993],\"z\":[0,0.4538100515867523],\"type\":\"scatter3d\"},{\"marker\":{\"color\":\"blue\"},\"mode\":\"lines+markers\",\"x\":[0,0.4538100515867523],\"y\":[0,-0.2947495059131516],\"z\":[0,0.8409394543263993],\"type\":\"scatter3d\"}],\"name\":\"17\",\"traces\":[3,4,5]},{\"data\":[{\"marker\":{\"color\":\"red\"},\"mode\":\"lines+markers\",\"x\":[0,0.8225770405963205],\"y\":[0,0.4809024784652099],\"z\":[0,-0.3034795190615303],\"type\":\"scatter3d\"},{\"marker\":{\"color\":\"green\"},\"mode\":\"lines+markers\",\"x\":[0,-0.3034795190615303],\"y\":[0,0.8225770405963205],\"z\":[0,0.4809024784652099],\"type\":\"scatter3d\"},{\"marker\":{\"color\":\"blue\"},\"mode\":\"lines+markers\",\"x\":[0,0.4809024784652099],\"y\":[0,-0.3034795190615303],\"z\":[0,0.8225770405963205],\"type\":\"scatter3d\"}],\"name\":\"18\",\"traces\":[3,4,5]},{\"data\":[{\"marker\":{\"color\":\"red\"},\"mode\":\"lines+markers\",\"x\":[0,0.8033725961545466],\"y\":[0,0.5077409260886356],\"z\":[0,-0.31111352224318195],\"type\":\"scatter3d\"},{\"marker\":{\"color\":\"green\"},\"mode\":\"lines+markers\",\"x\":[0,-0.31111352224318195],\"y\":[0,0.8033725961545466],\"z\":[0,0.5077409260886356],\"type\":\"scatter3d\"},{\"marker\":{\"color\":\"blue\"},\"mode\":\"lines+markers\",\"x\":[0,0.5077409260886356],\"y\":[0,-0.31111352224318195],\"z\":[0,0.8033725961545466],\"type\":\"scatter3d\"}],\"name\":\"19\",\"traces\":[3,4,5]},{\"data\":[{\"marker\":{\"color\":\"red\"},\"mode\":\"lines+markers\",\"x\":[0,0.7833591735100434],\"y\":[0,0.5342792031686846],\"z\":[0,-0.31763837667872785],\"type\":\"scatter3d\"},{\"marker\":{\"color\":\"green\"},\"mode\":\"lines+markers\",\"x\":[0,-0.31763837667872785],\"y\":[0,0.7833591735100434],\"z\":[0,0.5342792031686846],\"type\":\"scatter3d\"},{\"marker\":{\"color\":\"blue\"},\"mode\":\"lines+markers\",\"x\":[0,0.5342792031686846],\"y\":[0,-0.31763837667872785],\"z\":[0,0.7833591735100434],\"type\":\"scatter3d\"}],\"name\":\"20\",\"traces\":[3,4,5]},{\"data\":[{\"marker\":{\"color\":\"red\"},\"mode\":\"lines+markers\",\"x\":[0,0.7625712174931947],\"y\":[0,0.5604716350364645],\"z\":[0,-0.3230428525296591],\"type\":\"scatter3d\"},{\"marker\":{\"color\":\"green\"},\"mode\":\"lines+markers\",\"x\":[0,-0.3230428525296591],\"y\":[0,0.7625712174931947],\"z\":[0,0.5604716350364645],\"type\":\"scatter3d\"},{\"marker\":{\"color\":\"blue\"},\"mode\":\"lines+markers\",\"x\":[0,0.5604716350364645],\"y\":[0,-0.3230428525296591],\"z\":[0,0.7625712174931947],\"type\":\"scatter3d\"}],\"name\":\"21\",\"traces\":[3,4,5]},{\"data\":[{\"marker\":{\"color\":\"red\"},\"mode\":\"lines+markers\",\"x\":[0,0.7410445059732703],\"y\":[0,0.5862731422525889],\"z\":[0,-0.32731764822585924],\"type\":\"scatter3d\"},{\"marker\":{\"color\":\"green\"},\"mode\":\"lines+markers\",\"x\":[0,-0.32731764822585924],\"y\":[0,0.7410445059732703],\"z\":[0,0.5862731422525889],\"type\":\"scatter3d\"},{\"marker\":{\"color\":\"blue\"},\"mode\":\"lines+markers\",\"x\":[0,0.5862731422525889],\"y\":[0,-0.32731764822585924],\"z\":[0,0.7410445059732703],\"type\":\"scatter3d\"}],\"name\":\"22\",\"traces\":[3,4,5]},{\"data\":[{\"marker\":{\"color\":\"red\"},\"mode\":\"lines+markers\",\"x\":[0,0.7188160882816208],\"y\":[0,0.61163931819279],\"z\":[0,-0.33045540647441085],\"type\":\"scatter3d\"},{\"marker\":{\"color\":\"green\"},\"mode\":\"lines+markers\",\"x\":[0,-0.33045540647441085],\"y\":[0,0.7188160882816208],\"z\":[0,0.61163931819279],\"type\":\"scatter3d\"},{\"marker\":{\"color\":\"blue\"},\"mode\":\"lines+markers\",\"x\":[0,0.61163931819279],\"y\":[0,-0.33045540647441085],\"z\":[0,0.7188160882816208],\"type\":\"scatter3d\"}],\"name\":\"23\",\"traces\":[3,4,5]},{\"data\":[{\"marker\":{\"color\":\"red\"},\"mode\":\"lines+markers\",\"x\":[0,0.6959242214465757],\"y\":[0,0.6365265054755564],\"z\":[0,-0.33245072692213207],\"type\":\"scatter3d\"},{\"marker\":{\"color\":\"green\"},\"mode\":\"lines+markers\",\"x\":[0,-0.33245072692213207],\"y\":[0,0.6959242214465757],\"z\":[0,0.6365265054755564],\"type\":\"scatter3d\"},{\"marker\":{\"color\":\"blue\"},\"mode\":\"lines+markers\",\"x\":[0,0.6365265054755564],\"y\":[0,-0.33245072692213207],\"z\":[0,0.6959242214465757],\"type\":\"scatter3d\"}],\"name\":\"24\",\"traces\":[3,4,5]},{\"data\":[{\"marker\":{\"color\":\"red\"},\"mode\":\"lines+markers\",\"x\":[0,0.6724083043497903],\"y\":[0,0.6608918711002614],\"z\":[0,-0.3333001754500517],\"type\":\"scatter3d\"},{\"marker\":{\"color\":\"green\"},\"mode\":\"lines+markers\",\"x\":[0,-0.3333001754500517],\"y\":[0,0.6724083043497903],\"z\":[0,0.6608918711002614],\"type\":\"scatter3d\"},{\"marker\":{\"color\":\"blue\"},\"mode\":\"lines+markers\",\"x\":[0,0.6608918711002614],\"y\":[0,-0.3333001754500517],\"z\":[0,0.6724083043497903],\"type\":\"scatter3d\"}],\"name\":\"25\",\"traces\":[3,4,5]},{\"data\":[{\"marker\":{\"color\":\"red\"},\"mode\":\"lines+markers\",\"x\":[0,0.6483088099173655],\"y\":[0,0.6846934801664597],\"z\":[0,-0.3330022900838248],\"type\":\"scatter3d\"},{\"marker\":{\"color\":\"green\"},\"mode\":\"lines+markers\",\"x\":[0,-0.3330022900838248],\"y\":[0,0.6483088099173655],\"z\":[0,0.6846934801664597],\"type\":\"scatter3d\"},{\"marker\":{\"color\":\"blue\"},\"mode\":\"lines+markers\",\"x\":[0,0.6846934801664597],\"y\":[0,-0.3330022900838248],\"z\":[0,0.6483088099173655],\"type\":\"scatter3d\"}],\"name\":\"26\",\"traces\":[3,4,5]},{\"data\":[{\"marker\":{\"color\":\"red\"},\"mode\":\"lines+markers\",\"x\":[0,0.6236672154624416],\"y\":[0,0.707890368047475],\"z\":[0,-0.3315575835099164],\"type\":\"scatter3d\"},{\"marker\":{\"color\":\"green\"},\"mode\":\"lines+markers\",\"x\":[0,-0.3315575835099164],\"y\":[0,0.6236672154624416],\"z\":[0,0.707890368047475],\"type\":\"scatter3d\"},{\"marker\":{\"color\":\"blue\"},\"mode\":\"lines+markers\",\"x\":[0,0.707890368047475],\"y\":[0,-0.3315575835099164],\"z\":[0,0.6236672154624416],\"type\":\"scatter3d\"}],\"name\":\"27\",\"traces\":[3,4,5]},{\"data\":[{\"marker\":{\"color\":\"red\"},\"mode\":\"lines+markers\",\"x\":[0,0.5985259312991594],\"y\":[0,0.7304426108940655],\"z\":[0,-0.3289685421932246],\"type\":\"scatter3d\"},{\"marker\":{\"color\":\"green\"},\"mode\":\"lines+markers\",\"x\":[0,-0.3289685421932246],\"y\":[0,0.5985259312991594],\"z\":[0,0.7304426108940655],\"type\":\"scatter3d\"},{\"marker\":{\"color\":\"blue\"},\"mode\":\"lines+markers\",\"x\":[0,0.7304426108940655],\"y\":[0,-0.3289685421932246],\"z\":[0,0.5985259312991594],\"type\":\"scatter3d\"}],\"name\":\"28\",\"traces\":[3,4,5]},{\"data\":[{\"marker\":{\"color\":\"red\"},\"mode\":\"lines+markers\",\"x\":[0,0.5729282277508416],\"y\":[0,0.752311394346817],\"z\":[0,-0.32523962209765866],\"type\":\"scatter3d\"},{\"marker\":{\"color\":\"green\"},\"mode\":\"lines+markers\",\"x\":[0,-0.32523962209765866],\"y\":[0,0.5729282277508418],\"z\":[0,0.752311394346817],\"type\":\"scatter3d\"},{\"marker\":{\"color\":\"blue\"},\"mode\":\"lines+markers\",\"x\":[0,0.752311394346817],\"y\":[0,-0.32523962209765866],\"z\":[0,0.5729282277508418],\"type\":\"scatter3d\"}],\"name\":\"29\",\"traces\":[3,4,5]},{\"data\":[{\"marker\":{\"color\":\"red\"},\"mode\":\"lines+markers\",\"x\":[0,0.5469181606780272],\"y\":[0,0.7734590803390139],\"z\":[0,-0.3203772410170408],\"type\":\"scatter3d\"},{\"marker\":{\"color\":\"green\"},\"mode\":\"lines+markers\",\"x\":[0,-0.3203772410170408],\"y\":[0,0.5469181606780272],\"z\":[0,0.7734590803390139],\"type\":\"scatter3d\"},{\"marker\":{\"color\":\"blue\"},\"mode\":\"lines+markers\",\"x\":[0,0.7734590803390139],\"y\":[0,-0.3203772410170408],\"z\":[0,0.5469181606780272],\"type\":\"scatter3d\"}],\"name\":\"30\",\"traces\":[3,4,5]}]);\n",
       "                        }).then(function(){\n",
       "                            \n",
       "var gd = document.getElementById('e49f26f1-b200-499f-8e1f-8c3aea66f8c2');\n",
       "var x = new MutationObserver(function (mutations, observer) {{\n",
       "        var display = window.getComputedStyle(gd).display;\n",
       "        if (!display || display === 'none') {{\n",
       "            console.log([gd, 'removed!']);\n",
       "            Plotly.purge(gd);\n",
       "            observer.disconnect();\n",
       "        }}\n",
       "}});\n",
       "\n",
       "// Listen for the removal of the full notebook cells\n",
       "var notebookContainer = gd.closest('#notebook-container');\n",
       "if (notebookContainer) {{\n",
       "    x.observe(notebookContainer, {childList: true});\n",
       "}}\n",
       "\n",
       "// Listen for the clearing of the current output cell\n",
       "var outputEl = gd.closest('.output');\n",
       "if (outputEl) {{\n",
       "    x.observe(outputEl, {childList: true});\n",
       "}}\n",
       "\n",
       "                        })                };                });            </script>        </div>"
      ]
     },
     "metadata": {},
     "output_type": "display_data"
    }
   ],
   "source": [
    "def Quaternion_rotation_animation(quaternion, steps=30):\n",
    "    \"\"\"\n",
    "    Creates a 3D animation of a rotation represented by a quaternion and displays the final orientation of the frame.\n",
    "\n",
    "    Args:\n",
    "        quaternion (list, tuple, np.ndarray): The quaternion representing the rotation (q0-first format).\n",
    "        steps (int, optional): The total number of steps in the animation. Defaults to 30.\n",
    "\n",
    "    Returns:\n",
    "        plotly.graph_objects.Figure: The figure object containing the animation.\n",
    "    \"\"\"\n",
    "    # Normalize the quaternion\n",
    "    quaternion = np.array(quaternion, dtype=np.float64)\n",
    "    quaternion /= np.linalg.norm(quaternion)\n",
    "\n",
    "    q0, q1, q2, q3 = quaternion\n",
    "\n",
    "    # Compute the rotation angle and axis\n",
    "    theta = 2 * np.arccos(q0)\n",
    "    sin_half_theta = np.sqrt(1 - q0**2)\n",
    "    if sin_half_theta < 1e-6:\n",
    "        # Angle is zero; axis can be any unit vector (default to x-axis)\n",
    "        axis = np.array([1, 0, 0])\n",
    "    else:\n",
    "        axis = np.array([q1, q2, q3]) / sin_half_theta\n",
    "\n",
    "    # Generate intermediate angles\n",
    "    angles = np.linspace(0, theta, steps + 1)\n",
    "\n",
    "    # Generate quaternions for each step\n",
    "    interpolated_quaternions = []\n",
    "    for angle in angles:\n",
    "        half_angle = angle / 2\n",
    "        q0_i = np.cos(half_angle)\n",
    "        sin_half_angle = np.sin(half_angle)\n",
    "        q_vec = axis * sin_half_angle\n",
    "        q_i = np.hstack(([q0_i], q_vec))\n",
    "        interpolated_quaternions.append(q_i)\n",
    "\n",
    "    # Convert quaternions to DCMs\n",
    "    rotation_matrices = [quaternion_to_DCM(q) for q in interpolated_quaternions]\n",
    "\n",
    "    # Initialize the figure\n",
    "    fig = go.Figure()\n",
    "\n",
    "    # Define initial orientation\n",
    "    N_frame = np.eye(3)\n",
    "\n",
    "    # Define colors\n",
    "    colors = {'i': 'red', \n",
    "              'j': 'green', \n",
    "              'k': 'blue', \n",
    "              'axis': 'purple'}\n",
    "\n",
    "    # Initialize frames\n",
    "    initialize_ref_frame(fig, N_frame, 'N', colors, is_static=True)\n",
    "    initialize_ref_frame(fig, N_frame, 'E', colors, is_static=False)\n",
    "\n",
    "    # Print attitude representations\n",
    "    DCM = rotation_matrices[-1]\n",
    "\n",
    "    first_rot = np.degrees(np.arctan2(DCM[0, 1], DCM[0, 0]))\n",
    "    second_rot = np.degrees(np.arcsin(-DCM[0, 2]))\n",
    "    third_rot = np.degrees(np.arctan2(DCM[1, 2], DCM[2, 2]))\n",
    "\n",
    "    print(f\"Quaternion (q0-first): {quaternion}\")\n",
    "    print(\"----------------------------------------------------\")\n",
    "    print(f\"DCM:\\n{DCM}\")\n",
    "    print(\"----------------------------------------------------\")\n",
    "    print(f\"Euler Angles (321 sequence): <{first_rot}, {second_rot}, {third_rot}>\")\n",
    "\n",
    "    # Generate animation frames\n",
    "    frames = []\n",
    "    for i, R_matrix in enumerate(rotation_matrices):\n",
    "        \n",
    "        E_frame = np.matmul(R_matrix.T, N_frame)\n",
    "\n",
    "        frame_data = [go.Scatter3d(x=[0, E_frame[0, j]],\n",
    "                                   y=[0, E_frame[1, j]],\n",
    "                                   z=[0, E_frame[2, j]],\n",
    "                                   mode='lines+markers',\n",
    "                                   marker=dict(color=colors[axis_name])) for j, axis_name in enumerate(['i', 'j', 'k'])]\n",
    "        \n",
    "        frames.append(go.Frame(data=frame_data, name=str(i), traces=[3, 4, 5]))\n",
    "\n",
    "    # Visualize the rotation axis\n",
    "    axis_normalized = axis / np.linalg.norm(axis)\n",
    "\n",
    "    endpoint_hover_text = f\"x: {axis_normalized[0]:.2f}<br>y: {axis_normalized[1]:.2f}<br>z: {axis_normalized[2]:.2f}<br>Norm: {np.linalg.norm(axis_normalized):.2f}\"\n",
    "\n",
    "    fig.add_trace(go.Scatter3d(x=[0, axis_normalized[0]],\n",
    "                               y=[0, axis_normalized[1]],\n",
    "                               z=[0, axis_normalized[2]],\n",
    "                               mode='lines+markers',\n",
    "                               line=dict(color=colors['axis'], width=5),\n",
    "                               name='Rotation Axis (normalized)',\n",
    "                               hoverinfo='text+name',\n",
    "                               text=endpoint_hover_text))\n",
    "\n",
    "    # Configure the figure\n",
    "    fig.frames = frames\n",
    "    setup_animation_scene(fig, frames, \"Quaternion Rotation Animation\")\n",
    "\n",
    "    return fig\n",
    "\n",
    "# Define the quaternion for a 90-degree rotation about the z-axis\n",
    "angle_deg = 45 \n",
    "theta_rad = np.radians(angle_deg)\n",
    "half_theta = theta_rad / 2\n",
    "q0 = np.cos(half_theta)\n",
    "q_vec = np.sin(half_theta) * np.array([1, 1, 1])\n",
    "quaternion = np.hstack(([q0], q_vec))  # [q0, q1, q2, q3]\n",
    "\n",
    "# Generate the animation\n",
    "fig = Quaternion_rotation_animation(quaternion)\n",
    "fig.show()"
   ]
  },
  {
   "cell_type": "code",
   "execution_count": null,
   "id": "2d62f804-b5d7-4e37-af64-bf2517448fa2",
   "metadata": {},
   "outputs": [],
   "source": []
  },
  {
   "cell_type": "code",
   "execution_count": null,
   "id": "addf0346-d5b8-4396-9816-4af737cb6341",
   "metadata": {},
   "outputs": [],
   "source": []
  },
  {
   "cell_type": "code",
   "execution_count": null,
   "id": "febea388-8609-4fc2-997d-5a7fe1bdae3c",
   "metadata": {},
   "outputs": [],
   "source": []
  },
  {
   "cell_type": "code",
   "execution_count": null,
   "id": "f9fd44b4-85ea-4f08-a9de-fde62f72b41f",
   "metadata": {},
   "outputs": [],
   "source": []
  },
  {
   "cell_type": "code",
   "execution_count": null,
   "id": "b3122d89-5811-4713-84a8-974d8cdbdb05",
   "metadata": {},
   "outputs": [],
   "source": []
  },
  {
   "cell_type": "code",
   "execution_count": null,
   "id": "eb597c41-95ea-4edf-9a60-c15106f22350",
   "metadata": {},
   "outputs": [],
   "source": []
  },
  {
   "cell_type": "code",
   "execution_count": null,
   "id": "abad8ac7-36b9-4f50-8698-1e51750c874c",
   "metadata": {},
   "outputs": [],
   "source": []
  },
  {
   "cell_type": "code",
   "execution_count": null,
   "id": "ba43e95b-383d-4320-bc69-cf0503459e41",
   "metadata": {},
   "outputs": [],
   "source": []
  },
  {
   "cell_type": "code",
   "execution_count": null,
   "id": "797569c4-e076-4dc4-9868-e329291dc7ac",
   "metadata": {},
   "outputs": [],
   "source": []
  },
  {
   "cell_type": "code",
   "execution_count": null,
   "id": "547d010a-739b-4b14-88a9-975e4feacd52",
   "metadata": {},
   "outputs": [],
   "source": []
  }
 ],
 "metadata": {
  "kernelspec": {
   "display_name": "Python 3 (ipykernel)",
   "language": "python",
   "name": "python3"
  },
  "language_info": {
   "codemirror_mode": {
    "name": "ipython",
    "version": 3
   },
   "file_extension": ".py",
   "mimetype": "text/x-python",
   "name": "python",
   "nbconvert_exporter": "python",
   "pygments_lexer": "ipython3",
   "version": "3.11.9"
  }
 },
 "nbformat": 4,
 "nbformat_minor": 5
}
