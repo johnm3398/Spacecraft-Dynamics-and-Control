{
 "cells": [
  {
   "cell_type": "code",
   "execution_count": 1,
   "id": "bcddc7df-872b-4326-8be9-ed8c973f4726",
   "metadata": {},
   "outputs": [],
   "source": [
    "import numpy as np\n",
    "import plotly.graph_objects as go"
   ]
  },
  {
   "cell_type": "code",
   "execution_count": 2,
   "id": "52f78309-c5ba-4871-8103-56d18e7c7c08",
   "metadata": {},
   "outputs": [],
   "source": [
    "'''\n",
    "The definitions of Rotation Matrices\n",
    "--------------------------------------------------------------------------------------------------------------------------------------------------------\n",
    "    - The rotation abt the 1st principle axis (x-axis) is defined by the angle 'psi'\n",
    "    - The rotation abt the 2nd principle axis (y-axis) is defined by the angle 'theta'\n",
    "    - The rotation abt the 3rd principle axis (z-axis) is defined by the angle 'phi'\n",
    "'''\n",
    "\n",
    "def rotation_matrix_x(phi):\n",
    "    \"\"\"Generate rotation matrix for a roll (rotation about the x-axis)\"\"\"\n",
    "    phi = np.radians(phi)\n",
    "    c, s = np.cos(phi), np.sin(phi)\n",
    "    return np.array([[1, 0, 0], \n",
    "                     [0, c, s], \n",
    "                     [0, -s, c]])\n",
    "\n",
    "def rotation_matrix_y(theta):\n",
    "    \"\"\"Generate rotation matrix for a pitch (rotation about the y-axis)\"\"\"\n",
    "    theta = np.radians(theta)\n",
    "    c, s = np.cos(theta), np.sin(theta)\n",
    "    return np.array([[c, 0, -s], \n",
    "                     [0, 1, 0], \n",
    "                     [s, 0, c]])\n",
    "\n",
    "def rotation_matrix_z(psi):\n",
    "    \"\"\"Generate rotation matrix for a yaw (rotation about the z-axis)\"\"\"\n",
    "    psi = np.radians(psi)\n",
    "    c, s = np.cos(psi), np.sin(psi)\n",
    "    return np.array([[c, s, 0], \n",
    "                     [-s, c, 0], \n",
    "                     [0, 0, 1]])"
   ]
  },
  {
   "cell_type": "code",
   "execution_count": 3,
   "id": "2cf302be-3f08-410f-91f5-2005f435cb4c",
   "metadata": {},
   "outputs": [
    {
     "name": "stdout",
     "output_type": "stream",
     "text": [
      "Direction Cosine Matrix (DCM):\n",
      " [[-0.21212121  0.84848485  0.48484848]\n",
      " [ 0.96969697  0.12121212  0.21212121]\n",
      " [ 0.12121212  0.51515152 -0.84848485]]\n"
     ]
    }
   ],
   "source": [
    "def quaternion_to_DCM(q):\n",
    "    \"\"\"\n",
    "    Converts a quaternion to a direction cosine matrix (DCM).\n",
    "\n",
    "    Args:\n",
    "        q (np.array): A numpy array of size 4 (a row vector) representing the quaternion,\n",
    "                      where q[0] is the scalar part (beta_0), and q[1], q[2], q[3] are the \n",
    "                      vector parts (beta_1, beta_2, beta_3).\n",
    "\n",
    "    Returns:\n",
    "        np.array: A 3x3 rotation matrix (DCM).\n",
    "\n",
    "    Example:\n",
    "        >>> q = np.array([1, 5, 6, 2])\n",
    "        >>> quaternion_to_DCM(q)\n",
    "        array([[ 0.38461538, -0.07692308,  0.91923077],\n",
    "               [ 0.07692308,  0.99230769, -0.09615385],\n",
    "               [-0.91923077,  0.09615385,  0.38461538]])\n",
    "    \"\"\"\n",
    "    # Ensure q is a float array to maintain precision\n",
    "    q = np.array(q, dtype=np.float64)\n",
    "    \n",
    "    # Check that the holonomic constraint of quaternion is satisfied, else normalize it\n",
    "    q_norm = np.linalg.norm(q)\n",
    "    if not np.isclose(q_norm, 1.0, atol=1e-8):\n",
    "        q /= q_norm\n",
    "    \n",
    "    # Extract components\n",
    "    q0, q1, q2, q3 = q\n",
    "    \n",
    "    # Compute the elements of the DCM\n",
    "    C = np.array([\n",
    "        [q0**2 + q1**2 - q2**2 - q3**2, 2 * (q1*q2 + q0*q3),         2 * (q1*q3 - q0*q2)],\n",
    "        [2 * (q1*q2 - q0*q3),           q0**2 - q1**2 + q2**2 - q3**2, 2 * (q2*q3 + q0*q1)],\n",
    "        [2 * (q1*q3 + q0*q2),           2 * (q2*q3 - q0*q1),           q0**2 - q1**2 - q2**2 + q3**2]\n",
    "    ])\n",
    "    \n",
    "    return C\n",
    "\n",
    "# Example usage:\n",
    "q = np.array([-1, 5, 6, 2])\n",
    "C = quaternion_to_DCM(q)\n",
    "print(\"Direction Cosine Matrix (DCM):\\n\", C)"
   ]
  },
  {
   "cell_type": "code",
   "execution_count": 4,
   "id": "c06d88ba-6df7-4adf-8a95-b45f8eced710",
   "metadata": {},
   "outputs": [
    {
     "name": "stdout",
     "output_type": "stream",
     "text": [
      "[ 0.12309149 -0.61545746 -0.73854895 -0.24618298]\n"
     ]
    }
   ],
   "source": [
    "def DCM_to_quaternion(dcm):\n",
    "    \"\"\"\n",
    "    Converts a Direction Cosine Matrix (DCM) to a quaternion using a method to ensure robustness against numerical issues.\n",
    "    \n",
    "    Args:\n",
    "        dcm (np.array): A 3x3 rotation matrix (DCM).\n",
    "    \n",
    "    Returns:\n",
    "        np.array: A quaternion represented as a numpy array of size 4, with the scalar component as the first element.\n",
    "    \n",
    "    Example Usage:\n",
    "        >>> dcm = np.array([[-0.21212121, 0.96969697, 0.12121212],\n",
    "                            [0.84848485, 0.12121212, 0.51515152],\n",
    "                            [0.48484848, 0.21212121, -0.84848485]])\n",
    "        >>> quaternion = DCM_to_quaternion(dcm)\n",
    "        >>> print(quaternion)\n",
    "    \n",
    "    Notes:\n",
    "    - If the scalar component (q0) is negative, it is flipped to positive. (Ensuring shortes path of rotation)\n",
    "    - Corresponding vector component is also flipped when q0 is flipped. (Shepperd's Method)\n",
    "    - Flipping maintains the quaternion's correct rotational encoding.\n",
    "    - Ensures the quaternion represents a rotation of less than 180 degrees.\n",
    "    - Adheres to quaternion algebra for accurate 3D rotation representation.\n",
    "    \"\"\"\n",
    "    trace = np.trace(dcm)\n",
    "    q_squared = np.zeros(4)\n",
    "    q_squared[0] = (1.0 + trace) / 4.0\n",
    "    q_squared[1] = (1.0 + 2 * dcm[0, 0] - trace) / 4.0\n",
    "    q_squared[2] = (1.0 + 2 * dcm[1, 1] - trace) / 4.0\n",
    "    q_squared[3] = (1.0 + 2 * dcm[2, 2] - trace) / 4.0\n",
    "\n",
    "    q = np.zeros(4)\n",
    "    max_index = np.argmax(q_squared)\n",
    "\n",
    "    if max_index == 0:\n",
    "        q[0] = np.sqrt(q_squared[0])\n",
    "        q[1] = (dcm[1, 2] - dcm[2, 1]) / (4 * q[0])\n",
    "        q[2] = (dcm[2, 0] - dcm[0, 2]) / (4 * q[0])\n",
    "        q[3] = (dcm[0, 1] - dcm[1, 0]) / (4 * q[0])\n",
    "    \n",
    "    elif max_index == 1:\n",
    "        q[1] = np.sqrt(q_squared[1])\n",
    "        q[0] = (dcm[1, 2] - dcm[2, 1]) / (4 * q[1])\n",
    "        if q[0] < 0:\n",
    "            q[0] = -q[0]\n",
    "            q[1] = -q[1]\n",
    "            \n",
    "        q[2] = (dcm[0, 1] + dcm[1, 0]) / (4 * q[1])\n",
    "        q[3] = (dcm[2, 0] + dcm[0, 2]) / (4 * q[1])\n",
    "        \n",
    "    elif max_index == 2:\n",
    "        q[2] = np.sqrt(q_squared[2])\n",
    "        q[0] = (dcm[2, 0] - dcm[0, 2]) / (4 * q[2])\n",
    "        if q[0] < 0:\n",
    "            q[0] = -q[0]\n",
    "            q[2] = -q[2]\n",
    "        q[1] = (dcm[0, 1] + dcm[1, 0]) / (4 * q[2])\n",
    "        q[3] = (dcm[1, 2] + dcm[2, 1]) / (4 * q[2])\n",
    "\n",
    "    elif max_index == 3:\n",
    "        q[3] = np.sqrt(q_squared[3])\n",
    "        q[0] = (dcm[0, 1] - dcm[1, 0]) / (4 * q[3])\n",
    "        if q[0] < 0:\n",
    "            q[0] = -q[0]\n",
    "            q[3] = -q[3]\n",
    "            \n",
    "        q[1] = (dcm[2, 0] + dcm[0, 2]) / (4 * q[3])\n",
    "        q[2] = (dcm[1, 2] + dcm[2, 1]) / (4 * q[3])\n",
    "    \n",
    "    return q\n",
    "\n",
    "# Example Usage\n",
    "dcm = np.array([[-0.21212121,  0.84848485,  0.48484848],\n",
    "                [ 0.96969697,  0.12121212,  0.21212121],\n",
    "                [ 0.12121212,  0.51515152, -0.84848485]])\n",
    "quaternion = DCM_to_quaternion(dcm)\n",
    "print(quaternion)"
   ]
  },
  {
   "cell_type": "code",
   "execution_count": 5,
   "id": "4607b3e8-00e1-4a08-960a-44d64a700dd9",
   "metadata": {},
   "outputs": [],
   "source": [
    "def slerp(q0, q1, t_array):\n",
    "    \"\"\"\n",
    "    Performs spherical linear interpolation between two quaternions.\n",
    "\n",
    "    Args:\n",
    "        q0 (np.ndarray): The starting quaternion.\n",
    "        q1 (np.ndarray): The ending quaternion.\n",
    "        t_array (np.ndarray): An array of interpolation factors from 0 to 1.\n",
    "\n",
    "    Returns:\n",
    "        list: A list of interpolated quaternions.\n",
    "    \"\"\"\n",
    "    q0 = q0 / np.linalg.norm(q0)\n",
    "    q1 = q1 / np.linalg.norm(q1)\n",
    "    dot_product = np.dot(q0, q1)\n",
    "\n",
    "    # Adjust quaternions if necessary\n",
    "    if dot_product < 0.0:\n",
    "        q1 = -q1\n",
    "        dot_product = -dot_product\n",
    "\n",
    "    if dot_product > 0.9995:\n",
    "        # Quaternions are nearly identical, use linear interpolation\n",
    "        interpolated_quaternions = [q0 + t * (q1 - q0) for t in t_array]\n",
    "    else:\n",
    "        theta_0 = np.arccos(dot_product)\n",
    "        sin_theta_0 = np.sin(theta_0)\n",
    "        interpolated_quaternions = [\n",
    "            (np.sin((1 - t) * theta_0) / sin_theta_0) * q0 + (np.sin(t * theta_0) / sin_theta_0) * q1\n",
    "            for t in t_array\n",
    "        ]\n",
    "\n",
    "    # Normalize the interpolated quaternions\n",
    "    interpolated_quaternions = [q / np.linalg.norm(q) for q in interpolated_quaternions]\n",
    "    return interpolated_quaternions"
   ]
  },
  {
   "cell_type": "code",
   "execution_count": 6,
   "id": "c849b38e-a8b3-4f9d-8d95-416cdd6f43ef",
   "metadata": {},
   "outputs": [],
   "source": [
    "def initialize_ref_frame(fig, frame_matrix, frame_label, colors, is_static=False):\n",
    "    \"\"\"\n",
    "    Initializes vectors on the provided Plotly figure as either static or dynamic using a color dictionary.\n",
    "\n",
    "    Args:\n",
    "        fig (plotly.graph_objects.Figure): The figure to which the frame vectors will be added.\n",
    "        frame_matrix (np.ndarray): A 3x3 matrix representing the orientation of the frame, where each column is a unit vector (i, j, k).\n",
    "        frame_label (str): The base label for the frame vectors ('N' for the N-frame, 'E' for the E-frame).\n",
    "        colors (dict): A dictionary specifying the colors for each vector, keyed by 'i', 'j', 'k'.\n",
    "        is_static (bool, optional): If True, the frame will be added as static (with dotted lines). \n",
    "                                    If False, it will be added as dynamic (with solid lines). \n",
    "                                    Defaults to False.\n",
    "\n",
    "    Returns:\n",
    "        list: A list of trace indices added to the figure.\n",
    "\n",
    "    Note:\n",
    "        - This function modifies the provided `fig` object in place by adding traces representing the frame vectors. It does not return a new figure.\n",
    "        - The `line_style` is set to 'dot' for static frames and 'solid' for dynamic frames to visually distinguish between them.\n",
    "        - The function uses the `frame_matrix` to extract the vectors corresponding to the axes (i, j, k) \n",
    "          and assigns the specified colors from the `colors` dictionary.\n",
    "        - The `frame_label` is appended with a suffix to indicate whether the frame is static or dynamic.\n",
    "        - The `trace_indices` list stores the indices of the added traces. \n",
    "          The `len(fig.data) - 1` expression is used to get the index of the most recently added trace, \n",
    "          as `len(fig.data)` gives the total number of traces in the figure, and subtracting 1 gives the index of the last added trace.\n",
    "\n",
    "    Example:\n",
    "        colors = {'i': 'red', 'j': 'green', 'k': 'blue'}\n",
    "        frame_matrix = np.eye(3)\n",
    "        fig = go.Figure()\n",
    "        trace_indices = initialize_ref_frame(fig, frame_matrix, 'N', colors, is_static=True)\n",
    "        print(trace_indices)  # Output should be [0, 1, 2] for the first call\n",
    "    \"\"\"\n",
    "    line_style = 'dot' if is_static else 'solid'\n",
    "    \n",
    "    suffix = \" (static)\" if is_static else \"\"\n",
    "    \n",
    "    axis_labels = ['i', 'j', 'k'] \n",
    "\n",
    "    trace_indices = []\n",
    "\n",
    "    for i, axis in enumerate(axis_labels):\n",
    "        vec = frame_matrix[i, :]\n",
    "        name = f'{frame_label}_{axis}{suffix}'\n",
    "        color = colors[axis]  # Access color using axis label as key\n",
    "        trace = go.Scatter3d(x=[0, vec[0]], \n",
    "                             y=[0, vec[1]], \n",
    "                             z=[0, vec[2]],\n",
    "                             mode='lines+markers', \n",
    "                             name=name,\n",
    "                             marker=dict(color=color),\n",
    "                             line=dict(dash=line_style, color=color))\n",
    "        fig.add_trace(trace)\n",
    "\n",
    "        trace_indices.append(len(fig.data)-1)\n",
    "\n",
    "    return trace_indices"
   ]
  },
  {
   "cell_type": "code",
   "execution_count": 7,
   "id": "a9db0c39-31bb-4bdf-9efd-8362683e3309",
   "metadata": {},
   "outputs": [],
   "source": [
    "def setup_animation_scene(fig, frames, title):\n",
    "    \"\"\"\n",
    "    Adds animation controls and configures layout settings for a Plotly figure.\n",
    "\n",
    "    Args:\n",
    "        fig (plotly.graph_objects.Figure): The figure to which the controls will be added.\n",
    "        frames (list): List of animation frames to be included in the slider control.\n",
    "        title (str): The title to set for the animation scene.\n",
    "\n",
    "    Note:\n",
    "    - Animation Controls: This function sets up interactive controls that allow users to play through or step through the animation frames at their own pace. \n",
    "                          The 'Play' button starts the animation, while the slider allows users to jump to specific points in the animation.\n",
    "    \n",
    "    - Button Configuration: The 'Play' button is configured to start the animation immediately when clicked, using the 'immediate' mode. \n",
    "                            It ensures that the animation runs smoothly, redrawing each frame with a duration of 100 milliseconds.\n",
    "    \n",
    "    - Slider Mechanism: The slider below the animation includes steps corresponding to each frame created in the animation sequence. \n",
    "                        Users can move the slider to navigate to different frames, which is particularly useful for examining specific moments of the animation in detail.\n",
    "    \n",
    "    - Current Value Display: The slider also shows the current frame number as the animation plays, \n",
    "                             providing immediate visual feedback to users on their current position within the animation sequence.\n",
    "    \n",
    "    - Layout Configuration: The function also defines the visual layout of the 3D scene. \n",
    "                            It sets a fixed cube aspect for the axes to ensure that objects in the 3D space are displayed proportionally. \n",
    "                            The axes are configured to not auto-scale, maintaining consistent spatial references.\n",
    "    \n",
    "    - Scene Dimensions: The overall dimensions of the figure are set to ensure sufficient space for viewing the animation comfortably, enhancing the visual experience for the user.\n",
    "    \n",
    "    - Usability and Interactivity: By integrating these controls, the function enhances the usability and interactivity of the visualization, \n",
    "                                   making it a more effective tool for presentations or educational purposes where step-by-step analysis of movements is beneficial.\n",
    "\n",
    "    \"\"\"\n",
    "    # Update the figure with animation controls\n",
    "    fig.update_layout(updatemenus=[{\"type\": \"buttons\",\n",
    "                                    \"showactive\": False,\n",
    "                                    \"y\": -0.13,\n",
    "                                    \"x\": -0.02,\n",
    "                                    \"xanchor\": 'left',\n",
    "                                    \"yanchor\": 'bottom',\n",
    "                                    \"buttons\": [{\"label\": 'Play',\n",
    "                                                 \"method\": 'animate',\n",
    "                                                 \"args\": [None, {\"frame\": {\"duration\": 100, \"redraw\": True},\n",
    "                                                                 \"fromcurrent\": True,\n",
    "                                                                 \"mode\": 'immediate'}]}]}],\n",
    "                      sliders=[{\"steps\": [{\"method\": 'animate',\n",
    "                                           \"args\": [[f.name], {\"mode\": 'immediate', \n",
    "                                                               \"frame\": {\"duration\": 100, \"redraw\": True},\n",
    "                                                               \"fromcurrent\": True}],\n",
    "                                           \"label\": str(k)} for k, f in enumerate(frames)],\n",
    "                                \"x\": 0.1,\n",
    "                                \"y\": 0,\n",
    "                                \"currentvalue\": {\"visible\": True, \"prefix\": 'Step: '}}])\n",
    "\n",
    "    # Set additional layout settings for the 3D scene\n",
    "    fig.update_layout(width=1000,\n",
    "                      height=800,\n",
    "                      template='presentation',\n",
    "                      scene={\"aspectmode\": 'cube',\n",
    "                             \"xaxis\": {\"range\": [-1, 1], \"autorange\": False},\n",
    "                             \"yaxis\": {\"range\": [-1, 1], \"autorange\": False},\n",
    "                             \"zaxis\": {\"range\": [-1, 1], \"autorange\": False}},\n",
    "                      title=f\"{title}\")"
   ]
  },
  {
   "cell_type": "code",
   "execution_count": 11,
   "id": "3c00e4ef-1d63-4b0e-b8c0-bc2f3808a739",
   "metadata": {},
   "outputs": [
    {
     "name": "stdout",
     "output_type": "stream",
     "text": [
      "Quaternion: [0.70710678 0.         0.27059805 0.65328148]\n",
      "----------------------------------------------------\n",
      "DCM:\n",
      "[[ 5.55111512e-17  9.23879533e-01 -3.82683432e-01]\n",
      " [-9.23879533e-01  1.46446609e-01  3.53553391e-01]\n",
      " [ 3.82683432e-01  3.53553391e-01  8.53553391e-01]]\n",
      "----------------------------------------------------\n",
      "Euler Angles (321 sequence): <90.0, 22.50000000000001, 22.5>\n"
     ]
    },
    {
     "data": {
      "application/vnd.plotly.v1+json": {
       "config": {
        "plotlyServerURL": "https://plot.ly"
       },
       "data": [
        {
         "line": {
          "color": "red",
          "dash": "dot"
         },
         "marker": {
          "color": "red"
         },
         "mode": "lines+markers",
         "name": "N_i (static)",
         "type": "scatter3d",
         "x": [
          0,
          1
         ],
         "y": [
          0,
          0
         ],
         "z": [
          0,
          0
         ]
        },
        {
         "line": {
          "color": "green",
          "dash": "dot"
         },
         "marker": {
          "color": "green"
         },
         "mode": "lines+markers",
         "name": "N_j (static)",
         "type": "scatter3d",
         "x": [
          0,
          0
         ],
         "y": [
          0,
          1
         ],
         "z": [
          0,
          0
         ]
        },
        {
         "line": {
          "color": "blue",
          "dash": "dot"
         },
         "marker": {
          "color": "blue"
         },
         "mode": "lines+markers",
         "name": "N_k (static)",
         "type": "scatter3d",
         "x": [
          0,
          0
         ],
         "y": [
          0,
          0
         ],
         "z": [
          0,
          1
         ]
        },
        {
         "line": {
          "color": "red",
          "dash": "solid"
         },
         "marker": {
          "color": "red"
         },
         "mode": "lines+markers",
         "name": "E_i",
         "type": "scatter3d",
         "x": [
          0,
          5.551115123125783e-17
         ],
         "y": [
          0,
          -0.9238795325112868
         ],
         "z": [
          0,
          0.3826834323650899
         ]
        },
        {
         "line": {
          "color": "green",
          "dash": "solid"
         },
         "marker": {
          "color": "green"
         },
         "mode": "lines+markers",
         "name": "E_j",
         "type": "scatter3d",
         "x": [
          0,
          0.9238795325112868
         ],
         "y": [
          0,
          0.14644660940672632
         ],
         "z": [
          0,
          0.35355339059327384
         ]
        },
        {
         "line": {
          "color": "blue",
          "dash": "solid"
         },
         "marker": {
          "color": "blue"
         },
         "mode": "lines+markers",
         "name": "E_k",
         "type": "scatter3d",
         "x": [
          0,
          -0.3826834323650899
         ],
         "y": [
          0,
          0.35355339059327384
         ],
         "z": [
          0,
          0.853553390593274
         ]
        },
        {
         "hoverinfo": "text+name",
         "line": {
          "color": "purple",
          "width": 5
         },
         "mode": "lines+markers",
         "name": "Rotation Axis (normalized)",
         "text": "x: 0.93<br>y: 0.00<br>z: 0.36<br>Norm: 1.00",
         "type": "scatter3d",
         "x": [
          0,
          0.9339488310944647
         ],
         "y": [
          0,
          0
         ],
         "z": [
          0,
          0.3574067443365933
         ]
        }
       ],
       "frames": [
        {
         "data": [
          {
           "marker": {
            "color": "red"
           },
           "mode": "lines+markers",
           "name": "E_i",
           "type": "scatter3d",
           "x": [
            0,
            -1
           ],
           "y": [
            0,
            0
           ],
           "z": [
            0,
            0
           ]
          },
          {
           "marker": {
            "color": "green"
           },
           "mode": "lines+markers",
           "name": "E_j",
           "type": "scatter3d",
           "x": [
            0,
            0
           ],
           "y": [
            0,
            -1
           ],
           "z": [
            0,
            0
           ]
          },
          {
           "marker": {
            "color": "blue"
           },
           "mode": "lines+markers",
           "name": "E_k",
           "type": "scatter3d",
           "x": [
            0,
            0
           ],
           "y": [
            0,
            0
           ],
           "z": [
            0,
            1
           ]
          }
         ],
         "name": "0",
         "traces": [
          3,
          4,
          5
         ]
        },
        {
         "data": [
          {
           "marker": {
            "color": "red"
           },
           "mode": "lines+markers",
           "name": "E_i",
           "type": "scatter3d",
           "x": [
            0,
            -0.9985704946148414
           ],
           "y": [
            0,
            -0.0534478065324205
           ],
           "z": [
            0,
            0.0005470480273769314
           ]
          },
          {
           "marker": {
            "color": "green"
           },
           "mode": "lines+markers",
           "name": "E_j",
           "type": "scatter3d",
           "x": [
            0,
            0.0534478065324205
           ],
           "y": [
            0,
            -0.9983611483980562
           ],
           "z": [
            0,
            0.02045359005621195
           ]
          },
          {
           "marker": {
            "color": "blue"
           },
           "mode": "lines+markers",
           "name": "E_k",
           "type": "scatter3d",
           "x": [
            0,
            -0.0005470480273769314
           ],
           "y": [
            0,
            0.02045359005621195
           ],
           "z": [
            0,
            0.999790653783215
           ]
          }
         ],
         "name": "1",
         "traces": [
          3,
          4,
          5
         ]
        },
        {
         "data": [
          {
           "marker": {
            "color": "red"
           },
           "mode": "lines+markers",
           "name": "E_i",
           "type": "scatter3d",
           "x": [
            0,
            -0.994286663953746
           ],
           "y": [
            0,
            -0.1067204270181289
           ],
           "z": [
            0,
            0.002186399048435711
           ]
          },
          {
           "marker": {
            "color": "green"
           },
           "mode": "lines+markers",
           "name": "E_j",
           "type": "scatter3d",
           "x": [
            0,
            0.1067204270181289
           ],
           "y": [
            0,
            -0.9934499652613709
           ],
           "z": [
            0,
            0.04084013931476564
           ]
          },
          {
           "marker": {
            "color": "blue"
           },
           "mode": "lines+markers",
           "name": "E_k",
           "type": "scatter3d",
           "x": [
            0,
            -0.002186399048435711
           ],
           "y": [
            0,
            0.04084013931476564
           ],
           "z": [
            0,
            0.9991633013076249
           ]
          }
         ],
         "name": "2",
         "traces": [
          3,
          4,
          5
         ]
        },
        {
         "data": [
          {
           "marker": {
            "color": "red"
           },
           "mode": "lines+markers",
           "name": "E_i",
           "type": "scatter3d",
           "x": [
            0,
            -0.9871625491421968
           ],
           "y": [
            0,
            -0.15964324961827975
           ],
           "z": [
            0,
            0.00491267975708232
           ]
          },
          {
           "marker": {
            "color": "green"
           },
           "mode": "lines+markers",
           "name": "E_j",
           "type": "scatter3d",
           "x": [
            0,
            0.15964324961827975
           ],
           "y": [
            0,
            -0.9852825479906461
           ],
           "z": [
            0,
            0.0610928267178401
           ]
          },
          {
           "marker": {
            "color": "blue"
           },
           "mode": "lines+markers",
           "name": "E_k",
           "type": "scatter3d",
           "x": [
            0,
            -0.00491267975708232
           ],
           "y": [
            0,
            0.0610928267178401
           ],
           "z": [
            0,
            0.9981199988484494
           ]
          }
         ],
         "name": "3",
         "traces": [
          3,
          4,
          5
         ]
        },
        {
         "data": [
          {
           "marker": {
            "color": "red"
           },
           "mode": "lines+markers",
           "name": "E_i",
           "type": "scatter3d",
           "x": [
            0,
            -0.9772215009141364
           ],
           "y": [
            0,
            -0.2120428090276776
           ],
           "z": [
            0,
            0.008716954214303326
           ]
          },
          {
           "marker": {
            "color": "green"
           },
           "mode": "lines+markers",
           "name": "E_j",
           "type": "scatter3d",
           "x": [
            0,
            0.2120428090276776
           ],
           "y": [
            0,
            -0.9738856669556375
           ],
           "z": [
            0,
            0.08114526996704693
           ]
          },
          {
           "marker": {
            "color": "blue"
           },
           "mode": "lines+markers",
           "name": "E_k",
           "type": "scatter3d",
           "x": [
            0,
            -0.008716954214303326
           ],
           "y": [
            0,
            0.08114526996704693
           ],
           "z": [
            0,
            0.9966641660415011
           ]
          }
         ],
         "name": "4",
         "traces": [
          3,
          4,
          5
         ]
        },
        {
         "data": [
          {
           "marker": {
            "color": "red"
           },
           "mode": "lines+markers",
           "name": "E_i",
           "type": "scatter3d",
           "x": [
            0,
            -0.9644961030751923
           ],
           "y": [
            0,
            -0.2637473550425641
           ],
           "z": [
            0,
            0.013586753137521824
           ]
          },
          {
           "marker": {
            "color": "green"
           },
           "mode": "lines+markers",
           "name": "E_j",
           "type": "scatter3d",
           "x": [
            0,
            0.2637473550425641
           ],
           "y": [
            0,
            -0.9592966777498283
           ],
           "z": [
            0,
            0.10093174310490241
           ]
          },
          {
           "marker": {
            "color": "blue"
           },
           "mode": "lines+markers",
           "name": "E_k",
           "type": "scatter3d",
           "x": [
            0,
            -0.013586753137521824
           ],
           "y": [
            0,
            0.10093174310490241
           ],
           "z": [
            0,
            0.9948005746746361
           ]
          }
         ],
         "name": "5",
         "traces": [
          3,
          4,
          5
         ]
        },
        {
         "data": [
          {
           "marker": {
            "color": "red"
           },
           "mode": "lines+markers",
           "name": "E_i",
           "type": "scatter3d",
           "x": [
            0,
            -0.9490280657026314
           ],
           "y": [
            0,
            -0.31458741550681074
           ],
           "z": [
            0,
            0.01950611477120491
           ]
          },
          {
           "marker": {
            "color": "green"
           },
           "mode": "lines+markers",
           "name": "E_j",
           "type": "scatter3d",
           "x": [
            0,
            0.31458741550681074
           ],
           "y": [
            0,
            -0.9415633987498794
           ],
           "z": [
            0,
            0.12038739194500903
           ]
          },
          {
           "marker": {
            "color": "blue"
           },
           "mode": "lines+markers",
           "name": "E_k",
           "type": "scatter3d",
           "x": [
            0,
            -0.01950611477120491
           ],
           "y": [
            0,
            0.12038739194500903
           ],
           "z": [
            0,
            0.9925353330472481
           ]
          }
         ],
         "name": "6",
         "traces": [
          3,
          4,
          5
         ]
        },
        {
         "data": [
          {
           "marker": {
            "color": "red"
           },
           "mode": "lines+markers",
           "name": "E_i",
           "type": "scatter3d",
           "x": [
            0,
            -0.9308680884321077
           ],
           "y": [
            0,
            -0.3643963517913479
           ],
           "z": [
            0,
            0.026455637204760882
           ]
          },
          {
           "marker": {
            "color": "green"
           },
           "mode": "lines+markers",
           "name": "E_j",
           "type": "scatter3d",
           "x": [
            0,
            0.3643963517913479
           ],
           "y": [
            0,
            -0.9207439543811842
           ],
           "z": [
            0,
            0.13944844664482975
           ]
          },
          {
           "marker": {
            "color": "blue"
           },
           "mode": "lines+markers",
           "name": "E_k",
           "type": "scatter3d",
           "x": [
            0,
            -0.026455637204760882
           ],
           "y": [
            0,
            0.13944844664482975
           ],
           "z": [
            0,
            0.9898758659490765
           ]
          }
         ],
         "name": "7",
         "traces": [
          3,
          4,
          5
         ]
        },
        {
         "data": [
          {
           "marker": {
            "color": "red"
           },
           "mode": "lines+markers",
           "name": "E_i",
           "type": "scatter3d",
           "x": [
            0,
            -0.9100756942793039
           ],
           "y": [
            0,
            -0.41301090498613346
           ],
           "z": [
            0,
            0.03441254196624375
           ]
          },
          {
           "marker": {
            "color": "green"
           },
           "mode": "lines+markers",
           "name": "E_j",
           "type": "scatter3d",
           "x": [
            0,
            0.41301090498613346
           ],
           "y": [
            0,
            -0.896906584603254
           ],
           "z": [
            0,
            0.15805243072430553
           ]
          },
          {
           "marker": {
            "color": "blue"
           },
           "mode": "lines+markers",
           "name": "E_k",
           "type": "scatter3d",
           "x": [
            0,
            -0.03441254196624375
           ],
           "y": [
            0,
            0.15805243072430553
           ],
           "z": [
            0,
            0.9868308903239503
           ]
          }
         ],
         "name": "8",
         "traces": [
          3,
          4,
          5
         ]
        },
        {
         "data": [
          {
           "marker": {
            "color": "red"
           },
           "mode": "lines+markers",
           "name": "E_i",
           "type": "scatter3d",
           "x": [
            0,
            -0.8867190345411502
           ],
           "y": [
            0,
            -0.46027173101440516
           ],
           "z": [
            0,
            0.0433507486834238
           ]
          },
          {
           "marker": {
            "color": "green"
           },
           "mode": "lines+markers",
           "name": "E_j",
           "type": "scatter3d",
           "x": [
            0,
            0.46027173101440516
           ],
           "y": [
            0,
            -0.8701294212393812
           ],
           "z": [
            0,
            0.17613836584521397
           ]
          },
          {
           "marker": {
            "color": "blue"
           },
           "mode": "lines+markers",
           "name": "E_k",
           "type": "scatter3d",
           "x": [
            0,
            -0.0433507486834238
           ],
           "y": [
            0,
            0.17613836584521397
           ],
           "z": [
            0,
            0.9834103866982309
           ]
          }
         ],
         "name": "9",
         "traces": [
          3,
          4,
          5
         ]
        },
        {
         "data": [
          {
           "marker": {
            "color": "red"
           },
           "mode": "lines+markers",
           "name": "E_i",
           "type": "scatter3d",
           "x": [
            0,
            -0.8608746654161034
           ],
           "y": [
            0,
            -0.5060239229152723
           ],
           "z": [
            0,
            0.05324096056750714
           ]
          },
          {
           "marker": {
            "color": "green"
           },
           "mode": "lines+markers",
           "name": "E_j",
           "type": "scatter3d",
           "x": [
            0,
            0.5060239229152723
           ],
           "y": [
            0,
            -0.8405002318837153
           ],
           "z": [
            0,
            0.19364697168006403
           ]
          },
          {
           "marker": {
            "color": "blue"
           },
           "mode": "lines+markers",
           "name": "E_k",
           "type": "scatter3d",
           "x": [
            0,
            -0.05324096056750714
           ],
           "y": [
            0,
            0.19364697168006403
           ],
           "z": [
            0,
            0.979625566467612
           ]
          }
         ],
         "name": "10",
         "traces": [
          3,
          4,
          5
         ]
        },
        {
         "data": [
          {
           "marker": {
            "color": "red"
           },
           "mode": "lines+markers",
           "name": "E_i",
           "type": "scatter3d",
           "x": [
            0,
            -0.8326272970756463
           ],
           "y": [
            0,
            -0.550117518582756
           ],
           "z": [
            0,
            0.06405076043931417
           ]
          },
          {
           "marker": {
            "color": "green"
           },
           "mode": "lines+markers",
           "name": "E_j",
           "type": "scatter3d",
           "x": [
            0,
            0.550117518582756
           ],
           "y": [
            0,
            -0.8081161322251355
           ],
           "z": [
            0,
            0.2105208602154152
           ]
          },
          {
           "marker": {
            "color": "blue"
           },
           "mode": "lines+markers",
           "name": "E_k",
           "type": "scatter3d",
           "x": [
            0,
            -0.06405076043931417
           ],
           "y": [
            0,
            0.2105208602154152
           ],
           "z": [
            0,
            0.975488835149489
           ]
          }
         ],
         "name": "11",
         "traces": [
          3,
          4,
          5
         ]
        },
        {
         "data": [
          {
           "marker": {
            "color": "red"
           },
           "mode": "lines+markers",
           "name": "E_i",
           "type": "scatter3d",
           "x": [
            0,
            -0.8020695160094904
           ],
           "y": [
            0,
            -0.5924079922970662
           ],
           "z": [
            0,
            0.07574471698317164
           ]
          },
          {
           "marker": {
            "color": "green"
           },
           "mode": "lines+markers",
           "name": "E_j",
           "type": "scatter3d",
           "x": [
            0,
            0.5924079922970662
           ],
           "y": [
            0,
            -0.773083267730848
           ],
           "z": [
            0,
            0.22670472385275303
           ]
          },
          {
           "marker": {
            "color": "blue"
           },
           "mode": "lines+markers",
           "name": "E_k",
           "type": "scatter3d",
           "x": [
            0,
            -0.07574471698317164
           ],
           "y": [
            0,
            0.22670472385275303
           ],
           "z": [
            0,
            0.9710137517213575
           ]
          }
         ],
         "name": "12",
         "traces": [
          3,
          4,
          5
         ]
        },
        {
         "data": [
          {
           "marker": {
            "color": "red"
           },
           "mode": "lines+markers",
           "name": "E_i",
           "type": "scatter3d",
           "x": [
            0,
            -0.7693014815545398
           ],
           "y": [
            0,
            -0.6327567284370157
           ],
           "z": [
            0,
            0.08828450088024967
           ]
          },
          {
           "marker": {
            "color": "green"
           },
           "mode": "lines+markers",
           "name": "E_j",
           "type": "scatter3d",
           "x": [
            0,
            0.6327567284370157
           ],
           "y": [
            0,
            -0.7355164657330471
           ],
           "z": [
            0,
            0.24214551669038217
           ]
          },
          {
           "marker": {
            "color": "blue"
           },
           "mode": "lines+markers",
           "name": "E_k",
           "type": "scatter3d",
           "x": [
            0,
            -0.08828450088024967
           ],
           "y": [
            0,
            0.24214551669038217
           ],
           "z": [
            0,
            0.9662149841785073
           ]
          }
         ],
         "name": "13",
         "traces": [
          3,
          4,
          5
         ]
        },
        {
         "data": [
          {
           "marker": {
            "color": "red"
           },
           "mode": "lines+markers",
           "name": "E_i",
           "type": "scatter3d",
           "x": [
            0,
            -0.7344305976023127
           ],
           "y": [
            0,
            -0.6710314758208855
           ],
           "z": [
            0,
            0.10162901044069275
           ]
          },
          {
           "marker": {
            "color": "green"
           },
           "mode": "lines+markers",
           "name": "E_j",
           "type": "scatter3d",
           "x": [
            0,
            0.6710314758208855
           ],
           "y": [
            0,
            -0.6955388590590008
           ],
           "z": [
            0,
            0.2567926283921483
           ]
          },
          {
           "marker": {
            "color": "blue"
           },
           "mode": "lines+markers",
           "name": "E_k",
           "type": "scatter3d",
           "x": [
            0,
            -0.10162901044069275
           ],
           "y": [
            0,
            0.2567926283921483
           ],
           "z": [
            0,
            0.9611082614566882
           ]
          }
         ],
         "name": "14",
         "traces": [
          3,
          4,
          5
         ]
        },
        {
         "data": [
          {
           "marker": {
            "color": "red"
           },
           "mode": "lines+markers",
           "name": "E_i",
           "type": "scatter3d",
           "x": [
            0,
            -0.6975711605608613
           ],
           "y": [
            0,
            -0.7071067811865476
           ],
           "z": [
            0,
            0.11573450632276026
           ]
          },
          {
           "marker": {
            "color": "green"
           },
           "mode": "lines+markers",
           "name": "E_j",
           "type": "scatter3d",
           "x": [
            0,
            0.7071067811865476
           ],
           "y": [
            0,
            -0.6532814824381883
           ],
           "z": [
            0,
            0.27059805007309856
           ]
          },
          {
           "marker": {
            "color": "blue"
           },
           "mode": "lines+markers",
           "name": "E_k",
           "type": "scatter3d",
           "x": [
            0,
            -0.11573450632276026
           ],
           "y": [
            0,
            0.27059805007309856
           ],
           "z": [
            0,
            0.955710321877327
           ]
          }
         ],
         "name": "15",
         "traces": [
          3,
          4,
          5
         ]
        },
        {
         "data": [
          {
           "marker": {
            "color": "red"
           },
           "mode": "lines+markers",
           "name": "E_i",
           "type": "scatter3d",
           "x": [
            0,
            -0.6588439847250702
           ],
           "y": [
            0,
            -0.7408644003900237
           ],
           "z": [
            0,
            0.13055475489740714
           ]
          },
          {
           "marker": {
            "color": "green"
           },
           "mode": "lines+markers",
           "name": "E_j",
           "type": "scatter3d",
           "x": [
            0,
            0.7408644003900237
           ],
           "y": [
            0,
            -0.6088828430093474
           ],
           "z": [
            0,
            0.2835165316583585
           ]
          },
          {
           "marker": {
            "color": "blue"
           },
           "mode": "lines+markers",
           "name": "E_k",
           "type": "scatter3d",
           "x": [
            0,
            -0.13055475489740714
           ],
           "y": [
            0,
            0.2835165316583585
           ],
           "z": [
            0,
            0.9500388582842771
           ]
          }
         ],
         "name": "16",
         "traces": [
          3,
          4,
          5
         ]
        },
        {
         "data": [
          {
           "marker": {
            "color": "red"
           },
           "mode": "lines+markers",
           "name": "E_i",
           "type": "scatter3d",
           "x": [
            0,
            -0.618376006283254
           ],
           "y": [
            0,
            -0.7721936859746951
           ],
           "z": [
            0,
            0.14604117978839787
           ]
          },
          {
           "marker": {
            "color": "green"
           },
           "mode": "lines+markers",
           "name": "E_j",
           "type": "scatter3d",
           "x": [
            0,
            0.7721936859746951
           ],
           "y": [
            0,
            -0.5624884663351827
           ],
           "z": [
            0,
            0.29550573019944665
           ]
          },
          {
           "marker": {
            "color": "blue"
           },
           "mode": "lines+markers",
           "name": "E_k",
           "type": "scatter3d",
           "x": [
            0,
            -0.14604117978839787
           ],
           "y": [
            0,
            0.29550573019944665
           ],
           "z": [
            0,
            0.9441124600519288
           ]
          }
         ],
         "name": "17",
         "traces": [
          3,
          4,
          5
         ]
        },
        {
         "data": [
          {
           "marker": {
            "color": "red"
           },
           "mode": "lines+markers",
           "name": "E_i",
           "type": "scatter3d",
           "x": [
            0,
            -0.576299867258006
           ],
           "y": [
            0,
            -0.8009919498408251
           ],
           "z": [
            0,
            0.16214302109125045
           ]
          },
          {
           "marker": {
            "color": "green"
           },
           "mode": "lines+markers",
           "name": "E_j",
           "type": "scatter3d",
           "x": [
            0,
            0.8009919498408251
           ],
           "y": [
            0,
            -0.5142504194127611
           ],
           "z": [
            0,
            0.3065263486618928
           ]
          },
          {
           "marker": {
            "color": "blue"
           },
           "mode": "lines+markers",
           "name": "E_k",
           "type": "scatter3d",
           "x": [
            0,
            -0.16214302109125045
           ],
           "y": [
            0,
            0.3065263486618928
           ],
           "z": [
            0,
            0.9379505521547551
           ]
          }
         ],
         "name": "18",
         "traces": [
          3,
          4,
          5
         ]
        },
        {
         "data": [
          {
           "marker": {
            "color": "red"
           },
           "mode": "lines+markers",
           "name": "E_i",
           "type": "scatter3d",
           "x": [
            0,
            -0.5327534807450165
           ],
           "y": [
            0,
            -0.8271647998266738
           ],
           "z": [
            0,
            0.17880750174913812
           ]
          },
          {
           "marker": {
            "color": "green"
           },
           "mode": "lines+markers",
           "name": "E_j",
           "type": "scatter3d",
           "x": [
            0,
            0.8271647998266738
           ],
           "y": [
            0,
            -0.4643268122430295
           ],
           "z": [
            0,
            0.316542264729254
           ]
          },
          {
           "marker": {
            "color": "blue"
           },
           "mode": "lines+markers",
           "name": "E_k",
           "type": "scatter3d",
           "x": [
            0,
            -0.17880750174913812
           ],
           "y": [
            0,
            0.316542264729254
           ],
           "z": [
            0,
            0.931573331498013
           ]
          }
         ],
         "name": "19",
         "traces": [
          3,
          4,
          5
         ]
        },
        {
         "data": [
          {
           "marker": {
            "color": "red"
           },
           "mode": "lines+markers",
           "name": "E_i",
           "type": "scatter3d",
           "x": [
            0,
            -0.4878795788748772
           ],
           "y": [
            0,
            -0.8506264490979872
           ],
           "z": [
            0,
            0.19598000054041728
           ]
          },
          {
           "marker": {
            "color": "green"
           },
           "mode": "lines+markers",
           "name": "E_j",
           "type": "scatter3d",
           "x": [
            0,
            0.8506264490979872
           ],
           "y": [
            0,
            -0.4128812795931581
           ],
           "z": [
            0,
            0.3255206492013461
           ]
          },
          {
           "marker": {
            "color": "blue"
           },
           "mode": "lines+markers",
           "name": "E_k",
           "type": "scatter3d",
           "x": [
            0,
            -0.19598000054041728
           ],
           "y": [
            0,
            0.3255206492013461
           ],
           "z": [
            0,
            0.925001700718281
           ]
          }
         ],
         "name": "20",
         "traces": [
          3,
          4,
          5
         ]
        },
        {
         "data": [
          {
           "marker": {
            "color": "red"
           },
           "mode": "lines+markers",
           "name": "E_i",
           "type": "scatter3d",
           "x": [
            0,
            -0.4418252449795186
           ],
           "y": [
            0,
            -0.8712999973317805
           ],
           "z": [
            0,
            0.21360423111078106
           ]
          },
          {
           "marker": {
            "color": "green"
           },
           "mode": "lines+markers",
           "name": "E_j",
           "type": "scatter3d",
           "x": [
            0,
            0.8712999973317805
           ],
           "y": [
            0,
            -0.360082444650339
           ],
           "z": [
            0,
            0.33343207359861937
           ]
          },
          {
           "marker": {
            "color": "blue"
           },
           "mode": "lines+markers",
           "name": "E_k",
           "type": "scatter3d",
           "x": [
            0,
            -0.21360423111078106
           ],
           "y": [
            0,
            0.33343207359861937
           ],
           "z": [
            0,
            0.9182571996708206
           ]
          }
         ],
         "name": "21",
         "traces": [
          3,
          4,
          5
         ]
        },
        {
         "data": [
          {
           "marker": {
            "color": "red"
           },
           "mode": "lines+markers",
           "name": "E_i",
           "type": "scatter3d",
           "x": [
            0,
            -0.3947414314967024
           ],
           "y": [
            0,
            -0.8891176827727717
           ],
           "z": [
            0,
            0.2316224264632228
           ]
          },
          {
           "marker": {
            "color": "green"
           },
           "mode": "lines+markers",
           "name": "E_j",
           "type": "scatter3d",
           "x": [
            0,
            0.8891176827727717
           ],
           "y": [
            0,
            -0.30610336632502566
           ],
           "z": [
            0,
            0.34025060661997947
           ]
          },
          {
           "marker": {
            "color": "blue"
           },
           "mode": "lines+markers",
           "name": "E_k",
           "type": "scatter3d",
           "x": [
            0,
            -0.2316224264632228
           ],
           "y": [
            0,
            0.34025060661997947
           ],
           "z": [
            0,
            0.9113619348283233
           ]
          }
         ],
         "name": "22",
         "traces": [
          3,
          4,
          5
         ]
        },
        {
         "data": [
          {
           "marker": {
            "color": "red"
           },
           "mode": "lines+markers",
           "name": "E_i",
           "type": "scatter3d",
           "x": [
            0,
            -0.34678246519273226
           ],
           "y": [
            0,
            -0.9040211043363056
           ],
           "z": [
            0,
            0.24997552830110775
           ]
          },
          {
           "marker": {
            "color": "green"
           },
           "mode": "lines+markers",
           "name": "E_j",
           "type": "scatter3d",
           "x": [
            0,
            0.9040211043363056
           ],
           "y": [
            0,
            -0.2511209720151877
           ],
           "z": [
            0,
            0.3459538991378964
           ]
          },
          {
           "marker": {
            "color": "blue"
           },
           "mode": "lines+markers",
           "name": "E_k",
           "type": "scatter3d",
           "x": [
            0,
            -0.24997552830110775
           ],
           "y": [
            0,
            0.3459538991378964
           ],
           "z": [
            0,
            0.9043385068224554
           ]
          }
         ],
         "name": "23",
         "traces": [
          3,
          4,
          5
         ]
        },
        {
         "data": [
          {
           "marker": {
            "color": "red"
           },
           "mode": "lines+markers",
           "name": "E_i",
           "type": "scatter3d",
           "x": [
            0,
            -0.2981055413251182
           ],
           "y": [
            0,
            -0.9159614130297743
           ],
           "z": [
            0,
            0.2686033806037405
           ]
          },
          {
           "marker": {
            "color": "green"
           },
           "mode": "lines+markers",
           "name": "E_j",
           "type": "scatter3d",
           "x": [
            0,
            0.9159614130297743
           ],
           "y": [
            0,
            -0.1953154776908122
           ],
           "z": [
            0,
            0.35052325745221175
           ]
          },
          {
           "marker": {
            "color": "blue"
           },
           "mode": "lines+markers",
           "name": "E_k",
           "type": "scatter3d",
           "x": [
            0,
            -0.2686033806037405
           ],
           "y": [
            0,
            0.35052325745221175
           ],
           "z": [
            0,
            0.8972099363656942
           ]
          }
         ],
         "name": "24",
         "traces": [
          3,
          4,
          5
         ]
        },
        {
         "data": [
          {
           "marker": {
            "color": "red"
           },
           "mode": "lines+markers",
           "name": "E_i",
           "type": "scatter3d",
           "x": [
            0,
            -0.24887020840317642
           ],
           "y": [
            0,
            -0.9248994720651174
           ],
           "z": [
            0,
            0.2874449267999471
           ]
          },
          {
           "marker": {
            "color": "green"
           },
           "mode": "lines+markers",
           "name": "E_j",
           "type": "scatter3d",
           "x": [
            0,
            0.9248994720651174
           ],
           "y": [
            0,
            -0.1388697971994407
           ],
           "z": [
            0,
            0.35394370456253865
           ]
          },
          {
           "marker": {
            "color": "blue"
           },
           "mode": "lines+markers",
           "name": "E_k",
           "type": "scatter3d",
           "x": [
            0,
            -0.2874449267999471
           ],
           "y": [
            0,
            0.35394370456253865
           ],
           "z": [
            0,
            0.8899995887962644
           ]
          }
         ],
         "name": "25",
         "traces": [
          3,
          4,
          5
         ]
        },
        {
         "data": [
          {
           "marker": {
            "color": "red"
           },
           "mode": "lines+markers",
           "name": "E_i",
           "type": "scatter3d",
           "x": [
            0,
            -0.1992378452353697
           ],
           "y": [
            0,
            -0.9308059851375986
           ],
           "z": [
            0,
            0.30643840989339405
           ]
          },
          {
           "marker": {
            "color": "green"
           },
           "mode": "lines+markers",
           "name": "E_j",
           "type": "scatter3d",
           "x": [
            0,
            0.9308059851375986
           ],
           "y": [
            0,
            -0.08196894272886535
           ],
           "z": [
            0,
            0.35620402925842504
           ]
          },
          {
           "marker": {
            "color": "blue"
           },
           "mode": "lines+markers",
           "name": "E_k",
           "type": "scatter3d",
           "x": [
            0,
            -0.30643840989339405
           ],
           "y": [
            0,
            0.35620402925842504
           ],
           "z": [
            0,
            0.8827310974934958
           ]
          }
         ],
         "name": "26",
         "traces": [
          3,
          4,
          5
         ]
        },
        {
         "data": [
          {
           "marker": {
            "color": "red"
           },
           "mode": "lines+markers",
           "name": "E_i",
           "type": "scatter3d",
           "x": [
            0,
            -0.14937113197746954
           ],
           "y": [
            0,
            -0.9336615924503961
           ],
           "z": [
            0,
            0.32552157488369293
           ]
          },
          {
           "marker": {
            "color": "green"
           },
           "mode": "lines+markers",
           "name": "E_j",
           "type": "scatter3d",
           "x": [
            0,
            0.9336615924503961
           ],
           "y": [
            0,
            -0.024799418392088324
           ],
           "z": [
            0,
            0.3572968228663732
           ]
          },
          {
           "marker": {
            "color": "blue"
           },
           "mode": "lines+markers",
           "name": "E_k",
           "type": "scatter3d",
           "x": [
            0,
            -0.32552157488369293
           ],
           "y": [
            0,
            0.3572968228663732
           ],
           "z": [
            0,
            0.8754282864146188
           ]
          }
         ],
         "name": "27",
         "traces": [
          3,
          4,
          5
         ]
        },
        {
         "data": [
          {
           "marker": {
            "color": "red"
           },
           "mode": "lines+markers",
           "name": "E_i",
           "type": "scatter3d",
           "x": [
            0,
            -0.0994335169152889
           ],
           "y": [
            0,
            -0.9334569341702724
           ],
           "z": [
            0,
            0.344631872819815
           ]
          },
          {
           "marker": {
            "color": "green"
           },
           "mode": "lines+markers",
           "name": "E_j",
           "type": "scatter3d",
           "x": [
            0,
            0.9334569341702724
           ],
           "y": [
            0,
            0.032451391077807035
           ],
           "z": [
            0,
            0.3572185035332736
           ]
          },
          {
           "marker": {
            "color": "blue"
           },
           "mode": "lines+markers",
           "name": "E_k",
           "type": "scatter3d",
           "x": [
            0,
            -0.344631872819815
           ],
           "y": [
            0,
            0.3572185035332736
           ],
           "z": [
            0,
            0.8681150920069043
           ]
          }
         ],
         "name": "28",
         "traces": [
          3,
          4,
          5
         ]
        },
        {
         "data": [
          {
           "marker": {
            "color": "red"
           },
           "mode": "lines+markers",
           "name": "E_i",
           "type": "scatter3d",
           "x": [
            0,
            -0.049588680729711676
           ],
           "y": [
            0,
            -0.9301926811063271
           ],
           "z": [
            0,
            0.36370666581698724
           ]
          },
          {
           "marker": {
            "color": "green"
           },
           "mode": "lines+markers",
           "name": "E_j",
           "type": "scatter3d",
           "x": [
            0,
            0.9301926811063271
           ],
           "y": [
            0,
            0.08959583451919573
           ],
           "z": [
            0,
            0.3559693279666547
           ]
          },
          {
           "marker": {
            "color": "blue"
           },
           "mode": "lines+markers",
           "name": "E_k",
           "type": "scatter3d",
           "x": [
            0,
            -0.36370666581698724
           ],
           "y": [
            0,
            0.3559693279666547
           ],
           "z": [
            0,
            0.8608154847510927
           ]
          }
         ],
         "name": "29",
         "traces": [
          3,
          4,
          5
         ]
        },
        {
         "data": [
          {
           "marker": {
            "color": "red"
           },
           "mode": "lines+markers",
           "name": "E_i",
           "type": "scatter3d",
           "x": [
            0,
            5.551115123125783e-17
           ],
           "y": [
            0,
            -0.9238795325112868
           ],
           "z": [
            0,
            0.3826834323650899
           ]
          },
          {
           "marker": {
            "color": "green"
           },
           "mode": "lines+markers",
           "name": "E_j",
           "type": "scatter3d",
           "x": [
            0,
            0.9238795325112868
           ],
           "y": [
            0,
            0.14644660940672632
           ],
           "z": [
            0,
            0.35355339059327384
           ]
          },
          {
           "marker": {
            "color": "blue"
           },
           "mode": "lines+markers",
           "name": "E_k",
           "type": "scatter3d",
           "x": [
            0,
            -0.3826834323650899
           ],
           "y": [
            0,
            0.35355339059327384
           ],
           "z": [
            0,
            0.853553390593274
           ]
          }
         ],
         "name": "30",
         "traces": [
          3,
          4,
          5
         ]
        }
       ],
       "layout": {
        "height": 800,
        "scene": {
         "aspectmode": "cube",
         "aspectratio": {
          "x": 1,
          "y": 1,
          "z": 1
         },
         "xaxis": {
          "autorange": false,
          "range": [
           -1,
           1
          ],
          "type": "linear"
         },
         "yaxis": {
          "autorange": false,
          "range": [
           -1,
           1
          ],
          "type": "linear"
         },
         "zaxis": {
          "autorange": false,
          "range": [
           -1,
           1
          ],
          "type": "linear"
         }
        },
        "sliders": [
         {
          "active": 30,
          "currentvalue": {
           "prefix": "Step: ",
           "visible": true
          },
          "steps": [
           {
            "args": [
             [
              "0"
             ],
             {
              "frame": {
               "duration": 100,
               "redraw": true
              },
              "fromcurrent": true,
              "mode": "immediate"
             }
            ],
            "label": "0",
            "method": "animate"
           },
           {
            "args": [
             [
              "1"
             ],
             {
              "frame": {
               "duration": 100,
               "redraw": true
              },
              "fromcurrent": true,
              "mode": "immediate"
             }
            ],
            "label": "1",
            "method": "animate"
           },
           {
            "args": [
             [
              "2"
             ],
             {
              "frame": {
               "duration": 100,
               "redraw": true
              },
              "fromcurrent": true,
              "mode": "immediate"
             }
            ],
            "label": "2",
            "method": "animate"
           },
           {
            "args": [
             [
              "3"
             ],
             {
              "frame": {
               "duration": 100,
               "redraw": true
              },
              "fromcurrent": true,
              "mode": "immediate"
             }
            ],
            "label": "3",
            "method": "animate"
           },
           {
            "args": [
             [
              "4"
             ],
             {
              "frame": {
               "duration": 100,
               "redraw": true
              },
              "fromcurrent": true,
              "mode": "immediate"
             }
            ],
            "label": "4",
            "method": "animate"
           },
           {
            "args": [
             [
              "5"
             ],
             {
              "frame": {
               "duration": 100,
               "redraw": true
              },
              "fromcurrent": true,
              "mode": "immediate"
             }
            ],
            "label": "5",
            "method": "animate"
           },
           {
            "args": [
             [
              "6"
             ],
             {
              "frame": {
               "duration": 100,
               "redraw": true
              },
              "fromcurrent": true,
              "mode": "immediate"
             }
            ],
            "label": "6",
            "method": "animate"
           },
           {
            "args": [
             [
              "7"
             ],
             {
              "frame": {
               "duration": 100,
               "redraw": true
              },
              "fromcurrent": true,
              "mode": "immediate"
             }
            ],
            "label": "7",
            "method": "animate"
           },
           {
            "args": [
             [
              "8"
             ],
             {
              "frame": {
               "duration": 100,
               "redraw": true
              },
              "fromcurrent": true,
              "mode": "immediate"
             }
            ],
            "label": "8",
            "method": "animate"
           },
           {
            "args": [
             [
              "9"
             ],
             {
              "frame": {
               "duration": 100,
               "redraw": true
              },
              "fromcurrent": true,
              "mode": "immediate"
             }
            ],
            "label": "9",
            "method": "animate"
           },
           {
            "args": [
             [
              "10"
             ],
             {
              "frame": {
               "duration": 100,
               "redraw": true
              },
              "fromcurrent": true,
              "mode": "immediate"
             }
            ],
            "label": "10",
            "method": "animate"
           },
           {
            "args": [
             [
              "11"
             ],
             {
              "frame": {
               "duration": 100,
               "redraw": true
              },
              "fromcurrent": true,
              "mode": "immediate"
             }
            ],
            "label": "11",
            "method": "animate"
           },
           {
            "args": [
             [
              "12"
             ],
             {
              "frame": {
               "duration": 100,
               "redraw": true
              },
              "fromcurrent": true,
              "mode": "immediate"
             }
            ],
            "label": "12",
            "method": "animate"
           },
           {
            "args": [
             [
              "13"
             ],
             {
              "frame": {
               "duration": 100,
               "redraw": true
              },
              "fromcurrent": true,
              "mode": "immediate"
             }
            ],
            "label": "13",
            "method": "animate"
           },
           {
            "args": [
             [
              "14"
             ],
             {
              "frame": {
               "duration": 100,
               "redraw": true
              },
              "fromcurrent": true,
              "mode": "immediate"
             }
            ],
            "label": "14",
            "method": "animate"
           },
           {
            "args": [
             [
              "15"
             ],
             {
              "frame": {
               "duration": 100,
               "redraw": true
              },
              "fromcurrent": true,
              "mode": "immediate"
             }
            ],
            "label": "15",
            "method": "animate"
           },
           {
            "args": [
             [
              "16"
             ],
             {
              "frame": {
               "duration": 100,
               "redraw": true
              },
              "fromcurrent": true,
              "mode": "immediate"
             }
            ],
            "label": "16",
            "method": "animate"
           },
           {
            "args": [
             [
              "17"
             ],
             {
              "frame": {
               "duration": 100,
               "redraw": true
              },
              "fromcurrent": true,
              "mode": "immediate"
             }
            ],
            "label": "17",
            "method": "animate"
           },
           {
            "args": [
             [
              "18"
             ],
             {
              "frame": {
               "duration": 100,
               "redraw": true
              },
              "fromcurrent": true,
              "mode": "immediate"
             }
            ],
            "label": "18",
            "method": "animate"
           },
           {
            "args": [
             [
              "19"
             ],
             {
              "frame": {
               "duration": 100,
               "redraw": true
              },
              "fromcurrent": true,
              "mode": "immediate"
             }
            ],
            "label": "19",
            "method": "animate"
           },
           {
            "args": [
             [
              "20"
             ],
             {
              "frame": {
               "duration": 100,
               "redraw": true
              },
              "fromcurrent": true,
              "mode": "immediate"
             }
            ],
            "label": "20",
            "method": "animate"
           },
           {
            "args": [
             [
              "21"
             ],
             {
              "frame": {
               "duration": 100,
               "redraw": true
              },
              "fromcurrent": true,
              "mode": "immediate"
             }
            ],
            "label": "21",
            "method": "animate"
           },
           {
            "args": [
             [
              "22"
             ],
             {
              "frame": {
               "duration": 100,
               "redraw": true
              },
              "fromcurrent": true,
              "mode": "immediate"
             }
            ],
            "label": "22",
            "method": "animate"
           },
           {
            "args": [
             [
              "23"
             ],
             {
              "frame": {
               "duration": 100,
               "redraw": true
              },
              "fromcurrent": true,
              "mode": "immediate"
             }
            ],
            "label": "23",
            "method": "animate"
           },
           {
            "args": [
             [
              "24"
             ],
             {
              "frame": {
               "duration": 100,
               "redraw": true
              },
              "fromcurrent": true,
              "mode": "immediate"
             }
            ],
            "label": "24",
            "method": "animate"
           },
           {
            "args": [
             [
              "25"
             ],
             {
              "frame": {
               "duration": 100,
               "redraw": true
              },
              "fromcurrent": true,
              "mode": "immediate"
             }
            ],
            "label": "25",
            "method": "animate"
           },
           {
            "args": [
             [
              "26"
             ],
             {
              "frame": {
               "duration": 100,
               "redraw": true
              },
              "fromcurrent": true,
              "mode": "immediate"
             }
            ],
            "label": "26",
            "method": "animate"
           },
           {
            "args": [
             [
              "27"
             ],
             {
              "frame": {
               "duration": 100,
               "redraw": true
              },
              "fromcurrent": true,
              "mode": "immediate"
             }
            ],
            "label": "27",
            "method": "animate"
           },
           {
            "args": [
             [
              "28"
             ],
             {
              "frame": {
               "duration": 100,
               "redraw": true
              },
              "fromcurrent": true,
              "mode": "immediate"
             }
            ],
            "label": "28",
            "method": "animate"
           },
           {
            "args": [
             [
              "29"
             ],
             {
              "frame": {
               "duration": 100,
               "redraw": true
              },
              "fromcurrent": true,
              "mode": "immediate"
             }
            ],
            "label": "29",
            "method": "animate"
           },
           {
            "args": [
             [
              "30"
             ],
             {
              "frame": {
               "duration": 100,
               "redraw": true
              },
              "fromcurrent": true,
              "mode": "immediate"
             }
            ],
            "label": "30",
            "method": "animate"
           }
          ],
          "x": 0.1,
          "y": 0
         }
        ],
        "template": {
         "data": {
          "pie": [
           {
            "automargin": true,
            "type": "pie"
           }
          ],
          "scatter": [
           {
            "line": {
             "width": 3
            },
            "marker": {
             "size": 9
            },
            "type": "scatter"
           }
          ],
          "scatter3d": [
           {
            "line": {
             "width": 3
            },
            "marker": {
             "size": 9
            },
            "type": "scatter3d"
           }
          ],
          "scattergeo": [
           {
            "line": {
             "width": 3
            },
            "marker": {
             "size": 9
            },
            "type": "scattergeo"
           }
          ],
          "scattergl": [
           {
            "line": {
             "width": 3
            },
            "marker": {
             "size": 9
            },
            "type": "scattergl"
           }
          ],
          "scatterpolar": [
           {
            "line": {
             "width": 3
            },
            "marker": {
             "size": 9
            },
            "type": "scatterpolar"
           }
          ],
          "scatterpolargl": [
           {
            "line": {
             "width": 3
            },
            "marker": {
             "size": 9
            },
            "type": "scatterpolargl"
           }
          ],
          "scatterternary": [
           {
            "line": {
             "width": 3
            },
            "marker": {
             "size": 9
            },
            "type": "scatterternary"
           }
          ],
          "table": [
           {
            "cells": {
             "height": 30
            },
            "header": {
             "height": 36
            },
            "type": "table"
           }
          ]
         },
         "layout": {
          "font": {
           "size": 18
          },
          "xaxis": {
           "title": {
            "standoff": 15
           }
          },
          "yaxis": {
           "title": {
            "standoff": 15
           }
          }
         }
        },
        "title": {
         "text": "Quaternion Rotation Animation"
        },
        "updatemenus": [
         {
          "active": 0,
          "buttons": [
           {
            "args": [
             null,
             {
              "frame": {
               "duration": 100,
               "redraw": true
              },
              "fromcurrent": true,
              "mode": "immediate"
             }
            ],
            "label": "Play",
            "method": "animate"
           }
          ],
          "showactive": false,
          "type": "buttons",
          "x": -0.02,
          "xanchor": "left",
          "y": -0.13,
          "yanchor": "bottom"
         }
        ],
        "width": 1000
       }
      },
      "image/png": "[encoded data removed]",
      "text/html": [
       "<div>                            <div id=\"4d4d14fb-397e-4b70-9e4c-f79e1c77a553\" class=\"plotly-graph-div\" style=\"height:800px; width:1000px;\"></div>            <script type=\"text/javascript\">                require([\"plotly\"], function(Plotly) {                    window.PLOTLYENV=window.PLOTLYENV || {};                                    if (document.getElementById(\"4d4d14fb-397e-4b70-9e4c-f79e1c77a553\")) {                    Plotly.newPlot(                        \"4d4d14fb-397e-4b70-9e4c-f79e1c77a553\",                        [{\"line\":{\"color\":\"red\",\"dash\":\"dot\"},\"marker\":{\"color\":\"red\"},\"mode\":\"lines+markers\",\"name\":\"N_i (static)\",\"x\":[0,1.0],\"y\":[0,0.0],\"z\":[0,0.0],\"type\":\"scatter3d\"},{\"line\":{\"color\":\"green\",\"dash\":\"dot\"},\"marker\":{\"color\":\"green\"},\"mode\":\"lines+markers\",\"name\":\"N_j (static)\",\"x\":[0,0.0],\"y\":[0,1.0],\"z\":[0,0.0],\"type\":\"scatter3d\"},{\"line\":{\"color\":\"blue\",\"dash\":\"dot\"},\"marker\":{\"color\":\"blue\"},\"mode\":\"lines+markers\",\"name\":\"N_k (static)\",\"x\":[0,0.0],\"y\":[0,0.0],\"z\":[0,1.0],\"type\":\"scatter3d\"},{\"line\":{\"color\":\"red\",\"dash\":\"solid\"},\"marker\":{\"color\":\"red\"},\"mode\":\"lines+markers\",\"name\":\"E_i\",\"x\":[0,1.0],\"y\":[0,0.0],\"z\":[0,0.0],\"type\":\"scatter3d\"},{\"line\":{\"color\":\"green\",\"dash\":\"solid\"},\"marker\":{\"color\":\"green\"},\"mode\":\"lines+markers\",\"name\":\"E_j\",\"x\":[0,0.0],\"y\":[0,1.0],\"z\":[0,0.0],\"type\":\"scatter3d\"},{\"line\":{\"color\":\"blue\",\"dash\":\"solid\"},\"marker\":{\"color\":\"blue\"},\"mode\":\"lines+markers\",\"name\":\"E_k\",\"x\":[0,0.0],\"y\":[0,0.0],\"z\":[0,1.0],\"type\":\"scatter3d\"},{\"hoverinfo\":\"text+name\",\"line\":{\"color\":\"purple\",\"width\":5},\"mode\":\"lines+markers\",\"name\":\"Rotation Axis (normalized)\",\"text\":\"x: 0.93\\u003cbr\\u003ey: 0.00\\u003cbr\\u003ez: 0.36\\u003cbr\\u003eNorm: 1.00\",\"x\":[0,0.9339488310944647],\"y\":[0,0.0],\"z\":[0,0.3574067443365933],\"type\":\"scatter3d\"}],                        {\"template\":{\"data\":{\"pie\":[{\"automargin\":true,\"type\":\"pie\"}],\"scatter3d\":[{\"line\":{\"width\":3},\"marker\":{\"size\":9},\"type\":\"scatter3d\"}],\"scattergeo\":[{\"line\":{\"width\":3},\"marker\":{\"size\":9},\"type\":\"scattergeo\"}],\"scattergl\":[{\"line\":{\"width\":3},\"marker\":{\"size\":9},\"type\":\"scattergl\"}],\"scatterpolargl\":[{\"line\":{\"width\":3},\"marker\":{\"size\":9},\"type\":\"scatterpolargl\"}],\"scatterpolar\":[{\"line\":{\"width\":3},\"marker\":{\"size\":9},\"type\":\"scatterpolar\"}],\"scatter\":[{\"line\":{\"width\":3},\"marker\":{\"size\":9},\"type\":\"scatter\"}],\"scatterternary\":[{\"line\":{\"width\":3},\"marker\":{\"size\":9},\"type\":\"scatterternary\"}],\"table\":[{\"cells\":{\"height\":30},\"header\":{\"height\":36},\"type\":\"table\"}]},\"layout\":{\"font\":{\"size\":18},\"xaxis\":{\"title\":{\"standoff\":15}},\"yaxis\":{\"title\":{\"standoff\":15}}}},\"updatemenus\":[{\"buttons\":[{\"args\":[null,{\"frame\":{\"duration\":100,\"redraw\":true},\"fromcurrent\":true,\"mode\":\"immediate\"}],\"label\":\"Play\",\"method\":\"animate\"}],\"showactive\":false,\"type\":\"buttons\",\"x\":-0.02,\"xanchor\":\"left\",\"y\":-0.13,\"yanchor\":\"bottom\"}],\"sliders\":[{\"currentvalue\":{\"prefix\":\"Step: \",\"visible\":true},\"steps\":[{\"args\":[[\"0\"],{\"mode\":\"immediate\",\"frame\":{\"duration\":100,\"redraw\":true},\"fromcurrent\":true}],\"label\":\"0\",\"method\":\"animate\"},{\"args\":[[\"1\"],{\"mode\":\"immediate\",\"frame\":{\"duration\":100,\"redraw\":true},\"fromcurrent\":true}],\"label\":\"1\",\"method\":\"animate\"},{\"args\":[[\"2\"],{\"mode\":\"immediate\",\"frame\":{\"duration\":100,\"redraw\":true},\"fromcurrent\":true}],\"label\":\"2\",\"method\":\"animate\"},{\"args\":[[\"3\"],{\"mode\":\"immediate\",\"frame\":{\"duration\":100,\"redraw\":true},\"fromcurrent\":true}],\"label\":\"3\",\"method\":\"animate\"},{\"args\":[[\"4\"],{\"mode\":\"immediate\",\"frame\":{\"duration\":100,\"redraw\":true},\"fromcurrent\":true}],\"label\":\"4\",\"method\":\"animate\"},{\"args\":[[\"5\"],{\"mode\":\"immediate\",\"frame\":{\"duration\":100,\"redraw\":true},\"fromcurrent\":true}],\"label\":\"5\",\"method\":\"animate\"},{\"args\":[[\"6\"],{\"mode\":\"immediate\",\"frame\":{\"duration\":100,\"redraw\":true},\"fromcurrent\":true}],\"label\":\"6\",\"method\":\"animate\"},{\"args\":[[\"7\"],{\"mode\":\"immediate\",\"frame\":{\"duration\":100,\"redraw\":true},\"fromcurrent\":true}],\"label\":\"7\",\"method\":\"animate\"},{\"args\":[[\"8\"],{\"mode\":\"immediate\",\"frame\":{\"duration\":100,\"redraw\":true},\"fromcurrent\":true}],\"label\":\"8\",\"method\":\"animate\"},{\"args\":[[\"9\"],{\"mode\":\"immediate\",\"frame\":{\"duration\":100,\"redraw\":true},\"fromcurrent\":true}],\"label\":\"9\",\"method\":\"animate\"},{\"args\":[[\"10\"],{\"mode\":\"immediate\",\"frame\":{\"duration\":100,\"redraw\":true},\"fromcurrent\":true}],\"label\":\"10\",\"method\":\"animate\"},{\"args\":[[\"11\"],{\"mode\":\"immediate\",\"frame\":{\"duration\":100,\"redraw\":true},\"fromcurrent\":true}],\"label\":\"11\",\"method\":\"animate\"},{\"args\":[[\"12\"],{\"mode\":\"immediate\",\"frame\":{\"duration\":100,\"redraw\":true},\"fromcurrent\":true}],\"label\":\"12\",\"method\":\"animate\"},{\"args\":[[\"13\"],{\"mode\":\"immediate\",\"frame\":{\"duration\":100,\"redraw\":true},\"fromcurrent\":true}],\"label\":\"13\",\"method\":\"animate\"},{\"args\":[[\"14\"],{\"mode\":\"immediate\",\"frame\":{\"duration\":100,\"redraw\":true},\"fromcurrent\":true}],\"label\":\"14\",\"method\":\"animate\"},{\"args\":[[\"15\"],{\"mode\":\"immediate\",\"frame\":{\"duration\":100,\"redraw\":true},\"fromcurrent\":true}],\"label\":\"15\",\"method\":\"animate\"},{\"args\":[[\"16\"],{\"mode\":\"immediate\",\"frame\":{\"duration\":100,\"redraw\":true},\"fromcurrent\":true}],\"label\":\"16\",\"method\":\"animate\"},{\"args\":[[\"17\"],{\"mode\":\"immediate\",\"frame\":{\"duration\":100,\"redraw\":true},\"fromcurrent\":true}],\"label\":\"17\",\"method\":\"animate\"},{\"args\":[[\"18\"],{\"mode\":\"immediate\",\"frame\":{\"duration\":100,\"redraw\":true},\"fromcurrent\":true}],\"label\":\"18\",\"method\":\"animate\"},{\"args\":[[\"19\"],{\"mode\":\"immediate\",\"frame\":{\"duration\":100,\"redraw\":true},\"fromcurrent\":true}],\"label\":\"19\",\"method\":\"animate\"},{\"args\":[[\"20\"],{\"mode\":\"immediate\",\"frame\":{\"duration\":100,\"redraw\":true},\"fromcurrent\":true}],\"label\":\"20\",\"method\":\"animate\"},{\"args\":[[\"21\"],{\"mode\":\"immediate\",\"frame\":{\"duration\":100,\"redraw\":true},\"fromcurrent\":true}],\"label\":\"21\",\"method\":\"animate\"},{\"args\":[[\"22\"],{\"mode\":\"immediate\",\"frame\":{\"duration\":100,\"redraw\":true},\"fromcurrent\":true}],\"label\":\"22\",\"method\":\"animate\"},{\"args\":[[\"23\"],{\"mode\":\"immediate\",\"frame\":{\"duration\":100,\"redraw\":true},\"fromcurrent\":true}],\"label\":\"23\",\"method\":\"animate\"},{\"args\":[[\"24\"],{\"mode\":\"immediate\",\"frame\":{\"duration\":100,\"redraw\":true},\"fromcurrent\":true}],\"label\":\"24\",\"method\":\"animate\"},{\"args\":[[\"25\"],{\"mode\":\"immediate\",\"frame\":{\"duration\":100,\"redraw\":true},\"fromcurrent\":true}],\"label\":\"25\",\"method\":\"animate\"},{\"args\":[[\"26\"],{\"mode\":\"immediate\",\"frame\":{\"duration\":100,\"redraw\":true},\"fromcurrent\":true}],\"label\":\"26\",\"method\":\"animate\"},{\"args\":[[\"27\"],{\"mode\":\"immediate\",\"frame\":{\"duration\":100,\"redraw\":true},\"fromcurrent\":true}],\"label\":\"27\",\"method\":\"animate\"},{\"args\":[[\"28\"],{\"mode\":\"immediate\",\"frame\":{\"duration\":100,\"redraw\":true},\"fromcurrent\":true}],\"label\":\"28\",\"method\":\"animate\"},{\"args\":[[\"29\"],{\"mode\":\"immediate\",\"frame\":{\"duration\":100,\"redraw\":true},\"fromcurrent\":true}],\"label\":\"29\",\"method\":\"animate\"},{\"args\":[[\"30\"],{\"mode\":\"immediate\",\"frame\":{\"duration\":100,\"redraw\":true},\"fromcurrent\":true}],\"label\":\"30\",\"method\":\"animate\"}],\"x\":0.1,\"y\":0}],\"scene\":{\"xaxis\":{\"range\":[-1,1],\"autorange\":false},\"yaxis\":{\"range\":[-1,1],\"autorange\":false},\"zaxis\":{\"range\":[-1,1],\"autorange\":false},\"aspectmode\":\"cube\"},\"width\":1000,\"height\":800,\"title\":{\"text\":\"Quaternion Rotation Animation\"}},                        {\"responsive\": true}                    ).then(function(){\n",
       "                            Plotly.addFrames('4d4d14fb-397e-4b70-9e4c-f79e1c77a553', [{\"data\":[{\"marker\":{\"color\":\"red\"},\"mode\":\"lines+markers\",\"name\":\"E_i\",\"x\":[0,-1.0],\"y\":[0,0.0],\"z\":[0,0.0],\"type\":\"scatter3d\"},{\"marker\":{\"color\":\"green\"},\"mode\":\"lines+markers\",\"name\":\"E_j\",\"x\":[0,0.0],\"y\":[0,-1.0],\"z\":[0,0.0],\"type\":\"scatter3d\"},{\"marker\":{\"color\":\"blue\"},\"mode\":\"lines+markers\",\"name\":\"E_k\",\"x\":[0,0.0],\"y\":[0,0.0],\"z\":[0,1.0],\"type\":\"scatter3d\"}],\"name\":\"0\",\"traces\":[3,4,5]},{\"data\":[{\"marker\":{\"color\":\"red\"},\"mode\":\"lines+markers\",\"name\":\"E_i\",\"x\":[0,-0.9985704946148414],\"y\":[0,-0.0534478065324205],\"z\":[0,0.0005470480273769314],\"type\":\"scatter3d\"},{\"marker\":{\"color\":\"green\"},\"mode\":\"lines+markers\",\"name\":\"E_j\",\"x\":[0,0.0534478065324205],\"y\":[0,-0.9983611483980562],\"z\":[0,0.02045359005621195],\"type\":\"scatter3d\"},{\"marker\":{\"color\":\"blue\"},\"mode\":\"lines+markers\",\"name\":\"E_k\",\"x\":[0,-0.0005470480273769314],\"y\":[0,0.02045359005621195],\"z\":[0,0.999790653783215],\"type\":\"scatter3d\"}],\"name\":\"1\",\"traces\":[3,4,5]},{\"data\":[{\"marker\":{\"color\":\"red\"},\"mode\":\"lines+markers\",\"name\":\"E_i\",\"x\":[0,-0.994286663953746],\"y\":[0,-0.1067204270181289],\"z\":[0,0.002186399048435711],\"type\":\"scatter3d\"},{\"marker\":{\"color\":\"green\"},\"mode\":\"lines+markers\",\"name\":\"E_j\",\"x\":[0,0.1067204270181289],\"y\":[0,-0.9934499652613709],\"z\":[0,0.04084013931476564],\"type\":\"scatter3d\"},{\"marker\":{\"color\":\"blue\"},\"mode\":\"lines+markers\",\"name\":\"E_k\",\"x\":[0,-0.002186399048435711],\"y\":[0,0.04084013931476564],\"z\":[0,0.9991633013076249],\"type\":\"scatter3d\"}],\"name\":\"2\",\"traces\":[3,4,5]},{\"data\":[{\"marker\":{\"color\":\"red\"},\"mode\":\"lines+markers\",\"name\":\"E_i\",\"x\":[0,-0.9871625491421968],\"y\":[0,-0.15964324961827975],\"z\":[0,0.00491267975708232],\"type\":\"scatter3d\"},{\"marker\":{\"color\":\"green\"},\"mode\":\"lines+markers\",\"name\":\"E_j\",\"x\":[0,0.15964324961827975],\"y\":[0,-0.9852825479906461],\"z\":[0,0.0610928267178401],\"type\":\"scatter3d\"},{\"marker\":{\"color\":\"blue\"},\"mode\":\"lines+markers\",\"name\":\"E_k\",\"x\":[0,-0.00491267975708232],\"y\":[0,0.0610928267178401],\"z\":[0,0.9981199988484494],\"type\":\"scatter3d\"}],\"name\":\"3\",\"traces\":[3,4,5]},{\"data\":[{\"marker\":{\"color\":\"red\"},\"mode\":\"lines+markers\",\"name\":\"E_i\",\"x\":[0,-0.9772215009141364],\"y\":[0,-0.2120428090276776],\"z\":[0,0.008716954214303326],\"type\":\"scatter3d\"},{\"marker\":{\"color\":\"green\"},\"mode\":\"lines+markers\",\"name\":\"E_j\",\"x\":[0,0.2120428090276776],\"y\":[0,-0.9738856669556375],\"z\":[0,0.08114526996704693],\"type\":\"scatter3d\"},{\"marker\":{\"color\":\"blue\"},\"mode\":\"lines+markers\",\"name\":\"E_k\",\"x\":[0,-0.008716954214303326],\"y\":[0,0.08114526996704693],\"z\":[0,0.9966641660415011],\"type\":\"scatter3d\"}],\"name\":\"4\",\"traces\":[3,4,5]},{\"data\":[{\"marker\":{\"color\":\"red\"},\"mode\":\"lines+markers\",\"name\":\"E_i\",\"x\":[0,-0.9644961030751923],\"y\":[0,-0.2637473550425641],\"z\":[0,0.013586753137521824],\"type\":\"scatter3d\"},{\"marker\":{\"color\":\"green\"},\"mode\":\"lines+markers\",\"name\":\"E_j\",\"x\":[0,0.2637473550425641],\"y\":[0,-0.9592966777498283],\"z\":[0,0.10093174310490241],\"type\":\"scatter3d\"},{\"marker\":{\"color\":\"blue\"},\"mode\":\"lines+markers\",\"name\":\"E_k\",\"x\":[0,-0.013586753137521824],\"y\":[0,0.10093174310490241],\"z\":[0,0.9948005746746361],\"type\":\"scatter3d\"}],\"name\":\"5\",\"traces\":[3,4,5]},{\"data\":[{\"marker\":{\"color\":\"red\"},\"mode\":\"lines+markers\",\"name\":\"E_i\",\"x\":[0,-0.9490280657026314],\"y\":[0,-0.31458741550681074],\"z\":[0,0.01950611477120491],\"type\":\"scatter3d\"},{\"marker\":{\"color\":\"green\"},\"mode\":\"lines+markers\",\"name\":\"E_j\",\"x\":[0,0.31458741550681074],\"y\":[0,-0.9415633987498794],\"z\":[0,0.12038739194500903],\"type\":\"scatter3d\"},{\"marker\":{\"color\":\"blue\"},\"mode\":\"lines+markers\",\"name\":\"E_k\",\"x\":[0,-0.01950611477120491],\"y\":[0,0.12038739194500903],\"z\":[0,0.9925353330472481],\"type\":\"scatter3d\"}],\"name\":\"6\",\"traces\":[3,4,5]},{\"data\":[{\"marker\":{\"color\":\"red\"},\"mode\":\"lines+markers\",\"name\":\"E_i\",\"x\":[0,-0.9308680884321077],\"y\":[0,-0.3643963517913479],\"z\":[0,0.026455637204760882],\"type\":\"scatter3d\"},{\"marker\":{\"color\":\"green\"},\"mode\":\"lines+markers\",\"name\":\"E_j\",\"x\":[0,0.3643963517913479],\"y\":[0,-0.9207439543811842],\"z\":[0,0.13944844664482975],\"type\":\"scatter3d\"},{\"marker\":{\"color\":\"blue\"},\"mode\":\"lines+markers\",\"name\":\"E_k\",\"x\":[0,-0.026455637204760882],\"y\":[0,0.13944844664482975],\"z\":[0,0.9898758659490765],\"type\":\"scatter3d\"}],\"name\":\"7\",\"traces\":[3,4,5]},{\"data\":[{\"marker\":{\"color\":\"red\"},\"mode\":\"lines+markers\",\"name\":\"E_i\",\"x\":[0,-0.9100756942793039],\"y\":[0,-0.41301090498613346],\"z\":[0,0.03441254196624375],\"type\":\"scatter3d\"},{\"marker\":{\"color\":\"green\"},\"mode\":\"lines+markers\",\"name\":\"E_j\",\"x\":[0,0.41301090498613346],\"y\":[0,-0.896906584603254],\"z\":[0,0.15805243072430553],\"type\":\"scatter3d\"},{\"marker\":{\"color\":\"blue\"},\"mode\":\"lines+markers\",\"name\":\"E_k\",\"x\":[0,-0.03441254196624375],\"y\":[0,0.15805243072430553],\"z\":[0,0.9868308903239503],\"type\":\"scatter3d\"}],\"name\":\"8\",\"traces\":[3,4,5]},{\"data\":[{\"marker\":{\"color\":\"red\"},\"mode\":\"lines+markers\",\"name\":\"E_i\",\"x\":[0,-0.8867190345411502],\"y\":[0,-0.46027173101440516],\"z\":[0,0.0433507486834238],\"type\":\"scatter3d\"},{\"marker\":{\"color\":\"green\"},\"mode\":\"lines+markers\",\"name\":\"E_j\",\"x\":[0,0.46027173101440516],\"y\":[0,-0.8701294212393812],\"z\":[0,0.17613836584521397],\"type\":\"scatter3d\"},{\"marker\":{\"color\":\"blue\"},\"mode\":\"lines+markers\",\"name\":\"E_k\",\"x\":[0,-0.0433507486834238],\"y\":[0,0.17613836584521397],\"z\":[0,0.9834103866982309],\"type\":\"scatter3d\"}],\"name\":\"9\",\"traces\":[3,4,5]},{\"data\":[{\"marker\":{\"color\":\"red\"},\"mode\":\"lines+markers\",\"name\":\"E_i\",\"x\":[0,-0.8608746654161034],\"y\":[0,-0.5060239229152723],\"z\":[0,0.05324096056750714],\"type\":\"scatter3d\"},{\"marker\":{\"color\":\"green\"},\"mode\":\"lines+markers\",\"name\":\"E_j\",\"x\":[0,0.5060239229152723],\"y\":[0,-0.8405002318837153],\"z\":[0,0.19364697168006403],\"type\":\"scatter3d\"},{\"marker\":{\"color\":\"blue\"},\"mode\":\"lines+markers\",\"name\":\"E_k\",\"x\":[0,-0.05324096056750714],\"y\":[0,0.19364697168006403],\"z\":[0,0.979625566467612],\"type\":\"scatter3d\"}],\"name\":\"10\",\"traces\":[3,4,5]},{\"data\":[{\"marker\":{\"color\":\"red\"},\"mode\":\"lines+markers\",\"name\":\"E_i\",\"x\":[0,-0.8326272970756463],\"y\":[0,-0.550117518582756],\"z\":[0,0.06405076043931417],\"type\":\"scatter3d\"},{\"marker\":{\"color\":\"green\"},\"mode\":\"lines+markers\",\"name\":\"E_j\",\"x\":[0,0.550117518582756],\"y\":[0,-0.8081161322251355],\"z\":[0,0.2105208602154152],\"type\":\"scatter3d\"},{\"marker\":{\"color\":\"blue\"},\"mode\":\"lines+markers\",\"name\":\"E_k\",\"x\":[0,-0.06405076043931417],\"y\":[0,0.2105208602154152],\"z\":[0,0.975488835149489],\"type\":\"scatter3d\"}],\"name\":\"11\",\"traces\":[3,4,5]},{\"data\":[{\"marker\":{\"color\":\"red\"},\"mode\":\"lines+markers\",\"name\":\"E_i\",\"x\":[0,-0.8020695160094904],\"y\":[0,-0.5924079922970662],\"z\":[0,0.07574471698317164],\"type\":\"scatter3d\"},{\"marker\":{\"color\":\"green\"},\"mode\":\"lines+markers\",\"name\":\"E_j\",\"x\":[0,0.5924079922970662],\"y\":[0,-0.773083267730848],\"z\":[0,0.22670472385275303],\"type\":\"scatter3d\"},{\"marker\":{\"color\":\"blue\"},\"mode\":\"lines+markers\",\"name\":\"E_k\",\"x\":[0,-0.07574471698317164],\"y\":[0,0.22670472385275303],\"z\":[0,0.9710137517213575],\"type\":\"scatter3d\"}],\"name\":\"12\",\"traces\":[3,4,5]},{\"data\":[{\"marker\":{\"color\":\"red\"},\"mode\":\"lines+markers\",\"name\":\"E_i\",\"x\":[0,-0.7693014815545398],\"y\":[0,-0.6327567284370157],\"z\":[0,0.08828450088024967],\"type\":\"scatter3d\"},{\"marker\":{\"color\":\"green\"},\"mode\":\"lines+markers\",\"name\":\"E_j\",\"x\":[0,0.6327567284370157],\"y\":[0,-0.7355164657330471],\"z\":[0,0.24214551669038217],\"type\":\"scatter3d\"},{\"marker\":{\"color\":\"blue\"},\"mode\":\"lines+markers\",\"name\":\"E_k\",\"x\":[0,-0.08828450088024967],\"y\":[0,0.24214551669038217],\"z\":[0,0.9662149841785073],\"type\":\"scatter3d\"}],\"name\":\"13\",\"traces\":[3,4,5]},{\"data\":[{\"marker\":{\"color\":\"red\"},\"mode\":\"lines+markers\",\"name\":\"E_i\",\"x\":[0,-0.7344305976023127],\"y\":[0,-0.6710314758208855],\"z\":[0,0.10162901044069275],\"type\":\"scatter3d\"},{\"marker\":{\"color\":\"green\"},\"mode\":\"lines+markers\",\"name\":\"E_j\",\"x\":[0,0.6710314758208855],\"y\":[0,-0.6955388590590008],\"z\":[0,0.2567926283921483],\"type\":\"scatter3d\"},{\"marker\":{\"color\":\"blue\"},\"mode\":\"lines+markers\",\"name\":\"E_k\",\"x\":[0,-0.10162901044069275],\"y\":[0,0.2567926283921483],\"z\":[0,0.9611082614566882],\"type\":\"scatter3d\"}],\"name\":\"14\",\"traces\":[3,4,5]},{\"data\":[{\"marker\":{\"color\":\"red\"},\"mode\":\"lines+markers\",\"name\":\"E_i\",\"x\":[0,-0.6975711605608613],\"y\":[0,-0.7071067811865476],\"z\":[0,0.11573450632276026],\"type\":\"scatter3d\"},{\"marker\":{\"color\":\"green\"},\"mode\":\"lines+markers\",\"name\":\"E_j\",\"x\":[0,0.7071067811865476],\"y\":[0,-0.6532814824381883],\"z\":[0,0.27059805007309856],\"type\":\"scatter3d\"},{\"marker\":{\"color\":\"blue\"},\"mode\":\"lines+markers\",\"name\":\"E_k\",\"x\":[0,-0.11573450632276026],\"y\":[0,0.27059805007309856],\"z\":[0,0.955710321877327],\"type\":\"scatter3d\"}],\"name\":\"15\",\"traces\":[3,4,5]},{\"data\":[{\"marker\":{\"color\":\"red\"},\"mode\":\"lines+markers\",\"name\":\"E_i\",\"x\":[0,-0.6588439847250702],\"y\":[0,-0.7408644003900237],\"z\":[0,0.13055475489740714],\"type\":\"scatter3d\"},{\"marker\":{\"color\":\"green\"},\"mode\":\"lines+markers\",\"name\":\"E_j\",\"x\":[0,0.7408644003900237],\"y\":[0,-0.6088828430093474],\"z\":[0,0.2835165316583585],\"type\":\"scatter3d\"},{\"marker\":{\"color\":\"blue\"},\"mode\":\"lines+markers\",\"name\":\"E_k\",\"x\":[0,-0.13055475489740714],\"y\":[0,0.2835165316583585],\"z\":[0,0.9500388582842771],\"type\":\"scatter3d\"}],\"name\":\"16\",\"traces\":[3,4,5]},{\"data\":[{\"marker\":{\"color\":\"red\"},\"mode\":\"lines+markers\",\"name\":\"E_i\",\"x\":[0,-0.618376006283254],\"y\":[0,-0.7721936859746951],\"z\":[0,0.14604117978839787],\"type\":\"scatter3d\"},{\"marker\":{\"color\":\"green\"},\"mode\":\"lines+markers\",\"name\":\"E_j\",\"x\":[0,0.7721936859746951],\"y\":[0,-0.5624884663351827],\"z\":[0,0.29550573019944665],\"type\":\"scatter3d\"},{\"marker\":{\"color\":\"blue\"},\"mode\":\"lines+markers\",\"name\":\"E_k\",\"x\":[0,-0.14604117978839787],\"y\":[0,0.29550573019944665],\"z\":[0,0.9441124600519288],\"type\":\"scatter3d\"}],\"name\":\"17\",\"traces\":[3,4,5]},{\"data\":[{\"marker\":{\"color\":\"red\"},\"mode\":\"lines+markers\",\"name\":\"E_i\",\"x\":[0,-0.576299867258006],\"y\":[0,-0.8009919498408251],\"z\":[0,0.16214302109125045],\"type\":\"scatter3d\"},{\"marker\":{\"color\":\"green\"},\"mode\":\"lines+markers\",\"name\":\"E_j\",\"x\":[0,0.8009919498408251],\"y\":[0,-0.5142504194127611],\"z\":[0,0.3065263486618928],\"type\":\"scatter3d\"},{\"marker\":{\"color\":\"blue\"},\"mode\":\"lines+markers\",\"name\":\"E_k\",\"x\":[0,-0.16214302109125045],\"y\":[0,0.3065263486618928],\"z\":[0,0.9379505521547551],\"type\":\"scatter3d\"}],\"name\":\"18\",\"traces\":[3,4,5]},{\"data\":[{\"marker\":{\"color\":\"red\"},\"mode\":\"lines+markers\",\"name\":\"E_i\",\"x\":[0,-0.5327534807450165],\"y\":[0,-0.8271647998266738],\"z\":[0,0.17880750174913812],\"type\":\"scatter3d\"},{\"marker\":{\"color\":\"green\"},\"mode\":\"lines+markers\",\"name\":\"E_j\",\"x\":[0,0.8271647998266738],\"y\":[0,-0.4643268122430295],\"z\":[0,0.316542264729254],\"type\":\"scatter3d\"},{\"marker\":{\"color\":\"blue\"},\"mode\":\"lines+markers\",\"name\":\"E_k\",\"x\":[0,-0.17880750174913812],\"y\":[0,0.316542264729254],\"z\":[0,0.931573331498013],\"type\":\"scatter3d\"}],\"name\":\"19\",\"traces\":[3,4,5]},{\"data\":[{\"marker\":{\"color\":\"red\"},\"mode\":\"lines+markers\",\"name\":\"E_i\",\"x\":[0,-0.4878795788748772],\"y\":[0,-0.8506264490979872],\"z\":[0,0.19598000054041728],\"type\":\"scatter3d\"},{\"marker\":{\"color\":\"green\"},\"mode\":\"lines+markers\",\"name\":\"E_j\",\"x\":[0,0.8506264490979872],\"y\":[0,-0.4128812795931581],\"z\":[0,0.3255206492013461],\"type\":\"scatter3d\"},{\"marker\":{\"color\":\"blue\"},\"mode\":\"lines+markers\",\"name\":\"E_k\",\"x\":[0,-0.19598000054041728],\"y\":[0,0.3255206492013461],\"z\":[0,0.925001700718281],\"type\":\"scatter3d\"}],\"name\":\"20\",\"traces\":[3,4,5]},{\"data\":[{\"marker\":{\"color\":\"red\"},\"mode\":\"lines+markers\",\"name\":\"E_i\",\"x\":[0,-0.4418252449795186],\"y\":[0,-0.8712999973317805],\"z\":[0,0.21360423111078106],\"type\":\"scatter3d\"},{\"marker\":{\"color\":\"green\"},\"mode\":\"lines+markers\",\"name\":\"E_j\",\"x\":[0,0.8712999973317805],\"y\":[0,-0.360082444650339],\"z\":[0,0.33343207359861937],\"type\":\"scatter3d\"},{\"marker\":{\"color\":\"blue\"},\"mode\":\"lines+markers\",\"name\":\"E_k\",\"x\":[0,-0.21360423111078106],\"y\":[0,0.33343207359861937],\"z\":[0,0.9182571996708206],\"type\":\"scatter3d\"}],\"name\":\"21\",\"traces\":[3,4,5]},{\"data\":[{\"marker\":{\"color\":\"red\"},\"mode\":\"lines+markers\",\"name\":\"E_i\",\"x\":[0,-0.3947414314967024],\"y\":[0,-0.8891176827727717],\"z\":[0,0.2316224264632228],\"type\":\"scatter3d\"},{\"marker\":{\"color\":\"green\"},\"mode\":\"lines+markers\",\"name\":\"E_j\",\"x\":[0,0.8891176827727717],\"y\":[0,-0.30610336632502566],\"z\":[0,0.34025060661997947],\"type\":\"scatter3d\"},{\"marker\":{\"color\":\"blue\"},\"mode\":\"lines+markers\",\"name\":\"E_k\",\"x\":[0,-0.2316224264632228],\"y\":[0,0.34025060661997947],\"z\":[0,0.9113619348283233],\"type\":\"scatter3d\"}],\"name\":\"22\",\"traces\":[3,4,5]},{\"data\":[{\"marker\":{\"color\":\"red\"},\"mode\":\"lines+markers\",\"name\":\"E_i\",\"x\":[0,-0.34678246519273226],\"y\":[0,-0.9040211043363056],\"z\":[0,0.24997552830110775],\"type\":\"scatter3d\"},{\"marker\":{\"color\":\"green\"},\"mode\":\"lines+markers\",\"name\":\"E_j\",\"x\":[0,0.9040211043363056],\"y\":[0,-0.2511209720151877],\"z\":[0,0.3459538991378964],\"type\":\"scatter3d\"},{\"marker\":{\"color\":\"blue\"},\"mode\":\"lines+markers\",\"name\":\"E_k\",\"x\":[0,-0.24997552830110775],\"y\":[0,0.3459538991378964],\"z\":[0,0.9043385068224554],\"type\":\"scatter3d\"}],\"name\":\"23\",\"traces\":[3,4,5]},{\"data\":[{\"marker\":{\"color\":\"red\"},\"mode\":\"lines+markers\",\"name\":\"E_i\",\"x\":[0,-0.2981055413251182],\"y\":[0,-0.9159614130297743],\"z\":[0,0.2686033806037405],\"type\":\"scatter3d\"},{\"marker\":{\"color\":\"green\"},\"mode\":\"lines+markers\",\"name\":\"E_j\",\"x\":[0,0.9159614130297743],\"y\":[0,-0.1953154776908122],\"z\":[0,0.35052325745221175],\"type\":\"scatter3d\"},{\"marker\":{\"color\":\"blue\"},\"mode\":\"lines+markers\",\"name\":\"E_k\",\"x\":[0,-0.2686033806037405],\"y\":[0,0.35052325745221175],\"z\":[0,0.8972099363656942],\"type\":\"scatter3d\"}],\"name\":\"24\",\"traces\":[3,4,5]},{\"data\":[{\"marker\":{\"color\":\"red\"},\"mode\":\"lines+markers\",\"name\":\"E_i\",\"x\":[0,-0.24887020840317642],\"y\":[0,-0.9248994720651174],\"z\":[0,0.2874449267999471],\"type\":\"scatter3d\"},{\"marker\":{\"color\":\"green\"},\"mode\":\"lines+markers\",\"name\":\"E_j\",\"x\":[0,0.9248994720651174],\"y\":[0,-0.1388697971994407],\"z\":[0,0.35394370456253865],\"type\":\"scatter3d\"},{\"marker\":{\"color\":\"blue\"},\"mode\":\"lines+markers\",\"name\":\"E_k\",\"x\":[0,-0.2874449267999471],\"y\":[0,0.35394370456253865],\"z\":[0,0.8899995887962644],\"type\":\"scatter3d\"}],\"name\":\"25\",\"traces\":[3,4,5]},{\"data\":[{\"marker\":{\"color\":\"red\"},\"mode\":\"lines+markers\",\"name\":\"E_i\",\"x\":[0,-0.1992378452353697],\"y\":[0,-0.9308059851375986],\"z\":[0,0.30643840989339405],\"type\":\"scatter3d\"},{\"marker\":{\"color\":\"green\"},\"mode\":\"lines+markers\",\"name\":\"E_j\",\"x\":[0,0.9308059851375986],\"y\":[0,-0.08196894272886535],\"z\":[0,0.35620402925842504],\"type\":\"scatter3d\"},{\"marker\":{\"color\":\"blue\"},\"mode\":\"lines+markers\",\"name\":\"E_k\",\"x\":[0,-0.30643840989339405],\"y\":[0,0.35620402925842504],\"z\":[0,0.8827310974934958],\"type\":\"scatter3d\"}],\"name\":\"26\",\"traces\":[3,4,5]},{\"data\":[{\"marker\":{\"color\":\"red\"},\"mode\":\"lines+markers\",\"name\":\"E_i\",\"x\":[0,-0.14937113197746954],\"y\":[0,-0.9336615924503961],\"z\":[0,0.32552157488369293],\"type\":\"scatter3d\"},{\"marker\":{\"color\":\"green\"},\"mode\":\"lines+markers\",\"name\":\"E_j\",\"x\":[0,0.9336615924503961],\"y\":[0,-0.024799418392088324],\"z\":[0,0.3572968228663732],\"type\":\"scatter3d\"},{\"marker\":{\"color\":\"blue\"},\"mode\":\"lines+markers\",\"name\":\"E_k\",\"x\":[0,-0.32552157488369293],\"y\":[0,0.3572968228663732],\"z\":[0,0.8754282864146188],\"type\":\"scatter3d\"}],\"name\":\"27\",\"traces\":[3,4,5]},{\"data\":[{\"marker\":{\"color\":\"red\"},\"mode\":\"lines+markers\",\"name\":\"E_i\",\"x\":[0,-0.0994335169152889],\"y\":[0,-0.9334569341702724],\"z\":[0,0.344631872819815],\"type\":\"scatter3d\"},{\"marker\":{\"color\":\"green\"},\"mode\":\"lines+markers\",\"name\":\"E_j\",\"x\":[0,0.9334569341702724],\"y\":[0,0.032451391077807035],\"z\":[0,0.3572185035332736],\"type\":\"scatter3d\"},{\"marker\":{\"color\":\"blue\"},\"mode\":\"lines+markers\",\"name\":\"E_k\",\"x\":[0,-0.344631872819815],\"y\":[0,0.3572185035332736],\"z\":[0,0.8681150920069043],\"type\":\"scatter3d\"}],\"name\":\"28\",\"traces\":[3,4,5]},{\"data\":[{\"marker\":{\"color\":\"red\"},\"mode\":\"lines+markers\",\"name\":\"E_i\",\"x\":[0,-0.049588680729711676],\"y\":[0,-0.9301926811063271],\"z\":[0,0.36370666581698724],\"type\":\"scatter3d\"},{\"marker\":{\"color\":\"green\"},\"mode\":\"lines+markers\",\"name\":\"E_j\",\"x\":[0,0.9301926811063271],\"y\":[0,0.08959583451919573],\"z\":[0,0.3559693279666547],\"type\":\"scatter3d\"},{\"marker\":{\"color\":\"blue\"},\"mode\":\"lines+markers\",\"name\":\"E_k\",\"x\":[0,-0.36370666581698724],\"y\":[0,0.3559693279666547],\"z\":[0,0.8608154847510927],\"type\":\"scatter3d\"}],\"name\":\"29\",\"traces\":[3,4,5]},{\"data\":[{\"marker\":{\"color\":\"red\"},\"mode\":\"lines+markers\",\"name\":\"E_i\",\"x\":[0,5.551115123125783e-17],\"y\":[0,-0.9238795325112868],\"z\":[0,0.3826834323650899],\"type\":\"scatter3d\"},{\"marker\":{\"color\":\"green\"},\"mode\":\"lines+markers\",\"name\":\"E_j\",\"x\":[0,0.9238795325112868],\"y\":[0,0.14644660940672632],\"z\":[0,0.35355339059327384],\"type\":\"scatter3d\"},{\"marker\":{\"color\":\"blue\"},\"mode\":\"lines+markers\",\"name\":\"E_k\",\"x\":[0,-0.3826834323650899],\"y\":[0,0.35355339059327384],\"z\":[0,0.853553390593274],\"type\":\"scatter3d\"}],\"name\":\"30\",\"traces\":[3,4,5]}]);\n",
       "                        }).then(function(){\n",
       "                            \n",
       "var gd = document.getElementById('4d4d14fb-397e-4b70-9e4c-f79e1c77a553');\n",
       "var x = new MutationObserver(function (mutations, observer) {{\n",
       "        var display = window.getComputedStyle(gd).display;\n",
       "        if (!display || display === 'none') {{\n",
       "            console.log([gd, 'removed!']);\n",
       "            Plotly.purge(gd);\n",
       "            observer.disconnect();\n",
       "        }}\n",
       "}});\n",
       "\n",
       "// Listen for the removal of the full notebook cells\n",
       "var notebookContainer = gd.closest('#notebook-container');\n",
       "if (notebookContainer) {{\n",
       "    x.observe(notebookContainer, {childList: true});\n",
       "}}\n",
       "\n",
       "// Listen for the clearing of the current output cell\n",
       "var outputEl = gd.closest('.output');\n",
       "if (outputEl) {{\n",
       "    x.observe(outputEl, {childList: true});\n",
       "}}\n",
       "\n",
       "                        })                };                });            </script>        </div>"
      ]
     },
     "metadata": {},
     "output_type": "display_data"
    }
   ],
   "source": [
    "def Quaternion_rotation_animation(quaternion, steps=30):\n",
    "    \"\"\"\n",
    "    Creates a 3D animation of a rotation represented by a quaternion and displays the final orientation of the frame.\n",
    "    \n",
    "    Args:\n",
    "        quaternion (list, tuple, np.ndarray): The quaternion representing the rotation (in scalar-last format [q1, q2, q3, q4]).\n",
    "        steps (int, optional): The total number of steps in the animation. Defaults to 30.\n",
    "    \n",
    "    Returns:\n",
    "        plotly.graph_objects.Figure: The figure object containing the animation.\n",
    "    \"\"\"\n",
    "    # Normalize the quaternion\n",
    "    quaternion = np.array(quaternion)\n",
    "    quaternion = quaternion / np.linalg.norm(quaternion)\n",
    "    \n",
    "    # Initialize the figure for 3D visualization\n",
    "    fig = go.Figure()\n",
    "    \n",
    "    # Define initial orientation as an identity matrix\n",
    "    N_frame = np.eye(3)\n",
    "    \n",
    "    # Define colors for axes\n",
    "    colors = {'i': 'red', 'j': 'green', 'k': 'blue', 'axis': 'purple'}\n",
    "    \n",
    "    # Initialize the static frame (N-frame)\n",
    "    initialize_ref_frame(fig, N_frame, 'N', colors, is_static=True)\n",
    "    \n",
    "    # Initialize the dynamic frame (E-frame)\n",
    "    initialize_ref_frame(fig, N_frame, 'E', colors, is_static=False)\n",
    "    \n",
    "    # Identity quaternion\n",
    "    q0 = np.array([0, 0, 0, 1])  # Scalar-last format\n",
    "    \n",
    "    # Time steps for interpolation\n",
    "    t_array = np.linspace(0, 1, steps + 1)\n",
    "    \n",
    "    # Generate interpolated quaternions\n",
    "    interpolated_quaternions = slerp(q0, quaternion, t_array)\n",
    "    \n",
    "    # Convert quaternions to rotation matrices\n",
    "    rotation_matrices = [quaternion_to_DCM(q) for q in interpolated_quaternions]\n",
    "    \n",
    "    # Printing relevant Attitude representations\n",
    "    DCM = rotation_matrices[-1]\n",
    "    \n",
    "    # Convert the final rotation matrix to Euler angles (3-2-1 sequence)\n",
    "    first_rot = np.degrees(np.arctan2(DCM[0][1], DCM[0][0]))\n",
    "    second_rot = np.degrees(np.arcsin(-DCM[0][2]))\n",
    "    third_rot = np.degrees(np.arctan2(DCM[1][2], DCM[2][2]))\n",
    "    \n",
    "    print(f\"Quaternion: {quaternion}\")\n",
    "    print(\"----------------------------------------------------\")\n",
    "    print(f\"DCM:\\n{DCM}\")\n",
    "    print(\"----------------------------------------------------\")\n",
    "    print(f\"Euler Angles (321 sequence): <{first_rot}, {second_rot}, {third_rot}>\")\n",
    "    \n",
    "    # Generate frames for animation\n",
    "    frames = []\n",
    "    for i, R_matrix in enumerate(rotation_matrices):\n",
    "        E_frame = np.matmul(R_matrix, N_frame)\n",
    "        \n",
    "        frame_data = [\n",
    "            go.Scatter3d(\n",
    "                x=[0, vec[0]],\n",
    "                y=[0, vec[1]],\n",
    "                z=[0, vec[2]],\n",
    "                mode='lines+markers',\n",
    "                name=f'E_{axis_name}',\n",
    "                marker=dict(color=colors[axis_name])\n",
    "            )\n",
    "            for vec, axis_name in zip(E_frame.T, ['i', 'j', 'k'])\n",
    "        ]\n",
    "        \n",
    "        frames.append(go.Frame(data=frame_data, name=str(i), traces=[3, 4, 5]))\n",
    "    \n",
    "    # Extract rotation axis and angle for visualization\n",
    "    angle = 2 * np.arccos(quaternion[3])\n",
    "    sin_half_theta = np.sqrt(1 - quaternion[3]**2)\n",
    "    if sin_half_theta < 1e-6:\n",
    "        axis = np.array([1, 0, 0])  # Arbitrary axis if angle is zero\n",
    "    else:\n",
    "        axis = quaternion[:3] / sin_half_theta\n",
    "    \n",
    "    axis_normalized = axis / np.linalg.norm(axis)\n",
    "    \n",
    "    # Create hover text for the endpoint of the line\n",
    "    endpoint_hover_text = f\"x: {axis_normalized[0]:.2f}<br>y: {axis_normalized[1]:.2f}<br>z: {axis_normalized[2]:.2f}<br>Norm: {np.linalg.norm(axis_normalized):.2f}\"\n",
    "    \n",
    "    # Plot the rotation axis\n",
    "    fig.add_trace(go.Scatter3d(\n",
    "        x=[0, axis_normalized[0]],\n",
    "        y=[0, axis_normalized[1]],\n",
    "        z=[0, axis_normalized[2]],\n",
    "        mode='lines+markers',\n",
    "        line=dict(color=colors['axis'], width=5),\n",
    "        name='Rotation Axis (normalized)',\n",
    "        hoverinfo='text+name',\n",
    "        text=endpoint_hover_text\n",
    "    ))\n",
    "    \n",
    "    # Configure the figure with generated frames for animation\n",
    "    fig.frames = frames\n",
    "    setup_animation_scene(fig, frames, \"Quaternion Rotation Animation\")\n",
    "    \n",
    "    return fig\n",
    "\n",
    "# 90 degrees rotation around z-axis\n",
    "angle_deg = 45\n",
    "angle_rad = np.radians(angle_deg) / 2\n",
    "quaternion = [1, 0, np.sin(angle_rad), np.cos(angle_rad)]  # Scalar-last format\n",
    "\n",
    "fig = Quaternion_rotation_animation(quaternion)\n",
    "fig.show()"
   ]
  },
  {
   "cell_type": "code",
   "execution_count": null,
   "id": "2d62f804-b5d7-4e37-af64-bf2517448fa2",
   "metadata": {},
   "outputs": [],
   "source": []
  },
  {
   "cell_type": "code",
   "execution_count": null,
   "id": "addf0346-d5b8-4396-9816-4af737cb6341",
   "metadata": {},
   "outputs": [],
   "source": []
  },
  {
   "cell_type": "code",
   "execution_count": null,
   "id": "febea388-8609-4fc2-997d-5a7fe1bdae3c",
   "metadata": {},
   "outputs": [],
   "source": []
  },
  {
   "cell_type": "code",
   "execution_count": null,
   "id": "f9fd44b4-85ea-4f08-a9de-fde62f72b41f",
   "metadata": {},
   "outputs": [],
   "source": []
  },
  {
   "cell_type": "code",
   "execution_count": null,
   "id": "b3122d89-5811-4713-84a8-974d8cdbdb05",
   "metadata": {},
   "outputs": [],
   "source": []
  },
  {
   "cell_type": "code",
   "execution_count": null,
   "id": "eb597c41-95ea-4edf-9a60-c15106f22350",
   "metadata": {},
   "outputs": [],
   "source": []
  },
  {
   "cell_type": "code",
   "execution_count": null,
   "id": "abad8ac7-36b9-4f50-8698-1e51750c874c",
   "metadata": {},
   "outputs": [],
   "source": []
  },
  {
   "cell_type": "code",
   "execution_count": null,
   "id": "ba43e95b-383d-4320-bc69-cf0503459e41",
   "metadata": {},
   "outputs": [],
   "source": []
  },
  {
   "cell_type": "code",
   "execution_count": null,
   "id": "797569c4-e076-4dc4-9868-e329291dc7ac",
   "metadata": {},
   "outputs": [],
   "source": []
  },
  {
   "cell_type": "code",
   "execution_count": null,
   "id": "547d010a-739b-4b14-88a9-975e4feacd52",
   "metadata": {},
   "outputs": [],
   "source": []
  }
 ],
 "metadata": {
  "kernelspec": {
   "display_name": "Python 3 (ipykernel)",
   "language": "python",
   "name": "python3"
  },
  "language_info": {
   "codemirror_mode": {
    "name": "ipython",
    "version": 3
   },
   "file_extension": ".py",
   "mimetype": "text/x-python",
   "name": "python",
   "nbconvert_exporter": "python",
   "pygments_lexer": "ipython3",
   "version": "3.11.9"
  }
 },
 "nbformat": 4,
 "nbformat_minor": 5
}
