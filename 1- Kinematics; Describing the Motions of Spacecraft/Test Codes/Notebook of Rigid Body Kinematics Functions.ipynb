{
 "cells": [
  {
   "cell_type": "code",
   "execution_count": 1,
   "id": "3990afe6-778c-4960-8bf0-4ec9116fd9c4",
   "metadata": {},
   "outputs": [],
   "source": [
    "import numpy as np"
   ]
  },
  {
   "cell_type": "markdown",
   "id": "0caa37e0-0510-4658-9105-3722d0cf1f6d",
   "metadata": {},
   "source": [
    "# Purpose of Notebook\n",
    "\n",
    "To define functions that enables transformation from one attitude representation to another. "
   ]
  },
  {
   "cell_type": "markdown",
   "id": "abfedd75-3d17-44e4-8695-0fe882a1f0df",
   "metadata": {},
   "source": [
    "## Euler Angle Functions\n",
    "\n",
    "1) rotation_matrix_x\n",
    "2) rotation_matrix_y\n",
    "3) rotation_matrix_z\n",
    "4) Euler121_DCM"
   ]
  },
  {
   "cell_type": "code",
   "execution_count": 2,
   "id": "8cf8011a-31df-430c-80b2-9be4a9a427bf",
   "metadata": {},
   "outputs": [],
   "source": [
    "'''\n",
    "The definitions of Rotation Matrices\n",
    "--------------------------------------------------------------------------------------------------------------------------------------------------------\n",
    "    - The rotation abt the 1st principle axis (x-axis) is defined by the angle 'psi'\n",
    "    - The rotation abt the 2nd principle axis (y-axis) is defined by the angle 'theta'\n",
    "    - The rotation abt the 3rd principle axis (z-axis) is defined by the angle 'phi'\n",
    "\n",
    "    Note: The rotations matrices are defined for passive rotation. \n",
    "          Active rotation matrices are simply the transpose of the conventions used in this notebook.\n",
    "'''\n",
    "\n",
    "def rotation_matrix_x(phi):\n",
    "    \"\"\"Generate rotation matrix for a roll (rotation about the x-axis)\"\"\"\n",
    "    phi = np.radians(phi)\n",
    "    c, s = np.cos(phi), np.sin(phi)\n",
    "    return np.array([[1, 0, 0], \n",
    "                     [0, c, s], \n",
    "                     [0, -s, c]])\n",
    "\n",
    "def rotation_matrix_y(theta):\n",
    "    \"\"\"Generate rotation matrix for a pitch (rotation about the y-axis)\"\"\"\n",
    "    theta = np.radians(theta)\n",
    "    c, s = np.cos(theta), np.sin(theta)\n",
    "    return np.array([[c, 0, -s], \n",
    "                     [0, 1, 0], \n",
    "                     [s, 0, c]])\n",
    "\n",
    "def rotation_matrix_z(psi):\n",
    "    \"\"\"Generate rotation matrix for a yaw (rotation about the z-axis)\"\"\"\n",
    "    psi = np.radians(psi)\n",
    "    c, s = np.cos(psi), np.sin(psi)\n",
    "    return np.array([[c, s, 0], \n",
    "                     [-s, c, 0], \n",
    "                     [0, 0, 1]])"
   ]
  },
  {
   "cell_type": "code",
   "execution_count": null,
   "id": "05fcb5b0-27e9-4bcb-bb4f-6af7a0f1bf5c",
   "metadata": {},
   "outputs": [],
   "source": []
  },
  {
   "cell_type": "code",
   "execution_count": 4,
   "id": "a9ff7500-a2f8-4b22-84bd-65500b754919",
   "metadata": {},
   "outputs": [
    {
     "data": {
      "text/plain": [
       "array([[ 0.64278761,  0.43938504, -0.62750687],\n",
       "       [ 0.49240388,  0.3905189 ,  0.77783893],\n",
       "       [ 0.58682409, -0.80897205,  0.03466582]])"
      ]
     },
     "execution_count": 4,
     "metadata": {},
     "output_type": "execute_result"
    }
   ],
   "source": [
    "np.matmul(rotation_matrix_x(40), np.matmul(rotation_matrix_y(50), rotation_matrix_x(35)))"
   ]
  },
  {
   "cell_type": "code",
   "execution_count": null,
   "id": "a1ded09b-2871-4759-86e5-2ac4c4703b26",
   "metadata": {},
   "outputs": [],
   "source": []
  },
  {
   "cell_type": "code",
   "execution_count": null,
   "id": "b377200e-48af-47a1-b2dd-f8d80df256b6",
   "metadata": {},
   "outputs": [],
   "source": []
  },
  {
   "cell_type": "code",
   "execution_count": null,
   "id": "b9204112-b314-41b4-b4a7-69a5a1162a16",
   "metadata": {},
   "outputs": [],
   "source": []
  },
  {
   "cell_type": "code",
   "execution_count": null,
   "id": "d62d389a-b576-45f4-ac20-7da6a9399464",
   "metadata": {},
   "outputs": [],
   "source": []
  },
  {
   "cell_type": "code",
   "execution_count": null,
   "id": "f2805a7f-0a64-47ca-acdd-01fd5cfd4009",
   "metadata": {},
   "outputs": [],
   "source": []
  },
  {
   "cell_type": "code",
   "execution_count": null,
   "id": "8974aed3-9e4e-4637-812d-44a97aff6e80",
   "metadata": {},
   "outputs": [],
   "source": []
  },
  {
   "cell_type": "code",
   "execution_count": null,
   "id": "7fe0e7f1-d2d3-4c84-a0d5-ce22f892bdaa",
   "metadata": {},
   "outputs": [],
   "source": []
  },
  {
   "cell_type": "code",
   "execution_count": null,
   "id": "ba5d393f-cf97-477e-bd33-d5338b4b867d",
   "metadata": {},
   "outputs": [],
   "source": []
  },
  {
   "cell_type": "code",
   "execution_count": null,
   "id": "72de2663-6e08-46f9-aba0-ca68fef4d9a9",
   "metadata": {},
   "outputs": [],
   "source": []
  }
 ],
 "metadata": {
  "kernelspec": {
   "display_name": "Python 3 (ipykernel)",
   "language": "python",
   "name": "python3"
  },
  "language_info": {
   "codemirror_mode": {
    "name": "ipython",
    "version": 3
   },
   "file_extension": ".py",
   "mimetype": "text/x-python",
   "name": "python",
   "nbconvert_exporter": "python",
   "pygments_lexer": "ipython3",
   "version": "3.11.5"
  }
 },
 "nbformat": 4,
 "nbformat_minor": 5
}
