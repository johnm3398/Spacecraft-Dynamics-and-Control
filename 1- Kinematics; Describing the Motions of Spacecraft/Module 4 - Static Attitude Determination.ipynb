{
 "cells": [
  {
   "cell_type": "markdown",
   "id": "51c5d0bd-d0bf-48c4-b70b-54cf24b2be53",
   "metadata": {},
   "source": [
    "# Week 4 - Static Attitude Determination\n",
    "\n",
    "This week, we dive into the fascinating world of static attitude determination. Here, the focus is on taking a snapshot of multiple directional observations—like the sun’s heading, magnetic field direction, and star positioning—to compute a spacecraft's 3D orientation. Essentially, we’re using known vectors in both the spacecraft and reference frames to figure out “which way is up” in space.\n",
    "\n",
    "We’ll cover both classic and modern algorithms that are fundamental in the field of attitude determination. These include:\n",
    "\n",
    "- **TRIAD Method**: A foundational, straightforward technique for calculating attitude based on two vector observations.\n",
    "- **Devenport’s q-Method**: A method that minimizes a cost function to estimate attitude, using quaternions as the rotation representation.\n",
    "- **QUEST (QUaternion ESTimator)**: An optimized version of the q-method, designed for real-time applications and quick computations.\n",
    "- **OLAE (Optimal Linear Attitude Estimation)**: A linearized approach that simplifies calculations, particularly useful in scenarios with multiple observations.\n",
    "\n",
    "Throughout the module, we’ll not only dive into how these methods work, but also discuss the pros and cons of each, especially in terms of computational efficiency and accuracy.\n",
    "\n",
    "<ins>**Learning Objectives**</ins>\n",
    "\n",
    "- **Determine attitude from a series of heading measurements**: Learn how to combine various directional observations to calculate a reliable orientation in 3D space.\n",
    "- **Describe various classical and modern algorithms used in attitude determination**: Gain an understanding of the main methods used in both theoretical and practical applications.\n",
    "- **Derive the fundamental attitude coordinate properties of rigid bodies**: Develop a mathematical grasp of the key properties that govern the rotational dynamics of rigid bodies in space.\n",
    "\n",
    "---"
   ]
  },
  {
   "cell_type": "code",
   "execution_count": null,
   "id": "95e54820-8c6e-4bea-b88b-1c918597b602",
   "metadata": {},
   "outputs": [],
   "source": [
    "# Import Relevant Libraries\n",
    "import numpy as np\n",
    "import matplotlib.pyplot as plt\n",
    "import plotly.graph_objects as go\n",
    "from plotly.offline import init_notebook_mode, iplot"
   ]
  },
  {
   "cell_type": "markdown",
   "id": "d1727139-facb-403f-bf85-5be358b45d16",
   "metadata": {},
   "source": [
    "# 4.1) Attitude Determination Problem Statement"
   ]
  },
  {
   "cell_type": "code",
   "execution_count": null,
   "id": "46c85738-2fd3-45e7-bae9-352efb93fd7f",
   "metadata": {},
   "outputs": [],
   "source": []
  },
  {
   "cell_type": "code",
   "execution_count": null,
   "id": "a739e2ab-e6bb-41e4-8332-c774a3075014",
   "metadata": {},
   "outputs": [],
   "source": []
  },
  {
   "cell_type": "markdown",
   "id": "f4c650e5-2b58-4b42-b881-28b889e0eefa",
   "metadata": {},
   "source": [
    "# 4.2) TRIAD Method"
   ]
  },
  {
   "cell_type": "code",
   "execution_count": null,
   "id": "1b55c241-7c91-4a10-bfa7-f917fd75b948",
   "metadata": {},
   "outputs": [],
   "source": []
  },
  {
   "cell_type": "code",
   "execution_count": null,
   "id": "00ee3570-7e11-44d1-bb59-e4bd5600c7ba",
   "metadata": {},
   "outputs": [],
   "source": []
  },
  {
   "cell_type": "markdown",
   "id": "d8e909a7-cef8-4a58-aa80-42a3f4706468",
   "metadata": {},
   "source": [
    "# 4.3) Wahba's Problem Defintion"
   ]
  },
  {
   "cell_type": "code",
   "execution_count": null,
   "id": "eac43f32-2cc4-4605-b2aa-3ebee6022fad",
   "metadata": {},
   "outputs": [],
   "source": []
  },
  {
   "cell_type": "code",
   "execution_count": null,
   "id": "ae13f733-d006-49d0-8407-5452c88706fd",
   "metadata": {},
   "outputs": [],
   "source": []
  },
  {
   "cell_type": "markdown",
   "id": "da53b6ac-8348-49ec-b68c-ecb1356d9377",
   "metadata": {},
   "source": [
    "# 4.4) Devenport's q-Method"
   ]
  },
  {
   "cell_type": "code",
   "execution_count": null,
   "id": "d828ff07-00e5-452d-b9c7-07e45e2d4793",
   "metadata": {},
   "outputs": [],
   "source": []
  },
  {
   "cell_type": "code",
   "execution_count": null,
   "id": "1a74d27f-c435-4a3c-89d6-ac6886c05286",
   "metadata": {},
   "outputs": [],
   "source": []
  },
  {
   "cell_type": "markdown",
   "id": "45a92931-ef19-43c1-8afc-e12dfab07d2d",
   "metadata": {},
   "source": [
    "# 4.5) QUEST"
   ]
  },
  {
   "cell_type": "code",
   "execution_count": null,
   "id": "8e940f7e-4211-4de4-956d-d87608868bb6",
   "metadata": {},
   "outputs": [],
   "source": []
  },
  {
   "cell_type": "code",
   "execution_count": null,
   "id": "7870fe04-7060-4e6d-ac44-5be76988e392",
   "metadata": {},
   "outputs": [],
   "source": []
  },
  {
   "cell_type": "markdown",
   "id": "e1631534-a7fa-4f35-9d44-6037a4babfa4",
   "metadata": {},
   "source": [
    "# 4.6) OLAE"
   ]
  },
  {
   "cell_type": "code",
   "execution_count": null,
   "id": "b914b495-8533-437e-a7b0-c03307d13cb1",
   "metadata": {},
   "outputs": [],
   "source": []
  },
  {
   "cell_type": "code",
   "execution_count": null,
   "id": "bbc85047-9550-4259-8708-1dd8dc437f89",
   "metadata": {},
   "outputs": [],
   "source": []
  },
  {
   "cell_type": "markdown",
   "id": "f0b7c5e6-1266-4eb5-a685-031ec90c91c2",
   "metadata": {},
   "source": [
    "# 4.7) Kinematics Final Assignment"
   ]
  },
  {
   "cell_type": "code",
   "execution_count": null,
   "id": "1b82a45c-7aa6-4098-b44e-6db4c203379b",
   "metadata": {},
   "outputs": [],
   "source": []
  }
 ],
 "metadata": {
  "kernelspec": {
   "display_name": "Python 3 (ipykernel)",
   "language": "python",
   "name": "python3"
  },
  "language_info": {
   "codemirror_mode": {
    "name": "ipython",
    "version": 3
   },
   "file_extension": ".py",
   "mimetype": "text/x-python",
   "name": "python",
   "nbconvert_exporter": "python",
   "pygments_lexer": "ipython3",
   "version": "3.11.9"
  }
 },
 "nbformat": 4,
 "nbformat_minor": 5
}
