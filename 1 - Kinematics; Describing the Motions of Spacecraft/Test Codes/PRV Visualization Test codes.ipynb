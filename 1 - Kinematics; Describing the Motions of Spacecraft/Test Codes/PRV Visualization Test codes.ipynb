{
 "cells": [
  {
   "cell_type": "code",
   "execution_count": 1,
   "id": "4052b30c-5009-4147-aaea-586a9e4978e9",
   "metadata": {},
   "outputs": [],
   "source": [
    "import numpy as np\n",
    "import plotly.graph_objects as go"
   ]
  },
  {
   "cell_type": "markdown",
   "id": "6a63aad3-cd23-4616-8a17-9cbab6494d2c",
   "metadata": {},
   "source": [
    "# Purpose of this Notebook\n",
    "\n",
    "## From Euler Angle Visualization Notebook\n",
    "- Define Rotation Matrices\n",
    "  \n",
    "- Define a 'initialize_ref_frame' to generate reference frames\n",
    "\n",
    "- Define a 'rotation apply' which details how to sequentially add successive rotation for symmetric and asymmetric Euler Angle Sets\n",
    "\n",
    "- Define a 'setup_animation_scene' which sets up the animation sequence with sliders for effective presentation\n",
    "\n",
    "- Define a 'set_small_to_zero' function that sets float point values that are extremely small to zero in a matrix for clean presentation of DCMs\n",
    "\n",
    "- Define 'euler_rotation_animation' function that uses all of the previous functions to generate the animation shocasing the sequential rotations\n",
    "\n",
    "## Functions Newly Defined for this Notebook\n",
    "- 'rotation_matrix_to_prv' to convert a given DCM to an equivalent Axis-Angle / PRV\n",
    "\n",
    "- 'prv_to_rotation_matrix' to convert a PRV to DCM\n",
    "\n",
    "- 'PRV_rotation_animation' that usees previous function generate animation showcasing the rotation with a defined PRV."
   ]
  },
  {
   "cell_type": "code",
   "execution_count": 2,
   "id": "0d857aca-f3db-405a-96a5-87cf458dba96",
   "metadata": {},
   "outputs": [],
   "source": [
    "'''\n",
    "The definitions of Rotation Matrices\n",
    "--------------------------------------------------------------------------------------------------------------------------------------------------------\n",
    "    - The rotation abt the 1st principle axis (x-axis) is defined by the angle 'psi'\n",
    "    - The rotation abt the 2nd principle axis (y-axis) is defined by the angle 'theta'\n",
    "    - The rotation abt the 3rd principle axis (z-axis) is defined by the angle 'phi'\n",
    "'''\n",
    "\n",
    "def rotation_matrix_x(phi):\n",
    "    \"\"\"Generate rotation matrix for a roll (rotation about the x-axis)\"\"\"\n",
    "    phi = np.radians(phi)\n",
    "    c, s = np.cos(phi), np.sin(phi)\n",
    "    return np.array([[1, 0, 0], \n",
    "                     [0, c, s], \n",
    "                     [0, -s, c]])\n",
    "\n",
    "def rotation_matrix_y(theta):\n",
    "    \"\"\"Generate rotation matrix for a pitch (rotation about the y-axis)\"\"\"\n",
    "    theta = np.radians(theta)\n",
    "    c, s = np.cos(theta), np.sin(theta)\n",
    "    return np.array([[c, 0, -s], \n",
    "                     [0, 1, 0], \n",
    "                     [s, 0, c]])\n",
    "\n",
    "def rotation_matrix_z(psi):\n",
    "    \"\"\"Generate rotation matrix for a yaw (rotation about the z-axis)\"\"\"\n",
    "    psi = np.radians(psi)\n",
    "    c, s = np.cos(psi), np.sin(psi)\n",
    "    return np.array([[c, s, 0], \n",
    "                     [-s, c, 0], \n",
    "                     [0, 0, 1]])"
   ]
  },
  {
   "cell_type": "code",
   "execution_count": 3,
   "id": "abb32757-eebd-4678-8ad0-6ee80b31cfe5",
   "metadata": {},
   "outputs": [],
   "source": [
    "def rotation_matrix_to_prv(C):\n",
    "    \"\"\"\n",
    "    Converts a rotation matrix to a Principal Rotation Vector (PRV).\n",
    "\n",
    "    Args:\n",
    "        C (np.array): A 3x3 rotation matrix.\n",
    "\n",
    "    Returns:\n",
    "        tuple: A PRV represented as (e_vector, phi_angle).\n",
    "    \"\"\"\n",
    "    # Compute the angle phi from the trace of the rotation matrix\n",
    "    trace_C = np.trace(C)\n",
    "    phi = np.arccos((trace_C - 1) / 2)\n",
    "    \n",
    "    # Handle edge cases where phi is 0 or π\n",
    "    if np.isclose(phi, 0) or np.isclose(phi, np.pi):\n",
    "        \n",
    "        # For phi=0, no rotation, the axis can be arbitrary, choose x-axis for simplicity\n",
    "        # For phi=π, rotation by 180 degrees, find axis by identifying non-zero component\n",
    "        e = np.array([1, 0, 0])  # Arbitrary axis, could also check for non-diagonal elements\n",
    "    \n",
    "    else:\n",
    "        # Compute the unit vector e from the off-diagonal elements of the matrix C\n",
    "        e = (1 / (2 * np.sin(phi))) * np.array([C[1, 2] - C[2, 1],\n",
    "                                                C[2, 0] - C[0, 2],\n",
    "                                                C[0, 1] - C[1, 0]])\n",
    "        # Normalize the unit vector to ensure it's a valid unit vector\n",
    "        e /= np.linalg.norm(e)\n",
    "\n",
    "    # Ensure the angle phi is in the range [0, 2*pi)\n",
    "    phi = np.mod(phi, 2 * np.pi)\n",
    "\n",
    "    return e, phi"
   ]
  },
  {
   "cell_type": "code",
   "execution_count": 4,
   "id": "c77fdd82-e80b-4bfd-a0a4-7fdbac6b2e9f",
   "metadata": {},
   "outputs": [],
   "source": [
    "def prv_to_rotation_matrix(e, phi_deg):\n",
    "    \"\"\"\n",
    "    Converts a Principal Rotation Vector (PRV) to a rotation matrix.\n",
    "\n",
    "    Args:\n",
    "        e (np.array)   : The unit vector of the PRV.\n",
    "        phi_deg (float): The rotation angle of the PRV in degrees.\n",
    "\n",
    "    Returns:\n",
    "        np.array: A 3x3 rotation matrix.\n",
    "    \"\"\"\n",
    "    # Convert the angle from degrees to radians\n",
    "    phi_rad = np.radians(phi_deg)\n",
    "    \n",
    "    # Calculate the cosine and sine of the angle\n",
    "    c_phi = np.cos(phi_rad)\n",
    "    s_phi = np.sin(phi_rad)\n",
    "    \n",
    "    # Calculate the matrix Sigma\n",
    "    Sigma = 1 - c_phi\n",
    "\n",
    "    # Ensure e is a float array to avoid UFuncTypeError during in-place operations\n",
    "    e = np.array(e, dtype=float)\n",
    "    \n",
    "    # Normalize e vector to ensure it's a valid unit vector\n",
    "    e /= np.linalg.norm(e)\n",
    "    \n",
    "    # Decompose the unit vector into its components\n",
    "    e1, e2, e3 = e\n",
    "    \n",
    "    # Construct the rotation matrix using the given formula\n",
    "    C = np.array([[((e1**2)*Sigma + c_phi), (e1*e2*Sigma + e3*s_phi), (e1*e3*Sigma - e2*s_phi)],\n",
    "                  [(e2*e1*Sigma - e3*s_phi), ((e2**2)*Sigma + c_phi), (e2*e3*Sigma + e1*s_phi)],\n",
    "                  [(e3*e1*Sigma + e2*s_phi), (e3*e2*Sigma - e1*s_phi), ((e3**2)*Sigma + c_phi)]])\n",
    "\n",
    "    return C"
   ]
  },
  {
   "cell_type": "code",
   "execution_count": 5,
   "id": "849b0b26-5b7c-4cc2-902a-41eb5732ff7f",
   "metadata": {},
   "outputs": [],
   "source": [
    "def initialize_frame(fig, frame_matrix, frame_label, colors, is_static=False):\n",
    "    \"\"\"\n",
    "    Initializes vectors on the provided figure as either static or dynamic using a color dictionary.\n",
    "\n",
    "    Args:\n",
    "        fig (plotly.graph_objects.Figure) : The figure on which to add the frames.\n",
    "        frame_matrix (np.ndarray)         : The matrix representing the orientation of the frame.\n",
    "        frame_label (str)                 : Base label for the frame vectors ('N' for N-frame, 'E' for E-frame).\n",
    "        colors (dict)                     : Dictionary of colors for each vector, keyed by 'i', 'j', 'k'.\n",
    "        is_static (bool)                  : Indicates whether the frame should be added as static (with dotted lines).\n",
    "        \n",
    "    Note:\n",
    "    - This function modifies the 'fig' (Figure object) directly. \n",
    "      In Python, objects like lists, dictionaries, and classes such as plotly.graph_objects.Figure are mutable. \n",
    "      This means they can be changed after creation. \n",
    "      `initialize_frame` leverages this by adding traces directly to 'fig', thus altering its state without the need to return a new object.\n",
    "    \n",
    "    - The function operates with a side effect: it changes the state of 'fig' by adding traces. \n",
    "      It does not return a value because its primary purpose is to modify the existing figure, not produce a new output. \n",
    "      This approach avoids the need for managing a return value, simplifying its usage and integration into other parts of your code.\n",
    "    \n",
    "    - By not returning a value, it is evident that the function's sole responsibility is to modify the provided figure, \n",
    "      aligning with typical practices in Plotly where in-place modifications are common for updating visual properties.\n",
    "\n",
    "    \"\"\"\n",
    "    \n",
    "    line_style = 'dot' if is_static else 'solid'\n",
    "    \n",
    "    suffix = \" (static)\" if is_static else \"\"\n",
    "    \n",
    "    axis_labels = ['i', 'j', 'k']  # Axis labels corresponding to 'i', 'j', 'k'\n",
    "\n",
    "    for i, axis in enumerate(axis_labels):\n",
    "        vec = frame_matrix[:, i]\n",
    "        name = f'{frame_label}_{axis}{suffix}'\n",
    "        color = colors[axis]  # Access color using axis label as key\n",
    "        fig.add_trace(go.Scatter3d(x=[0, vec[0]], \n",
    "                                   y=[0, vec[1]], \n",
    "                                   z=[0, vec[2]],\n",
    "                                   mode='lines+markers', \n",
    "                                   name=name,\n",
    "                                   marker=dict(color=color),\n",
    "                                   line=dict(dash=line_style, color=color)))"
   ]
  },
  {
   "cell_type": "code",
   "execution_count": 6,
   "id": "e649c956-fe6e-4a1a-ba8f-4fe83da900d5",
   "metadata": {},
   "outputs": [],
   "source": [
    "def setup_animation_scene(fig, frames, title):\n",
    "    \"\"\"\n",
    "    Adds animation controls and configures layout settings for a Plotly figure.\n",
    "\n",
    "    Args:\n",
    "        fig (plotly.graph_objects.Figure): The figure to which the controls will be added.\n",
    "        frames (list): List of animation frames to be included in the slider control.\n",
    "        title (str): The title to set for the animation scene.\n",
    "\n",
    "    Note:\n",
    "    - Animation Controls: This function sets up interactive controls that allow users to play through or step through the animation frames at their own pace. \n",
    "                          The 'Play' button starts the animation, while the slider allows users to jump to specific points in the animation.\n",
    "    \n",
    "    - Button Configuration: The 'Play' button is configured to start the animation immediately when clicked, using the 'immediate' mode. \n",
    "                            It ensures that the animation runs smoothly, redrawing each frame with a duration of 100 milliseconds.\n",
    "    \n",
    "    - Slider Mechanism: The slider below the animation includes steps corresponding to each frame created in the animation sequence. \n",
    "                        Users can move the slider to navigate to different frames, which is particularly useful for examining specific moments of the animation in detail.\n",
    "    \n",
    "    - Current Value Display: The slider also shows the current frame number as the animation plays, \n",
    "                             providing immediate visual feedback to users on their current position within the animation sequence.\n",
    "    \n",
    "    - Layout Configuration: The function also defines the visual layout of the 3D scene. \n",
    "                            It sets a fixed cube aspect for the axes to ensure that objects in the 3D space are displayed proportionally. \n",
    "                            The axes are configured to not auto-scale, maintaining consistent spatial references.\n",
    "    \n",
    "    - Scene Dimensions: The overall dimensions of the figure are set to ensure sufficient space for viewing the animation comfortably, enhancing the visual experience for the user.\n",
    "    \n",
    "    - Usability and Interactivity: By integrating these controls, the function enhances the usability and interactivity of the visualization, \n",
    "                                   making it a more effective tool for presentations or educational purposes where step-by-step analysis of movements is beneficial.\n",
    "\n",
    "    \"\"\"\n",
    "    # Update the figure with animation controls\n",
    "    fig.update_layout(updatemenus=[{\"type\": \"buttons\",\n",
    "                                    \"showactive\": False,\n",
    "                                    \"y\": -0.13,\n",
    "                                    \"x\": -0.02,\n",
    "                                    \"xanchor\": 'left',\n",
    "                                    \"yanchor\": 'bottom',\n",
    "                                    \"buttons\": [{\"label\": 'Play',\n",
    "                                                 \"method\": 'animate',\n",
    "                                                 \"args\": [None, {\"frame\": {\"duration\": 100, \"redraw\": True},\n",
    "                                                                 \"fromcurrent\": True,\n",
    "                                                                 \"mode\": 'immediate'}]}]}],\n",
    "                      sliders=[{\"steps\": [{\"method\": 'animate',\n",
    "                                           \"args\": [[f.name], {\"mode\": 'immediate', \n",
    "                                                               \"frame\": {\"duration\": 100, \"redraw\": True},\n",
    "                                                               \"fromcurrent\": True}],\n",
    "                                           \"label\": str(k)} for k, f in enumerate(frames)],\n",
    "                                \"x\": 0.1,\n",
    "                                \"y\": 0,\n",
    "                                \"currentvalue\": {\"visible\": True, \"prefix\": 'Step: '}}])\n",
    "\n",
    "    # Set additional layout settings for the 3D scene\n",
    "    fig.update_layout(width=1000,\n",
    "                      height=800,\n",
    "                      template='presentation',\n",
    "                      scene={\"aspectmode\": 'cube',\n",
    "                             \"xaxis\": {\"range\": [-1, 1], \"autorange\": False},\n",
    "                             \"yaxis\": {\"range\": [-1, 1], \"autorange\": False},\n",
    "                             \"zaxis\": {\"range\": [-1, 1], \"autorange\": False}},\n",
    "                      title=f\"{title}\")"
   ]
  },
  {
   "cell_type": "code",
   "execution_count": 16,
   "id": "9249c08b-7def-4369-a494-ab18dd4aa25b",
   "metadata": {},
   "outputs": [
    {
     "name": "stdout",
     "output_type": "stream",
     "text": [
      "Axis-Angle (degrees): [0.429577, 0.867729, 0.250019], 80.3385\n",
      "----------------------------------------------------\n",
      "DCM:\n",
      "[[ 0.32139328  0.55667089 -0.76604431]\n",
      " [ 0.06372507  0.79441497  0.60402315]\n",
      " [ 0.94479917 -0.24294521  0.21984574]]\n",
      "----------------------------------------------------\n",
      "Euler Angles (321 sequence): <60.00006220988052, 49.99998810012322, 70.00005924826925>\n"
     ]
    },
    {
     "data": {
      "application/vnd.plotly.v1+json": {
       "config": {
        "plotlyServerURL": "https://plot.ly"
       },
       "data": [
        {
         "line": {
          "color": "red",
          "dash": "dot"
         },
         "marker": {
          "color": "red"
         },
         "mode": "lines+markers",
         "name": "N_i (static)",
         "type": "scatter3d",
         "x": [
          0,
          1
         ],
         "y": [
          0,
          0
         ],
         "z": [
          0,
          0
         ]
        },
        {
         "line": {
          "color": "green",
          "dash": "dot"
         },
         "marker": {
          "color": "green"
         },
         "mode": "lines+markers",
         "name": "N_j (static)",
         "type": "scatter3d",
         "x": [
          0,
          0
         ],
         "y": [
          0,
          1
         ],
         "z": [
          0,
          0
         ]
        },
        {
         "line": {
          "color": "blue",
          "dash": "dot"
         },
         "marker": {
          "color": "blue"
         },
         "mode": "lines+markers",
         "name": "N_k (static)",
         "type": "scatter3d",
         "x": [
          0,
          0
         ],
         "y": [
          0,
          0
         ],
         "z": [
          0,
          1
         ]
        },
        {
         "line": {
          "color": "red",
          "dash": "solid"
         },
         "marker": {
          "color": "red"
         },
         "mode": "lines+markers",
         "name": "E_i",
         "type": "scatter3d",
         "x": [
          0,
          0.3213932799791024
         ],
         "y": [
          0,
          0.5566708859708207
         ],
         "z": [
          0,
          -0.7660443096170977
         ]
        },
        {
         "line": {
          "color": "green",
          "dash": "solid"
         },
         "marker": {
          "color": "green"
         },
         "mode": "lines+markers",
         "name": "E_j",
         "type": "scatter3d",
         "x": [
          0,
          0.06372507419057888
         ],
         "y": [
          0,
          0.7944149726063935
         ],
         "z": [
          0,
          0.6040231503992113
         ]
        },
        {
         "line": {
          "color": "blue",
          "dash": "solid"
         },
         "marker": {
          "color": "blue"
         },
         "mode": "lines+markers",
         "name": "E_k",
         "type": "scatter3d",
         "x": [
          0,
          0.9447991715193655
         ],
         "y": [
          0,
          -0.2429452119537336
         ],
         "z": [
          0,
          0.21984574020225178
         ]
        },
        {
         "line": {
          "color": "purple",
          "width": 5
         },
         "mode": "lines+markers",
         "name": "Rotation Axis (normalized)",
         "type": "scatter3d",
         "x": [
          0,
          0.4295771038006612
         ],
         "y": [
          0,
          0.867729209673339
         ],
         "z": [
          0,
          0.25001906041323796
         ]
        }
       ],
       "frames": [
        {
         "data": [
          {
           "marker": {
            "color": "red"
           },
           "mode": "lines+markers",
           "name": "E_i",
           "type": "scatter3d",
           "x": [
            0,
            1
           ],
           "y": [
            0,
            0
           ],
           "z": [
            0,
            0
           ]
          },
          {
           "marker": {
            "color": "green"
           },
           "mode": "lines+markers",
           "name": "E_j",
           "type": "scatter3d",
           "x": [
            0,
            0
           ],
           "y": [
            0,
            1
           ],
           "z": [
            0,
            0
           ]
          },
          {
           "marker": {
            "color": "blue"
           },
           "mode": "lines+markers",
           "name": "E_k",
           "type": "scatter3d",
           "x": [
            0,
            0
           ],
           "y": [
            0,
            0
           ],
           "z": [
            0,
            1
           ]
          }
         ],
         "name": "0",
         "traces": [
          3,
          4,
          5
         ]
        },
        {
         "data": [
          {
           "marker": {
            "color": "red"
           },
           "mode": "lines+markers",
           "name": "E_i",
           "type": "scatter3d",
           "x": [
            0,
            0.9991094564996588
           ],
           "y": [
            0,
            0.012088474301594333
           ],
           "z": [
            0,
            -0.04042477856483739
           ]
          },
          {
           "marker": {
            "color": "green"
           },
           "mode": "lines+markers",
           "name": "E_j",
           "type": "scatter3d",
           "x": [
            0,
            -0.011274321459219508
           ],
           "y": [
            0,
            0.999730208374731
           ],
           "z": [
            0,
            0.020307637446314503
           ]
          },
          {
           "marker": {
            "color": "blue"
           },
           "mode": "lines+markers",
           "name": "E_k",
           "type": "scatter3d",
           "x": [
            0,
            0.0406593606515231
           ],
           "y": [
            0,
            -0.019833790663321672
           ],
           "z": [
            0,
            0.9989761944807959
           ]
          }
         ],
         "name": "1",
         "traces": [
          3,
          4,
          5
         ]
        },
        {
         "data": [
          {
           "marker": {
            "color": "red"
           },
           "mode": "lines+markers",
           "name": "E_i",
           "type": "scatter3d",
           "x": [
            0,
            0.9964397710708902
           ],
           "y": [
            0,
            0.024964698517507634
           ],
           "z": [
            0,
            -0.08052668164106797
           ]
          },
          {
           "marker": {
            "color": "green"
           },
           "mode": "lines+markers",
           "name": "E_j",
           "type": "scatter3d",
           "x": [
            0,
            -0.021709865372322362
           ],
           "y": [
            0,
            0.9989214227617788
           ],
           "z": [
            0,
            0.04104476693927522
           ]
          },
          {
           "marker": {
            "color": "blue"
           },
           "mode": "lines+markers",
           "name": "E_k",
           "type": "scatter3d",
           "x": [
            0,
            0.0814644976275408
           ],
           "y": [
            0,
            -0.039150414755321994
           ],
           "z": [
            0,
            0.9959070140584304
           ]
          }
         ],
         "name": "2",
         "traces": [
          3,
          4,
          5
         ]
        },
        {
         "data": [
          {
           "marker": {
            "color": "red"
           },
           "mode": "lines+markers",
           "name": "E_i",
           "type": "scatter3d",
           "x": [
            0,
            0.9919967746821481
           ],
           "y": [
            0,
            0.038600549163078125
           ],
           "z": [
            0,
            -0.12021812103224852
           ]
          },
          {
           "marker": {
            "color": "green"
           },
           "mode": "lines+markers",
           "name": "E_j",
           "type": "scatter3d",
           "x": [
            0,
            -0.031283839043697255
           ],
           "y": [
            0,
            0.9975754096626731
           ],
           "z": [
            0,
            0.06216609567149975
           ]
          },
          {
           "marker": {
            "color": "blue"
           },
           "mode": "lines+markers",
           "name": "E_k",
           "type": "scatter3d",
           "x": [
            0,
            0.12232628676986648
           ],
           "y": [
            0,
            -0.05790768205220104
           ],
           "z": [
            0,
            0.9907991622546103
           ]
          }
         ],
         "name": "3",
         "traces": [
          3,
          4,
          5
         ]
        },
        {
         "data": [
          {
           "marker": {
            "color": "red"
           },
           "mode": "lines+markers",
           "name": "E_i",
           "type": "scatter3d",
           "x": [
            0,
            0.9857901714624299
           ],
           "y": [
            0,
            0.052966243622684255
           ],
           "z": [
            0,
            -0.15941240505235368
           ]
          },
          {
           "marker": {
            "color": "green"
           },
           "mode": "lines+markers",
           "name": "E_j",
           "type": "scatter3d",
           "x": [
            0,
            -0.03997533156831614
           ],
           "y": [
            0,
            0.9956951089593323
           ],
           "z": [
            0,
            0.08362549169043162
           ]
          },
          {
           "marker": {
            "color": "blue"
           },
           "mode": "lines+markers",
           "name": "E_k",
           "type": "scatter3d",
           "x": [
            0,
            0.16315548018401468
           ],
           "y": [
            0,
            -0.07606462404407005
           ],
           "z": [
            0,
            0.9836637953360681
           ]
          }
         ],
         "name": "4",
         "traces": [
          3,
          4,
          5
         ]
        },
        {
         "data": [
          {
           "marker": {
            "color": "red"
           },
           "mode": "lines+markers",
           "name": "E_i",
           "type": "scatter3d",
           "x": [
            0,
            0.9778335175060938
           ],
           "y": [
            0,
            0.06803040519916581
           ],
           "z": [
            0,
            -0.1980239278726106
           ]
          },
          {
           "marker": {
            "color": "green"
           },
           "mode": "lines+markers",
           "name": "E_j",
           "type": "scatter3d",
           "x": [
            0,
            -0.04776535950409185
           ],
           "y": [
            0,
            0.9932846274929472
           ],
           "z": [
            0,
            0.10537608465701268
           ]
          },
          {
           "marker": {
            "color": "blue"
           },
           "mode": "lines+markers",
           "name": "E_k",
           "type": "scatter3d",
           "x": [
            0,
            0.20386290116915448
           ],
           "y": [
            0,
            -0.09358158341593903
           ],
           "z": [
            0,
            0.9745164979477059
           ]
          }
         ],
         "name": "5",
         "traces": [
          3,
          4,
          5
         ]
        },
        {
         "data": [
          {
           "marker": {
            "color": "red"
           },
           "mode": "lines+markers",
           "name": "E_i",
           "type": "scatter3d",
           "x": [
            0,
            0.9681441912644431
           ],
           "y": [
            0,
            0.08376013164494349
           ],
           "z": [
            0,
            -0.23596835649666947
           ]
          },
          {
           "marker": {
            "color": "green"
           },
           "mode": "lines+markers",
           "name": "E_j",
           "type": "scatter3d",
           "x": [
            0,
            -0.05463690833438571
           ],
           "y": [
            0,
            0.9903492300940621
           ],
           "z": [
            0,
            0.1273703682170958
           ]
          },
          {
           "marker": {
            "color": "blue"
           },
           "mode": "lines+markers",
           "name": "E_k",
           "type": "scatter3d",
           "x": [
            0,
            0.24435963899256663
           ],
           "y": [
            0,
            -0.11042030066487035
           ],
           "z": [
            0,
            0.9633772490735404
           ]
          }
         ],
         "name": "6",
         "traces": [
          3,
          4,
          5
         ]
        },
        {
         "data": [
          {
           "marker": {
            "color": "red"
           },
           "mode": "lines+markers",
           "name": "E_i",
           "type": "scatter3d",
           "x": [
            0,
            0.9567433555887425
           ],
           "y": [
            0,
            0.10012106702515533
           ],
           "z": [
            0,
            -0.27316281495572825
           ]
          },
          {
           "marker": {
            "color": "green"
           },
           "mode": "lines+markers",
           "name": "E_j",
           "type": "scatter3d",
           "x": [
            0,
            -0.060574969630104565
           ],
           "y": [
            0,
            0.9868953280834443
           ],
           "z": [
            0,
            0.14956030376200385
           ]
          },
          {
           "marker": {
            "color": "blue"
           },
           "mode": "lines+markers",
           "name": "E_k",
           "type": "scatter3d",
           "x": [
            0,
            0.28455724308318875
           ],
           "y": [
            0,
            -0.12654399766411406
           ],
           "z": [
            0,
            0.9502703783997898
           ]
          }
         ],
         "name": "7",
         "traces": [
          3,
          4,
          5
         ]
        },
        {
         "data": [
          {
           "marker": {
            "color": "red"
           },
           "mode": "lines+markers",
           "name": "E_i",
           "type": "scatter3d",
           "x": [
            0,
            0.9436559115075763
           ],
           "y": [
            0,
            0.1170774767558502
           ],
           "z": [
            0,
            -0.30952606532130467
           ]
          },
          {
           "marker": {
            "color": "green"
           },
           "mode": "lines+markers",
           "name": "E_j",
           "type": "scatter3d",
           "x": [
            0,
            -0.0655665738302211
           ],
           "y": [
            0,
            0.9829304652688585
           ],
           "z": [
            0,
            0.1718974253516074
           ]
          },
          {
           "marker": {
            "color": "blue"
           },
           "mode": "lines+markers",
           "name": "E_k",
           "type": "scatter3d",
           "x": [
            0,
            0.3243679162201024
           ],
           "y": [
            0,
            -0.14191745799170952
           ],
           "z": [
            0,
            0.9352245131754193
           ]
          }
         ],
         "name": "8",
         "traces": [
          3,
          4,
          5
         ]
        },
        {
         "data": [
          {
           "marker": {
            "color": "red"
           },
           "mode": "lines+markers",
           "name": "E_i",
           "type": "scatter3d",
           "x": [
            0,
            0.9289104438394992
           ],
           "y": [
            0,
            0.13459232565334517
           ],
           "z": [
            0,
            -0.34497868514029756
           ]
          },
          {
           "marker": {
            "color": "green"
           },
           "mode": "lines+markers",
           "name": "E_j",
           "type": "scatter3d",
           "x": [
            0,
            -0.06960081856911897
           ],
           "y": [
            0,
            0.9784633014683294
           ],
           "z": [
            0,
            0.19433294557075437
           ]
          },
          {
           "marker": {
            "color": "blue"
           },
           "mode": "lines+markers",
           "name": "E_k",
           "type": "scatter3d",
           "x": [
            0,
            0.3637047062940116
           ],
           "y": [
            0,
            -0.15650710384810362
           ],
           "z": [
            0,
            0.9182725156862017
           ]
          }
         ],
         "name": "9",
         "traces": [
          3,
          4,
          5
         ]
        },
        {
         "data": [
          {
           "marker": {
            "color": "red"
           },
           "mode": "lines+markers",
           "name": "E_i",
           "type": "scatter3d",
           "x": [
            0,
            0.9125391587597714
           ],
           "y": [
            0,
            0.15262735882427542
           ],
           "z": [
            0,
            -0.3794432409047953
           ]
          },
          {
           "marker": {
            "color": "green"
           },
           "mode": "lines+markers",
           "name": "E_j",
           "type": "scatter3d",
           "x": [
            0,
            -0.07266889248889284
           ],
           "y": [
            0,
            0.9735035935958805
           ],
           "z": [
            0,
            0.21681786208784667
           ]
          },
          {
           "marker": {
            "color": "blue"
           },
           "mode": "lines+markers",
           "name": "E_k",
           "type": "scatter3d",
           "x": [
            0,
            0.40248169622287966
           ],
           "y": [
            0,
            -0.17028106939478813
           ],
           "z": [
            0,
            0.8994514114788642
           ]
          }
         ],
         "name": "10",
         "traces": [
          3,
          4,
          5
         ]
        },
        {
         "data": [
          {
           "marker": {
            "color": "red"
           },
           "mode": "lines+markers",
           "name": "E_i",
           "type": "scatter3d",
           "x": [
            0,
            0.8945778134575437
           ],
           "y": [
            0,
            0.1711431852196618
           ],
           "z": [
            0,
            -0.41284445717774704
           ]
          },
          {
           "marker": {
            "color": "green"
           },
           "mode": "lines+markers",
           "name": "E_j",
           "type": "scatter3d",
           "x": [
            0,
            -0.0747640944845932
           ],
           "y": [
            0,
            0.9680621743510625
           ],
           "z": [
            0,
            0.23930306468282403
           ]
          },
          {
           "marker": {
            "color": "blue"
           },
           "mode": "lines+markers",
           "name": "E_k",
           "type": "scatter3d",
           "x": [
            0,
            0.4406141916069192
           ],
           "y": [
            0,
            -0.18320927035377216
           ],
           "z": [
            0,
            0.878802308492086
           ]
          }
         ],
         "name": "11",
         "traces": [
          3,
          4,
          5
         ]
        },
        {
         "data": [
          {
           "marker": {
            "color": "red"
           },
           "mode": "lines+markers",
           "name": "E_i",
           "type": "scatter3d",
           "x": [
            0,
            0.8750656380371261
           ],
           "y": [
            0,
            0.19009936367050176
           ],
           "z": [
            0,
            -0.44510938100510483
           ]
          },
          {
           "marker": {
            "color": "green"
           },
           "mode": "lines+markers",
           "name": "E_j",
           "type": "scatter3d",
           "x": [
            0,
            -0.07588184834038222
           ],
           "y": [
            0,
            0.9621509285588136
           ],
           "z": [
            0,
            0.2617394425107918
           ]
          },
          {
           "marker": {
            "color": "blue"
           },
           "mode": "lines+markers",
           "name": "E_k",
           "type": "scatter3d",
           "x": [
            0,
            0.47801890571307376
           ],
           "y": [
            0,
            -0.1952634697158769
           ],
           "z": [
            0,
            0.8563703072709796
           ]
          }
         ],
         "name": "12",
         "traces": [
          3,
          4,
          5
         ]
        },
        {
         "data": [
          {
           "marker": {
            "color": "red"
           },
           "mode": "lines+markers",
           "name": "E_i",
           "type": "scatter3d",
           "x": [
            0,
            0.854045249833923
           ],
           "y": [
            0,
            0.20945449121697052
           ],
           "z": [
            0,
            -0.47616754125533567
           ]
          },
          {
           "marker": {
            "color": "green"
           },
           "mode": "lines+markers",
           "name": "E_j",
           "type": "scatter3d",
           "x": [
            0,
            -0.07601971272463255
           ],
           "y": [
            0,
            0.9557827672113299
           ],
           "z": [
            0,
            0.2840779913670136
           ]
          },
          {
           "marker": {
            "color": "blue"
           },
           "mode": "lines+markers",
           "name": "E_k",
           "type": "scatter3d",
           "x": [
            0,
            0.5146141413849566
           ],
           "y": [
            0,
            -0.20641733941433496
           ],
           "z": [
            0,
            0.8322044024611568
           ]
          }
         ],
         "name": "13",
         "traces": [
          3,
          4,
          5
         ]
        },
        {
         "data": [
          {
           "marker": {
            "color": "red"
           },
           "mode": "lines+markers",
           "name": "E_i",
           "type": "scatter3d",
           "x": [
            0,
            0.8315625603321791
           ],
           "y": [
            0,
            0.2291662935383082
           ],
           "z": [
            0,
            -0.5059511025382837
           ]
          },
          {
           "marker": {
            "color": "green"
           },
           "mode": "lines+markers",
           "name": "E_j",
           "type": "scatter3d",
           "x": [
            0,
            -0.07517738652213905
           ],
           "y": [
            0,
            0.9489715992686434
           ],
           "z": [
            0,
            0.3062699207189864
           ]
          },
          {
           "marker": {
            "color": "blue"
           },
           "mode": "lines+markers",
           "name": "E_k",
           "type": "scatter3d",
           "x": [
            0,
            0.55031996948093
           ],
           "y": [
            0,
            -0.21664651782899091
           ],
           "z": [
            0,
            0.8063573757975312
           ]
          }
         ],
         "name": "14",
         "traces": [
          3,
          4,
          5
         ]
        },
        {
         "data": [
          {
           "marker": {
            "color": "red"
           },
           "mode": "lines+markers",
           "name": "E_i",
           "type": "scatter3d",
           "x": [
            0,
            0.8076666748878397
           ],
           "y": [
            0,
            0.2491917172858823
           ],
           "z": [
            0,
            -0.5343950133672035
           ]
          },
          {
           "marker": {
            "color": "green"
           },
           "mode": "lines+markers",
           "name": "E_j",
           "type": "scatter3d",
           "x": [
            0,
            -0.07335670949179679
           ],
           "y": [
            0,
            0.9417323012794963
           ],
           "z": [
            0,
            0.3282667602718256
           ]
          },
          {
           "marker": {
            "color": "blue"
           },
           "mode": "lines+markers",
           "name": "E_k",
           "type": "scatter3d",
           "x": [
            0,
            0.585058403450593
           ],
           "y": [
            0,
            -0.2259286629955062
           ],
           "z": [
            0,
            0.7788856808215864
           ]
          }
         ],
         "name": "15",
         "traces": [
          3,
          4,
          5
         ]
        },
        {
         "data": [
          {
           "marker": {
            "color": "red"
           },
           "mode": "lines+markers",
           "name": "E_i",
           "type": "scatter3d",
           "x": [
            0,
            0.7824097854755474
           ],
           "y": [
            0,
            0.2694870241177561
           ],
           "z": [
            0,
            -0.5614371482403563
           ]
          },
          {
           "marker": {
            "color": "green"
           },
           "mode": "lines+markers",
           "name": "E_j",
           "type": "scatter3d",
           "x": [
            0,
            -0.07056165824830878
           ],
           "y": [
            0,
            0.9340806848888665
           ],
           "z": [
            0,
            0.35002046583420654
           ]
          },
          {
           "marker": {
            "color": "blue"
           },
           "mode": "lines+markers",
           "name": "E_k",
           "type": "scatter3d",
           "x": [
            0,
            0.6187535696683751
           ],
           "y": [
            0,
            -0.23424350140335162
           ],
           "z": [
            0,
            0.7498493195789013
           ]
          }
         ],
         "name": "16",
         "traces": [
          3,
          4,
          5
         ]
        },
        {
         "data": [
          {
           "marker": {
            "color": "red"
           },
           "mode": "lines+markers",
           "name": "E_i",
           "type": "scatter3d",
           "x": [
            0,
            0.7558470566940295
           ],
           "y": [
            0,
            0.29000788622937906
           ],
           "z": [
            0,
            -0.5870184433318428
           ]
          },
          {
           "marker": {
            "color": "green"
           },
           "mode": "lines+markers",
           "name": "E_j",
           "type": "scatter3d",
           "x": [
            0,
            -0.06679833757670033
           ],
           "y": [
            0,
            0.9260334623031115
           ],
           "z": [
            0,
            0.3714835242536349
           ]
          },
          {
           "marker": {
            "color": "blue"
           },
           "mode": "lines+markers",
           "name": "E_k",
           "type": "scatter3d",
           "x": [
            0,
            0.6513318731522062
           ],
           "y": [
            0,
            -0.2415728722760055
           ],
           "z": [
            0,
            0.7193117115662437
           ]
          }
         ],
         "name": "17",
         "traces": [
          3,
          4,
          5
         ]
        },
        {
         "data": [
          {
           "marker": {
            "color": "red"
           },
           "mode": "lines+markers",
           "name": "E_i",
           "type": "scatter3d",
           "x": [
            0,
            0.7280365052788548
           ],
           "y": [
            0,
            0.3107094831717467
           ],
           "z": [
            0,
            -0.611083025495307
           ]
          },
          {
           "marker": {
            "color": "green"
           },
           "mode": "lines+markers",
           "name": "E_j",
           "type": "scatter3d",
           "x": [
            0,
            -0.0620749670986097
           ],
           "y": [
            0,
            0.9176082097881586
           ],
           "z": [
            0,
            0.3926090571918549
           ]
          },
          {
           "marker": {
            "color": "blue"
           },
           "mode": "lines+markers",
           "name": "E_k",
           "type": "scatter3d",
           "x": [
            0,
            0.6827221583053082
           ],
           "y": [
            0,
            -0.247900767236644
           ],
           "z": [
            0,
            0.6873395552144693
           ]
          }
         ],
         "name": "18",
         "traces": [
          3,
          4,
          5
         ]
        },
        {
         "data": [
          {
           "marker": {
            "color": "red"
           },
           "mode": "lines+markers",
           "name": "E_i",
           "type": "scatter3d",
           "x": [
            0,
            0.6990388733857238
           ],
           "y": [
            0,
            0.33154659974556444
           ],
           "z": [
            0,
            -0.6335783342987452
           ]
          },
          {
           "marker": {
            "color": "green"
           },
           "mode": "lines+markers",
           "name": "E_j",
           "type": "scatter3d",
           "x": [
            0,
            -0.05640186331947869
           ],
           "y": [
            0,
            0.9088233292804686
           ],
           "z": [
            0,
            0.41335092351373287
           ]
          },
          {
           "marker": {
            "color": "blue"
           },
           "mode": "lines+markers",
           "name": "E_k",
           "type": "scatter3d",
           "x": [
            0,
            0.7128558643300263
           ],
           "y": [
            0,
            -0.2532133652726875
           ],
           "z": [
            0,
            0.6540026822097686
           ]
          }
         ],
         "name": "19",
         "traces": [
          3,
          4,
          5
         ]
        },
        {
         "data": [
          {
           "marker": {
            "color": "red"
           },
           "mode": "lines+markers",
           "name": "E_i",
           "type": "scatter3d",
           "x": [
            0,
            0.6689174959210576
           ],
           "y": [
            0,
            0.35247372475760286
           ],
           "z": [
            0,
            -0.654455236823882
           ]
          },
          {
           "marker": {
            "color": "green"
           },
           "mode": "lines+markers",
           "name": "E_j",
           "type": "scatter3d",
           "x": [
            0,
            -0.049791417095853496
           ],
           "y": [
            0,
            0.899698008194618
           ],
           "z": [
            0,
            0.4336638200659858
           ]
          },
          {
           "marker": {
            "color": "blue"
           },
           "mode": "lines+markers",
           "name": "E_k",
           "type": "scatter3d",
           "x": [
            0,
            0.7416671749742526
           ],
           "y": [
            0,
            -0.25749906292283586
           ],
           "z": [
            0,
            0.619373904971442
           ]
          }
         ],
         "name": "20",
         "traces": [
          3,
          4,
          5
         ]
        },
        {
         "data": [
          {
           "marker": {
            "color": "red"
           },
           "mode": "lines+markers",
           "name": "E_i",
           "type": "scatter3d",
           "x": [
            0,
            0.6377381622096547
           ],
           "y": [
            0,
            0.3734451504235439
           ],
           "z": [
            0,
            -0.6736681349793744
           ]
          },
          {
           "marker": {
            "color": "green"
           },
           "mode": "lines+markers",
           "name": "E_j",
           "type": "scatter3d",
           "x": [
            0,
            -0.04225806657201148
           ],
           "y": [
            0,
            0.8902521775152876
           ],
           "z": [
            0,
            0.45350338062564
           ]
          },
          {
           "marker": {
            "color": "blue"
           },
           "mode": "lines+markers",
           "name": "E_k",
           "type": "scatter3d",
           "x": [
            0,
            0.7690931622833787
           ],
           "y": [
            0,
            -0.26074849962066005
           ],
           "z": [
            0,
            0.5835288576193359
           ]
          }
         ],
         "name": "21",
         "traces": [
          3,
          4,
          5
         ]
        },
        {
         "data": [
          {
           "marker": {
            "color": "red"
           },
           "mode": "lines+markers",
           "name": "E_i",
           "type": "scatter3d",
           "x": [
            0,
            0.6055689723015525
           ],
           "y": [
            0,
            0.394415072200211
           ],
           "z": [
            0,
            -0.6911750650934565
           ]
          },
          {
           "marker": {
            "color": "green"
           },
           "mode": "lines+markers",
           "name": "E_j",
           "type": "scatter3d",
           "x": [
            0,
            -0.03381826564502341
           ],
           "y": [
            0,
            0.8805064682651882
           ],
           "z": [
            0,
            0.472826272802102
           ]
          },
          {
           "marker": {
            "color": "blue"
           },
           "mode": "lines+markers",
           "name": "E_k",
           "type": "scatter3d",
           "x": [
            0,
            0.7950739240437987
           ],
           "y": [
            0,
            -0.2629545781393955
           ],
           "z": [
            0,
            0.5465458307782873
           ]
          }
         ],
         "name": "22",
         "traces": [
          3,
          4,
          5
         ]
        },
        {
         "data": [
          {
           "marker": {
            "color": "red"
           },
           "mode": "lines+markers",
           "name": "E_i",
           "type": "scatter3d",
           "x": [
            0,
            0.5724801882319397
           ],
           "y": [
            0,
            0.41533768882913313
           ],
           "z": [
            0,
            -0.7069377895685001
           ]
          },
          {
           "marker": {
            "color": "green"
           },
           "mode": "lines+markers",
           "name": "E_j",
           "type": "scatter3d",
           "x": [
            0,
            -0.024490448027128103
           ],
           "y": [
            0,
            0.8704821664440052
           ],
           "z": [
            0,
            0.4915902926811937
           ]
          },
          {
           "marker": {
            "color": "blue"
           },
           "mode": "lines+markers",
           "name": "E_k",
           "type": "scatter3d",
           "x": [
            0,
            0.8195527146177684
           ],
           "y": [
            0,
            -0.2641124800932839
           ],
           "z": [
            0,
            0.5085056005803882
           ]
          }
         ],
         "name": "23",
         "traces": [
          3,
          4,
          5
         ]
        },
        {
         "data": [
          {
           "marker": {
            "color": "red"
           },
           "mode": "lines+markers",
           "name": "E_i",
           "type": "scatter3d",
           "x": [
            0,
            0.5385440805589906
           ],
           "y": [
            0,
            0.4361673023729351
           ],
           "z": [
            0,
            -0.7209218803973063
           ]
          },
          {
           "marker": {
            "color": "green"
           },
           "mode": "lines+markers",
           "name": "E_j",
           "type": "scatter3d",
           "x": [
            0,
            -0.014294986983912211
           ],
           "y": [
            0,
            0.8602011665367824
           ],
           "z": [
            0,
            0.509754457004437
           ]
          },
          {
           "marker": {
            "color": "blue"
           },
           "mode": "lines+markers",
           "name": "E_k",
           "type": "scatter3d",
           "x": [
            0,
            0.8424760688838593
           ],
           "y": [
            0,
            -0.2642196764616051
           ],
           "z": [
            0,
            0.4694912522385518
           ]
          }
         ],
         "name": "24",
         "traces": [
          3,
          4,
          5
         ]
        },
        {
         "data": [
          {
           "marker": {
            "color": "red"
           },
           "mode": "lines+markers",
           "name": "E_i",
           "type": "scatter3d",
           "x": [
            0,
            0.5038347705148001
           ],
           "y": [
            0,
            0.4568584180260603
           ],
           "z": [
            0,
            -0.7330967943587152
           ]
          },
          {
           "marker": {
            "color": "green"
           },
           "mode": "lines+markers",
           "name": "E_j",
           "type": "scatter3d",
           "x": [
            0,
            -0.003254150836232733
           ],
           "y": [
            0,
            0.8496859236932863
           ],
           "z": [
            0,
            0.5272790926822547
           ]
          },
          {
           "marker": {
            "color": "blue"
           },
           "mode": "lines+markers",
           "name": "E_k",
           "type": "scatter3d",
           "x": [
            0,
            0.8637939190123034
           ],
           "y": [
            0,
            -0.26327593311241393
           ],
           "z": [
            0,
            0.4295879985767223
           ]
          }
         ],
         "name": "25",
         "traces": [
          3,
          4,
          5
         ]
        },
        {
         "data": [
          {
           "marker": {
            "color": "red"
           },
           "mode": "lines+markers",
           "name": "E_i",
           "type": "scatter3d",
           "x": [
            0,
            0.46842806811418947
           ],
           "y": [
            0,
            0.4773658434818241
           ],
           "z": [
            0,
            -0.7434359397282961
           ]
          },
          {
           "marker": {
            "color": "green"
           },
           "mode": "lines+markers",
           "name": "E_j",
           "type": "scatter3d",
           "x": [
            0,
            0.008607945676927325
           ],
           "y": [
            0,
            0.8389594046828017
           ],
           "z": [
            0,
            0.5441259234455771
           ]
          },
          {
           "marker": {
            "color": "blue"
           },
           "mode": "lines+markers",
           "name": "E_k",
           "type": "scatter3d",
           "x": [
            0,
            0.883459703820175
           ],
           "y": [
            0,
            -0.2612833113139176
           ],
           "z": [
            0,
            0.3888829939130831
           ]
          }
         ],
         "name": "26",
         "traces": [
          3,
          4,
          5
         ]
        },
        {
         "data": [
          {
           "marker": {
            "color": "red"
           },
           "mode": "lines+markers",
           "name": "E_i",
           "type": "scatter3d",
           "x": [
            0,
            0.43240130657497067
           ],
           "y": [
            0,
            0.49764478763876796
           ],
           "z": [
            0,
            -0.7519167343584154
           ]
          },
          {
           "marker": {
            "color": "green"
           },
           "mode": "lines+markers",
           "name": "E_j",
           "type": "scatter3d",
           "x": [
            0,
            0.021265394068440885
           ],
           "y": [
            0,
            0.8280450377314765
           ],
           "z": [
            0,
            0.5602581534465978
           ]
          },
          {
           "marker": {
            "color": "blue"
           },
           "mode": "lines+markers",
           "name": "E_k",
           "type": "scatter3d",
           "x": [
            0,
            0.9014304704675631
           ],
           "y": [
            0,
            -0.2582461632323762
           ],
           "z": [
            0,
            0.3474651437027674
           ]
          }
         ],
         "name": "27",
         "traces": [
          3,
          4,
          5
         ]
        },
        {
         "data": [
          {
           "marker": {
            "color": "red"
           },
           "mode": "lines+markers",
           "name": "E_i",
           "type": "scatter3d",
           "x": [
            0,
            0.39583317341132257
           ],
           "y": [
            0,
            0.5176509584307247
           ],
           "z": [
            0,
            -0.7585206550008204
           ]
          },
          {
           "marker": {
            "color": "green"
           },
           "mode": "lines+markers",
           "name": "E_j",
           "type": "scatter3d",
           "x": [
            0,
            0.03469054869081639
           ],
           "y": [
            0,
            0.8169666613517816
           ],
           "z": [
            0,
            0.5756405476260797
           ]
          },
          {
           "marker": {
            "color": "blue"
           },
           "mode": "lines+markers",
           "name": "E_k",
           "type": "scatter3d",
           "x": [
            0,
            0.9176669682726145
           ],
           "y": [
            0,
            -0.2541711224263587
           ],
           "z": [
            0,
            0.30542491035584024
           ]
          }
         ],
         "name": "28",
         "traces": [
          3,
          4,
          5
         ]
        },
        {
         "data": [
          {
           "marker": {
            "color": "red"
           },
           "mode": "lines+markers",
           "name": "E_i",
           "type": "scatter3d",
           "x": [
            0,
            0.35880353856919256
           ],
           "y": [
            0,
            0.5373406595669211
           ],
           "z": [
            0,
            -0.7632332777640216
           ]
          },
          {
           "marker": {
            "color": "green"
           },
           "mode": "lines+markers",
           "name": "E_j",
           "type": "scatter3d",
           "x": [
            0,
            0.04885408711818032
           ],
           "y": [
            0,
            0.8057484722758468
           ],
           "z": [
            0,
            0.5902395086716816
           ]
          },
          {
           "marker": {
            "color": "blue"
           },
           "mode": "lines+markers",
           "name": "E_k",
           "type": "scatter3d",
           "x": [
            0,
            0.9321337344405443
           ],
           "y": [
            0,
            -0.2490670893581189
           ],
           "z": [
            0,
            0.2628541156546719
           ]
          }
         ],
         "name": "29",
         "traces": [
          3,
          4,
          5
         ]
        },
        {
         "data": [
          {
           "marker": {
            "color": "red"
           },
           "mode": "lines+markers",
           "name": "E_i",
           "type": "scatter3d",
           "x": [
            0,
            0.3213932799791024
           ],
           "y": [
            0,
            0.5566708859708207
           ],
           "z": [
            0,
            -0.7660443096170977
           ]
          },
          {
           "marker": {
            "color": "green"
           },
           "mode": "lines+markers",
           "name": "E_j",
           "type": "scatter3d",
           "x": [
            0,
            0.06372507419057888
           ],
           "y": [
            0,
            0.7944149726063935
           ],
           "z": [
            0,
            0.6040231503992113
           ]
          },
          {
           "marker": {
            "color": "blue"
           },
           "mode": "lines+markers",
           "name": "E_k",
           "type": "scatter3d",
           "x": [
            0,
            0.9447991715193655
           ],
           "y": [
            0,
            -0.2429452119537336
           ],
           "z": [
            0,
            0.21984574020225178
           ]
          }
         ],
         "name": "30",
         "traces": [
          3,
          4,
          5
         ]
        }
       ],
       "layout": {
        "height": 800,
        "scene": {
         "aspectmode": "cube",
         "aspectratio": {
          "x": 1,
          "y": 1,
          "z": 1
         },
         "xaxis": {
          "autorange": false,
          "range": [
           -1,
           1
          ],
          "type": "linear"
         },
         "yaxis": {
          "autorange": false,
          "range": [
           -1,
           1
          ],
          "type": "linear"
         },
         "zaxis": {
          "autorange": false,
          "range": [
           -1,
           1
          ],
          "type": "linear"
         }
        },
        "sliders": [
         {
          "active": 30,
          "currentvalue": {
           "prefix": "Step: ",
           "visible": true
          },
          "steps": [
           {
            "args": [
             [
              "0"
             ],
             {
              "frame": {
               "duration": 100,
               "redraw": true
              },
              "fromcurrent": true,
              "mode": "immediate"
             }
            ],
            "label": "0",
            "method": "animate"
           },
           {
            "args": [
             [
              "1"
             ],
             {
              "frame": {
               "duration": 100,
               "redraw": true
              },
              "fromcurrent": true,
              "mode": "immediate"
             }
            ],
            "label": "1",
            "method": "animate"
           },
           {
            "args": [
             [
              "2"
             ],
             {
              "frame": {
               "duration": 100,
               "redraw": true
              },
              "fromcurrent": true,
              "mode": "immediate"
             }
            ],
            "label": "2",
            "method": "animate"
           },
           {
            "args": [
             [
              "3"
             ],
             {
              "frame": {
               "duration": 100,
               "redraw": true
              },
              "fromcurrent": true,
              "mode": "immediate"
             }
            ],
            "label": "3",
            "method": "animate"
           },
           {
            "args": [
             [
              "4"
             ],
             {
              "frame": {
               "duration": 100,
               "redraw": true
              },
              "fromcurrent": true,
              "mode": "immediate"
             }
            ],
            "label": "4",
            "method": "animate"
           },
           {
            "args": [
             [
              "5"
             ],
             {
              "frame": {
               "duration": 100,
               "redraw": true
              },
              "fromcurrent": true,
              "mode": "immediate"
             }
            ],
            "label": "5",
            "method": "animate"
           },
           {
            "args": [
             [
              "6"
             ],
             {
              "frame": {
               "duration": 100,
               "redraw": true
              },
              "fromcurrent": true,
              "mode": "immediate"
             }
            ],
            "label": "6",
            "method": "animate"
           },
           {
            "args": [
             [
              "7"
             ],
             {
              "frame": {
               "duration": 100,
               "redraw": true
              },
              "fromcurrent": true,
              "mode": "immediate"
             }
            ],
            "label": "7",
            "method": "animate"
           },
           {
            "args": [
             [
              "8"
             ],
             {
              "frame": {
               "duration": 100,
               "redraw": true
              },
              "fromcurrent": true,
              "mode": "immediate"
             }
            ],
            "label": "8",
            "method": "animate"
           },
           {
            "args": [
             [
              "9"
             ],
             {
              "frame": {
               "duration": 100,
               "redraw": true
              },
              "fromcurrent": true,
              "mode": "immediate"
             }
            ],
            "label": "9",
            "method": "animate"
           },
           {
            "args": [
             [
              "10"
             ],
             {
              "frame": {
               "duration": 100,
               "redraw": true
              },
              "fromcurrent": true,
              "mode": "immediate"
             }
            ],
            "label": "10",
            "method": "animate"
           },
           {
            "args": [
             [
              "11"
             ],
             {
              "frame": {
               "duration": 100,
               "redraw": true
              },
              "fromcurrent": true,
              "mode": "immediate"
             }
            ],
            "label": "11",
            "method": "animate"
           },
           {
            "args": [
             [
              "12"
             ],
             {
              "frame": {
               "duration": 100,
               "redraw": true
              },
              "fromcurrent": true,
              "mode": "immediate"
             }
            ],
            "label": "12",
            "method": "animate"
           },
           {
            "args": [
             [
              "13"
             ],
             {
              "frame": {
               "duration": 100,
               "redraw": true
              },
              "fromcurrent": true,
              "mode": "immediate"
             }
            ],
            "label": "13",
            "method": "animate"
           },
           {
            "args": [
             [
              "14"
             ],
             {
              "frame": {
               "duration": 100,
               "redraw": true
              },
              "fromcurrent": true,
              "mode": "immediate"
             }
            ],
            "label": "14",
            "method": "animate"
           },
           {
            "args": [
             [
              "15"
             ],
             {
              "frame": {
               "duration": 100,
               "redraw": true
              },
              "fromcurrent": true,
              "mode": "immediate"
             }
            ],
            "label": "15",
            "method": "animate"
           },
           {
            "args": [
             [
              "16"
             ],
             {
              "frame": {
               "duration": 100,
               "redraw": true
              },
              "fromcurrent": true,
              "mode": "immediate"
             }
            ],
            "label": "16",
            "method": "animate"
           },
           {
            "args": [
             [
              "17"
             ],
             {
              "frame": {
               "duration": 100,
               "redraw": true
              },
              "fromcurrent": true,
              "mode": "immediate"
             }
            ],
            "label": "17",
            "method": "animate"
           },
           {
            "args": [
             [
              "18"
             ],
             {
              "frame": {
               "duration": 100,
               "redraw": true
              },
              "fromcurrent": true,
              "mode": "immediate"
             }
            ],
            "label": "18",
            "method": "animate"
           },
           {
            "args": [
             [
              "19"
             ],
             {
              "frame": {
               "duration": 100,
               "redraw": true
              },
              "fromcurrent": true,
              "mode": "immediate"
             }
            ],
            "label": "19",
            "method": "animate"
           },
           {
            "args": [
             [
              "20"
             ],
             {
              "frame": {
               "duration": 100,
               "redraw": true
              },
              "fromcurrent": true,
              "mode": "immediate"
             }
            ],
            "label": "20",
            "method": "animate"
           },
           {
            "args": [
             [
              "21"
             ],
             {
              "frame": {
               "duration": 100,
               "redraw": true
              },
              "fromcurrent": true,
              "mode": "immediate"
             }
            ],
            "label": "21",
            "method": "animate"
           },
           {
            "args": [
             [
              "22"
             ],
             {
              "frame": {
               "duration": 100,
               "redraw": true
              },
              "fromcurrent": true,
              "mode": "immediate"
             }
            ],
            "label": "22",
            "method": "animate"
           },
           {
            "args": [
             [
              "23"
             ],
             {
              "frame": {
               "duration": 100,
               "redraw": true
              },
              "fromcurrent": true,
              "mode": "immediate"
             }
            ],
            "label": "23",
            "method": "animate"
           },
           {
            "args": [
             [
              "24"
             ],
             {
              "frame": {
               "duration": 100,
               "redraw": true
              },
              "fromcurrent": true,
              "mode": "immediate"
             }
            ],
            "label": "24",
            "method": "animate"
           },
           {
            "args": [
             [
              "25"
             ],
             {
              "frame": {
               "duration": 100,
               "redraw": true
              },
              "fromcurrent": true,
              "mode": "immediate"
             }
            ],
            "label": "25",
            "method": "animate"
           },
           {
            "args": [
             [
              "26"
             ],
             {
              "frame": {
               "duration": 100,
               "redraw": true
              },
              "fromcurrent": true,
              "mode": "immediate"
             }
            ],
            "label": "26",
            "method": "animate"
           },
           {
            "args": [
             [
              "27"
             ],
             {
              "frame": {
               "duration": 100,
               "redraw": true
              },
              "fromcurrent": true,
              "mode": "immediate"
             }
            ],
            "label": "27",
            "method": "animate"
           },
           {
            "args": [
             [
              "28"
             ],
             {
              "frame": {
               "duration": 100,
               "redraw": true
              },
              "fromcurrent": true,
              "mode": "immediate"
             }
            ],
            "label": "28",
            "method": "animate"
           },
           {
            "args": [
             [
              "29"
             ],
             {
              "frame": {
               "duration": 100,
               "redraw": true
              },
              "fromcurrent": true,
              "mode": "immediate"
             }
            ],
            "label": "29",
            "method": "animate"
           },
           {
            "args": [
             [
              "30"
             ],
             {
              "frame": {
               "duration": 100,
               "redraw": true
              },
              "fromcurrent": true,
              "mode": "immediate"
             }
            ],
            "label": "30",
            "method": "animate"
           }
          ],
          "x": 0.1,
          "y": 0
         }
        ],
        "template": {
         "data": {
          "pie": [
           {
            "automargin": true,
            "type": "pie"
           }
          ],
          "scatter": [
           {
            "line": {
             "width": 3
            },
            "marker": {
             "size": 9
            },
            "type": "scatter"
           }
          ],
          "scatter3d": [
           {
            "line": {
             "width": 3
            },
            "marker": {
             "size": 9
            },
            "type": "scatter3d"
           }
          ],
          "scattergeo": [
           {
            "line": {
             "width": 3
            },
            "marker": {
             "size": 9
            },
            "type": "scattergeo"
           }
          ],
          "scattergl": [
           {
            "line": {
             "width": 3
            },
            "marker": {
             "size": 9
            },
            "type": "scattergl"
           }
          ],
          "scatterpolar": [
           {
            "line": {
             "width": 3
            },
            "marker": {
             "size": 9
            },
            "type": "scatterpolar"
           }
          ],
          "scatterpolargl": [
           {
            "line": {
             "width": 3
            },
            "marker": {
             "size": 9
            },
            "type": "scatterpolargl"
           }
          ],
          "scatterternary": [
           {
            "line": {
             "width": 3
            },
            "marker": {
             "size": 9
            },
            "type": "scatterternary"
           }
          ],
          "table": [
           {
            "cells": {
             "height": 30
            },
            "header": {
             "height": 36
            },
            "type": "table"
           }
          ]
         },
         "layout": {
          "font": {
           "size": 18
          },
          "xaxis": {
           "title": {
            "standoff": 15
           }
          },
          "yaxis": {
           "title": {
            "standoff": 15
           }
          }
         }
        },
        "title": {
         "text": "PRV Rotation Animation"
        },
        "updatemenus": [
         {
          "active": 0,
          "buttons": [
           {
            "args": [
             null,
             {
              "frame": {
               "duration": 100,
               "redraw": true
              },
              "fromcurrent": true,
              "mode": "immediate"
             }
            ],
            "label": "Play",
            "method": "animate"
           }
          ],
          "showactive": false,
          "type": "buttons",
          "x": -0.02,
          "xanchor": "left",
          "y": -0.13,
          "yanchor": "bottom"
         }
        ],
        "width": 1000
       }
      },
      "image/png": "[encoded data removed]",
      "text/html": [
       "<div>                            <div id=\"ad5f4298-806d-4b1a-8188-b7f529473491\" class=\"plotly-graph-div\" style=\"height:800px; width:1000px;\"></div>            <script type=\"text/javascript\">                require([\"plotly\"], function(Plotly) {                    window.PLOTLYENV=window.PLOTLYENV || {};                                    if (document.getElementById(\"ad5f4298-806d-4b1a-8188-b7f529473491\")) {                    Plotly.newPlot(                        \"ad5f4298-806d-4b1a-8188-b7f529473491\",                        [{\"line\":{\"color\":\"red\",\"dash\":\"dot\"},\"marker\":{\"color\":\"red\"},\"mode\":\"lines+markers\",\"name\":\"N_i (static)\",\"x\":[0,1.0],\"y\":[0,0.0],\"z\":[0,0.0],\"type\":\"scatter3d\"},{\"line\":{\"color\":\"green\",\"dash\":\"dot\"},\"marker\":{\"color\":\"green\"},\"mode\":\"lines+markers\",\"name\":\"N_j (static)\",\"x\":[0,0.0],\"y\":[0,1.0],\"z\":[0,0.0],\"type\":\"scatter3d\"},{\"line\":{\"color\":\"blue\",\"dash\":\"dot\"},\"marker\":{\"color\":\"blue\"},\"mode\":\"lines+markers\",\"name\":\"N_k (static)\",\"x\":[0,0.0],\"y\":[0,0.0],\"z\":[0,1.0],\"type\":\"scatter3d\"},{\"line\":{\"color\":\"red\",\"dash\":\"solid\"},\"marker\":{\"color\":\"red\"},\"mode\":\"lines+markers\",\"name\":\"E_i\",\"x\":[0,1.0],\"y\":[0,0.0],\"z\":[0,0.0],\"type\":\"scatter3d\"},{\"line\":{\"color\":\"green\",\"dash\":\"solid\"},\"marker\":{\"color\":\"green\"},\"mode\":\"lines+markers\",\"name\":\"E_j\",\"x\":[0,0.0],\"y\":[0,1.0],\"z\":[0,0.0],\"type\":\"scatter3d\"},{\"line\":{\"color\":\"blue\",\"dash\":\"solid\"},\"marker\":{\"color\":\"blue\"},\"mode\":\"lines+markers\",\"name\":\"E_k\",\"x\":[0,0.0],\"y\":[0,0.0],\"z\":[0,1.0],\"type\":\"scatter3d\"},{\"line\":{\"color\":\"purple\",\"width\":5},\"mode\":\"lines+markers\",\"name\":\"Rotation Axis (normalized)\",\"x\":[0,0.4295771038006612],\"y\":[0,0.867729209673339],\"z\":[0,0.25001906041323796],\"type\":\"scatter3d\"}],                        {\"template\":{\"data\":{\"pie\":[{\"automargin\":true,\"type\":\"pie\"}],\"scatter3d\":[{\"line\":{\"width\":3},\"marker\":{\"size\":9},\"type\":\"scatter3d\"}],\"scattergeo\":[{\"line\":{\"width\":3},\"marker\":{\"size\":9},\"type\":\"scattergeo\"}],\"scattergl\":[{\"line\":{\"width\":3},\"marker\":{\"size\":9},\"type\":\"scattergl\"}],\"scatterpolargl\":[{\"line\":{\"width\":3},\"marker\":{\"size\":9},\"type\":\"scatterpolargl\"}],\"scatterpolar\":[{\"line\":{\"width\":3},\"marker\":{\"size\":9},\"type\":\"scatterpolar\"}],\"scatter\":[{\"line\":{\"width\":3},\"marker\":{\"size\":9},\"type\":\"scatter\"}],\"scatterternary\":[{\"line\":{\"width\":3},\"marker\":{\"size\":9},\"type\":\"scatterternary\"}],\"table\":[{\"cells\":{\"height\":30},\"header\":{\"height\":36},\"type\":\"table\"}]},\"layout\":{\"font\":{\"size\":18},\"xaxis\":{\"title\":{\"standoff\":15}},\"yaxis\":{\"title\":{\"standoff\":15}}}},\"updatemenus\":[{\"buttons\":[{\"args\":[null,{\"frame\":{\"duration\":100,\"redraw\":true},\"fromcurrent\":true,\"mode\":\"immediate\"}],\"label\":\"Play\",\"method\":\"animate\"}],\"showactive\":false,\"type\":\"buttons\",\"x\":-0.02,\"xanchor\":\"left\",\"y\":-0.13,\"yanchor\":\"bottom\"}],\"sliders\":[{\"currentvalue\":{\"prefix\":\"Step: \",\"visible\":true},\"steps\":[{\"args\":[[\"0\"],{\"mode\":\"immediate\",\"frame\":{\"duration\":100,\"redraw\":true},\"fromcurrent\":true}],\"label\":\"0\",\"method\":\"animate\"},{\"args\":[[\"1\"],{\"mode\":\"immediate\",\"frame\":{\"duration\":100,\"redraw\":true},\"fromcurrent\":true}],\"label\":\"1\",\"method\":\"animate\"},{\"args\":[[\"2\"],{\"mode\":\"immediate\",\"frame\":{\"duration\":100,\"redraw\":true},\"fromcurrent\":true}],\"label\":\"2\",\"method\":\"animate\"},{\"args\":[[\"3\"],{\"mode\":\"immediate\",\"frame\":{\"duration\":100,\"redraw\":true},\"fromcurrent\":true}],\"label\":\"3\",\"method\":\"animate\"},{\"args\":[[\"4\"],{\"mode\":\"immediate\",\"frame\":{\"duration\":100,\"redraw\":true},\"fromcurrent\":true}],\"label\":\"4\",\"method\":\"animate\"},{\"args\":[[\"5\"],{\"mode\":\"immediate\",\"frame\":{\"duration\":100,\"redraw\":true},\"fromcurrent\":true}],\"label\":\"5\",\"method\":\"animate\"},{\"args\":[[\"6\"],{\"mode\":\"immediate\",\"frame\":{\"duration\":100,\"redraw\":true},\"fromcurrent\":true}],\"label\":\"6\",\"method\":\"animate\"},{\"args\":[[\"7\"],{\"mode\":\"immediate\",\"frame\":{\"duration\":100,\"redraw\":true},\"fromcurrent\":true}],\"label\":\"7\",\"method\":\"animate\"},{\"args\":[[\"8\"],{\"mode\":\"immediate\",\"frame\":{\"duration\":100,\"redraw\":true},\"fromcurrent\":true}],\"label\":\"8\",\"method\":\"animate\"},{\"args\":[[\"9\"],{\"mode\":\"immediate\",\"frame\":{\"duration\":100,\"redraw\":true},\"fromcurrent\":true}],\"label\":\"9\",\"method\":\"animate\"},{\"args\":[[\"10\"],{\"mode\":\"immediate\",\"frame\":{\"duration\":100,\"redraw\":true},\"fromcurrent\":true}],\"label\":\"10\",\"method\":\"animate\"},{\"args\":[[\"11\"],{\"mode\":\"immediate\",\"frame\":{\"duration\":100,\"redraw\":true},\"fromcurrent\":true}],\"label\":\"11\",\"method\":\"animate\"},{\"args\":[[\"12\"],{\"mode\":\"immediate\",\"frame\":{\"duration\":100,\"redraw\":true},\"fromcurrent\":true}],\"label\":\"12\",\"method\":\"animate\"},{\"args\":[[\"13\"],{\"mode\":\"immediate\",\"frame\":{\"duration\":100,\"redraw\":true},\"fromcurrent\":true}],\"label\":\"13\",\"method\":\"animate\"},{\"args\":[[\"14\"],{\"mode\":\"immediate\",\"frame\":{\"duration\":100,\"redraw\":true},\"fromcurrent\":true}],\"label\":\"14\",\"method\":\"animate\"},{\"args\":[[\"15\"],{\"mode\":\"immediate\",\"frame\":{\"duration\":100,\"redraw\":true},\"fromcurrent\":true}],\"label\":\"15\",\"method\":\"animate\"},{\"args\":[[\"16\"],{\"mode\":\"immediate\",\"frame\":{\"duration\":100,\"redraw\":true},\"fromcurrent\":true}],\"label\":\"16\",\"method\":\"animate\"},{\"args\":[[\"17\"],{\"mode\":\"immediate\",\"frame\":{\"duration\":100,\"redraw\":true},\"fromcurrent\":true}],\"label\":\"17\",\"method\":\"animate\"},{\"args\":[[\"18\"],{\"mode\":\"immediate\",\"frame\":{\"duration\":100,\"redraw\":true},\"fromcurrent\":true}],\"label\":\"18\",\"method\":\"animate\"},{\"args\":[[\"19\"],{\"mode\":\"immediate\",\"frame\":{\"duration\":100,\"redraw\":true},\"fromcurrent\":true}],\"label\":\"19\",\"method\":\"animate\"},{\"args\":[[\"20\"],{\"mode\":\"immediate\",\"frame\":{\"duration\":100,\"redraw\":true},\"fromcurrent\":true}],\"label\":\"20\",\"method\":\"animate\"},{\"args\":[[\"21\"],{\"mode\":\"immediate\",\"frame\":{\"duration\":100,\"redraw\":true},\"fromcurrent\":true}],\"label\":\"21\",\"method\":\"animate\"},{\"args\":[[\"22\"],{\"mode\":\"immediate\",\"frame\":{\"duration\":100,\"redraw\":true},\"fromcurrent\":true}],\"label\":\"22\",\"method\":\"animate\"},{\"args\":[[\"23\"],{\"mode\":\"immediate\",\"frame\":{\"duration\":100,\"redraw\":true},\"fromcurrent\":true}],\"label\":\"23\",\"method\":\"animate\"},{\"args\":[[\"24\"],{\"mode\":\"immediate\",\"frame\":{\"duration\":100,\"redraw\":true},\"fromcurrent\":true}],\"label\":\"24\",\"method\":\"animate\"},{\"args\":[[\"25\"],{\"mode\":\"immediate\",\"frame\":{\"duration\":100,\"redraw\":true},\"fromcurrent\":true}],\"label\":\"25\",\"method\":\"animate\"},{\"args\":[[\"26\"],{\"mode\":\"immediate\",\"frame\":{\"duration\":100,\"redraw\":true},\"fromcurrent\":true}],\"label\":\"26\",\"method\":\"animate\"},{\"args\":[[\"27\"],{\"mode\":\"immediate\",\"frame\":{\"duration\":100,\"redraw\":true},\"fromcurrent\":true}],\"label\":\"27\",\"method\":\"animate\"},{\"args\":[[\"28\"],{\"mode\":\"immediate\",\"frame\":{\"duration\":100,\"redraw\":true},\"fromcurrent\":true}],\"label\":\"28\",\"method\":\"animate\"},{\"args\":[[\"29\"],{\"mode\":\"immediate\",\"frame\":{\"duration\":100,\"redraw\":true},\"fromcurrent\":true}],\"label\":\"29\",\"method\":\"animate\"},{\"args\":[[\"30\"],{\"mode\":\"immediate\",\"frame\":{\"duration\":100,\"redraw\":true},\"fromcurrent\":true}],\"label\":\"30\",\"method\":\"animate\"}],\"x\":0.1,\"y\":0}],\"scene\":{\"xaxis\":{\"range\":[-1,1],\"autorange\":false},\"yaxis\":{\"range\":[-1,1],\"autorange\":false},\"zaxis\":{\"range\":[-1,1],\"autorange\":false},\"aspectmode\":\"cube\"},\"width\":1000,\"height\":800,\"title\":{\"text\":\"PRV Rotation Animation\"}},                        {\"responsive\": true}                    ).then(function(){\n",
       "                            Plotly.addFrames('ad5f4298-806d-4b1a-8188-b7f529473491', [{\"data\":[{\"marker\":{\"color\":\"red\"},\"mode\":\"lines+markers\",\"name\":\"E_i\",\"x\":[0,1.0],\"y\":[0,0.0],\"z\":[0,0.0],\"type\":\"scatter3d\"},{\"marker\":{\"color\":\"green\"},\"mode\":\"lines+markers\",\"name\":\"E_j\",\"x\":[0,0.0],\"y\":[0,1.0],\"z\":[0,0.0],\"type\":\"scatter3d\"},{\"marker\":{\"color\":\"blue\"},\"mode\":\"lines+markers\",\"name\":\"E_k\",\"x\":[0,0.0],\"y\":[0,0.0],\"z\":[0,1.0],\"type\":\"scatter3d\"}],\"name\":\"0\",\"traces\":[3,4,5]},{\"data\":[{\"marker\":{\"color\":\"red\"},\"mode\":\"lines+markers\",\"name\":\"E_i\",\"x\":[0,0.9991094564996588],\"y\":[0,0.012088474301594333],\"z\":[0,-0.04042477856483739],\"type\":\"scatter3d\"},{\"marker\":{\"color\":\"green\"},\"mode\":\"lines+markers\",\"name\":\"E_j\",\"x\":[0,-0.011274321459219508],\"y\":[0,0.999730208374731],\"z\":[0,0.020307637446314503],\"type\":\"scatter3d\"},{\"marker\":{\"color\":\"blue\"},\"mode\":\"lines+markers\",\"name\":\"E_k\",\"x\":[0,0.0406593606515231],\"y\":[0,-0.019833790663321672],\"z\":[0,0.9989761944807959],\"type\":\"scatter3d\"}],\"name\":\"1\",\"traces\":[3,4,5]},{\"data\":[{\"marker\":{\"color\":\"red\"},\"mode\":\"lines+markers\",\"name\":\"E_i\",\"x\":[0,0.9964397710708902],\"y\":[0,0.024964698517507634],\"z\":[0,-0.08052668164106797],\"type\":\"scatter3d\"},{\"marker\":{\"color\":\"green\"},\"mode\":\"lines+markers\",\"name\":\"E_j\",\"x\":[0,-0.021709865372322362],\"y\":[0,0.9989214227617788],\"z\":[0,0.04104476693927522],\"type\":\"scatter3d\"},{\"marker\":{\"color\":\"blue\"},\"mode\":\"lines+markers\",\"name\":\"E_k\",\"x\":[0,0.0814644976275408],\"y\":[0,-0.039150414755321994],\"z\":[0,0.9959070140584304],\"type\":\"scatter3d\"}],\"name\":\"2\",\"traces\":[3,4,5]},{\"data\":[{\"marker\":{\"color\":\"red\"},\"mode\":\"lines+markers\",\"name\":\"E_i\",\"x\":[0,0.9919967746821481],\"y\":[0,0.038600549163078125],\"z\":[0,-0.12021812103224852],\"type\":\"scatter3d\"},{\"marker\":{\"color\":\"green\"},\"mode\":\"lines+markers\",\"name\":\"E_j\",\"x\":[0,-0.031283839043697255],\"y\":[0,0.9975754096626731],\"z\":[0,0.06216609567149975],\"type\":\"scatter3d\"},{\"marker\":{\"color\":\"blue\"},\"mode\":\"lines+markers\",\"name\":\"E_k\",\"x\":[0,0.12232628676986648],\"y\":[0,-0.05790768205220104],\"z\":[0,0.9907991622546103],\"type\":\"scatter3d\"}],\"name\":\"3\",\"traces\":[3,4,5]},{\"data\":[{\"marker\":{\"color\":\"red\"},\"mode\":\"lines+markers\",\"name\":\"E_i\",\"x\":[0,0.9857901714624299],\"y\":[0,0.052966243622684255],\"z\":[0,-0.15941240505235368],\"type\":\"scatter3d\"},{\"marker\":{\"color\":\"green\"},\"mode\":\"lines+markers\",\"name\":\"E_j\",\"x\":[0,-0.03997533156831614],\"y\":[0,0.9956951089593323],\"z\":[0,0.08362549169043162],\"type\":\"scatter3d\"},{\"marker\":{\"color\":\"blue\"},\"mode\":\"lines+markers\",\"name\":\"E_k\",\"x\":[0,0.16315548018401468],\"y\":[0,-0.07606462404407005],\"z\":[0,0.9836637953360681],\"type\":\"scatter3d\"}],\"name\":\"4\",\"traces\":[3,4,5]},{\"data\":[{\"marker\":{\"color\":\"red\"},\"mode\":\"lines+markers\",\"name\":\"E_i\",\"x\":[0,0.9778335175060938],\"y\":[0,0.06803040519916581],\"z\":[0,-0.1980239278726106],\"type\":\"scatter3d\"},{\"marker\":{\"color\":\"green\"},\"mode\":\"lines+markers\",\"name\":\"E_j\",\"x\":[0,-0.04776535950409185],\"y\":[0,0.9932846274929472],\"z\":[0,0.10537608465701268],\"type\":\"scatter3d\"},{\"marker\":{\"color\":\"blue\"},\"mode\":\"lines+markers\",\"name\":\"E_k\",\"x\":[0,0.20386290116915448],\"y\":[0,-0.09358158341593903],\"z\":[0,0.9745164979477059],\"type\":\"scatter3d\"}],\"name\":\"5\",\"traces\":[3,4,5]},{\"data\":[{\"marker\":{\"color\":\"red\"},\"mode\":\"lines+markers\",\"name\":\"E_i\",\"x\":[0,0.9681441912644431],\"y\":[0,0.08376013164494349],\"z\":[0,-0.23596835649666947],\"type\":\"scatter3d\"},{\"marker\":{\"color\":\"green\"},\"mode\":\"lines+markers\",\"name\":\"E_j\",\"x\":[0,-0.05463690833438571],\"y\":[0,0.9903492300940621],\"z\":[0,0.1273703682170958],\"type\":\"scatter3d\"},{\"marker\":{\"color\":\"blue\"},\"mode\":\"lines+markers\",\"name\":\"E_k\",\"x\":[0,0.24435963899256663],\"y\":[0,-0.11042030066487035],\"z\":[0,0.9633772490735404],\"type\":\"scatter3d\"}],\"name\":\"6\",\"traces\":[3,4,5]},{\"data\":[{\"marker\":{\"color\":\"red\"},\"mode\":\"lines+markers\",\"name\":\"E_i\",\"x\":[0,0.9567433555887425],\"y\":[0,0.10012106702515533],\"z\":[0,-0.27316281495572825],\"type\":\"scatter3d\"},{\"marker\":{\"color\":\"green\"},\"mode\":\"lines+markers\",\"name\":\"E_j\",\"x\":[0,-0.060574969630104565],\"y\":[0,0.9868953280834443],\"z\":[0,0.14956030376200385],\"type\":\"scatter3d\"},{\"marker\":{\"color\":\"blue\"},\"mode\":\"lines+markers\",\"name\":\"E_k\",\"x\":[0,0.28455724308318875],\"y\":[0,-0.12654399766411406],\"z\":[0,0.9502703783997898],\"type\":\"scatter3d\"}],\"name\":\"7\",\"traces\":[3,4,5]},{\"data\":[{\"marker\":{\"color\":\"red\"},\"mode\":\"lines+markers\",\"name\":\"E_i\",\"x\":[0,0.9436559115075763],\"y\":[0,0.1170774767558502],\"z\":[0,-0.30952606532130467],\"type\":\"scatter3d\"},{\"marker\":{\"color\":\"green\"},\"mode\":\"lines+markers\",\"name\":\"E_j\",\"x\":[0,-0.0655665738302211],\"y\":[0,0.9829304652688585],\"z\":[0,0.1718974253516074],\"type\":\"scatter3d\"},{\"marker\":{\"color\":\"blue\"},\"mode\":\"lines+markers\",\"name\":\"E_k\",\"x\":[0,0.3243679162201024],\"y\":[0,-0.14191745799170952],\"z\":[0,0.9352245131754193],\"type\":\"scatter3d\"}],\"name\":\"8\",\"traces\":[3,4,5]},{\"data\":[{\"marker\":{\"color\":\"red\"},\"mode\":\"lines+markers\",\"name\":\"E_i\",\"x\":[0,0.9289104438394992],\"y\":[0,0.13459232565334517],\"z\":[0,-0.34497868514029756],\"type\":\"scatter3d\"},{\"marker\":{\"color\":\"green\"},\"mode\":\"lines+markers\",\"name\":\"E_j\",\"x\":[0,-0.06960081856911897],\"y\":[0,0.9784633014683294],\"z\":[0,0.19433294557075437],\"type\":\"scatter3d\"},{\"marker\":{\"color\":\"blue\"},\"mode\":\"lines+markers\",\"name\":\"E_k\",\"x\":[0,0.3637047062940116],\"y\":[0,-0.15650710384810362],\"z\":[0,0.9182725156862017],\"type\":\"scatter3d\"}],\"name\":\"9\",\"traces\":[3,4,5]},{\"data\":[{\"marker\":{\"color\":\"red\"},\"mode\":\"lines+markers\",\"name\":\"E_i\",\"x\":[0,0.9125391587597714],\"y\":[0,0.15262735882427542],\"z\":[0,-0.3794432409047953],\"type\":\"scatter3d\"},{\"marker\":{\"color\":\"green\"},\"mode\":\"lines+markers\",\"name\":\"E_j\",\"x\":[0,-0.07266889248889284],\"y\":[0,0.9735035935958805],\"z\":[0,0.21681786208784667],\"type\":\"scatter3d\"},{\"marker\":{\"color\":\"blue\"},\"mode\":\"lines+markers\",\"name\":\"E_k\",\"x\":[0,0.40248169622287966],\"y\":[0,-0.17028106939478813],\"z\":[0,0.8994514114788642],\"type\":\"scatter3d\"}],\"name\":\"10\",\"traces\":[3,4,5]},{\"data\":[{\"marker\":{\"color\":\"red\"},\"mode\":\"lines+markers\",\"name\":\"E_i\",\"x\":[0,0.8945778134575437],\"y\":[0,0.1711431852196618],\"z\":[0,-0.41284445717774704],\"type\":\"scatter3d\"},{\"marker\":{\"color\":\"green\"},\"mode\":\"lines+markers\",\"name\":\"E_j\",\"x\":[0,-0.0747640944845932],\"y\":[0,0.9680621743510625],\"z\":[0,0.23930306468282403],\"type\":\"scatter3d\"},{\"marker\":{\"color\":\"blue\"},\"mode\":\"lines+markers\",\"name\":\"E_k\",\"x\":[0,0.4406141916069192],\"y\":[0,-0.18320927035377216],\"z\":[0,0.878802308492086],\"type\":\"scatter3d\"}],\"name\":\"11\",\"traces\":[3,4,5]},{\"data\":[{\"marker\":{\"color\":\"red\"},\"mode\":\"lines+markers\",\"name\":\"E_i\",\"x\":[0,0.8750656380371261],\"y\":[0,0.19009936367050176],\"z\":[0,-0.44510938100510483],\"type\":\"scatter3d\"},{\"marker\":{\"color\":\"green\"},\"mode\":\"lines+markers\",\"name\":\"E_j\",\"x\":[0,-0.07588184834038222],\"y\":[0,0.9621509285588136],\"z\":[0,0.2617394425107918],\"type\":\"scatter3d\"},{\"marker\":{\"color\":\"blue\"},\"mode\":\"lines+markers\",\"name\":\"E_k\",\"x\":[0,0.47801890571307376],\"y\":[0,-0.1952634697158769],\"z\":[0,0.8563703072709796],\"type\":\"scatter3d\"}],\"name\":\"12\",\"traces\":[3,4,5]},{\"data\":[{\"marker\":{\"color\":\"red\"},\"mode\":\"lines+markers\",\"name\":\"E_i\",\"x\":[0,0.854045249833923],\"y\":[0,0.20945449121697052],\"z\":[0,-0.47616754125533567],\"type\":\"scatter3d\"},{\"marker\":{\"color\":\"green\"},\"mode\":\"lines+markers\",\"name\":\"E_j\",\"x\":[0,-0.07601971272463255],\"y\":[0,0.9557827672113299],\"z\":[0,0.2840779913670136],\"type\":\"scatter3d\"},{\"marker\":{\"color\":\"blue\"},\"mode\":\"lines+markers\",\"name\":\"E_k\",\"x\":[0,0.5146141413849566],\"y\":[0,-0.20641733941433496],\"z\":[0,0.8322044024611568],\"type\":\"scatter3d\"}],\"name\":\"13\",\"traces\":[3,4,5]},{\"data\":[{\"marker\":{\"color\":\"red\"},\"mode\":\"lines+markers\",\"name\":\"E_i\",\"x\":[0,0.8315625603321791],\"y\":[0,0.2291662935383082],\"z\":[0,-0.5059511025382837],\"type\":\"scatter3d\"},{\"marker\":{\"color\":\"green\"},\"mode\":\"lines+markers\",\"name\":\"E_j\",\"x\":[0,-0.07517738652213905],\"y\":[0,0.9489715992686434],\"z\":[0,0.3062699207189864],\"type\":\"scatter3d\"},{\"marker\":{\"color\":\"blue\"},\"mode\":\"lines+markers\",\"name\":\"E_k\",\"x\":[0,0.55031996948093],\"y\":[0,-0.21664651782899091],\"z\":[0,0.8063573757975312],\"type\":\"scatter3d\"}],\"name\":\"14\",\"traces\":[3,4,5]},{\"data\":[{\"marker\":{\"color\":\"red\"},\"mode\":\"lines+markers\",\"name\":\"E_i\",\"x\":[0,0.8076666748878397],\"y\":[0,0.2491917172858823],\"z\":[0,-0.5343950133672035],\"type\":\"scatter3d\"},{\"marker\":{\"color\":\"green\"},\"mode\":\"lines+markers\",\"name\":\"E_j\",\"x\":[0,-0.07335670949179679],\"y\":[0,0.9417323012794963],\"z\":[0,0.3282667602718256],\"type\":\"scatter3d\"},{\"marker\":{\"color\":\"blue\"},\"mode\":\"lines+markers\",\"name\":\"E_k\",\"x\":[0,0.585058403450593],\"y\":[0,-0.2259286629955062],\"z\":[0,0.7788856808215864],\"type\":\"scatter3d\"}],\"name\":\"15\",\"traces\":[3,4,5]},{\"data\":[{\"marker\":{\"color\":\"red\"},\"mode\":\"lines+markers\",\"name\":\"E_i\",\"x\":[0,0.7824097854755474],\"y\":[0,0.2694870241177561],\"z\":[0,-0.5614371482403563],\"type\":\"scatter3d\"},{\"marker\":{\"color\":\"green\"},\"mode\":\"lines+markers\",\"name\":\"E_j\",\"x\":[0,-0.07056165824830878],\"y\":[0,0.9340806848888665],\"z\":[0,0.35002046583420654],\"type\":\"scatter3d\"},{\"marker\":{\"color\":\"blue\"},\"mode\":\"lines+markers\",\"name\":\"E_k\",\"x\":[0,0.6187535696683751],\"y\":[0,-0.23424350140335162],\"z\":[0,0.7498493195789013],\"type\":\"scatter3d\"}],\"name\":\"16\",\"traces\":[3,4,5]},{\"data\":[{\"marker\":{\"color\":\"red\"},\"mode\":\"lines+markers\",\"name\":\"E_i\",\"x\":[0,0.7558470566940295],\"y\":[0,0.29000788622937906],\"z\":[0,-0.5870184433318428],\"type\":\"scatter3d\"},{\"marker\":{\"color\":\"green\"},\"mode\":\"lines+markers\",\"name\":\"E_j\",\"x\":[0,-0.06679833757670033],\"y\":[0,0.9260334623031115],\"z\":[0,0.3714835242536349],\"type\":\"scatter3d\"},{\"marker\":{\"color\":\"blue\"},\"mode\":\"lines+markers\",\"name\":\"E_k\",\"x\":[0,0.6513318731522062],\"y\":[0,-0.2415728722760055],\"z\":[0,0.7193117115662437],\"type\":\"scatter3d\"}],\"name\":\"17\",\"traces\":[3,4,5]},{\"data\":[{\"marker\":{\"color\":\"red\"},\"mode\":\"lines+markers\",\"name\":\"E_i\",\"x\":[0,0.7280365052788548],\"y\":[0,0.3107094831717467],\"z\":[0,-0.611083025495307],\"type\":\"scatter3d\"},{\"marker\":{\"color\":\"green\"},\"mode\":\"lines+markers\",\"name\":\"E_j\",\"x\":[0,-0.0620749670986097],\"y\":[0,0.9176082097881586],\"z\":[0,0.3926090571918549],\"type\":\"scatter3d\"},{\"marker\":{\"color\":\"blue\"},\"mode\":\"lines+markers\",\"name\":\"E_k\",\"x\":[0,0.6827221583053082],\"y\":[0,-0.247900767236644],\"z\":[0,0.6873395552144693],\"type\":\"scatter3d\"}],\"name\":\"18\",\"traces\":[3,4,5]},{\"data\":[{\"marker\":{\"color\":\"red\"},\"mode\":\"lines+markers\",\"name\":\"E_i\",\"x\":[0,0.6990388733857238],\"y\":[0,0.33154659974556444],\"z\":[0,-0.6335783342987452],\"type\":\"scatter3d\"},{\"marker\":{\"color\":\"green\"},\"mode\":\"lines+markers\",\"name\":\"E_j\",\"x\":[0,-0.05640186331947869],\"y\":[0,0.9088233292804686],\"z\":[0,0.41335092351373287],\"type\":\"scatter3d\"},{\"marker\":{\"color\":\"blue\"},\"mode\":\"lines+markers\",\"name\":\"E_k\",\"x\":[0,0.7128558643300263],\"y\":[0,-0.2532133652726875],\"z\":[0,0.6540026822097686],\"type\":\"scatter3d\"}],\"name\":\"19\",\"traces\":[3,4,5]},{\"data\":[{\"marker\":{\"color\":\"red\"},\"mode\":\"lines+markers\",\"name\":\"E_i\",\"x\":[0,0.6689174959210576],\"y\":[0,0.35247372475760286],\"z\":[0,-0.654455236823882],\"type\":\"scatter3d\"},{\"marker\":{\"color\":\"green\"},\"mode\":\"lines+markers\",\"name\":\"E_j\",\"x\":[0,-0.049791417095853496],\"y\":[0,0.899698008194618],\"z\":[0,0.4336638200659858],\"type\":\"scatter3d\"},{\"marker\":{\"color\":\"blue\"},\"mode\":\"lines+markers\",\"name\":\"E_k\",\"x\":[0,0.7416671749742526],\"y\":[0,-0.25749906292283586],\"z\":[0,0.619373904971442],\"type\":\"scatter3d\"}],\"name\":\"20\",\"traces\":[3,4,5]},{\"data\":[{\"marker\":{\"color\":\"red\"},\"mode\":\"lines+markers\",\"name\":\"E_i\",\"x\":[0,0.6377381622096547],\"y\":[0,0.3734451504235439],\"z\":[0,-0.6736681349793744],\"type\":\"scatter3d\"},{\"marker\":{\"color\":\"green\"},\"mode\":\"lines+markers\",\"name\":\"E_j\",\"x\":[0,-0.04225806657201148],\"y\":[0,0.8902521775152876],\"z\":[0,0.45350338062564],\"type\":\"scatter3d\"},{\"marker\":{\"color\":\"blue\"},\"mode\":\"lines+markers\",\"name\":\"E_k\",\"x\":[0,0.7690931622833787],\"y\":[0,-0.26074849962066005],\"z\":[0,0.5835288576193359],\"type\":\"scatter3d\"}],\"name\":\"21\",\"traces\":[3,4,5]},{\"data\":[{\"marker\":{\"color\":\"red\"},\"mode\":\"lines+markers\",\"name\":\"E_i\",\"x\":[0,0.6055689723015525],\"y\":[0,0.394415072200211],\"z\":[0,-0.6911750650934565],\"type\":\"scatter3d\"},{\"marker\":{\"color\":\"green\"},\"mode\":\"lines+markers\",\"name\":\"E_j\",\"x\":[0,-0.03381826564502341],\"y\":[0,0.8805064682651882],\"z\":[0,0.472826272802102],\"type\":\"scatter3d\"},{\"marker\":{\"color\":\"blue\"},\"mode\":\"lines+markers\",\"name\":\"E_k\",\"x\":[0,0.7950739240437987],\"y\":[0,-0.2629545781393955],\"z\":[0,0.5465458307782873],\"type\":\"scatter3d\"}],\"name\":\"22\",\"traces\":[3,4,5]},{\"data\":[{\"marker\":{\"color\":\"red\"},\"mode\":\"lines+markers\",\"name\":\"E_i\",\"x\":[0,0.5724801882319397],\"y\":[0,0.41533768882913313],\"z\":[0,-0.7069377895685001],\"type\":\"scatter3d\"},{\"marker\":{\"color\":\"green\"},\"mode\":\"lines+markers\",\"name\":\"E_j\",\"x\":[0,-0.024490448027128103],\"y\":[0,0.8704821664440052],\"z\":[0,0.4915902926811937],\"type\":\"scatter3d\"},{\"marker\":{\"color\":\"blue\"},\"mode\":\"lines+markers\",\"name\":\"E_k\",\"x\":[0,0.8195527146177684],\"y\":[0,-0.2641124800932839],\"z\":[0,0.5085056005803882],\"type\":\"scatter3d\"}],\"name\":\"23\",\"traces\":[3,4,5]},{\"data\":[{\"marker\":{\"color\":\"red\"},\"mode\":\"lines+markers\",\"name\":\"E_i\",\"x\":[0,0.5385440805589906],\"y\":[0,0.4361673023729351],\"z\":[0,-0.7209218803973063],\"type\":\"scatter3d\"},{\"marker\":{\"color\":\"green\"},\"mode\":\"lines+markers\",\"name\":\"E_j\",\"x\":[0,-0.014294986983912211],\"y\":[0,0.8602011665367824],\"z\":[0,0.509754457004437],\"type\":\"scatter3d\"},{\"marker\":{\"color\":\"blue\"},\"mode\":\"lines+markers\",\"name\":\"E_k\",\"x\":[0,0.8424760688838593],\"y\":[0,-0.2642196764616051],\"z\":[0,0.4694912522385518],\"type\":\"scatter3d\"}],\"name\":\"24\",\"traces\":[3,4,5]},{\"data\":[{\"marker\":{\"color\":\"red\"},\"mode\":\"lines+markers\",\"name\":\"E_i\",\"x\":[0,0.5038347705148001],\"y\":[0,0.4568584180260603],\"z\":[0,-0.7330967943587152],\"type\":\"scatter3d\"},{\"marker\":{\"color\":\"green\"},\"mode\":\"lines+markers\",\"name\":\"E_j\",\"x\":[0,-0.003254150836232733],\"y\":[0,0.8496859236932863],\"z\":[0,0.5272790926822547],\"type\":\"scatter3d\"},{\"marker\":{\"color\":\"blue\"},\"mode\":\"lines+markers\",\"name\":\"E_k\",\"x\":[0,0.8637939190123034],\"y\":[0,-0.26327593311241393],\"z\":[0,0.4295879985767223],\"type\":\"scatter3d\"}],\"name\":\"25\",\"traces\":[3,4,5]},{\"data\":[{\"marker\":{\"color\":\"red\"},\"mode\":\"lines+markers\",\"name\":\"E_i\",\"x\":[0,0.46842806811418947],\"y\":[0,0.4773658434818241],\"z\":[0,-0.7434359397282961],\"type\":\"scatter3d\"},{\"marker\":{\"color\":\"green\"},\"mode\":\"lines+markers\",\"name\":\"E_j\",\"x\":[0,0.008607945676927325],\"y\":[0,0.8389594046828017],\"z\":[0,0.5441259234455771],\"type\":\"scatter3d\"},{\"marker\":{\"color\":\"blue\"},\"mode\":\"lines+markers\",\"name\":\"E_k\",\"x\":[0,0.883459703820175],\"y\":[0,-0.2612833113139176],\"z\":[0,0.3888829939130831],\"type\":\"scatter3d\"}],\"name\":\"26\",\"traces\":[3,4,5]},{\"data\":[{\"marker\":{\"color\":\"red\"},\"mode\":\"lines+markers\",\"name\":\"E_i\",\"x\":[0,0.43240130657497067],\"y\":[0,0.49764478763876796],\"z\":[0,-0.7519167343584154],\"type\":\"scatter3d\"},{\"marker\":{\"color\":\"green\"},\"mode\":\"lines+markers\",\"name\":\"E_j\",\"x\":[0,0.021265394068440885],\"y\":[0,0.8280450377314765],\"z\":[0,0.5602581534465978],\"type\":\"scatter3d\"},{\"marker\":{\"color\":\"blue\"},\"mode\":\"lines+markers\",\"name\":\"E_k\",\"x\":[0,0.9014304704675631],\"y\":[0,-0.2582461632323762],\"z\":[0,0.3474651437027674],\"type\":\"scatter3d\"}],\"name\":\"27\",\"traces\":[3,4,5]},{\"data\":[{\"marker\":{\"color\":\"red\"},\"mode\":\"lines+markers\",\"name\":\"E_i\",\"x\":[0,0.39583317341132257],\"y\":[0,0.5176509584307247],\"z\":[0,-0.7585206550008204],\"type\":\"scatter3d\"},{\"marker\":{\"color\":\"green\"},\"mode\":\"lines+markers\",\"name\":\"E_j\",\"x\":[0,0.03469054869081639],\"y\":[0,0.8169666613517816],\"z\":[0,0.5756405476260797],\"type\":\"scatter3d\"},{\"marker\":{\"color\":\"blue\"},\"mode\":\"lines+markers\",\"name\":\"E_k\",\"x\":[0,0.9176669682726145],\"y\":[0,-0.2541711224263587],\"z\":[0,0.30542491035584024],\"type\":\"scatter3d\"}],\"name\":\"28\",\"traces\":[3,4,5]},{\"data\":[{\"marker\":{\"color\":\"red\"},\"mode\":\"lines+markers\",\"name\":\"E_i\",\"x\":[0,0.35880353856919256],\"y\":[0,0.5373406595669211],\"z\":[0,-0.7632332777640216],\"type\":\"scatter3d\"},{\"marker\":{\"color\":\"green\"},\"mode\":\"lines+markers\",\"name\":\"E_j\",\"x\":[0,0.04885408711818032],\"y\":[0,0.8057484722758468],\"z\":[0,0.5902395086716816],\"type\":\"scatter3d\"},{\"marker\":{\"color\":\"blue\"},\"mode\":\"lines+markers\",\"name\":\"E_k\",\"x\":[0,0.9321337344405443],\"y\":[0,-0.2490670893581189],\"z\":[0,0.2628541156546719],\"type\":\"scatter3d\"}],\"name\":\"29\",\"traces\":[3,4,5]},{\"data\":[{\"marker\":{\"color\":\"red\"},\"mode\":\"lines+markers\",\"name\":\"E_i\",\"x\":[0,0.3213932799791024],\"y\":[0,0.5566708859708207],\"z\":[0,-0.7660443096170977],\"type\":\"scatter3d\"},{\"marker\":{\"color\":\"green\"},\"mode\":\"lines+markers\",\"name\":\"E_j\",\"x\":[0,0.06372507419057888],\"y\":[0,0.7944149726063935],\"z\":[0,0.6040231503992113],\"type\":\"scatter3d\"},{\"marker\":{\"color\":\"blue\"},\"mode\":\"lines+markers\",\"name\":\"E_k\",\"x\":[0,0.9447991715193655],\"y\":[0,-0.2429452119537336],\"z\":[0,0.21984574020225178],\"type\":\"scatter3d\"}],\"name\":\"30\",\"traces\":[3,4,5]}]);\n",
       "                        }).then(function(){\n",
       "                            \n",
       "var gd = document.getElementById('ad5f4298-806d-4b1a-8188-b7f529473491');\n",
       "var x = new MutationObserver(function (mutations, observer) {{\n",
       "        var display = window.getComputedStyle(gd).display;\n",
       "        if (!display || display === 'none') {{\n",
       "            console.log([gd, 'removed!']);\n",
       "            Plotly.purge(gd);\n",
       "            observer.disconnect();\n",
       "        }}\n",
       "}});\n",
       "\n",
       "// Listen for the removal of the full notebook cells\n",
       "var notebookContainer = gd.closest('#notebook-container');\n",
       "if (notebookContainer) {{\n",
       "    x.observe(notebookContainer, {childList: true});\n",
       "}}\n",
       "\n",
       "// Listen for the clearing of the current output cell\n",
       "var outputEl = gd.closest('.output');\n",
       "if (outputEl) {{\n",
       "    x.observe(outputEl, {childList: true});\n",
       "}}\n",
       "\n",
       "                        })                };                });            </script>        </div>"
      ]
     },
     "metadata": {},
     "output_type": "display_data"
    }
   ],
   "source": [
    "def PRV_rotation_animation(axis, angle, steps=30):\n",
    "    \"\"\"\n",
    "    Creates a 3D animation of a rotation about a principal rotation vector (PRV) and displays the final orientation of the frame.\n",
    "\n",
    "    Args:\n",
    "        axis (list, tuple, np.ndarray): The unit vector representing the axis of rotation.\n",
    "        angle (float): The magnitude of the rotation about the axis in degrees.\n",
    "        steps (int, optional): The total number of steps in the animation. Defaults to 30.\n",
    "\n",
    "    Returns:\n",
    "        plotly.graph_objects.Figure: The figure object containing the animation.\n",
    "\n",
    "    Notes:\n",
    "    - The function dynamically calculates rotation matrices for each step based on the PRV method.\n",
    "      It applies these rotations to an initial orientation matrix to visually represent these orientations in a Plotly figure.\n",
    "    \n",
    "    - This approach aids in visualizing the rotation from a starting point of no rotation, making it intuitive to understand complex rotational dynamics.\n",
    "    \n",
    "    - The animation controls allow for interactive exploration of the rotation sequence, enhancing the educational and analytical value of the visualization.\n",
    "    \"\"\"\n",
    "    # Initialize the figure for 3D visualization\n",
    "    fig = go.Figure()\n",
    "\n",
    "    # Define initial orientation as an identity matrix\n",
    "    N_frame = np.eye(3)\n",
    "\n",
    "    # Define colors for axes and the rotation axis visualization\n",
    "    colors = {'i': 'red', \n",
    "              'j': 'green', \n",
    "              'k': 'blue', \n",
    "              'axis': 'purple'}\n",
    "\n",
    "    # Initialize the static frame (N-frame)\n",
    "    initialize_frame(fig, N_frame, 'N', colors, is_static=True)\n",
    "\n",
    "    # Initialize the dynamic frame (E-frame) to visualize rotations\n",
    "    initialize_frame(fig, N_frame, 'E', colors, is_static=False)\n",
    "\n",
    "    # Compute rotation matrix for each step using the PRV to rotation matrix conversion\n",
    "    rotation_matrices = []\n",
    "    for step in range(steps + 1):\n",
    "        # Calculate the interpolation angle for the current step\n",
    "        interpolated_angle = (step / steps) * angle\n",
    "        # Use the prv_to_rotation_matrix function to generate the rotation matrix\n",
    "        R_matrix = prv_to_rotation_matrix(axis, interpolated_angle)\n",
    "        rotation_matrices.append(R_matrix)\n",
    "\n",
    "    # Printing relevant Attitude representations\n",
    "    # Euler angles are representative of 3-2-1 sequence\n",
    "    DCM = rotation_matrices[-1]\n",
    "    first_rot = np.degrees(np.arctan2(DCM[0][1], DCM[0][0]))\n",
    "    second_rot = np.degrees(np.arcsin(-DCM[0][2]))\n",
    "    third_rot = np.degrees(np.arctan2(DCM[1][2], DCM[2][2]))\n",
    "    \n",
    "    print(f\"Axis-Angle (degrees): {axis}, {angle}\")\n",
    "    print(\"----------------------------------------------------\")\n",
    "    print(f\"DCM:\\n{DCM}\")\n",
    "    print(\"----------------------------------------------------\")\n",
    "    print(f\"Euler Angles (321 sequence): <{first_rot}, {second_rot}, {third_rot}>\")\n",
    "\n",
    "    # Generate frames for animation\n",
    "    frames = []\n",
    "    for i, R_matrix in enumerate(rotation_matrices):\n",
    "        \n",
    "        E_frame = np.matmul(R_matrix, N_frame)\n",
    "\n",
    "        # List of frames\n",
    "        frame_data = [go.Scatter3d(x=[0, vec[0]], \n",
    "                                   y=[0, vec[1]], \n",
    "                                   z=[0, vec[2]],\n",
    "                                   mode='lines+markers',\n",
    "                                   name=f'E_{chr(105+j)}',\n",
    "                                   marker=dict(color=colors['i' if j == 0 else 'j' if j == 1 else 'k']))for j, vec in enumerate(E_frame)]\n",
    "\n",
    "\n",
    "        frames.append(go.Frame(data=frame_data, name=str(i), traces=[3, 4, 5]))\n",
    "\n",
    "    # Calculate the norm of the axis\n",
    "    axis_norm = np.linalg.norm(axis)\n",
    "    \n",
    "    # Plot the rotation axis as a line extending from the origin\n",
    "    axis_normalized = axis / np.array(axis_norm)\n",
    "    fig.add_trace(go.Scatter3d(x=[0, axis_normalized[0]], \n",
    "                               y=[0, axis_normalized[1]], \n",
    "                               z=[0, axis_normalized[2]],\n",
    "                               mode='lines+markers',\n",
    "                               line=dict(color=colors['axis'], width=5),\n",
    "                               name='Rotation Axis (normalized)'))\n",
    "\n",
    "    # Configure the figure with generated frames for animation\n",
    "    fig.frames = frames\n",
    "    setup_animation_scene(fig, frames, \"PRV Rotation Animation\")\n",
    "\n",
    "    return fig\n",
    "\n",
    "# Example usage\n",
    "axis = [0.429577, 0.867729, 0.250019]  \n",
    "angle = 80.3385  \n",
    "fig = PRV_rotation_animation(axis, angle)\n",
    "fig.show()\n"
   ]
  },
  {
   "cell_type": "code",
   "execution_count": null,
   "id": "277e4ece-580f-47dd-876d-81b5f48aee41",
   "metadata": {},
   "outputs": [],
   "source": []
  }
 ],
 "metadata": {
  "kernelspec": {
   "display_name": "Python 3 (ipykernel)",
   "language": "python",
   "name": "python3"
  },
  "language_info": {
   "codemirror_mode": {
    "name": "ipython",
    "version": 3
   },
   "file_extension": ".py",
   "mimetype": "text/x-python",
   "name": "python",
   "nbconvert_exporter": "python",
   "pygments_lexer": "ipython3",
   "version": "3.11.9"
  }
 },
 "nbformat": 4,
 "nbformat_minor": 5
}
