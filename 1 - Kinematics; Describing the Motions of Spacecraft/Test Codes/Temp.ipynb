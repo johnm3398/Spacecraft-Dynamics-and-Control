{
 "cells": [
  {
   "cell_type": "markdown",
   "id": "9ff2f30f-e569-41e9-b3cd-a1e824a77e2b",
   "metadata": {},
   "source": [
    "# Temp notebook\n",
    "\n",
    "Use this notebook when u are doing small-scaled testing.\n",
    "Clear and re-use whenever."
   ]
  },
  {
   "cell_type": "code",
   "execution_count": 1,
   "id": "422ed2a7-1f7b-499b-8638-3d9b14ead025",
   "metadata": {},
   "outputs": [],
   "source": [
    "import numpy as np"
   ]
  },
  {
   "cell_type": "code",
   "execution_count": 17,
   "id": "70bfd7f1-1d62-466a-9c5c-67f1e5bb4198",
   "metadata": {},
   "outputs": [
    {
     "name": "stdout",
     "output_type": "stream",
     "text": [
      "x_1=[0, 1]\n",
      "y_1=[0, 2]\n",
      "z_1=[0, 3]\n",
      "x_2=[0, 4]\n",
      "y_2=[0, 5]\n",
      "z_2=[0, 6]\n",
      "x_3=[0, 7]\n",
      "y_3=[0, 8]\n",
      "z_3=[0, 9]\n"
     ]
    }
   ],
   "source": [
    "E_frame = np.array([[1, 2, 3],\n",
    "                    [4, 5, 6],\n",
    "                    [7, 8, 9]])\n",
    "\n",
    "for idx, vec in enumerate(E_frame):\n",
    "    print(f\"x_{idx+1}={[0, E_frame[idx, 0]]}\")\n",
    "    print(f\"y_{idx+1}={[0, E_frame[idx, 1]]}\")\n",
    "    print(f\"z_{idx+1}={[0, E_frame[idx, 2]]}\")\n",
    "    "
   ]
  },
  {
   "cell_type": "code",
   "execution_count": 19,
   "id": "cb02aaed-86cd-4ea4-ac84-5468c5c27067",
   "metadata": {},
   "outputs": [
    {
     "name": "stdout",
     "output_type": "stream",
     "text": [
      "x_1=1\n",
      "y_1=2\n",
      "z_1=3\n",
      "x_2=4\n",
      "y_2=5\n",
      "z_2=6\n",
      "x_3=7\n",
      "y_3=8\n",
      "z_3=9\n"
     ]
    }
   ],
   "source": [
    "E_frame = np.array([[1, 2, 3],\n",
    "                    [4, 5, 6],\n",
    "                    [7, 8, 9]])\n",
    "\n",
    "for idx, vec in enumerate(E_frame):\n",
    "    x, y, z = vec\n",
    "    print(f\"x_{idx+1}={x}\")\n",
    "    print(f\"y_{idx+1}={y}\")\n",
    "    print(f\"z_{idx+1}={z}\")"
   ]
  },
  {
   "cell_type": "code",
   "execution_count": null,
   "id": "50aa178f-1033-4982-b0ba-297514ca2f1d",
   "metadata": {},
   "outputs": [],
   "source": []
  }
 ],
 "metadata": {
  "kernelspec": {
   "display_name": "Python 3 (ipykernel)",
   "language": "python",
   "name": "python3"
  },
  "language_info": {
   "codemirror_mode": {
    "name": "ipython",
    "version": 3
   },
   "file_extension": ".py",
   "mimetype": "text/x-python",
   "name": "python",
   "nbconvert_exporter": "python",
   "pygments_lexer": "ipython3",
   "version": "3.11.5"
  }
 },
 "nbformat": 4,
 "nbformat_minor": 5
}
