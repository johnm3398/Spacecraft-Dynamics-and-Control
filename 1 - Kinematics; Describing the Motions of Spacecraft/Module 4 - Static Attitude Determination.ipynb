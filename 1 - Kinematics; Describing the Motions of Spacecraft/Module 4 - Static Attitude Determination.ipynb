{
 "cells": [
  {
   "cell_type": "markdown",
   "id": "51c5d0bd-d0bf-48c4-b70b-54cf24b2be53",
   "metadata": {},
   "source": [
    "# Week 4 - Static Attitude Determination\n",
    "\n",
    "This week, we dive into the fascinating world of static attitude determination. Here, the focus is on taking a snapshot of multiple directional observations—like the sun’s heading, magnetic field direction, and star positioning—to compute a spacecraft's 3D orientation. Essentially, we’re using known vectors in both the spacecraft and reference frames to figure out “which way is up” in space.\n",
    "\n",
    "We’ll cover both classic and modern algorithms that are fundamental in the field of attitude determination. These include:\n",
    "\n",
    "- **TRIAD Method**: A foundational, straightforward technique for calculating attitude based on two vector observations.\n",
    "- **Devenport’s q-Method**: A method that minimizes a cost function to estimate attitude, using quaternions as the rotation representation.\n",
    "- **QUEST (QUaternion ESTimator)**: An optimized version of the q-method, designed for real-time applications and quick computations.\n",
    "- **OLAE (Optimal Linear Attitude Estimation)**: A linearized approach that simplifies calculations, particularly useful in scenarios with multiple observations.\n",
    "\n",
    "Throughout the module, we’ll not only dive into how these methods work, but also discuss the pros and cons of each, especially in terms of computational efficiency and accuracy.\n",
    "\n",
    "<ins>**Learning Objectives**</ins>\n",
    "\n",
    "- **Determine attitude from a series of heading measurements**: Learn how to combine various directional observations to calculate a reliable orientation in 3D space.\n",
    "- **Describe various classical and modern algorithms used in attitude determination**: Gain an understanding of the main methods used in both theoretical and practical applications.\n",
    "- **Derive the fundamental attitude coordinate properties of rigid bodies**: Develop a mathematical grasp of the key properties that govern the rotational dynamics of rigid bodies in space.\n",
    "\n",
    "---"
   ]
  },
  {
   "cell_type": "code",
   "execution_count": 1,
   "id": "95e54820-8c6e-4bea-b88b-1c918597b602",
   "metadata": {},
   "outputs": [],
   "source": [
    "# Import Relevant Libraries\n",
    "import numpy as np\n",
    "import matplotlib.pyplot as plt\n",
    "import plotly.graph_objects as go\n",
    "from plotly.offline import init_notebook_mode, iplot\n",
    "\n",
    "import sys\n",
    "sys.path.insert(0, r\"../\")\n",
    "from AttitudeKinematicsLib import *"
   ]
  },
  {
   "cell_type": "markdown",
   "id": "d1727139-facb-403f-bf85-5be358b45d16",
   "metadata": {},
   "source": [
    "# 4.1) Attitude Determination Problem Statement\n",
    "\n",
    "Attitude determination involves finding the orientation of an object (such as a spacecraft) in space, using instantaneous measurements of specific reference directions. This topic focuses on determining attitude without relying on dynamic filtering or rate measurements (e.g., gyroscopes), which are covered in more advanced topics like Kalman filters and require estimation theory. Here, the aim is to determine the orientation based solely on direct observations.\n"
   ]
  },
  {
   "cell_type": "markdown",
   "id": "f468069f-8ea4-43e8-a11b-249bf46059cd",
   "metadata": {},
   "source": [
    "**<ins>Problem Outline</ins>**\n",
    "\n",
    "- **Objective**: Determine the orientation (attitude) of a body using known reference directions. At a given instant, we take several measurements (e.g., sun, magnetic field, or star directions) to compute the 3D orientation.\n",
    "- **Challenge**: Measurements provide partial orientation information; to resolve full 3D attitude, multiple independent observations are needed. This leads to scenarios of being \"under-sensed\" (insufficient data for a complete attitude) or \"over-sensed\" (more data than necessary).\n",
    "  \n",
    "**<ins>Key Assumptions</ins>**\n",
    "\n",
    "1. **Fixed Position**: We assume knowledge of the object’s position within its environment. Without this, any directional observation (e.g., “the sun is to my right”) would lack context.\n",
    "2. **Known Environment**: The orientation computations require known reference frames, such as the Earth-Centered Inertial (ECI) frame for measurements like the sun or magnetic field directions.\n",
    "\n",
    "**<ins>Measurement Requirements</ins>**\n",
    "\n",
    "- **Minimum Requirements for 3D Attitude**: Attitude in 3D space has three degrees of freedom, requiring at least two independent direction vectors (each providing two pieces of information).\n",
    "- **Heading Information**: Each directional observation is a unit vector, meaning it only provides two independent pieces of data (e.g., azimuth and elevation), not three. Thus, one vector is insufficient, and two vectors are typically over-specified.\n",
    "\n",
    "**<ins>Example Scenarios</ins>**\n",
    "\n",
    "- **2D Orientation**: In 2D (like being rotated in a plane), knowing one direction (e.g., facing North) is enough if the object’s position is fixed.\n",
    "- **3D Orientation with Floating Object**: In a space station, knowing that a docking port is to your right doesn’t fully define orientation since you could still rotate around the axis pointing to the port.\n",
    "\n",
    "**<ins>Measurement Process</ins>**\n",
    "\n",
    "1. **Observations in Body Frame**: Measure known directions (e.g., sun or magnetic field) relative to the object’s body frame.\n",
    "2. **Environmental Reference in Inertial Frame**: Convert these observations to the inertial frame for comparison. For example, if the sun’s direction is known in ECI coordinates, compare the observed direction with the known direction.\n",
    "\n",
    "**<ins>Error Sources</ins>**\n",
    "\n",
    "1. **Measurement Noise**: Sensor inaccuracies, quantization errors, and digital noise impact readings.\n",
    "2. **Environmental Uncertainties**: \n",
    "   - **Magnetic Field**: The Earth’s magnetic field varies and is not precisely predictable.\n",
    "   - **Sun Position**: Small uncertainties exist due to Earth’s orbit and satellite positioning errors.\n",
    "   \n",
    "   These uncertainties complicate the precise determination of the body’s orientation.\n",
    "\n",
    "**<ins>Mathematical Requirements</ins>**\n",
    "\n",
    "1. **Mapping Observations to Attitude**: To determine attitude, we compute the Direction Cosine Matrix (DCM) or other attitude representations (e.g., quaternions, CRPs) that best align the measured directions in the body frame with their expected orientations in the inertial frame.\n",
    "2. **Optimization Needs**: Due to noise and over-specification, we rarely achieve a perfect match. Methods like least squares optimization are used to minimize error and achieve the best-fit attitude solution.\n",
    "\n",
    "**<ins>Conclusion</ins>**\n",
    "\n",
    "The problem of attitude determination requires accurately interpreting direction measurements in the body frame relative to known inertial directions. The objective is to compute an orientation that best aligns these vectors, balancing error when more measurements are available than necessary for a complete 3D orientation. Various methods and algorithms exist to address this, each suited to different configurations of measurements and specific mission requirements.\n"
   ]
  },
  {
   "cell_type": "code",
   "execution_count": null,
   "id": "8d461373-ddc0-4f68-82c1-0a9527653f79",
   "metadata": {},
   "outputs": [],
   "source": []
  },
  {
   "cell_type": "markdown",
   "id": "f4c650e5-2b58-4b42-b881-28b889e0eefa",
   "metadata": {},
   "source": [
    "# 4.2) TRIAD Method\n",
    "\n",
    "The Vector Triad Method is a deterministic approach to estimate a spacecraft's attitude at a given instant using two vector observations. This method introduces an intermediate frame, or \"triad\" frame, to simplify the problem. By aligning a third frame with both the inertial frame (e.g., stars or magnetic field) and the body frame (sensor measurements), the method allows a straightforward matrix solution to attitude estimation. Here’s an overview of the method and its key steps."
   ]
  },
  {
   "cell_type": "markdown",
   "id": "826ae956-7a69-4b60-b491-65300704357f",
   "metadata": {},
   "source": [
    "**<ins>Why Use the Vector Triad Method?</ins>**\n",
    "\n",
    "- **Simple and Efficient**: The triad method is computationally inexpensive, making it suitable for missions with limited processing power.\n",
    "- **Reliable for Limited Measurements**: When only two measurements are available (e.g., sun and magnetic field directions), this method provides a quick way to estimate attitude.\n",
    "- **Optimal Choice of Measurement**: For the triad method, the measurement with the highest accuracy (usually the sun heading) is assigned as the primary reference axis. Less accurate measurements, such as the magnetic field, are used as secondary references.\n",
    "le."
   ]
  },
  {
   "cell_type": "markdown",
   "id": "67986589-7f86-4b8e-81ae-e9298da93d9c",
   "metadata": {},
   "source": [
    "**<ins>Steps in the Vector Triad Method</ins>**\n",
    "\n",
    "1. **Define Two Frames**:\n",
    "   - **Inertial Frame**: Denoted as the $N$ frame, representing known directions in space, such as the position of the sun or Earth's magnetic field. These directions are assumed to be known because we generally know the satellite or spacecraft's position in its orbit relative to the Earth.\n",
    "\n",
    "   - **Body Frame**: Denoted as the $B$ frame, representing measurements in the body’s coordinate system, such as sensor readings of the sun and magnetic field. Both the sun sensor and the magnetometer (MTM) provide vectors known in both the body frame and the inertial frame.\n",
    "\n",
    "   - **Triad Frame**: An intermediate frame denoted as $T$, introduced to mitigate the effects of sensor noise. Determining the body frame attitude directly from noisy sensor data can lead to inaccuracies. Instead, the triad frame serves as a bridge between the inertial and body frames, stabilizing the attitude estimation process.\n",
    "\n",
    "<br>\n",
    "\n",
    "2. **Align the Primary Axis**:\n",
    "   - Select the most accurate measurement (e.g., the sun heading) and align it with the first axis ($\\mathbf{t}_1$) of the triad frame. The sun sensor typically provides a more precise measurement than the magnetic field sensor due to the variability of the Earth's magnetic field.\n",
    "\n",
    "   - If the sun vector in the body frame is $\\mathbf{s}_b$ and the sun vector in the inertial frame is $\\mathbf{s}_n$, then:\n",
    "     $$ \\mathbf{t}_1 = \\mathbf{s} $$\n",
    "\n",
    "<br>\n",
    "\n",
    "3. **Calculate the Orthogonal Vector for the Second Axis**:\n",
    "   - Use the secondary measurement (e.g., magnetic field) to define a second axis orthogonal to the first axis.\n",
    "\n",
    "   - For example, if $\\mathbf{m}_b$ is the magnetic field in the body frame and $\\mathbf{m}_n$ is the magnetic field in the inertial frame, calculate $\\mathbf{t}_2$ as:\n",
    "     $$ \\mathbf{t}_2 = \\frac{\\mathbf{s} \\times \\mathbf{m}}{|\\mathbf{s} \\times \\mathbf{m}|} $$\n",
    "\n",
    "   - $\\mathbf{t}_2$ is normalized to make it a unit vector, preseriving the directionality of the vector only.\n",
    "\n",
    "<br>\n",
    "\n",
    "4. **Define the Third Axis**:\n",
    "   - Complete the triad by defining the third axis as the cross product of the first two:\n",
    "     $$ \\mathbf{t}_3 = \\mathbf{t}_1 \\times \\mathbf{t}_2 $$\n",
    "\n",
    "<br>\n",
    "\n",
    "5. **Construct Transformation Matrices**:\n",
    "   - The **T frame direction axes** can be computed using both **B** (body frame) and **N** (inertial frame) components:\n",
    "\n",
    "     **Body Frame Triad Vectors**\n",
    "     $$\n",
    "     \\mathbf{^B}\\hat{t}_1 = \\mathbf{^B}\\hat{s}\n",
    "     $$\n",
    "     $$\n",
    "     \\mathbf{^B}\\hat{t}_2 = \\frac{\\mathbf{^B}\\hat{s} \\times \\mathbf{^B}\\hat{m}}{|\\mathbf{^B}\\hat{s} \\times \\mathbf{^B}\\hat{m}|}\n",
    "     $$\n",
    "     $$\n",
    "     \\mathbf{^B}\\hat{t}_3 = \\mathbf{^B}\\hat{t}_1 \\times \\mathbf{^B}\\hat{t}_2\n",
    "     $$\n",
    "\n",
    "     **Inertial Frame Triad Vectors**\n",
    "     $$\n",
    "     \\mathcal{^N}\\hat{t}_1 = \\mathcal{^N}\\hat{s}\n",
    "     $$\n",
    "     $$\n",
    "     \\mathcal{^N}\\hat{t}_2 = \\frac{\\mathcal{^N}\\hat{s} \\times \\mathcal{^N}\\hat{m}}{|\\mathcal{^N}\\hat{s} \\times \\mathcal{^N}\\hat{m}|}\n",
    "     $$\n",
    "     $$\n",
    "     \\mathcal{^N}\\hat{t}_3 = \\mathcal{^N}\\hat{t}_1 \\times \\mathcal{^N}\\hat{t}_2\n",
    "     $$\n",
    "\n",
    "   - In the absence of measurement errors, both sets of **Triad frame representations** should be identical.\n",
    "\n",
    "   - Construct the **Body to Triad Matrix** ($[\\bar{\\mathbf{B}}\\mathbf{T}]$) and **Inertial to Triad Matrix** ($[\\mathcal{N}\\mathbf{T}]$):\n",
    "     $$\n",
    "     [\\bar{\\mathbf{B}}\\mathbf{T}] = \\begin{bmatrix} \\mathbf{^B}\\hat{t}_1 & \\mathbf{^B}\\hat{t}_2 & \\mathbf{^B}\\hat{t}_3 \\end{bmatrix}\n",
    "     $$\n",
    "     $$\n",
    "     [\\mathcal{N}\\mathbf{T}] = \\begin{bmatrix} \\mathcal{^N}\\hat{t}_1 & \\mathcal{^N}\\hat{t}_2 & \\mathcal{^N}\\hat{t}_3 \\end{bmatrix}\n",
    "     $$\n",
    "\n",
    "<br>\n",
    "\n",
    "6. **Calculate the Attitude Matrix**:\n",
    "   - The final step is to compute the attitude matrix, $[\\bar{\\mathbf{B}}\\mathbf{N}]$, that transforms from the inertial frame to the body frame:\n",
    "     $$\n",
    "     \\bar{\\mathbf{B}}\\mathbf{N} = [\\bar{\\mathbf{B}}\\mathbf{T}] \\cdot [\\mathcal{N}\\mathbf{T}]^T\n",
    "     $$\n",
    "   - This product provides the full attitude matrix, which can then be used to extract desired attitude parameters (Euler angles, MRPs, etc.).\n",
    "\n",
    "<br>\n",
    "\n",
    "**Estimation Error Assessment**:\n",
    "   - If the **actual orientation** ($[\\mathbf{B}\\mathbf{N}]$) is known, the estimation error can be computed as:\n",
    "     $$\n",
    "     [\\bar{\\mathbf{B}}\\mathbf{B}] = [\\bar{\\mathbf{B}}\\mathbf{N}] \\cdot ([\\mathbf{B}\\mathbf{N}])^T\n",
    "     $$\n",
    "   - Here, $[\\bar{\\mathbf{B}}\\mathbf{B}]$ represents the error matrix. If the estimation is perfect, $[\\bar{\\mathbf{B}}\\mathbf{B}]$ will be the identity matrix.\n",
    "\n",
    "   - To quantify the error, you can use **axis-angle formalism** to extract the rotation axis and angle from $[\\bar{\\mathbf{B}}\\mathbf{B}]$. This will give a measure of how far the estimated body frame is from the true body frame in terms of rotation angle (radians or degrees).\n",
    "\n",
    "   - This process allows for a precise evaluation of the accuracy of the attitude estimation."
   ]
  },
  {
   "cell_type": "markdown",
   "id": "e1bb79f9-2ec3-4f55-95b5-7a9657d500df",
   "metadata": {},
   "source": [
    "**<ins>Important Considerations</ins>**\n",
    "\n",
    "- **Measurement Accuracy**: The triad method assumes that the first measurement vector (e.g., sun heading) is more accurate. Aligning this vector with the primary axis ($\\mathbf{t}_1$) uses its full information, while the secondary measurement provides additional orientation constraints.\n",
    "- **Non-Collinearity of Measurements**: The two measurement vectors must not be collinear, as this would fail to constrain the third axis. For example, if the sun vector and magnetic field vector are aligned, the system would lose orientation around that axis.\n",
    "\n",
    "**<ins>Practical Usage and Limitations</ins>**\n",
    "\n",
    "- **Efficiency**: This method is fast and computationally light, making it suitable for real-time systems or constrained spacecraft systems.\n",
    "- **Usage on Spacecraft**: The triad method has been implemented on various spacecraft where simplicity is prioritized, particularly for missions without advanced filtering methods.\n",
    "- **Accuracy and Redundancy**: While effective, the method does not use all available data when only two measurements are used. As missions typically involve more sensors, more advanced algorithms like QUEST or Kalman filters can be employed to improve attitude estimation accuracy and handle dynamic environments.\n",
    "\n",
    "**<ins>Summary</ins>**\n",
    "\n",
    "The vector triad method is a foundational approach in attitude determination, especially valuable for its simplicity and direct use of two sensor measurements. It is a fundamental tool in aerospace engineering for quick and reliable orientation estimation when minimal data is available."
   ]
  },
  {
   "cell_type": "code",
   "execution_count": 2,
   "id": "f9f147ea-c241-487e-afda-8d6682889494",
   "metadata": {},
   "outputs": [
    {
     "name": "stdout",
     "output_type": "stream",
     "text": [
      "[[ 0.81899104  0.45928237 -0.34396712]\n",
      " [-0.52819422  0.83763943 -0.13917991]\n",
      " [ 0.22419755  0.29566855  0.92860948]]\n"
     ]
    }
   ],
   "source": [
    "def triad_estimation(r1_b, r1_i, r2_b, r2_i):\n",
    "    \"\"\"\n",
    "    Implements the TRIAD algorithm to compute the rotation matrix from the inertial frame to the body frame.\n",
    "\n",
    "    Args:\n",
    "        r1_b (array-like): First reference vector measured in the body frame (3-element array).\n",
    "        r1_i (array-like): First reference vector in the inertial frame (3-element array).\n",
    "        r2_b (array-like): Second reference vector measured in the body frame (3-element array).\n",
    "        r2_i (array-like): Second reference vector in the inertial frame (3-element array).\n",
    "\n",
    "    Returns:\n",
    "        numpy.ndarray: Rotation matrix from the inertial frame to the body frame (3x3 matrix).\n",
    "    \"\"\"\n",
    "    # Validate input vectors\n",
    "    validate_vec3(r1_b)\n",
    "    validate_vec3(r1_i)\n",
    "    validate_vec3(r2_b)\n",
    "    validate_vec3(r2_i)\n",
    "    \n",
    "    # Convert inputs to NumPy arrays and normalize the vectors\n",
    "    r1_b = np.asarray(r1_b, dtype=float)\n",
    "    r1_i = np.asarray(r1_i, dtype=float)\n",
    "    r2_b = np.asarray(r2_b, dtype=float)\n",
    "    r2_i = np.asarray(r2_i, dtype=float)\n",
    "\n",
    "    r1_b /= np.linalg.norm(r1_b)\n",
    "    r1_i /= np.linalg.norm(r1_i)\n",
    "    r2_b /= np.linalg.norm(r2_b)\n",
    "    r2_i /= np.linalg.norm(r2_i)\n",
    "\n",
    "    # Construct the body-frame TRIAD vectors (estimated)\n",
    "    t1_b = r1_b\n",
    "    t2_b = np.cross(r1_b, r2_b)\n",
    "    t2_b /= np.linalg.norm(t2_b)\n",
    "    t3_b = np.cross(t1_b, t2_b)\n",
    "\n",
    "    # Construct the inertial-frame TRIAD vectors\n",
    "    t1_i = r1_i\n",
    "    t2_i = np.cross(r1_i, r2_i)\n",
    "    t2_i /= np.linalg.norm(t2_i)\n",
    "    t3_i = np.cross(t1_i, t2_i)\n",
    "\n",
    "    # Assemble the TRIAD matrices\n",
    "    B_bar_T = np.column_stack((t1_b, t2_b, t3_b))  # Estimated body frame TRIAD matrix\n",
    "    N_T = np.column_stack((t1_i, t2_i, t3_i))      # Inertial frame TRIAD matrix\n",
    "\n",
    "    # Compute the rotation matrix from inertial frame to body frame\n",
    "    C_BN = np.matmul(B_bar_T, N_T.T)\n",
    "\n",
    "    return C_BN\n",
    "\n",
    "# Example 3.15 from Textbook\n",
    "v1_b = [0.8190, -0.5282, 0.2242]\n",
    "v1_i = [1, 0, 0]\n",
    "v2_b = [-0.3138, -0.1584, 0.9362]\n",
    "v2_i = [0, 0, 1]\n",
    "B_bar_N = triad_estimation(v1_b, v1_i, v2_b, v2_i)\n",
    "print(B_bar_N)"
   ]
  },
  {
   "cell_type": "code",
   "execution_count": 3,
   "id": "6f9c5446-dd1c-4406-8528-27ba0d117b13",
   "metadata": {},
   "outputs": [
    {
     "name": "stdout",
     "output_type": "stream",
     "text": [
      "[[ 0.41555875 -0.85509088  0.31004921]\n",
      " [-0.83393237 -0.49427603 -0.24545471]\n",
      " [ 0.36313597 -0.15655922 -0.91848869]]\n"
     ]
    }
   ],
   "source": [
    "# Concept Check 2 - TRIAD Method, Q1\n",
    "v1_b = [0.8273, 0.5541, -0.0920]\n",
    "v1_i = [-0.1517, -0.9669, 0.2050]\n",
    "v2_b = [-0.8285, 0.5522, -0.0955]\n",
    "v2_i = [-0.8393, 0.4494, -0.3044]\n",
    "B_bar_N = triad_estimation(v1_b, v1_i, v2_b, v2_i)\n",
    "print(B_bar_N)"
   ]
  },
  {
   "cell_type": "code",
   "execution_count": 4,
   "id": "ad13a96f-c9fa-412b-927e-c946f7aca023",
   "metadata": {},
   "outputs": [
    {
     "name": "stdout",
     "output_type": "stream",
     "text": [
      "1.8349476067250545\n"
     ]
    }
   ],
   "source": [
    "# Concept Check 2 - TRIAD Method, Q2\n",
    "\n",
    "# Estimated attitude matrix (B_bar_N)\n",
    "B_bar_N = np.array([\n",
    "    [0.969846,  0.171010,  0.173648],\n",
    "    [-0.200706, 0.964610,  0.171010],\n",
    "    [-0.138258, -0.200706, 0.969846]\n",
    "])\n",
    "\n",
    "# True attitude matrix (BN)\n",
    "BN = np.array([\n",
    "    [0.963592,  0.187303,  0.190809],\n",
    "    [-0.223042, 0.956645,  0.187303],\n",
    "    [-0.147454, -0.223042, 0.963592]\n",
    "])\n",
    "\n",
    "\n",
    "B_bar_B = np.matmul(B_bar_N, BN.T)\n",
    "axis, phi = DCM_to_PRV(B_bar_B)\n",
    "print(phi)"
   ]
  },
  {
   "cell_type": "markdown",
   "id": "d8e909a7-cef8-4a58-aa80-42a3f4706468",
   "metadata": {},
   "source": [
    "# 4.3) Wahba's Problem Defintion"
   ]
  },
  {
   "cell_type": "code",
   "execution_count": null,
   "id": "eac43f32-2cc4-4605-b2aa-3ebee6022fad",
   "metadata": {},
   "outputs": [],
   "source": []
  },
  {
   "cell_type": "code",
   "execution_count": null,
   "id": "ae13f733-d006-49d0-8407-5452c88706fd",
   "metadata": {},
   "outputs": [],
   "source": []
  },
  {
   "cell_type": "markdown",
   "id": "da53b6ac-8348-49ec-b68c-ecb1356d9377",
   "metadata": {},
   "source": [
    "# 4.4) Devenport's q-Method"
   ]
  },
  {
   "cell_type": "code",
   "execution_count": null,
   "id": "d828ff07-00e5-452d-b9c7-07e45e2d4793",
   "metadata": {},
   "outputs": [],
   "source": []
  },
  {
   "cell_type": "code",
   "execution_count": null,
   "id": "1a74d27f-c435-4a3c-89d6-ac6886c05286",
   "metadata": {},
   "outputs": [],
   "source": []
  },
  {
   "cell_type": "markdown",
   "id": "45a92931-ef19-43c1-8afc-e12dfab07d2d",
   "metadata": {},
   "source": [
    "# 4.5) QUEST"
   ]
  },
  {
   "cell_type": "code",
   "execution_count": null,
   "id": "8e940f7e-4211-4de4-956d-d87608868bb6",
   "metadata": {},
   "outputs": [],
   "source": []
  },
  {
   "cell_type": "code",
   "execution_count": null,
   "id": "7870fe04-7060-4e6d-ac44-5be76988e392",
   "metadata": {},
   "outputs": [],
   "source": []
  },
  {
   "cell_type": "markdown",
   "id": "e1631534-a7fa-4f35-9d44-6037a4babfa4",
   "metadata": {},
   "source": [
    "# 4.6) OLAE"
   ]
  },
  {
   "cell_type": "code",
   "execution_count": null,
   "id": "b914b495-8533-437e-a7b0-c03307d13cb1",
   "metadata": {},
   "outputs": [],
   "source": []
  },
  {
   "cell_type": "code",
   "execution_count": null,
   "id": "bbc85047-9550-4259-8708-1dd8dc437f89",
   "metadata": {},
   "outputs": [],
   "source": []
  },
  {
   "cell_type": "markdown",
   "id": "f0b7c5e6-1266-4eb5-a685-031ec90c91c2",
   "metadata": {},
   "source": [
    "# 4.7) Kinematics Final Assignment"
   ]
  },
  {
   "cell_type": "code",
   "execution_count": null,
   "id": "1b82a45c-7aa6-4098-b44e-6db4c203379b",
   "metadata": {},
   "outputs": [],
   "source": []
  },
  {
   "cell_type": "code",
   "execution_count": null,
   "id": "1a10615c-c0d1-4b7f-a96e-a510d3b6f5a6",
   "metadata": {},
   "outputs": [],
   "source": []
  },
  {
   "cell_type": "code",
   "execution_count": null,
   "id": "5fb78151-7a34-407e-8056-d404a48cf245",
   "metadata": {},
   "outputs": [],
   "source": []
  }
 ],
 "metadata": {
  "kernelspec": {
   "display_name": "Python 3 (ipykernel)",
   "language": "python",
   "name": "python3"
  },
  "language_info": {
   "codemirror_mode": {
    "name": "ipython",
    "version": 3
   },
   "file_extension": ".py",
   "mimetype": "text/x-python",
   "name": "python",
   "nbconvert_exporter": "python",
   "pygments_lexer": "ipython3",
   "version": "3.11.9"
  }
 },
 "nbformat": 4,
 "nbformat_minor": 5
}
