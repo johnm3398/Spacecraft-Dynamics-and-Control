{
 "cells": [
  {
   "cell_type": "markdown",
   "id": "b71cf674-2357-4e6f-8299-4952f7e7acfa",
   "metadata": {},
   "source": [
    "# PRV Functions"
   ]
  },
  {
   "cell_type": "code",
   "execution_count": 1,
   "id": "1419933b-d24f-4d4a-9c6a-cf5c6245be4d",
   "metadata": {},
   "outputs": [],
   "source": [
    "import numpy as np\n",
    "\n",
    "\n",
    "import sys\n",
    "from pathlib import Path\n",
    "\n",
    "# Dynamically add DCM_utils directory to path\n",
    "sys.path.insert(0, str(Path('..').resolve()))\n",
    "from DCM_utils import *"
   ]
  },
  {
   "cell_type": "markdown",
   "id": "214544f9-8652-4a7e-a473-95ba6043baa8",
   "metadata": {},
   "source": [
    "# 1) PRV_to_DCM"
   ]
  },
  {
   "cell_type": "code",
   "execution_count": 2,
   "id": "070b6367-d117-453c-87b7-6d09fc2dc8b5",
   "metadata": {},
   "outputs": [],
   "source": [
    "def PRV_to_DCM(e, phi_deg=None):\n",
    "    \"\"\"\n",
    "    Converts a Principal Rotation Vector (PRV) or Axis-Angle representation to a rotation matrix.\n",
    "\n",
    "    Args:\n",
    "        e (array-like): The rotation vector.\n",
    "            - If `phi_deg` is None, `e` is interpreted as the PRV vector,\n",
    "              where the direction is the rotation axis and the magnitude is the rotation angle in radians.\n",
    "            - If `phi_deg` is provided, `e` is interpreted as the rotation axis (unit vector).\n",
    "        \n",
    "        phi_deg (float, optional): The rotation angle in degrees. Default is None.\n",
    "\n",
    "    Returns:\n",
    "        np.ndarray: A 3x3 rotation matrix.\n",
    "\n",
    "    Notes:\n",
    "        - If `phi_deg` is not specified, the function assumes `e` is the PRV vector.\n",
    "        - If `phi_deg` is specified, the function assumes `e` is a unit vector representing the rotation axis.\n",
    "        - If the rotation angle is zero, the rotation matrix is the identity matrix.\n",
    "    \"\"\"\n",
    "    # Validate input vector\n",
    "    validate_vec3(e)\n",
    "\n",
    "    # Define the threshold for numerical errors\n",
    "    threshold = 1e-10    \n",
    "\n",
    "    # Convert e to a NumPy array with float data type\n",
    "    e = np.array(e, dtype=float)\n",
    "\n",
    "    # Initialize the variable phi (the angle in radians)\n",
    "    phi = 0.0\n",
    "\n",
    "    if phi_deg is None:\n",
    "        # Interpret e as the PRV vector\n",
    "        # Norm of the vector is the rotation angle phi in radians\n",
    "        phi = np.linalg.norm(e)\n",
    "\n",
    "        if phi == 0:\n",
    "            e1, e2, e3 = e\n",
    "            \n",
    "        else:\n",
    "            # Normalize e to get the rotation axis\n",
    "            e = e / phi\n",
    "            \n",
    "    else:\n",
    "        # Interpret e as the rotation axis (unit vector)\n",
    "        # Validate phi_deg\n",
    "        if not isinstance(phi_deg, (int, float)):\n",
    "            raise TypeError(\"Rotation angle phi_deg must be a numeric value (int or float).\")\n",
    "        \n",
    "        # Convert phi from degrees to radians\n",
    "        phi = np.deg2rad(phi_deg)\n",
    "\n",
    "        if phi == 0:\n",
    "            e1, e2, e3 = e\n",
    "        \n",
    "        # Normalize e to get the rotation axis\n",
    "        e = e / np.linalg.norm(e)\n",
    "\n",
    "    e1, e2, e3 = e\n",
    "\n",
    "    # Calculate the cosine and sine of the angle\n",
    "    c_phi = np.cos(phi)\n",
    "    s_phi = np.sin(phi)\n",
    "    Sigma = 1 - c_phi\n",
    "\n",
    "    # Construct the DCM\n",
    "    C = np.array([[ ((e1**2)*Sigma + c_phi), (e1*e2*Sigma + e3*s_phi), (e1*e3*Sigma - e2*s_phi)],\n",
    "                  [(e2*e1*Sigma - e3*s_phi),  ((e2**2)*Sigma + c_phi), (e2*e3*Sigma + e1*s_phi)],\n",
    "                  [(e3*e1*Sigma + e2*s_phi), (e3*e2*Sigma - e1*s_phi),  ((e3**2)*Sigma + c_phi)]])\n",
    "\n",
    "    C\n",
    "\n",
    "    return C"
   ]
  },
  {
   "cell_type": "code",
   "execution_count": 6,
   "id": "2c80d990-9773-4ae5-97d9-efc2caf73202",
   "metadata": {},
   "outputs": [
    {
     "data": {
      "text/plain": [
       "array([[ 1.000000e+00,  0.000000e+00,  0.000000e+00],\n",
       "       [ 0.000000e+00,  6.123234e-17,  1.000000e+00],\n",
       "       [ 0.000000e+00, -1.000000e+00,  6.123234e-17]])"
      ]
     },
     "execution_count": 6,
     "metadata": {},
     "output_type": "execute_result"
    }
   ],
   "source": [
    "axis = [1, 0, 0] \n",
    "angle = 90\n",
    "C = PRV_to_DCM(axis, angle)\n",
    "C"
   ]
  },
  {
   "cell_type": "code",
   "execution_count": null,
   "id": "1d98f4ad-82bc-46ec-97f1-be4a4fedc14a",
   "metadata": {},
   "outputs": [],
   "source": []
  },
  {
   "cell_type": "code",
   "execution_count": null,
   "id": "810ff5aa-8794-4118-843a-25e3c3c4e3fa",
   "metadata": {},
   "outputs": [],
   "source": []
  },
  {
   "cell_type": "markdown",
   "id": "4c788b0a-28af-4f27-bdf4-055d366dfddd",
   "metadata": {},
   "source": [
    "# 2) DCM_to_PRV"
   ]
  },
  {
   "cell_type": "code",
   "execution_count": 7,
   "id": "629e99c9-acc6-49fe-ae6a-7158222dc883",
   "metadata": {},
   "outputs": [
    {
     "data": {
      "text/plain": [
       "(array([1., 0., 0.]), 90.0)"
      ]
     },
     "execution_count": 7,
     "metadata": {},
     "output_type": "execute_result"
    }
   ],
   "source": [
    "def DCM_to_PRV(C):\n",
    "    \"\"\"\n",
    "    Converts a rotation matrix to a Principal Rotation Vector (PRV).\n",
    "\n",
    "    Args:\n",
    "        C (np.array): A 3x3 rotation matrix.\n",
    "\n",
    "    Returns:\n",
    "        tuple: A PRV represented as (e_vector, phi_angle), where e_vector is the\n",
    "               rotation axis (unit vector), and phi_angle is the rotation angle in degrees.\n",
    "    \"\"\"\n",
    "    # Define the threshold for numerical errors\n",
    "    threshold = 1e-10\n",
    "    \n",
    "    # Compute the angle phi from the trace of the rotation matrix\n",
    "    trace_C = np.trace(C)\n",
    "    argument = (trace_C - 1) / 2\n",
    "    # Ensure the argument is within the valid range of arccos\n",
    "    argument = np.clip(argument, -1.0, 1.0)                       \n",
    "    phi = np.arccos(argument)\n",
    "\n",
    "    # Ensure phi is in the range [0, pi]\n",
    "    phi = np.clip(phi, 0, np.pi)\n",
    "\n",
    "    # Check if there's no rotation (phi is close to 0)\n",
    "    if np.isclose(phi, 0, atol=threshold):\n",
    "        e = np.diag(C).copy()\n",
    "        \n",
    "    # Handle the special case where phi is close to pi (180 degrees)\n",
    "    elif np.isclose(phi, np.pi, atol=threshold):\n",
    "        # Compute (C + I)\n",
    "        CpI = C + np.identity(3)\n",
    "\n",
    "        # Compute the norms of each column in CpI\n",
    "        norms = np.linalg.norm(CpI, axis=0)\n",
    "\n",
    "        # Find the index of the column with the largest norm\n",
    "        index = np.argmax(norms)\n",
    "\n",
    "        # Extract the column corresponding to the largest norm\n",
    "        e = CpI[:, index]\n",
    "            \n",
    "    else:\n",
    "        # Compute the rotation axis using the standard formula\n",
    "        e = (1 / (2 * np.sin(phi))) * np.array([C[1, 2] - C[2, 1],\n",
    "                                                C[2, 0] - C[0, 2],\n",
    "                                                C[0, 1] - C[1, 0]])\n",
    "\n",
    "    # Normalize the rotation axis to ensure it's a unit vector\n",
    "    e /= np.linalg.norm(e)\n",
    "    \n",
    "    # Convert phi to degrees\n",
    "    phi = np.rad2deg(phi)\n",
    "\n",
    "    \n",
    "\n",
    "    # Set small components of e to zero\n",
    "    e[np.abs(e) < threshold] = 0.0\n",
    "\n",
    "    # If phi is very close to zero, set it to zero\n",
    "    if np.abs(phi) < threshold:\n",
    "        phi = 0.0\n",
    "\n",
    "    return e, phi\n",
    "\n",
    "DCM_to_PRV(C)"
   ]
  },
  {
   "cell_type": "code",
   "execution_count": null,
   "id": "fbca706e-3dfe-4bd2-b929-fc19cc328010",
   "metadata": {},
   "outputs": [],
   "source": []
  },
  {
   "cell_type": "code",
   "execution_count": null,
   "id": "edf316f8-df42-42e7-a9e4-c7e7d69e3904",
   "metadata": {},
   "outputs": [],
   "source": []
  },
  {
   "cell_type": "code",
   "execution_count": null,
   "id": "cc7dd63f-24c3-4e13-a98a-f36193ba585e",
   "metadata": {},
   "outputs": [],
   "source": []
  }
 ],
 "metadata": {
  "kernelspec": {
   "display_name": "Python 3 (ipykernel)",
   "language": "python",
   "name": "python3"
  },
  "language_info": {
   "codemirror_mode": {
    "name": "ipython",
    "version": 3
   },
   "file_extension": ".py",
   "mimetype": "text/x-python",
   "name": "python",
   "nbconvert_exporter": "python",
   "pygments_lexer": "ipython3",
   "version": "3.11.5"
  }
 },
 "nbformat": 4,
 "nbformat_minor": 5
}
