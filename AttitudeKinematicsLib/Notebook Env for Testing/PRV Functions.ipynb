{
 "cells": [
  {
   "cell_type": "markdown",
   "id": "b71cf674-2357-4e6f-8299-4952f7e7acfa",
   "metadata": {},
   "source": [
    "# PRV Functions"
   ]
  },
  {
   "cell_type": "code",
   "execution_count": 1,
   "id": "1419933b-d24f-4d4a-9c6a-cf5c6245be4d",
   "metadata": {},
   "outputs": [],
   "source": [
    "import numpy as np"
   ]
  },
  {
   "cell_type": "markdown",
   "id": "214544f9-8652-4a7e-a473-95ba6043baa8",
   "metadata": {},
   "source": [
    "# 1) PRV_to_DCM"
   ]
  },
  {
   "cell_type": "code",
   "execution_count": 2,
   "id": "61aee222-692e-4bd5-b4d7-04873db94a94",
   "metadata": {},
   "outputs": [],
   "source": [
    "def PRV_to_DCM(e, phi_deg):\n",
    "    \"\"\"\n",
    "    Converts a Principal Rotation Vector (PRV) to a rotation matrix.\n",
    "\n",
    "    Args:\n",
    "        e (np.array)   : The unit vector of the PRV.\n",
    "        phi_deg (float): The rotation angle of the PRV in degrees.\n",
    "\n",
    "    Returns:\n",
    "        np.array: A 3x3 rotation matrix.\n",
    "    \"\"\"\n",
    "    # Convert the angle from degrees to radians\n",
    "    phi_rad = np.radians(phi_deg)\n",
    "    \n",
    "    # Calculate the cosine and sine of the angle\n",
    "    c_phi = np.cos(phi_rad)\n",
    "    s_phi = np.sin(phi_rad)\n",
    "    \n",
    "    # Calculate the matrix Sigma\n",
    "    Sigma = 1 - c_phi\n",
    "\n",
    "    # Ensure e is a float array to avoid UFuncTypeError during in-place operations\n",
    "    e = np.array(e, dtype=float)\n",
    "\n",
    "    # Normalize e vector to ensure it's a valid unit vector\n",
    "    e /= np.linalg.norm(e)\n",
    "    \n",
    "    # Decompose the unit vector into its components\n",
    "    e1, e2, e3 = e\n",
    "    \n",
    "    # Construct the rotation matrix using the given formula\n",
    "    C = np.array([[((e1**2)*Sigma + c_phi), (e1*e2*Sigma + e3*s_phi), (e1*e3*Sigma - e2*s_phi)],\n",
    "                  [(e2*e1*Sigma - e3*s_phi), ((e2**2)*Sigma + c_phi), (e2*e3*Sigma + e1*s_phi)],\n",
    "                  [(e3*e1*Sigma + e2*s_phi), (e3*e2*Sigma - e1*s_phi), ((e3**2)*Sigma + c_phi)]])\n",
    "\n",
    "    return C"
   ]
  },
  {
   "cell_type": "code",
   "execution_count": 6,
   "id": "2c80d990-9773-4ae5-97d9-efc2caf73202",
   "metadata": {},
   "outputs": [
    {
     "data": {
      "text/plain": [
       "array([[ 0.40909091,  0.91232942, -0.01731052],\n",
       "       [-0.36687488,  0.18181818,  0.91232942],\n",
       "       [ 0.83549234, -0.36687488,  0.40909091]])"
      ]
     },
     "execution_count": 6,
     "metadata": {},
     "output_type": "execute_result"
    }
   ],
   "source": [
    "axis = [3, 2, 3]  \n",
    "angle = 90\n",
    "C = PRV_to_DCM(axis, angle)\n",
    "C"
   ]
  },
  {
   "cell_type": "code",
   "execution_count": null,
   "id": "1d98f4ad-82bc-46ec-97f1-be4a4fedc14a",
   "metadata": {},
   "outputs": [],
   "source": []
  },
  {
   "cell_type": "code",
   "execution_count": null,
   "id": "810ff5aa-8794-4118-843a-25e3c3c4e3fa",
   "metadata": {},
   "outputs": [],
   "source": []
  },
  {
   "cell_type": "markdown",
   "id": "4c788b0a-28af-4f27-bdf4-055d366dfddd",
   "metadata": {},
   "source": [
    "# 2) DCM_to_PRV"
   ]
  },
  {
   "cell_type": "code",
   "execution_count": null,
   "id": "629e99c9-acc6-49fe-ae6a-7158222dc883",
   "metadata": {},
   "outputs": [],
   "source": [
    "def DCM_to_PRV(C):\n",
    "    \"\"\"\n",
    "    Converts a rotation matrix to a Principal Rotation Vector (PRV).\n",
    "\n",
    "    Args:\n",
    "        C (np.array): A 3x3 rotation matrix.\n",
    "\n",
    "    Returns:\n",
    "        tuple: A PRV represented as (e_vector, phi_angle), where e_vector is the\n",
    "               rotation axis (unit vector), and phi_angle is the rotation angle in degrees.\n",
    "    \"\"\"\n",
    "    # Compute the angle phi from the trace of the rotation matrix\n",
    "    trace_C = np.trace(C)\n",
    "    phi = np.arccos((trace_C - 1) / 2)\n",
    "\n",
    "    # Ensure phi is in the range [0, pi]\n",
    "    #phi = np.clip(phi, 0, np.pi)\n",
    "\n",
    "    if np.isclose(phi, 0):\n",
    "        e = np.diag(C).copy()\n",
    "    \n",
    "    # Handle edge cases where phi is close to pi\n",
    "    elif np.isclose(phi, np.pi):\n",
    "        # For phi = π, special handling is required to find the rotation axis.\n",
    "        # Compute (C + I)\n",
    "        CpI = C + np.identity(3)\n",
    "        #print(C)\n",
    "        #print(CpI)\n",
    "\n",
    "        # Extract the axis from the non-zero rows of (C + I)\n",
    "        # Due to numerical errors, we need to find the largest column in CpI\n",
    "        norms = np.linalg.norm(CpI, axis=0)\n",
    "        #print(norms)\n",
    "\n",
    "        index = np.argmax(norms)\n",
    "\n",
    "        e = CpI[:, index]\n",
    "    \n",
    "    else:\n",
    "        # Compute the rotation axis using the standard formula\n",
    "        e = (1 / (2 * np.sin(phi))) * np.array([C[2, 1] - C[1, 2],\n",
    "                                                C[0, 2] - C[2, 0],\n",
    "                                                C[1, 0] - C[0, 1]\n",
    "        ])\n",
    "    \n",
    "    # Normalize the axis vector and convert phi to degrees\n",
    "    e /= np.linalg.norm(e)\n",
    "    phi = np.rad2deg(phi)\n",
    "\n",
    "    return e, phi"
   ]
  },
  {
   "cell_type": "code",
   "execution_count": null,
   "id": "fbca706e-3dfe-4bd2-b929-fc19cc328010",
   "metadata": {},
   "outputs": [],
   "source": [
    "DCM_to_PRV(C)"
   ]
  },
  {
   "cell_type": "code",
   "execution_count": null,
   "id": "edf316f8-df42-42e7-a9e4-c7e7d69e3904",
   "metadata": {},
   "outputs": [],
   "source": []
  }
 ],
 "metadata": {
  "kernelspec": {
   "display_name": "Python 3 (ipykernel)",
   "language": "python",
   "name": "python3"
  },
  "language_info": {
   "codemirror_mode": {
    "name": "ipython",
    "version": 3
   },
   "file_extension": ".py",
   "mimetype": "text/x-python",
   "name": "python",
   "nbconvert_exporter": "python",
   "pygments_lexer": "ipython3",
   "version": "3.11.9"
  }
 },
 "nbformat": 4,
 "nbformat_minor": 5
}
