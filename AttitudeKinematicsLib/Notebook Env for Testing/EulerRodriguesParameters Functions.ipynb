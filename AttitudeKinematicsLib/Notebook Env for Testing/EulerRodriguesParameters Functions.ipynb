{
 "cells": [
  {
   "cell_type": "markdown",
   "id": "01dd7dc2-e266-413d-a77e-489387e672c2",
   "metadata": {},
   "source": [
    "# Euler Rodrigues Parameters Functions"
   ]
  },
  {
   "cell_type": "code",
   "execution_count": 1,
   "id": "3946aabb-936e-426f-9e1a-00d8fcdef919",
   "metadata": {},
   "outputs": [],
   "source": [
    "import numpy as np\n",
    "\n",
    "import sys\n",
    "from pathlib import Path\n",
    "\n",
    "# Dynamically add DCM_utils directory to path\n",
    "sys.path.insert(0, str(Path('..').resolve()))\n",
    "from DCM_utils import *"
   ]
  },
  {
   "cell_type": "markdown",
   "id": "7fd11a69-718c-44ff-a2ba-1e8ea115c651",
   "metadata": {},
   "source": [
    "# 1) EP_to_C"
   ]
  },
  {
   "cell_type": "code",
   "execution_count": 2,
   "id": "5a8d2201-bd7a-494e-9144-4a2451e2d654",
   "metadata": {},
   "outputs": [],
   "source": [
    "def EP_to_C(q):\n",
    "    \"\"\"\n",
    "    Converts the EP/Quaternion to a direction cosine matrix (C).\n",
    "\n",
    "    Args:\n",
    "        q (np.array): A numpy array of size 4 (a row vector) representing the quaternion,\n",
    "                      where q[0] is the scalar part (beta_0), and q[1], q[2], q[3] are the \n",
    "                      vector parts (beta_1, beta_2, beta_3).\n",
    "\n",
    "    Returns:\n",
    "        np.array: A 3x3 rotation matrix (C).\n",
    "    \"\"\"\n",
    "    # Ensure q is a float array to maintain precision\n",
    "    q = np.array(q, dtype=np.float64)\n",
    "    \n",
    "    # Check that the holonomic constraint of quaternion is satisfied, else normalize it\n",
    "    q_norm = np.linalg.norm(q)\n",
    "    if not np.isclose(q_norm, 1.0, atol=1e-8):\n",
    "        q /= q_norm\n",
    "    \n",
    "    # Extract components\n",
    "    q0, q1, q2, q3 = q\n",
    "    \n",
    "    # Compute the elements of the C\n",
    "    C = np.array([\n",
    "        [q0**2 + q1**2 - q2**2 - q3**2, 2 * (q1*q2 + q0*q3)          , 2 * (q1*q3 - q0*q2)          ],\n",
    "        [2 * (q1*q2 - q0*q3)          , q0**2 - q1**2 + q2**2 - q3**2, 2 * (q2*q3 + q0*q1)          ],\n",
    "        [2 * (q1*q3 + q0*q2)          , 2 * (q2*q3 - q0*q1)          , q0**2 - q1**2 - q2**2 + q3**2]\n",
    "    ])\n",
    "    \n",
    "    return C"
   ]
  },
  {
   "cell_type": "markdown",
   "id": "22522c09-6ddb-4b75-a99c-fe5cc58afb20",
   "metadata": {},
   "source": [
    "## 1.1 - Functional testing of EP_to_C"
   ]
  },
  {
   "cell_type": "code",
   "execution_count": null,
   "id": "df502239-17f2-411f-bb51-5f927f4c3d02",
   "metadata": {},
   "outputs": [],
   "source": []
  },
  {
   "cell_type": "code",
   "execution_count": null,
   "id": "4ec048a8-b8a4-4a21-96b7-664cf0d13ad5",
   "metadata": {},
   "outputs": [],
   "source": []
  },
  {
   "cell_type": "markdown",
   "id": "cb89a0a7-3b27-4687-951b-a5b6fd515006",
   "metadata": {},
   "source": [
    "# 2) DCM_to_EP"
   ]
  },
  {
   "cell_type": "code",
   "execution_count": 3,
   "id": "46ad91a3-5bb5-42c6-93d4-0228bf0e1321",
   "metadata": {},
   "outputs": [],
   "source": [
    "def DCM_to_EP(C):\n",
    "    \"\"\"\n",
    "    Converts a Direction Cosine Matrix (C) to a quaternion using Shepperd's method to ensure robustness against numerical issues.\n",
    "    \n",
    "    Args:\n",
    "        C (np.array): A 3x3 rotation matrix (C).\n",
    "    \n",
    "    Returns:\n",
    "        np.array: A quaternion represented as a numpy array of size 4, with the scalar component as the first element.\n",
    "    \"\"\"\n",
    "    trace = np.trace(C)\n",
    "    q_squared = np.zeros(4)\n",
    "    q_squared[0] = (1.0 + trace) / 4.0\n",
    "    q_squared[1] = (1.0 + 2 * C[0, 0] - trace) / 4.0\n",
    "    q_squared[2] = (1.0 + 2 * C[1, 1] - trace) / 4.0\n",
    "    q_squared[3] = (1.0 + 2 * C[2, 2] - trace) / 4.0\n",
    "\n",
    "    q = np.zeros(4)\n",
    "    max_index = np.argmax(q_squared)\n",
    "\n",
    "    if max_index == 0:\n",
    "        q[0] = np.sqrt(q_squared[0])\n",
    "        q[1] = (C[1, 2] - C[2, 1]) / (4 * q[0])\n",
    "        q[2] = (C[2, 0] - C[0, 2]) / (4 * q[0])\n",
    "        q[3] = (C[0, 1] - C[1, 0]) / (4 * q[0])\n",
    "    \n",
    "    elif max_index == 1:\n",
    "        q[1] = np.sqrt(q_squared[1])\n",
    "        q[0] = (C[1, 2] - C[2, 1]) / (4 * q[1])\n",
    "        if q[0] < 0:\n",
    "            q[0] = -q[0]\n",
    "            q[1] = -q[1]\n",
    "        q[2] = (C[0, 1] + C[1, 0]) / (4 * q[1])\n",
    "        q[3] = (C[2, 0] + C[0, 2]) / (4 * q[1])\n",
    "        \n",
    "    elif max_index == 2:\n",
    "        q[2] = np.sqrt(q_squared[2])\n",
    "        q[0] = (C[2, 0] - C[0, 2]) / (4 * q[2])\n",
    "        if q[0] < 0:\n",
    "            q[0] = -q[0]\n",
    "            q[2] = -q[2]\n",
    "        q[1] = (C[0, 1] + C[1, 0]) / (4 * q[2])\n",
    "        q[3] = (C[1, 2] + C[2, 1]) / (4 * q[2])\n",
    "\n",
    "    elif max_index == 3:\n",
    "        q[3] = np.sqrt(q_squared[3])\n",
    "        q[0] = (C[0, 1] - C[1, 0]) / (4 * q[3])\n",
    "        if q[0] < 0:\n",
    "            q[0] = -q[0]\n",
    "            q[3] = -q[3]\n",
    "        q[1] = (C[2, 0] + C[0, 2]) / (4 * q[3])\n",
    "        q[2] = (C[1, 2] + C[2, 1]) / (4 * q[3])\n",
    "    \n",
    "    return q"
   ]
  },
  {
   "cell_type": "markdown",
   "id": "dec18e7e-c46e-43e9-80d3-a0cfebf4b8d6",
   "metadata": {},
   "source": [
    "## 2.1 - Functional testing of C_to_EP"
   ]
  },
  {
   "cell_type": "code",
   "execution_count": null,
   "id": "a8c6e12e-eeec-40d9-8290-ddff962b0bd9",
   "metadata": {},
   "outputs": [],
   "source": []
  },
  {
   "cell_type": "markdown",
   "id": "b24aaa7b-4d1f-4755-a562-b70773fbd3da",
   "metadata": {},
   "source": [
    "# 3) Bmat_EP"
   ]
  },
  {
   "cell_type": "code",
   "execution_count": 6,
   "id": "f3db79d0-4ca2-4fc5-8fdb-116410e92632",
   "metadata": {},
   "outputs": [
    {
     "data": {
      "text/plain": [
       "array([[-1., -2., -1.],\n",
       "       [ 0., -1.,  2.],\n",
       "       [ 1.,  0., -1.],\n",
       "       [-2.,  1.,  0.]])"
      ]
     },
     "execution_count": 6,
     "metadata": {},
     "output_type": "execute_result"
    }
   ],
   "source": [
    "def Bmat_EP(q):\n",
    "    \"\"\"\n",
    "    Computes the 4x3 B matrix that maps body angular velocity (omega) to the derivative of the quaternion (Euler parameters) vector.\n",
    "\n",
    "        dQ/dt = 1/2 * [B(Q)] * omega\n",
    "\n",
    "    Args:\n",
    "        q (array-like): A 4-element quaternion (Euler parameter) vector [q0, q1, q2, q3].\n",
    "    \n",
    "    Returns:\n",
    "        np.ndarray: A 4x3 B matrix.\n",
    "    \n",
    "    Notes:\n",
    "        - The quaternion vector q should be in the form [q0, q1, q2, q3], where q0 is the scalar component.\n",
    "    \"\"\"\n",
    "    # Validate the input quaternion vector\n",
    "    validate_vec4(q)\n",
    "\n",
    "    # Convert input to a NumPy array if not already\n",
    "    q = np.array(q, dtype=float)\n",
    "\n",
    "    # Extract components of the quaternion\n",
    "    q0, q1, q2, q3 = q\n",
    "\n",
    "    # Construct the B matrix using a structured array\n",
    "    B = np.array([[-q1, -q2, -q3],\n",
    "                  [ q0, -q3,  q2],\n",
    "                  [ q3,  q0, -q1],\n",
    "                  [-q2,  q1,  q0]])\n",
    "\n",
    "    return B\n",
    "\n",
    "Bmat_EP([0,1,2,1])"
   ]
  },
  {
   "cell_type": "markdown",
   "id": "5ce14b97-b665-4e94-842b-356687623716",
   "metadata": {},
   "source": [
    "## 3.1 - Functional testing of Bmat_EP"
   ]
  },
  {
   "cell_type": "code",
   "execution_count": null,
   "id": "6cd1cf65-eace-4d3c-bb76-91269c08faab",
   "metadata": {},
   "outputs": [],
   "source": []
  },
  {
   "cell_type": "code",
   "execution_count": null,
   "id": "c46f56ca-13a8-4b29-9fec-c6832d80f458",
   "metadata": {},
   "outputs": [],
   "source": []
  },
  {
   "cell_type": "markdown",
   "id": "3cc8a385-e587-4e24-b7e5-84d509f0b242",
   "metadata": {},
   "source": [
    "# 4) BInvmat_EP"
   ]
  },
  {
   "cell_type": "code",
   "execution_count": 7,
   "id": "9099a48e-3110-45ec-9085-3f90bad1571c",
   "metadata": {},
   "outputs": [
    {
     "data": {
      "text/plain": [
       "array([[-1.,  0.,  1., -2.],\n",
       "       [-2., -1.,  0.,  1.],\n",
       "       [-1.,  2., -1.,  0.]])"
      ]
     },
     "execution_count": 7,
     "metadata": {},
     "output_type": "execute_result"
    }
   ],
   "source": [
    "def BInvmat_EP(q):\n",
    "    \"\"\"\n",
    "    Computes the 3x4 B matrix that maps the derivative of the quaternion (Euler parameters) vector to the body angular velocity (omega).\n",
    "\n",
    "        omega = 2 * [B(Q)]^(-1) * dQ/dt\n",
    "\n",
    "    Args:\n",
    "        q (array-like): A 4-element quaternion (Euler parameter) vector [q0, q1, q2, q3].\n",
    "\n",
    "    Returns:\n",
    "        np.ndarray: A 3x4 B matrix.\n",
    "    \n",
    "    Notes:\n",
    "        - The quaternion vector q should be in the form [q0, q1, q2, q3], where q0 is the scalar component.\n",
    "        - This matrix is used to map quaternion rates to body angular velocity.\n",
    "    \"\"\"\n",
    "    # Validate the input quaternion vector\n",
    "    validate_vec4(q)\n",
    "\n",
    "    # Convert input to a NumPy array if not already\n",
    "    q = np.array(q, dtype=float)\n",
    "\n",
    "    # Extract components of the quaternion\n",
    "    q0, q1, q2, q3 = q\n",
    "\n",
    "    # Construct the BInv matrix using a structured array\n",
    "    B_inv = np.array([[-q1,  q0,  q3, -q2],\n",
    "                      [-q2, -q3,  q0,  q1],\n",
    "                      [-q3,  q2, -q1,  q0]])\n",
    "\n",
    "    return B_inv\n",
    "    \n",
    "BInvmat_EP([0,1,2,1])"
   ]
  },
  {
   "cell_type": "markdown",
   "id": "9c783c5a-a80a-40c6-838f-351d70fa143a",
   "metadata": {},
   "source": [
    "## 4.1 - Functional testing of BInvmat_EP"
   ]
  },
  {
   "cell_type": "code",
   "execution_count": null,
   "id": "897f3cee-aed2-414d-8a61-cd13271307da",
   "metadata": {},
   "outputs": [],
   "source": []
  },
  {
   "cell_type": "code",
   "execution_count": null,
   "id": "2da03479-1dcc-4310-97a8-ad66602ceff1",
   "metadata": {},
   "outputs": [],
   "source": []
  },
  {
   "cell_type": "code",
   "execution_count": null,
   "id": "c7643ca8-8c21-4f83-b5c9-ffbc800a194e",
   "metadata": {},
   "outputs": [],
   "source": []
  }
 ],
 "metadata": {
  "kernelspec": {
   "display_name": "Python 3 (ipykernel)",
   "language": "python",
   "name": "python3"
  },
  "language_info": {
   "codemirror_mode": {
    "name": "ipython",
    "version": 3
   },
   "file_extension": ".py",
   "mimetype": "text/x-python",
   "name": "python",
   "nbconvert_exporter": "python",
   "pygments_lexer": "ipython3",
   "version": "3.11.9"
  }
 },
 "nbformat": 4,
 "nbformat_minor": 5
}
