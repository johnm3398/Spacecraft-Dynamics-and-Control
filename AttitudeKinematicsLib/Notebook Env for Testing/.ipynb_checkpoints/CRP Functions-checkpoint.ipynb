{
 "cells": [
  {
   "cell_type": "markdown",
   "id": "1ace1e79-6f94-4d5b-9643-98430be056f4",
   "metadata": {},
   "source": [
    "# CRP Functions"
   ]
  },
  {
   "cell_type": "code",
   "execution_count": 1,
   "id": "e2cf187e-e42b-452a-97bb-70e1c48d7ca4",
   "metadata": {},
   "outputs": [],
   "source": [
    "import numpy as np\n",
    "\n",
    "import sys\n",
    "from pathlib import Path\n",
    "\n",
    "# Dynamically add DCM_utils directory to path\n",
    "sys.path.insert(0, str(Path('..').resolve()))\n",
    "from DCM_utils import *\n",
    "from EulerRodriguesParameters import *"
   ]
  },
  {
   "cell_type": "markdown",
   "id": "dde76be2-bf5b-41c4-88b5-acd14613d223",
   "metadata": {},
   "source": [
    "# 1) CRP_to_DCM"
   ]
  },
  {
   "cell_type": "code",
   "execution_count": 2,
   "id": "71343095-b550-42c0-99d3-78ceb3da40a2",
   "metadata": {},
   "outputs": [],
   "source": [
    "def CRP_to_DCM(q):\n",
    "    \"\"\"\n",
    "    Converts a Classical Rodrigues Parameters (CRP) vector to a Direction Cosine Matrix (DCM).\n",
    "\n",
    "    Args:\n",
    "        q (np.array): A numpy array of size 3 representing the CRP vector (Gibbs vector).\n",
    "\n",
    "    Returns:\n",
    "        np.array: A 3x3 rotation matrix (DCM) corresponding to the rotation defined by the CRP vector.\n",
    "\n",
    "    Notes:\n",
    "        - The function assumes a passive rotation (coordinate transformation).\n",
    "        - Ensure that q is a numpy array of floats for numerical precision.\n",
    "    \"\"\"\n",
    "    # Validate input vector\n",
    "    validate_vec3(q)\n",
    "    \n",
    "    # Ensure q is a numpy array of floats and reshape to make it a 3-element array\n",
    "    q = np.array(q, dtype=np.float64).reshape(3)\n",
    "    \n",
    "    # Compute the skew-symmetric matrix q_cross (q^x)\n",
    "    q_tilde = skew_symmetric(q)\n",
    "\n",
    "    # Compute inner product: q^Tq (which is just squared magnitude of q)\n",
    "    q_squared = np.dot(q, q)\n",
    "    \n",
    "    # Compute the outer product: qq^T\n",
    "    q_outer = np.outer(q, q)\n",
    "    \n",
    "    # Identity matrix\n",
    "    identity_matrix = np.eye(3)\n",
    "    \n",
    "    C = (1 / (1 + q_squared)) * ( ((1 - q_squared) * identity_matrix) + (2 * q_outer) - (2 * q_tilde) )\n",
    "    \n",
    "    return C"
   ]
  },
  {
   "cell_type": "markdown",
   "id": "047cc325-5d1c-464c-8c28-fc8f9af0ddc6",
   "metadata": {},
   "source": [
    "## 1.1 - Functional Testing of CRP_to_DCM"
   ]
  },
  {
   "cell_type": "code",
   "execution_count": 3,
   "id": "0d856917-aeab-4fb7-9a9d-323e55cd19b4",
   "metadata": {},
   "outputs": [
    {
     "name": "stdout",
     "output_type": "stream",
     "text": [
      "Test Case 1:\n",
      "CRP vector = [0. 0. 0.]\n",
      "Max difference between CRP_to_DCM and gibbs2C: 0.000000000000e+00\n",
      "C matrices match.\n",
      "\n",
      "--------------------------------------------------\n",
      "Test Case 2:\n",
      "CRP vector = [1. 0. 0.]\n",
      "Max difference between CRP_to_DCM and gibbs2C: 0.000000000000e+00\n",
      "C matrices match.\n",
      "\n",
      "--------------------------------------------------\n",
      "Test Case 3:\n",
      "CRP vector = [0. 1. 0.]\n",
      "Max difference between CRP_to_DCM and gibbs2C: 0.000000000000e+00\n",
      "C matrices match.\n",
      "\n",
      "--------------------------------------------------\n",
      "Test Case 4:\n",
      "CRP vector = [0. 0. 1.]\n",
      "Max difference between CRP_to_DCM and gibbs2C: 0.000000000000e+00\n",
      "C matrices match.\n",
      "\n",
      "--------------------------------------------------\n",
      "Test Case 5:\n",
      "CRP vector = [0.5 0.5 0. ]\n",
      "Max difference between CRP_to_DCM and gibbs2C: 5.551115123126e-17\n",
      "C matrices match.\n",
      "\n",
      "--------------------------------------------------\n",
      "Test Case 6:\n",
      "CRP vector = [0.5 0.5 0.5]\n",
      "Max difference between CRP_to_DCM and gibbs2C: 1.110223024625e-16\n",
      "C matrices match.\n",
      "\n",
      "--------------------------------------------------\n",
      "Test Case 7:\n",
      "CRP vector = [-0.5  0.5  0. ]\n",
      "Max difference between CRP_to_DCM and gibbs2C: 5.551115123126e-17\n",
      "C matrices match.\n",
      "\n",
      "--------------------------------------------------\n"
     ]
    }
   ],
   "source": [
    "from pathlib import Path\n",
    "import sys\n",
    "import numpy as np\n",
    "\n",
    "# Add the directory where RigidBodyKinematics.py is located to sys.path\n",
    "path_to_rigid_body_kinematics = Path(r\"..\\..\\Codes from AVS Lab\")\n",
    "sys.path.insert(0, str(path_to_rigid_body_kinematics))\n",
    "\n",
    "# Import the gibbs2C function from the AVS lab\n",
    "from RigidBodyKinematics import gibbs2C\n",
    "\n",
    "# Define test CRP vectors (Classical Rodrigues Parameters)\n",
    "test_crp_vectors = [\n",
    "    [0, 0, 0],          # No rotation (identity rotation)\n",
    "    [1, 0, 0],          # 180-degree rotation about x-axis\n",
    "    [0, 1, 0],          # 180-degree rotation about y-axis\n",
    "    [0, 0, 1],          # 180-degree rotation about z-axis\n",
    "    [0.5, 0.5, 0],      # Rotation about the [1, 1, 0] axis\n",
    "    [0.5, 0.5, 0.5],    # Rotation about the [1, 1, 1] axis\n",
    "    [-0.5, 0.5, 0],     # Rotation about the [-1, 1, 0] axis\n",
    "]\n",
    "\n",
    "# Test each CRP vector\n",
    "for i, crp in enumerate(test_crp_vectors):\n",
    "    crp = np.array(crp, dtype=float)\n",
    "\n",
    "    print(f\"Test Case {i + 1}:\")\n",
    "    print(f\"CRP vector = {crp}\")\n",
    "\n",
    "    # Compute DCM using the existing gibbs2C function\n",
    "    C_existing = gibbs2C(crp)\n",
    "\n",
    "    # Compute DCM using your CRP_to_DCM function\n",
    "    C_custom = CRP_to_DCM(crp)\n",
    "\n",
    "    # Ensure both are NumPy arrays for easy comparison\n",
    "    C_existing = np.array(C_existing)\n",
    "    C_custom = np.array(C_custom)\n",
    "\n",
    "    # Calculate the difference between the two C matrices\n",
    "    difference = C_existing - C_custom\n",
    "    max_diff = np.max(np.abs(difference))\n",
    "\n",
    "    # Print the results\n",
    "    print(f\"Max difference between CRP_to_DCM and gibbs2C: {max_diff:.12e}\")\n",
    "    if max_diff > 1e-12:\n",
    "        print(\"C matrices differ significantly.\\n\")\n",
    "    else:\n",
    "        print(\"C matrices match.\\n\")\n",
    "\n",
    "    print(\"-\" * 50)\n"
   ]
  },
  {
   "cell_type": "markdown",
   "id": "66a8345c-8c51-431e-a694-89a73d9a6d64",
   "metadata": {},
   "source": [
    "# 2) DCM_to_CRP"
   ]
  },
  {
   "cell_type": "code",
   "execution_count": 4,
   "id": "e39592e9-81c0-44ef-a30e-363615ed6ef1",
   "metadata": {},
   "outputs": [],
   "source": [
    "def DCM_to_CRP(dcm):\n",
    "    \"\"\"\n",
    "    Converts a Direction Cosine Matrix (DCM) to the Classical Rodrigues Parameters (CRP) vector.\n",
    "\n",
    "    Args:\n",
    "        dcm (np.array): A 3x3 rotation matrix representing the DCM.\n",
    "\n",
    "    Returns:\n",
    "        np.array: A 3-element array representing the CRP vector.\n",
    "\n",
    "    Notes:\n",
    "        - The function first converts the DCM to a quaternion.\n",
    "        - Then computes the CRP vector by dividing the vector part of the quaternion by its scalar part.\n",
    "        - Assumes that the quaternion uses the scalar-first convention.\n",
    "        - The function handles passive rotations (coordinate transformations).\n",
    "\n",
    "    Raises:\n",
    "        ZeroDivisionError: If the scalar part of the quaternion is zero (singularity at 180 degrees).\n",
    "\n",
    "    Example:\n",
    "        >>> dcm = np.eye(3)\n",
    "        >>> q = DCM_to_CRP(dcm)\n",
    "        >>> print(q)\n",
    "        [0. 0. 0.]\n",
    "    \"\"\"\n",
    "    # Convert DCM to quaternion\n",
    "    b = DCM_to_EP(dcm)  # b should be a 4-element array [q0, q1, q2, q3]\n",
    "\n",
    "    # Ensure b is a numpy array\n",
    "    b = np.array(b, dtype=np.float64)\n",
    "\n",
    "    # Extract scalar and vector parts\n",
    "    q0 = b[0]      # Scalar part\n",
    "    q_vec = b[1:]  # Vector part [q1, q2, q3]\n",
    "\n",
    "    # Check for division by zero to avoid singularity at 180 degrees\n",
    "    if np.isclose(q0, 0.0):\n",
    "        raise ZeroDivisionError(\"The scalar part of the quaternion is zero; cannot compute CRP.\")\n",
    "\n",
    "    # Compute CRP vector by dividing the vector part by the scalar part\n",
    "    crp = q_vec / q0\n",
    "\n",
    "    return crp"
   ]
  },
  {
   "cell_type": "markdown",
   "id": "7e5ad725-65fa-490c-8417-6927d219390d",
   "metadata": {},
   "source": [
    "## 2.1 - Functional Testing of DCM_to_CRP"
   ]
  },
  {
   "cell_type": "code",
   "execution_count": 5,
   "id": "285c5a97-07bd-42cf-8fa0-9a370e7d45b8",
   "metadata": {},
   "outputs": [
    {
     "name": "stdout",
     "output_type": "stream",
     "text": [
      "Test Case 1:\n",
      "Input CRP vector = [0. 0. 0.]\n",
      "Reconstructed CRP vector = [0. 0. 0.]\n",
      "Max difference: 0.000000000000e+00\n",
      "CRP vectors match.\n",
      "\n",
      "--------------------------------------------------\n",
      "Test Case 2:\n",
      "Input CRP vector = [1. 0. 0.]\n",
      "Reconstructed CRP vector = [1. 0. 0.]\n",
      "Max difference: 1.110223024625e-16\n",
      "CRP vectors match.\n",
      "\n",
      "--------------------------------------------------\n",
      "Test Case 3:\n",
      "Input CRP vector = [0. 1. 0.]\n",
      "Reconstructed CRP vector = [0. 1. 0.]\n",
      "Max difference: 1.110223024625e-16\n",
      "CRP vectors match.\n",
      "\n",
      "--------------------------------------------------\n",
      "Test Case 4:\n",
      "Input CRP vector = [0. 0. 1.]\n",
      "Reconstructed CRP vector = [0. 0. 1.]\n",
      "Max difference: 1.110223024625e-16\n",
      "CRP vectors match.\n",
      "\n",
      "--------------------------------------------------\n",
      "Test Case 5:\n",
      "Input CRP vector = [0.5 0.5 0. ]\n",
      "Reconstructed CRP vector = [0.5 0.5 0. ]\n",
      "Max difference: 0.000000000000e+00\n",
      "CRP vectors match.\n",
      "\n",
      "--------------------------------------------------\n",
      "Test Case 6:\n",
      "Input CRP vector = [0.577 0.577 0.577]\n",
      "Reconstructed CRP vector = [0.577 0.577 0.577]\n",
      "Max difference: 0.000000000000e+00\n",
      "CRP vectors match.\n",
      "\n",
      "--------------------------------------------------\n"
     ]
    }
   ],
   "source": [
    "# Define test CRP vectors\n",
    "test_crps = [\n",
    "    [0.0, 0.0, 0.0],          # No rotation\n",
    "    [1.0, 0.0, 0.0],          # Rotation about x-axis\n",
    "    [0.0, 1.0, 0.0],          # Rotation about y-axis\n",
    "    [0.0, 0.0, 1.0],          # Rotation about z-axis\n",
    "    [0.5, 0.5, 0.0],          # Rotation about xy-plane\n",
    "    [0.577, 0.577, 0.577],    # General rotation about [1,1,1]\n",
    "]\n",
    "\n",
    "# Test each CRP vector\n",
    "for i, crp in enumerate(test_crps):\n",
    "    crp = np.array(crp, dtype=float)\n",
    "    print(f\"Test Case {i + 1}:\")\n",
    "    print(f\"Input CRP vector = {crp}\")\n",
    "\n",
    "    # Compute DCM from CRP using CRP_to_DCM function\n",
    "    C = CRP_to_DCM(crp)\n",
    "\n",
    "    # Recover CRP from DCM using DCM_to_CRP function\n",
    "    crp_reconstructed = DCM_to_CRP(C)\n",
    "\n",
    "    # Calculate the difference between the original and reconstructed CRP vectors\n",
    "    difference = crp - crp_reconstructed\n",
    "    max_diff = np.max(np.abs(difference))\n",
    "\n",
    "    # Print the results\n",
    "    print(f\"Reconstructed CRP vector = {crp_reconstructed}\")\n",
    "    print(f\"Max difference: {max_diff:.12e}\")\n",
    "\n",
    "    if max_diff > 1e-12:\n",
    "        print(\"CRP vectors differ significantly.\\n\")\n",
    "    else:\n",
    "        print(\"CRP vectors match.\\n\")\n",
    "\n",
    "    print(\"-\" * 50)\n"
   ]
  },
  {
   "cell_type": "markdown",
   "id": "851ff153-4a2e-4088-9a5e-90999ae070b2",
   "metadata": {},
   "source": [
    "# 3) Bmat_CRP"
   ]
  },
  {
   "cell_type": "code",
   "execution_count": null,
   "id": "6aefe2af-4fdd-4e32-b10f-37b42f5ccb84",
   "metadata": {},
   "outputs": [],
   "source": [
    "def "
   ]
  },
  {
   "cell_type": "markdown",
   "id": "1aff9579-851e-4e8c-8c16-442ff09a91e0",
   "metadata": {},
   "source": [
    "## 3.1 - Functional Testing of Bmat_CRP"
   ]
  },
  {
   "cell_type": "code",
   "execution_count": null,
   "id": "b9c32e6f-6af1-446e-b18e-cf2767eb452f",
   "metadata": {},
   "outputs": [],
   "source": []
  },
  {
   "cell_type": "markdown",
   "id": "adb8fad1-6b5a-4703-9a36-b31ae563f570",
   "metadata": {},
   "source": [
    "# 4) BInvmat_CRP"
   ]
  },
  {
   "cell_type": "code",
   "execution_count": null,
   "id": "b894731f-7929-40b1-bd02-c31a45fc50ed",
   "metadata": {},
   "outputs": [],
   "source": []
  },
  {
   "cell_type": "markdown",
   "id": "dbb12707-ad30-43a0-809f-f4256abe1d1a",
   "metadata": {},
   "source": [
    "## 4.1 - Functional Testing of BInvmat_CRP"
   ]
  },
  {
   "cell_type": "code",
   "execution_count": null,
   "id": "965dcc37-ca9c-4465-9c54-3e7a6fc0ce9f",
   "metadata": {},
   "outputs": [],
   "source": []
  },
  {
   "cell_type": "code",
   "execution_count": null,
   "id": "0a318a04-194e-4311-a009-c411324a5bd6",
   "metadata": {},
   "outputs": [],
   "source": []
  },
  {
   "cell_type": "code",
   "execution_count": null,
   "id": "951bf55b-76ca-4ff1-9d7d-240892249500",
   "metadata": {},
   "outputs": [],
   "source": []
  },
  {
   "cell_type": "code",
   "execution_count": null,
   "id": "8a58df5c-1752-4cf7-9648-30fb5495fc41",
   "metadata": {},
   "outputs": [],
   "source": []
  },
  {
   "cell_type": "code",
   "execution_count": null,
   "id": "a90b216e-0561-4bcf-b655-a813923a38fd",
   "metadata": {},
   "outputs": [],
   "source": []
  },
  {
   "cell_type": "code",
   "execution_count": null,
   "id": "e84b1064-963d-43aa-9194-9f1cdec546cb",
   "metadata": {},
   "outputs": [],
   "source": []
  },
  {
   "cell_type": "code",
   "execution_count": null,
   "id": "416a2b80-7b4e-4bb8-90de-1d9d9a2ab1bb",
   "metadata": {},
   "outputs": [],
   "source": []
  },
  {
   "cell_type": "code",
   "execution_count": null,
   "id": "f20156f4-7872-42cf-975f-fd6daab68bee",
   "metadata": {},
   "outputs": [],
   "source": []
  },
  {
   "cell_type": "code",
   "execution_count": null,
   "id": "b9f654cb-01ed-429a-aa29-3d6fe0dae3ae",
   "metadata": {},
   "outputs": [],
   "source": []
  }
 ],
 "metadata": {
  "kernelspec": {
   "display_name": "Python 3 (ipykernel)",
   "language": "python",
   "name": "python3"
  },
  "language_info": {
   "codemirror_mode": {
    "name": "ipython",
    "version": 3
   },
   "file_extension": ".py",
   "mimetype": "text/x-python",
   "name": "python",
   "nbconvert_exporter": "python",
   "pygments_lexer": "ipython3",
   "version": "3.11.9"
  }
 },
 "nbformat": 4,
 "nbformat_minor": 5
}
