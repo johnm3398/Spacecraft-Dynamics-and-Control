{
 "cells": [
  {
   "cell_type": "code",
   "execution_count": null,
   "id": "3946aabb-936e-426f-9e1a-00d8fcdef919",
   "metadata": {},
   "outputs": [],
   "source": []
  },
  {
   "cell_type": "markdown",
   "id": "7fd11a69-718c-44ff-a2ba-1e8ea115c651",
   "metadata": {},
   "source": [
    "# 1) EP_to_DCM"
   ]
  },
  {
   "cell_type": "code",
   "execution_count": null,
   "id": "5a8d2201-bd7a-494e-9144-4a2451e2d654",
   "metadata": {},
   "outputs": [],
   "source": []
  },
  {
   "cell_type": "markdown",
   "id": "22522c09-6ddb-4b75-a99c-fe5cc58afb20",
   "metadata": {},
   "source": [
    "## 1.1 - Functional testing of EP_to_DCM"
   ]
  },
  {
   "cell_type": "code",
   "execution_count": null,
   "id": "df502239-17f2-411f-bb51-5f927f4c3d02",
   "metadata": {},
   "outputs": [],
   "source": []
  },
  {
   "cell_type": "code",
   "execution_count": null,
   "id": "4ec048a8-b8a4-4a21-96b7-664cf0d13ad5",
   "metadata": {},
   "outputs": [],
   "source": []
  },
  {
   "cell_type": "markdown",
   "id": "cb89a0a7-3b27-4687-951b-a5b6fd515006",
   "metadata": {},
   "source": [
    "# 2) DCM_to_EP"
   ]
  },
  {
   "cell_type": "code",
   "execution_count": null,
   "id": "46ad91a3-5bb5-42c6-93d4-0228bf0e1321",
   "metadata": {},
   "outputs": [],
   "source": []
  },
  {
   "cell_type": "markdown",
   "id": "dec18e7e-c46e-43e9-80d3-a0cfebf4b8d6",
   "metadata": {},
   "source": [
    "## 2.1 - Functional testing of DCM_to_EP"
   ]
  },
  {
   "cell_type": "code",
   "execution_count": null,
   "id": "a8c6e12e-eeec-40d9-8290-ddff962b0bd9",
   "metadata": {},
   "outputs": [],
   "source": []
  },
  {
   "cell_type": "markdown",
   "id": "b24aaa7b-4d1f-4755-a562-b70773fbd3da",
   "metadata": {},
   "source": [
    "# 3) Bmat_EP"
   ]
  },
  {
   "cell_type": "code",
   "execution_count": null,
   "id": "f3db79d0-4ca2-4fc5-8fdb-116410e92632",
   "metadata": {},
   "outputs": [],
   "source": []
  },
  {
   "cell_type": "markdown",
   "id": "5ce14b97-b665-4e94-842b-356687623716",
   "metadata": {},
   "source": [
    "## 3.1 - Functional testing of Bmat_EP"
   ]
  },
  {
   "cell_type": "code",
   "execution_count": null,
   "id": "6cd1cf65-eace-4d3c-bb76-91269c08faab",
   "metadata": {},
   "outputs": [],
   "source": []
  },
  {
   "cell_type": "code",
   "execution_count": null,
   "id": "c46f56ca-13a8-4b29-9fec-c6832d80f458",
   "metadata": {},
   "outputs": [],
   "source": []
  },
  {
   "cell_type": "markdown",
   "id": "3cc8a385-e587-4e24-b7e5-84d509f0b242",
   "metadata": {},
   "source": [
    "# 4) BInvmat_EP"
   ]
  },
  {
   "cell_type": "code",
   "execution_count": null,
   "id": "9099a48e-3110-45ec-9085-3f90bad1571c",
   "metadata": {},
   "outputs": [],
   "source": []
  },
  {
   "cell_type": "markdown",
   "id": "9c783c5a-a80a-40c6-838f-351d70fa143a",
   "metadata": {},
   "source": [
    "## 4.1 - Functional testing of BInvmat_EP"
   ]
  },
  {
   "cell_type": "code",
   "execution_count": null,
   "id": "897f3cee-aed2-414d-8a61-cd13271307da",
   "metadata": {},
   "outputs": [],
   "source": []
  },
  {
   "cell_type": "code",
   "execution_count": null,
   "id": "2da03479-1dcc-4310-97a8-ad66602ceff1",
   "metadata": {},
   "outputs": [],
   "source": []
  },
  {
   "cell_type": "code",
   "execution_count": null,
   "id": "c7643ca8-8c21-4f83-b5c9-ffbc800a194e",
   "metadata": {},
   "outputs": [],
   "source": []
  }
 ],
 "metadata": {
  "kernelspec": {
   "display_name": "Python 3 (ipykernel)",
   "language": "python",
   "name": "python3"
  },
  "language_info": {
   "codemirror_mode": {
    "name": "ipython",
    "version": 3
   },
   "file_extension": ".py",
   "mimetype": "text/x-python",
   "name": "python",
   "nbconvert_exporter": "python",
   "pygments_lexer": "ipython3",
   "version": "3.11.9"
  }
 },
 "nbformat": 4,
 "nbformat_minor": 5
}
