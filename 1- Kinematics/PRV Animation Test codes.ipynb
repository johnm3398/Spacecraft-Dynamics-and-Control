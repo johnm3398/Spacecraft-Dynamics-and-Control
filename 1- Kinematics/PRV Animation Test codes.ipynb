{
 "cells": [
  {
   "cell_type": "code",
   "execution_count": 1,
   "id": "4052b30c-5009-4147-aaea-586a9e4978e9",
   "metadata": {},
   "outputs": [],
   "source": [
    "import numpy as np\n",
    "import plotly.graph_objects as go\n",
    "\n"
   ]
  },
  {
   "cell_type": "code",
   "execution_count": 2,
   "id": "0d857aca-f3db-405a-96a5-87cf458dba96",
   "metadata": {},
   "outputs": [],
   "source": [
    "def rotation_matrix_x(phi):\n",
    "    \"\"\"Generate rotation matrix for a roll (rotation about the x-axis)\"\"\"\n",
    "    phi = (phi / 180) * np.pi\n",
    "    c, s = np.cos(phi), np.sin(phi)\n",
    "    return np.array([[1, 0, 0], \n",
    "                     [0, c, -s], \n",
    "                     [0, s, c]])\n",
    "\n",
    "def rotation_matrix_y(theta):\n",
    "    \"\"\"Generate rotation matrix for a pitch (rotation about the y-axis)\"\"\"\n",
    "    theta = (theta / 180) * np.pi\n",
    "    c, s = np.cos(theta), np.sin(theta)\n",
    "    return np.array([[c, 0, s], \n",
    "                     [0, 1, 0], \n",
    "                     [-s, 0, c]])\n",
    "\n",
    "def rotation_matrix_z(psi):\n",
    "    \"\"\"Generate rotation matrix for a yaw (rotation about the z-axis)\"\"\"\n",
    "    psi = (psi / 180) * np.pi\n",
    "    c, s = np.cos(psi), np.sin(psi)\n",
    "    return np.array([[c, -s, 0], \n",
    "                     [s, c, 0], \n",
    "                     [0, 0, 1]])"
   ]
  },
  {
   "cell_type": "code",
   "execution_count": 3,
   "id": "abb32757-eebd-4678-8ad0-6ee80b31cfe5",
   "metadata": {},
   "outputs": [],
   "source": [
    "def rotation_matrix_to_prv(C):\n",
    "    \"\"\"\n",
    "    Converts a rotation matrix to a Principal Rotation Vector (PRV).\n",
    "\n",
    "    Args:\n",
    "        C (np.array): A 3x3 rotation matrix.\n",
    "\n",
    "    Returns:\n",
    "        tuple: A PRV represented as (e_vector, phi_angle).\n",
    "    \"\"\"\n",
    "    # Compute the angle phi from the trace of the rotation matrix\n",
    "    trace_C = np.trace(C)\n",
    "    phi = np.arccos((trace_C - 1) / 2)\n",
    "    \n",
    "    # Handle edge cases where phi is 0 or π\n",
    "    if np.isclose(phi, 0) or np.isclose(phi, np.pi):\n",
    "        \n",
    "        # For phi=0, no rotation, the axis can be arbitrary, choose x-axis for simplicity\n",
    "        # For phi=π, rotation by 180 degrees, find axis by identifying non-zero component\n",
    "        e = np.array([1, 0, 0])  # Arbitrary axis, could also check for non-diagonal elements\n",
    "    \n",
    "    else:\n",
    "        # Compute the unit vector e from the off-diagonal elements of the matrix C\n",
    "        e = (1 / (2 * np.sin(phi))) * np.array([C[1, 2] - C[2, 1],\n",
    "                                                C[2, 0] - C[0, 2],\n",
    "                                                C[0, 1] - C[1, 0]])\n",
    "        # Normalize the unit vector to ensure it's a valid unit vector\n",
    "        e /= np.linalg.norm(e)\n",
    "\n",
    "    # Ensure the angle phi is in the range [0, 2*pi)\n",
    "    phi = np.mod(phi, 2 * np.pi)\n",
    "\n",
    "    return e, phi"
   ]
  },
  {
   "cell_type": "code",
   "execution_count": 4,
   "id": "c77fdd82-e80b-4bfd-a0a4-7fdbac6b2e9f",
   "metadata": {},
   "outputs": [],
   "source": [
    "def prv_to_rotation_matrix(e, phi_deg):\n",
    "    \"\"\"\n",
    "    Converts a Principal Rotation Vector (PRV) to a rotation matrix.\n",
    "\n",
    "    Args:\n",
    "        e (np.array)   : The unit vector of the PRV.\n",
    "        phi_deg (float): The rotation angle of the PRV in degrees.\n",
    "\n",
    "    Returns:\n",
    "        np.array: A 3x3 rotation matrix.\n",
    "    \"\"\"\n",
    "    # Convert the angle from degrees to radians\n",
    "    phi_rad = np.radians(phi_deg)\n",
    "    \n",
    "    # Calculate the cosine and sine of the angle\n",
    "    c_phi = np.cos(phi_rad)\n",
    "    s_phi = np.sin(phi_rad)\n",
    "    \n",
    "    # Calculate the matrix Sigma\n",
    "    Sigma = 1 - c_phi\n",
    "\n",
    "    # Ensure e is a float array to avoid UFuncTypeError during in-place operations\n",
    "    e = np.array(e, dtype=float)\n",
    "    \n",
    "    # Normalize e vector to ensure it's a valid unit vector\n",
    "    e /= np.linalg.norm(e)\n",
    "    \n",
    "    # Decompose the unit vector into its components\n",
    "    e1, e2, e3 = e\n",
    "    \n",
    "    # Construct the rotation matrix using the given formula\n",
    "    C = np.array([[((e1**2)*Sigma + c_phi), (e1*e2*Sigma + e3*s_phi), (e1*e3*Sigma - e2*s_phi)],\n",
    "                  [(e2*e1*Sigma - e3*s_phi), ((e2**2)*Sigma + c_phi), (e2*e3*Sigma + e1*s_phi)],\n",
    "                  [(e3*e1*Sigma + e2*s_phi), (e3*e2*Sigma - e1*s_phi), ((e3**2)*Sigma + c_phi)]])\n",
    "\n",
    "    return C"
   ]
  },
  {
   "cell_type": "code",
   "execution_count": 5,
   "id": "849b0b26-5b7c-4cc2-902a-41eb5732ff7f",
   "metadata": {},
   "outputs": [],
   "source": [
    "def initialize_frame(fig, frame_matrix, frame_label, colors, is_static=False):\n",
    "    \"\"\"\n",
    "    Initializes vectors on the provided figure as either static or dynamic using a color dictionary.\n",
    "\n",
    "    Args:\n",
    "        fig (plotly.graph_objects.Figure) : The figure on which to add the frames.\n",
    "        frame_matrix (np.ndarray)         : The matrix representing the orientation of the frame.\n",
    "        frame_label (str)                 : Base label for the frame vectors ('N' for N-frame, 'E' for E-frame).\n",
    "        colors (dict)                     : Dictionary of colors for each vector, keyed by 'i', 'j', 'k'.\n",
    "        is_static (bool)                  : Indicates whether the frame should be added as static (with dotted lines).\n",
    "        \n",
    "    Note:\n",
    "    - This function modifies the 'fig' (Figure object) directly. \n",
    "      In Python, objects like lists, dictionaries, and classes such as plotly.graph_objects.Figure are mutable. \n",
    "      This means they can be changed after creation. \n",
    "      `initialize_frame` leverages this by adding traces directly to 'fig', thus altering its state without the need to return a new object.\n",
    "    \n",
    "    - The function operates with a side effect: it changes the state of 'fig' by adding traces. \n",
    "      It does not return a value because its primary purpose is to modify the existing figure, not produce a new output. \n",
    "      This approach avoids the need for managing a return value, simplifying its usage and integration into other parts of your code.\n",
    "    \n",
    "    - By not returning a value, it is evident that the function's sole responsibility is to modify the provided figure, \n",
    "      aligning with typical practices in Plotly where in-place modifications are common for updating visual properties.\n",
    "\n",
    "    \"\"\"\n",
    "    \n",
    "    line_style = 'dot' if is_static else 'solid'\n",
    "    \n",
    "    suffix = \" (static)\" if is_static else \"\"\n",
    "    \n",
    "    axis_labels = ['i', 'j', 'k']  # Axis labels corresponding to 'i', 'j', 'k'\n",
    "\n",
    "    for i, axis in enumerate(axis_labels):\n",
    "        vec = frame_matrix[:, i]\n",
    "        name = f'{frame_label}_{axis}{suffix}'\n",
    "        color = colors[axis]  # Access color using axis label as key\n",
    "        fig.add_trace(go.Scatter3d(x=[0, vec[0]], \n",
    "                                   y=[0, vec[1]], \n",
    "                                   z=[0, vec[2]],\n",
    "                                   mode='lines+markers', \n",
    "                                   name=name,\n",
    "                                   marker=dict(color=color),\n",
    "                                   line=dict(dash=line_style, color=color)))"
   ]
  },
  {
   "cell_type": "code",
   "execution_count": 6,
   "id": "e649c956-fe6e-4a1a-ba8f-4fe83da900d5",
   "metadata": {},
   "outputs": [],
   "source": [
    "def setup_animation_scene(fig, frames, title):\n",
    "    \"\"\"\n",
    "    Adds animation controls and configures layout settings for a Plotly figure.\n",
    "\n",
    "    Args:\n",
    "        fig (plotly.graph_objects.Figure): The figure to which the controls will be added.\n",
    "        frames (list): List of animation frames to be included in the slider control.\n",
    "\n",
    "    Note:\n",
    "    - Animation Controls: This function sets up interactive controls that allow users to play through or step through the animation frames at their own pace. \n",
    "                          The 'Play' button starts the animation, while the slider allows users to jump to specific points in the animation.\n",
    "    \n",
    "    - Button Configuration: The 'Play' button is configured to start the animation immediately when clicked, using the 'immediate' mode. \n",
    "                            It ensures that the animation runs smoothly, redrawing each frame with a duration of 100 milliseconds.\n",
    "    \n",
    "    - Slider Mechanism: The slider below the animation includes steps corresponding to each frame created in the animation sequence. \n",
    "                        Users can move the slider to navigate to different frames, which is particularly useful for examining specific moments of the animation in detail.\n",
    "    \n",
    "    - Current Value Display: The slider also shows the current frame number as the animation plays, \n",
    "                             providing immediate visual feedback to users on their current position within the animation sequence.\n",
    "    \n",
    "    - Layout Configuration: The function also defines the visual layout of the 3D scene. \n",
    "                            It sets a fixed cube aspect for the axes to ensure that objects in the 3D space are displayed proportionally. \n",
    "                            The axes are configured to not auto-scale, maintaining consistent spatial references.\n",
    "    \n",
    "    - Scene Dimensions: The overall dimensions of the figure are set to ensure sufficient space for viewing the animation comfortably, enhancing the visual experience for the user.\n",
    "    \n",
    "    - Usability and Interactivity: By integrating these controls, the function enhances the usability and interactivity of the visualization, \n",
    "                                   making it a more effective tool for presentations or educational purposes where step-by-step analysis of movements is beneficial.\n",
    "\n",
    "    \"\"\"\n",
    "    # Update the figure with animation controls\n",
    "    fig.update_layout(updatemenus=[{\"type\": \"buttons\",\n",
    "                                    \"showactive\": False,\n",
    "                                    \"y\": 1.05,\n",
    "                                    \"x\": 0.8,\n",
    "                                    \"xanchor\": 'left',\n",
    "                                    \"yanchor\": 'bottom',\n",
    "                                    \"buttons\": [{\"label\": 'Play',\n",
    "                                                 \"method\": 'animate',\n",
    "                                                 \"args\": [None, {\"frame\": {\"duration\": 100, \"redraw\": True},\n",
    "                                                                 \"fromcurrent\": True,\n",
    "                                                                 \"mode\": 'immediate'}]}]}],\n",
    "                      sliders=[{\"steps\": [{\"method\": 'animate',\n",
    "                                           \"args\": [[f.name], {\"mode\": 'immediate', \n",
    "                                                               \"frame\": {\"duration\": 100, \"redraw\": True},\n",
    "                                                               \"fromcurrent\": True}],\n",
    "                                           \"label\": str(k)} for k, f in enumerate(frames)],\n",
    "                                \"x\": 0.1,\n",
    "                                \"y\": 0,\n",
    "                                \"currentvalue\": {\"visible\": True, \"prefix\": 'Step: '}}])\n",
    "\n",
    "    # Set additional layout settings for the 3D scene\n",
    "    fig.update_layout(width=1000,\n",
    "                      height=800,\n",
    "                      template='presentation',\n",
    "                      scene={\"aspectmode\": 'cube',\n",
    "                             \"xaxis\": {\"range\": [-2, 2], \"autorange\": False},\n",
    "                             \"yaxis\": {\"range\": [-2, 2], \"autorange\": False},\n",
    "                             \"zaxis\": {\"range\": [-2, 2], \"autorange\": False}},\n",
    "                      title=f'{title}')"
   ]
  },
  {
   "cell_type": "code",
   "execution_count": null,
   "id": "f729ca94-6cb3-4cd1-883c-88e07f06bff2",
   "metadata": {},
   "outputs": [],
   "source": []
  },
  {
   "cell_type": "code",
   "execution_count": 18,
   "id": "9249c08b-7def-4369-a494-ab18dd4aa25b",
   "metadata": {},
   "outputs": [
    {
     "name": "stdout",
     "output_type": "stream",
     "text": [
      "DCM:\n",
      "[[ 0.5952381   0.37945843 -0.7083099 ]\n",
      " [ 0.00149395  0.88095238  0.47320257]\n",
      " [ 0.80354799 -0.28272638  0.52380952]]\n"
     ]
    },
    {
     "data": {
      "application/vnd.plotly.v1+json": {
       "config": {
        "plotlyServerURL": "https://plot.ly"
       },
       "data": [
        {
         "line": {
          "color": "red",
          "dash": "dot"
         },
         "marker": {
          "color": "red"
         },
         "mode": "lines+markers",
         "name": "N_i (static)",
         "type": "scatter3d",
         "x": [
          0,
          1
         ],
         "y": [
          0,
          0
         ],
         "z": [
          0,
          0
         ]
        },
        {
         "line": {
          "color": "green",
          "dash": "dot"
         },
         "marker": {
          "color": "green"
         },
         "mode": "lines+markers",
         "name": "N_j (static)",
         "type": "scatter3d",
         "x": [
          0,
          0
         ],
         "y": [
          0,
          1
         ],
         "z": [
          0,
          0
         ]
        },
        {
         "line": {
          "color": "blue",
          "dash": "dot"
         },
         "marker": {
          "color": "blue"
         },
         "mode": "lines+markers",
         "name": "N_k (static)",
         "type": "scatter3d",
         "x": [
          0,
          0
         ],
         "y": [
          0,
          0
         ],
         "z": [
          0,
          1
         ]
        },
        {
         "line": {
          "color": "red",
          "dash": "solid"
         },
         "marker": {
          "color": "red"
         },
         "mode": "lines+markers",
         "name": "E_i",
         "type": "scatter3d",
         "x": [
          0,
          0.8915443744921647
         ],
         "y": [
          0,
          -0.058071003702544255
         ],
         "z": [
          0,
          0.4491952658258477
         ]
        },
        {
         "line": {
          "color": "green",
          "dash": "solid"
         },
         "marker": {
          "color": "green"
         },
         "mode": "lines+markers",
         "name": "E_j",
         "type": "scatter3d",
         "x": [
          0,
          0.1601468865334481
         ],
         "y": [
          0,
          0.9681012866153426
         ],
         "z": [
          0,
          -0.1926989195282664
         ]
        },
        {
         "line": {
          "color": "blue",
          "dash": "solid"
         },
         "marker": {
          "color": "blue"
         },
         "mode": "lines+markers",
         "name": "E_k",
         "type": "scatter3d",
         "x": [
          0,
          -0.42367629511812177
         ],
         "y": [
          0,
          0.24373686094371833
         ],
         "z": [
          0,
          0.8724051464613702
         ]
        },
        {
         "hoverinfo": "text+name",
         "line": {
          "color": "purple",
          "width": 5
         },
         "mode": "lines+markers",
         "name": "Rotation Axis",
         "text": "x: 1.00<br>y: 2.00<br>z: 0.50<br>Norm: 2.29",
         "type": "scatter3d",
         "x": [
          0,
          1
         ],
         "y": [
          0,
          2
         ],
         "z": [
          0,
          0.5
         ]
        }
       ],
       "frames": [
        {
         "data": [
          {
           "marker": {
            "color": "red"
           },
           "mode": "lines+markers",
           "name": "E_i",
           "type": "scatter3d",
           "x": [
            0,
            1
           ],
           "y": [
            0,
            0
           ],
           "z": [
            0,
            0
           ]
          },
          {
           "marker": {
            "color": "green"
           },
           "mode": "lines+markers",
           "name": "E_j",
           "type": "scatter3d",
           "x": [
            0,
            0
           ],
           "y": [
            0,
            1
           ],
           "z": [
            0,
            0
           ]
          },
          {
           "marker": {
            "color": "blue"
           },
           "mode": "lines+markers",
           "name": "E_k",
           "type": "scatter3d",
           "x": [
            0,
            0
           ],
           "y": [
            0,
            0
           ],
           "z": [
            0,
            1
           ]
          }
         ],
         "name": "0",
         "traces": [
          3,
          4,
          5
         ]
        },
        {
         "data": [
          {
           "marker": {
            "color": "red"
           },
           "mode": "lines+markers",
           "name": "E_i",
           "type": "scatter3d",
           "x": [
            0,
            0.9995068599678394
           ],
           "y": [
            0,
            -0.007383628643230406
           ],
           "z": [
            0,
            0.03052079463724277
           ]
          },
          {
           "marker": {
            "color": "green"
           },
           "mode": "lines+markers",
           "name": "E_j",
           "type": "scatter3d",
           "x": [
            0,
            0.007847760438205063
           ],
           "y": [
            0,
            0.9998549588140704
           ],
           "z": [
            0,
            -0.015115356132691805
           ]
          },
          {
           "marker": {
            "color": "blue"
           },
           "mode": "lines+markers",
           "name": "E_k",
           "type": "scatter3d",
           "x": [
            0,
            -0.030404761688499107
           ],
           "y": [
            0,
            0.015347422030179133
           ],
           "z": [
            0,
            0.9994198352562816
           ]
          }
         ],
         "name": "1",
         "traces": [
          3,
          4,
          5
         ]
        },
        {
         "data": [
          {
           "marker": {
            "color": "red"
           },
           "mode": "lines+markers",
           "name": "E_i",
           "type": "scatter3d",
           "x": [
            0,
            0.9980280406865244
           ],
           "y": [
            0,
            -0.014294129677345115
           ],
           "z": [
            0,
            0.06112043733633176
           ]
          },
          {
           "marker": {
            "color": "green"
           },
           "mode": "lines+markers",
           "name": "E_j",
           "type": "scatter3d",
           "x": [
            0,
            0.016150091384145727
           ],
           "y": [
            0,
            0.9994200119666248
           ],
           "z": [
            0,
            -0.02998023063479069
           ]
          },
          {
           "marker": {
            "color": "blue"
           },
           "mode": "lines+markers",
           "name": "E_k",
           "type": "scatter3d",
           "x": [
            0,
            -0.0606564469096316
           ],
           "y": [
            0,
            0.030908211488190993
           ],
           "z": [
            0,
            0.9976800478664992
           ]
          }
         ],
         "name": "2",
         "traces": [
          3,
          4,
          5
         ]
        },
        {
         "data": [
          {
           "marker": {
            "color": "red"
           },
           "mode": "lines+markers",
           "name": "E_i",
           "type": "scatter3d",
           "x": [
            0,
            0.9955653438695545
           ],
           "y": [
            0,
            -0.020723083721315212
           ],
           "z": [
            0,
            0.0917616471461517
           ]
          },
          {
           "marker": {
            "color": "green"
           },
           "mode": "lines+markers",
           "name": "E_j",
           "type": "scatter3d",
           "x": [
            0,
            0.024896877726440322
           ],
           "y": [
            0,
            0.9986956893733984
           ],
           "z": [
            0,
            -0.04457651294647426
           ]
          },
          {
           "marker": {
            "color": "blue"
           },
           "mode": "lines+markers",
           "name": "E_k",
           "type": "scatter3d",
           "x": [
            0,
            -0.09071819864487043
           ],
           "y": [
            0,
            0.04666340994903681
           ],
           "z": [
            0,
            0.9947827574935936
           ]
          }
         ],
         "name": "3",
         "traces": [
          3,
          4,
          5
         ]
        },
        {
         "data": [
          {
           "marker": {
            "color": "red"
           },
           "mode": "lines+markers",
           "name": "E_i",
           "type": "scatter3d",
           "x": [
            0,
            0.9921217699336522
           ],
           "y": [
            0,
            -0.026662658084942576
           ],
           "z": [
            0,
            0.12240709247246591
           ]
          },
          {
           "marker": {
            "color": "green"
           },
           "mode": "lines+markers",
           "name": "E_j",
           "type": "scatter3d",
           "x": [
            0,
            0.03407746285326992
           ],
           "y": [
            0,
            0.9976828735098977
           ],
           "z": [
            0,
            -0.05888641974613066
           ]
          },
          {
           "marker": {
            "color": "blue"
           },
           "mode": "lines+markers",
           "name": "E_k",
           "type": "scatter3d",
           "x": [
            0,
            -0.12055339128038407
           ],
           "y": [
            0,
            0.06259382213029434
           ],
           "z": [
            0,
            0.9907314940395908
           ]
          }
         ],
         "name": "4",
         "traces": [
          3,
          4,
          5
         ]
        },
        {
         "data": [
          {
           "marker": {
            "color": "red"
           },
           "mode": "lines+markers",
           "name": "E_i",
           "type": "scatter3d",
           "x": [
            0,
            0.9877015143432161
           ],
           "y": [
            0,
            -0.032105616311786316
           ],
           "z": [
            0,
            0.15301943656071323
           ]
          },
          {
           "marker": {
            "color": "green"
           },
           "mode": "lines+markers",
           "name": "E_j",
           "type": "scatter3d",
           "x": [
            0,
            0.0436806616358183
           ],
           "y": [
            0,
            0.99638279833624
           ],
           "z": [
            0,
            -0.07289251661659663
           ]
          },
          {
           "marker": {
            "color": "blue"
           },
           "mode": "lines+markers",
           "name": "E_k",
           "type": "scatter3d",
           "x": [
            0,
            -0.15012567522970524
           ],
           "y": [
            0,
            0.07868003927861261
           ],
           "z": [
            0,
            0.98553119334496
           ]
          }
         ],
         "name": "5",
         "traces": [
          3,
          4,
          5
         ]
        },
        {
         "data": [
          {
           "marker": {
            "color": "red"
           },
           "mode": "lines+markers",
           "name": "E_i",
           "type": "scatter3d",
           "x": [
            0,
            0.9823099624987951
           ],
           "y": [
            0,
            -0.037045326995670605
           ],
           "z": [
            0,
            0.18356138298509228
           ]
          },
          {
           "marker": {
            "color": "green"
           },
           "mode": "lines+markers",
           "name": "E_j",
           "type": "scatter3d",
           "x": [
            0,
            0.05369477405562818
           ],
           "y": [
            0,
            0.9947970477937632
           ],
           "z": [
            0,
            -0.0865777392863094
           ]
          },
          {
           "marker": {
            "color": "blue"
           },
           "mode": "lines+markers",
           "name": "E_k",
           "type": "scatter3d",
           "x": [
            0,
            -0.17939902122010287
           ],
           "y": [
            0,
            0.09490246281628818
           ],
           "z": [
            0,
            0.9791881911750531
           ]
          }
         ],
         "name": "6",
         "traces": [
          3,
          4,
          5
         ]
        },
        {
         "data": [
          {
           "marker": {
            "color": "red"
           },
           "mode": "lines+markers",
           "name": "E_i",
           "type": "scatter3d",
           "x": [
            0,
            0.9759536831758067
           ],
           "y": [
            0,
            -0.04147577186003111
           ],
           "z": [
            0,
            0.21399572108851111
           ]
          },
          {
           "marker": {
            "color": "green"
           },
           "mode": "lines+markers",
           "name": "E_j",
           "type": "scatter3d",
           "x": [
            0,
            0.0641075994592719
           ],
           "y": [
            0,
            0.9929275538752372
           ],
           "z": [
            0,
            -0.09992541441949282
           ]
          },
          {
           "marker": {
            "color": "blue"
           },
           "mode": "lines+markers",
           "name": "E_k",
           "type": "scatter3d",
           "x": [
            0,
            -0.20833776418870092
           ],
           "y": [
            0,
            0.1112413282191132
           ],
           "z": [
            0,
            0.971710215500949
           ]
          }
         ],
         "name": "7",
         "traces": [
          3,
          4,
          5
         ]
        },
        {
         "data": [
          {
           "marker": {
            "color": "red"
           },
           "mode": "lines+markers",
           "name": "E_i",
           "type": "scatter3d",
           "x": [
            0,
            0.9686404205214962
           ],
           "y": [
            0,
            -0.04539155309025839
           ],
           "z": [
            0,
            0.24428537131804107
           ]
          },
          {
           "marker": {
            "color": "green"
           },
           "mode": "lines+markers",
           "name": "E_j",
           "type": "scatter3d",
           "x": [
            0,
            0.07490645142296781
           ],
           "y": [
            0,
            0.9907765942710283
           ],
           "z": [
            0,
            -0.11291927993004884
           ]
          },
          {
           "marker": {
            "color": "blue"
           },
           "mode": "lines+markers",
           "name": "E_k",
           "type": "scatter3d",
           "x": [
            0,
            -0.23690664673486372
           ],
           "y": [
            0,
            0.12767672909640354
           ],
           "z": [
            0,
            0.9631063770841133
           ]
          }
         ],
         "name": "8",
         "traces": [
          3,
          4,
          5
         ]
        },
        {
         "data": [
          {
           "marker": {
            "color": "red"
           },
           "mode": "lines+markers",
           "name": "E_i",
           "type": "scatter3d",
           "x": [
            0,
            0.9603790846198862
           ],
           "y": [
            0,
            -0.048787899910103225
           ],
           "z": [
            0,
            0.2743934304006405
           ]
          },
          {
           "marker": {
            "color": "green"
           },
           "mode": "lines+markers",
           "name": "E_j",
           "type": "scatter3d",
           "x": [
            0,
            0.08607817320903387
           ],
           "y": [
            0,
            0.9883467895940842
           ],
           "z": [
            0,
            -0.12554350479440443
           ]
          },
          {
           "marker": {
            "color": "blue"
           },
           "mode": "lines+markers",
           "name": "E_k",
           "type": "scatter3d",
           "x": [
            0,
            -0.26507086207590785
           ],
           "y": [
            0,
            0.14418864144386975
           ],
           "z": [
            0,
            0.9533871583763367
           ]
          }
         ],
         "name": "9",
         "traces": [
          3,
          4,
          5
         ]
        },
        {
         "data": [
          {
           "marker": {
            "color": "red"
           },
           "mode": "lines+markers",
           "name": "E_i",
           "type": "scatter3d",
           "x": [
            0,
            0.9511797406362116
           ],
           "y": [
            0,
            -0.05166067439413284
           ],
           "z": [
            0,
            0.3042832163041082
           ]
          },
          {
           "marker": {
            "color": "green"
           },
           "mode": "lines+markers",
           "name": "E_j",
           "type": "scatter3d",
           "x": [
            0,
            0.09760915379534547
           ],
           "y": [
            0,
            0.985641100187121
           ],
           "z": [
            0,
            -0.13778270833917516
           ]
          },
          {
           "marker": {
            "color": "blue"
           },
           "mode": "lines+markers",
           "name": "E_k",
           "type": "scatter3d",
           "x": [
            0,
            -0.29279609645380505
           ],
           "y": [
            0,
            0.16075694803978147
           ],
           "z": [
            0,
            0.9425644007484842
           ]
          }
         ],
         "name": "10",
         "traces": [
          3,
          4,
          5
         ]
        },
        {
         "data": [
          {
           "marker": {
            "color": "red"
           },
           "mode": "lines+markers",
           "name": "E_i",
           "type": "scatter3d",
           "x": [
            0,
            0.9410535965540661
           ],
           "y": [
            0,
            -0.054006376509155345
           ],
           "z": [
            0,
            0.3339183129284894
           ]
          },
          {
           "marker": {
            "color": "green"
           },
           "mode": "lines+markers",
           "name": "E_j",
           "type": "scatter3d",
           "x": [
            0,
            0.10948534445826968
           ],
           "y": [
            0,
            0.9826628225159018
           ],
           "z": [
            0,
            -0.14962197898014645
           ]
          },
          {
           "marker": {
            "color": "blue"
           },
           "mode": "lines+markers",
           "name": "E_k",
           "type": "scatter3d",
           "x": [
            0,
            -0.32004857094121075
           ],
           "y": [
            0,
            0.17736146295470362
           ],
           "z": [
            0,
            0.930651290063607
           ]
          }
         ],
         "name": "11",
         "traces": [
          3,
          4,
          5
         ]
        },
        {
         "data": [
          {
           "marker": {
            "color": "red"
           },
           "mode": "lines+markers",
           "name": "E_i",
           "type": "scatter3d",
           "x": [
            0,
            0.9300129895202007
           ],
           "y": [
            0,
            -0.055822148378471305
           ],
           "z": [
            0,
            0.36326261447348385
           ]
          },
          {
           "marker": {
            "color": "green"
           },
           "mode": "lines+markers",
           "name": "E_j",
           "type": "scatter3d",
           "x": [
            0,
            0.12169227588887066
           ],
           "y": [
            0,
            0.9794155851530002
           ],
           "z": [
            0,
            -0.16104689238974212
           ]
          },
          {
           "marker": {
            "color": "blue"
           },
           "mode": "lines+markers",
           "name": "E_k",
           "type": "scatter3d",
           "x": [
            0,
            -0.346795082595884
           ],
           "y": [
            0,
            0.1939819561449418
           ],
           "z": [
            0,
            0.9176623406120008
           ]
          }
         ],
         "name": "12",
         "traces": [
          3,
          4,
          5
         ]
        },
        {
         "data": [
          {
           "marker": {
            "color": "red"
           },
           "mode": "lines+markers",
           "name": "E_i",
           "type": "scatter3d",
           "x": [
            0,
            0.9180713708136115
           ],
           "y": [
            0,
            -0.05710577776375625
           ],
           "z": [
            0,
            0.3922803694278022
           ]
          },
          {
           "marker": {
            "color": "green"
           },
           "mode": "lines+markers",
           "name": "E_j",
           "type": "scatter3d",
           "x": [
            0,
            0.13421507582153375
           ],
           "y": [
            0,
            0.9759033443569445
           ],
           "z": [
            0,
            -0.17204352907084564
           ]
          },
          {
           "marker": {
            "color": "blue"
           },
           "mode": "lines+markers",
           "name": "E_k",
           "type": "scatter3d",
           "x": [
            0,
            -0.3730030449133578
           ],
           "y": [
            0,
            0.21059817809973436
           ],
           "z": [
            0,
            0.9036133774277781
           ]
          }
         ],
         "name": "13",
         "traces": [
          3,
          4,
          5
         ]
        },
        {
         "data": [
          {
           "marker": {
            "color": "red"
           },
           "mode": "lines+markers",
           "name": "E_i",
           "type": "scatter3d",
           "x": [
            0,
            0.9052432894572267
           ],
           "y": [
            0,
            -0.057855700760332085
           ],
           "z": [
            0,
            0.42093622412687515
           ]
          },
          {
           "marker": {
            "color": "green"
           },
           "mode": "lines+markers",
           "name": "E_j",
           "type": "scatter3d",
           "x": [
            0,
            0.14703848715353057
           ],
           "y": [
            0,
            0.9721303792521254
           ],
           "z": [
            0,
            -0.18259849131556305
           ]
          },
          {
           "marker": {
            "color": "blue"
           },
           "mode": "lines+markers",
           "name": "E_k",
           "type": "scatter3d",
           "x": [
            0,
            -0.3986405275285755
           ],
           "y": [
            0,
            0.22718988451216227
           ],
           "z": [
            0,
            0.8885215170085019
           ]
          }
         ],
         "name": "14",
         "traces": [
          3,
          4,
          5
         ]
        },
        {
         "data": [
          {
           "marker": {
            "color": "red"
           },
           "mode": "lines+markers",
           "name": "E_i",
           "type": "scatter3d",
           "x": [
            0,
            0.8915443744921647
           ],
           "y": [
            0,
            -0.058071003702544255
           ],
           "z": [
            0,
            0.4491952658258477
           ]
          },
          {
           "marker": {
            "color": "green"
           },
           "mode": "lines+markers",
           "name": "E_j",
           "type": "scatter3d",
           "x": [
            0,
            0.1601468865334481
           ],
           "y": [
            0,
            0.9681012866153426
           ],
           "z": [
            0,
            -0.1926989195282664
           ]
          },
          {
           "marker": {
            "color": "blue"
           },
           "mode": "lines+markers",
           "name": "E_k",
           "type": "scatter3d",
           "x": [
            0,
            -0.42367629511812177
           ],
           "y": [
            0,
            0.24373686094371833
           ],
           "z": [
            0,
            0.8724051464613702
           ]
          }
         ],
         "name": "15",
         "traces": [
          3,
          4,
          5
         ]
        },
        {
         "data": [
          {
           "marker": {
            "color": "red"
           },
           "mode": "lines+markers",
           "name": "E_i",
           "type": "scatter3d",
           "x": [
            0,
            0.8769913159361543
           ],
           "y": [
            0,
            -0.057751424276922564
           ],
           "z": [
            0,
            0.47702306523538157
           ]
          },
          {
           "marker": {
            "color": "green"
           },
           "mode": "lines+markers",
           "name": "E_j",
           "type": "scatter3d",
           "x": [
            0,
            0.17352430339583613
           ],
           "y": [
            0,
            0.9638209752753395
           ],
           "z": [
            0,
            -0.2023325078930303
           ]
          },
          {
           "marker": {
            "color": "blue"
           },
           "mode": "lines+markers",
           "name": "E_k",
           "type": "scatter3d",
           "x": [
            0,
            -0.4480798454556532
           ],
           "y": [
            0,
            0.2602189474524871
           ],
           "z": [
            0,
            0.8552839011013581
           ]
          }
         ],
         "name": "16",
         "traces": [
          3,
          4,
          5
         ]
        },
        {
         "data": [
          {
           "marker": {
            "color": "red"
           },
           "mode": "lines+markers",
           "name": "E_i",
           "type": "scatter3d",
           "x": [
            0,
            0.8616018444493195
           ],
           "y": [
            0,
            -0.056897351841769805
           ],
           "z": [
            0,
            0.5043857184684403
           ]
          },
          {
           "marker": {
            "color": "green"
           },
           "mode": "lines+markers",
           "name": "E_j",
           "type": "scatter3d",
           "x": [
            0,
            0.18715443941888088
           ],
           "y": [
            0,
            0.9592946601321528
           ],
           "z": [
            0,
            -0.21148751936637292
           ]
          },
          {
           "marker": {
            "color": "blue"
           },
           "mode": "lines+markers",
           "name": "E_k",
           "type": "scatter3d",
           "x": [
            0,
            -0.4718214465741625
           ],
           "y": [
            0,
            0.2766160631549285
           ],
           "z": [
            0,
            0.8371786405286111
           ]
          }
         ],
         "name": "17",
         "traces": [
          3,
          4,
          5
         ]
        },
        {
         "data": [
          {
           "marker": {
            "color": "red"
           },
           "mode": "lines+markers",
           "name": "E_i",
           "type": "scatter3d",
           "x": [
            0,
            0.8453947097321003
           ],
           "y": [
            0,
            -0.05550982695278825
           ],
           "z": [
            0,
            0.5312498883469524
           ]
          },
          {
           "marker": {
            "color": "green"
           },
           "mode": "lines+markers",
           "name": "E_j",
           "type": "scatter3d",
           "x": [
            0,
            0.20102068838139972
           ],
           "y": [
            0,
            0.9545278558035589
           ],
           "z": [
            0,
            -0.2201527999770351
           ]
          },
          {
           "marker": {
            "color": "blue"
           },
           "mode": "lines+markers",
           "name": "E_k",
           "type": "scatter3d",
           "x": [
            0,
            -0.4948721729897995
           ],
           "y": [
            0,
            0.29290823069134087
           ],
           "z": [
            0,
            0.8181114232142357
           ]
          }
         ],
         "name": "18",
         "traces": [
          3,
          4,
          5
         ]
        },
        {
         "data": [
          {
           "marker": {
            "color": "red"
           },
           "mode": "lines+markers",
           "name": "E_i",
           "type": "scatter3d",
           "x": [
            0,
            0.828389657681632
           ],
           "y": [
            0,
            -0.053590540095323394
           ],
           "z": [
            0,
            0.5575828450180296
           ]
          },
          {
           "marker": {
            "color": "green"
           },
           "mode": "lines+markers",
           "name": "E_j",
           "type": "scatter3d",
           "x": [
            0,
            0.2151061563949639
           ],
           "y": [
            0,
            0.9495263699063624
           ],
           "z": [
            0,
            -0.22831779241537714
           ]
          },
          {
           "marker": {
            "color": "blue"
           },
           "mode": "lines+markers",
           "name": "E_k",
           "type": "scatter3d",
           "x": [
            0,
            -0.5172039409431195
           ],
           "y": [
            0,
            0.3090756005651974
           ],
           "z": [
            0,
            0.7981054796254494
           ]
          }
         ],
         "name": "19",
         "traces": [
          3,
          4,
          5
         ]
        },
        {
         "data": [
          {
           "marker": {
            "color": "red"
           },
           "mode": "lines+markers",
           "name": "E_i",
           "type": "scatter3d",
           "x": [
            0,
            0.8106074063344108
           ],
           "y": [
            0,
            -0.0511418296247676
           ],
           "z": [
            0,
            0.5833525058302489
           ]
          },
          {
           "marker": {
            "color": "green"
           },
           "mode": "lines+markers",
           "name": "E_j",
           "type": "scatter3d",
           "x": [
            0,
            0.22939368248649866
           ],
           "y": [
            0,
            0.9442962959807091
           ],
           "z": [
            0,
            -0.2359725488958335
           ]
          },
          {
           "marker": {
            "color": "blue"
           },
           "mode": "lines+markers",
           "name": "E_k",
           "type": "scatter3d",
           "x": [
            0,
            -0.5387895426148162
           ],
           "y": [
            0,
            0.325098475326699
           ],
           "z": [
            0,
            0.7771851839228362
           ]
          }
         ],
         "name": "20",
         "traces": [
          3,
          4,
          5
         ]
        },
        {
         "data": [
          {
           "marker": {
            "color": "red"
           },
           "mode": "lines+markers",
           "name": "E_i",
           "type": "scatter3d",
           "x": [
            0,
            0.7920696206245572
           ],
           "y": [
            0,
            -0.04816667891763436
           ],
           "z": [
            0,
            0.608527474421423
           ]
          },
          {
           "marker": {
            "color": "green"
           },
           "mode": "lines+markers",
           "name": "E_j",
           "type": "scatter3d",
           "x": [
            0,
            0.24386585950628636
           ],
           "y": [
            0,
            0.9388440060660462
           ],
           "z": [
            0,
            -0.24310774327675774
           ]
          },
          {
           "marker": {
            "color": "blue"
           },
           "mode": "lines+markers",
           "name": "E_k",
           "type": "scatter3d",
           "x": [
            0,
            -0.55960267927426
           ],
           "y": [
            0,
            0.34095733357108376
           ],
           "z": [
            0,
            0.755376024264185
           ]
          }
         ],
         "name": "21",
         "traces": [
          3,
          4,
          5
         ]
        },
        {
         "data": [
          {
           "marker": {
            "color": "red"
           },
           "mode": "lines+markers",
           "name": "E_i",
           "type": "scatter3d",
           "x": [
            0,
            0.7727988859884319
           ],
           "y": [
            0,
            -0.044668712736773336
           ],
           "z": [
            0,
            0.6330770789702296
           ]
          },
          {
           "marker": {
            "color": "green"
           },
           "mode": "lines+markers",
           "name": "E_j",
           "type": "scatter3d",
           "x": [
            0,
            0.2585050553358963
           ],
           "y": [
            0,
            0.9331761429377741
           ],
           "z": [
            0,
            -0.24971468242288886
           ]
          },
          {
           "marker": {
            "color": "blue"
           },
           "mode": "lines+markers",
           "name": "E_k",
           "type": "scatter3d",
           "x": [
            0,
            -0.5796179933204488
           ],
           "y": [
            0,
            0.35663285372245035
           ],
           "z": [
            0,
            0.7327045717510964
           ]
          }
         ],
         "name": "22",
         "traces": [
          3,
          4,
          5
         ]
        },
        {
         "data": [
          {
           "marker": {
            "color": "red"
           },
           "mode": "lines+markers",
           "name": "E_i",
           "type": "scatter3d",
           "x": [
            0,
            0.7528186808477597
           ],
           "y": [
            0,
            -0.04065219281515561
           ],
           "z": [
            0,
            0.6569714095651031
           ]
          },
          {
           "marker": {
            "color": "green"
           },
           "mode": "lines+markers",
           "name": "E_j",
           "type": "scatter3d",
           "x": [
            0,
            0.27329343437020537
           ],
           "y": [
            0,
            0.927299612014047
           ],
           "z": [
            0,
            -0.25578531679659855
           ]
          },
          {
           "marker": {
            "color": "blue"
           },
           "mode": "lines+markers",
           "name": "E_k",
           "type": "scatter3d",
           "x": [
            0,
            -0.5988110991763407
           ],
           "y": [
            0,
            0.37210593757412336
           ],
           "z": [
            0,
            0.7091984480561878
           ]
          }
         ],
         "name": "23",
         "traces": [
          3,
          4,
          5
         ]
        },
        {
         "data": [
          {
           "marker": {
            "color": "red"
           },
           "mode": "lines+markers",
           "name": "E_i",
           "type": "scatter3d",
           "x": [
            0,
            0.73215334800479
           ],
           "y": [
            0,
            -0.03612201266360818
           ],
           "z": [
            0,
            0.6801813546448527
           ]
          },
          {
           "marker": {
            "color": "green"
           },
           "mode": "lines+markers",
           "name": "E_j",
           "type": "scatter3d",
           "x": [
            0,
            0.28821297924733524
           ],
           "y": [
            0,
            0.9212215729425853
           ],
           "z": [
            0,
            -0.2613122502650117
           ]
          },
          {
           "marker": {
            "color": "blue"
           },
           "mode": "lines+markers",
           "name": "E_k",
           "type": "scatter3d",
           "x": [
            0,
            -0.617158612998921
           ],
           "y": [
            0,
            0.3873577335568752
           ],
           "z": [
            0,
            0.6848862917703412
           ]
          }
         ],
         "name": "24",
         "traces": [
          3,
          4,
          5
         ]
        },
        {
         "data": [
          {
           "marker": {
            "color": "red"
           },
           "mode": "lines+markers",
           "name": "E_i",
           "type": "scatter3d",
           "x": [
            0,
            0.7108280649843414
           ],
           "y": [
            0,
            -0.031083691608824987
           ],
           "z": [
            0,
            0.7026786364666172
           ]
          },
          {
           "marker": {
            "color": "green"
           },
           "mode": "lines+markers",
           "name": "E_j",
           "type": "scatter3d",
           "x": [
            0,
            0.3032455128000331
           ],
           "y": [
            0,
            0.9149494308777475
           ],
           "z": [
            0,
            -0.26628874911105604
           ]
          },
          {
           "marker": {
            "color": "blue"
           },
           "mode": "lines+markers",
           "name": "E_k",
           "type": "scatter3d",
           "x": [
            0,
            -0.6346381811688152
           ],
           "y": [
            0,
            0.40236965970666017
           ],
           "z": [
            0,
            0.6597977235109899
           ]
          }
         ],
         "name": "25",
         "traces": [
          3,
          4,
          5
         ]
        },
        {
         "data": [
          {
           "marker": {
            "color": "red"
           },
           "mode": "lines+markers",
           "name": "E_i",
           "type": "scatter3d",
           "x": [
            0,
            0.6888688133588663
           ],
           "y": [
            0,
            -0.02554336806891741
           ],
           "z": [
            0,
            0.7244358455579372
           ]
          },
          {
           "marker": {
            "color": "green"
           },
           "mode": "lines+markers",
           "name": "E_j",
           "type": "scatter3d",
           "x": [
            0,
            0.3183727202017492
           ],
           "y": [
            0,
            0.9084908274584901
           ],
           "z": [
            0,
            -0.27070875023745866
           ]
          },
          {
           "marker": {
            "color": "blue"
           },
           "mode": "lines+markers",
           "name": "E_k",
           "type": "scatter3d",
           "x": [
            0,
            -0.6512285075247293
           ],
           "y": [
            0,
            0.41712342630387456
           ],
           "z": [
            0,
            0.6339633098339603
           ]
          }
         ],
         "name": "26",
         "traces": [
          3,
          4,
          5
         ]
        },
        {
         "data": [
          {
           "marker": {
            "color": "red"
           },
           "mode": "lines+markers",
           "name": "E_i",
           "type": "scatter3d",
           "x": [
            0,
            0.6663023470939068
           ],
           "y": [
            0,
            -0.019507792074697383
           ],
           "z": [
            0,
            0.745426474110976
           ]
          },
          {
           "marker": {
            "color": "green"
           },
           "mode": "lines+markers",
           "name": "E_j",
           "type": "scatter3d",
           "x": [
            0,
            0.33357617128043215
           ],
           "y": [
            0,
            0.901853631498208
           ],
           "z": [
            0,
            -0.27456686855369583
           ]
          },
          {
           "marker": {
            "color": "blue"
           },
           "mode": "lines+markers",
           "name": "E_k",
           "type": "scatter3d",
           "x": [
            0,
            -0.6669093793095422
           ],
           "y": [
            0,
            0.43160105815656324
           ],
           "z": [
            0,
            0.6074145259928315
           ]
          }
         ],
         "name": "27",
         "traces": [
          3,
          4,
          5
         ]
        },
        {
         "data": [
          {
           "marker": {
            "color": "red"
           },
           "mode": "lines+markers",
           "name": "E_i",
           "type": "scatter3d",
           "x": [
            0,
            0.6431561599525093
           ],
           "y": [
            0,
            -0.012984317045804633
           ],
           "z": [
            0,
            0.7656249482781999
           ]
          },
          {
           "marker": {
            "color": "green"
           },
           "mode": "lines+markers",
           "name": "E_j",
           "type": "scatter3d",
           "x": [
            0,
            0.34883734297285474
           ],
           "y": [
            0,
            0.8950459293977968
           ],
           "z": [
            0,
            -0.27785840353689684
           ]
          },
          {
           "marker": {
            "color": "blue"
           },
           "mode": "lines+markers",
           "name": "E_k",
           "type": "scatter3d",
           "x": [
            0,
            -0.6816616917964374
           ],
           "y": [
            0,
            0.44578491650042185
           ],
           "z": [
            0,
            0.5801837175911875
           ]
          }
         ],
         "name": "28",
         "traces": [
          3,
          4,
          5
         ]
        },
        {
         "data": [
          {
           "marker": {
            "color": "red"
           },
           "mode": "lines+markers",
           "name": "E_i",
           "type": "scatter3d",
           "x": [
            0,
            0.6194584519983087
           ],
           "y": [
            0,
            -0.005980890831697644
           ],
           "z": [
            0,
            0.7850066593301732
           ]
          },
          {
           "marker": {
            "color": "green"
           },
           "mode": "lines+markers",
           "name": "E_j",
           "type": "scatter3d",
           "x": [
            0,
            0.36413764189211295
           ],
           "y": [
            0,
            0.8880760152936202
           ],
           "z": [
            0,
            -0.2805793449587068
           ]
          },
          {
           "marker": {
            "color": "blue"
           },
           "mode": "lines+markers",
           "name": "E_k",
           "type": "scatter3d",
           "x": [
            0,
            -0.6954674715650693
           ],
           "y": [
            0,
            0.45965772048891446
           ],
           "z": [
            0,
            0.5523040611744808
           ]
          }
         ],
         "name": "29",
         "traces": [
          3,
          4,
          5
         ]
        },
        {
         "data": [
          {
           "marker": {
            "color": "red"
           },
           "mode": "lines+markers",
           "name": "E_i",
           "type": "scatter3d",
           "x": [
            0,
            0.5952380952380953
           ],
           "y": [
            0,
            0.001493953971576839
           ],
           "z": [
            0,
            0.803547993637502
           ]
          },
          {
           "marker": {
            "color": "green"
           },
           "mode": "lines+markers",
           "name": "E_j",
           "type": "scatter3d",
           "x": [
            0,
            0.379458426980804
           ],
           "y": [
            0,
            0.8809523809523809
           ],
           "z": [
            0,
            -0.28272637777113196
           ]
          },
          {
           "marker": {
            "color": "blue"
           },
           "mode": "lines+markers",
           "name": "E_k",
           "type": "scatter3d",
           "x": [
            0,
            -0.7083098983994068
           ],
           "y": [
            0,
            0.47320256824732243
           ],
           "z": [
            0,
            0.523809523809524
           ]
          }
         ],
         "name": "30",
         "traces": [
          3,
          4,
          5
         ]
        }
       ],
       "layout": {
        "height": 800,
        "scene": {
         "aspectmode": "cube",
         "aspectratio": {
          "x": 1,
          "y": 1,
          "z": 1
         },
         "camera": {
          "center": {
           "x": 0,
           "y": 0,
           "z": 0
          },
          "eye": {
           "x": 0.9489662316380756,
           "y": 1.8941889701520405,
           "z": 0.4461067546731191
          },
          "projection": {
           "type": "perspective"
          },
          "up": {
           "x": 0,
           "y": 0,
           "z": 1
          }
         },
         "xaxis": {
          "autorange": false,
          "range": [
           -2,
           2
          ],
          "type": "linear"
         },
         "yaxis": {
          "autorange": false,
          "range": [
           -2,
           2
          ],
          "type": "linear"
         },
         "zaxis": {
          "autorange": false,
          "range": [
           -2,
           2
          ],
          "type": "linear"
         }
        },
        "sliders": [
         {
          "active": 15,
          "currentvalue": {
           "prefix": "Step: ",
           "visible": true
          },
          "steps": [
           {
            "args": [
             [
              "0"
             ],
             {
              "frame": {
               "duration": 100,
               "redraw": true
              },
              "fromcurrent": true,
              "mode": "immediate"
             }
            ],
            "label": "0",
            "method": "animate"
           },
           {
            "args": [
             [
              "1"
             ],
             {
              "frame": {
               "duration": 100,
               "redraw": true
              },
              "fromcurrent": true,
              "mode": "immediate"
             }
            ],
            "label": "1",
            "method": "animate"
           },
           {
            "args": [
             [
              "2"
             ],
             {
              "frame": {
               "duration": 100,
               "redraw": true
              },
              "fromcurrent": true,
              "mode": "immediate"
             }
            ],
            "label": "2",
            "method": "animate"
           },
           {
            "args": [
             [
              "3"
             ],
             {
              "frame": {
               "duration": 100,
               "redraw": true
              },
              "fromcurrent": true,
              "mode": "immediate"
             }
            ],
            "label": "3",
            "method": "animate"
           },
           {
            "args": [
             [
              "4"
             ],
             {
              "frame": {
               "duration": 100,
               "redraw": true
              },
              "fromcurrent": true,
              "mode": "immediate"
             }
            ],
            "label": "4",
            "method": "animate"
           },
           {
            "args": [
             [
              "5"
             ],
             {
              "frame": {
               "duration": 100,
               "redraw": true
              },
              "fromcurrent": true,
              "mode": "immediate"
             }
            ],
            "label": "5",
            "method": "animate"
           },
           {
            "args": [
             [
              "6"
             ],
             {
              "frame": {
               "duration": 100,
               "redraw": true
              },
              "fromcurrent": true,
              "mode": "immediate"
             }
            ],
            "label": "6",
            "method": "animate"
           },
           {
            "args": [
             [
              "7"
             ],
             {
              "frame": {
               "duration": 100,
               "redraw": true
              },
              "fromcurrent": true,
              "mode": "immediate"
             }
            ],
            "label": "7",
            "method": "animate"
           },
           {
            "args": [
             [
              "8"
             ],
             {
              "frame": {
               "duration": 100,
               "redraw": true
              },
              "fromcurrent": true,
              "mode": "immediate"
             }
            ],
            "label": "8",
            "method": "animate"
           },
           {
            "args": [
             [
              "9"
             ],
             {
              "frame": {
               "duration": 100,
               "redraw": true
              },
              "fromcurrent": true,
              "mode": "immediate"
             }
            ],
            "label": "9",
            "method": "animate"
           },
           {
            "args": [
             [
              "10"
             ],
             {
              "frame": {
               "duration": 100,
               "redraw": true
              },
              "fromcurrent": true,
              "mode": "immediate"
             }
            ],
            "label": "10",
            "method": "animate"
           },
           {
            "args": [
             [
              "11"
             ],
             {
              "frame": {
               "duration": 100,
               "redraw": true
              },
              "fromcurrent": true,
              "mode": "immediate"
             }
            ],
            "label": "11",
            "method": "animate"
           },
           {
            "args": [
             [
              "12"
             ],
             {
              "frame": {
               "duration": 100,
               "redraw": true
              },
              "fromcurrent": true,
              "mode": "immediate"
             }
            ],
            "label": "12",
            "method": "animate"
           },
           {
            "args": [
             [
              "13"
             ],
             {
              "frame": {
               "duration": 100,
               "redraw": true
              },
              "fromcurrent": true,
              "mode": "immediate"
             }
            ],
            "label": "13",
            "method": "animate"
           },
           {
            "args": [
             [
              "14"
             ],
             {
              "frame": {
               "duration": 100,
               "redraw": true
              },
              "fromcurrent": true,
              "mode": "immediate"
             }
            ],
            "label": "14",
            "method": "animate"
           },
           {
            "args": [
             [
              "15"
             ],
             {
              "frame": {
               "duration": 100,
               "redraw": true
              },
              "fromcurrent": true,
              "mode": "immediate"
             }
            ],
            "label": "15",
            "method": "animate"
           },
           {
            "args": [
             [
              "16"
             ],
             {
              "frame": {
               "duration": 100,
               "redraw": true
              },
              "fromcurrent": true,
              "mode": "immediate"
             }
            ],
            "label": "16",
            "method": "animate"
           },
           {
            "args": [
             [
              "17"
             ],
             {
              "frame": {
               "duration": 100,
               "redraw": true
              },
              "fromcurrent": true,
              "mode": "immediate"
             }
            ],
            "label": "17",
            "method": "animate"
           },
           {
            "args": [
             [
              "18"
             ],
             {
              "frame": {
               "duration": 100,
               "redraw": true
              },
              "fromcurrent": true,
              "mode": "immediate"
             }
            ],
            "label": "18",
            "method": "animate"
           },
           {
            "args": [
             [
              "19"
             ],
             {
              "frame": {
               "duration": 100,
               "redraw": true
              },
              "fromcurrent": true,
              "mode": "immediate"
             }
            ],
            "label": "19",
            "method": "animate"
           },
           {
            "args": [
             [
              "20"
             ],
             {
              "frame": {
               "duration": 100,
               "redraw": true
              },
              "fromcurrent": true,
              "mode": "immediate"
             }
            ],
            "label": "20",
            "method": "animate"
           },
           {
            "args": [
             [
              "21"
             ],
             {
              "frame": {
               "duration": 100,
               "redraw": true
              },
              "fromcurrent": true,
              "mode": "immediate"
             }
            ],
            "label": "21",
            "method": "animate"
           },
           {
            "args": [
             [
              "22"
             ],
             {
              "frame": {
               "duration": 100,
               "redraw": true
              },
              "fromcurrent": true,
              "mode": "immediate"
             }
            ],
            "label": "22",
            "method": "animate"
           },
           {
            "args": [
             [
              "23"
             ],
             {
              "frame": {
               "duration": 100,
               "redraw": true
              },
              "fromcurrent": true,
              "mode": "immediate"
             }
            ],
            "label": "23",
            "method": "animate"
           },
           {
            "args": [
             [
              "24"
             ],
             {
              "frame": {
               "duration": 100,
               "redraw": true
              },
              "fromcurrent": true,
              "mode": "immediate"
             }
            ],
            "label": "24",
            "method": "animate"
           },
           {
            "args": [
             [
              "25"
             ],
             {
              "frame": {
               "duration": 100,
               "redraw": true
              },
              "fromcurrent": true,
              "mode": "immediate"
             }
            ],
            "label": "25",
            "method": "animate"
           },
           {
            "args": [
             [
              "26"
             ],
             {
              "frame": {
               "duration": 100,
               "redraw": true
              },
              "fromcurrent": true,
              "mode": "immediate"
             }
            ],
            "label": "26",
            "method": "animate"
           },
           {
            "args": [
             [
              "27"
             ],
             {
              "frame": {
               "duration": 100,
               "redraw": true
              },
              "fromcurrent": true,
              "mode": "immediate"
             }
            ],
            "label": "27",
            "method": "animate"
           },
           {
            "args": [
             [
              "28"
             ],
             {
              "frame": {
               "duration": 100,
               "redraw": true
              },
              "fromcurrent": true,
              "mode": "immediate"
             }
            ],
            "label": "28",
            "method": "animate"
           },
           {
            "args": [
             [
              "29"
             ],
             {
              "frame": {
               "duration": 100,
               "redraw": true
              },
              "fromcurrent": true,
              "mode": "immediate"
             }
            ],
            "label": "29",
            "method": "animate"
           },
           {
            "args": [
             [
              "30"
             ],
             {
              "frame": {
               "duration": 100,
               "redraw": true
              },
              "fromcurrent": true,
              "mode": "immediate"
             }
            ],
            "label": "30",
            "method": "animate"
           }
          ],
          "x": 0.1,
          "y": 0
         }
        ],
        "template": {
         "data": {
          "pie": [
           {
            "automargin": true,
            "type": "pie"
           }
          ],
          "scatter": [
           {
            "line": {
             "width": 3
            },
            "marker": {
             "size": 9
            },
            "type": "scatter"
           }
          ],
          "scatter3d": [
           {
            "line": {
             "width": 3
            },
            "marker": {
             "size": 9
            },
            "type": "scatter3d"
           }
          ],
          "scattergeo": [
           {
            "line": {
             "width": 3
            },
            "marker": {
             "size": 9
            },
            "type": "scattergeo"
           }
          ],
          "scattergl": [
           {
            "line": {
             "width": 3
            },
            "marker": {
             "size": 9
            },
            "type": "scattergl"
           }
          ],
          "scatterpolar": [
           {
            "line": {
             "width": 3
            },
            "marker": {
             "size": 9
            },
            "type": "scatterpolar"
           }
          ],
          "scatterpolargl": [
           {
            "line": {
             "width": 3
            },
            "marker": {
             "size": 9
            },
            "type": "scatterpolargl"
           }
          ],
          "scatterternary": [
           {
            "line": {
             "width": 3
            },
            "marker": {
             "size": 9
            },
            "type": "scatterternary"
           }
          ],
          "table": [
           {
            "cells": {
             "height": 30
            },
            "header": {
             "height": 36
            },
            "type": "table"
           }
          ]
         },
         "layout": {
          "font": {
           "size": 18
          },
          "xaxis": {
           "title": {
            "standoff": 15
           }
          },
          "yaxis": {
           "title": {
            "standoff": 15
           }
          }
         }
        },
        "title": {
         "text": "PRV Rotation Animation"
        },
        "updatemenus": [
         {
          "active": 0,
          "buttons": [
           {
            "args": [
             null,
             {
              "frame": {
               "duration": 100,
               "redraw": true
              },
              "fromcurrent": true,
              "mode": "immediate"
             }
            ],
            "label": "Play",
            "method": "animate"
           }
          ],
          "showactive": false,
          "type": "buttons",
          "x": 0.8,
          "xanchor": "left",
          "y": 1.05,
          "yanchor": "bottom"
         }
        ],
        "width": 1000
       }
      },
      "text/html": [
       "<div>                            <div id=\"82726498-96aa-496d-a48a-dcc0a6c1540e\" class=\"plotly-graph-div\" style=\"height:800px; width:1000px;\"></div>            <script type=\"text/javascript\">                require([\"plotly\"], function(Plotly) {                    window.PLOTLYENV=window.PLOTLYENV || {};                                    if (document.getElementById(\"82726498-96aa-496d-a48a-dcc0a6c1540e\")) {                    Plotly.newPlot(                        \"82726498-96aa-496d-a48a-dcc0a6c1540e\",                        [{\"line\":{\"color\":\"red\",\"dash\":\"dot\"},\"marker\":{\"color\":\"red\"},\"mode\":\"lines+markers\",\"name\":\"N_i (static)\",\"x\":[0,1.0],\"y\":[0,0.0],\"z\":[0,0.0],\"type\":\"scatter3d\"},{\"line\":{\"color\":\"green\",\"dash\":\"dot\"},\"marker\":{\"color\":\"green\"},\"mode\":\"lines+markers\",\"name\":\"N_j (static)\",\"x\":[0,0.0],\"y\":[0,1.0],\"z\":[0,0.0],\"type\":\"scatter3d\"},{\"line\":{\"color\":\"blue\",\"dash\":\"dot\"},\"marker\":{\"color\":\"blue\"},\"mode\":\"lines+markers\",\"name\":\"N_k (static)\",\"x\":[0,0.0],\"y\":[0,0.0],\"z\":[0,1.0],\"type\":\"scatter3d\"},{\"line\":{\"color\":\"red\",\"dash\":\"solid\"},\"marker\":{\"color\":\"red\"},\"mode\":\"lines+markers\",\"name\":\"E_i\",\"x\":[0,1.0],\"y\":[0,0.0],\"z\":[0,0.0],\"type\":\"scatter3d\"},{\"line\":{\"color\":\"green\",\"dash\":\"solid\"},\"marker\":{\"color\":\"green\"},\"mode\":\"lines+markers\",\"name\":\"E_j\",\"x\":[0,0.0],\"y\":[0,1.0],\"z\":[0,0.0],\"type\":\"scatter3d\"},{\"line\":{\"color\":\"blue\",\"dash\":\"solid\"},\"marker\":{\"color\":\"blue\"},\"mode\":\"lines+markers\",\"name\":\"E_k\",\"x\":[0,0.0],\"y\":[0,0.0],\"z\":[0,1.0],\"type\":\"scatter3d\"},{\"hoverinfo\":\"text+name\",\"line\":{\"color\":\"purple\",\"width\":5},\"mode\":\"lines+markers\",\"name\":\"Rotation Axis\",\"text\":\"x: 1.00<br>y: 2.00<br>z: 0.50<br>Norm: 2.29\",\"x\":[0,1.0],\"y\":[0,2.0],\"z\":[0,0.5],\"type\":\"scatter3d\"}],                        {\"template\":{\"data\":{\"pie\":[{\"automargin\":true,\"type\":\"pie\"}],\"scatter3d\":[{\"line\":{\"width\":3},\"marker\":{\"size\":9},\"type\":\"scatter3d\"}],\"scattergeo\":[{\"line\":{\"width\":3},\"marker\":{\"size\":9},\"type\":\"scattergeo\"}],\"scattergl\":[{\"line\":{\"width\":3},\"marker\":{\"size\":9},\"type\":\"scattergl\"}],\"scatterpolargl\":[{\"line\":{\"width\":3},\"marker\":{\"size\":9},\"type\":\"scatterpolargl\"}],\"scatterpolar\":[{\"line\":{\"width\":3},\"marker\":{\"size\":9},\"type\":\"scatterpolar\"}],\"scatter\":[{\"line\":{\"width\":3},\"marker\":{\"size\":9},\"type\":\"scatter\"}],\"scatterternary\":[{\"line\":{\"width\":3},\"marker\":{\"size\":9},\"type\":\"scatterternary\"}],\"table\":[{\"cells\":{\"height\":30},\"header\":{\"height\":36},\"type\":\"table\"}]},\"layout\":{\"font\":{\"size\":18},\"xaxis\":{\"title\":{\"standoff\":15}},\"yaxis\":{\"title\":{\"standoff\":15}}}},\"updatemenus\":[{\"buttons\":[{\"args\":[null,{\"frame\":{\"duration\":100,\"redraw\":true},\"fromcurrent\":true,\"mode\":\"immediate\"}],\"label\":\"Play\",\"method\":\"animate\"}],\"showactive\":false,\"type\":\"buttons\",\"x\":0.8,\"xanchor\":\"left\",\"y\":1.05,\"yanchor\":\"bottom\"}],\"sliders\":[{\"currentvalue\":{\"prefix\":\"Step: \",\"visible\":true},\"steps\":[{\"args\":[[\"0\"],{\"mode\":\"immediate\",\"frame\":{\"duration\":100,\"redraw\":true},\"fromcurrent\":true}],\"label\":\"0\",\"method\":\"animate\"},{\"args\":[[\"1\"],{\"mode\":\"immediate\",\"frame\":{\"duration\":100,\"redraw\":true},\"fromcurrent\":true}],\"label\":\"1\",\"method\":\"animate\"},{\"args\":[[\"2\"],{\"mode\":\"immediate\",\"frame\":{\"duration\":100,\"redraw\":true},\"fromcurrent\":true}],\"label\":\"2\",\"method\":\"animate\"},{\"args\":[[\"3\"],{\"mode\":\"immediate\",\"frame\":{\"duration\":100,\"redraw\":true},\"fromcurrent\":true}],\"label\":\"3\",\"method\":\"animate\"},{\"args\":[[\"4\"],{\"mode\":\"immediate\",\"frame\":{\"duration\":100,\"redraw\":true},\"fromcurrent\":true}],\"label\":\"4\",\"method\":\"animate\"},{\"args\":[[\"5\"],{\"mode\":\"immediate\",\"frame\":{\"duration\":100,\"redraw\":true},\"fromcurrent\":true}],\"label\":\"5\",\"method\":\"animate\"},{\"args\":[[\"6\"],{\"mode\":\"immediate\",\"frame\":{\"duration\":100,\"redraw\":true},\"fromcurrent\":true}],\"label\":\"6\",\"method\":\"animate\"},{\"args\":[[\"7\"],{\"mode\":\"immediate\",\"frame\":{\"duration\":100,\"redraw\":true},\"fromcurrent\":true}],\"label\":\"7\",\"method\":\"animate\"},{\"args\":[[\"8\"],{\"mode\":\"immediate\",\"frame\":{\"duration\":100,\"redraw\":true},\"fromcurrent\":true}],\"label\":\"8\",\"method\":\"animate\"},{\"args\":[[\"9\"],{\"mode\":\"immediate\",\"frame\":{\"duration\":100,\"redraw\":true},\"fromcurrent\":true}],\"label\":\"9\",\"method\":\"animate\"},{\"args\":[[\"10\"],{\"mode\":\"immediate\",\"frame\":{\"duration\":100,\"redraw\":true},\"fromcurrent\":true}],\"label\":\"10\",\"method\":\"animate\"},{\"args\":[[\"11\"],{\"mode\":\"immediate\",\"frame\":{\"duration\":100,\"redraw\":true},\"fromcurrent\":true}],\"label\":\"11\",\"method\":\"animate\"},{\"args\":[[\"12\"],{\"mode\":\"immediate\",\"frame\":{\"duration\":100,\"redraw\":true},\"fromcurrent\":true}],\"label\":\"12\",\"method\":\"animate\"},{\"args\":[[\"13\"],{\"mode\":\"immediate\",\"frame\":{\"duration\":100,\"redraw\":true},\"fromcurrent\":true}],\"label\":\"13\",\"method\":\"animate\"},{\"args\":[[\"14\"],{\"mode\":\"immediate\",\"frame\":{\"duration\":100,\"redraw\":true},\"fromcurrent\":true}],\"label\":\"14\",\"method\":\"animate\"},{\"args\":[[\"15\"],{\"mode\":\"immediate\",\"frame\":{\"duration\":100,\"redraw\":true},\"fromcurrent\":true}],\"label\":\"15\",\"method\":\"animate\"},{\"args\":[[\"16\"],{\"mode\":\"immediate\",\"frame\":{\"duration\":100,\"redraw\":true},\"fromcurrent\":true}],\"label\":\"16\",\"method\":\"animate\"},{\"args\":[[\"17\"],{\"mode\":\"immediate\",\"frame\":{\"duration\":100,\"redraw\":true},\"fromcurrent\":true}],\"label\":\"17\",\"method\":\"animate\"},{\"args\":[[\"18\"],{\"mode\":\"immediate\",\"frame\":{\"duration\":100,\"redraw\":true},\"fromcurrent\":true}],\"label\":\"18\",\"method\":\"animate\"},{\"args\":[[\"19\"],{\"mode\":\"immediate\",\"frame\":{\"duration\":100,\"redraw\":true},\"fromcurrent\":true}],\"label\":\"19\",\"method\":\"animate\"},{\"args\":[[\"20\"],{\"mode\":\"immediate\",\"frame\":{\"duration\":100,\"redraw\":true},\"fromcurrent\":true}],\"label\":\"20\",\"method\":\"animate\"},{\"args\":[[\"21\"],{\"mode\":\"immediate\",\"frame\":{\"duration\":100,\"redraw\":true},\"fromcurrent\":true}],\"label\":\"21\",\"method\":\"animate\"},{\"args\":[[\"22\"],{\"mode\":\"immediate\",\"frame\":{\"duration\":100,\"redraw\":true},\"fromcurrent\":true}],\"label\":\"22\",\"method\":\"animate\"},{\"args\":[[\"23\"],{\"mode\":\"immediate\",\"frame\":{\"duration\":100,\"redraw\":true},\"fromcurrent\":true}],\"label\":\"23\",\"method\":\"animate\"},{\"args\":[[\"24\"],{\"mode\":\"immediate\",\"frame\":{\"duration\":100,\"redraw\":true},\"fromcurrent\":true}],\"label\":\"24\",\"method\":\"animate\"},{\"args\":[[\"25\"],{\"mode\":\"immediate\",\"frame\":{\"duration\":100,\"redraw\":true},\"fromcurrent\":true}],\"label\":\"25\",\"method\":\"animate\"},{\"args\":[[\"26\"],{\"mode\":\"immediate\",\"frame\":{\"duration\":100,\"redraw\":true},\"fromcurrent\":true}],\"label\":\"26\",\"method\":\"animate\"},{\"args\":[[\"27\"],{\"mode\":\"immediate\",\"frame\":{\"duration\":100,\"redraw\":true},\"fromcurrent\":true}],\"label\":\"27\",\"method\":\"animate\"},{\"args\":[[\"28\"],{\"mode\":\"immediate\",\"frame\":{\"duration\":100,\"redraw\":true},\"fromcurrent\":true}],\"label\":\"28\",\"method\":\"animate\"},{\"args\":[[\"29\"],{\"mode\":\"immediate\",\"frame\":{\"duration\":100,\"redraw\":true},\"fromcurrent\":true}],\"label\":\"29\",\"method\":\"animate\"},{\"args\":[[\"30\"],{\"mode\":\"immediate\",\"frame\":{\"duration\":100,\"redraw\":true},\"fromcurrent\":true}],\"label\":\"30\",\"method\":\"animate\"}],\"x\":0.1,\"y\":0}],\"scene\":{\"xaxis\":{\"range\":[-2,2],\"autorange\":false},\"yaxis\":{\"range\":[-2,2],\"autorange\":false},\"zaxis\":{\"range\":[-2,2],\"autorange\":false},\"aspectmode\":\"cube\"},\"width\":1000,\"height\":800,\"title\":{\"text\":\"PRV Rotation Animation\"}},                        {\"responsive\": true}                    ).then(function(){\n",
       "                            Plotly.addFrames('82726498-96aa-496d-a48a-dcc0a6c1540e', [{\"data\":[{\"marker\":{\"color\":\"red\"},\"mode\":\"lines+markers\",\"name\":\"E_i\",\"x\":[0,1.0],\"y\":[0,0.0],\"z\":[0,0.0],\"type\":\"scatter3d\"},{\"marker\":{\"color\":\"green\"},\"mode\":\"lines+markers\",\"name\":\"E_j\",\"x\":[0,0.0],\"y\":[0,1.0],\"z\":[0,0.0],\"type\":\"scatter3d\"},{\"marker\":{\"color\":\"blue\"},\"mode\":\"lines+markers\",\"name\":\"E_k\",\"x\":[0,0.0],\"y\":[0,0.0],\"z\":[0,1.0],\"type\":\"scatter3d\"}],\"name\":\"0\",\"traces\":[3,4,5]},{\"data\":[{\"marker\":{\"color\":\"red\"},\"mode\":\"lines+markers\",\"name\":\"E_i\",\"x\":[0,0.9995068599678394],\"y\":[0,-0.007383628643230406],\"z\":[0,0.03052079463724277],\"type\":\"scatter3d\"},{\"marker\":{\"color\":\"green\"},\"mode\":\"lines+markers\",\"name\":\"E_j\",\"x\":[0,0.007847760438205063],\"y\":[0,0.9998549588140704],\"z\":[0,-0.015115356132691805],\"type\":\"scatter3d\"},{\"marker\":{\"color\":\"blue\"},\"mode\":\"lines+markers\",\"name\":\"E_k\",\"x\":[0,-0.030404761688499107],\"y\":[0,0.015347422030179133],\"z\":[0,0.9994198352562816],\"type\":\"scatter3d\"}],\"name\":\"1\",\"traces\":[3,4,5]},{\"data\":[{\"marker\":{\"color\":\"red\"},\"mode\":\"lines+markers\",\"name\":\"E_i\",\"x\":[0,0.9980280406865244],\"y\":[0,-0.014294129677345115],\"z\":[0,0.06112043733633176],\"type\":\"scatter3d\"},{\"marker\":{\"color\":\"green\"},\"mode\":\"lines+markers\",\"name\":\"E_j\",\"x\":[0,0.016150091384145727],\"y\":[0,0.9994200119666248],\"z\":[0,-0.02998023063479069],\"type\":\"scatter3d\"},{\"marker\":{\"color\":\"blue\"},\"mode\":\"lines+markers\",\"name\":\"E_k\",\"x\":[0,-0.0606564469096316],\"y\":[0,0.030908211488190993],\"z\":[0,0.9976800478664992],\"type\":\"scatter3d\"}],\"name\":\"2\",\"traces\":[3,4,5]},{\"data\":[{\"marker\":{\"color\":\"red\"},\"mode\":\"lines+markers\",\"name\":\"E_i\",\"x\":[0,0.9955653438695545],\"y\":[0,-0.020723083721315212],\"z\":[0,0.0917616471461517],\"type\":\"scatter3d\"},{\"marker\":{\"color\":\"green\"},\"mode\":\"lines+markers\",\"name\":\"E_j\",\"x\":[0,0.024896877726440322],\"y\":[0,0.9986956893733984],\"z\":[0,-0.04457651294647426],\"type\":\"scatter3d\"},{\"marker\":{\"color\":\"blue\"},\"mode\":\"lines+markers\",\"name\":\"E_k\",\"x\":[0,-0.09071819864487043],\"y\":[0,0.04666340994903681],\"z\":[0,0.9947827574935936],\"type\":\"scatter3d\"}],\"name\":\"3\",\"traces\":[3,4,5]},{\"data\":[{\"marker\":{\"color\":\"red\"},\"mode\":\"lines+markers\",\"name\":\"E_i\",\"x\":[0,0.9921217699336522],\"y\":[0,-0.026662658084942576],\"z\":[0,0.12240709247246591],\"type\":\"scatter3d\"},{\"marker\":{\"color\":\"green\"},\"mode\":\"lines+markers\",\"name\":\"E_j\",\"x\":[0,0.03407746285326992],\"y\":[0,0.9976828735098977],\"z\":[0,-0.05888641974613066],\"type\":\"scatter3d\"},{\"marker\":{\"color\":\"blue\"},\"mode\":\"lines+markers\",\"name\":\"E_k\",\"x\":[0,-0.12055339128038407],\"y\":[0,0.06259382213029434],\"z\":[0,0.9907314940395908],\"type\":\"scatter3d\"}],\"name\":\"4\",\"traces\":[3,4,5]},{\"data\":[{\"marker\":{\"color\":\"red\"},\"mode\":\"lines+markers\",\"name\":\"E_i\",\"x\":[0,0.9877015143432161],\"y\":[0,-0.032105616311786316],\"z\":[0,0.15301943656071323],\"type\":\"scatter3d\"},{\"marker\":{\"color\":\"green\"},\"mode\":\"lines+markers\",\"name\":\"E_j\",\"x\":[0,0.0436806616358183],\"y\":[0,0.99638279833624],\"z\":[0,-0.07289251661659663],\"type\":\"scatter3d\"},{\"marker\":{\"color\":\"blue\"},\"mode\":\"lines+markers\",\"name\":\"E_k\",\"x\":[0,-0.15012567522970524],\"y\":[0,0.07868003927861261],\"z\":[0,0.98553119334496],\"type\":\"scatter3d\"}],\"name\":\"5\",\"traces\":[3,4,5]},{\"data\":[{\"marker\":{\"color\":\"red\"},\"mode\":\"lines+markers\",\"name\":\"E_i\",\"x\":[0,0.9823099624987951],\"y\":[0,-0.037045326995670605],\"z\":[0,0.18356138298509228],\"type\":\"scatter3d\"},{\"marker\":{\"color\":\"green\"},\"mode\":\"lines+markers\",\"name\":\"E_j\",\"x\":[0,0.05369477405562818],\"y\":[0,0.9947970477937632],\"z\":[0,-0.0865777392863094],\"type\":\"scatter3d\"},{\"marker\":{\"color\":\"blue\"},\"mode\":\"lines+markers\",\"name\":\"E_k\",\"x\":[0,-0.17939902122010287],\"y\":[0,0.09490246281628818],\"z\":[0,0.9791881911750531],\"type\":\"scatter3d\"}],\"name\":\"6\",\"traces\":[3,4,5]},{\"data\":[{\"marker\":{\"color\":\"red\"},\"mode\":\"lines+markers\",\"name\":\"E_i\",\"x\":[0,0.9759536831758067],\"y\":[0,-0.04147577186003111],\"z\":[0,0.21399572108851111],\"type\":\"scatter3d\"},{\"marker\":{\"color\":\"green\"},\"mode\":\"lines+markers\",\"name\":\"E_j\",\"x\":[0,0.0641075994592719],\"y\":[0,0.9929275538752372],\"z\":[0,-0.09992541441949282],\"type\":\"scatter3d\"},{\"marker\":{\"color\":\"blue\"},\"mode\":\"lines+markers\",\"name\":\"E_k\",\"x\":[0,-0.20833776418870092],\"y\":[0,0.1112413282191132],\"z\":[0,0.971710215500949],\"type\":\"scatter3d\"}],\"name\":\"7\",\"traces\":[3,4,5]},{\"data\":[{\"marker\":{\"color\":\"red\"},\"mode\":\"lines+markers\",\"name\":\"E_i\",\"x\":[0,0.9686404205214962],\"y\":[0,-0.04539155309025839],\"z\":[0,0.24428537131804107],\"type\":\"scatter3d\"},{\"marker\":{\"color\":\"green\"},\"mode\":\"lines+markers\",\"name\":\"E_j\",\"x\":[0,0.07490645142296781],\"y\":[0,0.9907765942710283],\"z\":[0,-0.11291927993004884],\"type\":\"scatter3d\"},{\"marker\":{\"color\":\"blue\"},\"mode\":\"lines+markers\",\"name\":\"E_k\",\"x\":[0,-0.23690664673486372],\"y\":[0,0.12767672909640354],\"z\":[0,0.9631063770841133],\"type\":\"scatter3d\"}],\"name\":\"8\",\"traces\":[3,4,5]},{\"data\":[{\"marker\":{\"color\":\"red\"},\"mode\":\"lines+markers\",\"name\":\"E_i\",\"x\":[0,0.9603790846198862],\"y\":[0,-0.048787899910103225],\"z\":[0,0.2743934304006405],\"type\":\"scatter3d\"},{\"marker\":{\"color\":\"green\"},\"mode\":\"lines+markers\",\"name\":\"E_j\",\"x\":[0,0.08607817320903387],\"y\":[0,0.9883467895940842],\"z\":[0,-0.12554350479440443],\"type\":\"scatter3d\"},{\"marker\":{\"color\":\"blue\"},\"mode\":\"lines+markers\",\"name\":\"E_k\",\"x\":[0,-0.26507086207590785],\"y\":[0,0.14418864144386975],\"z\":[0,0.9533871583763367],\"type\":\"scatter3d\"}],\"name\":\"9\",\"traces\":[3,4,5]},{\"data\":[{\"marker\":{\"color\":\"red\"},\"mode\":\"lines+markers\",\"name\":\"E_i\",\"x\":[0,0.9511797406362116],\"y\":[0,-0.05166067439413284],\"z\":[0,0.3042832163041082],\"type\":\"scatter3d\"},{\"marker\":{\"color\":\"green\"},\"mode\":\"lines+markers\",\"name\":\"E_j\",\"x\":[0,0.09760915379534547],\"y\":[0,0.985641100187121],\"z\":[0,-0.13778270833917516],\"type\":\"scatter3d\"},{\"marker\":{\"color\":\"blue\"},\"mode\":\"lines+markers\",\"name\":\"E_k\",\"x\":[0,-0.29279609645380505],\"y\":[0,0.16075694803978147],\"z\":[0,0.9425644007484842],\"type\":\"scatter3d\"}],\"name\":\"10\",\"traces\":[3,4,5]},{\"data\":[{\"marker\":{\"color\":\"red\"},\"mode\":\"lines+markers\",\"name\":\"E_i\",\"x\":[0,0.9410535965540661],\"y\":[0,-0.054006376509155345],\"z\":[0,0.3339183129284894],\"type\":\"scatter3d\"},{\"marker\":{\"color\":\"green\"},\"mode\":\"lines+markers\",\"name\":\"E_j\",\"x\":[0,0.10948534445826968],\"y\":[0,0.9826628225159018],\"z\":[0,-0.14962197898014645],\"type\":\"scatter3d\"},{\"marker\":{\"color\":\"blue\"},\"mode\":\"lines+markers\",\"name\":\"E_k\",\"x\":[0,-0.32004857094121075],\"y\":[0,0.17736146295470362],\"z\":[0,0.930651290063607],\"type\":\"scatter3d\"}],\"name\":\"11\",\"traces\":[3,4,5]},{\"data\":[{\"marker\":{\"color\":\"red\"},\"mode\":\"lines+markers\",\"name\":\"E_i\",\"x\":[0,0.9300129895202007],\"y\":[0,-0.055822148378471305],\"z\":[0,0.36326261447348385],\"type\":\"scatter3d\"},{\"marker\":{\"color\":\"green\"},\"mode\":\"lines+markers\",\"name\":\"E_j\",\"x\":[0,0.12169227588887066],\"y\":[0,0.9794155851530002],\"z\":[0,-0.16104689238974212],\"type\":\"scatter3d\"},{\"marker\":{\"color\":\"blue\"},\"mode\":\"lines+markers\",\"name\":\"E_k\",\"x\":[0,-0.346795082595884],\"y\":[0,0.1939819561449418],\"z\":[0,0.9176623406120008],\"type\":\"scatter3d\"}],\"name\":\"12\",\"traces\":[3,4,5]},{\"data\":[{\"marker\":{\"color\":\"red\"},\"mode\":\"lines+markers\",\"name\":\"E_i\",\"x\":[0,0.9180713708136115],\"y\":[0,-0.05710577776375625],\"z\":[0,0.3922803694278022],\"type\":\"scatter3d\"},{\"marker\":{\"color\":\"green\"},\"mode\":\"lines+markers\",\"name\":\"E_j\",\"x\":[0,0.13421507582153375],\"y\":[0,0.9759033443569445],\"z\":[0,-0.17204352907084564],\"type\":\"scatter3d\"},{\"marker\":{\"color\":\"blue\"},\"mode\":\"lines+markers\",\"name\":\"E_k\",\"x\":[0,-0.3730030449133578],\"y\":[0,0.21059817809973436],\"z\":[0,0.9036133774277781],\"type\":\"scatter3d\"}],\"name\":\"13\",\"traces\":[3,4,5]},{\"data\":[{\"marker\":{\"color\":\"red\"},\"mode\":\"lines+markers\",\"name\":\"E_i\",\"x\":[0,0.9052432894572267],\"y\":[0,-0.057855700760332085],\"z\":[0,0.42093622412687515],\"type\":\"scatter3d\"},{\"marker\":{\"color\":\"green\"},\"mode\":\"lines+markers\",\"name\":\"E_j\",\"x\":[0,0.14703848715353057],\"y\":[0,0.9721303792521254],\"z\":[0,-0.18259849131556305],\"type\":\"scatter3d\"},{\"marker\":{\"color\":\"blue\"},\"mode\":\"lines+markers\",\"name\":\"E_k\",\"x\":[0,-0.3986405275285755],\"y\":[0,0.22718988451216227],\"z\":[0,0.8885215170085019],\"type\":\"scatter3d\"}],\"name\":\"14\",\"traces\":[3,4,5]},{\"data\":[{\"marker\":{\"color\":\"red\"},\"mode\":\"lines+markers\",\"name\":\"E_i\",\"x\":[0,0.8915443744921647],\"y\":[0,-0.058071003702544255],\"z\":[0,0.4491952658258477],\"type\":\"scatter3d\"},{\"marker\":{\"color\":\"green\"},\"mode\":\"lines+markers\",\"name\":\"E_j\",\"x\":[0,0.1601468865334481],\"y\":[0,0.9681012866153426],\"z\":[0,-0.1926989195282664],\"type\":\"scatter3d\"},{\"marker\":{\"color\":\"blue\"},\"mode\":\"lines+markers\",\"name\":\"E_k\",\"x\":[0,-0.42367629511812177],\"y\":[0,0.24373686094371833],\"z\":[0,0.8724051464613702],\"type\":\"scatter3d\"}],\"name\":\"15\",\"traces\":[3,4,5]},{\"data\":[{\"marker\":{\"color\":\"red\"},\"mode\":\"lines+markers\",\"name\":\"E_i\",\"x\":[0,0.8769913159361543],\"y\":[0,-0.057751424276922564],\"z\":[0,0.47702306523538157],\"type\":\"scatter3d\"},{\"marker\":{\"color\":\"green\"},\"mode\":\"lines+markers\",\"name\":\"E_j\",\"x\":[0,0.17352430339583613],\"y\":[0,0.9638209752753395],\"z\":[0,-0.2023325078930303],\"type\":\"scatter3d\"},{\"marker\":{\"color\":\"blue\"},\"mode\":\"lines+markers\",\"name\":\"E_k\",\"x\":[0,-0.4480798454556532],\"y\":[0,0.2602189474524871],\"z\":[0,0.8552839011013581],\"type\":\"scatter3d\"}],\"name\":\"16\",\"traces\":[3,4,5]},{\"data\":[{\"marker\":{\"color\":\"red\"},\"mode\":\"lines+markers\",\"name\":\"E_i\",\"x\":[0,0.8616018444493195],\"y\":[0,-0.056897351841769805],\"z\":[0,0.5043857184684403],\"type\":\"scatter3d\"},{\"marker\":{\"color\":\"green\"},\"mode\":\"lines+markers\",\"name\":\"E_j\",\"x\":[0,0.18715443941888088],\"y\":[0,0.9592946601321528],\"z\":[0,-0.21148751936637292],\"type\":\"scatter3d\"},{\"marker\":{\"color\":\"blue\"},\"mode\":\"lines+markers\",\"name\":\"E_k\",\"x\":[0,-0.4718214465741625],\"y\":[0,0.2766160631549285],\"z\":[0,0.8371786405286111],\"type\":\"scatter3d\"}],\"name\":\"17\",\"traces\":[3,4,5]},{\"data\":[{\"marker\":{\"color\":\"red\"},\"mode\":\"lines+markers\",\"name\":\"E_i\",\"x\":[0,0.8453947097321003],\"y\":[0,-0.05550982695278825],\"z\":[0,0.5312498883469524],\"type\":\"scatter3d\"},{\"marker\":{\"color\":\"green\"},\"mode\":\"lines+markers\",\"name\":\"E_j\",\"x\":[0,0.20102068838139972],\"y\":[0,0.9545278558035589],\"z\":[0,-0.2201527999770351],\"type\":\"scatter3d\"},{\"marker\":{\"color\":\"blue\"},\"mode\":\"lines+markers\",\"name\":\"E_k\",\"x\":[0,-0.4948721729897995],\"y\":[0,0.29290823069134087],\"z\":[0,0.8181114232142357],\"type\":\"scatter3d\"}],\"name\":\"18\",\"traces\":[3,4,5]},{\"data\":[{\"marker\":{\"color\":\"red\"},\"mode\":\"lines+markers\",\"name\":\"E_i\",\"x\":[0,0.828389657681632],\"y\":[0,-0.053590540095323394],\"z\":[0,0.5575828450180296],\"type\":\"scatter3d\"},{\"marker\":{\"color\":\"green\"},\"mode\":\"lines+markers\",\"name\":\"E_j\",\"x\":[0,0.2151061563949639],\"y\":[0,0.9495263699063624],\"z\":[0,-0.22831779241537714],\"type\":\"scatter3d\"},{\"marker\":{\"color\":\"blue\"},\"mode\":\"lines+markers\",\"name\":\"E_k\",\"x\":[0,-0.5172039409431195],\"y\":[0,0.3090756005651974],\"z\":[0,0.7981054796254494],\"type\":\"scatter3d\"}],\"name\":\"19\",\"traces\":[3,4,5]},{\"data\":[{\"marker\":{\"color\":\"red\"},\"mode\":\"lines+markers\",\"name\":\"E_i\",\"x\":[0,0.8106074063344108],\"y\":[0,-0.0511418296247676],\"z\":[0,0.5833525058302489],\"type\":\"scatter3d\"},{\"marker\":{\"color\":\"green\"},\"mode\":\"lines+markers\",\"name\":\"E_j\",\"x\":[0,0.22939368248649866],\"y\":[0,0.9442962959807091],\"z\":[0,-0.2359725488958335],\"type\":\"scatter3d\"},{\"marker\":{\"color\":\"blue\"},\"mode\":\"lines+markers\",\"name\":\"E_k\",\"x\":[0,-0.5387895426148162],\"y\":[0,0.325098475326699],\"z\":[0,0.7771851839228362],\"type\":\"scatter3d\"}],\"name\":\"20\",\"traces\":[3,4,5]},{\"data\":[{\"marker\":{\"color\":\"red\"},\"mode\":\"lines+markers\",\"name\":\"E_i\",\"x\":[0,0.7920696206245572],\"y\":[0,-0.04816667891763436],\"z\":[0,0.608527474421423],\"type\":\"scatter3d\"},{\"marker\":{\"color\":\"green\"},\"mode\":\"lines+markers\",\"name\":\"E_j\",\"x\":[0,0.24386585950628636],\"y\":[0,0.9388440060660462],\"z\":[0,-0.24310774327675774],\"type\":\"scatter3d\"},{\"marker\":{\"color\":\"blue\"},\"mode\":\"lines+markers\",\"name\":\"E_k\",\"x\":[0,-0.55960267927426],\"y\":[0,0.34095733357108376],\"z\":[0,0.755376024264185],\"type\":\"scatter3d\"}],\"name\":\"21\",\"traces\":[3,4,5]},{\"data\":[{\"marker\":{\"color\":\"red\"},\"mode\":\"lines+markers\",\"name\":\"E_i\",\"x\":[0,0.7727988859884319],\"y\":[0,-0.044668712736773336],\"z\":[0,0.6330770789702296],\"type\":\"scatter3d\"},{\"marker\":{\"color\":\"green\"},\"mode\":\"lines+markers\",\"name\":\"E_j\",\"x\":[0,0.2585050553358963],\"y\":[0,0.9331761429377741],\"z\":[0,-0.24971468242288886],\"type\":\"scatter3d\"},{\"marker\":{\"color\":\"blue\"},\"mode\":\"lines+markers\",\"name\":\"E_k\",\"x\":[0,-0.5796179933204488],\"y\":[0,0.35663285372245035],\"z\":[0,0.7327045717510964],\"type\":\"scatter3d\"}],\"name\":\"22\",\"traces\":[3,4,5]},{\"data\":[{\"marker\":{\"color\":\"red\"},\"mode\":\"lines+markers\",\"name\":\"E_i\",\"x\":[0,0.7528186808477597],\"y\":[0,-0.04065219281515561],\"z\":[0,0.6569714095651031],\"type\":\"scatter3d\"},{\"marker\":{\"color\":\"green\"},\"mode\":\"lines+markers\",\"name\":\"E_j\",\"x\":[0,0.27329343437020537],\"y\":[0,0.927299612014047],\"z\":[0,-0.25578531679659855],\"type\":\"scatter3d\"},{\"marker\":{\"color\":\"blue\"},\"mode\":\"lines+markers\",\"name\":\"E_k\",\"x\":[0,-0.5988110991763407],\"y\":[0,0.37210593757412336],\"z\":[0,0.7091984480561878],\"type\":\"scatter3d\"}],\"name\":\"23\",\"traces\":[3,4,5]},{\"data\":[{\"marker\":{\"color\":\"red\"},\"mode\":\"lines+markers\",\"name\":\"E_i\",\"x\":[0,0.73215334800479],\"y\":[0,-0.03612201266360818],\"z\":[0,0.6801813546448527],\"type\":\"scatter3d\"},{\"marker\":{\"color\":\"green\"},\"mode\":\"lines+markers\",\"name\":\"E_j\",\"x\":[0,0.28821297924733524],\"y\":[0,0.9212215729425853],\"z\":[0,-0.2613122502650117],\"type\":\"scatter3d\"},{\"marker\":{\"color\":\"blue\"},\"mode\":\"lines+markers\",\"name\":\"E_k\",\"x\":[0,-0.617158612998921],\"y\":[0,0.3873577335568752],\"z\":[0,0.6848862917703412],\"type\":\"scatter3d\"}],\"name\":\"24\",\"traces\":[3,4,5]},{\"data\":[{\"marker\":{\"color\":\"red\"},\"mode\":\"lines+markers\",\"name\":\"E_i\",\"x\":[0,0.7108280649843414],\"y\":[0,-0.031083691608824987],\"z\":[0,0.7026786364666172],\"type\":\"scatter3d\"},{\"marker\":{\"color\":\"green\"},\"mode\":\"lines+markers\",\"name\":\"E_j\",\"x\":[0,0.3032455128000331],\"y\":[0,0.9149494308777475],\"z\":[0,-0.26628874911105604],\"type\":\"scatter3d\"},{\"marker\":{\"color\":\"blue\"},\"mode\":\"lines+markers\",\"name\":\"E_k\",\"x\":[0,-0.6346381811688152],\"y\":[0,0.40236965970666017],\"z\":[0,0.6597977235109899],\"type\":\"scatter3d\"}],\"name\":\"25\",\"traces\":[3,4,5]},{\"data\":[{\"marker\":{\"color\":\"red\"},\"mode\":\"lines+markers\",\"name\":\"E_i\",\"x\":[0,0.6888688133588663],\"y\":[0,-0.02554336806891741],\"z\":[0,0.7244358455579372],\"type\":\"scatter3d\"},{\"marker\":{\"color\":\"green\"},\"mode\":\"lines+markers\",\"name\":\"E_j\",\"x\":[0,0.3183727202017492],\"y\":[0,0.9084908274584901],\"z\":[0,-0.27070875023745866],\"type\":\"scatter3d\"},{\"marker\":{\"color\":\"blue\"},\"mode\":\"lines+markers\",\"name\":\"E_k\",\"x\":[0,-0.6512285075247293],\"y\":[0,0.41712342630387456],\"z\":[0,0.6339633098339603],\"type\":\"scatter3d\"}],\"name\":\"26\",\"traces\":[3,4,5]},{\"data\":[{\"marker\":{\"color\":\"red\"},\"mode\":\"lines+markers\",\"name\":\"E_i\",\"x\":[0,0.6663023470939068],\"y\":[0,-0.019507792074697383],\"z\":[0,0.745426474110976],\"type\":\"scatter3d\"},{\"marker\":{\"color\":\"green\"},\"mode\":\"lines+markers\",\"name\":\"E_j\",\"x\":[0,0.33357617128043215],\"y\":[0,0.901853631498208],\"z\":[0,-0.27456686855369583],\"type\":\"scatter3d\"},{\"marker\":{\"color\":\"blue\"},\"mode\":\"lines+markers\",\"name\":\"E_k\",\"x\":[0,-0.6669093793095422],\"y\":[0,0.43160105815656324],\"z\":[0,0.6074145259928315],\"type\":\"scatter3d\"}],\"name\":\"27\",\"traces\":[3,4,5]},{\"data\":[{\"marker\":{\"color\":\"red\"},\"mode\":\"lines+markers\",\"name\":\"E_i\",\"x\":[0,0.6431561599525093],\"y\":[0,-0.012984317045804633],\"z\":[0,0.7656249482781999],\"type\":\"scatter3d\"},{\"marker\":{\"color\":\"green\"},\"mode\":\"lines+markers\",\"name\":\"E_j\",\"x\":[0,0.34883734297285474],\"y\":[0,0.8950459293977968],\"z\":[0,-0.27785840353689684],\"type\":\"scatter3d\"},{\"marker\":{\"color\":\"blue\"},\"mode\":\"lines+markers\",\"name\":\"E_k\",\"x\":[0,-0.6816616917964374],\"y\":[0,0.44578491650042185],\"z\":[0,0.5801837175911875],\"type\":\"scatter3d\"}],\"name\":\"28\",\"traces\":[3,4,5]},{\"data\":[{\"marker\":{\"color\":\"red\"},\"mode\":\"lines+markers\",\"name\":\"E_i\",\"x\":[0,0.6194584519983087],\"y\":[0,-0.005980890831697644],\"z\":[0,0.7850066593301732],\"type\":\"scatter3d\"},{\"marker\":{\"color\":\"green\"},\"mode\":\"lines+markers\",\"name\":\"E_j\",\"x\":[0,0.36413764189211295],\"y\":[0,0.8880760152936202],\"z\":[0,-0.2805793449587068],\"type\":\"scatter3d\"},{\"marker\":{\"color\":\"blue\"},\"mode\":\"lines+markers\",\"name\":\"E_k\",\"x\":[0,-0.6954674715650693],\"y\":[0,0.45965772048891446],\"z\":[0,0.5523040611744808],\"type\":\"scatter3d\"}],\"name\":\"29\",\"traces\":[3,4,5]},{\"data\":[{\"marker\":{\"color\":\"red\"},\"mode\":\"lines+markers\",\"name\":\"E_i\",\"x\":[0,0.5952380952380953],\"y\":[0,0.001493953971576839],\"z\":[0,0.803547993637502],\"type\":\"scatter3d\"},{\"marker\":{\"color\":\"green\"},\"mode\":\"lines+markers\",\"name\":\"E_j\",\"x\":[0,0.379458426980804],\"y\":[0,0.8809523809523809],\"z\":[0,-0.28272637777113196],\"type\":\"scatter3d\"},{\"marker\":{\"color\":\"blue\"},\"mode\":\"lines+markers\",\"name\":\"E_k\",\"x\":[0,-0.7083098983994068],\"y\":[0,0.47320256824732243],\"z\":[0,0.523809523809524],\"type\":\"scatter3d\"}],\"name\":\"30\",\"traces\":[3,4,5]}]);\n",
       "                        }).then(function(){\n",
       "                            \n",
       "var gd = document.getElementById('82726498-96aa-496d-a48a-dcc0a6c1540e');\n",
       "var x = new MutationObserver(function (mutations, observer) {{\n",
       "        var display = window.getComputedStyle(gd).display;\n",
       "        if (!display || display === 'none') {{\n",
       "            console.log([gd, 'removed!']);\n",
       "            Plotly.purge(gd);\n",
       "            observer.disconnect();\n",
       "        }}\n",
       "}});\n",
       "\n",
       "// Listen for the removal of the full notebook cells\n",
       "var notebookContainer = gd.closest('#notebook-container');\n",
       "if (notebookContainer) {{\n",
       "    x.observe(notebookContainer, {childList: true});\n",
       "}}\n",
       "\n",
       "// Listen for the clearing of the current output cell\n",
       "var outputEl = gd.closest('.output');\n",
       "if (outputEl) {{\n",
       "    x.observe(outputEl, {childList: true});\n",
       "}}\n",
       "\n",
       "                        })                };                });            </script>        </div>"
      ]
     },
     "metadata": {},
     "output_type": "display_data"
    }
   ],
   "source": [
    "\n",
    "from scipy.spatial.transform import Rotation as R\n",
    "\n",
    "def PRV_rotation_animation(axis, angle, steps=30):\n",
    "    \"\"\"\n",
    "    Creates a 3D animation of a rotation about a principal rotation vector (PRV) and displays the final orientation of the frame.\n",
    "\n",
    "    Args:\n",
    "        axis (list, tuple, np.ndarray): The unit vector representing the axis of rotation.\n",
    "        angle (float): The magnitude of the rotation about the axis in degrees.\n",
    "        steps (int, optional): The total number of steps in the animation. Defaults to 30.\n",
    "\n",
    "    Returns:\n",
    "        plotly.graph_objects.Figure: The figure object containing the animation.\n",
    "\n",
    "    Notes:\n",
    "    - The function dynamically calculates rotation matrices for each step based on the PRV method.\n",
    "      It applies these rotations to an initial orientation matrix to visually represent these orientations in a Plotly figure.\n",
    "    \n",
    "    - This approach aids in visualizing the rotation from a starting point of no rotation, making it intuitive to understand complex rotational dynamics.\n",
    "    \n",
    "    - The animation controls allow for interactive exploration of the rotation sequence, enhancing the educational and analytical value of the visualization.\n",
    "    \"\"\"\n",
    "    # Initialize the figure for 3D visualization\n",
    "    fig = go.Figure()\n",
    "\n",
    "    # Define initial orientation as an identity matrix\n",
    "    N_frame = np.eye(3)\n",
    "\n",
    "    # Define colors for axes and the rotation axis visualization\n",
    "    colors = {'i': 'red', 'j': 'green', 'k': 'blue', 'axis': 'purple'}\n",
    "\n",
    "    # Initialize the static frame (N-frame)\n",
    "    initialize_frame(fig, N_frame, 'N', colors, is_static=True)\n",
    "\n",
    "    # Initialize the dynamic frame (E-frame) to visualize rotations\n",
    "    initialize_frame(fig, N_frame, 'E', colors, is_static=False)\n",
    "\n",
    "    # Compute rotation matrix for each step using the PRV to rotation matrix conversion\n",
    "    rotation_matrices = []\n",
    "    for step in range(steps + 1):\n",
    "        # Calculate the interpolation angle for the current step\n",
    "        interpolated_angle = (step / steps) * angle\n",
    "        # Use the prv_to_rotation_matrix function to generate the rotation matrix\n",
    "        R_matrix = prv_to_rotation_matrix(axis, interpolated_angle)\n",
    "        rotation_matrices.append(R_matrix)\n",
    "\n",
    "    print(f\"DCM:\\n{rotation_matrices[-1]}\")\n",
    "\n",
    "    # Generate frames for animation\n",
    "    frames = []\n",
    "    for i, R_matrix in enumerate(rotation_matrices):\n",
    "        E_frame = np.dot(R_matrix, N_frame.T)\n",
    "        frame_data = [go.Scatter3d(x=[0, vec[0]], \n",
    "                                   y=[0, vec[1]], \n",
    "                                   z=[0, vec[2]],\n",
    "                                   mode='lines+markers',\n",
    "                                   name=f'E_{chr(105+j)}',\n",
    "                                   marker=dict(color=colors['i' if j == 0 else 'j' if j == 1 else 'k']))for j, vec in enumerate(E_frame.T)]\n",
    "        \n",
    "        frames.append(go.Frame(data=frame_data, name=str(i), traces=list(range(3, 6))))\n",
    "\n",
    "    # Calculate the norm of the axis\n",
    "    axis_norm = np.linalg.norm(axis)\n",
    "\n",
    "    # Create hover text for the endpoint of the line\n",
    "    endpoint_hover_text = f\"x: {axis[0]:.2f}<br>y: {axis[1]:.2f}<br>z: {axis[2]:.2f}<br>Norm: {axis_norm:.2f}\"\n",
    "\n",
    "    # Plot the rotation axis as a line extending from the origin\n",
    "    axis_line = np.array(axis)\n",
    "    fig.add_trace(go.Scatter3d(x=[0, axis_line[0]], \n",
    "                               y=[0, axis_line[1]], \n",
    "                               z=[0, axis_line[2]],\n",
    "                               mode='lines+markers',\n",
    "                               line=dict(color=colors['axis'], width=5),\n",
    "                               name='Rotation Axis', \n",
    "                               hoverinfo='text+name',  # Set hover info to display text\n",
    "                               text=endpoint_hover_text))\n",
    "\n",
    "\n",
    "    # Configure the figure with generated frames for animation\n",
    "    fig.frames = frames\n",
    "    setup_animation_scene(fig, frames, \"PRV Rotation Animation\")\n",
    "\n",
    "    return fig\n",
    "\n",
    "# Example usage\n",
    "axis = [1, 2, 0.5]  \n",
    "angle = 60  \n",
    "fig = PRV_rotation_animation(axis, angle)\n",
    "fig.show()\n"
   ]
  },
  {
   "cell_type": "code",
   "execution_count": 14,
   "id": "fedc97bd-eb80-42f7-a6d3-f9c8eda424a6",
   "metadata": {},
   "outputs": [
    {
     "data": {
      "text/plain": [
       "array([[ 0.5952381 ,  0.37945843, -0.7083099 ],\n",
       "       [ 0.00149395,  0.88095238,  0.47320257],\n",
       "       [ 0.80354799, -0.28272638,  0.52380952]])"
      ]
     },
     "execution_count": 14,
     "metadata": {},
     "output_type": "execute_result"
    }
   ],
   "source": [
    "prv_to_rotation_matrix([1, 2, 0.5], 60)"
   ]
  },
  {
   "cell_type": "code",
   "execution_count": null,
   "id": "5a687a72-237a-4ddf-9681-e2c216123d15",
   "metadata": {},
   "outputs": [],
   "source": []
  }
 ],
 "metadata": {
  "kernelspec": {
   "display_name": "Python 3 (ipykernel)",
   "language": "python",
   "name": "python3"
  },
  "language_info": {
   "codemirror_mode": {
    "name": "ipython",
    "version": 3
   },
   "file_extension": ".py",
   "mimetype": "text/x-python",
   "name": "python",
   "nbconvert_exporter": "python",
   "pygments_lexer": "ipython3",
   "version": "3.11.5"
  }
 },
 "nbformat": 4,
 "nbformat_minor": 5
}
