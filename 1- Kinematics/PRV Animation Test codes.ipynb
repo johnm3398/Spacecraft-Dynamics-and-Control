{
 "cells": [
  {
   "cell_type": "code",
   "execution_count": 1,
   "id": "4052b30c-5009-4147-aaea-586a9e4978e9",
   "metadata": {},
   "outputs": [],
   "source": [
    "import numpy as np\n",
    "import plotly.graph_objects as go\n",
    "\n"
   ]
  },
  {
   "cell_type": "code",
   "execution_count": 2,
   "id": "0d857aca-f3db-405a-96a5-87cf458dba96",
   "metadata": {},
   "outputs": [],
   "source": [
    "def rotation_matrix_x(phi):\n",
    "    \"\"\"Generate rotation matrix for a roll (rotation about the x-axis)\"\"\"\n",
    "    phi = (phi / 180) * np.pi\n",
    "    c, s = np.cos(phi), np.sin(phi)\n",
    "    return np.array([[1, 0, 0], \n",
    "                     [0, c, -s], \n",
    "                     [0, s, c]])\n",
    "\n",
    "def rotation_matrix_y(theta):\n",
    "    \"\"\"Generate rotation matrix for a pitch (rotation about the y-axis)\"\"\"\n",
    "    theta = (theta / 180) * np.pi\n",
    "    c, s = np.cos(theta), np.sin(theta)\n",
    "    return np.array([[c, 0, s], \n",
    "                     [0, 1, 0], \n",
    "                     [-s, 0, c]])\n",
    "\n",
    "def rotation_matrix_z(psi):\n",
    "    \"\"\"Generate rotation matrix for a yaw (rotation about the z-axis)\"\"\"\n",
    "    psi = (psi / 180) * np.pi\n",
    "    c, s = np.cos(psi), np.sin(psi)\n",
    "    return np.array([[c, -s, 0], \n",
    "                     [s, c, 0], \n",
    "                     [0, 0, 1]])"
   ]
  },
  {
   "cell_type": "code",
   "execution_count": 3,
   "id": "abb32757-eebd-4678-8ad0-6ee80b31cfe5",
   "metadata": {},
   "outputs": [],
   "source": [
    "def rotation_matrix_to_prv(C):\n",
    "    \"\"\"\n",
    "    Converts a rotation matrix to a Principal Rotation Vector (PRV).\n",
    "\n",
    "    Args:\n",
    "        C (np.array): A 3x3 rotation matrix.\n",
    "\n",
    "    Returns:\n",
    "        tuple: A PRV represented as (e_vector, phi_angle).\n",
    "    \"\"\"\n",
    "    # Compute the angle phi from the trace of the rotation matrix\n",
    "    trace_C = np.trace(C)\n",
    "    phi = np.arccos((trace_C - 1) / 2)\n",
    "    \n",
    "    # Handle edge cases where phi is 0 or π\n",
    "    if np.isclose(phi, 0) or np.isclose(phi, np.pi):\n",
    "        \n",
    "        # For phi=0, no rotation, the axis can be arbitrary, choose x-axis for simplicity\n",
    "        # For phi=π, rotation by 180 degrees, find axis by identifying non-zero component\n",
    "        e = np.array([1, 0, 0])  # Arbitrary axis, could also check for non-diagonal elements\n",
    "    \n",
    "    else:\n",
    "        # Compute the unit vector e from the off-diagonal elements of the matrix C\n",
    "        e = (1 / (2 * np.sin(phi))) * np.array([C[1, 2] - C[2, 1],\n",
    "                                                C[2, 0] - C[0, 2],\n",
    "                                                C[0, 1] - C[1, 0]])\n",
    "        # Normalize the unit vector to ensure it's a valid unit vector\n",
    "        e /= np.linalg.norm(e)\n",
    "\n",
    "    # Ensure the angle phi is in the range [0, 2*pi)\n",
    "    phi = np.mod(phi, 2 * np.pi)\n",
    "\n",
    "    return e, phi"
   ]
  },
  {
   "cell_type": "code",
   "execution_count": 4,
   "id": "c77fdd82-e80b-4bfd-a0a4-7fdbac6b2e9f",
   "metadata": {},
   "outputs": [],
   "source": [
    "def prv_to_rotation_matrix(e, phi_deg):\n",
    "    \"\"\"\n",
    "    Converts a Principal Rotation Vector (PRV) to a rotation matrix.\n",
    "\n",
    "    Args:\n",
    "        e (np.array)   : The unit vector of the PRV.\n",
    "        phi_deg (float): The rotation angle of the PRV in degrees.\n",
    "\n",
    "    Returns:\n",
    "        np.array: A 3x3 rotation matrix.\n",
    "    \"\"\"\n",
    "    # Convert the angle from degrees to radians\n",
    "    phi_rad = np.radians(phi_deg)\n",
    "    \n",
    "    # Calculate the cosine and sine of the angle\n",
    "    c_phi = np.cos(phi_rad)\n",
    "    s_phi = np.sin(phi_rad)\n",
    "    \n",
    "    # Calculate the matrix Sigma\n",
    "    Sigma = 1 - c_phi\n",
    "\n",
    "    # Ensure e is a float array to avoid UFuncTypeError during in-place operations\n",
    "    e = np.array(e, dtype=float)\n",
    "    \n",
    "    # Normalize e vector to ensure it's a valid unit vector\n",
    "    e /= np.linalg.norm(e)\n",
    "    \n",
    "    # Decompose the unit vector into its components\n",
    "    e1, e2, e3 = e\n",
    "    \n",
    "    # Construct the rotation matrix using the given formula\n",
    "    C = np.array([[((e1**2)*Sigma + c_phi), (e1*e2*Sigma + e3*s_phi), (e1*e3*Sigma - e2*s_phi)],\n",
    "                  [(e2*e1*Sigma - e3*s_phi), ((e2**2)*Sigma + c_phi), (e2*e3*Sigma + e1*s_phi)],\n",
    "                  [(e3*e1*Sigma + e2*s_phi), (e3*e2*Sigma - e1*s_phi), ((e3**2)*Sigma + c_phi)]])\n",
    "\n",
    "    return C"
   ]
  },
  {
   "cell_type": "code",
   "execution_count": 5,
   "id": "849b0b26-5b7c-4cc2-902a-41eb5732ff7f",
   "metadata": {},
   "outputs": [],
   "source": [
    "def initialize_frame(fig, frame_matrix, frame_label, colors, is_static=False):\n",
    "    \"\"\"\n",
    "    Initializes vectors on the provided figure as either static or dynamic using a color dictionary.\n",
    "\n",
    "    Args:\n",
    "        fig (plotly.graph_objects.Figure) : The figure on which to add the frames.\n",
    "        frame_matrix (np.ndarray)         : The matrix representing the orientation of the frame.\n",
    "        frame_label (str)                 : Base label for the frame vectors ('N' for N-frame, 'E' for E-frame).\n",
    "        colors (dict)                     : Dictionary of colors for each vector, keyed by 'i', 'j', 'k'.\n",
    "        is_static (bool)                  : Indicates whether the frame should be added as static (with dotted lines).\n",
    "        \n",
    "    Note:\n",
    "    - This function modifies the 'fig' (Figure object) directly. \n",
    "      In Python, objects like lists, dictionaries, and classes such as plotly.graph_objects.Figure are mutable. \n",
    "      This means they can be changed after creation. \n",
    "      `initialize_frame` leverages this by adding traces directly to 'fig', thus altering its state without the need to return a new object.\n",
    "    \n",
    "    - The function operates with a side effect: it changes the state of 'fig' by adding traces. \n",
    "      It does not return a value because its primary purpose is to modify the existing figure, not produce a new output. \n",
    "      This approach avoids the need for managing a return value, simplifying its usage and integration into other parts of your code.\n",
    "    \n",
    "    - By not returning a value, it is evident that the function's sole responsibility is to modify the provided figure, \n",
    "      aligning with typical practices in Plotly where in-place modifications are common for updating visual properties.\n",
    "\n",
    "    \"\"\"\n",
    "    \n",
    "    line_style = 'dot' if is_static else 'solid'\n",
    "    \n",
    "    suffix = \" (static)\" if is_static else \"\"\n",
    "    \n",
    "    axis_labels = ['i', 'j', 'k']  # Axis labels corresponding to 'i', 'j', 'k'\n",
    "\n",
    "    for i, axis in enumerate(axis_labels):\n",
    "        vec = frame_matrix[:, i]\n",
    "        name = f'{frame_label}_{axis}{suffix}'\n",
    "        color = colors[axis]  # Access color using axis label as key\n",
    "        fig.add_trace(go.Scatter3d(x=[0, vec[0]], \n",
    "                                   y=[0, vec[1]], \n",
    "                                   z=[0, vec[2]],\n",
    "                                   mode='lines+markers', \n",
    "                                   name=name,\n",
    "                                   marker=dict(color=color),\n",
    "                                   line=dict(dash=line_style, color=color)))"
   ]
  },
  {
   "cell_type": "code",
   "execution_count": 6,
   "id": "e649c956-fe6e-4a1a-ba8f-4fe83da900d5",
   "metadata": {},
   "outputs": [],
   "source": [
    "def setup_animation_scene(fig, frames, title):\n",
    "    \"\"\"\n",
    "    Adds animation controls and configures layout settings for a Plotly figure.\n",
    "\n",
    "    Args:\n",
    "        fig (plotly.graph_objects.Figure): The figure to which the controls will be added.\n",
    "        frames (list): List of animation frames to be included in the slider control.\n",
    "\n",
    "    Note:\n",
    "    - Animation Controls: This function sets up interactive controls that allow users to play through or step through the animation frames at their own pace. \n",
    "                          The 'Play' button starts the animation, while the slider allows users to jump to specific points in the animation.\n",
    "    \n",
    "    - Button Configuration: The 'Play' button is configured to start the animation immediately when clicked, using the 'immediate' mode. \n",
    "                            It ensures that the animation runs smoothly, redrawing each frame with a duration of 100 milliseconds.\n",
    "    \n",
    "    - Slider Mechanism: The slider below the animation includes steps corresponding to each frame created in the animation sequence. \n",
    "                        Users can move the slider to navigate to different frames, which is particularly useful for examining specific moments of the animation in detail.\n",
    "    \n",
    "    - Current Value Display: The slider also shows the current frame number as the animation plays, \n",
    "                             providing immediate visual feedback to users on their current position within the animation sequence.\n",
    "    \n",
    "    - Layout Configuration: The function also defines the visual layout of the 3D scene. \n",
    "                            It sets a fixed cube aspect for the axes to ensure that objects in the 3D space are displayed proportionally. \n",
    "                            The axes are configured to not auto-scale, maintaining consistent spatial references.\n",
    "    \n",
    "    - Scene Dimensions: The overall dimensions of the figure are set to ensure sufficient space for viewing the animation comfortably, enhancing the visual experience for the user.\n",
    "    \n",
    "    - Usability and Interactivity: By integrating these controls, the function enhances the usability and interactivity of the visualization, \n",
    "                                   making it a more effective tool for presentations or educational purposes where step-by-step analysis of movements is beneficial.\n",
    "\n",
    "    \"\"\"\n",
    "    # Update the figure with animation controls\n",
    "    fig.update_layout(updatemenus=[{\"type\": \"buttons\",\n",
    "                                    \"showactive\": False,\n",
    "                                    \"y\": 1.05,\n",
    "                                    \"x\": 0.8,\n",
    "                                    \"xanchor\": 'left',\n",
    "                                    \"yanchor\": 'bottom',\n",
    "                                    \"buttons\": [{\"label\": 'Play',\n",
    "                                                 \"method\": 'animate',\n",
    "                                                 \"args\": [None, {\"frame\": {\"duration\": 100, \"redraw\": True},\n",
    "                                                                 \"fromcurrent\": True,\n",
    "                                                                 \"mode\": 'immediate'}]}]}],\n",
    "                      sliders=[{\"steps\": [{\"method\": 'animate',\n",
    "                                           \"args\": [[f.name], {\"mode\": 'immediate', \n",
    "                                                               \"frame\": {\"duration\": 100, \"redraw\": True},\n",
    "                                                               \"fromcurrent\": True}],\n",
    "                                           \"label\": str(k)} for k, f in enumerate(frames)],\n",
    "                                \"x\": 0.1,\n",
    "                                \"y\": 0,\n",
    "                                \"currentvalue\": {\"visible\": True, \"prefix\": 'Step: '}}])\n",
    "\n",
    "    # Set additional layout settings for the 3D scene\n",
    "    fig.update_layout(width=1000,\n",
    "                      height=800,\n",
    "                      template='presentation',\n",
    "                      scene={\"aspectmode\": 'cube',\n",
    "                             \"xaxis\": {\"range\": [-2, 2], \"autorange\": False},\n",
    "                             \"yaxis\": {\"range\": [-2, 2], \"autorange\": False},\n",
    "                             \"zaxis\": {\"range\": [-2, 2], \"autorange\": False}},\n",
    "                      title=f'{title}')"
   ]
  },
  {
   "cell_type": "code",
   "execution_count": null,
   "id": "f729ca94-6cb3-4cd1-883c-88e07f06bff2",
   "metadata": {},
   "outputs": [],
   "source": []
  },
  {
   "cell_type": "code",
   "execution_count": 11,
   "id": "9249c08b-7def-4369-a494-ab18dd4aa25b",
   "metadata": {},
   "outputs": [
    {
     "data": {
      "application/vnd.plotly.v1+json": {
       "config": {
        "plotlyServerURL": "https://plot.ly"
       },
       "data": [
        {
         "line": {
          "color": "red",
          "dash": "dot"
         },
         "marker": {
          "color": "red"
         },
         "mode": "lines+markers",
         "name": "N_i (static)",
         "type": "scatter3d",
         "x": [
          0,
          1
         ],
         "y": [
          0,
          0
         ],
         "z": [
          0,
          0
         ]
        },
        {
         "line": {
          "color": "green",
          "dash": "dot"
         },
         "marker": {
          "color": "green"
         },
         "mode": "lines+markers",
         "name": "N_j (static)",
         "type": "scatter3d",
         "x": [
          0,
          0
         ],
         "y": [
          0,
          1
         ],
         "z": [
          0,
          0
         ]
        },
        {
         "line": {
          "color": "blue",
          "dash": "dot"
         },
         "marker": {
          "color": "blue"
         },
         "mode": "lines+markers",
         "name": "N_k (static)",
         "type": "scatter3d",
         "x": [
          0,
          0
         ],
         "y": [
          0,
          0
         ],
         "z": [
          0,
          1
         ]
        },
        {
         "line": {
          "color": "red",
          "dash": "solid"
         },
         "marker": {
          "color": "red"
         },
         "mode": "lines+markers",
         "name": "E_i",
         "type": "scatter3d",
         "x": [
          0,
          0.855072463768116
         ],
         "y": [
          0,
          -0.3155795527518307
         ],
         "z": [
          0,
          0.41141296478171235
         ]
        },
        {
         "line": {
          "color": "green",
          "dash": "solid"
         },
         "marker": {
          "color": "green"
         },
         "mode": "lines+markers",
         "name": "E_j",
         "type": "scatter3d",
         "x": [
          0,
          0.5184781034764683
         ],
         "y": [
          0,
          0.5289855072463769
         ],
         "z": [
          0,
          -0.671829434707008
         ]
        },
        {
         "line": {
          "color": "blue",
          "dash": "solid"
         },
         "marker": {
          "color": "blue"
         },
         "mode": "lines+markers",
         "name": "E_k",
         "type": "scatter3d",
         "x": [
          0,
          -0.005615863332437132
         ],
         "y": [
          0,
          0.7877714636925153
         ],
         "z": [
          0,
          0.6159420289855073
         ]
        },
        {
         "hoverinfo": "text+name",
         "line": {
          "color": "purple",
          "width": 5
         },
         "mode": "lines+markers",
         "name": "Rotation Axis",
         "text": "x: 7.00<br>y: 2.00<br>z: 4.00<br>Norm: 8.31",
         "type": "scatter3d",
         "x": [
          0,
          7
         ],
         "y": [
          0,
          2
         ],
         "z": [
          0,
          4
         ]
        }
       ],
       "frames": [
        {
         "data": [
          {
           "marker": {
            "color": "red"
           },
           "mode": "lines+markers",
           "name": "E_i",
           "type": "scatter3d",
           "x": [
            0,
            1
           ],
           "y": [
            0,
            0
           ],
           "z": [
            0,
            0
           ]
          },
          {
           "marker": {
            "color": "green"
           },
           "mode": "lines+markers",
           "name": "E_j",
           "type": "scatter3d",
           "x": [
            0,
            0
           ],
           "y": [
            0,
            1
           ],
           "z": [
            0,
            0
           ]
          },
          {
           "marker": {
            "color": "blue"
           },
           "mode": "lines+markers",
           "name": "E_k",
           "type": "scatter3d",
           "x": [
            0,
            0
           ],
           "y": [
            0,
            0
           ],
           "z": [
            0,
            1
           ]
          }
         ],
         "name": "0",
         "traces": [
          3,
          4,
          5
         ]
        },
        {
         "data": [
          {
           "marker": {
            "color": "red"
           },
           "mode": "lines+markers",
           "name": "E_i",
           "type": "scatter3d",
           "x": [
            0,
            0.9998234281214771
           ],
           "y": [
            0,
            -0.016682022416212198
           ],
           "z": [
            0,
            0.008650011995521291
           ]
          },
          {
           "marker": {
            "color": "green"
           },
           "mode": "lines+markers",
           "name": "E_j",
           "type": "scatter3d",
           "x": [
            0,
            0.01692922304614435
           ],
           "y": [
            0,
            0.9994261413948003
           ],
           "z": [
            0,
            -0.02933921102815279
           ]
          },
          {
           "marker": {
            "color": "blue"
           },
           "mode": "lines+markers",
           "name": "E_k",
           "type": "scatter3d",
           "x": [
            0,
            -0.008155610735656982
           ],
           "y": [
            0,
            0.029480468530971166
           ],
           "z": [
            0,
            0.9995320845219141
           ]
          }
         ],
         "name": "1",
         "traces": [
          3,
          4,
          5
         ]
        },
        {
         "data": [
          {
           "marker": {
            "color": "red"
           },
           "mode": "lines+markers",
           "name": "E_i",
           "type": "scatter3d",
           "x": [
            0,
            0.9992939276115432
           ],
           "y": [
            0,
            -0.03309651972784661
           ],
           "z": [
            0,
            0.017783886543722625
           ]
          },
          {
           "marker": {
            "color": "green"
           },
           "mode": "lines+markers",
           "name": "E_j",
           "type": "scatter3d",
           "x": [
            0,
            0.03408502107168607
           ],
           "y": [
            0,
            0.9977052647375155
           ],
           "z": [
            0,
            -0.05850141924420839
           ]
          },
          {
           "marker": {
            "color": "blue"
           },
           "mode": "lines+markers",
           "name": "E_k",
           "type": "scatter3d",
           "x": [
            0,
            -0.015806883856043712
           ],
           "y": [
            0,
            0.0590662771549738
           ],
           "z": [
            0,
            0.9981289081705896
           ]
          }
         ],
         "name": "2",
         "traces": [
          3,
          4,
          5
         ]
        },
        {
         "data": [
          {
           "marker": {
            "color": "red"
           },
           "mode": "lines+markers",
           "name": "E_i",
           "type": "scatter3d",
           "x": [
            0,
            0.9984121435850067
           ],
           "y": [
            0,
            -0.04922349339838854
           ],
           "z": [
            0,
            0.027390495425432454
           ]
          },
          {
           "marker": {
            "color": "green"
           },
           "mode": "lines+markers",
           "name": "E_j",
           "type": "scatter3d",
           "x": [
            0,
            0.05144649237937908
           ],
           "y": [
            0,
            0.994839466651272
           ],
           "z": [
            0,
            -0.08745109498954937
           ]
          },
          {
           "marker": {
            "color": "blue"
           },
           "mode": "lines+markers",
           "name": "E_k",
           "type": "scatter3d",
           "x": [
            0,
            -0.022944497463451355
           ],
           "y": [
            0,
            0.08872138012154396
           ],
           "z": [
            0,
            0.9957921805002679
           ]
          }
         ],
         "name": "3",
         "traces": [
          3,
          4,
          5
         ]
        },
        {
         "data": [
          {
           "marker": {
            "color": "red"
           },
           "mode": "lines+markers",
           "name": "E_i",
           "type": "scatter3d",
           "x": [
            0,
            0.9971791503598755
           ],
           "y": [
            0,
            -0.06504329519459028
           ],
           "z": [
            0,
            0.03745813446751307
           ]
          },
          {
           "marker": {
            "color": "green"
           },
           "mode": "lines+markers",
           "name": "E_j",
           "type": "scatter3d",
           "x": [
            0,
            0.06899248469076462
           ],
           "y": [
            0,
            0.9908322386695952
           ],
           "z": [
            0,
            -0.11615296754363573
           ]
          },
          {
           "marker": {
            "color": "blue"
           },
           "mode": "lines+markers",
           "name": "E_k",
           "type": "scatter3d",
           "x": [
            0,
            -0.02955975547516438
           ],
           "y": [
            0,
            0.11840964725573534
           ],
           "z": [
            0,
            0.99252474845367
           ]
          }
         ],
         "name": "4",
         "traces": [
          3,
          4,
          5
         ]
        },
        {
         "data": [
          {
           "marker": {
            "color": "red"
           },
           "mode": "lines+markers",
           "name": "E_i",
           "type": "scatter3d",
           "x": [
            0,
            0.9955964501484661
           ],
           "y": [
            0,
            -0.08053665112481675
           ],
           "z": [
            0,
            0.04797453780259272
           ]
          },
          {
           "marker": {
            "color": "green"
           },
           "mode": "lines+markers",
           "name": "E_j",
           "type": "scatter3d",
           "x": [
            0,
            0.08670162091696423
           ],
           "y": [
            0,
            0.9856884629825148
           ],
           "z": [
            0,
            -0.14457206809594478
           ]
          },
          {
           "marker": {
            "color": "blue"
           },
           "mode": "lines+markers",
           "name": "E_k",
           "type": "scatter3d",
           "x": [
            0,
            -0.035644598218297775
           ],
           "y": [
            0,
            0.14809490797717192
           ],
           "z": [
            0,
            0.9883305928934352
           ]
          }
         ],
         "name": "5",
         "traces": [
          3,
          4,
          5
         ]
        },
        {
         "data": [
          {
           "marker": {
            "color": "red"
           },
           "mode": "lines+markers",
           "name": "E_i",
           "type": "scatter3d",
           "x": [
            0,
            0.99366597122719
           ],
           "y": [
            0,
            -0.09568468492143561
           ],
           "z": [
            0,
            0.058926892813135213
           ]
          },
          {
           "marker": {
            "color": "green"
           },
           "mode": "lines+markers",
           "name": "E_j",
           "type": "scatter3d",
           "x": [
            0,
            0.10455232520336954
           ],
           "y": [
            0,
            0.9794144064883676
           ],
           "z": [
            0,
            -0.17267377235008052
           ]
          },
          {
           "marker": {
            "color": "blue"
           },
           "mode": "lines+markers",
           "name": "E_k",
           "type": "scatter3d",
           "x": [
            0,
            -0.041191612249267366
           ],
           "y": [
            0,
            0.1777409953683285
           ],
           "z": [
            0,
            0.9832148237520536
           ]
          }
         ],
         "name": "6",
         "traces": [
          3,
          4,
          5
         ]
        },
        {
         "data": [
          {
           "marker": {
            "color": "red"
           },
           "mode": "lines+markers",
           "name": "E_i",
           "type": "scatter3d",
           "x": [
            0,
            0.9913900655872454
           ],
           "y": [
            0,
            -0.11046894103864131
           ],
           "z": [
            0,
            0.07030185574164129
           ]
          },
          {
           "marker": {
            "color": "green"
           },
           "mode": "lines+markers",
           "name": "E_j",
           "type": "scatter3d",
           "x": [
            0,
            0.12252284921649782
           ],
           "y": [
            0,
            0.9720177131585473
           ],
           "z": [
            0,
            -0.2004238427081449
           ]
          },
          {
           "marker": {
            "color": "blue"
           },
           "mode": "lines+markers",
           "name": "E_k",
           "type": "scatter3d",
           "x": [
            0,
            -0.04619403938592828
           ],
           "y": [
            0,
            0.20731179023834861
           ],
           "z": [
            0,
            0.9771836738062002
           ]
          }
         ],
         "name": "7",
         "traces": [
          3,
          4,
          5
         ]
        },
        {
         "data": [
          {
           "marker": {
            "color": "red"
           },
           "mode": "lines+markers",
           "name": "E_i",
           "type": "scatter3d",
           "x": [
            0,
            0.9887715060690779
           ],
           "y": [
            0,
            -0.12487140713769515
           ],
           "z": [
            0,
            0.08208556794796118
           ]
          },
          {
           "marker": {
            "color": "green"
           },
           "mode": "lines+markers",
           "name": "E_j",
           "type": "scatter3d",
           "x": [
            0,
            0.14059129864098605
           ],
           "y": [
            0,
            0.9635073947245033
           ],
           "z": [
            0,
            -0.22778846998397723
           ]
          },
          {
           "marker": {
            "color": "blue"
           },
           "mode": "lines+markers",
           "name": "E_k",
           "type": "scatter3d",
           "x": [
            0,
            -0.05064578494137942
           ],
           "y": [
            0,
            0.23677126512871488
           ],
           "z": [
            0,
            0.9702444910830565
           ]
          }
         ],
         "name": "8",
         "traces": [
          3,
          4,
          5
         ]
        },
        {
         "data": [
          {
           "marker": {
            "color": "red"
           },
           "mode": "lines+markers",
           "name": "E_i",
           "type": "scatter3d",
           "x": [
            0,
            0.9858134829841024
           ],
           "y": [
            0,
            -0.13887453603218528
           ],
           "z": [
            0,
            0.0942636727939133
           ]
          },
          {
           "marker": {
            "color": "green"
           },
           "mode": "lines+markers",
           "name": "E_j",
           "type": "scatter3d",
           "x": [
            0,
            0.1587356598544418
           ],
           "y": [
            0,
            0.9538938196983331
           ],
           "z": [
            0,
            -0.2547343145944397
           ]
          },
          {
           "marker": {
            "color": "blue"
           },
           "mode": "lines+markers",
           "name": "E_k",
           "type": "scatter3d",
           "x": [
            0,
            -0.05454142514940023
           ],
           "y": [
            0,
            0.2660835282071577
           ],
           "z": [
            0,
            0.9624057299078715
           ]
          }
         ],
         "name": "9",
         "traces": [
          3,
          4,
          5
         ]
        },
        {
         "data": [
          {
           "marker": {
            "color": "red"
           },
           "mode": "lines+markers",
           "name": "E_i",
           "type": "scatter3d",
           "x": [
            0,
            0.9825196002277995
           ],
           "y": [
            0,
            -0.1524612670665704
           ],
           "z": [
            0,
            0.106821333134636
           ]
          },
          {
           "marker": {
            "color": "green"
           },
           "mode": "lines+markers",
           "name": "E_j",
           "type": "scatter3d",
           "x": [
            0,
            0.17693382674765104
           ],
           "y": [
            0,
            0.9431887007403486
           ],
           "z": [
            0,
            -0.28122854717856355
           ]
          },
          {
           "marker": {
            "color": "blue"
           },
           "mode": "lines+markers",
           "name": "E_k",
           "type": "scatter3d",
           "x": [
            0,
            -0.05787621377247472
           ],
           "y": [
            0,
            0.29521286699632393
           ],
           "z": [
            0,
            0.9536769406036688
           ]
          }
         ],
         "name": "10",
         "traces": [
          3,
          4,
          5
         ]
        },
        {
         "data": [
          {
           "marker": {
            "color": "red"
           },
           "mode": "lines+markers",
           "name": "E_i",
           "type": "scatter3d",
           "x": [
            0,
            0.9788938708889239
           ],
           "y": [
            0,
            -0.16561504690196058
           ],
           "z": [
            0,
            0.11974324939536347
           ]
          },
          {
           "marker": {
            "color": "green"
           },
           "mode": "lines+markers",
           "name": "E_j",
           "type": "scatter3d",
           "x": [
            0,
            0.19516362765746711
           ],
           "y": [
            0,
            0.9314050803890026
           ],
           "z": [
            0,
            -0.30723888859506876
           ]
          },
          {
           "marker": {
            "color": "blue"
           },
           "mode": "lines+markers",
           "name": "E_k",
           "type": "scatter3d",
           "x": [
            0,
            -0.06064608788435037
           ],
           "y": [
            0,
            0.3241237918839297
           ],
           "z": [
            0,
            0.9440687578556484
           ]
          }
         ],
         "name": "11",
         "traces": [
          3,
          4,
          5
         ]
        },
        {
         "data": [
          {
           "marker": {
            "color": "red"
           },
           "mode": "lines+markers",
           "name": "E_i",
           "type": "scatter3d",
           "x": [
            0,
            0.9749407123601741
           ],
           "y": [
            0,
            -0.17831984968381084
           ],
           "z": [
            0,
            0.13301367821160062
           ]
          },
          {
           "marker": {
            "color": "green"
           },
           "mode": "lines+markers",
           "name": "E_j",
           "type": "scatter3d",
           "x": [
            0,
            0.213402852379567
           ],
           "y": [
            0,
            0.918557315170566
           ],
           "z": [
            0,
            -0.33273364924952525
           ]
          },
          {
           "marker": {
            "color": "blue"
           },
           "mode": "lines+markers",
           "name": "E_k",
           "type": "scatter3d",
           "x": [
            0,
            -0.0628476728200883
           ],
           "y": [
            0,
            0.352781079361386
           ],
           "z": [
            0,
            0.9335928877544616
           ]
          }
         ],
         "name": "12",
         "traces": [
          3,
          4,
          5
         ]
        },
        {
         "data": [
          {
           "marker": {
            "color": "red"
           },
           "mode": "lines+markers",
           "name": "E_i",
           "type": "scatter3d",
           "x": [
            0,
            0.9706649409562803
           ],
           "y": [
            0,
            -0.19056019656695636
           ],
           "z": [
            0,
            0.14661645160998765
           ]
          },
          {
           "marker": {
            "color": "green"
           },
           "mode": "lines+markers",
           "name": "E_j",
           "type": "scatter3d",
           "x": [
            0,
            0.23162927922816393
           ],
           "y": [
            0,
            0.904661058107911
           ],
           "z": [
            0,
            -0.3576817677032424
           ]
          },
          {
           "marker": {
            "color": "blue"
           },
           "mode": "lines+markers",
           "name": "E_k",
           "type": "scatter3d",
           "x": [
            0,
            -0.06447828628757249
           ],
           "y": [
            0,
            0.38114981493821815
           ],
           "z": [
            0,
            0.9222620935341428
           ]
          }
         ],
         "name": "13",
         "traces": [
          3,
          4,
          5
         ]
        },
        {
         "data": [
          {
           "marker": {
            "color": "red"
           },
           "mode": "lines+markers",
           "name": "E_i",
           "type": "scatter3d",
           "x": [
            0,
            0.9660717660460658
           ],
           "y": [
            0,
            -0.20232117457420093
           ],
           "z": [
            0,
            0.16053499670648533
           ]
          },
          {
           "marker": {
            "color": "green"
           },
           "mode": "lines+markers",
           "name": "E_j",
           "type": "scatter3d",
           "x": [
            0,
            0.24982070210970883
           ],
           "y": [
            0,
            0.8897332396497138
           ],
           "z": [
            0,
            -0.3820528485168474
           ]
          },
          {
           "marker": {
            "color": "blue"
           },
           "mode": "lines+markers",
           "name": "E_k",
           "type": "scatter3d",
           "x": [
            0,
            -0.06553594163546955
           ],
           "y": [
            0,
            0.4091954356799947
           ],
           "z": [
            0,
            0.9100901800220743
           ]
          }
         ],
         "name": "14",
         "traces": [
          3,
          4,
          5
         ]
        },
        {
         "data": [
          {
           "marker": {
            "color": "red"
           },
           "mode": "lines+markers",
           "name": "E_i",
           "type": "scatter3d",
           "x": [
            0,
            0.9611667837056344
           ],
           "y": [
            0,
            -0.21358845476548247
           ],
           "z": [
            0,
            0.17475235589788102
           ]
          },
          {
           "marker": {
            "color": "green"
           },
           "mode": "lines+markers",
           "name": "E_j",
           "type": "scatter3d",
           "x": [
            0,
            0.2679549575775943
           ],
           "y": [
            0,
            0.8737920470433118
           ],
           "z": [
            0,
            -0.4058171992824459
           ]
          },
          {
           "marker": {
            "color": "blue"
           },
           "mode": "lines+markers",
           "name": "E_k",
           "type": "scatter3d",
           "x": [
            0,
            -0.06601935027365735
           ],
           "y": [
            0,
            0.43688377231793835
           ],
           "z": [
            0,
            0.8970919768199311
           ]
          }
         ],
         "name": "15",
         "traces": [
          3,
          4,
          5
         ]
        },
        {
         "data": [
          {
           "marker": {
            "color": "red"
           },
           "mode": "lines+markers",
           "name": "E_i",
           "type": "scatter3d",
           "x": [
            0,
            0.9559559699004133
           ],
           "y": [
            0,
            -0.2243483096954794
           ],
           "z": [
            0,
            0.18925120752201638
           ]
          },
          {
           "marker": {
            "color": "green"
           },
           "mode": "lines+markers",
           "name": "E_j",
           "type": "scatter3d",
           "x": [
            0,
            0.28600995183490074
           ],
           "y": [
            0,
            0.8568569021763432
           ],
           "z": [
            0,
            -0.4289458667992479
           ]
          },
          {
           "marker": {
            "color": "blue"
           },
           "mode": "lines+markers",
           "name": "E_k",
           "type": "scatter3d",
           "x": [
            0,
            -0.06592792324317368
           ],
           "y": [
            0,
            0.4641810908789173
           ],
           "z": [
            0,
            0.8832833202360953
           ]
          }
         ],
         "name": "16",
         "traces": [
          3,
          4,
          5
         ]
        },
        {
         "data": [
          {
           "marker": {
            "color": "red"
           },
           "mode": "lines+markers",
           "name": "E_i",
           "type": "scatter3d",
           "x": [
            0,
            0.9504456732043599
           ],
           "y": [
            0,
            -0.23458763013838818
           ],
           "z": [
            0,
            0.2040138869615642
           ]
          },
          {
           "marker": {
            "color": "green"
           },
           "mode": "lines+markers",
           "name": "E_j",
           "type": "scatter3d",
           "x": [
            0,
            0.30396368765228426
           ],
           "y": [
            0,
            0.8389484379141697
           ],
           "z": [
            0,
            -0.45141067234858234
           ]
          },
          {
           "marker": {
            "color": "blue"
           },
           "mode": "lines+markers",
           "name": "E_k",
           "type": "scatter3d",
           "x": [
            0,
            -0.06526177193377201
           ],
           "y": [
            0,
            0.49105413378509444
           ],
           "z": [
            0,
            0.8686810339915538
           ]
          }
         ],
         "name": "17",
         "traces": [
          3,
          4,
          5
         ]
        },
        {
         "data": [
          {
           "marker": {
            "color": "red"
           },
           "mode": "lines+markers",
           "name": "E_i",
           "type": "scatter3d",
           "x": [
            0,
            0.9446426070652021
           ],
           "y": [
            0,
            -0.24429394105949534
           ],
           "z": [
            0,
            0.2190224081656439
           ]
          },
          {
           "marker": {
            "color": "green"
           },
           "mode": "lines+markers",
           "name": "E_j",
           "type": "scatter3d",
           "x": [
            0,
            0.32179429116821234
           ],
           "y": [
            0,
            0.820088472961907
           ],
           "z": [
            0,
            -0.47318424602532505
           ]
          },
          {
           "marker": {
            "color": "blue"
           },
           "mode": "lines+markers",
           "name": "E_k",
           "type": "scatter3d",
           "x": [
            0,
            -0.06402170794820994
           ],
           "y": [
            0,
            0.5174701603731633
           ],
           "z": [
            0,
            0.8533029087227857
           ]
          }
         ],
         "name": "18",
         "traces": [
          3,
          4,
          5
         ]
        },
        {
         "data": [
          {
           "marker": {
            "color": "red"
           },
           "mode": "lines+markers",
           "name": "E_i",
           "type": "scatter3d",
           "x": [
            0,
            0.9385538416251368
           ],
           "y": [
            0,
            -0.25345541681408623
           ],
           "z": [
            0,
            0.23425848556305373
           ]
          },
          {
           "marker": {
            "color": "green"
           },
           "mode": "lines+markers",
           "name": "E_j",
           "type": "scatter3d",
           "x": [
            0,
            0.33948003853889475
           ],
           "y": [
            0,
            0.8002999852816945
           ],
           "z": [
            0,
            -0.49424006008391297
           ]
          },
          {
           "marker": {
            "color": "blue"
           },
           "mode": "lines+markers",
           "name": "E_k",
           "type": "scatter3d",
           "x": [
            0,
            -0.062209242113436744
           ],
           "y": [
            0,
            0.5433969867838035
           ],
           "z": [
            0,
            0.8371676803066125
           ]
          }
         ],
         "name": "19",
         "traces": [
          3,
          4,
          5
         ]
        },
        {
         "data": [
          {
           "marker": {
            "color": "red"
           },
           "mode": "lines+markers",
           "name": "E_i",
           "type": "scatter3d",
           "x": [
            0,
            0.9321867951069501
           ],
           "y": [
            0,
            -0.262060895555171
           ],
           "z": [
            0,
            0.2497035563404227
           ]
          },
          {
           "marker": {
            "color": "green"
           },
           "mode": "lines+markers",
           "name": "E_j",
           "type": "scatter3d",
           "x": [
            0,
            0.3569993824054407
           ],
           "y": [
            0,
            0.7796070840975879
           ],
           "z": [
            0,
            -0.5145524612583153
           ]
          },
          {
           "marker": {
            "color": "blue"
           },
           "mode": "lines+markers",
           "name": "E_k",
           "type": "scatter3d",
           "x": [
            0,
            -0.059826582639883136
           ],
           "y": [
            0,
            0.5688030251727553
           ],
           "z": [
            0,
            0.8202950070334178
           ]
          }
         ],
         "name": "20",
         "traces": [
          3,
          4,
          5
         ]
        },
        {
         "data": [
          {
           "marker": {
            "color": "red"
           },
           "mode": "lines+markers",
           "name": "E_i",
           "type": "scatter3d",
           "x": [
            0,
            0.9255492247760563
           ],
           "y": [
            0,
            -0.2700998928324761
           ],
           "z": [
            0,
            0.2653388030581395
           ]
          },
          {
           "marker": {
            "color": "green"
           },
           "mode": "lines+markers",
           "name": "E_j",
           "type": "scatter3d",
           "x": [
            0,
            0.3743309781459973
           ],
           "y": [
            0,
            0.758034980522183
           ],
           "z": [
            0,
            -0.5340967020165867
           ]
          },
          {
           "marker": {
            "color": "blue"
           },
           "mode": "lines+markers",
           "name": "E_k",
           "type": "scatter3d",
           "x": [
            0,
            -0.05687663243109718
           ],
           "y": [
            0,
            0.5936573221957416
           ],
           "z": [
            0,
            0.8027054456565492
           ]
          }
         ],
         "name": "21",
         "traces": [
          3,
          4,
          5
         ]
        },
        {
         "data": [
          {
           "marker": {
            "color": "red"
           },
           "mode": "lines+markers",
           "name": "E_i",
           "type": "scatter3d",
           "x": [
            0,
            0.918649217489464
           ],
           "y": [
            0,
            -0.2775626143661316
           ],
           "z": [
            0,
            0.28114517657650356
           ]
          },
          {
           "marker": {
            "color": "green"
           },
           "mode": "lines+markers",
           "name": "E_j",
           "type": "scatter3d",
           "x": [
            0,
            0.3914537098808818
           ],
           "y": [
            0,
            0.7356099568407584
           ],
           "z": [
            0,
            -0.5528489707119224
           ]
          },
          {
           "marker": {
            "color": "blue"
           },
           "mode": "lines+markers",
           "name": "E_k",
           "type": "scatter3d",
           "x": [
            0,
            -0.053362985547003125
           ],
           "y": [
            0,
            0.6179295967203511
           ],
           "z": [
            0,
            0.7844204263470799
           ]
          }
         ],
         "name": "22",
         "traces": [
          3,
          4,
          5
         ]
        },
        {
         "data": [
          {
           "marker": {
            "color": "red"
           },
           "mode": "lines+markers",
           "name": "E_i",
           "type": "scatter3d",
           "x": [
            0,
            0.9114951798431876
           ],
           "y": [
            0,
            -0.284439967979493
           ],
           "z": [
            0,
            0.29710341926416817
           ]
          },
          {
           "marker": {
            "color": "green"
           },
           "mode": "lines+markers",
           "name": "E_j",
           "type": "scatter3d",
           "x": [
            0,
            0.4083467161990303
           ],
           "y": [
            0,
            0.7123593344903597
           ],
           "z": [
            0,
            -0.570786420593483
           ]
          },
          {
           "marker": {
            "color": "blue"
           },
           "mode": "lines+markers",
           "name": "E_k",
           "type": "scatter3d",
           "x": [
            0,
            -0.04928992282509348
           ],
           "y": [
            0,
            0.6415902767189328
           ],
           "z": [
            0,
            0.7654622265844472
           ]
          }
         ],
         "name": "23",
         "traces": [
          3,
          4,
          5
         ]
        },
        {
         "data": [
          {
           "marker": {
            "color": "red"
           },
           "mode": "lines+markers",
           "name": "E_i",
           "type": "scatter3d",
           "x": [
            0,
            0.9040958279301038
           ],
           "y": [
            0,
            -0.29072357467655735
           ],
           "z": [
            0,
            0.31319408846059693
           ]
          },
          {
           "marker": {
            "color": "green"
           },
           "mode": "lines+markers",
           "name": "E_j",
           "type": "scatter3d",
           "x": [
            0,
            0.424989415574412
           ],
           "y": [
            0,
            0.6883114407728375
           ],
           "z": [
            0,
            -0.5878871976416398
           ]
          },
          {
           "marker": {
            "color": "blue"
           },
           "mode": "lines+markers",
           "name": "E_k",
           "type": "scatter3d",
           "x": [
            0,
            -0.044662406664887716
           ],
           "y": [
            0,
            0.6646105352975566
           ],
           "z": [
            0,
            0.7458539440147751
           ]
          }
         ],
         "name": "24",
         "traces": [
          3,
          4,
          5
         ]
        },
        {
         "data": [
          {
           "marker": {
            "color": "red"
           },
           "mode": "lines+markers",
           "name": "E_i",
           "type": "scatter3d",
           "x": [
            0,
            0.8964601767207361
           ],
           "y": [
            0,
            -0.2964057788504799
           ],
           "z": [
            0,
            0.3293975801639518
           ]
          },
          {
           "marker": {
            "color": "green"
           },
           "mode": "lines+markers",
           "name": "E_j",
           "type": "scatter3d",
           "x": [
            0,
            0.4413615314414494
           ],
           "y": [
            0,
            0.6634955743423921
           ],
           "z": [
            0,
            -0.6041304671937325
           ]
          },
          {
           "marker": {
            "color": "blue"
           },
           "mode": "lines+markers",
           "name": "E_k",
           "type": "scatter3d",
           "x": [
            0,
            -0.039486074982012814
           ],
           "y": [
            0,
            0.6869623258171437
           ],
           "z": [
            0,
            0.7256194683099505
           ]
          }
         ],
         "name": "25",
         "traces": [
          3,
          4,
          5
         ]
        },
        {
         "data": [
          {
           "marker": {
            "color": "red"
           },
           "mode": "lines+markers",
           "name": "E_i",
           "type": "scatter3d",
           "x": [
            0,
            0.8885975290799009
           ],
           "y": [
            0,
            -0.30147965761075113
           ],
           "z": [
            0,
            0.34569415291554884
           ]
          },
          {
           "marker": {
            "color": "green"
           },
           "mode": "lines+markers",
           "name": "E_j",
           "type": "scatter3d",
           "x": [
            0,
            0.4574431168988897
           ],
           "y": [
            0,
            0.6379419695096781
           ],
           "z": [
            0,
            -0.6194964393278962
           ]
          },
          {
           "marker": {
            "color": "blue"
           },
           "mode": "lines+markers",
           "name": "E_k",
           "type": "scatter3d",
           "x": [
            0,
            -0.03376723433927156
           ],
           "y": [
            0,
            0.7086184160639754
           ],
           "z": [
            0,
            0.7047834520617375
           ]
          }
         ],
         "name": "26",
         "traces": [
          3,
          4,
          5
         ]
        },
        {
         "data": [
          {
           "marker": {
            "color": "red"
           },
           "mode": "lines+markers",
           "name": "E_i",
           "type": "scatter3d",
           "x": [
            0,
            0.8805174644326008
           ],
           "y": [
            0,
            -0.3059390292176726
           ],
           "z": [
            0,
            0.3620639518517847
           ]
          },
          {
           "marker": {
            "color": "green"
           },
           "mode": "lines+markers",
           "name": "E_j",
           "type": "scatter3d",
           "x": [
            0,
            0.47321457901203134
           ],
           "y": [
            0,
            0.6116817594059529
           ],
           "z": [
            0,
            -0.6339663929740313
           ]
          },
          {
           "marker": {
            "color": "blue"
           },
           "mode": "lines+markers",
           "name": "E_k",
           "type": "scatter3d",
           "x": [
            0,
            -0.027512852263067267
           ],
           "y": [
            0,
            0.7295524214279505
           ],
           "z": [
            0,
            0.6833712807463924
           ]
          }
         ],
         "name": "27",
         "traces": [
          3,
          4,
          5
         ]
        },
        {
         "data": [
          {
           "marker": {
            "color": "red"
           },
           "mode": "lines+markers",
           "name": "E_i",
           "type": "scatter3d",
           "x": [
            0,
            0.87222982709297
           ],
           "y": [
            0,
            -0.30977846061385494
           ],
           "z": [
            0,
            0.3784870328942298
           ]
          },
          {
           "marker": {
            "color": "green"
           },
           "mode": "lines+markers",
           "name": "E_j",
           "type": "scatter3d",
           "x": [
            0,
            0.4886567026836969
           ],
           "y": [
            0,
            0.5847469380521528
           ],
           "z": [
            0,
            -0.6475226987225459
           ]
          },
          {
           "marker": {
            "color": "blue"
           },
           "mode": "lines+markers",
           "name": "E_k",
           "type": "scatter3d",
           "x": [
            0,
            -0.02073054875454608
           ],
           "y": [
            0,
            0.7497388370481698
           ],
           "z": [
            0,
            0.6614090417963707
           ]
          }
         ],
         "name": "28",
         "traces": [
          3,
          4,
          5
         ]
        },
        {
         "data": [
          {
           "marker": {
            "color": "red"
           },
           "mode": "lines+markers",
           "name": "E_i",
           "type": "scatter3d",
           "x": [
            0,
            0.8637447142704942
           ],
           "y": [
            0,
            -0.31299327404356103
           ],
           "z": [
            0,
            0.3949433870484157
           ]
          },
          {
           "marker": {
            "color": "green"
           },
           "mode": "lines+markers",
           "name": "E_j",
           "type": "scatter3d",
           "x": [
            0,
            0.5037506740648692
           ],
           "y": [
            0,
            0.557170321379106
           ],
           "z": [
            0,
            -0.6601488403030742
           ]
          },
          {
           "marker": {
            "color": "blue"
           },
           "mode": "lines+markers",
           "name": "E_k",
           "type": "scatter3d",
           "x": [
            0,
            -0.013428587005799408
           ],
           "y": [
            0,
            0.7691530688866788
           ],
           "z": [
            0,
            0.6389234928168096
           ]
          }
         ],
         "name": "29",
         "traces": [
          3,
          4,
          5
         ]
        },
        {
         "data": [
          {
           "marker": {
            "color": "red"
           },
           "mode": "lines+markers",
           "name": "E_i",
           "type": "scatter3d",
           "x": [
            0,
            0.855072463768116
           ],
           "y": [
            0,
            -0.3155795527518307
           ],
           "z": [
            0,
            0.41141296478171235
           ]
          },
          {
           "marker": {
            "color": "green"
           },
           "mode": "lines+markers",
           "name": "E_j",
           "type": "scatter3d",
           "x": [
            0,
            0.5184781034764683
           ],
           "y": [
            0,
            0.5289855072463769
           ],
           "z": [
            0,
            -0.671829434707008
           ]
          },
          {
           "marker": {
            "color": "blue"
           },
           "mode": "lines+markers",
           "name": "E_k",
           "type": "scatter3d",
           "x": [
            0,
            -0.005615863332437132
           ],
           "y": [
            0,
            0.7877714636925153
           ],
           "z": [
            0,
            0.6159420289855073
           ]
          }
         ],
         "name": "30",
         "traces": [
          3,
          4,
          5
         ]
        }
       ],
       "layout": {
        "height": 800,
        "scene": {
         "aspectmode": "cube",
         "aspectratio": {
          "x": 1,
          "y": 1,
          "z": 1
         },
         "camera": {
          "center": {
           "x": 0,
           "y": 0,
           "z": 0
          },
          "eye": {
           "x": 0.7224317071316577,
           "y": 0.7643857029074477,
           "z": 0.4437402641804807
          },
          "projection": {
           "type": "perspective"
          },
          "up": {
           "x": 0,
           "y": 0,
           "z": 1
          }
         },
         "xaxis": {
          "autorange": false,
          "range": [
           -2,
           2
          ],
          "type": "linear"
         },
         "yaxis": {
          "autorange": false,
          "range": [
           -2,
           2
          ],
          "type": "linear"
         },
         "zaxis": {
          "autorange": false,
          "range": [
           -2,
           2
          ],
          "type": "linear"
         }
        },
        "sliders": [
         {
          "active": 30,
          "currentvalue": {
           "prefix": "Step: ",
           "visible": true
          },
          "steps": [
           {
            "args": [
             [
              "0"
             ],
             {
              "frame": {
               "duration": 100,
               "redraw": true
              },
              "fromcurrent": true,
              "mode": "immediate"
             }
            ],
            "label": "0",
            "method": "animate"
           },
           {
            "args": [
             [
              "1"
             ],
             {
              "frame": {
               "duration": 100,
               "redraw": true
              },
              "fromcurrent": true,
              "mode": "immediate"
             }
            ],
            "label": "1",
            "method": "animate"
           },
           {
            "args": [
             [
              "2"
             ],
             {
              "frame": {
               "duration": 100,
               "redraw": true
              },
              "fromcurrent": true,
              "mode": "immediate"
             }
            ],
            "label": "2",
            "method": "animate"
           },
           {
            "args": [
             [
              "3"
             ],
             {
              "frame": {
               "duration": 100,
               "redraw": true
              },
              "fromcurrent": true,
              "mode": "immediate"
             }
            ],
            "label": "3",
            "method": "animate"
           },
           {
            "args": [
             [
              "4"
             ],
             {
              "frame": {
               "duration": 100,
               "redraw": true
              },
              "fromcurrent": true,
              "mode": "immediate"
             }
            ],
            "label": "4",
            "method": "animate"
           },
           {
            "args": [
             [
              "5"
             ],
             {
              "frame": {
               "duration": 100,
               "redraw": true
              },
              "fromcurrent": true,
              "mode": "immediate"
             }
            ],
            "label": "5",
            "method": "animate"
           },
           {
            "args": [
             [
              "6"
             ],
             {
              "frame": {
               "duration": 100,
               "redraw": true
              },
              "fromcurrent": true,
              "mode": "immediate"
             }
            ],
            "label": "6",
            "method": "animate"
           },
           {
            "args": [
             [
              "7"
             ],
             {
              "frame": {
               "duration": 100,
               "redraw": true
              },
              "fromcurrent": true,
              "mode": "immediate"
             }
            ],
            "label": "7",
            "method": "animate"
           },
           {
            "args": [
             [
              "8"
             ],
             {
              "frame": {
               "duration": 100,
               "redraw": true
              },
              "fromcurrent": true,
              "mode": "immediate"
             }
            ],
            "label": "8",
            "method": "animate"
           },
           {
            "args": [
             [
              "9"
             ],
             {
              "frame": {
               "duration": 100,
               "redraw": true
              },
              "fromcurrent": true,
              "mode": "immediate"
             }
            ],
            "label": "9",
            "method": "animate"
           },
           {
            "args": [
             [
              "10"
             ],
             {
              "frame": {
               "duration": 100,
               "redraw": true
              },
              "fromcurrent": true,
              "mode": "immediate"
             }
            ],
            "label": "10",
            "method": "animate"
           },
           {
            "args": [
             [
              "11"
             ],
             {
              "frame": {
               "duration": 100,
               "redraw": true
              },
              "fromcurrent": true,
              "mode": "immediate"
             }
            ],
            "label": "11",
            "method": "animate"
           },
           {
            "args": [
             [
              "12"
             ],
             {
              "frame": {
               "duration": 100,
               "redraw": true
              },
              "fromcurrent": true,
              "mode": "immediate"
             }
            ],
            "label": "12",
            "method": "animate"
           },
           {
            "args": [
             [
              "13"
             ],
             {
              "frame": {
               "duration": 100,
               "redraw": true
              },
              "fromcurrent": true,
              "mode": "immediate"
             }
            ],
            "label": "13",
            "method": "animate"
           },
           {
            "args": [
             [
              "14"
             ],
             {
              "frame": {
               "duration": 100,
               "redraw": true
              },
              "fromcurrent": true,
              "mode": "immediate"
             }
            ],
            "label": "14",
            "method": "animate"
           },
           {
            "args": [
             [
              "15"
             ],
             {
              "frame": {
               "duration": 100,
               "redraw": true
              },
              "fromcurrent": true,
              "mode": "immediate"
             }
            ],
            "label": "15",
            "method": "animate"
           },
           {
            "args": [
             [
              "16"
             ],
             {
              "frame": {
               "duration": 100,
               "redraw": true
              },
              "fromcurrent": true,
              "mode": "immediate"
             }
            ],
            "label": "16",
            "method": "animate"
           },
           {
            "args": [
             [
              "17"
             ],
             {
              "frame": {
               "duration": 100,
               "redraw": true
              },
              "fromcurrent": true,
              "mode": "immediate"
             }
            ],
            "label": "17",
            "method": "animate"
           },
           {
            "args": [
             [
              "18"
             ],
             {
              "frame": {
               "duration": 100,
               "redraw": true
              },
              "fromcurrent": true,
              "mode": "immediate"
             }
            ],
            "label": "18",
            "method": "animate"
           },
           {
            "args": [
             [
              "19"
             ],
             {
              "frame": {
               "duration": 100,
               "redraw": true
              },
              "fromcurrent": true,
              "mode": "immediate"
             }
            ],
            "label": "19",
            "method": "animate"
           },
           {
            "args": [
             [
              "20"
             ],
             {
              "frame": {
               "duration": 100,
               "redraw": true
              },
              "fromcurrent": true,
              "mode": "immediate"
             }
            ],
            "label": "20",
            "method": "animate"
           },
           {
            "args": [
             [
              "21"
             ],
             {
              "frame": {
               "duration": 100,
               "redraw": true
              },
              "fromcurrent": true,
              "mode": "immediate"
             }
            ],
            "label": "21",
            "method": "animate"
           },
           {
            "args": [
             [
              "22"
             ],
             {
              "frame": {
               "duration": 100,
               "redraw": true
              },
              "fromcurrent": true,
              "mode": "immediate"
             }
            ],
            "label": "22",
            "method": "animate"
           },
           {
            "args": [
             [
              "23"
             ],
             {
              "frame": {
               "duration": 100,
               "redraw": true
              },
              "fromcurrent": true,
              "mode": "immediate"
             }
            ],
            "label": "23",
            "method": "animate"
           },
           {
            "args": [
             [
              "24"
             ],
             {
              "frame": {
               "duration": 100,
               "redraw": true
              },
              "fromcurrent": true,
              "mode": "immediate"
             }
            ],
            "label": "24",
            "method": "animate"
           },
           {
            "args": [
             [
              "25"
             ],
             {
              "frame": {
               "duration": 100,
               "redraw": true
              },
              "fromcurrent": true,
              "mode": "immediate"
             }
            ],
            "label": "25",
            "method": "animate"
           },
           {
            "args": [
             [
              "26"
             ],
             {
              "frame": {
               "duration": 100,
               "redraw": true
              },
              "fromcurrent": true,
              "mode": "immediate"
             }
            ],
            "label": "26",
            "method": "animate"
           },
           {
            "args": [
             [
              "27"
             ],
             {
              "frame": {
               "duration": 100,
               "redraw": true
              },
              "fromcurrent": true,
              "mode": "immediate"
             }
            ],
            "label": "27",
            "method": "animate"
           },
           {
            "args": [
             [
              "28"
             ],
             {
              "frame": {
               "duration": 100,
               "redraw": true
              },
              "fromcurrent": true,
              "mode": "immediate"
             }
            ],
            "label": "28",
            "method": "animate"
           },
           {
            "args": [
             [
              "29"
             ],
             {
              "frame": {
               "duration": 100,
               "redraw": true
              },
              "fromcurrent": true,
              "mode": "immediate"
             }
            ],
            "label": "29",
            "method": "animate"
           },
           {
            "args": [
             [
              "30"
             ],
             {
              "frame": {
               "duration": 100,
               "redraw": true
              },
              "fromcurrent": true,
              "mode": "immediate"
             }
            ],
            "label": "30",
            "method": "animate"
           }
          ],
          "x": 0.1,
          "y": 0
         }
        ],
        "template": {
         "data": {
          "pie": [
           {
            "automargin": true,
            "type": "pie"
           }
          ],
          "scatter": [
           {
            "line": {
             "width": 3
            },
            "marker": {
             "size": 9
            },
            "type": "scatter"
           }
          ],
          "scatter3d": [
           {
            "line": {
             "width": 3
            },
            "marker": {
             "size": 9
            },
            "type": "scatter3d"
           }
          ],
          "scattergeo": [
           {
            "line": {
             "width": 3
            },
            "marker": {
             "size": 9
            },
            "type": "scattergeo"
           }
          ],
          "scattergl": [
           {
            "line": {
             "width": 3
            },
            "marker": {
             "size": 9
            },
            "type": "scattergl"
           }
          ],
          "scatterpolar": [
           {
            "line": {
             "width": 3
            },
            "marker": {
             "size": 9
            },
            "type": "scatterpolar"
           }
          ],
          "scatterpolargl": [
           {
            "line": {
             "width": 3
            },
            "marker": {
             "size": 9
            },
            "type": "scatterpolargl"
           }
          ],
          "scatterternary": [
           {
            "line": {
             "width": 3
            },
            "marker": {
             "size": 9
            },
            "type": "scatterternary"
           }
          ],
          "table": [
           {
            "cells": {
             "height": 30
            },
            "header": {
             "height": 36
            },
            "type": "table"
           }
          ]
         },
         "layout": {
          "font": {
           "size": 18
          },
          "xaxis": {
           "title": {
            "standoff": 15
           }
          },
          "yaxis": {
           "title": {
            "standoff": 15
           }
          }
         }
        },
        "title": {
         "text": "PRV Rotation Animation"
        },
        "updatemenus": [
         {
          "active": 0,
          "buttons": [
           {
            "args": [
             null,
             {
              "frame": {
               "duration": 100,
               "redraw": true
              },
              "fromcurrent": true,
              "mode": "immediate"
             }
            ],
            "label": "Play",
            "method": "animate"
           }
          ],
          "showactive": false,
          "type": "buttons",
          "x": 0.8,
          "xanchor": "left",
          "y": 1.05,
          "yanchor": "bottom"
         }
        ],
        "width": 1000
       }
      },
      "text/html": [
       "<div>                            <div id=\"5a108d4c-99f8-45f8-9b4a-c342492a5fa0\" class=\"plotly-graph-div\" style=\"height:800px; width:1000px;\"></div>            <script type=\"text/javascript\">                require([\"plotly\"], function(Plotly) {                    window.PLOTLYENV=window.PLOTLYENV || {};                                    if (document.getElementById(\"5a108d4c-99f8-45f8-9b4a-c342492a5fa0\")) {                    Plotly.newPlot(                        \"5a108d4c-99f8-45f8-9b4a-c342492a5fa0\",                        [{\"line\":{\"color\":\"red\",\"dash\":\"dot\"},\"marker\":{\"color\":\"red\"},\"mode\":\"lines+markers\",\"name\":\"N_i (static)\",\"x\":[0,1.0],\"y\":[0,0.0],\"z\":[0,0.0],\"type\":\"scatter3d\"},{\"line\":{\"color\":\"green\",\"dash\":\"dot\"},\"marker\":{\"color\":\"green\"},\"mode\":\"lines+markers\",\"name\":\"N_j (static)\",\"x\":[0,0.0],\"y\":[0,1.0],\"z\":[0,0.0],\"type\":\"scatter3d\"},{\"line\":{\"color\":\"blue\",\"dash\":\"dot\"},\"marker\":{\"color\":\"blue\"},\"mode\":\"lines+markers\",\"name\":\"N_k (static)\",\"x\":[0,0.0],\"y\":[0,0.0],\"z\":[0,1.0],\"type\":\"scatter3d\"},{\"line\":{\"color\":\"red\",\"dash\":\"solid\"},\"marker\":{\"color\":\"red\"},\"mode\":\"lines+markers\",\"name\":\"E_i\",\"x\":[0,1.0],\"y\":[0,0.0],\"z\":[0,0.0],\"type\":\"scatter3d\"},{\"line\":{\"color\":\"green\",\"dash\":\"solid\"},\"marker\":{\"color\":\"green\"},\"mode\":\"lines+markers\",\"name\":\"E_j\",\"x\":[0,0.0],\"y\":[0,1.0],\"z\":[0,0.0],\"type\":\"scatter3d\"},{\"line\":{\"color\":\"blue\",\"dash\":\"solid\"},\"marker\":{\"color\":\"blue\"},\"mode\":\"lines+markers\",\"name\":\"E_k\",\"x\":[0,0.0],\"y\":[0,0.0],\"z\":[0,1.0],\"type\":\"scatter3d\"},{\"hoverinfo\":\"text+name\",\"line\":{\"color\":\"purple\",\"width\":5},\"mode\":\"lines+markers\",\"name\":\"Rotation Axis\",\"text\":\"x: 7.00<br>y: 2.00<br>z: 4.00<br>Norm: 8.31\",\"x\":[0,7],\"y\":[0,2],\"z\":[0,4],\"type\":\"scatter3d\"}],                        {\"template\":{\"data\":{\"pie\":[{\"automargin\":true,\"type\":\"pie\"}],\"scatter3d\":[{\"line\":{\"width\":3},\"marker\":{\"size\":9},\"type\":\"scatter3d\"}],\"scattergeo\":[{\"line\":{\"width\":3},\"marker\":{\"size\":9},\"type\":\"scattergeo\"}],\"scattergl\":[{\"line\":{\"width\":3},\"marker\":{\"size\":9},\"type\":\"scattergl\"}],\"scatterpolargl\":[{\"line\":{\"width\":3},\"marker\":{\"size\":9},\"type\":\"scatterpolargl\"}],\"scatterpolar\":[{\"line\":{\"width\":3},\"marker\":{\"size\":9},\"type\":\"scatterpolar\"}],\"scatter\":[{\"line\":{\"width\":3},\"marker\":{\"size\":9},\"type\":\"scatter\"}],\"scatterternary\":[{\"line\":{\"width\":3},\"marker\":{\"size\":9},\"type\":\"scatterternary\"}],\"table\":[{\"cells\":{\"height\":30},\"header\":{\"height\":36},\"type\":\"table\"}]},\"layout\":{\"font\":{\"size\":18},\"xaxis\":{\"title\":{\"standoff\":15}},\"yaxis\":{\"title\":{\"standoff\":15}}}},\"updatemenus\":[{\"buttons\":[{\"args\":[null,{\"frame\":{\"duration\":100,\"redraw\":true},\"fromcurrent\":true,\"mode\":\"immediate\"}],\"label\":\"Play\",\"method\":\"animate\"}],\"showactive\":false,\"type\":\"buttons\",\"x\":0.8,\"xanchor\":\"left\",\"y\":1.05,\"yanchor\":\"bottom\"}],\"sliders\":[{\"currentvalue\":{\"prefix\":\"Step: \",\"visible\":true},\"steps\":[{\"args\":[[\"0\"],{\"mode\":\"immediate\",\"frame\":{\"duration\":100,\"redraw\":true},\"fromcurrent\":true}],\"label\":\"0\",\"method\":\"animate\"},{\"args\":[[\"1\"],{\"mode\":\"immediate\",\"frame\":{\"duration\":100,\"redraw\":true},\"fromcurrent\":true}],\"label\":\"1\",\"method\":\"animate\"},{\"args\":[[\"2\"],{\"mode\":\"immediate\",\"frame\":{\"duration\":100,\"redraw\":true},\"fromcurrent\":true}],\"label\":\"2\",\"method\":\"animate\"},{\"args\":[[\"3\"],{\"mode\":\"immediate\",\"frame\":{\"duration\":100,\"redraw\":true},\"fromcurrent\":true}],\"label\":\"3\",\"method\":\"animate\"},{\"args\":[[\"4\"],{\"mode\":\"immediate\",\"frame\":{\"duration\":100,\"redraw\":true},\"fromcurrent\":true}],\"label\":\"4\",\"method\":\"animate\"},{\"args\":[[\"5\"],{\"mode\":\"immediate\",\"frame\":{\"duration\":100,\"redraw\":true},\"fromcurrent\":true}],\"label\":\"5\",\"method\":\"animate\"},{\"args\":[[\"6\"],{\"mode\":\"immediate\",\"frame\":{\"duration\":100,\"redraw\":true},\"fromcurrent\":true}],\"label\":\"6\",\"method\":\"animate\"},{\"args\":[[\"7\"],{\"mode\":\"immediate\",\"frame\":{\"duration\":100,\"redraw\":true},\"fromcurrent\":true}],\"label\":\"7\",\"method\":\"animate\"},{\"args\":[[\"8\"],{\"mode\":\"immediate\",\"frame\":{\"duration\":100,\"redraw\":true},\"fromcurrent\":true}],\"label\":\"8\",\"method\":\"animate\"},{\"args\":[[\"9\"],{\"mode\":\"immediate\",\"frame\":{\"duration\":100,\"redraw\":true},\"fromcurrent\":true}],\"label\":\"9\",\"method\":\"animate\"},{\"args\":[[\"10\"],{\"mode\":\"immediate\",\"frame\":{\"duration\":100,\"redraw\":true},\"fromcurrent\":true}],\"label\":\"10\",\"method\":\"animate\"},{\"args\":[[\"11\"],{\"mode\":\"immediate\",\"frame\":{\"duration\":100,\"redraw\":true},\"fromcurrent\":true}],\"label\":\"11\",\"method\":\"animate\"},{\"args\":[[\"12\"],{\"mode\":\"immediate\",\"frame\":{\"duration\":100,\"redraw\":true},\"fromcurrent\":true}],\"label\":\"12\",\"method\":\"animate\"},{\"args\":[[\"13\"],{\"mode\":\"immediate\",\"frame\":{\"duration\":100,\"redraw\":true},\"fromcurrent\":true}],\"label\":\"13\",\"method\":\"animate\"},{\"args\":[[\"14\"],{\"mode\":\"immediate\",\"frame\":{\"duration\":100,\"redraw\":true},\"fromcurrent\":true}],\"label\":\"14\",\"method\":\"animate\"},{\"args\":[[\"15\"],{\"mode\":\"immediate\",\"frame\":{\"duration\":100,\"redraw\":true},\"fromcurrent\":true}],\"label\":\"15\",\"method\":\"animate\"},{\"args\":[[\"16\"],{\"mode\":\"immediate\",\"frame\":{\"duration\":100,\"redraw\":true},\"fromcurrent\":true}],\"label\":\"16\",\"method\":\"animate\"},{\"args\":[[\"17\"],{\"mode\":\"immediate\",\"frame\":{\"duration\":100,\"redraw\":true},\"fromcurrent\":true}],\"label\":\"17\",\"method\":\"animate\"},{\"args\":[[\"18\"],{\"mode\":\"immediate\",\"frame\":{\"duration\":100,\"redraw\":true},\"fromcurrent\":true}],\"label\":\"18\",\"method\":\"animate\"},{\"args\":[[\"19\"],{\"mode\":\"immediate\",\"frame\":{\"duration\":100,\"redraw\":true},\"fromcurrent\":true}],\"label\":\"19\",\"method\":\"animate\"},{\"args\":[[\"20\"],{\"mode\":\"immediate\",\"frame\":{\"duration\":100,\"redraw\":true},\"fromcurrent\":true}],\"label\":\"20\",\"method\":\"animate\"},{\"args\":[[\"21\"],{\"mode\":\"immediate\",\"frame\":{\"duration\":100,\"redraw\":true},\"fromcurrent\":true}],\"label\":\"21\",\"method\":\"animate\"},{\"args\":[[\"22\"],{\"mode\":\"immediate\",\"frame\":{\"duration\":100,\"redraw\":true},\"fromcurrent\":true}],\"label\":\"22\",\"method\":\"animate\"},{\"args\":[[\"23\"],{\"mode\":\"immediate\",\"frame\":{\"duration\":100,\"redraw\":true},\"fromcurrent\":true}],\"label\":\"23\",\"method\":\"animate\"},{\"args\":[[\"24\"],{\"mode\":\"immediate\",\"frame\":{\"duration\":100,\"redraw\":true},\"fromcurrent\":true}],\"label\":\"24\",\"method\":\"animate\"},{\"args\":[[\"25\"],{\"mode\":\"immediate\",\"frame\":{\"duration\":100,\"redraw\":true},\"fromcurrent\":true}],\"label\":\"25\",\"method\":\"animate\"},{\"args\":[[\"26\"],{\"mode\":\"immediate\",\"frame\":{\"duration\":100,\"redraw\":true},\"fromcurrent\":true}],\"label\":\"26\",\"method\":\"animate\"},{\"args\":[[\"27\"],{\"mode\":\"immediate\",\"frame\":{\"duration\":100,\"redraw\":true},\"fromcurrent\":true}],\"label\":\"27\",\"method\":\"animate\"},{\"args\":[[\"28\"],{\"mode\":\"immediate\",\"frame\":{\"duration\":100,\"redraw\":true},\"fromcurrent\":true}],\"label\":\"28\",\"method\":\"animate\"},{\"args\":[[\"29\"],{\"mode\":\"immediate\",\"frame\":{\"duration\":100,\"redraw\":true},\"fromcurrent\":true}],\"label\":\"29\",\"method\":\"animate\"},{\"args\":[[\"30\"],{\"mode\":\"immediate\",\"frame\":{\"duration\":100,\"redraw\":true},\"fromcurrent\":true}],\"label\":\"30\",\"method\":\"animate\"}],\"x\":0.1,\"y\":0}],\"scene\":{\"xaxis\":{\"range\":[-2,2],\"autorange\":false},\"yaxis\":{\"range\":[-2,2],\"autorange\":false},\"zaxis\":{\"range\":[-2,2],\"autorange\":false},\"aspectmode\":\"cube\"},\"width\":1000,\"height\":800,\"title\":{\"text\":\"PRV Rotation Animation\"}},                        {\"responsive\": true}                    ).then(function(){\n",
       "                            Plotly.addFrames('5a108d4c-99f8-45f8-9b4a-c342492a5fa0', [{\"data\":[{\"marker\":{\"color\":\"red\"},\"mode\":\"lines+markers\",\"name\":\"E_i\",\"x\":[0,1.0],\"y\":[0,0.0],\"z\":[0,0.0],\"type\":\"scatter3d\"},{\"marker\":{\"color\":\"green\"},\"mode\":\"lines+markers\",\"name\":\"E_j\",\"x\":[0,0.0],\"y\":[0,1.0],\"z\":[0,0.0],\"type\":\"scatter3d\"},{\"marker\":{\"color\":\"blue\"},\"mode\":\"lines+markers\",\"name\":\"E_k\",\"x\":[0,0.0],\"y\":[0,0.0],\"z\":[0,1.0],\"type\":\"scatter3d\"}],\"name\":\"0\",\"traces\":[3,4,5]},{\"data\":[{\"marker\":{\"color\":\"red\"},\"mode\":\"lines+markers\",\"name\":\"E_i\",\"x\":[0,0.9998234281214771],\"y\":[0,-0.016682022416212198],\"z\":[0,0.008650011995521291],\"type\":\"scatter3d\"},{\"marker\":{\"color\":\"green\"},\"mode\":\"lines+markers\",\"name\":\"E_j\",\"x\":[0,0.01692922304614435],\"y\":[0,0.9994261413948003],\"z\":[0,-0.02933921102815279],\"type\":\"scatter3d\"},{\"marker\":{\"color\":\"blue\"},\"mode\":\"lines+markers\",\"name\":\"E_k\",\"x\":[0,-0.008155610735656982],\"y\":[0,0.029480468530971166],\"z\":[0,0.9995320845219141],\"type\":\"scatter3d\"}],\"name\":\"1\",\"traces\":[3,4,5]},{\"data\":[{\"marker\":{\"color\":\"red\"},\"mode\":\"lines+markers\",\"name\":\"E_i\",\"x\":[0,0.9992939276115432],\"y\":[0,-0.03309651972784661],\"z\":[0,0.017783886543722625],\"type\":\"scatter3d\"},{\"marker\":{\"color\":\"green\"},\"mode\":\"lines+markers\",\"name\":\"E_j\",\"x\":[0,0.03408502107168607],\"y\":[0,0.9977052647375155],\"z\":[0,-0.05850141924420839],\"type\":\"scatter3d\"},{\"marker\":{\"color\":\"blue\"},\"mode\":\"lines+markers\",\"name\":\"E_k\",\"x\":[0,-0.015806883856043712],\"y\":[0,0.0590662771549738],\"z\":[0,0.9981289081705896],\"type\":\"scatter3d\"}],\"name\":\"2\",\"traces\":[3,4,5]},{\"data\":[{\"marker\":{\"color\":\"red\"},\"mode\":\"lines+markers\",\"name\":\"E_i\",\"x\":[0,0.9984121435850067],\"y\":[0,-0.04922349339838854],\"z\":[0,0.027390495425432454],\"type\":\"scatter3d\"},{\"marker\":{\"color\":\"green\"},\"mode\":\"lines+markers\",\"name\":\"E_j\",\"x\":[0,0.05144649237937908],\"y\":[0,0.994839466651272],\"z\":[0,-0.08745109498954937],\"type\":\"scatter3d\"},{\"marker\":{\"color\":\"blue\"},\"mode\":\"lines+markers\",\"name\":\"E_k\",\"x\":[0,-0.022944497463451355],\"y\":[0,0.08872138012154396],\"z\":[0,0.9957921805002679],\"type\":\"scatter3d\"}],\"name\":\"3\",\"traces\":[3,4,5]},{\"data\":[{\"marker\":{\"color\":\"red\"},\"mode\":\"lines+markers\",\"name\":\"E_i\",\"x\":[0,0.9971791503598755],\"y\":[0,-0.06504329519459028],\"z\":[0,0.03745813446751307],\"type\":\"scatter3d\"},{\"marker\":{\"color\":\"green\"},\"mode\":\"lines+markers\",\"name\":\"E_j\",\"x\":[0,0.06899248469076462],\"y\":[0,0.9908322386695952],\"z\":[0,-0.11615296754363573],\"type\":\"scatter3d\"},{\"marker\":{\"color\":\"blue\"},\"mode\":\"lines+markers\",\"name\":\"E_k\",\"x\":[0,-0.02955975547516438],\"y\":[0,0.11840964725573534],\"z\":[0,0.99252474845367],\"type\":\"scatter3d\"}],\"name\":\"4\",\"traces\":[3,4,5]},{\"data\":[{\"marker\":{\"color\":\"red\"},\"mode\":\"lines+markers\",\"name\":\"E_i\",\"x\":[0,0.9955964501484661],\"y\":[0,-0.08053665112481675],\"z\":[0,0.04797453780259272],\"type\":\"scatter3d\"},{\"marker\":{\"color\":\"green\"},\"mode\":\"lines+markers\",\"name\":\"E_j\",\"x\":[0,0.08670162091696423],\"y\":[0,0.9856884629825148],\"z\":[0,-0.14457206809594478],\"type\":\"scatter3d\"},{\"marker\":{\"color\":\"blue\"},\"mode\":\"lines+markers\",\"name\":\"E_k\",\"x\":[0,-0.035644598218297775],\"y\":[0,0.14809490797717192],\"z\":[0,0.9883305928934352],\"type\":\"scatter3d\"}],\"name\":\"5\",\"traces\":[3,4,5]},{\"data\":[{\"marker\":{\"color\":\"red\"},\"mode\":\"lines+markers\",\"name\":\"E_i\",\"x\":[0,0.99366597122719],\"y\":[0,-0.09568468492143561],\"z\":[0,0.058926892813135213],\"type\":\"scatter3d\"},{\"marker\":{\"color\":\"green\"},\"mode\":\"lines+markers\",\"name\":\"E_j\",\"x\":[0,0.10455232520336954],\"y\":[0,0.9794144064883676],\"z\":[0,-0.17267377235008052],\"type\":\"scatter3d\"},{\"marker\":{\"color\":\"blue\"},\"mode\":\"lines+markers\",\"name\":\"E_k\",\"x\":[0,-0.041191612249267366],\"y\":[0,0.1777409953683285],\"z\":[0,0.9832148237520536],\"type\":\"scatter3d\"}],\"name\":\"6\",\"traces\":[3,4,5]},{\"data\":[{\"marker\":{\"color\":\"red\"},\"mode\":\"lines+markers\",\"name\":\"E_i\",\"x\":[0,0.9913900655872454],\"y\":[0,-0.11046894103864131],\"z\":[0,0.07030185574164129],\"type\":\"scatter3d\"},{\"marker\":{\"color\":\"green\"},\"mode\":\"lines+markers\",\"name\":\"E_j\",\"x\":[0,0.12252284921649782],\"y\":[0,0.9720177131585473],\"z\":[0,-0.2004238427081449],\"type\":\"scatter3d\"},{\"marker\":{\"color\":\"blue\"},\"mode\":\"lines+markers\",\"name\":\"E_k\",\"x\":[0,-0.04619403938592828],\"y\":[0,0.20731179023834861],\"z\":[0,0.9771836738062002],\"type\":\"scatter3d\"}],\"name\":\"7\",\"traces\":[3,4,5]},{\"data\":[{\"marker\":{\"color\":\"red\"},\"mode\":\"lines+markers\",\"name\":\"E_i\",\"x\":[0,0.9887715060690779],\"y\":[0,-0.12487140713769515],\"z\":[0,0.08208556794796118],\"type\":\"scatter3d\"},{\"marker\":{\"color\":\"green\"},\"mode\":\"lines+markers\",\"name\":\"E_j\",\"x\":[0,0.14059129864098605],\"y\":[0,0.9635073947245033],\"z\":[0,-0.22778846998397723],\"type\":\"scatter3d\"},{\"marker\":{\"color\":\"blue\"},\"mode\":\"lines+markers\",\"name\":\"E_k\",\"x\":[0,-0.05064578494137942],\"y\":[0,0.23677126512871488],\"z\":[0,0.9702444910830565],\"type\":\"scatter3d\"}],\"name\":\"8\",\"traces\":[3,4,5]},{\"data\":[{\"marker\":{\"color\":\"red\"},\"mode\":\"lines+markers\",\"name\":\"E_i\",\"x\":[0,0.9858134829841024],\"y\":[0,-0.13887453603218528],\"z\":[0,0.0942636727939133],\"type\":\"scatter3d\"},{\"marker\":{\"color\":\"green\"},\"mode\":\"lines+markers\",\"name\":\"E_j\",\"x\":[0,0.1587356598544418],\"y\":[0,0.9538938196983331],\"z\":[0,-0.2547343145944397],\"type\":\"scatter3d\"},{\"marker\":{\"color\":\"blue\"},\"mode\":\"lines+markers\",\"name\":\"E_k\",\"x\":[0,-0.05454142514940023],\"y\":[0,0.2660835282071577],\"z\":[0,0.9624057299078715],\"type\":\"scatter3d\"}],\"name\":\"9\",\"traces\":[3,4,5]},{\"data\":[{\"marker\":{\"color\":\"red\"},\"mode\":\"lines+markers\",\"name\":\"E_i\",\"x\":[0,0.9825196002277995],\"y\":[0,-0.1524612670665704],\"z\":[0,0.106821333134636],\"type\":\"scatter3d\"},{\"marker\":{\"color\":\"green\"},\"mode\":\"lines+markers\",\"name\":\"E_j\",\"x\":[0,0.17693382674765104],\"y\":[0,0.9431887007403486],\"z\":[0,-0.28122854717856355],\"type\":\"scatter3d\"},{\"marker\":{\"color\":\"blue\"},\"mode\":\"lines+markers\",\"name\":\"E_k\",\"x\":[0,-0.05787621377247472],\"y\":[0,0.29521286699632393],\"z\":[0,0.9536769406036688],\"type\":\"scatter3d\"}],\"name\":\"10\",\"traces\":[3,4,5]},{\"data\":[{\"marker\":{\"color\":\"red\"},\"mode\":\"lines+markers\",\"name\":\"E_i\",\"x\":[0,0.9788938708889239],\"y\":[0,-0.16561504690196058],\"z\":[0,0.11974324939536347],\"type\":\"scatter3d\"},{\"marker\":{\"color\":\"green\"},\"mode\":\"lines+markers\",\"name\":\"E_j\",\"x\":[0,0.19516362765746711],\"y\":[0,0.9314050803890026],\"z\":[0,-0.30723888859506876],\"type\":\"scatter3d\"},{\"marker\":{\"color\":\"blue\"},\"mode\":\"lines+markers\",\"name\":\"E_k\",\"x\":[0,-0.06064608788435037],\"y\":[0,0.3241237918839297],\"z\":[0,0.9440687578556484],\"type\":\"scatter3d\"}],\"name\":\"11\",\"traces\":[3,4,5]},{\"data\":[{\"marker\":{\"color\":\"red\"},\"mode\":\"lines+markers\",\"name\":\"E_i\",\"x\":[0,0.9749407123601741],\"y\":[0,-0.17831984968381084],\"z\":[0,0.13301367821160062],\"type\":\"scatter3d\"},{\"marker\":{\"color\":\"green\"},\"mode\":\"lines+markers\",\"name\":\"E_j\",\"x\":[0,0.213402852379567],\"y\":[0,0.918557315170566],\"z\":[0,-0.33273364924952525],\"type\":\"scatter3d\"},{\"marker\":{\"color\":\"blue\"},\"mode\":\"lines+markers\",\"name\":\"E_k\",\"x\":[0,-0.0628476728200883],\"y\":[0,0.352781079361386],\"z\":[0,0.9335928877544616],\"type\":\"scatter3d\"}],\"name\":\"12\",\"traces\":[3,4,5]},{\"data\":[{\"marker\":{\"color\":\"red\"},\"mode\":\"lines+markers\",\"name\":\"E_i\",\"x\":[0,0.9706649409562803],\"y\":[0,-0.19056019656695636],\"z\":[0,0.14661645160998765],\"type\":\"scatter3d\"},{\"marker\":{\"color\":\"green\"},\"mode\":\"lines+markers\",\"name\":\"E_j\",\"x\":[0,0.23162927922816393],\"y\":[0,0.904661058107911],\"z\":[0,-0.3576817677032424],\"type\":\"scatter3d\"},{\"marker\":{\"color\":\"blue\"},\"mode\":\"lines+markers\",\"name\":\"E_k\",\"x\":[0,-0.06447828628757249],\"y\":[0,0.38114981493821815],\"z\":[0,0.9222620935341428],\"type\":\"scatter3d\"}],\"name\":\"13\",\"traces\":[3,4,5]},{\"data\":[{\"marker\":{\"color\":\"red\"},\"mode\":\"lines+markers\",\"name\":\"E_i\",\"x\":[0,0.9660717660460658],\"y\":[0,-0.20232117457420093],\"z\":[0,0.16053499670648533],\"type\":\"scatter3d\"},{\"marker\":{\"color\":\"green\"},\"mode\":\"lines+markers\",\"name\":\"E_j\",\"x\":[0,0.24982070210970883],\"y\":[0,0.8897332396497138],\"z\":[0,-0.3820528485168474],\"type\":\"scatter3d\"},{\"marker\":{\"color\":\"blue\"},\"mode\":\"lines+markers\",\"name\":\"E_k\",\"x\":[0,-0.06553594163546955],\"y\":[0,0.4091954356799947],\"z\":[0,0.9100901800220743],\"type\":\"scatter3d\"}],\"name\":\"14\",\"traces\":[3,4,5]},{\"data\":[{\"marker\":{\"color\":\"red\"},\"mode\":\"lines+markers\",\"name\":\"E_i\",\"x\":[0,0.9611667837056344],\"y\":[0,-0.21358845476548247],\"z\":[0,0.17475235589788102],\"type\":\"scatter3d\"},{\"marker\":{\"color\":\"green\"},\"mode\":\"lines+markers\",\"name\":\"E_j\",\"x\":[0,0.2679549575775943],\"y\":[0,0.8737920470433118],\"z\":[0,-0.4058171992824459],\"type\":\"scatter3d\"},{\"marker\":{\"color\":\"blue\"},\"mode\":\"lines+markers\",\"name\":\"E_k\",\"x\":[0,-0.06601935027365735],\"y\":[0,0.43688377231793835],\"z\":[0,0.8970919768199311],\"type\":\"scatter3d\"}],\"name\":\"15\",\"traces\":[3,4,5]},{\"data\":[{\"marker\":{\"color\":\"red\"},\"mode\":\"lines+markers\",\"name\":\"E_i\",\"x\":[0,0.9559559699004133],\"y\":[0,-0.2243483096954794],\"z\":[0,0.18925120752201638],\"type\":\"scatter3d\"},{\"marker\":{\"color\":\"green\"},\"mode\":\"lines+markers\",\"name\":\"E_j\",\"x\":[0,0.28600995183490074],\"y\":[0,0.8568569021763432],\"z\":[0,-0.4289458667992479],\"type\":\"scatter3d\"},{\"marker\":{\"color\":\"blue\"},\"mode\":\"lines+markers\",\"name\":\"E_k\",\"x\":[0,-0.06592792324317368],\"y\":[0,0.4641810908789173],\"z\":[0,0.8832833202360953],\"type\":\"scatter3d\"}],\"name\":\"16\",\"traces\":[3,4,5]},{\"data\":[{\"marker\":{\"color\":\"red\"},\"mode\":\"lines+markers\",\"name\":\"E_i\",\"x\":[0,0.9504456732043599],\"y\":[0,-0.23458763013838818],\"z\":[0,0.2040138869615642],\"type\":\"scatter3d\"},{\"marker\":{\"color\":\"green\"},\"mode\":\"lines+markers\",\"name\":\"E_j\",\"x\":[0,0.30396368765228426],\"y\":[0,0.8389484379141697],\"z\":[0,-0.45141067234858234],\"type\":\"scatter3d\"},{\"marker\":{\"color\":\"blue\"},\"mode\":\"lines+markers\",\"name\":\"E_k\",\"x\":[0,-0.06526177193377201],\"y\":[0,0.49105413378509444],\"z\":[0,0.8686810339915538],\"type\":\"scatter3d\"}],\"name\":\"17\",\"traces\":[3,4,5]},{\"data\":[{\"marker\":{\"color\":\"red\"},\"mode\":\"lines+markers\",\"name\":\"E_i\",\"x\":[0,0.9446426070652021],\"y\":[0,-0.24429394105949534],\"z\":[0,0.2190224081656439],\"type\":\"scatter3d\"},{\"marker\":{\"color\":\"green\"},\"mode\":\"lines+markers\",\"name\":\"E_j\",\"x\":[0,0.32179429116821234],\"y\":[0,0.820088472961907],\"z\":[0,-0.47318424602532505],\"type\":\"scatter3d\"},{\"marker\":{\"color\":\"blue\"},\"mode\":\"lines+markers\",\"name\":\"E_k\",\"x\":[0,-0.06402170794820994],\"y\":[0,0.5174701603731633],\"z\":[0,0.8533029087227857],\"type\":\"scatter3d\"}],\"name\":\"18\",\"traces\":[3,4,5]},{\"data\":[{\"marker\":{\"color\":\"red\"},\"mode\":\"lines+markers\",\"name\":\"E_i\",\"x\":[0,0.9385538416251368],\"y\":[0,-0.25345541681408623],\"z\":[0,0.23425848556305373],\"type\":\"scatter3d\"},{\"marker\":{\"color\":\"green\"},\"mode\":\"lines+markers\",\"name\":\"E_j\",\"x\":[0,0.33948003853889475],\"y\":[0,0.8002999852816945],\"z\":[0,-0.49424006008391297],\"type\":\"scatter3d\"},{\"marker\":{\"color\":\"blue\"},\"mode\":\"lines+markers\",\"name\":\"E_k\",\"x\":[0,-0.062209242113436744],\"y\":[0,0.5433969867838035],\"z\":[0,0.8371676803066125],\"type\":\"scatter3d\"}],\"name\":\"19\",\"traces\":[3,4,5]},{\"data\":[{\"marker\":{\"color\":\"red\"},\"mode\":\"lines+markers\",\"name\":\"E_i\",\"x\":[0,0.9321867951069501],\"y\":[0,-0.262060895555171],\"z\":[0,0.2497035563404227],\"type\":\"scatter3d\"},{\"marker\":{\"color\":\"green\"},\"mode\":\"lines+markers\",\"name\":\"E_j\",\"x\":[0,0.3569993824054407],\"y\":[0,0.7796070840975879],\"z\":[0,-0.5145524612583153],\"type\":\"scatter3d\"},{\"marker\":{\"color\":\"blue\"},\"mode\":\"lines+markers\",\"name\":\"E_k\",\"x\":[0,-0.059826582639883136],\"y\":[0,0.5688030251727553],\"z\":[0,0.8202950070334178],\"type\":\"scatter3d\"}],\"name\":\"20\",\"traces\":[3,4,5]},{\"data\":[{\"marker\":{\"color\":\"red\"},\"mode\":\"lines+markers\",\"name\":\"E_i\",\"x\":[0,0.9255492247760563],\"y\":[0,-0.2700998928324761],\"z\":[0,0.2653388030581395],\"type\":\"scatter3d\"},{\"marker\":{\"color\":\"green\"},\"mode\":\"lines+markers\",\"name\":\"E_j\",\"x\":[0,0.3743309781459973],\"y\":[0,0.758034980522183],\"z\":[0,-0.5340967020165867],\"type\":\"scatter3d\"},{\"marker\":{\"color\":\"blue\"},\"mode\":\"lines+markers\",\"name\":\"E_k\",\"x\":[0,-0.05687663243109718],\"y\":[0,0.5936573221957416],\"z\":[0,0.8027054456565492],\"type\":\"scatter3d\"}],\"name\":\"21\",\"traces\":[3,4,5]},{\"data\":[{\"marker\":{\"color\":\"red\"},\"mode\":\"lines+markers\",\"name\":\"E_i\",\"x\":[0,0.918649217489464],\"y\":[0,-0.2775626143661316],\"z\":[0,0.28114517657650356],\"type\":\"scatter3d\"},{\"marker\":{\"color\":\"green\"},\"mode\":\"lines+markers\",\"name\":\"E_j\",\"x\":[0,0.3914537098808818],\"y\":[0,0.7356099568407584],\"z\":[0,-0.5528489707119224],\"type\":\"scatter3d\"},{\"marker\":{\"color\":\"blue\"},\"mode\":\"lines+markers\",\"name\":\"E_k\",\"x\":[0,-0.053362985547003125],\"y\":[0,0.6179295967203511],\"z\":[0,0.7844204263470799],\"type\":\"scatter3d\"}],\"name\":\"22\",\"traces\":[3,4,5]},{\"data\":[{\"marker\":{\"color\":\"red\"},\"mode\":\"lines+markers\",\"name\":\"E_i\",\"x\":[0,0.9114951798431876],\"y\":[0,-0.284439967979493],\"z\":[0,0.29710341926416817],\"type\":\"scatter3d\"},{\"marker\":{\"color\":\"green\"},\"mode\":\"lines+markers\",\"name\":\"E_j\",\"x\":[0,0.4083467161990303],\"y\":[0,0.7123593344903597],\"z\":[0,-0.570786420593483],\"type\":\"scatter3d\"},{\"marker\":{\"color\":\"blue\"},\"mode\":\"lines+markers\",\"name\":\"E_k\",\"x\":[0,-0.04928992282509348],\"y\":[0,0.6415902767189328],\"z\":[0,0.7654622265844472],\"type\":\"scatter3d\"}],\"name\":\"23\",\"traces\":[3,4,5]},{\"data\":[{\"marker\":{\"color\":\"red\"},\"mode\":\"lines+markers\",\"name\":\"E_i\",\"x\":[0,0.9040958279301038],\"y\":[0,-0.29072357467655735],\"z\":[0,0.31319408846059693],\"type\":\"scatter3d\"},{\"marker\":{\"color\":\"green\"},\"mode\":\"lines+markers\",\"name\":\"E_j\",\"x\":[0,0.424989415574412],\"y\":[0,0.6883114407728375],\"z\":[0,-0.5878871976416398],\"type\":\"scatter3d\"},{\"marker\":{\"color\":\"blue\"},\"mode\":\"lines+markers\",\"name\":\"E_k\",\"x\":[0,-0.044662406664887716],\"y\":[0,0.6646105352975566],\"z\":[0,0.7458539440147751],\"type\":\"scatter3d\"}],\"name\":\"24\",\"traces\":[3,4,5]},{\"data\":[{\"marker\":{\"color\":\"red\"},\"mode\":\"lines+markers\",\"name\":\"E_i\",\"x\":[0,0.8964601767207361],\"y\":[0,-0.2964057788504799],\"z\":[0,0.3293975801639518],\"type\":\"scatter3d\"},{\"marker\":{\"color\":\"green\"},\"mode\":\"lines+markers\",\"name\":\"E_j\",\"x\":[0,0.4413615314414494],\"y\":[0,0.6634955743423921],\"z\":[0,-0.6041304671937325],\"type\":\"scatter3d\"},{\"marker\":{\"color\":\"blue\"},\"mode\":\"lines+markers\",\"name\":\"E_k\",\"x\":[0,-0.039486074982012814],\"y\":[0,0.6869623258171437],\"z\":[0,0.7256194683099505],\"type\":\"scatter3d\"}],\"name\":\"25\",\"traces\":[3,4,5]},{\"data\":[{\"marker\":{\"color\":\"red\"},\"mode\":\"lines+markers\",\"name\":\"E_i\",\"x\":[0,0.8885975290799009],\"y\":[0,-0.30147965761075113],\"z\":[0,0.34569415291554884],\"type\":\"scatter3d\"},{\"marker\":{\"color\":\"green\"},\"mode\":\"lines+markers\",\"name\":\"E_j\",\"x\":[0,0.4574431168988897],\"y\":[0,0.6379419695096781],\"z\":[0,-0.6194964393278962],\"type\":\"scatter3d\"},{\"marker\":{\"color\":\"blue\"},\"mode\":\"lines+markers\",\"name\":\"E_k\",\"x\":[0,-0.03376723433927156],\"y\":[0,0.7086184160639754],\"z\":[0,0.7047834520617375],\"type\":\"scatter3d\"}],\"name\":\"26\",\"traces\":[3,4,5]},{\"data\":[{\"marker\":{\"color\":\"red\"},\"mode\":\"lines+markers\",\"name\":\"E_i\",\"x\":[0,0.8805174644326008],\"y\":[0,-0.3059390292176726],\"z\":[0,0.3620639518517847],\"type\":\"scatter3d\"},{\"marker\":{\"color\":\"green\"},\"mode\":\"lines+markers\",\"name\":\"E_j\",\"x\":[0,0.47321457901203134],\"y\":[0,0.6116817594059529],\"z\":[0,-0.6339663929740313],\"type\":\"scatter3d\"},{\"marker\":{\"color\":\"blue\"},\"mode\":\"lines+markers\",\"name\":\"E_k\",\"x\":[0,-0.027512852263067267],\"y\":[0,0.7295524214279505],\"z\":[0,0.6833712807463924],\"type\":\"scatter3d\"}],\"name\":\"27\",\"traces\":[3,4,5]},{\"data\":[{\"marker\":{\"color\":\"red\"},\"mode\":\"lines+markers\",\"name\":\"E_i\",\"x\":[0,0.87222982709297],\"y\":[0,-0.30977846061385494],\"z\":[0,0.3784870328942298],\"type\":\"scatter3d\"},{\"marker\":{\"color\":\"green\"},\"mode\":\"lines+markers\",\"name\":\"E_j\",\"x\":[0,0.4886567026836969],\"y\":[0,0.5847469380521528],\"z\":[0,-0.6475226987225459],\"type\":\"scatter3d\"},{\"marker\":{\"color\":\"blue\"},\"mode\":\"lines+markers\",\"name\":\"E_k\",\"x\":[0,-0.02073054875454608],\"y\":[0,0.7497388370481698],\"z\":[0,0.6614090417963707],\"type\":\"scatter3d\"}],\"name\":\"28\",\"traces\":[3,4,5]},{\"data\":[{\"marker\":{\"color\":\"red\"},\"mode\":\"lines+markers\",\"name\":\"E_i\",\"x\":[0,0.8637447142704942],\"y\":[0,-0.31299327404356103],\"z\":[0,0.3949433870484157],\"type\":\"scatter3d\"},{\"marker\":{\"color\":\"green\"},\"mode\":\"lines+markers\",\"name\":\"E_j\",\"x\":[0,0.5037506740648692],\"y\":[0,0.557170321379106],\"z\":[0,-0.6601488403030742],\"type\":\"scatter3d\"},{\"marker\":{\"color\":\"blue\"},\"mode\":\"lines+markers\",\"name\":\"E_k\",\"x\":[0,-0.013428587005799408],\"y\":[0,0.7691530688866788],\"z\":[0,0.6389234928168096],\"type\":\"scatter3d\"}],\"name\":\"29\",\"traces\":[3,4,5]},{\"data\":[{\"marker\":{\"color\":\"red\"},\"mode\":\"lines+markers\",\"name\":\"E_i\",\"x\":[0,0.855072463768116],\"y\":[0,-0.3155795527518307],\"z\":[0,0.41141296478171235],\"type\":\"scatter3d\"},{\"marker\":{\"color\":\"green\"},\"mode\":\"lines+markers\",\"name\":\"E_j\",\"x\":[0,0.5184781034764683],\"y\":[0,0.5289855072463769],\"z\":[0,-0.671829434707008],\"type\":\"scatter3d\"},{\"marker\":{\"color\":\"blue\"},\"mode\":\"lines+markers\",\"name\":\"E_k\",\"x\":[0,-0.005615863332437132],\"y\":[0,0.7877714636925153],\"z\":[0,0.6159420289855073],\"type\":\"scatter3d\"}],\"name\":\"30\",\"traces\":[3,4,5]}]);\n",
       "                        }).then(function(){\n",
       "                            \n",
       "var gd = document.getElementById('5a108d4c-99f8-45f8-9b4a-c342492a5fa0');\n",
       "var x = new MutationObserver(function (mutations, observer) {{\n",
       "        var display = window.getComputedStyle(gd).display;\n",
       "        if (!display || display === 'none') {{\n",
       "            console.log([gd, 'removed!']);\n",
       "            Plotly.purge(gd);\n",
       "            observer.disconnect();\n",
       "        }}\n",
       "}});\n",
       "\n",
       "// Listen for the removal of the full notebook cells\n",
       "var notebookContainer = gd.closest('#notebook-container');\n",
       "if (notebookContainer) {{\n",
       "    x.observe(notebookContainer, {childList: true});\n",
       "}}\n",
       "\n",
       "// Listen for the clearing of the current output cell\n",
       "var outputEl = gd.closest('.output');\n",
       "if (outputEl) {{\n",
       "    x.observe(outputEl, {childList: true});\n",
       "}}\n",
       "\n",
       "                        })                };                });            </script>        </div>"
      ]
     },
     "metadata": {},
     "output_type": "display_data"
    }
   ],
   "source": [
    "\n",
    "from scipy.spatial.transform import Rotation as R\n",
    "\n",
    "def PRV_rotation_animation(axis, angle, steps=30):\n",
    "    \"\"\"\n",
    "    Creates a 3D animation of a rotation about a principal rotation vector (PRV) and displays the final orientation of the frame.\n",
    "\n",
    "    Args:\n",
    "        axis (list, tuple, np.ndarray): The unit vector representing the axis of rotation.\n",
    "        angle (float): The magnitude of the rotation about the axis in degrees.\n",
    "        steps (int, optional): The total number of steps in the animation. Defaults to 30.\n",
    "\n",
    "    Returns:\n",
    "        plotly.graph_objects.Figure: The figure object containing the animation.\n",
    "\n",
    "    Notes:\n",
    "    - The function dynamically calculates rotation matrices for each step based on the PRV method.\n",
    "      It applies these rotations to an initial orientation matrix to visually represent these orientations in a Plotly figure.\n",
    "    \n",
    "    - This approach aids in visualizing the rotation from a starting point of no rotation, making it intuitive to understand complex rotational dynamics.\n",
    "    \n",
    "    - The animation controls allow for interactive exploration of the rotation sequence, enhancing the educational and analytical value of the visualization.\n",
    "    \"\"\"\n",
    "    # Initialize the figure for 3D visualization\n",
    "    fig = go.Figure()\n",
    "\n",
    "    # Define initial orientation as an identity matrix\n",
    "    N_frame = np.eye(3)\n",
    "\n",
    "    # Define colors for axes and the rotation axis visualization\n",
    "    colors = {'i': 'red', 'j': 'green', 'k': 'blue', 'axis': 'purple'}\n",
    "\n",
    "    # Initialize the static frame (N-frame)\n",
    "    initialize_frame(fig, N_frame, 'N', colors, is_static=True)\n",
    "\n",
    "    # Initialize the dynamic frame (E-frame) to visualize rotations\n",
    "    initialize_frame(fig, N_frame, 'E', colors, is_static=False)\n",
    "\n",
    "    # Compute rotation matrix for each step using the PRV to rotation matrix conversion\n",
    "    rotation_matrices = []\n",
    "    for step in range(steps + 1):\n",
    "        # Calculate the interpolation angle for the current step\n",
    "        interpolated_angle = (step / steps) * angle\n",
    "        # Use the prv_to_rotation_matrix function to generate the rotation matrix\n",
    "        R_matrix = prv_to_rotation_matrix(axis, interpolated_angle)\n",
    "        rotation_matrices.append(R_matrix)\n",
    "\n",
    "    # Generate frames for animation\n",
    "    frames = []\n",
    "    for i, R_matrix in enumerate(rotation_matrices):\n",
    "        E_frame = np.dot(R_matrix, N_frame.T)\n",
    "        frame_data = [go.Scatter3d(x=[0, vec[0]], \n",
    "                                   y=[0, vec[1]], \n",
    "                                   z=[0, vec[2]],\n",
    "                                   mode='lines+markers',\n",
    "                                   name=f'E_{chr(105+j)}',\n",
    "                                   marker=dict(color=colors['i' if j == 0 else 'j' if j == 1 else 'k']))for j, vec in enumerate(E_frame.T)]\n",
    "        \n",
    "        frames.append(go.Frame(data=frame_data, name=str(i), traces=list(range(3, 6))))\n",
    "\n",
    "    # Calculate the norm of the axis\n",
    "    axis_norm = np.linalg.norm(axis)\n",
    "\n",
    "    # Create hover text for the endpoint of the line\n",
    "    endpoint_hover_text = f\"x: {axis[0]:.2f}<br>y: {axis[1]:.2f}<br>z: {axis[2]:.2f}<br>Norm: {axis_norm:.2f}\"\n",
    "\n",
    "    # Plot the rotation axis as a line extending from the origin\n",
    "    axis_line = np.array(axis)\n",
    "    fig.add_trace(go.Scatter3d(x=[0, axis_line[0]], \n",
    "                               y=[0, axis_line[1]], \n",
    "                               z=[0, axis_line[2]],\n",
    "                               mode='lines+markers',\n",
    "                               line=dict(color=colors['axis'], width=5),\n",
    "                               name='Rotation Axis', \n",
    "                               hoverinfo='text+name',  # Set hover info to display text\n",
    "                               text=endpoint_hover_text))\n",
    "\n",
    "\n",
    "    # Configure the figure with generated frames for animation\n",
    "    fig.frames = frames\n",
    "    setup_animation_scene(fig, frames, \"PRV Rotation Animation\")\n",
    "\n",
    "    return fig\n",
    "\n",
    "# Example usage\n",
    "axis = [7, 2, 4]  # Z-axis\n",
    "angle = 60  # 45 degrees rotation\n",
    "fig = PRV_rotation_animation(axis, angle)\n",
    "fig.show()\n"
   ]
  },
  {
   "cell_type": "code",
   "execution_count": 12,
   "id": "fedc97bd-eb80-42f7-a6d3-f9c8eda424a6",
   "metadata": {},
   "outputs": [
    {
     "data": {
      "text/plain": [
       "array([[ 0.85507246,  0.5184781 , -0.00561586],\n",
       "       [-0.31557955,  0.52898551,  0.78777146],\n",
       "       [ 0.41141296, -0.67182943,  0.61594203]])"
      ]
     },
     "execution_count": 12,
     "metadata": {},
     "output_type": "execute_result"
    }
   ],
   "source": [
    "prv_to_rotation_matrix([7, 2, 4], 60)"
   ]
  },
  {
   "cell_type": "code",
   "execution_count": null,
   "id": "5a687a72-237a-4ddf-9681-e2c216123d15",
   "metadata": {},
   "outputs": [],
   "source": []
  }
 ],
 "metadata": {
  "kernelspec": {
   "display_name": "Python 3 (ipykernel)",
   "language": "python",
   "name": "python3"
  },
  "language_info": {
   "codemirror_mode": {
    "name": "ipython",
    "version": 3
   },
   "file_extension": ".py",
   "mimetype": "text/x-python",
   "name": "python",
   "nbconvert_exporter": "python",
   "pygments_lexer": "ipython3",
   "version": "3.11.5"
  }
 },
 "nbformat": 4,
 "nbformat_minor": 5
}
