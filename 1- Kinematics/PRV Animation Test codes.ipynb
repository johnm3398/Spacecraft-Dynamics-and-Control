{
 "cells": [
  {
   "cell_type": "code",
   "execution_count": 1,
   "id": "4052b30c-5009-4147-aaea-586a9e4978e9",
   "metadata": {},
   "outputs": [],
   "source": [
    "import numpy as np\n",
    "import plotly.graph_objects as go\n",
    "\n"
   ]
  },
  {
   "cell_type": "code",
   "execution_count": 2,
   "id": "0d857aca-f3db-405a-96a5-87cf458dba96",
   "metadata": {},
   "outputs": [],
   "source": [
    "def rotation_matrix_x(phi):\n",
    "    \"\"\"Generate rotation matrix for a roll (rotation about the x-axis)\"\"\"\n",
    "    phi = (phi / 180) * np.pi\n",
    "    c, s = np.cos(phi), np.sin(phi)\n",
    "    return np.array([[1, 0, 0], \n",
    "                     [0, c, -s], \n",
    "                     [0, s, c]])\n",
    "\n",
    "def rotation_matrix_y(theta):\n",
    "    \"\"\"Generate rotation matrix for a pitch (rotation about the y-axis)\"\"\"\n",
    "    theta = (theta / 180) * np.pi\n",
    "    c, s = np.cos(theta), np.sin(theta)\n",
    "    return np.array([[c, 0, s], \n",
    "                     [0, 1, 0], \n",
    "                     [-s, 0, c]])\n",
    "\n",
    "def rotation_matrix_z(psi):\n",
    "    \"\"\"Generate rotation matrix for a yaw (rotation about the z-axis)\"\"\"\n",
    "    psi = (psi / 180) * np.pi\n",
    "    c, s = np.cos(psi), np.sin(psi)\n",
    "    return np.array([[c, -s, 0], \n",
    "                     [s, c, 0], \n",
    "                     [0, 0, 1]])"
   ]
  },
  {
   "cell_type": "code",
   "execution_count": 3,
   "id": "abb32757-eebd-4678-8ad0-6ee80b31cfe5",
   "metadata": {},
   "outputs": [],
   "source": [
    "def rotation_matrix_to_prv(C):\n",
    "    \"\"\"\n",
    "    Converts a rotation matrix to a Principal Rotation Vector (PRV).\n",
    "\n",
    "    Args:\n",
    "        C (np.array): A 3x3 rotation matrix.\n",
    "\n",
    "    Returns:\n",
    "        tuple: A PRV represented as (e_vector, phi_angle).\n",
    "    \"\"\"\n",
    "    # Compute the angle phi from the trace of the rotation matrix\n",
    "    trace_C = np.trace(C)\n",
    "    phi = np.arccos((trace_C - 1) / 2)\n",
    "    \n",
    "    # Handle edge cases where phi is 0 or π\n",
    "    if np.isclose(phi, 0) or np.isclose(phi, np.pi):\n",
    "        \n",
    "        # For phi=0, no rotation, the axis can be arbitrary, choose x-axis for simplicity\n",
    "        # For phi=π, rotation by 180 degrees, find axis by identifying non-zero component\n",
    "        e = np.array([1, 0, 0])  # Arbitrary axis, could also check for non-diagonal elements\n",
    "    \n",
    "    else:\n",
    "        # Compute the unit vector e from the off-diagonal elements of the matrix C\n",
    "        e = (1 / (2 * np.sin(phi))) * np.array([C[1, 2] - C[2, 1],\n",
    "                                                C[2, 0] - C[0, 2],\n",
    "                                                C[0, 1] - C[1, 0]])\n",
    "        # Normalize the unit vector to ensure it's a valid unit vector\n",
    "        e /= np.linalg.norm(e)\n",
    "\n",
    "    # Ensure the angle phi is in the range [0, 2*pi)\n",
    "    phi = np.mod(phi, 2 * np.pi)\n",
    "\n",
    "    return e, phi"
   ]
  },
  {
   "cell_type": "code",
   "execution_count": 4,
   "id": "c77fdd82-e80b-4bfd-a0a4-7fdbac6b2e9f",
   "metadata": {},
   "outputs": [],
   "source": [
    "def prv_to_rotation_matrix(e, phi_deg):\n",
    "    \"\"\"\n",
    "    Converts a Principal Rotation Vector (PRV) to a rotation matrix.\n",
    "\n",
    "    Args:\n",
    "        e (np.array)   : The unit vector of the PRV.\n",
    "        phi_deg (float): The rotation angle of the PRV in degrees.\n",
    "\n",
    "    Returns:\n",
    "        np.array: A 3x3 rotation matrix.\n",
    "    \"\"\"\n",
    "    # Convert the angle from degrees to radians\n",
    "    phi_rad = np.radians(phi_deg)\n",
    "    \n",
    "    # Calculate the cosine and sine of the angle\n",
    "    c_phi = np.cos(phi_rad)\n",
    "    s_phi = np.sin(phi_rad)\n",
    "    \n",
    "    # Calculate the matrix Sigma\n",
    "    Sigma = 1 - c_phi\n",
    "\n",
    "    # Ensure e is a float array to avoid UFuncTypeError during in-place operations\n",
    "    e = np.array(e, dtype=float)\n",
    "    \n",
    "    # Normalize e vector to ensure it's a valid unit vector\n",
    "    e /= np.linalg.norm(e)\n",
    "    \n",
    "    # Decompose the unit vector into its components\n",
    "    e1, e2, e3 = e\n",
    "    \n",
    "    # Construct the rotation matrix using the given formula\n",
    "    C = np.array([[((e1**2)*Sigma + c_phi), (e1*e2*Sigma + e3*s_phi), (e1*e3*Sigma - e2*s_phi)],\n",
    "                  [(e2*e1*Sigma - e3*s_phi), ((e2**2)*Sigma + c_phi), (e2*e3*Sigma + e1*s_phi)],\n",
    "                  [(e3*e1*Sigma + e2*s_phi), (e3*e2*Sigma - e1*s_phi), ((e3**2)*Sigma + c_phi)]])\n",
    "\n",
    "    return C"
   ]
  },
  {
   "cell_type": "code",
   "execution_count": 5,
   "id": "e649c956-fe6e-4a1a-ba8f-4fe83da900d5",
   "metadata": {},
   "outputs": [],
   "source": [
    "def setup_animation_controls(fig, frames):\n",
    "    \"\"\"\n",
    "    Adds animation controls and configures layout settings for a Plotly figure.\n",
    "\n",
    "    Args:\n",
    "        fig (plotly.graph_objects.Figure): The figure to which the controls will be added.\n",
    "        frames (list): List of animation frames to be included in the slider control.\n",
    "\n",
    "    Note:\n",
    "    - Animation Controls: This function sets up interactive controls that allow users to play through or step through the animation frames at their own pace. \n",
    "                          The 'Play' button starts the animation, while the slider allows users to jump to specific points in the animation.\n",
    "    \n",
    "    - Button Configuration: The 'Play' button is configured to start the animation immediately when clicked, using the 'immediate' mode. \n",
    "                            It ensures that the animation runs smoothly, redrawing each frame with a duration of 100 milliseconds.\n",
    "    \n",
    "    - Slider Mechanism: The slider below the animation includes steps corresponding to each frame created in the animation sequence. \n",
    "                        Users can move the slider to navigate to different frames, which is particularly useful for examining specific moments of the animation in detail.\n",
    "    \n",
    "    - Current Value Display: The slider also shows the current frame number as the animation plays, \n",
    "                             providing immediate visual feedback to users on their current position within the animation sequence.\n",
    "    \n",
    "    - Layout Configuration: The function also defines the visual layout of the 3D scene. \n",
    "                            It sets a fixed cube aspect for the axes to ensure that objects in the 3D space are displayed proportionally. \n",
    "                            The axes are configured to not auto-scale, maintaining consistent spatial references.\n",
    "    \n",
    "    - Scene Dimensions: The overall dimensions of the figure are set to ensure sufficient space for viewing the animation comfortably, enhancing the visual experience for the user.\n",
    "    \n",
    "    - Usability and Interactivity: By integrating these controls, the function enhances the usability and interactivity of the visualization, \n",
    "                                   making it a more effective tool for presentations or educational purposes where step-by-step analysis of movements is beneficial.\n",
    "\n",
    "    \"\"\"\n",
    "    # Update the figure with animation controls\n",
    "    fig.update_layout(updatemenus=[{\"type\": \"buttons\",\n",
    "                                    \"showactive\": False,\n",
    "                                    \"y\": 1.05,\n",
    "                                    \"x\": 0.8,\n",
    "                                    \"xanchor\": 'left',\n",
    "                                    \"yanchor\": 'bottom',\n",
    "                                    \"buttons\": [{\"label\": 'Play',\n",
    "                                                 \"method\": 'animate',\n",
    "                                                 \"args\": [None, {\"frame\": {\"duration\": 100, \"redraw\": True},\n",
    "                                                                 \"fromcurrent\": True,\n",
    "                                                                 \"mode\": 'immediate'}]}]}],\n",
    "                      sliders=[{\"steps\": [{\"method\": 'animate',\n",
    "                                           \"args\": [[f.name], {\"mode\": 'immediate', \n",
    "                                                               \"frame\": {\"duration\": 100, \"redraw\": True},\n",
    "                                                               \"fromcurrent\": True}],\n",
    "                                           \"label\": str(k)} for k, f in enumerate(frames)],\n",
    "                                \"x\": 0.1,\n",
    "                                \"y\": 0,\n",
    "                                \"currentvalue\": {\"visible\": True, \"prefix\": 'Step: '}}])\n",
    "\n",
    "    # Set additional layout settings for the 3D scene\n",
    "    fig.update_layout(width=1000,\n",
    "                      height=800,\n",
    "                      template='presentation',\n",
    "                      scene={\"aspectmode\": 'cube',\n",
    "                             \"xaxis\": {\"range\": [-1, 1], \"autorange\": False},\n",
    "                             \"yaxis\": {\"range\": [-1, 1], \"autorange\": False},\n",
    "                             \"zaxis\": {\"range\": [-1, 1], \"autorange\": False}},\n",
    "                      title='Euler Rotation Animation')"
   ]
  },
  {
   "cell_type": "code",
   "execution_count": null,
   "id": "f729ca94-6cb3-4cd1-883c-88e07f06bff2",
   "metadata": {},
   "outputs": [],
   "source": []
  },
  {
   "cell_type": "code",
   "execution_count": 8,
   "id": "6ba694b3-b116-48b5-a4d7-d83d02ef998b",
   "metadata": {},
   "outputs": [
    {
     "data": {
      "application/vnd.plotly.v1+json": {
       "config": {
        "plotlyServerURL": "https://plot.ly"
       },
       "data": [
        {
         "line": {
          "color": "yellow",
          "width": 5
         },
         "marker": {
          "color": "red",
          "size": 4
         },
         "mode": "lines+markers",
         "name": "Rotating Axis X",
         "type": "scatter3d",
         "x": [
          0,
          0.9995506104143153
         ],
         "y": [
          0,
          0.025865217286966984
         ],
         "z": [
          0,
          -0.015151493492978228
         ]
        },
        {
         "line": {
          "width": 5
         },
         "marker": {
          "color": "green",
          "size": 4
         },
         "mode": "lines+markers",
         "name": "Rotating Axis Y",
         "type": "scatter3d",
         "x": [
          0,
          -0.025865217286966984
         ],
         "y": [
          0,
          0.9996654200889852
         ],
         "z": [
          0,
          0.00019599237417488612
         ]
        },
        {
         "line": {
          "width": 5
         },
         "marker": {
          "color": "blue",
          "size": 4
         },
         "mode": "lines+markers",
         "name": "Rotating Axis Z",
         "type": "scatter3d",
         "x": [
          0,
          0.015151493492978228
         ],
         "y": [
          0,
          0.00019599237417488612
         ],
         "z": [
          0,
          0.9998851903253301
         ]
        },
        {
         "line": {
          "width": 5
         },
         "marker": {
          "color": "blue",
          "size": 4
         },
         "mode": "lines+markers",
         "name": "Rotating Axis Z",
         "type": "scatter3d",
         "x": [
          0,
          0
         ],
         "y": [
          0,
          0
         ],
         "z": [
          0,
          1
         ]
        }
       ],
       "frames": [
        {
         "data": [
          {
           "line": {
            "width": 5
           },
           "marker": {
            "color": "red",
            "size": 4
           },
           "mode": "lines+markers",
           "name": "Rotating Axis X",
           "type": "scatter3d",
           "x": [
            0,
            1
           ],
           "y": [
            0,
            0
           ],
           "z": [
            0,
            0
           ]
          },
          {
           "line": {
            "width": 5
           },
           "marker": {
            "color": "green",
            "size": 4
           },
           "mode": "lines+markers",
           "name": "Rotating Axis Y",
           "type": "scatter3d",
           "x": [
            0,
            0
           ],
           "y": [
            0,
            1
           ],
           "z": [
            0,
            0
           ]
          },
          {
           "line": {
            "width": 5
           },
           "marker": {
            "color": "blue",
            "size": 4
           },
           "mode": "lines+markers",
           "name": "Rotating Axis Z",
           "type": "scatter3d",
           "x": [
            0,
            0
           ],
           "y": [
            0,
            0
           ],
           "z": [
            0,
            1
           ]
          }
         ],
         "name": "0"
        },
        {
         "data": [
          {
           "line": {
            "width": 5
           },
           "marker": {
            "color": "red",
            "size": 4
           },
           "mode": "lines+markers",
           "name": "Rotating Axis X",
           "type": "scatter3d",
           "x": [
            0,
            0.9999995006408768
           ],
           "y": [
            0,
            0.0008623029399113165
           ],
           "z": [
            0,
            -0.0005051253673258572
           ]
          },
          {
           "line": {
            "width": 5
           },
           "marker": {
            "color": "green",
            "size": 4
           },
           "mode": "lines+markers",
           "name": "Rotating Axis Y",
           "type": "scatter3d",
           "x": [
            0,
            -0.0008623029399113165
           ],
           "y": [
            0,
            0.999999628216727
           ],
           "z": [
            0,
            2.177855990263704e-07
           ]
          },
          {
           "line": {
            "width": 5
           },
           "marker": {
            "color": "blue",
            "size": 4
           },
           "mode": "lines+markers",
           "name": "Rotating Axis Z",
           "type": "scatter3d",
           "x": [
            0,
            0.0005051253673258572
           ],
           "y": [
            0,
            2.177855990263704e-07
           ],
           "z": [
            0,
            0.9999998724241498
           ]
          }
         ],
         "name": "1"
        },
        {
         "data": [
          {
           "line": {
            "width": 5
           },
           "marker": {
            "color": "red",
            "size": 4
           },
           "mode": "lines+markers",
           "name": "Rotating Axis X",
           "type": "scatter3d",
           "x": [
            0,
            0.9999980025640062
           ],
           "y": [
            0,
            0.0017246050186249533
           ],
           "z": [
            0,
            -0.0010102502301737935
           ]
          },
          {
           "line": {
            "width": 5
           },
           "marker": {
            "color": "green",
            "size": 4
           },
           "mode": "lines+markers",
           "name": "Rotating Axis Y",
           "type": "scatter3d",
           "x": [
            0,
            -0.0017246050186249533
           ],
           "y": [
            0,
            0.9999985128672796
           ],
           "z": [
            0,
            8.711421785536127e-07
           ]
          },
          {
           "line": {
            "width": 5
           },
           "marker": {
            "color": "blue",
            "size": 4
           },
           "mode": "lines+markers",
           "name": "Rotating Axis Z",
           "type": "scatter3d",
           "x": [
            0,
            0.0010102502301737935
           ],
           "y": [
            0,
            8.711421785536127e-07
           ],
           "z": [
            0,
            0.9999994896967266
           ]
          }
         ],
         "name": "2"
        },
        {
         "data": [
          {
           "line": {
            "width": 5
           },
           "marker": {
            "color": "red",
            "size": 4
           },
           "mode": "lines+markers",
           "name": "Rotating Axis X",
           "type": "scatter3d",
           "x": [
            0,
            0.9999955057708841
           ],
           "y": [
            0,
            0.00258690537494409
           ],
           "z": [
            0,
            -0.0015153740840663915
           ]
          },
          {
           "line": {
            "width": 5
           },
           "marker": {
            "color": "green",
            "size": 4
           },
           "mode": "lines+markers",
           "name": "Rotating Axis Y",
           "type": "scatter3d",
           "x": [
            0,
            -0.00258690537494409
           ],
           "y": [
            0,
            0.9999966539527716
           ],
           "z": [
            0,
            1.9600690860713807e-06
           ]
          },
          {
           "line": {
            "width": 5
           },
           "marker": {
            "color": "blue",
            "size": 4
           },
           "mode": "lines+markers",
           "name": "Rotating Axis Z",
           "type": "scatter3d",
           "x": [
            0,
            0.0015153740840663915
           ],
           "y": [
            0,
            1.9600690860713807e-06
           ],
           "z": [
            0,
            0.9999988518181125
           ]
          }
         ],
         "name": "3"
        },
        {
         "data": [
          {
           "line": {
            "width": 5
           },
           "marker": {
            "color": "red",
            "size": 4
           },
           "mode": "lines+markers",
           "name": "Rotating Axis X",
           "type": "scatter3d",
           "x": [
            0,
            0.9999920102640043
           ],
           "y": [
            0,
            0.0034492031476736277
           ],
           "z": [
            0,
            -0.0020204964245272416
           ]
          },
          {
           "line": {
            "width": 5
           },
           "marker": {
            "color": "green",
            "size": 4
           },
           "mode": "lines+markers",
           "name": "Rotating Axis Y",
           "type": "scatter3d",
           "x": [
            0,
            -0.0034492031476736277
           ],
           "y": [
            0,
            0.9999940514750595
           ],
           "z": [
            0,
            3.484565234062431e-06
           ]
          },
          {
           "line": {
            "width": 5
           },
           "marker": {
            "color": "blue",
            "size": 4
           },
           "mode": "lines+markers",
           "name": "Rotating Axis Z",
           "type": "scatter3d",
           "x": [
            0,
            0.0020204964245272416
           ],
           "y": [
            0,
            3.484565234062431e-06
           ],
           "z": [
            0,
            0.9999979587889448
           ]
          }
         ],
         "name": "4"
        },
        {
         "data": [
          {
           "line": {
            "width": 5
           },
           "marker": {
            "color": "red",
            "size": 4
           },
           "mode": "lines+markers",
           "name": "Rotating Axis X",
           "type": "scatter3d",
           "x": [
            0,
            0.9999875160468578
           ],
           "y": [
            0,
            0.004311497475621048
           ],
           "z": [
            0,
            -0.002525616747081447
           ]
          },
          {
           "line": {
            "width": 5
           },
           "marker": {
            "color": "green",
            "size": 4
           },
           "mode": "lines+markers",
           "name": "Rotating Axis Y",
           "type": "scatter3d",
           "x": [
            0,
            -0.004311497475621048
           ],
           "y": [
            0,
            0.9999907054367424
           ],
           "z": [
            0,
            5.444629099954201e-06
           ]
          },
          {
           "line": {
            "width": 5
           },
           "marker": {
            "color": "blue",
            "size": 4
           },
           "mode": "lines+markers",
           "name": "Rotating Axis Z",
           "type": "scatter3d",
           "x": [
            0,
            0.002525616747081447
           ],
           "y": [
            0,
            5.444629099954201e-06
           ],
           "z": [
            0,
            0.9999968106101154
           ]
          }
         ],
         "name": "5"
        },
        {
         "data": [
          {
           "line": {
            "width": 5
           },
           "marker": {
            "color": "red",
            "size": 4
           },
           "mode": "lines+markers",
           "name": "Rotating Axis X",
           "type": "scatter3d",
           "x": [
            0,
            0.9999820231239328
           ],
           "y": [
            0,
            0.005173787497597268
           ],
           "z": [
            0,
            -0.0030307345472561226
           ]
          },
          {
           "line": {
            "width": 5
           },
           "marker": {
            "color": "green",
            "size": 4
           },
           "mode": "lines+markers",
           "name": "Rotating Axis Y",
           "type": "scatter3d",
           "x": [
            0,
            -0.005173787497597268
           ],
           "y": [
            0,
            0.9999866158411621
           ],
           "z": [
            0,
            7.840258726264074e-06
           ]
          },
          {
           "line": {
            "width": 5
           },
           "marker": {
            "color": "blue",
            "size": 4
           },
           "mode": "lines+markers",
           "name": "Rotating Axis Z",
           "type": "scatter3d",
           "x": [
            0,
            0.0030307345472561226
           ],
           "y": [
            0,
            7.840258726264074e-06
           ],
           "z": [
            0,
            0.9999954072827707
           ]
          }
         ],
         "name": "6"
        },
        {
         "data": [
          {
           "line": {
            "width": 5
           },
           "marker": {
            "color": "red",
            "size": 4
           },
           "mode": "lines+markers",
           "name": "Rotating Axis X",
           "type": "scatter3d",
           "x": [
            0,
            0.9999755315007155
           ],
           "y": [
            0,
            0.0060360723524175135
           ],
           "z": [
            0,
            -0.003535849320580907
           ]
          },
          {
           "line": {
            "width": 5
           },
           "marker": {
            "color": "green",
            "size": 4
           },
           "mode": "lines+markers",
           "name": "Rotating Axis Y",
           "type": "scatter3d",
           "x": [
            0,
            -0.0060360723524175135
           ],
           "y": [
            0,
            0.9999817826924031
           ],
           "z": [
            0,
            1.0671451720357275e-05
           ]
          },
          {
           "line": {
            "width": 5
           },
           "marker": {
            "color": "blue",
            "size": 4
           },
           "mode": "lines+markers",
           "name": "Rotating Axis Z",
           "type": "scatter3d",
           "x": [
            0,
            0.003535849320580907
           ],
           "y": [
            0,
            1.0671451720357275e-05
           ],
           "z": [
            0,
            0.9999937488083124
           ]
          }
         ],
         "name": "7"
        },
        {
         "data": [
          {
           "line": {
            "width": 5
           },
           "marker": {
            "color": "red",
            "size": 4
           },
           "mode": "lines+markers",
           "name": "Rotating Axis X",
           "type": "scatter3d",
           "x": [
            0,
            0.9999680411836891
           ],
           "y": [
            0,
            0.006898351178902165
           ],
           "z": [
            0,
            -0.00404096056258846
           ]
          },
          {
           "line": {
            "width": 5
           },
           "marker": {
            "color": "green",
            "size": 4
           },
           "mode": "lines+markers",
           "name": "Rotating Axis Y",
           "type": "scatter3d",
           "x": [
            0,
            -0.006898351178902165
           ],
           "y": [
            0,
            0.9999762059952921
           ],
           "z": [
            0,
            1.3938205254688965e-05
           ]
          },
          {
           "line": {
            "width": 5
           },
           "marker": {
            "color": "blue",
            "size": 4
           },
           "mode": "lines+markers",
           "name": "Rotating Axis Z",
           "type": "scatter3d",
           "x": [
            0,
            0.00404096056258846
           ],
           "y": [
            0,
            1.3938205254688965e-05
           ],
           "z": [
            0,
            0.999991835188397
           ]
          }
         ],
         "name": "8"
        },
        {
         "data": [
          {
           "line": {
            "width": 5
           },
           "marker": {
            "color": "red",
            "size": 4
           },
           "mode": "lines+markers",
           "name": "Rotating Axis X",
           "type": "scatter3d",
           "x": [
            0,
            0.9999595521803343
           ],
           "y": [
            0,
            0.007760623115877626
           ],
           "z": [
            0,
            -0.004546067768814966
           ]
          },
          {
           "line": {
            "width": 5
           },
           "marker": {
            "color": "green",
            "size": 4
           },
           "mode": "lines+markers",
           "name": "Rotating Axis Y",
           "type": "scatter3d",
           "x": [
            0,
            -0.007760623115877626
           ],
           "y": [
            0,
            0.9999698857553989
           ],
           "z": [
            0,
            1.7640516066707418e-05
           ]
          },
          {
           "line": {
            "width": 5
           },
           "marker": {
            "color": "blue",
            "size": 4
           },
           "mode": "lines+markers",
           "name": "Rotating Axis Z",
           "type": "scatter3d",
           "x": [
            0,
            0.004546067768814966
           ],
           "y": [
            0,
            1.7640516066707418e-05
           ],
           "z": [
            0,
            0.9999896664249354
           ]
          }
         ],
         "name": "9"
        },
        {
         "data": [
          {
           "line": {
            "width": 5
           },
           "marker": {
            "color": "red",
            "size": 4
           },
           "mode": "lines+markers",
           "name": "Rotating Axis X",
           "type": "scatter3d",
           "x": [
            0,
            0.9999500644991292
           ],
           "y": [
            0,
            0.008622887302177177
           ],
           "z": [
            0,
            -0.005051170434800642
           ]
          },
          {
           "line": {
            "width": 5
           },
           "marker": {
            "color": "green",
            "size": 4
           },
           "mode": "lines+markers",
           "name": "Rotating Axis Y",
           "type": "scatter3d",
           "x": [
            0,
            -0.008622887302177177
           ],
           "y": [
            0,
            0.9999628219790354
           ],
           "z": [
            0,
            2.1778380458854004e-05
           ]
          },
          {
           "line": {
            "width": 5
           },
           "marker": {
            "color": "blue",
            "size": 4
           },
           "mode": "lines+markers",
           "name": "Rotating Axis Z",
           "type": "scatter3d",
           "x": [
            0,
            0.005051170434800642
           ],
           "y": [
            0,
            2.1778380458854004e-05
           ],
           "z": [
            0,
            0.9999872425200937
           ]
          }
         ],
         "name": "10"
        },
        {
         "data": [
          {
           "line": {
            "width": 5
           },
           "marker": {
            "color": "red",
            "size": 4
           },
           "mode": "lines+markers",
           "name": "Rotating Axis X",
           "type": "scatter3d",
           "x": [
            0,
            0.9999395781495493
           ],
           "y": [
            0,
            0.009485142876641844
           ],
           "z": [
            0,
            -0.00555626805609024
           ]
          },
          {
           "line": {
            "width": 5
           },
           "marker": {
            "color": "green",
            "size": 4
           },
           "mode": "lines+markers",
           "name": "Rotating Axis Y",
           "type": "scatter3d",
           "x": [
            0,
            -0.009485142876641844
           ],
           "y": [
            0,
            0.9999550146732565
           ],
           "z": [
            0,
            2.6351794298563197e-05
           ]
          },
          {
           "line": {
            "width": 5
           },
           "marker": {
            "color": "blue",
            "size": 4
           },
           "mode": "lines+markers",
           "name": "Rotating Axis Z",
           "type": "scatter3d",
           "x": [
            0,
            0.00555626805609024
           ],
           "y": [
            0,
            2.6351794298563197e-05
           ],
           "z": [
            0,
            0.9999845634762927
           ]
          }
         ],
         "name": "11"
        },
        {
         "data": [
          {
           "line": {
            "width": 5
           },
           "marker": {
            "color": "red",
            "size": 4
           },
           "mode": "lines+markers",
           "name": "Rotating Axis X",
           "type": "scatter3d",
           "x": [
            0,
            0.9999280931420675
           ],
           "y": [
            0,
            0.010347388978121253
           ],
           "z": [
            0,
            -0.006061360128233549
           ]
          },
          {
           "line": {
            "width": 5
           },
           "marker": {
            "color": "green",
            "size": 4
           },
           "mode": "lines+markers",
           "name": "Rotating Axis Y",
           "type": "scatter3d",
           "x": [
            0,
            -0.010347388978121253
           ],
           "y": [
            0,
            0.9999464638458594
           ],
           "z": [
            0,
            3.136075301826258e-05
           ]
          },
          {
           "line": {
            "width": 5
           },
           "marker": {
            "color": "blue",
            "size": 4
           },
           "mode": "lines+markers",
           "name": "Rotating Axis Z",
           "type": "scatter3d",
           "x": [
            0,
            0.006061360128233549
           ],
           "y": [
            0,
            3.136075301826258e-05
           ],
           "z": [
            0,
            0.9999816292962082
           ]
          }
         ],
         "name": "12"
        },
        {
         "data": [
          {
           "line": {
            "width": 5
           },
           "marker": {
            "color": "red",
            "size": 4
           },
           "mode": "lines+markers",
           "name": "Rotating Axis X",
           "type": "scatter3d",
           "x": [
            0,
            0.9999156094881543
           ],
           "y": [
            0,
            0.011209624745474489
           ],
           "z": [
            0,
            -0.006566446146785902
           ]
          },
          {
           "line": {
            "width": 5
           },
           "marker": {
            "color": "green",
            "size": 4
           },
           "mode": "lines+markers",
           "name": "Rotating Axis Y",
           "type": "scatter3d",
           "x": [
            0,
            -0.011209624745474489
           ],
           "y": [
            0,
            0.999937169505384
           ],
           "z": [
            0,
            3.680525161542124e-05
           ]
          },
          {
           "line": {
            "width": 5
           },
           "marker": {
            "color": "blue",
            "size": 4
           },
           "mode": "lines+markers",
           "name": "Rotating Axis Z",
           "type": "scatter3d",
           "x": [
            0,
            0.006566446146785902
           ],
           "y": [
            0,
            3.680525161542124e-05
           ],
           "z": [
            0,
            0.9999784399827703
           ]
          }
         ],
         "name": "13"
        },
        {
         "data": [
          {
           "line": {
            "width": 5
           },
           "marker": {
            "color": "red",
            "size": 4
           },
           "mode": "lines+markers",
           "name": "Rotating Axis X",
           "type": "scatter3d",
           "x": [
            0,
            0.999902127200277
           ],
           "y": [
            0,
            0.012071849317570955
           ],
           "z": [
            0,
            -0.007071525607308673
           ]
          },
          {
           "line": {
            "width": 5
           },
           "marker": {
            "color": "green",
            "size": 4
           },
           "mode": "lines+markers",
           "name": "Rotating Axis Y",
           "type": "scatter3d",
           "x": [
            0,
            -0.012071849317570955
           ],
           "y": [
            0,
            0.9999271316611128
           ],
           "z": [
            0,
            4.2685284652549804e-05
           ]
          },
          {
           "line": {
            "width": 5
           },
           "marker": {
            "color": "blue",
            "size": 4
           },
           "mode": "lines+markers",
           "name": "Rotating Axis Z",
           "type": "scatter3d",
           "x": [
            0,
            0.007071525607308673
           ],
           "y": [
            0,
            4.2685284652549804e-05
           ],
           "z": [
            0,
            0.9999749955391642
           ]
          }
         ],
         "name": "14"
        },
        {
         "data": [
          {
           "line": {
            "width": 5
           },
           "marker": {
            "color": "red",
            "size": 4
           },
           "mode": "lines+markers",
           "name": "Rotating Axis X",
           "type": "scatter3d",
           "x": [
            0,
            0.999887646291901
           ],
           "y": [
            0,
            0.012934061833291243
           ],
           "z": [
            0,
            -0.0075765980053697935
           ]
          },
          {
           "line": {
            "width": 5
           },
           "marker": {
            "color": "green",
            "size": 4
           },
           "mode": "lines+markers",
           "name": "Rotating Axis Y",
           "type": "scatter3d",
           "x": [
            0,
            -0.012934061833291243
           ],
           "y": [
            0,
            0.9999163503230706
           ],
           "z": [
            0,
            4.900084625710358e-05
           ]
          },
          {
           "line": {
            "width": 5
           },
           "marker": {
            "color": "blue",
            "size": 4
           },
           "mode": "lines+markers",
           "name": "Rotating Axis Z",
           "type": "scatter3d",
           "x": [
            0,
            0.0075765980053697935
           ],
           "y": [
            0,
            4.900084625710358e-05
           ],
           "z": [
            0,
            0.9999712959688304
           ]
          }
         ],
         "name": "15"
        },
        {
         "data": [
          {
           "line": {
            "width": 5
           },
           "marker": {
            "color": "red",
            "size": 4
           },
           "mode": "lines+markers",
           "name": "Rotating Axis X",
           "type": "scatter3d",
           "x": [
            0,
            0.9998721667774882
           ],
           "y": [
            0,
            0.01379626143152798
           ],
           "z": [
            0,
            -0.00808166283654424
           ]
          },
          {
           "line": {
            "width": 5
           },
           "marker": {
            "color": "green",
            "size": 4
           },
           "mode": "lines+markers",
           "name": "Rotating Axis Y",
           "type": "scatter3d",
           "x": [
            0,
            -0.01379626143152798
           ],
           "y": [
            0,
            0.9999048255020251
           ],
           "z": [
            0,
            5.5751930121676235e-05
           ]
          },
          {
           "line": {
            "width": 5
           },
           "marker": {
            "color": "blue",
            "size": 4
           },
           "mode": "lines+markers",
           "name": "Rotating Axis Z",
           "type": "scatter3d",
           "x": [
            0,
            0.00808166283654424
           ],
           "y": [
            0,
            5.5751930121676235e-05
           ],
           "z": [
            0,
            0.9999673412754632
           ]
          }
         ],
         "name": "16"
        },
        {
         "data": [
          {
           "line": {
            "width": 5
           },
           "marker": {
            "color": "red",
            "size": 4
           },
           "mode": "lines+markers",
           "name": "Rotating Axis X",
           "type": "scatter3d",
           "x": [
            0,
            0.9998556886724987
           ],
           "y": [
            0,
            0.014658447251186698
           ],
           "z": [
            0,
            -0.008586719596414553
           ]
          },
          {
           "line": {
            "width": 5
           },
           "marker": {
            "color": "green",
            "size": 4
           },
           "mode": "lines+markers",
           "name": "Rotating Axis Y",
           "type": "scatter3d",
           "x": [
            0,
            -0.014658447251186698
           ],
           "y": [
            0,
            0.9998925572094862
           ],
           "z": [
            0,
            6.29385295037577e-05
           ]
          },
          {
           "line": {
            "width": 5
           },
           "marker": {
            "color": "blue",
            "size": 4
           },
           "mode": "lines+markers",
           "name": "Rotating Axis Z",
           "type": "scatter3d",
           "x": [
            0,
            0.008586719596414553
           ],
           "y": [
            0,
            6.29385295037577e-05
           ],
           "z": [
            0,
            0.9999631314630125
           ]
          }
         ],
         "name": "17"
        },
        {
         "data": [
          {
           "line": {
            "width": 5
           },
           "marker": {
            "color": "red",
            "size": 4
           },
           "mode": "lines+markers",
           "name": "Rotating Axis X",
           "type": "scatter3d",
           "x": [
            0,
            0.9998382119933893
           ],
           "y": [
            0,
            0.015520618431186685
           ],
           "z": [
            0,
            -0.00909176778057133
           ]
          },
          {
           "line": {
            "width": 5
           },
           "marker": {
            "color": "green",
            "size": 4
           },
           "mode": "lines+markers",
           "name": "Rotating Axis Y",
           "type": "scatter3d",
           "x": [
            0,
            -0.015520618431186685
           ],
           "y": [
            0,
            0.9998795454577066
           ],
           "z": [
            0,
            7.056063722602468e-05
           ]
          },
          {
           "line": {
            "width": 5
           },
           "marker": {
            "color": "blue",
            "size": 4
           },
           "mode": "lines+markers",
           "name": "Rotating Axis Z",
           "type": "scatter3d",
           "x": [
            0,
            0.00909176778057133
           ],
           "y": [
            0,
            7.056063722602468e-05
           ],
           "z": [
            0,
            0.9999586665356827
           ]
          }
         ],
         "name": "18"
        },
        {
         "data": [
          {
           "line": {
            "width": 5
           },
           "marker": {
            "color": "red",
            "size": 4
           },
           "mode": "lines+markers",
           "name": "Rotating Axis X",
           "type": "scatter3d",
           "x": [
            0,
            0.9998197367576143
           ],
           "y": [
            0,
            0.016382774110461844
           ],
           "z": [
            0,
            -0.00959680688461373
           ]
          },
          {
           "line": {
            "width": 5
           },
           "marker": {
            "color": "green",
            "size": 4
           },
           "mode": "lines+markers",
           "name": "Rotating Axis Y",
           "type": "scatter3d",
           "x": [
            0,
            -0.016382774110461844
           ],
           "y": [
            0,
            0.9998657902596814
           ],
           "z": [
            0,
            7.861824567609858e-05
           ]
          },
          {
           "line": {
            "width": 5
           },
           "marker": {
            "color": "blue",
            "size": 4
           },
           "mode": "lines+markers",
           "name": "Rotating Axis Z",
           "type": "scatter3d",
           "x": [
            0,
            0.00959680688461373
           ],
           "y": [
            0,
            7.861824567609858e-05
           ],
           "z": [
            0,
            0.9999539464979329
           ]
          }
         ],
         "name": "19"
        },
        {
         "data": [
          {
           "line": {
            "width": 5
           },
           "marker": {
            "color": "red",
            "size": 4
           },
           "mode": "lines+markers",
           "name": "Rotating Axis X",
           "type": "scatter3d",
           "x": [
            0,
            0.9998002629836251
           ],
           "y": [
            0,
            0.01724491342796158
           ],
           "z": [
            0,
            -0.010101836404149992
           ]
          },
          {
           "line": {
            "width": 5
           },
           "marker": {
            "color": "green",
            "size": 4
           },
           "mode": "lines+markers",
           "name": "Rotating Axis Y",
           "type": "scatter3d",
           "x": [
            0,
            -0.01724491342796158
           ],
           "y": [
            0,
            0.9998512916291479
           ],
           "z": [
            0,
            8.711134680673914e-05
           ]
          },
          {
           "line": {
            "width": 5
           },
           "marker": {
            "color": "blue",
            "size": 4
           },
           "mode": "lines+markers",
           "name": "Rotating Axis Z",
           "type": "scatter3d",
           "x": [
            0,
            0.010101836404149992
           ],
           "y": [
            0,
            8.711134680673914e-05
           ],
           "z": [
            0,
            0.9999489713544772
           ]
          }
         ],
         "name": "20"
        },
        {
         "data": [
          {
           "line": {
            "width": 5
           },
           "marker": {
            "color": "red",
            "size": 4
           },
           "mode": "lines+markers",
           "name": "Rotating Axis X",
           "type": "scatter3d",
           "x": [
            0,
            0.9997797906908708
           ],
           "y": [
            0,
            0.01810703552265162
           ],
           "z": [
            0,
            -0.010606855834797915
           ]
          },
          {
           "line": {
            "width": 5
           },
           "marker": {
            "color": "green",
            "size": 4
           },
           "mode": "lines+markers",
           "name": "Rotating Axis Y",
           "type": "scatter3d",
           "x": [
            0,
            -0.01810703552265162
           ],
           "y": [
            0,
            0.9998360495805865
           ],
           "z": [
            0,
            9.603993213569924e-05
           ]
          },
          {
           "line": {
            "width": 5
           },
           "marker": {
            "color": "blue",
            "size": 4
           },
           "mode": "lines+markers",
           "name": "Rotating Axis Z",
           "type": "scatter3d",
           "x": [
            0,
            0.010606855834797915
           ],
           "y": [
            0,
            9.603993213569924e-05
           ],
           "z": [
            0,
            0.9999437411102843
           ]
          }
         ],
         "name": "21"
        },
        {
         "data": [
          {
           "line": {
            "width": 5
           },
           "marker": {
            "color": "red",
            "size": 4
           },
           "mode": "lines+markers",
           "name": "Rotating Axis X",
           "type": "scatter3d",
           "x": [
            0,
            0.9997583198997971
           ],
           "y": [
            0,
            0.018969139533514895
           ],
           "z": [
            0,
            -0.011111864672185381
           ]
          },
          {
           "line": {
            "width": 5
           },
           "marker": {
            "color": "green",
            "size": 4
           },
           "mode": "lines+markers",
           "name": "Rotating Axis Y",
           "type": "scatter3d",
           "x": [
            0,
            -0.018969139533514895
           ],
           "y": [
            0,
            0.9998200641292194
           ],
           "z": [
            0,
            0.00010540399274587011
           ]
          },
          {
           "line": {
            "width": 5
           },
           "marker": {
            "color": "blue",
            "size": 4
           },
           "mode": "lines+markers",
           "name": "Rotating Axis Z",
           "type": "scatter3d",
           "x": [
            0,
            0.011111864672185381
           ],
           "y": [
            0,
            0.00010540399274587011
           ],
           "z": [
            0,
            0.9999382557705777
           ]
          }
         ],
         "name": "22"
        },
        {
         "data": [
          {
           "line": {
            "width": 5
           },
           "marker": {
            "color": "red",
            "size": 4
           },
           "mode": "lines+markers",
           "name": "Rotating Axis X",
           "type": "scatter3d",
           "x": [
            0,
            0.9997358506318476
           ],
           "y": [
            0,
            0.01983122459955241
           ],
           "z": [
            0,
            -0.01161686241195085
           ]
          },
          {
           "line": {
            "width": 5
           },
           "marker": {
            "color": "green",
            "size": 4
           },
           "mode": "lines+markers",
           "name": "Rotating Axis Y",
           "type": "scatter3d",
           "x": [
            0,
            -0.01983122459955241
           ],
           "y": [
            0,
            0.9998033352910117
           ],
           "z": [
            0,
            0.00011520351928518447
           ]
          },
          {
           "line": {
            "width": 5
           },
           "marker": {
            "color": "blue",
            "size": 4
           },
           "mode": "lines+markers",
           "name": "Rotating Axis Z",
           "type": "scatter3d",
           "x": [
            0,
            0.01161686241195085
           ],
           "y": [
            0,
            0.00011520351928518447
           ],
           "z": [
            0,
            0.9999325153408358
           ]
          }
         ],
         "name": "23"
        },
        {
         "data": [
          {
           "line": {
            "width": 5
           },
           "marker": {
            "color": "red",
            "size": 4
           },
           "mode": "lines+markers",
           "name": "Rotating Axis X",
           "type": "scatter3d",
           "x": [
            0,
            0.9997123829094626
           ],
           "y": [
            0,
            0.02069328985978406
           ],
           "z": [
            0,
            -0.01212184854974386
           ]
          },
          {
           "line": {
            "width": 5
           },
           "marker": {
            "color": "green",
            "size": 4
           },
           "mode": "lines+markers",
           "name": "Rotating Axis Y",
           "type": "scatter3d",
           "x": [
            0,
            -0.02069328985978406
           ],
           "y": [
            0,
            0.9997858630826709
           ],
           "z": [
            0,
            0.00012543850196661662
           ]
          },
          {
           "line": {
            "width": 5
           },
           "marker": {
            "color": "blue",
            "size": 4
           },
           "mode": "lines+markers",
           "name": "Rotating Axis Z",
           "type": "scatter3d",
           "x": [
            0,
            0.01212184854974386
           ],
           "y": [
            0,
            0.00012543850196661662
           ],
           "z": [
            0,
            0.9999265198267917
           ]
          }
         ],
         "name": "24"
        },
        {
         "data": [
          {
           "line": {
            "width": 5
           },
           "marker": {
            "color": "red",
            "size": 4
           },
           "mode": "lines+markers",
           "name": "Rotating Axis X",
           "type": "scatter3d",
           "x": [
            0,
            0.9996879167560798
           ],
           "y": [
            0,
            0.021555334453249562
           ],
           "z": [
            0,
            -0.01262682258122555
           ]
          },
          {
           "line": {
            "width": 5
           },
           "marker": {
            "color": "green",
            "size": 4
           },
           "mode": "lines+markers",
           "name": "Rotating Axis Y",
           "type": "scatter3d",
           "x": [
            0,
            -0.021555334453249562
           ],
           "y": [
            0,
            0.9997676475216467
           ],
           "z": [
            0,
            0.000136108930568376
           ]
          },
          {
           "line": {
            "width": 5
           },
           "marker": {
            "color": "blue",
            "size": 4
           },
           "mode": "lines+markers",
           "name": "Rotating Axis Z",
           "type": "scatter3d",
           "x": [
            0,
            0.01262682258122555
           ],
           "y": [
            0,
            0.000136108930568376
           ],
           "z": [
            0,
            0.9999202692344331
           ]
          }
         ],
         "name": "25"
        },
        {
         "data": [
          {
           "line": {
            "width": 5
           },
           "marker": {
            "color": "red",
            "size": 4
           },
           "mode": "lines+markers",
           "name": "Rotating Axis X",
           "type": "scatter3d",
           "x": [
            0,
            0.999662452196134
           ],
           "y": [
            0,
            0.022417357519009237
           ],
           "z": [
            0,
            -0.013131784002069134
           ]
          },
          {
           "line": {
            "width": 5
           },
           "marker": {
            "color": "green",
            "size": 4
           },
           "mode": "lines+markers",
           "name": "Rotating Axis Y",
           "type": "scatter3d",
           "x": [
            0,
            -0.022417357519009237
           ],
           "y": [
            0,
            0.9997486886261313
           ],
           "z": [
            0,
            0.00014721479443366523
           ]
          },
          {
           "line": {
            "width": 5
           },
           "marker": {
            "color": "blue",
            "size": 4
           },
           "mode": "lines+markers",
           "name": "Rotating Axis Z",
           "type": "scatter3d",
           "x": [
            0,
            0.013131784002069134
           ],
           "y": [
            0,
            0.00014721479443366523
           ],
           "z": [
            0,
            0.9999137635700027
           ]
          }
         ],
         "name": "26"
        },
        {
         "data": [
          {
           "line": {
            "width": 5
           },
           "marker": {
            "color": "red",
            "size": 4
           },
           "mode": "lines+markers",
           "name": "Rotating Axis X",
           "type": "scatter3d",
           "x": [
            0,
            0.999635989255057
           ],
           "y": [
            0,
            0.023279358196144927
           ],
           "z": [
            0,
            -0.013636732307960428
           ]
          },
          {
           "line": {
            "width": 5
           },
           "marker": {
            "color": "green",
            "size": 4
           },
           "mode": "lines+markers",
           "name": "Rotating Axis Y",
           "type": "scatter3d",
           "x": [
            0,
            -0.023279358196144927
           ],
           "y": [
            0,
            0.9997289864150593
           ],
           "z": [
            0,
            0.00015875608247092207
           ]
          },
          {
           "line": {
            "width": 5
           },
           "marker": {
            "color": "blue",
            "size": 4
           },
           "mode": "lines+markers",
           "name": "Rotating Axis Z",
           "type": "scatter3d",
           "x": [
            0,
            0.013636732307960428
           ],
           "y": [
            0,
            0.00015875608247092207
           ],
           "z": [
            0,
            0.9999070028399978
           ]
          }
         ],
         "name": "27"
        },
        {
         "data": [
          {
           "line": {
            "width": 5
           },
           "marker": {
            "color": "red",
            "size": 4
           },
           "mode": "lines+markers",
           "name": "Rotating Axis X",
           "type": "scatter3d",
           "x": [
            0,
            0.9996085279592781
           ],
           "y": [
            0,
            0.024141335623760824
           ],
           "z": [
            0,
            -0.014141666994598347
           ]
          },
          {
           "line": {
            "width": 5
           },
           "marker": {
            "color": "green",
            "size": 4
           },
           "mode": "lines+markers",
           "name": "Rotating Axis Y",
           "type": "scatter3d",
           "x": [
            0,
            -0.024141335623760824
           ],
           "y": [
            0,
            0.9997085409081078
           ],
           "z": [
            0,
            0.00017073278315352894
           ]
          },
          {
           "line": {
            "width": 5
           },
           "marker": {
            "color": "blue",
            "size": 4
           },
           "mode": "lines+markers",
           "name": "Rotating Axis Z",
           "type": "scatter3d",
           "x": [
            0,
            0.014141666994598347
           ],
           "y": [
            0,
            0.00017073278315352894
           ],
           "z": [
            0,
            0.9998999870511703
           ]
          }
         ],
         "name": "28"
        },
        {
         "data": [
          {
           "line": {
            "width": 5
           },
           "marker": {
            "color": "red",
            "size": 4
           },
           "mode": "lines+markers",
           "name": "Rotating Axis X",
           "type": "scatter3d",
           "x": [
            0,
            0.999580068336223
           ],
           "y": [
            0,
            0.025003288940984345
           ],
           "z": [
            0,
            -0.014646587557695408
           ]
          },
          {
           "line": {
            "width": 5
           },
           "marker": {
            "color": "green",
            "size": 4
           },
           "mode": "lines+markers",
           "name": "Rotating Axis Y",
           "type": "scatter3d",
           "x": [
            0,
            -0.025003288940984345
           ],
           "y": [
            0,
            0.9996873521256958
           ],
           "z": [
            0,
            0.00018314488452029722
           ]
          },
          {
           "line": {
            "width": 5
           },
           "marker": {
            "color": "blue",
            "size": 4
           },
           "mode": "lines+markers",
           "name": "Rotating Axis Z",
           "type": "scatter3d",
           "x": [
            0,
            0.014646587557695408
           ],
           "y": [
            0,
            0.00018314488452029722
           ],
           "z": [
            0,
            0.9998927162105272
           ]
          }
         ],
         "name": "29"
        },
        {
         "data": [
          {
           "line": {
            "width": 5
           },
           "marker": {
            "color": "red",
            "size": 4
           },
           "mode": "lines+markers",
           "name": "Rotating Axis X",
           "type": "scatter3d",
           "x": [
            0,
            0.9995506104143153
           ],
           "y": [
            0,
            0.025865217286966984
           ],
           "z": [
            0,
            -0.015151493492978228
           ]
          },
          {
           "line": {
            "width": 5
           },
           "marker": {
            "color": "green",
            "size": 4
           },
           "mode": "lines+markers",
           "name": "Rotating Axis Y",
           "type": "scatter3d",
           "x": [
            0,
            -0.025865217286966984
           ],
           "y": [
            0,
            0.9996654200889852
           ],
           "z": [
            0,
            0.00019599237417488612
           ]
          },
          {
           "line": {
            "width": 5
           },
           "marker": {
            "color": "blue",
            "size": 4
           },
           "mode": "lines+markers",
           "name": "Rotating Axis Z",
           "type": "scatter3d",
           "x": [
            0,
            0.015151493492978228
           ],
           "y": [
            0,
            0.00019599237417488612
           ],
           "z": [
            0,
            0.9998851903253301
           ]
          }
         ],
         "name": "30"
        }
       ],
       "layout": {
        "height": 800,
        "scene": {
         "aspectmode": "cube",
         "aspectratio": {
          "x": 1,
          "y": 1,
          "z": 1
         },
         "camera": {
          "center": {
           "x": 0,
           "y": 0,
           "z": 0
          },
          "eye": {
           "x": 1.5119344030656254,
           "y": 1.4739842091444593,
           "z": 0.4784609827555152
          },
          "projection": {
           "type": "perspective"
          },
          "up": {
           "x": 0,
           "y": 0,
           "z": 1
          }
         },
         "xaxis": {
          "autorange": false,
          "range": [
           -1,
           1
          ],
          "type": "linear"
         },
         "yaxis": {
          "autorange": false,
          "range": [
           -1,
           1
          ],
          "type": "linear"
         },
         "zaxis": {
          "autorange": false,
          "range": [
           -1,
           1
          ],
          "type": "linear"
         }
        },
        "sliders": [
         {
          "active": 30,
          "currentvalue": {
           "prefix": "Rotation:",
           "visible": true
          },
          "len": 0.9,
          "steps": [
           {
            "args": [
             [
              "0"
             ],
             {
              "frame": {
               "duration": 100,
               "redraw": true
              },
              "mode": "immediate"
             }
            ],
            "label": "0",
            "method": "animate"
           },
           {
            "args": [
             [
              "1"
             ],
             {
              "frame": {
               "duration": 100,
               "redraw": true
              },
              "mode": "immediate"
             }
            ],
            "label": "1",
            "method": "animate"
           },
           {
            "args": [
             [
              "2"
             ],
             {
              "frame": {
               "duration": 100,
               "redraw": true
              },
              "mode": "immediate"
             }
            ],
            "label": "2",
            "method": "animate"
           },
           {
            "args": [
             [
              "3"
             ],
             {
              "frame": {
               "duration": 100,
               "redraw": true
              },
              "mode": "immediate"
             }
            ],
            "label": "3",
            "method": "animate"
           },
           {
            "args": [
             [
              "4"
             ],
             {
              "frame": {
               "duration": 100,
               "redraw": true
              },
              "mode": "immediate"
             }
            ],
            "label": "4",
            "method": "animate"
           },
           {
            "args": [
             [
              "5"
             ],
             {
              "frame": {
               "duration": 100,
               "redraw": true
              },
              "mode": "immediate"
             }
            ],
            "label": "5",
            "method": "animate"
           },
           {
            "args": [
             [
              "6"
             ],
             {
              "frame": {
               "duration": 100,
               "redraw": true
              },
              "mode": "immediate"
             }
            ],
            "label": "6",
            "method": "animate"
           },
           {
            "args": [
             [
              "7"
             ],
             {
              "frame": {
               "duration": 100,
               "redraw": true
              },
              "mode": "immediate"
             }
            ],
            "label": "7",
            "method": "animate"
           },
           {
            "args": [
             [
              "8"
             ],
             {
              "frame": {
               "duration": 100,
               "redraw": true
              },
              "mode": "immediate"
             }
            ],
            "label": "8",
            "method": "animate"
           },
           {
            "args": [
             [
              "9"
             ],
             {
              "frame": {
               "duration": 100,
               "redraw": true
              },
              "mode": "immediate"
             }
            ],
            "label": "9",
            "method": "animate"
           },
           {
            "args": [
             [
              "10"
             ],
             {
              "frame": {
               "duration": 100,
               "redraw": true
              },
              "mode": "immediate"
             }
            ],
            "label": "10",
            "method": "animate"
           },
           {
            "args": [
             [
              "11"
             ],
             {
              "frame": {
               "duration": 100,
               "redraw": true
              },
              "mode": "immediate"
             }
            ],
            "label": "11",
            "method": "animate"
           },
           {
            "args": [
             [
              "12"
             ],
             {
              "frame": {
               "duration": 100,
               "redraw": true
              },
              "mode": "immediate"
             }
            ],
            "label": "12",
            "method": "animate"
           },
           {
            "args": [
             [
              "13"
             ],
             {
              "frame": {
               "duration": 100,
               "redraw": true
              },
              "mode": "immediate"
             }
            ],
            "label": "13",
            "method": "animate"
           },
           {
            "args": [
             [
              "14"
             ],
             {
              "frame": {
               "duration": 100,
               "redraw": true
              },
              "mode": "immediate"
             }
            ],
            "label": "14",
            "method": "animate"
           },
           {
            "args": [
             [
              "15"
             ],
             {
              "frame": {
               "duration": 100,
               "redraw": true
              },
              "mode": "immediate"
             }
            ],
            "label": "15",
            "method": "animate"
           },
           {
            "args": [
             [
              "16"
             ],
             {
              "frame": {
               "duration": 100,
               "redraw": true
              },
              "mode": "immediate"
             }
            ],
            "label": "16",
            "method": "animate"
           },
           {
            "args": [
             [
              "17"
             ],
             {
              "frame": {
               "duration": 100,
               "redraw": true
              },
              "mode": "immediate"
             }
            ],
            "label": "17",
            "method": "animate"
           },
           {
            "args": [
             [
              "18"
             ],
             {
              "frame": {
               "duration": 100,
               "redraw": true
              },
              "mode": "immediate"
             }
            ],
            "label": "18",
            "method": "animate"
           },
           {
            "args": [
             [
              "19"
             ],
             {
              "frame": {
               "duration": 100,
               "redraw": true
              },
              "mode": "immediate"
             }
            ],
            "label": "19",
            "method": "animate"
           },
           {
            "args": [
             [
              "20"
             ],
             {
              "frame": {
               "duration": 100,
               "redraw": true
              },
              "mode": "immediate"
             }
            ],
            "label": "20",
            "method": "animate"
           },
           {
            "args": [
             [
              "21"
             ],
             {
              "frame": {
               "duration": 100,
               "redraw": true
              },
              "mode": "immediate"
             }
            ],
            "label": "21",
            "method": "animate"
           },
           {
            "args": [
             [
              "22"
             ],
             {
              "frame": {
               "duration": 100,
               "redraw": true
              },
              "mode": "immediate"
             }
            ],
            "label": "22",
            "method": "animate"
           },
           {
            "args": [
             [
              "23"
             ],
             {
              "frame": {
               "duration": 100,
               "redraw": true
              },
              "mode": "immediate"
             }
            ],
            "label": "23",
            "method": "animate"
           },
           {
            "args": [
             [
              "24"
             ],
             {
              "frame": {
               "duration": 100,
               "redraw": true
              },
              "mode": "immediate"
             }
            ],
            "label": "24",
            "method": "animate"
           },
           {
            "args": [
             [
              "25"
             ],
             {
              "frame": {
               "duration": 100,
               "redraw": true
              },
              "mode": "immediate"
             }
            ],
            "label": "25",
            "method": "animate"
           },
           {
            "args": [
             [
              "26"
             ],
             {
              "frame": {
               "duration": 100,
               "redraw": true
              },
              "mode": "immediate"
             }
            ],
            "label": "26",
            "method": "animate"
           },
           {
            "args": [
             [
              "27"
             ],
             {
              "frame": {
               "duration": 100,
               "redraw": true
              },
              "mode": "immediate"
             }
            ],
            "label": "27",
            "method": "animate"
           },
           {
            "args": [
             [
              "28"
             ],
             {
              "frame": {
               "duration": 100,
               "redraw": true
              },
              "mode": "immediate"
             }
            ],
            "label": "28",
            "method": "animate"
           },
           {
            "args": [
             [
              "29"
             ],
             {
              "frame": {
               "duration": 100,
               "redraw": true
              },
              "mode": "immediate"
             }
            ],
            "label": "29",
            "method": "animate"
           },
           {
            "args": [
             [
              "30"
             ],
             {
              "frame": {
               "duration": 100,
               "redraw": true
              },
              "mode": "immediate"
             }
            ],
            "label": "30",
            "method": "animate"
           }
          ],
          "x": 0.1,
          "y": 0
         }
        ],
        "template": {
         "data": {
          "pie": [
           {
            "automargin": true,
            "type": "pie"
           }
          ],
          "scatter": [
           {
            "line": {
             "width": 3
            },
            "marker": {
             "size": 9
            },
            "type": "scatter"
           }
          ],
          "scatter3d": [
           {
            "line": {
             "width": 3
            },
            "marker": {
             "size": 9
            },
            "type": "scatter3d"
           }
          ],
          "scattergeo": [
           {
            "line": {
             "width": 3
            },
            "marker": {
             "size": 9
            },
            "type": "scattergeo"
           }
          ],
          "scattergl": [
           {
            "line": {
             "width": 3
            },
            "marker": {
             "size": 9
            },
            "type": "scattergl"
           }
          ],
          "scatterpolar": [
           {
            "line": {
             "width": 3
            },
            "marker": {
             "size": 9
            },
            "type": "scatterpolar"
           }
          ],
          "scatterpolargl": [
           {
            "line": {
             "width": 3
            },
            "marker": {
             "size": 9
            },
            "type": "scatterpolargl"
           }
          ],
          "scatterternary": [
           {
            "line": {
             "width": 3
            },
            "marker": {
             "size": 9
            },
            "type": "scatterternary"
           }
          ],
          "table": [
           {
            "cells": {
             "height": 30
            },
            "header": {
             "height": 36
            },
            "type": "table"
           }
          ]
         },
         "layout": {
          "font": {
           "size": 18
          },
          "xaxis": {
           "title": {
            "standoff": 15
           }
          },
          "yaxis": {
           "title": {
            "standoff": 15
           }
          }
         }
        },
        "title": {
         "text": "PRV Rotation Animation"
        },
        "updatemenus": [
         {
          "active": 0,
          "buttons": [
           {
            "args": [
             null,
             {
              "frame": {
               "duration": 100,
               "redraw": true
              },
              "fromcurrent": true
             }
            ],
            "label": "Play",
            "method": "animate"
           }
          ],
          "direction": "left",
          "pad": {
           "r": 10,
           "t": 87
          },
          "showactive": false,
          "type": "buttons",
          "x": 0.1,
          "xanchor": "right",
          "y": 0,
          "yanchor": "top"
         }
        ],
        "width": 1000
       }
      },
      "text/html": [
       "<div>                            <div id=\"1a6d7505-bdee-45b9-9569-872b9816a510\" class=\"plotly-graph-div\" style=\"height:800px; width:1000px;\"></div>            <script type=\"text/javascript\">                require([\"plotly\"], function(Plotly) {                    window.PLOTLYENV=window.PLOTLYENV || {};                                    if (document.getElementById(\"1a6d7505-bdee-45b9-9569-872b9816a510\")) {                    Plotly.newPlot(                        \"1a6d7505-bdee-45b9-9569-872b9816a510\",                        [{\"line\":{\"color\":\"yellow\",\"width\":6},\"mode\":\"lines\",\"name\":\"Rotation Axis\",\"x\":[-0.0,0.0],\"y\":[1.0108989302488471,-1.0108989302488471],\"z\":[1.7257124189220336,-1.7257124189220336],\"type\":\"scatter3d\"},{\"line\":{\"width\":5},\"marker\":{\"color\":\"red\",\"size\":4},\"mode\":\"lines+markers\",\"name\":\"Rotating Axis X\",\"x\":[0,1.0],\"y\":[0,0.0],\"z\":[0,0.0],\"type\":\"scatter3d\"},{\"line\":{\"width\":5},\"marker\":{\"color\":\"green\",\"size\":4},\"mode\":\"lines+markers\",\"name\":\"Rotating Axis Y\",\"x\":[0,0.0],\"y\":[0,1.0],\"z\":[0,0.0],\"type\":\"scatter3d\"},{\"line\":{\"width\":5},\"marker\":{\"color\":\"blue\",\"size\":4},\"mode\":\"lines+markers\",\"name\":\"Rotating Axis Z\",\"x\":[0,0.0],\"y\":[0,0.0],\"z\":[0,1.0],\"type\":\"scatter3d\"}],                        {\"template\":{\"data\":{\"pie\":[{\"automargin\":true,\"type\":\"pie\"}],\"scatter3d\":[{\"line\":{\"width\":3},\"marker\":{\"size\":9},\"type\":\"scatter3d\"}],\"scattergeo\":[{\"line\":{\"width\":3},\"marker\":{\"size\":9},\"type\":\"scattergeo\"}],\"scattergl\":[{\"line\":{\"width\":3},\"marker\":{\"size\":9},\"type\":\"scattergl\"}],\"scatterpolargl\":[{\"line\":{\"width\":3},\"marker\":{\"size\":9},\"type\":\"scatterpolargl\"}],\"scatterpolar\":[{\"line\":{\"width\":3},\"marker\":{\"size\":9},\"type\":\"scatterpolar\"}],\"scatter\":[{\"line\":{\"width\":3},\"marker\":{\"size\":9},\"type\":\"scatter\"}],\"scatterternary\":[{\"line\":{\"width\":3},\"marker\":{\"size\":9},\"type\":\"scatterternary\"}],\"table\":[{\"cells\":{\"height\":30},\"header\":{\"height\":36},\"type\":\"table\"}]},\"layout\":{\"font\":{\"size\":18},\"xaxis\":{\"title\":{\"standoff\":15}},\"yaxis\":{\"title\":{\"standoff\":15}}}},\"updatemenus\":[{\"buttons\":[{\"args\":[null,{\"frame\":{\"duration\":100,\"redraw\":true},\"fromcurrent\":true}],\"label\":\"Play\",\"method\":\"animate\"}],\"direction\":\"left\",\"pad\":{\"r\":10,\"t\":87},\"showactive\":false,\"type\":\"buttons\",\"x\":0.1,\"xanchor\":\"right\",\"y\":0,\"yanchor\":\"top\"}],\"sliders\":[{\"active\":0,\"currentvalue\":{\"prefix\":\"Rotation:\",\"visible\":true},\"len\":0.9,\"steps\":[{\"args\":[[\"0\"],{\"mode\":\"immediate\",\"frame\":{\"duration\":100,\"redraw\":true}}],\"label\":\"0\",\"method\":\"animate\"},{\"args\":[[\"1\"],{\"mode\":\"immediate\",\"frame\":{\"duration\":100,\"redraw\":true}}],\"label\":\"1\",\"method\":\"animate\"},{\"args\":[[\"2\"],{\"mode\":\"immediate\",\"frame\":{\"duration\":100,\"redraw\":true}}],\"label\":\"2\",\"method\":\"animate\"},{\"args\":[[\"3\"],{\"mode\":\"immediate\",\"frame\":{\"duration\":100,\"redraw\":true}}],\"label\":\"3\",\"method\":\"animate\"},{\"args\":[[\"4\"],{\"mode\":\"immediate\",\"frame\":{\"duration\":100,\"redraw\":true}}],\"label\":\"4\",\"method\":\"animate\"},{\"args\":[[\"5\"],{\"mode\":\"immediate\",\"frame\":{\"duration\":100,\"redraw\":true}}],\"label\":\"5\",\"method\":\"animate\"},{\"args\":[[\"6\"],{\"mode\":\"immediate\",\"frame\":{\"duration\":100,\"redraw\":true}}],\"label\":\"6\",\"method\":\"animate\"},{\"args\":[[\"7\"],{\"mode\":\"immediate\",\"frame\":{\"duration\":100,\"redraw\":true}}],\"label\":\"7\",\"method\":\"animate\"},{\"args\":[[\"8\"],{\"mode\":\"immediate\",\"frame\":{\"duration\":100,\"redraw\":true}}],\"label\":\"8\",\"method\":\"animate\"},{\"args\":[[\"9\"],{\"mode\":\"immediate\",\"frame\":{\"duration\":100,\"redraw\":true}}],\"label\":\"9\",\"method\":\"animate\"},{\"args\":[[\"10\"],{\"mode\":\"immediate\",\"frame\":{\"duration\":100,\"redraw\":true}}],\"label\":\"10\",\"method\":\"animate\"},{\"args\":[[\"11\"],{\"mode\":\"immediate\",\"frame\":{\"duration\":100,\"redraw\":true}}],\"label\":\"11\",\"method\":\"animate\"},{\"args\":[[\"12\"],{\"mode\":\"immediate\",\"frame\":{\"duration\":100,\"redraw\":true}}],\"label\":\"12\",\"method\":\"animate\"},{\"args\":[[\"13\"],{\"mode\":\"immediate\",\"frame\":{\"duration\":100,\"redraw\":true}}],\"label\":\"13\",\"method\":\"animate\"},{\"args\":[[\"14\"],{\"mode\":\"immediate\",\"frame\":{\"duration\":100,\"redraw\":true}}],\"label\":\"14\",\"method\":\"animate\"},{\"args\":[[\"15\"],{\"mode\":\"immediate\",\"frame\":{\"duration\":100,\"redraw\":true}}],\"label\":\"15\",\"method\":\"animate\"},{\"args\":[[\"16\"],{\"mode\":\"immediate\",\"frame\":{\"duration\":100,\"redraw\":true}}],\"label\":\"16\",\"method\":\"animate\"},{\"args\":[[\"17\"],{\"mode\":\"immediate\",\"frame\":{\"duration\":100,\"redraw\":true}}],\"label\":\"17\",\"method\":\"animate\"},{\"args\":[[\"18\"],{\"mode\":\"immediate\",\"frame\":{\"duration\":100,\"redraw\":true}}],\"label\":\"18\",\"method\":\"animate\"},{\"args\":[[\"19\"],{\"mode\":\"immediate\",\"frame\":{\"duration\":100,\"redraw\":true}}],\"label\":\"19\",\"method\":\"animate\"},{\"args\":[[\"20\"],{\"mode\":\"immediate\",\"frame\":{\"duration\":100,\"redraw\":true}}],\"label\":\"20\",\"method\":\"animate\"},{\"args\":[[\"21\"],{\"mode\":\"immediate\",\"frame\":{\"duration\":100,\"redraw\":true}}],\"label\":\"21\",\"method\":\"animate\"},{\"args\":[[\"22\"],{\"mode\":\"immediate\",\"frame\":{\"duration\":100,\"redraw\":true}}],\"label\":\"22\",\"method\":\"animate\"},{\"args\":[[\"23\"],{\"mode\":\"immediate\",\"frame\":{\"duration\":100,\"redraw\":true}}],\"label\":\"23\",\"method\":\"animate\"},{\"args\":[[\"24\"],{\"mode\":\"immediate\",\"frame\":{\"duration\":100,\"redraw\":true}}],\"label\":\"24\",\"method\":\"animate\"},{\"args\":[[\"25\"],{\"mode\":\"immediate\",\"frame\":{\"duration\":100,\"redraw\":true}}],\"label\":\"25\",\"method\":\"animate\"},{\"args\":[[\"26\"],{\"mode\":\"immediate\",\"frame\":{\"duration\":100,\"redraw\":true}}],\"label\":\"26\",\"method\":\"animate\"},{\"args\":[[\"27\"],{\"mode\":\"immediate\",\"frame\":{\"duration\":100,\"redraw\":true}}],\"label\":\"27\",\"method\":\"animate\"},{\"args\":[[\"28\"],{\"mode\":\"immediate\",\"frame\":{\"duration\":100,\"redraw\":true}}],\"label\":\"28\",\"method\":\"animate\"},{\"args\":[[\"29\"],{\"mode\":\"immediate\",\"frame\":{\"duration\":100,\"redraw\":true}}],\"label\":\"29\",\"method\":\"animate\"},{\"args\":[[\"30\"],{\"mode\":\"immediate\",\"frame\":{\"duration\":100,\"redraw\":true}}],\"label\":\"30\",\"method\":\"animate\"}],\"x\":0.1}],\"scene\":{\"xaxis\":{\"range\":[-1,1],\"autorange\":false},\"yaxis\":{\"range\":[-1,1],\"autorange\":false},\"zaxis\":{\"range\":[-1,1],\"autorange\":false},\"aspectmode\":\"cube\"},\"width\":1000,\"height\":800,\"title\":{\"text\":\"PRV Rotation Animation\"}},                        {\"responsive\": true}                    ).then(function(){\n",
       "                            Plotly.addFrames('1a6d7505-bdee-45b9-9569-872b9816a510', [{\"data\":[{\"line\":{\"width\":5},\"marker\":{\"color\":\"red\",\"size\":4},\"mode\":\"lines+markers\",\"name\":\"Rotating Axis X\",\"x\":[0,1.0],\"y\":[0,0.0],\"z\":[0,0.0],\"type\":\"scatter3d\"},{\"line\":{\"width\":5},\"marker\":{\"color\":\"green\",\"size\":4},\"mode\":\"lines+markers\",\"name\":\"Rotating Axis Y\",\"x\":[0,0.0],\"y\":[0,1.0],\"z\":[0,0.0],\"type\":\"scatter3d\"},{\"line\":{\"width\":5},\"marker\":{\"color\":\"blue\",\"size\":4},\"mode\":\"lines+markers\",\"name\":\"Rotating Axis Z\",\"x\":[0,0.0],\"y\":[0,0.0],\"z\":[0,1.0],\"type\":\"scatter3d\"}],\"name\":\"0\"},{\"data\":[{\"line\":{\"width\":5},\"marker\":{\"color\":\"red\",\"size\":4},\"mode\":\"lines+markers\",\"name\":\"Rotating Axis X\",\"x\":[0,0.9999995006408768],\"y\":[0,0.0008623029399113165],\"z\":[0,-0.0005051253673258572],\"type\":\"scatter3d\"},{\"line\":{\"width\":5},\"marker\":{\"color\":\"green\",\"size\":4},\"mode\":\"lines+markers\",\"name\":\"Rotating Axis Y\",\"x\":[0,-0.0008623029399113165],\"y\":[0,0.999999628216727],\"z\":[0,2.177855990263704e-07],\"type\":\"scatter3d\"},{\"line\":{\"width\":5},\"marker\":{\"color\":\"blue\",\"size\":4},\"mode\":\"lines+markers\",\"name\":\"Rotating Axis Z\",\"x\":[0,0.0005051253673258572],\"y\":[0,2.177855990263704e-07],\"z\":[0,0.9999998724241498],\"type\":\"scatter3d\"}],\"name\":\"1\"},{\"data\":[{\"line\":{\"width\":5},\"marker\":{\"color\":\"red\",\"size\":4},\"mode\":\"lines+markers\",\"name\":\"Rotating Axis X\",\"x\":[0,0.9999980025640062],\"y\":[0,0.0017246050186249533],\"z\":[0,-0.0010102502301737935],\"type\":\"scatter3d\"},{\"line\":{\"width\":5},\"marker\":{\"color\":\"green\",\"size\":4},\"mode\":\"lines+markers\",\"name\":\"Rotating Axis Y\",\"x\":[0,-0.0017246050186249533],\"y\":[0,0.9999985128672796],\"z\":[0,8.711421785536127e-07],\"type\":\"scatter3d\"},{\"line\":{\"width\":5},\"marker\":{\"color\":\"blue\",\"size\":4},\"mode\":\"lines+markers\",\"name\":\"Rotating Axis Z\",\"x\":[0,0.0010102502301737935],\"y\":[0,8.711421785536127e-07],\"z\":[0,0.9999994896967266],\"type\":\"scatter3d\"}],\"name\":\"2\"},{\"data\":[{\"line\":{\"width\":5},\"marker\":{\"color\":\"red\",\"size\":4},\"mode\":\"lines+markers\",\"name\":\"Rotating Axis X\",\"x\":[0,0.9999955057708841],\"y\":[0,0.00258690537494409],\"z\":[0,-0.0015153740840663915],\"type\":\"scatter3d\"},{\"line\":{\"width\":5},\"marker\":{\"color\":\"green\",\"size\":4},\"mode\":\"lines+markers\",\"name\":\"Rotating Axis Y\",\"x\":[0,-0.00258690537494409],\"y\":[0,0.9999966539527716],\"z\":[0,1.9600690860713807e-06],\"type\":\"scatter3d\"},{\"line\":{\"width\":5},\"marker\":{\"color\":\"blue\",\"size\":4},\"mode\":\"lines+markers\",\"name\":\"Rotating Axis Z\",\"x\":[0,0.0015153740840663915],\"y\":[0,1.9600690860713807e-06],\"z\":[0,0.9999988518181125],\"type\":\"scatter3d\"}],\"name\":\"3\"},{\"data\":[{\"line\":{\"width\":5},\"marker\":{\"color\":\"red\",\"size\":4},\"mode\":\"lines+markers\",\"name\":\"Rotating Axis X\",\"x\":[0,0.9999920102640043],\"y\":[0,0.0034492031476736277],\"z\":[0,-0.0020204964245272416],\"type\":\"scatter3d\"},{\"line\":{\"width\":5},\"marker\":{\"color\":\"green\",\"size\":4},\"mode\":\"lines+markers\",\"name\":\"Rotating Axis Y\",\"x\":[0,-0.0034492031476736277],\"y\":[0,0.9999940514750595],\"z\":[0,3.484565234062431e-06],\"type\":\"scatter3d\"},{\"line\":{\"width\":5},\"marker\":{\"color\":\"blue\",\"size\":4},\"mode\":\"lines+markers\",\"name\":\"Rotating Axis Z\",\"x\":[0,0.0020204964245272416],\"y\":[0,3.484565234062431e-06],\"z\":[0,0.9999979587889448],\"type\":\"scatter3d\"}],\"name\":\"4\"},{\"data\":[{\"line\":{\"width\":5},\"marker\":{\"color\":\"red\",\"size\":4},\"mode\":\"lines+markers\",\"name\":\"Rotating Axis X\",\"x\":[0,0.9999875160468578],\"y\":[0,0.004311497475621048],\"z\":[0,-0.002525616747081447],\"type\":\"scatter3d\"},{\"line\":{\"width\":5},\"marker\":{\"color\":\"green\",\"size\":4},\"mode\":\"lines+markers\",\"name\":\"Rotating Axis Y\",\"x\":[0,-0.004311497475621048],\"y\":[0,0.9999907054367424],\"z\":[0,5.444629099954201e-06],\"type\":\"scatter3d\"},{\"line\":{\"width\":5},\"marker\":{\"color\":\"blue\",\"size\":4},\"mode\":\"lines+markers\",\"name\":\"Rotating Axis Z\",\"x\":[0,0.002525616747081447],\"y\":[0,5.444629099954201e-06],\"z\":[0,0.9999968106101154],\"type\":\"scatter3d\"}],\"name\":\"5\"},{\"data\":[{\"line\":{\"width\":5},\"marker\":{\"color\":\"red\",\"size\":4},\"mode\":\"lines+markers\",\"name\":\"Rotating Axis X\",\"x\":[0,0.9999820231239328],\"y\":[0,0.005173787497597268],\"z\":[0,-0.0030307345472561226],\"type\":\"scatter3d\"},{\"line\":{\"width\":5},\"marker\":{\"color\":\"green\",\"size\":4},\"mode\":\"lines+markers\",\"name\":\"Rotating Axis Y\",\"x\":[0,-0.005173787497597268],\"y\":[0,0.9999866158411621],\"z\":[0,7.840258726264074e-06],\"type\":\"scatter3d\"},{\"line\":{\"width\":5},\"marker\":{\"color\":\"blue\",\"size\":4},\"mode\":\"lines+markers\",\"name\":\"Rotating Axis Z\",\"x\":[0,0.0030307345472561226],\"y\":[0,7.840258726264074e-06],\"z\":[0,0.9999954072827707],\"type\":\"scatter3d\"}],\"name\":\"6\"},{\"data\":[{\"line\":{\"width\":5},\"marker\":{\"color\":\"red\",\"size\":4},\"mode\":\"lines+markers\",\"name\":\"Rotating Axis X\",\"x\":[0,0.9999755315007155],\"y\":[0,0.0060360723524175135],\"z\":[0,-0.003535849320580907],\"type\":\"scatter3d\"},{\"line\":{\"width\":5},\"marker\":{\"color\":\"green\",\"size\":4},\"mode\":\"lines+markers\",\"name\":\"Rotating Axis Y\",\"x\":[0,-0.0060360723524175135],\"y\":[0,0.9999817826924031],\"z\":[0,1.0671451720357275e-05],\"type\":\"scatter3d\"},{\"line\":{\"width\":5},\"marker\":{\"color\":\"blue\",\"size\":4},\"mode\":\"lines+markers\",\"name\":\"Rotating Axis Z\",\"x\":[0,0.003535849320580907],\"y\":[0,1.0671451720357275e-05],\"z\":[0,0.9999937488083124],\"type\":\"scatter3d\"}],\"name\":\"7\"},{\"data\":[{\"line\":{\"width\":5},\"marker\":{\"color\":\"red\",\"size\":4},\"mode\":\"lines+markers\",\"name\":\"Rotating Axis X\",\"x\":[0,0.9999680411836891],\"y\":[0,0.006898351178902165],\"z\":[0,-0.00404096056258846],\"type\":\"scatter3d\"},{\"line\":{\"width\":5},\"marker\":{\"color\":\"green\",\"size\":4},\"mode\":\"lines+markers\",\"name\":\"Rotating Axis Y\",\"x\":[0,-0.006898351178902165],\"y\":[0,0.9999762059952921],\"z\":[0,1.3938205254688965e-05],\"type\":\"scatter3d\"},{\"line\":{\"width\":5},\"marker\":{\"color\":\"blue\",\"size\":4},\"mode\":\"lines+markers\",\"name\":\"Rotating Axis Z\",\"x\":[0,0.00404096056258846],\"y\":[0,1.3938205254688965e-05],\"z\":[0,0.999991835188397],\"type\":\"scatter3d\"}],\"name\":\"8\"},{\"data\":[{\"line\":{\"width\":5},\"marker\":{\"color\":\"red\",\"size\":4},\"mode\":\"lines+markers\",\"name\":\"Rotating Axis X\",\"x\":[0,0.9999595521803343],\"y\":[0,0.007760623115877626],\"z\":[0,-0.004546067768814966],\"type\":\"scatter3d\"},{\"line\":{\"width\":5},\"marker\":{\"color\":\"green\",\"size\":4},\"mode\":\"lines+markers\",\"name\":\"Rotating Axis Y\",\"x\":[0,-0.007760623115877626],\"y\":[0,0.9999698857553989],\"z\":[0,1.7640516066707418e-05],\"type\":\"scatter3d\"},{\"line\":{\"width\":5},\"marker\":{\"color\":\"blue\",\"size\":4},\"mode\":\"lines+markers\",\"name\":\"Rotating Axis Z\",\"x\":[0,0.004546067768814966],\"y\":[0,1.7640516066707418e-05],\"z\":[0,0.9999896664249354],\"type\":\"scatter3d\"}],\"name\":\"9\"},{\"data\":[{\"line\":{\"width\":5},\"marker\":{\"color\":\"red\",\"size\":4},\"mode\":\"lines+markers\",\"name\":\"Rotating Axis X\",\"x\":[0,0.9999500644991292],\"y\":[0,0.008622887302177177],\"z\":[0,-0.005051170434800642],\"type\":\"scatter3d\"},{\"line\":{\"width\":5},\"marker\":{\"color\":\"green\",\"size\":4},\"mode\":\"lines+markers\",\"name\":\"Rotating Axis Y\",\"x\":[0,-0.008622887302177177],\"y\":[0,0.9999628219790354],\"z\":[0,2.1778380458854004e-05],\"type\":\"scatter3d\"},{\"line\":{\"width\":5},\"marker\":{\"color\":\"blue\",\"size\":4},\"mode\":\"lines+markers\",\"name\":\"Rotating Axis Z\",\"x\":[0,0.005051170434800642],\"y\":[0,2.1778380458854004e-05],\"z\":[0,0.9999872425200937],\"type\":\"scatter3d\"}],\"name\":\"10\"},{\"data\":[{\"line\":{\"width\":5},\"marker\":{\"color\":\"red\",\"size\":4},\"mode\":\"lines+markers\",\"name\":\"Rotating Axis X\",\"x\":[0,0.9999395781495493],\"y\":[0,0.009485142876641844],\"z\":[0,-0.00555626805609024],\"type\":\"scatter3d\"},{\"line\":{\"width\":5},\"marker\":{\"color\":\"green\",\"size\":4},\"mode\":\"lines+markers\",\"name\":\"Rotating Axis Y\",\"x\":[0,-0.009485142876641844],\"y\":[0,0.9999550146732565],\"z\":[0,2.6351794298563197e-05],\"type\":\"scatter3d\"},{\"line\":{\"width\":5},\"marker\":{\"color\":\"blue\",\"size\":4},\"mode\":\"lines+markers\",\"name\":\"Rotating Axis Z\",\"x\":[0,0.00555626805609024],\"y\":[0,2.6351794298563197e-05],\"z\":[0,0.9999845634762927],\"type\":\"scatter3d\"}],\"name\":\"11\"},{\"data\":[{\"line\":{\"width\":5},\"marker\":{\"color\":\"red\",\"size\":4},\"mode\":\"lines+markers\",\"name\":\"Rotating Axis X\",\"x\":[0,0.9999280931420675],\"y\":[0,0.010347388978121253],\"z\":[0,-0.006061360128233549],\"type\":\"scatter3d\"},{\"line\":{\"width\":5},\"marker\":{\"color\":\"green\",\"size\":4},\"mode\":\"lines+markers\",\"name\":\"Rotating Axis Y\",\"x\":[0,-0.010347388978121253],\"y\":[0,0.9999464638458594],\"z\":[0,3.136075301826258e-05],\"type\":\"scatter3d\"},{\"line\":{\"width\":5},\"marker\":{\"color\":\"blue\",\"size\":4},\"mode\":\"lines+markers\",\"name\":\"Rotating Axis Z\",\"x\":[0,0.006061360128233549],\"y\":[0,3.136075301826258e-05],\"z\":[0,0.9999816292962082],\"type\":\"scatter3d\"}],\"name\":\"12\"},{\"data\":[{\"line\":{\"width\":5},\"marker\":{\"color\":\"red\",\"size\":4},\"mode\":\"lines+markers\",\"name\":\"Rotating Axis X\",\"x\":[0,0.9999156094881543],\"y\":[0,0.011209624745474489],\"z\":[0,-0.006566446146785902],\"type\":\"scatter3d\"},{\"line\":{\"width\":5},\"marker\":{\"color\":\"green\",\"size\":4},\"mode\":\"lines+markers\",\"name\":\"Rotating Axis Y\",\"x\":[0,-0.011209624745474489],\"y\":[0,0.999937169505384],\"z\":[0,3.680525161542124e-05],\"type\":\"scatter3d\"},{\"line\":{\"width\":5},\"marker\":{\"color\":\"blue\",\"size\":4},\"mode\":\"lines+markers\",\"name\":\"Rotating Axis Z\",\"x\":[0,0.006566446146785902],\"y\":[0,3.680525161542124e-05],\"z\":[0,0.9999784399827703],\"type\":\"scatter3d\"}],\"name\":\"13\"},{\"data\":[{\"line\":{\"width\":5},\"marker\":{\"color\":\"red\",\"size\":4},\"mode\":\"lines+markers\",\"name\":\"Rotating Axis X\",\"x\":[0,0.999902127200277],\"y\":[0,0.012071849317570955],\"z\":[0,-0.007071525607308673],\"type\":\"scatter3d\"},{\"line\":{\"width\":5},\"marker\":{\"color\":\"green\",\"size\":4},\"mode\":\"lines+markers\",\"name\":\"Rotating Axis Y\",\"x\":[0,-0.012071849317570955],\"y\":[0,0.9999271316611128],\"z\":[0,4.2685284652549804e-05],\"type\":\"scatter3d\"},{\"line\":{\"width\":5},\"marker\":{\"color\":\"blue\",\"size\":4},\"mode\":\"lines+markers\",\"name\":\"Rotating Axis Z\",\"x\":[0,0.007071525607308673],\"y\":[0,4.2685284652549804e-05],\"z\":[0,0.9999749955391642],\"type\":\"scatter3d\"}],\"name\":\"14\"},{\"data\":[{\"line\":{\"width\":5},\"marker\":{\"color\":\"red\",\"size\":4},\"mode\":\"lines+markers\",\"name\":\"Rotating Axis X\",\"x\":[0,0.999887646291901],\"y\":[0,0.012934061833291243],\"z\":[0,-0.0075765980053697935],\"type\":\"scatter3d\"},{\"line\":{\"width\":5},\"marker\":{\"color\":\"green\",\"size\":4},\"mode\":\"lines+markers\",\"name\":\"Rotating Axis Y\",\"x\":[0,-0.012934061833291243],\"y\":[0,0.9999163503230706],\"z\":[0,4.900084625710358e-05],\"type\":\"scatter3d\"},{\"line\":{\"width\":5},\"marker\":{\"color\":\"blue\",\"size\":4},\"mode\":\"lines+markers\",\"name\":\"Rotating Axis Z\",\"x\":[0,0.0075765980053697935],\"y\":[0,4.900084625710358e-05],\"z\":[0,0.9999712959688304],\"type\":\"scatter3d\"}],\"name\":\"15\"},{\"data\":[{\"line\":{\"width\":5},\"marker\":{\"color\":\"red\",\"size\":4},\"mode\":\"lines+markers\",\"name\":\"Rotating Axis X\",\"x\":[0,0.9998721667774882],\"y\":[0,0.01379626143152798],\"z\":[0,-0.00808166283654424],\"type\":\"scatter3d\"},{\"line\":{\"width\":5},\"marker\":{\"color\":\"green\",\"size\":4},\"mode\":\"lines+markers\",\"name\":\"Rotating Axis Y\",\"x\":[0,-0.01379626143152798],\"y\":[0,0.9999048255020251],\"z\":[0,5.5751930121676235e-05],\"type\":\"scatter3d\"},{\"line\":{\"width\":5},\"marker\":{\"color\":\"blue\",\"size\":4},\"mode\":\"lines+markers\",\"name\":\"Rotating Axis Z\",\"x\":[0,0.00808166283654424],\"y\":[0,5.5751930121676235e-05],\"z\":[0,0.9999673412754632],\"type\":\"scatter3d\"}],\"name\":\"16\"},{\"data\":[{\"line\":{\"width\":5},\"marker\":{\"color\":\"red\",\"size\":4},\"mode\":\"lines+markers\",\"name\":\"Rotating Axis X\",\"x\":[0,0.9998556886724987],\"y\":[0,0.014658447251186698],\"z\":[0,-0.008586719596414553],\"type\":\"scatter3d\"},{\"line\":{\"width\":5},\"marker\":{\"color\":\"green\",\"size\":4},\"mode\":\"lines+markers\",\"name\":\"Rotating Axis Y\",\"x\":[0,-0.014658447251186698],\"y\":[0,0.9998925572094862],\"z\":[0,6.29385295037577e-05],\"type\":\"scatter3d\"},{\"line\":{\"width\":5},\"marker\":{\"color\":\"blue\",\"size\":4},\"mode\":\"lines+markers\",\"name\":\"Rotating Axis Z\",\"x\":[0,0.008586719596414553],\"y\":[0,6.29385295037577e-05],\"z\":[0,0.9999631314630125],\"type\":\"scatter3d\"}],\"name\":\"17\"},{\"data\":[{\"line\":{\"width\":5},\"marker\":{\"color\":\"red\",\"size\":4},\"mode\":\"lines+markers\",\"name\":\"Rotating Axis X\",\"x\":[0,0.9998382119933893],\"y\":[0,0.015520618431186685],\"z\":[0,-0.00909176778057133],\"type\":\"scatter3d\"},{\"line\":{\"width\":5},\"marker\":{\"color\":\"green\",\"size\":4},\"mode\":\"lines+markers\",\"name\":\"Rotating Axis Y\",\"x\":[0,-0.015520618431186685],\"y\":[0,0.9998795454577066],\"z\":[0,7.056063722602468e-05],\"type\":\"scatter3d\"},{\"line\":{\"width\":5},\"marker\":{\"color\":\"blue\",\"size\":4},\"mode\":\"lines+markers\",\"name\":\"Rotating Axis Z\",\"x\":[0,0.00909176778057133],\"y\":[0,7.056063722602468e-05],\"z\":[0,0.9999586665356827],\"type\":\"scatter3d\"}],\"name\":\"18\"},{\"data\":[{\"line\":{\"width\":5},\"marker\":{\"color\":\"red\",\"size\":4},\"mode\":\"lines+markers\",\"name\":\"Rotating Axis X\",\"x\":[0,0.9998197367576143],\"y\":[0,0.016382774110461844],\"z\":[0,-0.00959680688461373],\"type\":\"scatter3d\"},{\"line\":{\"width\":5},\"marker\":{\"color\":\"green\",\"size\":4},\"mode\":\"lines+markers\",\"name\":\"Rotating Axis Y\",\"x\":[0,-0.016382774110461844],\"y\":[0,0.9998657902596814],\"z\":[0,7.861824567609858e-05],\"type\":\"scatter3d\"},{\"line\":{\"width\":5},\"marker\":{\"color\":\"blue\",\"size\":4},\"mode\":\"lines+markers\",\"name\":\"Rotating Axis Z\",\"x\":[0,0.00959680688461373],\"y\":[0,7.861824567609858e-05],\"z\":[0,0.9999539464979329],\"type\":\"scatter3d\"}],\"name\":\"19\"},{\"data\":[{\"line\":{\"width\":5},\"marker\":{\"color\":\"red\",\"size\":4},\"mode\":\"lines+markers\",\"name\":\"Rotating Axis X\",\"x\":[0,0.9998002629836251],\"y\":[0,0.01724491342796158],\"z\":[0,-0.010101836404149992],\"type\":\"scatter3d\"},{\"line\":{\"width\":5},\"marker\":{\"color\":\"green\",\"size\":4},\"mode\":\"lines+markers\",\"name\":\"Rotating Axis Y\",\"x\":[0,-0.01724491342796158],\"y\":[0,0.9998512916291479],\"z\":[0,8.711134680673914e-05],\"type\":\"scatter3d\"},{\"line\":{\"width\":5},\"marker\":{\"color\":\"blue\",\"size\":4},\"mode\":\"lines+markers\",\"name\":\"Rotating Axis Z\",\"x\":[0,0.010101836404149992],\"y\":[0,8.711134680673914e-05],\"z\":[0,0.9999489713544772],\"type\":\"scatter3d\"}],\"name\":\"20\"},{\"data\":[{\"line\":{\"width\":5},\"marker\":{\"color\":\"red\",\"size\":4},\"mode\":\"lines+markers\",\"name\":\"Rotating Axis X\",\"x\":[0,0.9997797906908708],\"y\":[0,0.01810703552265162],\"z\":[0,-0.010606855834797915],\"type\":\"scatter3d\"},{\"line\":{\"width\":5},\"marker\":{\"color\":\"green\",\"size\":4},\"mode\":\"lines+markers\",\"name\":\"Rotating Axis Y\",\"x\":[0,-0.01810703552265162],\"y\":[0,0.9998360495805865],\"z\":[0,9.603993213569924e-05],\"type\":\"scatter3d\"},{\"line\":{\"width\":5},\"marker\":{\"color\":\"blue\",\"size\":4},\"mode\":\"lines+markers\",\"name\":\"Rotating Axis Z\",\"x\":[0,0.010606855834797915],\"y\":[0,9.603993213569924e-05],\"z\":[0,0.9999437411102843],\"type\":\"scatter3d\"}],\"name\":\"21\"},{\"data\":[{\"line\":{\"width\":5},\"marker\":{\"color\":\"red\",\"size\":4},\"mode\":\"lines+markers\",\"name\":\"Rotating Axis X\",\"x\":[0,0.9997583198997971],\"y\":[0,0.018969139533514895],\"z\":[0,-0.011111864672185381],\"type\":\"scatter3d\"},{\"line\":{\"width\":5},\"marker\":{\"color\":\"green\",\"size\":4},\"mode\":\"lines+markers\",\"name\":\"Rotating Axis Y\",\"x\":[0,-0.018969139533514895],\"y\":[0,0.9998200641292194],\"z\":[0,0.00010540399274587011],\"type\":\"scatter3d\"},{\"line\":{\"width\":5},\"marker\":{\"color\":\"blue\",\"size\":4},\"mode\":\"lines+markers\",\"name\":\"Rotating Axis Z\",\"x\":[0,0.011111864672185381],\"y\":[0,0.00010540399274587011],\"z\":[0,0.9999382557705777],\"type\":\"scatter3d\"}],\"name\":\"22\"},{\"data\":[{\"line\":{\"width\":5},\"marker\":{\"color\":\"red\",\"size\":4},\"mode\":\"lines+markers\",\"name\":\"Rotating Axis X\",\"x\":[0,0.9997358506318476],\"y\":[0,0.01983122459955241],\"z\":[0,-0.01161686241195085],\"type\":\"scatter3d\"},{\"line\":{\"width\":5},\"marker\":{\"color\":\"green\",\"size\":4},\"mode\":\"lines+markers\",\"name\":\"Rotating Axis Y\",\"x\":[0,-0.01983122459955241],\"y\":[0,0.9998033352910117],\"z\":[0,0.00011520351928518447],\"type\":\"scatter3d\"},{\"line\":{\"width\":5},\"marker\":{\"color\":\"blue\",\"size\":4},\"mode\":\"lines+markers\",\"name\":\"Rotating Axis Z\",\"x\":[0,0.01161686241195085],\"y\":[0,0.00011520351928518447],\"z\":[0,0.9999325153408358],\"type\":\"scatter3d\"}],\"name\":\"23\"},{\"data\":[{\"line\":{\"width\":5},\"marker\":{\"color\":\"red\",\"size\":4},\"mode\":\"lines+markers\",\"name\":\"Rotating Axis X\",\"x\":[0,0.9997123829094626],\"y\":[0,0.02069328985978406],\"z\":[0,-0.01212184854974386],\"type\":\"scatter3d\"},{\"line\":{\"width\":5},\"marker\":{\"color\":\"green\",\"size\":4},\"mode\":\"lines+markers\",\"name\":\"Rotating Axis Y\",\"x\":[0,-0.02069328985978406],\"y\":[0,0.9997858630826709],\"z\":[0,0.00012543850196661662],\"type\":\"scatter3d\"},{\"line\":{\"width\":5},\"marker\":{\"color\":\"blue\",\"size\":4},\"mode\":\"lines+markers\",\"name\":\"Rotating Axis Z\",\"x\":[0,0.01212184854974386],\"y\":[0,0.00012543850196661662],\"z\":[0,0.9999265198267917],\"type\":\"scatter3d\"}],\"name\":\"24\"},{\"data\":[{\"line\":{\"width\":5},\"marker\":{\"color\":\"red\",\"size\":4},\"mode\":\"lines+markers\",\"name\":\"Rotating Axis X\",\"x\":[0,0.9996879167560798],\"y\":[0,0.021555334453249562],\"z\":[0,-0.01262682258122555],\"type\":\"scatter3d\"},{\"line\":{\"width\":5},\"marker\":{\"color\":\"green\",\"size\":4},\"mode\":\"lines+markers\",\"name\":\"Rotating Axis Y\",\"x\":[0,-0.021555334453249562],\"y\":[0,0.9997676475216467],\"z\":[0,0.000136108930568376],\"type\":\"scatter3d\"},{\"line\":{\"width\":5},\"marker\":{\"color\":\"blue\",\"size\":4},\"mode\":\"lines+markers\",\"name\":\"Rotating Axis Z\",\"x\":[0,0.01262682258122555],\"y\":[0,0.000136108930568376],\"z\":[0,0.9999202692344331],\"type\":\"scatter3d\"}],\"name\":\"25\"},{\"data\":[{\"line\":{\"width\":5},\"marker\":{\"color\":\"red\",\"size\":4},\"mode\":\"lines+markers\",\"name\":\"Rotating Axis X\",\"x\":[0,0.999662452196134],\"y\":[0,0.022417357519009237],\"z\":[0,-0.013131784002069134],\"type\":\"scatter3d\"},{\"line\":{\"width\":5},\"marker\":{\"color\":\"green\",\"size\":4},\"mode\":\"lines+markers\",\"name\":\"Rotating Axis Y\",\"x\":[0,-0.022417357519009237],\"y\":[0,0.9997486886261313],\"z\":[0,0.00014721479443366523],\"type\":\"scatter3d\"},{\"line\":{\"width\":5},\"marker\":{\"color\":\"blue\",\"size\":4},\"mode\":\"lines+markers\",\"name\":\"Rotating Axis Z\",\"x\":[0,0.013131784002069134],\"y\":[0,0.00014721479443366523],\"z\":[0,0.9999137635700027],\"type\":\"scatter3d\"}],\"name\":\"26\"},{\"data\":[{\"line\":{\"width\":5},\"marker\":{\"color\":\"red\",\"size\":4},\"mode\":\"lines+markers\",\"name\":\"Rotating Axis X\",\"x\":[0,0.999635989255057],\"y\":[0,0.023279358196144927],\"z\":[0,-0.013636732307960428],\"type\":\"scatter3d\"},{\"line\":{\"width\":5},\"marker\":{\"color\":\"green\",\"size\":4},\"mode\":\"lines+markers\",\"name\":\"Rotating Axis Y\",\"x\":[0,-0.023279358196144927],\"y\":[0,0.9997289864150593],\"z\":[0,0.00015875608247092207],\"type\":\"scatter3d\"},{\"line\":{\"width\":5},\"marker\":{\"color\":\"blue\",\"size\":4},\"mode\":\"lines+markers\",\"name\":\"Rotating Axis Z\",\"x\":[0,0.013636732307960428],\"y\":[0,0.00015875608247092207],\"z\":[0,0.9999070028399978],\"type\":\"scatter3d\"}],\"name\":\"27\"},{\"data\":[{\"line\":{\"width\":5},\"marker\":{\"color\":\"red\",\"size\":4},\"mode\":\"lines+markers\",\"name\":\"Rotating Axis X\",\"x\":[0,0.9996085279592781],\"y\":[0,0.024141335623760824],\"z\":[0,-0.014141666994598347],\"type\":\"scatter3d\"},{\"line\":{\"width\":5},\"marker\":{\"color\":\"green\",\"size\":4},\"mode\":\"lines+markers\",\"name\":\"Rotating Axis Y\",\"x\":[0,-0.024141335623760824],\"y\":[0,0.9997085409081078],\"z\":[0,0.00017073278315352894],\"type\":\"scatter3d\"},{\"line\":{\"width\":5},\"marker\":{\"color\":\"blue\",\"size\":4},\"mode\":\"lines+markers\",\"name\":\"Rotating Axis Z\",\"x\":[0,0.014141666994598347],\"y\":[0,0.00017073278315352894],\"z\":[0,0.9998999870511703],\"type\":\"scatter3d\"}],\"name\":\"28\"},{\"data\":[{\"line\":{\"width\":5},\"marker\":{\"color\":\"red\",\"size\":4},\"mode\":\"lines+markers\",\"name\":\"Rotating Axis X\",\"x\":[0,0.999580068336223],\"y\":[0,0.025003288940984345],\"z\":[0,-0.014646587557695408],\"type\":\"scatter3d\"},{\"line\":{\"width\":5},\"marker\":{\"color\":\"green\",\"size\":4},\"mode\":\"lines+markers\",\"name\":\"Rotating Axis Y\",\"x\":[0,-0.025003288940984345],\"y\":[0,0.9996873521256958],\"z\":[0,0.00018314488452029722],\"type\":\"scatter3d\"},{\"line\":{\"width\":5},\"marker\":{\"color\":\"blue\",\"size\":4},\"mode\":\"lines+markers\",\"name\":\"Rotating Axis Z\",\"x\":[0,0.014646587557695408],\"y\":[0,0.00018314488452029722],\"z\":[0,0.9998927162105272],\"type\":\"scatter3d\"}],\"name\":\"29\"},{\"data\":[{\"line\":{\"width\":5},\"marker\":{\"color\":\"red\",\"size\":4},\"mode\":\"lines+markers\",\"name\":\"Rotating Axis X\",\"x\":[0,0.9995506104143153],\"y\":[0,0.025865217286966984],\"z\":[0,-0.015151493492978228],\"type\":\"scatter3d\"},{\"line\":{\"width\":5},\"marker\":{\"color\":\"green\",\"size\":4},\"mode\":\"lines+markers\",\"name\":\"Rotating Axis Y\",\"x\":[0,-0.025865217286966984],\"y\":[0,0.9996654200889852],\"z\":[0,0.00019599237417488612],\"type\":\"scatter3d\"},{\"line\":{\"width\":5},\"marker\":{\"color\":\"blue\",\"size\":4},\"mode\":\"lines+markers\",\"name\":\"Rotating Axis Z\",\"x\":[0,0.015151493492978228],\"y\":[0,0.00019599237417488612],\"z\":[0,0.9998851903253301],\"type\":\"scatter3d\"}],\"name\":\"30\"}]);\n",
       "                        }).then(function(){\n",
       "                            \n",
       "var gd = document.getElementById('1a6d7505-bdee-45b9-9569-872b9816a510');\n",
       "var x = new MutationObserver(function (mutations, observer) {{\n",
       "        var display = window.getComputedStyle(gd).display;\n",
       "        if (!display || display === 'none') {{\n",
       "            console.log([gd, 'removed!']);\n",
       "            Plotly.purge(gd);\n",
       "            observer.disconnect();\n",
       "        }}\n",
       "}});\n",
       "\n",
       "// Listen for the removal of the full notebook cells\n",
       "var notebookContainer = gd.closest('#notebook-container');\n",
       "if (notebookContainer) {{\n",
       "    x.observe(notebookContainer, {childList: true});\n",
       "}}\n",
       "\n",
       "// Listen for the clearing of the current output cell\n",
       "var outputEl = gd.closest('.output');\n",
       "if (outputEl) {{\n",
       "    x.observe(outputEl, {childList: true});\n",
       "}}\n",
       "\n",
       "                        })                };                });            </script>        </div>"
      ]
     },
     "metadata": {},
     "output_type": "display_data"
    }
   ],
   "source": [
    "# Initial and final orientations\n",
    "R_initial = np.eye(3)\n",
    "R_final = rotation_matrix_z(45) @ rotation_matrix_y(45) @ rotation_matrix_z(45)\n",
    "\n",
    "# Compute PRV from initial to final rotation matrices\n",
    "axis, phi = rotation_matrix_to_prv(R_final @ R_initial.T)\n",
    "\n",
    "# Visualization setup\n",
    "fig = go.Figure()\n",
    "\n",
    "# Add trace for the rotation axis\n",
    "axis_length = 2  # Length to extend the rotation axis for visibility\n",
    "fig.add_trace(go.Scatter3d(\n",
    "    x=[-axis[0]*axis_length, axis[0]*axis_length],\n",
    "    y=[-axis[1]*axis_length, axis[1]*axis_length],\n",
    "    z=[-axis[2]*axis_length, axis[2]*axis_length],\n",
    "    mode='lines',\n",
    "    line=dict(width=6, color='yellow'),\n",
    "    name='Rotation Axis'\n",
    "))\n",
    "\n",
    "frames = []\n",
    "steps = 30\n",
    "for step in range(steps + 1):\n",
    "    interpolated_angle = phi * step / steps\n",
    "    R_step = prv_to_rotation_matrix(axis, interpolated_angle)\n",
    "    vectors = R_step @ R_initial\n",
    "\n",
    "    frame_data = [\n",
    "        go.Scatter3d(x=[0, vec[0]], y=[0, vec[1]], z=[0, vec[2]],\n",
    "                     mode='lines+markers', line=dict(width=5),\n",
    "                     marker=dict(size=4, color=['red', 'green', 'blue'][i]),\n",
    "                     name=f'Rotating Axis {[\"X\", \"Y\", \"Z\"][i]}')\n",
    "        for i, vec in enumerate(vectors.T)\n",
    "    ]\n",
    "    frames.append(go.Frame(data=frame_data, name=str(step)))\n",
    "\n",
    "# Add the first frame's data to initialize the figure\n",
    "fig.add_traces(frames[0].data)\n",
    "\n",
    "# Add controls and display\n",
    "fig.frames = frames\n",
    "\n",
    "fig.update_layout(\n",
    "    updatemenus=[{\n",
    "        \"type\": \"buttons\",\n",
    "        \"buttons\": [{\n",
    "            \"label\": \"Play\",\n",
    "            \"method\": \"animate\",\n",
    "            \"args\": [None, {\"frame\": {\"duration\": 100, \"redraw\": True}, \"fromcurrent\": True}]\n",
    "        }],\n",
    "        \"direction\": \"left\",\n",
    "        \"pad\": {\"r\": 10, \"t\": 87},\n",
    "        \"showactive\": False,\n",
    "        \"x\": 0.1,\n",
    "        \"xanchor\": \"right\",\n",
    "        \"y\": 0,\n",
    "        \"yanchor\": \"top\"\n",
    "    }],\n",
    "    sliders=[{\n",
    "        \"steps\": [{\"method\": \"animate\", \"args\": [[f.name], {\"mode\": \"immediate\", \"frame\": {\"duration\": 100, \"redraw\": True}}], \"label\": str(k)} for k, f in enumerate(frames)],\n",
    "        \"active\": 0,\n",
    "        \"currentvalue\": {\"visible\": True, \"prefix\": \"Rotation:\"},\n",
    "        \"x\": 0.1,\n",
    "        \"len\": 0.9\n",
    "    }]\n",
    ")\n",
    "\n",
    "# Additional layout settings\n",
    "fig.update_layout(width=1000,\n",
    "                  height=800,\n",
    "                  template='presentation',\n",
    "                  scene={\"aspectmode\": 'cube',\n",
    "                         \"xaxis\": {\"range\": [-1, 1], \"autorange\": False},\n",
    "                         \"yaxis\": {\"range\": [-1, 1], \"autorange\": False},\n",
    "                         \"zaxis\": {\"range\": [-1, 1], \"autorange\": False}},\n",
    "                  title='PRV Rotation Animation')\n",
    "\n",
    "# Display the figure\n",
    "fig.show()"
   ]
  },
  {
   "cell_type": "code",
   "execution_count": null,
   "id": "9249c08b-7def-4369-a494-ab18dd4aa25b",
   "metadata": {},
   "outputs": [],
   "source": []
  }
 ],
 "metadata": {
  "kernelspec": {
   "display_name": "Python 3 (ipykernel)",
   "language": "python",
   "name": "python3"
  },
  "language_info": {
   "codemirror_mode": {
    "name": "ipython",
    "version": 3
   },
   "file_extension": ".py",
   "mimetype": "text/x-python",
   "name": "python",
   "nbconvert_exporter": "python",
   "pygments_lexer": "ipython3",
   "version": "3.11.5"
  }
 },
 "nbformat": 4,
 "nbformat_minor": 5
}
