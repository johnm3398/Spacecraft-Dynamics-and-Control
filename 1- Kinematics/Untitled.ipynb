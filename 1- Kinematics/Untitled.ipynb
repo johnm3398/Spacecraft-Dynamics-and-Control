{
 "cells": [
  {
   "cell_type": "code",
   "execution_count": 1,
   "id": "ca84fc35-d5c7-45b5-9638-4f02d8eb5cbe",
   "metadata": {},
   "outputs": [],
   "source": [
    "# Import Relevant Libraries\n",
    "import numpy as np\n",
    "import matplotlib.pyplot as plt\n",
    "\n",
    "from ipywidgets import interact, FloatSlider \n",
    "\n",
    "import plotly.graph_objects as go\n",
    "from plotly.offline import init_notebook_mode, iplot"
   ]
  },
  {
   "cell_type": "code",
   "execution_count": 2,
   "id": "5deb3c20-033b-43cd-9884-b9988561df9d",
   "metadata": {},
   "outputs": [],
   "source": [
    "'''\n",
    "The definitions of Rotation Matrices\n",
    "--------------------------------------------------------------------------------------------------------------------------------------------------------\n",
    "    - The rotation abt the 1st principle axis (x-axis) is defined by the angle 'psi'\n",
    "    - The rotation abt the 2nd principle axis (y-axis) is defined by the angle 'theta'\n",
    "    - The rotation abt the 3rd principle axis (z-axis) is defined by the angle 'phi'\n",
    "'''\n",
    "\n",
    "def rotation_matrix_x(phi):\n",
    "    \"\"\"Generate rotation matrix for a roll (rotation about the x-axis)\"\"\"\n",
    "    phi = (phi / 180) * np.pi\n",
    "    c, s = np.cos(phi), np.sin(phi)\n",
    "    return np.array([[1, 0, 0], \n",
    "                     [0, c, -s], \n",
    "                     [0, s, c]])\n",
    "\n",
    "def rotation_matrix_y(theta):\n",
    "    \"\"\"Generate rotation matrix for a pitch (rotation about the y-axis)\"\"\"\n",
    "    theta = (theta / 180) * np.pi\n",
    "    c, s = np.cos(theta), np.sin(theta)\n",
    "    return np.array([[c, 0, s], \n",
    "                     [0, 1, 0], \n",
    "                     [-s, 0, c]])\n",
    "\n",
    "def rotation_matrix_z(psi):\n",
    "    \"\"\"Generate rotation matrix for a yaw (rotation about the z-axis)\"\"\"\n",
    "    psi = (psi / 180) * np.pi\n",
    "    c, s = np.cos(psi), np.sin(psi)\n",
    "    return np.array([[c, -s, 0], \n",
    "                     [s, c, 0], \n",
    "                     [0, 0, 1]])"
   ]
  },
  {
   "cell_type": "code",
   "execution_count": 6,
   "id": "2ffac224-8736-4636-813f-0014fa18febe",
   "metadata": {},
   "outputs": [
    {
     "data": {
      "application/vnd.plotly.v1+json": {
       "config": {
        "linkText": "Export to plot.ly",
        "plotlyServerURL": "https://plot.ly",
        "showLink": false
       },
       "data": [
        {
         "line": {
          "color": "red",
          "dash": "solid"
         },
         "marker": {
          "color": "red"
         },
         "mode": "lines+markers",
         "name": "E_i",
         "type": "scatter3d",
         "x": [
          0,
          0.5000000000000001
         ],
         "y": [
          0,
          0.5000000000000001
         ],
         "z": [
          0,
          -0.7071067811865476
         ]
        },
        {
         "line": {
          "color": "green",
          "dash": "solid"
         },
         "marker": {
          "color": "green"
         },
         "mode": "lines+markers",
         "name": "E_j",
         "type": "scatter3d",
         "x": [
          0,
          -0.14644660940672624
         ],
         "y": [
          0,
          0.853553390593274
         ],
         "z": [
          0,
          0.5000000000000001
         ]
        },
        {
         "line": {
          "color": "blue",
          "dash": "solid"
         },
         "marker": {
          "color": "blue"
         },
         "mode": "lines+markers",
         "name": "E_k",
         "type": "scatter3d",
         "x": [
          0,
          0.853553390593274
         ],
         "y": [
          0,
          -0.14644660940672624
         ],
         "z": [
          0,
          0.5000000000000001
         ]
        },
        {
         "line": {
          "color": "red",
          "dash": "solid"
         },
         "marker": {
          "color": "red"
         },
         "mode": "lines+markers",
         "name": "E_i",
         "type": "scatter3d",
         "x": [
          0,
          1
         ],
         "y": [
          0,
          0
         ],
         "z": [
          0,
          0
         ]
        },
        {
         "line": {
          "color": "green",
          "dash": "solid"
         },
         "marker": {
          "color": "green"
         },
         "mode": "lines+markers",
         "name": "E_j",
         "type": "scatter3d",
         "x": [
          0,
          0
         ],
         "y": [
          0,
          1
         ],
         "z": [
          0,
          0
         ]
        },
        {
         "line": {
          "color": "blue",
          "dash": "solid"
         },
         "marker": {
          "color": "blue"
         },
         "mode": "lines+markers",
         "name": "E_k",
         "type": "scatter3d",
         "x": [
          0,
          0
         ],
         "y": [
          0,
          0
         ],
         "z": [
          0,
          1
         ]
        }
       ],
       "frames": [
        {
         "data": [
          {
           "line": {
            "color": "red",
            "dash": "solid"
           },
           "marker": {
            "color": "red"
           },
           "mode": "lines+markers",
           "name": "E_i",
           "type": "scatter3d",
           "x": [
            0,
            0.5000000000000001
           ],
           "y": [
            0,
            0.5000000000000001
           ],
           "z": [
            0,
            -0.7071067811865476
           ]
          },
          {
           "line": {
            "color": "green",
            "dash": "solid"
           },
           "marker": {
            "color": "green"
           },
           "mode": "lines+markers",
           "name": "E_j",
           "type": "scatter3d",
           "x": [
            0,
            -0.14644660940672624
           ],
           "y": [
            0,
            0.853553390593274
           ],
           "z": [
            0,
            0.5000000000000001
           ]
          },
          {
           "line": {
            "color": "blue",
            "dash": "solid"
           },
           "marker": {
            "color": "blue"
           },
           "mode": "lines+markers",
           "name": "E_k",
           "type": "scatter3d",
           "x": [
            0,
            0.853553390593274
           ],
           "y": [
            0,
            -0.14644660940672624
           ],
           "z": [
            0,
            0.5000000000000001
           ]
          }
         ],
         "name": "0"
        },
        {
         "data": [
          {
           "line": {
            "color": "red",
            "dash": "solid"
           },
           "marker": {
            "color": "red"
           },
           "mode": "lines+markers",
           "name": "E_i",
           "type": "scatter3d",
           "x": [
            0,
            0.5000000000000001
           ],
           "y": [
            0,
            0.5000000000000001
           ],
           "z": [
            0,
            -0.7071067811865476
           ]
          },
          {
           "line": {
            "color": "green",
            "dash": "solid"
           },
           "marker": {
            "color": "green"
           },
           "mode": "lines+markers",
           "name": "E_j",
           "type": "scatter3d",
           "x": [
            0,
            -0.14644660940672624
           ],
           "y": [
            0,
            0.853553390593274
           ],
           "z": [
            0,
            0.5000000000000001
           ]
          },
          {
           "line": {
            "color": "blue",
            "dash": "solid"
           },
           "marker": {
            "color": "blue"
           },
           "mode": "lines+markers",
           "name": "E_k",
           "type": "scatter3d",
           "x": [
            0,
            0.853553390593274
           ],
           "y": [
            0,
            -0.14644660940672624
           ],
           "z": [
            0,
            0.5000000000000001
           ]
          }
         ],
         "name": "1"
        },
        {
         "data": [
          {
           "line": {
            "color": "red",
            "dash": "solid"
           },
           "marker": {
            "color": "red"
           },
           "mode": "lines+markers",
           "name": "E_i",
           "type": "scatter3d",
           "x": [
            0,
            0.5000000000000001
           ],
           "y": [
            0,
            0.5000000000000001
           ],
           "z": [
            0,
            -0.7071067811865476
           ]
          },
          {
           "line": {
            "color": "green",
            "dash": "solid"
           },
           "marker": {
            "color": "green"
           },
           "mode": "lines+markers",
           "name": "E_j",
           "type": "scatter3d",
           "x": [
            0,
            -0.14644660940672624
           ],
           "y": [
            0,
            0.853553390593274
           ],
           "z": [
            0,
            0.5000000000000001
           ]
          },
          {
           "line": {
            "color": "blue",
            "dash": "solid"
           },
           "marker": {
            "color": "blue"
           },
           "mode": "lines+markers",
           "name": "E_k",
           "type": "scatter3d",
           "x": [
            0,
            0.853553390593274
           ],
           "y": [
            0,
            -0.14644660940672624
           ],
           "z": [
            0,
            0.5000000000000001
           ]
          }
         ],
         "name": "2"
        },
        {
         "data": [
          {
           "line": {
            "color": "red",
            "dash": "solid"
           },
           "marker": {
            "color": "red"
           },
           "mode": "lines+markers",
           "name": "E_i",
           "type": "scatter3d",
           "x": [
            0,
            0.5000000000000001
           ],
           "y": [
            0,
            0.5000000000000001
           ],
           "z": [
            0,
            -0.7071067811865476
           ]
          },
          {
           "line": {
            "color": "green",
            "dash": "solid"
           },
           "marker": {
            "color": "green"
           },
           "mode": "lines+markers",
           "name": "E_j",
           "type": "scatter3d",
           "x": [
            0,
            -0.14644660940672624
           ],
           "y": [
            0,
            0.853553390593274
           ],
           "z": [
            0,
            0.5000000000000001
           ]
          },
          {
           "line": {
            "color": "blue",
            "dash": "solid"
           },
           "marker": {
            "color": "blue"
           },
           "mode": "lines+markers",
           "name": "E_k",
           "type": "scatter3d",
           "x": [
            0,
            0.853553390593274
           ],
           "y": [
            0,
            -0.14644660940672624
           ],
           "z": [
            0,
            0.5000000000000001
           ]
          }
         ],
         "name": "3"
        },
        {
         "data": [
          {
           "line": {
            "color": "red",
            "dash": "solid"
           },
           "marker": {
            "color": "red"
           },
           "mode": "lines+markers",
           "name": "E_i",
           "type": "scatter3d",
           "x": [
            0,
            0.5000000000000001
           ],
           "y": [
            0,
            0.5000000000000001
           ],
           "z": [
            0,
            -0.7071067811865476
           ]
          },
          {
           "line": {
            "color": "green",
            "dash": "solid"
           },
           "marker": {
            "color": "green"
           },
           "mode": "lines+markers",
           "name": "E_j",
           "type": "scatter3d",
           "x": [
            0,
            -0.14644660940672624
           ],
           "y": [
            0,
            0.853553390593274
           ],
           "z": [
            0,
            0.5000000000000001
           ]
          },
          {
           "line": {
            "color": "blue",
            "dash": "solid"
           },
           "marker": {
            "color": "blue"
           },
           "mode": "lines+markers",
           "name": "E_k",
           "type": "scatter3d",
           "x": [
            0,
            0.853553390593274
           ],
           "y": [
            0,
            -0.14644660940672624
           ],
           "z": [
            0,
            0.5000000000000001
           ]
          }
         ],
         "name": "4"
        },
        {
         "data": [
          {
           "line": {
            "color": "red",
            "dash": "solid"
           },
           "marker": {
            "color": "red"
           },
           "mode": "lines+markers",
           "name": "E_i",
           "type": "scatter3d",
           "x": [
            0,
            0.5000000000000001
           ],
           "y": [
            0,
            0.5000000000000001
           ],
           "z": [
            0,
            -0.7071067811865476
           ]
          },
          {
           "line": {
            "color": "green",
            "dash": "solid"
           },
           "marker": {
            "color": "green"
           },
           "mode": "lines+markers",
           "name": "E_j",
           "type": "scatter3d",
           "x": [
            0,
            -0.14644660940672624
           ],
           "y": [
            0,
            0.853553390593274
           ],
           "z": [
            0,
            0.5000000000000001
           ]
          },
          {
           "line": {
            "color": "blue",
            "dash": "solid"
           },
           "marker": {
            "color": "blue"
           },
           "mode": "lines+markers",
           "name": "E_k",
           "type": "scatter3d",
           "x": [
            0,
            0.853553390593274
           ],
           "y": [
            0,
            -0.14644660940672624
           ],
           "z": [
            0,
            0.5000000000000001
           ]
          }
         ],
         "name": "5"
        },
        {
         "data": [
          {
           "line": {
            "color": "red",
            "dash": "solid"
           },
           "marker": {
            "color": "red"
           },
           "mode": "lines+markers",
           "name": "E_i",
           "type": "scatter3d",
           "x": [
            0,
            0.5000000000000001
           ],
           "y": [
            0,
            0.5000000000000001
           ],
           "z": [
            0,
            -0.7071067811865476
           ]
          },
          {
           "line": {
            "color": "green",
            "dash": "solid"
           },
           "marker": {
            "color": "green"
           },
           "mode": "lines+markers",
           "name": "E_j",
           "type": "scatter3d",
           "x": [
            0,
            -0.14644660940672624
           ],
           "y": [
            0,
            0.853553390593274
           ],
           "z": [
            0,
            0.5000000000000001
           ]
          },
          {
           "line": {
            "color": "blue",
            "dash": "solid"
           },
           "marker": {
            "color": "blue"
           },
           "mode": "lines+markers",
           "name": "E_k",
           "type": "scatter3d",
           "x": [
            0,
            0.853553390593274
           ],
           "y": [
            0,
            -0.14644660940672624
           ],
           "z": [
            0,
            0.5000000000000001
           ]
          }
         ],
         "name": "6"
        },
        {
         "data": [
          {
           "line": {
            "color": "red",
            "dash": "solid"
           },
           "marker": {
            "color": "red"
           },
           "mode": "lines+markers",
           "name": "E_i",
           "type": "scatter3d",
           "x": [
            0,
            0.5000000000000001
           ],
           "y": [
            0,
            0.5000000000000001
           ],
           "z": [
            0,
            -0.7071067811865476
           ]
          },
          {
           "line": {
            "color": "green",
            "dash": "solid"
           },
           "marker": {
            "color": "green"
           },
           "mode": "lines+markers",
           "name": "E_j",
           "type": "scatter3d",
           "x": [
            0,
            -0.14644660940672624
           ],
           "y": [
            0,
            0.853553390593274
           ],
           "z": [
            0,
            0.5000000000000001
           ]
          },
          {
           "line": {
            "color": "blue",
            "dash": "solid"
           },
           "marker": {
            "color": "blue"
           },
           "mode": "lines+markers",
           "name": "E_k",
           "type": "scatter3d",
           "x": [
            0,
            0.853553390593274
           ],
           "y": [
            0,
            -0.14644660940672624
           ],
           "z": [
            0,
            0.5000000000000001
           ]
          }
         ],
         "name": "7"
        },
        {
         "data": [
          {
           "line": {
            "color": "red",
            "dash": "solid"
           },
           "marker": {
            "color": "red"
           },
           "mode": "lines+markers",
           "name": "E_i",
           "type": "scatter3d",
           "x": [
            0,
            0.5000000000000001
           ],
           "y": [
            0,
            0.5000000000000001
           ],
           "z": [
            0,
            -0.7071067811865476
           ]
          },
          {
           "line": {
            "color": "green",
            "dash": "solid"
           },
           "marker": {
            "color": "green"
           },
           "mode": "lines+markers",
           "name": "E_j",
           "type": "scatter3d",
           "x": [
            0,
            -0.14644660940672624
           ],
           "y": [
            0,
            0.853553390593274
           ],
           "z": [
            0,
            0.5000000000000001
           ]
          },
          {
           "line": {
            "color": "blue",
            "dash": "solid"
           },
           "marker": {
            "color": "blue"
           },
           "mode": "lines+markers",
           "name": "E_k",
           "type": "scatter3d",
           "x": [
            0,
            0.853553390593274
           ],
           "y": [
            0,
            -0.14644660940672624
           ],
           "z": [
            0,
            0.5000000000000001
           ]
          }
         ],
         "name": "8"
        },
        {
         "data": [
          {
           "line": {
            "color": "red",
            "dash": "solid"
           },
           "marker": {
            "color": "red"
           },
           "mode": "lines+markers",
           "name": "E_i",
           "type": "scatter3d",
           "x": [
            0,
            0.5000000000000001
           ],
           "y": [
            0,
            0.5000000000000001
           ],
           "z": [
            0,
            -0.7071067811865476
           ]
          },
          {
           "line": {
            "color": "green",
            "dash": "solid"
           },
           "marker": {
            "color": "green"
           },
           "mode": "lines+markers",
           "name": "E_j",
           "type": "scatter3d",
           "x": [
            0,
            -0.14644660940672624
           ],
           "y": [
            0,
            0.853553390593274
           ],
           "z": [
            0,
            0.5000000000000001
           ]
          },
          {
           "line": {
            "color": "blue",
            "dash": "solid"
           },
           "marker": {
            "color": "blue"
           },
           "mode": "lines+markers",
           "name": "E_k",
           "type": "scatter3d",
           "x": [
            0,
            0.853553390593274
           ],
           "y": [
            0,
            -0.14644660940672624
           ],
           "z": [
            0,
            0.5000000000000001
           ]
          }
         ],
         "name": "9"
        },
        {
         "data": [
          {
           "line": {
            "color": "red",
            "dash": "solid"
           },
           "marker": {
            "color": "red"
           },
           "mode": "lines+markers",
           "name": "E_i",
           "type": "scatter3d",
           "x": [
            0,
            0.5000000000000001
           ],
           "y": [
            0,
            0.5000000000000001
           ],
           "z": [
            0,
            -0.7071067811865476
           ]
          },
          {
           "line": {
            "color": "green",
            "dash": "solid"
           },
           "marker": {
            "color": "green"
           },
           "mode": "lines+markers",
           "name": "E_j",
           "type": "scatter3d",
           "x": [
            0,
            -0.14644660940672624
           ],
           "y": [
            0,
            0.853553390593274
           ],
           "z": [
            0,
            0.5000000000000001
           ]
          },
          {
           "line": {
            "color": "blue",
            "dash": "solid"
           },
           "marker": {
            "color": "blue"
           },
           "mode": "lines+markers",
           "name": "E_k",
           "type": "scatter3d",
           "x": [
            0,
            0.853553390593274
           ],
           "y": [
            0,
            -0.14644660940672624
           ],
           "z": [
            0,
            0.5000000000000001
           ]
          }
         ],
         "name": "10"
        },
        {
         "data": [
          {
           "line": {
            "color": "red",
            "dash": "solid"
           },
           "marker": {
            "color": "red"
           },
           "mode": "lines+markers",
           "name": "E_i",
           "type": "scatter3d",
           "x": [
            0,
            0.5000000000000001
           ],
           "y": [
            0,
            0.5000000000000001
           ],
           "z": [
            0,
            -0.7071067811865476
           ]
          },
          {
           "line": {
            "color": "green",
            "dash": "solid"
           },
           "marker": {
            "color": "green"
           },
           "mode": "lines+markers",
           "name": "E_j",
           "type": "scatter3d",
           "x": [
            0,
            -0.14644660940672624
           ],
           "y": [
            0,
            0.853553390593274
           ],
           "z": [
            0,
            0.5000000000000001
           ]
          },
          {
           "line": {
            "color": "blue",
            "dash": "solid"
           },
           "marker": {
            "color": "blue"
           },
           "mode": "lines+markers",
           "name": "E_k",
           "type": "scatter3d",
           "x": [
            0,
            0.853553390593274
           ],
           "y": [
            0,
            -0.14644660940672624
           ],
           "z": [
            0,
            0.5000000000000001
           ]
          }
         ],
         "name": "11"
        },
        {
         "data": [
          {
           "line": {
            "color": "red",
            "dash": "solid"
           },
           "marker": {
            "color": "red"
           },
           "mode": "lines+markers",
           "name": "E_i",
           "type": "scatter3d",
           "x": [
            0,
            0.5000000000000001
           ],
           "y": [
            0,
            0.5000000000000001
           ],
           "z": [
            0,
            -0.7071067811865476
           ]
          },
          {
           "line": {
            "color": "green",
            "dash": "solid"
           },
           "marker": {
            "color": "green"
           },
           "mode": "lines+markers",
           "name": "E_j",
           "type": "scatter3d",
           "x": [
            0,
            -0.14644660940672624
           ],
           "y": [
            0,
            0.853553390593274
           ],
           "z": [
            0,
            0.5000000000000001
           ]
          },
          {
           "line": {
            "color": "blue",
            "dash": "solid"
           },
           "marker": {
            "color": "blue"
           },
           "mode": "lines+markers",
           "name": "E_k",
           "type": "scatter3d",
           "x": [
            0,
            0.853553390593274
           ],
           "y": [
            0,
            -0.14644660940672624
           ],
           "z": [
            0,
            0.5000000000000001
           ]
          }
         ],
         "name": "12"
        },
        {
         "data": [
          {
           "line": {
            "color": "red",
            "dash": "solid"
           },
           "marker": {
            "color": "red"
           },
           "mode": "lines+markers",
           "name": "E_i",
           "type": "scatter3d",
           "x": [
            0,
            0.5000000000000001
           ],
           "y": [
            0,
            0.5000000000000001
           ],
           "z": [
            0,
            -0.7071067811865476
           ]
          },
          {
           "line": {
            "color": "green",
            "dash": "solid"
           },
           "marker": {
            "color": "green"
           },
           "mode": "lines+markers",
           "name": "E_j",
           "type": "scatter3d",
           "x": [
            0,
            -0.14644660940672624
           ],
           "y": [
            0,
            0.853553390593274
           ],
           "z": [
            0,
            0.5000000000000001
           ]
          },
          {
           "line": {
            "color": "blue",
            "dash": "solid"
           },
           "marker": {
            "color": "blue"
           },
           "mode": "lines+markers",
           "name": "E_k",
           "type": "scatter3d",
           "x": [
            0,
            0.853553390593274
           ],
           "y": [
            0,
            -0.14644660940672624
           ],
           "z": [
            0,
            0.5000000000000001
           ]
          }
         ],
         "name": "13"
        },
        {
         "data": [
          {
           "line": {
            "color": "red",
            "dash": "solid"
           },
           "marker": {
            "color": "red"
           },
           "mode": "lines+markers",
           "name": "E_i",
           "type": "scatter3d",
           "x": [
            0,
            0.5000000000000001
           ],
           "y": [
            0,
            0.5000000000000001
           ],
           "z": [
            0,
            -0.7071067811865476
           ]
          },
          {
           "line": {
            "color": "green",
            "dash": "solid"
           },
           "marker": {
            "color": "green"
           },
           "mode": "lines+markers",
           "name": "E_j",
           "type": "scatter3d",
           "x": [
            0,
            -0.14644660940672624
           ],
           "y": [
            0,
            0.853553390593274
           ],
           "z": [
            0,
            0.5000000000000001
           ]
          },
          {
           "line": {
            "color": "blue",
            "dash": "solid"
           },
           "marker": {
            "color": "blue"
           },
           "mode": "lines+markers",
           "name": "E_k",
           "type": "scatter3d",
           "x": [
            0,
            0.853553390593274
           ],
           "y": [
            0,
            -0.14644660940672624
           ],
           "z": [
            0,
            0.5000000000000001
           ]
          }
         ],
         "name": "14"
        },
        {
         "data": [
          {
           "line": {
            "color": "red",
            "dash": "solid"
           },
           "marker": {
            "color": "red"
           },
           "mode": "lines+markers",
           "name": "E_i",
           "type": "scatter3d",
           "x": [
            0,
            0.5000000000000001
           ],
           "y": [
            0,
            0.5000000000000001
           ],
           "z": [
            0,
            -0.7071067811865476
           ]
          },
          {
           "line": {
            "color": "green",
            "dash": "solid"
           },
           "marker": {
            "color": "green"
           },
           "mode": "lines+markers",
           "name": "E_j",
           "type": "scatter3d",
           "x": [
            0,
            -0.14644660940672624
           ],
           "y": [
            0,
            0.853553390593274
           ],
           "z": [
            0,
            0.5000000000000001
           ]
          },
          {
           "line": {
            "color": "blue",
            "dash": "solid"
           },
           "marker": {
            "color": "blue"
           },
           "mode": "lines+markers",
           "name": "E_k",
           "type": "scatter3d",
           "x": [
            0,
            0.853553390593274
           ],
           "y": [
            0,
            -0.14644660940672624
           ],
           "z": [
            0,
            0.5000000000000001
           ]
          }
         ],
         "name": "15"
        },
        {
         "data": [
          {
           "line": {
            "color": "red",
            "dash": "solid"
           },
           "marker": {
            "color": "red"
           },
           "mode": "lines+markers",
           "name": "E_i",
           "type": "scatter3d",
           "x": [
            0,
            0.5000000000000001
           ],
           "y": [
            0,
            0.5000000000000001
           ],
           "z": [
            0,
            -0.7071067811865476
           ]
          },
          {
           "line": {
            "color": "green",
            "dash": "solid"
           },
           "marker": {
            "color": "green"
           },
           "mode": "lines+markers",
           "name": "E_j",
           "type": "scatter3d",
           "x": [
            0,
            -0.14644660940672624
           ],
           "y": [
            0,
            0.853553390593274
           ],
           "z": [
            0,
            0.5000000000000001
           ]
          },
          {
           "line": {
            "color": "blue",
            "dash": "solid"
           },
           "marker": {
            "color": "blue"
           },
           "mode": "lines+markers",
           "name": "E_k",
           "type": "scatter3d",
           "x": [
            0,
            0.853553390593274
           ],
           "y": [
            0,
            -0.14644660940672624
           ],
           "z": [
            0,
            0.5000000000000001
           ]
          }
         ],
         "name": "16"
        },
        {
         "data": [
          {
           "line": {
            "color": "red",
            "dash": "solid"
           },
           "marker": {
            "color": "red"
           },
           "mode": "lines+markers",
           "name": "E_i",
           "type": "scatter3d",
           "x": [
            0,
            0.5000000000000001
           ],
           "y": [
            0,
            0.5000000000000001
           ],
           "z": [
            0,
            -0.7071067811865476
           ]
          },
          {
           "line": {
            "color": "green",
            "dash": "solid"
           },
           "marker": {
            "color": "green"
           },
           "mode": "lines+markers",
           "name": "E_j",
           "type": "scatter3d",
           "x": [
            0,
            -0.14644660940672624
           ],
           "y": [
            0,
            0.853553390593274
           ],
           "z": [
            0,
            0.5000000000000001
           ]
          },
          {
           "line": {
            "color": "blue",
            "dash": "solid"
           },
           "marker": {
            "color": "blue"
           },
           "mode": "lines+markers",
           "name": "E_k",
           "type": "scatter3d",
           "x": [
            0,
            0.853553390593274
           ],
           "y": [
            0,
            -0.14644660940672624
           ],
           "z": [
            0,
            0.5000000000000001
           ]
          }
         ],
         "name": "17"
        },
        {
         "data": [
          {
           "line": {
            "color": "red",
            "dash": "solid"
           },
           "marker": {
            "color": "red"
           },
           "mode": "lines+markers",
           "name": "E_i",
           "type": "scatter3d",
           "x": [
            0,
            0.5000000000000001
           ],
           "y": [
            0,
            0.5000000000000001
           ],
           "z": [
            0,
            -0.7071067811865476
           ]
          },
          {
           "line": {
            "color": "green",
            "dash": "solid"
           },
           "marker": {
            "color": "green"
           },
           "mode": "lines+markers",
           "name": "E_j",
           "type": "scatter3d",
           "x": [
            0,
            -0.14644660940672624
           ],
           "y": [
            0,
            0.853553390593274
           ],
           "z": [
            0,
            0.5000000000000001
           ]
          },
          {
           "line": {
            "color": "blue",
            "dash": "solid"
           },
           "marker": {
            "color": "blue"
           },
           "mode": "lines+markers",
           "name": "E_k",
           "type": "scatter3d",
           "x": [
            0,
            0.853553390593274
           ],
           "y": [
            0,
            -0.14644660940672624
           ],
           "z": [
            0,
            0.5000000000000001
           ]
          }
         ],
         "name": "18"
        },
        {
         "data": [
          {
           "line": {
            "color": "red",
            "dash": "solid"
           },
           "marker": {
            "color": "red"
           },
           "mode": "lines+markers",
           "name": "E_i",
           "type": "scatter3d",
           "x": [
            0,
            0.5000000000000001
           ],
           "y": [
            0,
            0.5000000000000001
           ],
           "z": [
            0,
            -0.7071067811865476
           ]
          },
          {
           "line": {
            "color": "green",
            "dash": "solid"
           },
           "marker": {
            "color": "green"
           },
           "mode": "lines+markers",
           "name": "E_j",
           "type": "scatter3d",
           "x": [
            0,
            -0.14644660940672624
           ],
           "y": [
            0,
            0.853553390593274
           ],
           "z": [
            0,
            0.5000000000000001
           ]
          },
          {
           "line": {
            "color": "blue",
            "dash": "solid"
           },
           "marker": {
            "color": "blue"
           },
           "mode": "lines+markers",
           "name": "E_k",
           "type": "scatter3d",
           "x": [
            0,
            0.853553390593274
           ],
           "y": [
            0,
            -0.14644660940672624
           ],
           "z": [
            0,
            0.5000000000000001
           ]
          }
         ],
         "name": "19"
        },
        {
         "data": [
          {
           "line": {
            "color": "red",
            "dash": "solid"
           },
           "marker": {
            "color": "red"
           },
           "mode": "lines+markers",
           "name": "E_i",
           "type": "scatter3d",
           "x": [
            0,
            0.5000000000000001
           ],
           "y": [
            0,
            0.5000000000000001
           ],
           "z": [
            0,
            -0.7071067811865476
           ]
          },
          {
           "line": {
            "color": "green",
            "dash": "solid"
           },
           "marker": {
            "color": "green"
           },
           "mode": "lines+markers",
           "name": "E_j",
           "type": "scatter3d",
           "x": [
            0,
            -0.14644660940672624
           ],
           "y": [
            0,
            0.853553390593274
           ],
           "z": [
            0,
            0.5000000000000001
           ]
          },
          {
           "line": {
            "color": "blue",
            "dash": "solid"
           },
           "marker": {
            "color": "blue"
           },
           "mode": "lines+markers",
           "name": "E_k",
           "type": "scatter3d",
           "x": [
            0,
            0.853553390593274
           ],
           "y": [
            0,
            -0.14644660940672624
           ],
           "z": [
            0,
            0.5000000000000001
           ]
          }
         ],
         "name": "20"
        },
        {
         "data": [
          {
           "line": {
            "color": "red",
            "dash": "solid"
           },
           "marker": {
            "color": "red"
           },
           "mode": "lines+markers",
           "name": "E_i",
           "type": "scatter3d",
           "x": [
            0,
            0.5000000000000001
           ],
           "y": [
            0,
            0.5000000000000001
           ],
           "z": [
            0,
            -0.7071067811865476
           ]
          },
          {
           "line": {
            "color": "green",
            "dash": "solid"
           },
           "marker": {
            "color": "green"
           },
           "mode": "lines+markers",
           "name": "E_j",
           "type": "scatter3d",
           "x": [
            0,
            -0.14644660940672624
           ],
           "y": [
            0,
            0.853553390593274
           ],
           "z": [
            0,
            0.5000000000000001
           ]
          },
          {
           "line": {
            "color": "blue",
            "dash": "solid"
           },
           "marker": {
            "color": "blue"
           },
           "mode": "lines+markers",
           "name": "E_k",
           "type": "scatter3d",
           "x": [
            0,
            0.853553390593274
           ],
           "y": [
            0,
            -0.14644660940672624
           ],
           "z": [
            0,
            0.5000000000000001
           ]
          }
         ],
         "name": "21"
        },
        {
         "data": [
          {
           "line": {
            "color": "red",
            "dash": "solid"
           },
           "marker": {
            "color": "red"
           },
           "mode": "lines+markers",
           "name": "E_i",
           "type": "scatter3d",
           "x": [
            0,
            0.5000000000000001
           ],
           "y": [
            0,
            0.5000000000000001
           ],
           "z": [
            0,
            -0.7071067811865476
           ]
          },
          {
           "line": {
            "color": "green",
            "dash": "solid"
           },
           "marker": {
            "color": "green"
           },
           "mode": "lines+markers",
           "name": "E_j",
           "type": "scatter3d",
           "x": [
            0,
            -0.14644660940672624
           ],
           "y": [
            0,
            0.853553390593274
           ],
           "z": [
            0,
            0.5000000000000001
           ]
          },
          {
           "line": {
            "color": "blue",
            "dash": "solid"
           },
           "marker": {
            "color": "blue"
           },
           "mode": "lines+markers",
           "name": "E_k",
           "type": "scatter3d",
           "x": [
            0,
            0.853553390593274
           ],
           "y": [
            0,
            -0.14644660940672624
           ],
           "z": [
            0,
            0.5000000000000001
           ]
          }
         ],
         "name": "22"
        },
        {
         "data": [
          {
           "line": {
            "color": "red",
            "dash": "solid"
           },
           "marker": {
            "color": "red"
           },
           "mode": "lines+markers",
           "name": "E_i",
           "type": "scatter3d",
           "x": [
            0,
            0.5000000000000001
           ],
           "y": [
            0,
            0.5000000000000001
           ],
           "z": [
            0,
            -0.7071067811865476
           ]
          },
          {
           "line": {
            "color": "green",
            "dash": "solid"
           },
           "marker": {
            "color": "green"
           },
           "mode": "lines+markers",
           "name": "E_j",
           "type": "scatter3d",
           "x": [
            0,
            -0.14644660940672624
           ],
           "y": [
            0,
            0.853553390593274
           ],
           "z": [
            0,
            0.5000000000000001
           ]
          },
          {
           "line": {
            "color": "blue",
            "dash": "solid"
           },
           "marker": {
            "color": "blue"
           },
           "mode": "lines+markers",
           "name": "E_k",
           "type": "scatter3d",
           "x": [
            0,
            0.853553390593274
           ],
           "y": [
            0,
            -0.14644660940672624
           ],
           "z": [
            0,
            0.5000000000000001
           ]
          }
         ],
         "name": "23"
        },
        {
         "data": [
          {
           "line": {
            "color": "red",
            "dash": "solid"
           },
           "marker": {
            "color": "red"
           },
           "mode": "lines+markers",
           "name": "E_i",
           "type": "scatter3d",
           "x": [
            0,
            0.5000000000000001
           ],
           "y": [
            0,
            0.5000000000000001
           ],
           "z": [
            0,
            -0.7071067811865476
           ]
          },
          {
           "line": {
            "color": "green",
            "dash": "solid"
           },
           "marker": {
            "color": "green"
           },
           "mode": "lines+markers",
           "name": "E_j",
           "type": "scatter3d",
           "x": [
            0,
            -0.14644660940672624
           ],
           "y": [
            0,
            0.853553390593274
           ],
           "z": [
            0,
            0.5000000000000001
           ]
          },
          {
           "line": {
            "color": "blue",
            "dash": "solid"
           },
           "marker": {
            "color": "blue"
           },
           "mode": "lines+markers",
           "name": "E_k",
           "type": "scatter3d",
           "x": [
            0,
            0.853553390593274
           ],
           "y": [
            0,
            -0.14644660940672624
           ],
           "z": [
            0,
            0.5000000000000001
           ]
          }
         ],
         "name": "24"
        },
        {
         "data": [
          {
           "line": {
            "color": "red",
            "dash": "solid"
           },
           "marker": {
            "color": "red"
           },
           "mode": "lines+markers",
           "name": "E_i",
           "type": "scatter3d",
           "x": [
            0,
            0.5000000000000001
           ],
           "y": [
            0,
            0.5000000000000001
           ],
           "z": [
            0,
            -0.7071067811865476
           ]
          },
          {
           "line": {
            "color": "green",
            "dash": "solid"
           },
           "marker": {
            "color": "green"
           },
           "mode": "lines+markers",
           "name": "E_j",
           "type": "scatter3d",
           "x": [
            0,
            -0.14644660940672624
           ],
           "y": [
            0,
            0.853553390593274
           ],
           "z": [
            0,
            0.5000000000000001
           ]
          },
          {
           "line": {
            "color": "blue",
            "dash": "solid"
           },
           "marker": {
            "color": "blue"
           },
           "mode": "lines+markers",
           "name": "E_k",
           "type": "scatter3d",
           "x": [
            0,
            0.853553390593274
           ],
           "y": [
            0,
            -0.14644660940672624
           ],
           "z": [
            0,
            0.5000000000000001
           ]
          }
         ],
         "name": "25"
        },
        {
         "data": [
          {
           "line": {
            "color": "red",
            "dash": "solid"
           },
           "marker": {
            "color": "red"
           },
           "mode": "lines+markers",
           "name": "E_i",
           "type": "scatter3d",
           "x": [
            0,
            0.5000000000000001
           ],
           "y": [
            0,
            0.5000000000000001
           ],
           "z": [
            0,
            -0.7071067811865476
           ]
          },
          {
           "line": {
            "color": "green",
            "dash": "solid"
           },
           "marker": {
            "color": "green"
           },
           "mode": "lines+markers",
           "name": "E_j",
           "type": "scatter3d",
           "x": [
            0,
            -0.14644660940672624
           ],
           "y": [
            0,
            0.853553390593274
           ],
           "z": [
            0,
            0.5000000000000001
           ]
          },
          {
           "line": {
            "color": "blue",
            "dash": "solid"
           },
           "marker": {
            "color": "blue"
           },
           "mode": "lines+markers",
           "name": "E_k",
           "type": "scatter3d",
           "x": [
            0,
            0.853553390593274
           ],
           "y": [
            0,
            -0.14644660940672624
           ],
           "z": [
            0,
            0.5000000000000001
           ]
          }
         ],
         "name": "26"
        },
        {
         "data": [
          {
           "line": {
            "color": "red",
            "dash": "solid"
           },
           "marker": {
            "color": "red"
           },
           "mode": "lines+markers",
           "name": "E_i",
           "type": "scatter3d",
           "x": [
            0,
            0.5000000000000001
           ],
           "y": [
            0,
            0.5000000000000001
           ],
           "z": [
            0,
            -0.7071067811865476
           ]
          },
          {
           "line": {
            "color": "green",
            "dash": "solid"
           },
           "marker": {
            "color": "green"
           },
           "mode": "lines+markers",
           "name": "E_j",
           "type": "scatter3d",
           "x": [
            0,
            -0.14644660940672624
           ],
           "y": [
            0,
            0.853553390593274
           ],
           "z": [
            0,
            0.5000000000000001
           ]
          },
          {
           "line": {
            "color": "blue",
            "dash": "solid"
           },
           "marker": {
            "color": "blue"
           },
           "mode": "lines+markers",
           "name": "E_k",
           "type": "scatter3d",
           "x": [
            0,
            0.853553390593274
           ],
           "y": [
            0,
            -0.14644660940672624
           ],
           "z": [
            0,
            0.5000000000000001
           ]
          }
         ],
         "name": "27"
        },
        {
         "data": [
          {
           "line": {
            "color": "red",
            "dash": "solid"
           },
           "marker": {
            "color": "red"
           },
           "mode": "lines+markers",
           "name": "E_i",
           "type": "scatter3d",
           "x": [
            0,
            0.5000000000000001
           ],
           "y": [
            0,
            0.5000000000000001
           ],
           "z": [
            0,
            -0.7071067811865476
           ]
          },
          {
           "line": {
            "color": "green",
            "dash": "solid"
           },
           "marker": {
            "color": "green"
           },
           "mode": "lines+markers",
           "name": "E_j",
           "type": "scatter3d",
           "x": [
            0,
            -0.14644660940672624
           ],
           "y": [
            0,
            0.853553390593274
           ],
           "z": [
            0,
            0.5000000000000001
           ]
          },
          {
           "line": {
            "color": "blue",
            "dash": "solid"
           },
           "marker": {
            "color": "blue"
           },
           "mode": "lines+markers",
           "name": "E_k",
           "type": "scatter3d",
           "x": [
            0,
            0.853553390593274
           ],
           "y": [
            0,
            -0.14644660940672624
           ],
           "z": [
            0,
            0.5000000000000001
           ]
          }
         ],
         "name": "28"
        },
        {
         "data": [
          {
           "line": {
            "color": "red",
            "dash": "solid"
           },
           "marker": {
            "color": "red"
           },
           "mode": "lines+markers",
           "name": "E_i",
           "type": "scatter3d",
           "x": [
            0,
            0.5000000000000001
           ],
           "y": [
            0,
            0.5000000000000001
           ],
           "z": [
            0,
            -0.7071067811865476
           ]
          },
          {
           "line": {
            "color": "green",
            "dash": "solid"
           },
           "marker": {
            "color": "green"
           },
           "mode": "lines+markers",
           "name": "E_j",
           "type": "scatter3d",
           "x": [
            0,
            -0.14644660940672624
           ],
           "y": [
            0,
            0.853553390593274
           ],
           "z": [
            0,
            0.5000000000000001
           ]
          },
          {
           "line": {
            "color": "blue",
            "dash": "solid"
           },
           "marker": {
            "color": "blue"
           },
           "mode": "lines+markers",
           "name": "E_k",
           "type": "scatter3d",
           "x": [
            0,
            0.853553390593274
           ],
           "y": [
            0,
            -0.14644660940672624
           ],
           "z": [
            0,
            0.5000000000000001
           ]
          }
         ],
         "name": "29"
        },
        {
         "data": [
          {
           "line": {
            "color": "red",
            "dash": "solid"
           },
           "marker": {
            "color": "red"
           },
           "mode": "lines+markers",
           "name": "E_i",
           "type": "scatter3d",
           "x": [
            0,
            0.5000000000000001
           ],
           "y": [
            0,
            0.5000000000000001
           ],
           "z": [
            0,
            -0.7071067811865476
           ]
          },
          {
           "line": {
            "color": "green",
            "dash": "solid"
           },
           "marker": {
            "color": "green"
           },
           "mode": "lines+markers",
           "name": "E_j",
           "type": "scatter3d",
           "x": [
            0,
            -0.14644660940672624
           ],
           "y": [
            0,
            0.853553390593274
           ],
           "z": [
            0,
            0.5000000000000001
           ]
          },
          {
           "line": {
            "color": "blue",
            "dash": "solid"
           },
           "marker": {
            "color": "blue"
           },
           "mode": "lines+markers",
           "name": "E_k",
           "type": "scatter3d",
           "x": [
            0,
            0.853553390593274
           ],
           "y": [
            0,
            -0.14644660940672624
           ],
           "z": [
            0,
            0.5000000000000001
           ]
          }
         ],
         "name": "30"
        }
       ],
       "layout": {
        "height": 800,
        "scene": {
         "aspectmode": "cube",
         "aspectratio": {
          "x": 1,
          "y": 1,
          "z": 1
         },
         "camera": {
          "center": {
           "x": 0,
           "y": 0,
           "z": 0
          },
          "eye": {
           "x": 1.2500000000000002,
           "y": 1.25,
           "z": 1.2500000000000002
          },
          "projection": {
           "type": "perspective"
          },
          "up": {
           "x": 0,
           "y": 0,
           "z": 1
          }
         },
         "xaxis": {
          "autorange": false,
          "range": [
           -1,
           1
          ],
          "type": "linear"
         },
         "yaxis": {
          "autorange": false,
          "range": [
           -1,
           1
          ],
          "type": "linear"
         },
         "zaxis": {
          "autorange": false,
          "range": [
           -1,
           1
          ],
          "type": "linear"
         }
        },
        "sliders": [
         {
          "active": 0,
          "currentvalue": {
           "prefix": "Step: ",
           "visible": true
          },
          "steps": [
           {
            "args": [
             [
              "0"
             ],
             {
              "frame": {
               "duration": 100,
               "redraw": true
              },
              "fromcurrent": true,
              "mode": "immediate"
             }
            ],
            "label": "0",
            "method": "animate"
           },
           {
            "args": [
             [
              "1"
             ],
             {
              "frame": {
               "duration": 100,
               "redraw": true
              },
              "fromcurrent": true,
              "mode": "immediate"
             }
            ],
            "label": "1",
            "method": "animate"
           },
           {
            "args": [
             [
              "2"
             ],
             {
              "frame": {
               "duration": 100,
               "redraw": true
              },
              "fromcurrent": true,
              "mode": "immediate"
             }
            ],
            "label": "2",
            "method": "animate"
           },
           {
            "args": [
             [
              "3"
             ],
             {
              "frame": {
               "duration": 100,
               "redraw": true
              },
              "fromcurrent": true,
              "mode": "immediate"
             }
            ],
            "label": "3",
            "method": "animate"
           },
           {
            "args": [
             [
              "4"
             ],
             {
              "frame": {
               "duration": 100,
               "redraw": true
              },
              "fromcurrent": true,
              "mode": "immediate"
             }
            ],
            "label": "4",
            "method": "animate"
           },
           {
            "args": [
             [
              "5"
             ],
             {
              "frame": {
               "duration": 100,
               "redraw": true
              },
              "fromcurrent": true,
              "mode": "immediate"
             }
            ],
            "label": "5",
            "method": "animate"
           },
           {
            "args": [
             [
              "6"
             ],
             {
              "frame": {
               "duration": 100,
               "redraw": true
              },
              "fromcurrent": true,
              "mode": "immediate"
             }
            ],
            "label": "6",
            "method": "animate"
           },
           {
            "args": [
             [
              "7"
             ],
             {
              "frame": {
               "duration": 100,
               "redraw": true
              },
              "fromcurrent": true,
              "mode": "immediate"
             }
            ],
            "label": "7",
            "method": "animate"
           },
           {
            "args": [
             [
              "8"
             ],
             {
              "frame": {
               "duration": 100,
               "redraw": true
              },
              "fromcurrent": true,
              "mode": "immediate"
             }
            ],
            "label": "8",
            "method": "animate"
           },
           {
            "args": [
             [
              "9"
             ],
             {
              "frame": {
               "duration": 100,
               "redraw": true
              },
              "fromcurrent": true,
              "mode": "immediate"
             }
            ],
            "label": "9",
            "method": "animate"
           },
           {
            "args": [
             [
              "10"
             ],
             {
              "frame": {
               "duration": 100,
               "redraw": true
              },
              "fromcurrent": true,
              "mode": "immediate"
             }
            ],
            "label": "10",
            "method": "animate"
           },
           {
            "args": [
             [
              "11"
             ],
             {
              "frame": {
               "duration": 100,
               "redraw": true
              },
              "fromcurrent": true,
              "mode": "immediate"
             }
            ],
            "label": "11",
            "method": "animate"
           },
           {
            "args": [
             [
              "12"
             ],
             {
              "frame": {
               "duration": 100,
               "redraw": true
              },
              "fromcurrent": true,
              "mode": "immediate"
             }
            ],
            "label": "12",
            "method": "animate"
           },
           {
            "args": [
             [
              "13"
             ],
             {
              "frame": {
               "duration": 100,
               "redraw": true
              },
              "fromcurrent": true,
              "mode": "immediate"
             }
            ],
            "label": "13",
            "method": "animate"
           },
           {
            "args": [
             [
              "14"
             ],
             {
              "frame": {
               "duration": 100,
               "redraw": true
              },
              "fromcurrent": true,
              "mode": "immediate"
             }
            ],
            "label": "14",
            "method": "animate"
           },
           {
            "args": [
             [
              "15"
             ],
             {
              "frame": {
               "duration": 100,
               "redraw": true
              },
              "fromcurrent": true,
              "mode": "immediate"
             }
            ],
            "label": "15",
            "method": "animate"
           },
           {
            "args": [
             [
              "16"
             ],
             {
              "frame": {
               "duration": 100,
               "redraw": true
              },
              "fromcurrent": true,
              "mode": "immediate"
             }
            ],
            "label": "16",
            "method": "animate"
           },
           {
            "args": [
             [
              "17"
             ],
             {
              "frame": {
               "duration": 100,
               "redraw": true
              },
              "fromcurrent": true,
              "mode": "immediate"
             }
            ],
            "label": "17",
            "method": "animate"
           },
           {
            "args": [
             [
              "18"
             ],
             {
              "frame": {
               "duration": 100,
               "redraw": true
              },
              "fromcurrent": true,
              "mode": "immediate"
             }
            ],
            "label": "18",
            "method": "animate"
           },
           {
            "args": [
             [
              "19"
             ],
             {
              "frame": {
               "duration": 100,
               "redraw": true
              },
              "fromcurrent": true,
              "mode": "immediate"
             }
            ],
            "label": "19",
            "method": "animate"
           },
           {
            "args": [
             [
              "20"
             ],
             {
              "frame": {
               "duration": 100,
               "redraw": true
              },
              "fromcurrent": true,
              "mode": "immediate"
             }
            ],
            "label": "20",
            "method": "animate"
           },
           {
            "args": [
             [
              "21"
             ],
             {
              "frame": {
               "duration": 100,
               "redraw": true
              },
              "fromcurrent": true,
              "mode": "immediate"
             }
            ],
            "label": "21",
            "method": "animate"
           },
           {
            "args": [
             [
              "22"
             ],
             {
              "frame": {
               "duration": 100,
               "redraw": true
              },
              "fromcurrent": true,
              "mode": "immediate"
             }
            ],
            "label": "22",
            "method": "animate"
           },
           {
            "args": [
             [
              "23"
             ],
             {
              "frame": {
               "duration": 100,
               "redraw": true
              },
              "fromcurrent": true,
              "mode": "immediate"
             }
            ],
            "label": "23",
            "method": "animate"
           },
           {
            "args": [
             [
              "24"
             ],
             {
              "frame": {
               "duration": 100,
               "redraw": true
              },
              "fromcurrent": true,
              "mode": "immediate"
             }
            ],
            "label": "24",
            "method": "animate"
           },
           {
            "args": [
             [
              "25"
             ],
             {
              "frame": {
               "duration": 100,
               "redraw": true
              },
              "fromcurrent": true,
              "mode": "immediate"
             }
            ],
            "label": "25",
            "method": "animate"
           },
           {
            "args": [
             [
              "26"
             ],
             {
              "frame": {
               "duration": 100,
               "redraw": true
              },
              "fromcurrent": true,
              "mode": "immediate"
             }
            ],
            "label": "26",
            "method": "animate"
           },
           {
            "args": [
             [
              "27"
             ],
             {
              "frame": {
               "duration": 100,
               "redraw": true
              },
              "fromcurrent": true,
              "mode": "immediate"
             }
            ],
            "label": "27",
            "method": "animate"
           },
           {
            "args": [
             [
              "28"
             ],
             {
              "frame": {
               "duration": 100,
               "redraw": true
              },
              "fromcurrent": true,
              "mode": "immediate"
             }
            ],
            "label": "28",
            "method": "animate"
           },
           {
            "args": [
             [
              "29"
             ],
             {
              "frame": {
               "duration": 100,
               "redraw": true
              },
              "fromcurrent": true,
              "mode": "immediate"
             }
            ],
            "label": "29",
            "method": "animate"
           },
           {
            "args": [
             [
              "30"
             ],
             {
              "frame": {
               "duration": 100,
               "redraw": true
              },
              "fromcurrent": true,
              "mode": "immediate"
             }
            ],
            "label": "30",
            "method": "animate"
           }
          ],
          "x": 0.1,
          "y": 0
         }
        ],
        "template": {
         "data": {
          "pie": [
           {
            "automargin": true,
            "type": "pie"
           }
          ],
          "scatter": [
           {
            "line": {
             "width": 3
            },
            "marker": {
             "size": 9
            },
            "type": "scatter"
           }
          ],
          "scatter3d": [
           {
            "line": {
             "width": 3
            },
            "marker": {
             "size": 9
            },
            "type": "scatter3d"
           }
          ],
          "scattergeo": [
           {
            "line": {
             "width": 3
            },
            "marker": {
             "size": 9
            },
            "type": "scattergeo"
           }
          ],
          "scattergl": [
           {
            "line": {
             "width": 3
            },
            "marker": {
             "size": 9
            },
            "type": "scattergl"
           }
          ],
          "scatterpolar": [
           {
            "line": {
             "width": 3
            },
            "marker": {
             "size": 9
            },
            "type": "scatterpolar"
           }
          ],
          "scatterpolargl": [
           {
            "line": {
             "width": 3
            },
            "marker": {
             "size": 9
            },
            "type": "scatterpolargl"
           }
          ],
          "scatterternary": [
           {
            "line": {
             "width": 3
            },
            "marker": {
             "size": 9
            },
            "type": "scatterternary"
           }
          ],
          "table": [
           {
            "cells": {
             "height": 30
            },
            "header": {
             "height": 36
            },
            "type": "table"
           }
          ]
         },
         "layout": {
          "font": {
           "size": 18
          },
          "xaxis": {
           "title": {
            "standoff": 15
           }
          },
          "yaxis": {
           "title": {
            "standoff": 15
           }
          }
         }
        },
        "title": {
         "text": "321 Rotation Animation"
        },
        "updatemenus": [
         {
          "active": 0,
          "buttons": [
           {
            "args": [
             null,
             {
              "frame": {
               "duration": 100,
               "redraw": true
              },
              "fromcurrent": true,
              "mode": "immediate"
             }
            ],
            "label": "Play",
            "method": "animate"
           }
          ],
          "showactive": false,
          "type": "buttons",
          "x": 0.8,
          "xanchor": "left",
          "y": 1.05,
          "yanchor": "bottom"
         }
        ],
        "width": 1000
       }
      },
      "image/png": "[encoded data removed]",
      "text/html": [
       "<div>                            <div id=\"06748308-6a28-4929-b6cd-3149cb6cbfda\" class=\"plotly-graph-div\" style=\"height:800px; width:1000px;\"></div>            <script type=\"text/javascript\">                require([\"plotly\"], function(Plotly) {                    window.PLOTLYENV=window.PLOTLYENV || {};                                    if (document.getElementById(\"06748308-6a28-4929-b6cd-3149cb6cbfda\")) {                    Plotly.newPlot(                        \"06748308-6a28-4929-b6cd-3149cb6cbfda\",                        [{\"line\":{\"color\":\"red\",\"dash\":\"dot\"},\"marker\":{\"color\":\"red\"},\"mode\":\"lines+markers\",\"name\":\"N_i (static)\",\"x\":[0,1.0],\"y\":[0,0.0],\"z\":[0,0.0],\"type\":\"scatter3d\"},{\"line\":{\"color\":\"green\",\"dash\":\"dot\"},\"marker\":{\"color\":\"green\"},\"mode\":\"lines+markers\",\"name\":\"N_j (static)\",\"x\":[0,0.0],\"y\":[0,1.0],\"z\":[0,0.0],\"type\":\"scatter3d\"},{\"line\":{\"color\":\"blue\",\"dash\":\"dot\"},\"marker\":{\"color\":\"blue\"},\"mode\":\"lines+markers\",\"name\":\"N_k (static)\",\"x\":[0,0.0],\"y\":[0,0.0],\"z\":[0,1.0],\"type\":\"scatter3d\"},{\"line\":{\"color\":\"red\",\"dash\":\"solid\"},\"marker\":{\"color\":\"red\"},\"mode\":\"lines+markers\",\"name\":\"E_i\",\"x\":[0,1.0],\"y\":[0,0.0],\"z\":[0,0.0],\"type\":\"scatter3d\"},{\"line\":{\"color\":\"green\",\"dash\":\"solid\"},\"marker\":{\"color\":\"green\"},\"mode\":\"lines+markers\",\"name\":\"E_j\",\"x\":[0,0.0],\"y\":[0,1.0],\"z\":[0,0.0],\"type\":\"scatter3d\"},{\"line\":{\"color\":\"blue\",\"dash\":\"solid\"},\"marker\":{\"color\":\"blue\"},\"mode\":\"lines+markers\",\"name\":\"E_k\",\"x\":[0,0.0],\"y\":[0,0.0],\"z\":[0,1.0],\"type\":\"scatter3d\"}],                        {\"height\":800,\"scene\":{\"aspectmode\":\"cube\",\"xaxis\":{\"autorange\":false,\"range\":[-1,1]},\"yaxis\":{\"autorange\":false,\"range\":[-1,1]},\"zaxis\":{\"autorange\":false,\"range\":[-1,1]}},\"sliders\":[{\"currentvalue\":{\"prefix\":\"Step: \",\"visible\":true},\"steps\":[{\"args\":[[\"0\"],{\"mode\":\"immediate\",\"frame\":{\"duration\":100,\"redraw\":true},\"fromcurrent\":true}],\"label\":\"0\",\"method\":\"animate\"},{\"args\":[[\"1\"],{\"mode\":\"immediate\",\"frame\":{\"duration\":100,\"redraw\":true},\"fromcurrent\":true}],\"label\":\"1\",\"method\":\"animate\"},{\"args\":[[\"2\"],{\"mode\":\"immediate\",\"frame\":{\"duration\":100,\"redraw\":true},\"fromcurrent\":true}],\"label\":\"2\",\"method\":\"animate\"},{\"args\":[[\"3\"],{\"mode\":\"immediate\",\"frame\":{\"duration\":100,\"redraw\":true},\"fromcurrent\":true}],\"label\":\"3\",\"method\":\"animate\"},{\"args\":[[\"4\"],{\"mode\":\"immediate\",\"frame\":{\"duration\":100,\"redraw\":true},\"fromcurrent\":true}],\"label\":\"4\",\"method\":\"animate\"},{\"args\":[[\"5\"],{\"mode\":\"immediate\",\"frame\":{\"duration\":100,\"redraw\":true},\"fromcurrent\":true}],\"label\":\"5\",\"method\":\"animate\"},{\"args\":[[\"6\"],{\"mode\":\"immediate\",\"frame\":{\"duration\":100,\"redraw\":true},\"fromcurrent\":true}],\"label\":\"6\",\"method\":\"animate\"},{\"args\":[[\"7\"],{\"mode\":\"immediate\",\"frame\":{\"duration\":100,\"redraw\":true},\"fromcurrent\":true}],\"label\":\"7\",\"method\":\"animate\"},{\"args\":[[\"8\"],{\"mode\":\"immediate\",\"frame\":{\"duration\":100,\"redraw\":true},\"fromcurrent\":true}],\"label\":\"8\",\"method\":\"animate\"},{\"args\":[[\"9\"],{\"mode\":\"immediate\",\"frame\":{\"duration\":100,\"redraw\":true},\"fromcurrent\":true}],\"label\":\"9\",\"method\":\"animate\"},{\"args\":[[\"10\"],{\"mode\":\"immediate\",\"frame\":{\"duration\":100,\"redraw\":true},\"fromcurrent\":true}],\"label\":\"10\",\"method\":\"animate\"},{\"args\":[[\"11\"],{\"mode\":\"immediate\",\"frame\":{\"duration\":100,\"redraw\":true},\"fromcurrent\":true}],\"label\":\"11\",\"method\":\"animate\"},{\"args\":[[\"12\"],{\"mode\":\"immediate\",\"frame\":{\"duration\":100,\"redraw\":true},\"fromcurrent\":true}],\"label\":\"12\",\"method\":\"animate\"},{\"args\":[[\"13\"],{\"mode\":\"immediate\",\"frame\":{\"duration\":100,\"redraw\":true},\"fromcurrent\":true}],\"label\":\"13\",\"method\":\"animate\"},{\"args\":[[\"14\"],{\"mode\":\"immediate\",\"frame\":{\"duration\":100,\"redraw\":true},\"fromcurrent\":true}],\"label\":\"14\",\"method\":\"animate\"},{\"args\":[[\"15\"],{\"mode\":\"immediate\",\"frame\":{\"duration\":100,\"redraw\":true},\"fromcurrent\":true}],\"label\":\"15\",\"method\":\"animate\"},{\"args\":[[\"16\"],{\"mode\":\"immediate\",\"frame\":{\"duration\":100,\"redraw\":true},\"fromcurrent\":true}],\"label\":\"16\",\"method\":\"animate\"},{\"args\":[[\"17\"],{\"mode\":\"immediate\",\"frame\":{\"duration\":100,\"redraw\":true},\"fromcurrent\":true}],\"label\":\"17\",\"method\":\"animate\"},{\"args\":[[\"18\"],{\"mode\":\"immediate\",\"frame\":{\"duration\":100,\"redraw\":true},\"fromcurrent\":true}],\"label\":\"18\",\"method\":\"animate\"},{\"args\":[[\"19\"],{\"mode\":\"immediate\",\"frame\":{\"duration\":100,\"redraw\":true},\"fromcurrent\":true}],\"label\":\"19\",\"method\":\"animate\"},{\"args\":[[\"20\"],{\"mode\":\"immediate\",\"frame\":{\"duration\":100,\"redraw\":true},\"fromcurrent\":true}],\"label\":\"20\",\"method\":\"animate\"},{\"args\":[[\"21\"],{\"mode\":\"immediate\",\"frame\":{\"duration\":100,\"redraw\":true},\"fromcurrent\":true}],\"label\":\"21\",\"method\":\"animate\"},{\"args\":[[\"22\"],{\"mode\":\"immediate\",\"frame\":{\"duration\":100,\"redraw\":true},\"fromcurrent\":true}],\"label\":\"22\",\"method\":\"animate\"},{\"args\":[[\"23\"],{\"mode\":\"immediate\",\"frame\":{\"duration\":100,\"redraw\":true},\"fromcurrent\":true}],\"label\":\"23\",\"method\":\"animate\"},{\"args\":[[\"24\"],{\"mode\":\"immediate\",\"frame\":{\"duration\":100,\"redraw\":true},\"fromcurrent\":true}],\"label\":\"24\",\"method\":\"animate\"},{\"args\":[[\"25\"],{\"mode\":\"immediate\",\"frame\":{\"duration\":100,\"redraw\":true},\"fromcurrent\":true}],\"label\":\"25\",\"method\":\"animate\"},{\"args\":[[\"26\"],{\"mode\":\"immediate\",\"frame\":{\"duration\":100,\"redraw\":true},\"fromcurrent\":true}],\"label\":\"26\",\"method\":\"animate\"},{\"args\":[[\"27\"],{\"mode\":\"immediate\",\"frame\":{\"duration\":100,\"redraw\":true},\"fromcurrent\":true}],\"label\":\"27\",\"method\":\"animate\"},{\"args\":[[\"28\"],{\"mode\":\"immediate\",\"frame\":{\"duration\":100,\"redraw\":true},\"fromcurrent\":true}],\"label\":\"28\",\"method\":\"animate\"},{\"args\":[[\"29\"],{\"mode\":\"immediate\",\"frame\":{\"duration\":100,\"redraw\":true},\"fromcurrent\":true}],\"label\":\"29\",\"method\":\"animate\"},{\"args\":[[\"30\"],{\"mode\":\"immediate\",\"frame\":{\"duration\":100,\"redraw\":true},\"fromcurrent\":true}],\"label\":\"30\",\"method\":\"animate\"}],\"x\":0.1,\"y\":0}],\"template\":{\"data\":{\"pie\":[{\"automargin\":true,\"type\":\"pie\"}],\"scatter3d\":[{\"line\":{\"width\":3},\"marker\":{\"size\":9},\"type\":\"scatter3d\"}],\"scattergeo\":[{\"line\":{\"width\":3},\"marker\":{\"size\":9},\"type\":\"scattergeo\"}],\"scattergl\":[{\"line\":{\"width\":3},\"marker\":{\"size\":9},\"type\":\"scattergl\"}],\"scatterpolargl\":[{\"line\":{\"width\":3},\"marker\":{\"size\":9},\"type\":\"scatterpolargl\"}],\"scatterpolar\":[{\"line\":{\"width\":3},\"marker\":{\"size\":9},\"type\":\"scatterpolar\"}],\"scatter\":[{\"line\":{\"width\":3},\"marker\":{\"size\":9},\"type\":\"scatter\"}],\"scatterternary\":[{\"line\":{\"width\":3},\"marker\":{\"size\":9},\"type\":\"scatterternary\"}],\"table\":[{\"cells\":{\"height\":30},\"header\":{\"height\":36},\"type\":\"table\"}]},\"layout\":{\"font\":{\"size\":18},\"xaxis\":{\"title\":{\"standoff\":15}},\"yaxis\":{\"title\":{\"standoff\":15}}}},\"title\":{\"text\":\"321 Rotation Animation\"},\"updatemenus\":[{\"buttons\":[{\"args\":[null,{\"frame\":{\"duration\":100,\"redraw\":true},\"fromcurrent\":true,\"mode\":\"immediate\"}],\"label\":\"Play\",\"method\":\"animate\"}],\"showactive\":false,\"type\":\"buttons\",\"x\":0.8,\"xanchor\":\"left\",\"y\":1.05,\"yanchor\":\"bottom\"}],\"width\":1000},                        {\"responsive\": true}                    ).then(function(){\n",
       "                            Plotly.addFrames('06748308-6a28-4929-b6cd-3149cb6cbfda', [{\"data\":[{\"line\":{\"color\":\"red\",\"dash\":\"solid\"},\"marker\":{\"color\":\"red\"},\"mode\":\"lines+markers\",\"name\":\"E_i\",\"x\":[0,0.5000000000000001],\"y\":[0,0.5000000000000001],\"z\":[0,-0.7071067811865476],\"type\":\"scatter3d\"},{\"line\":{\"color\":\"green\",\"dash\":\"solid\"},\"marker\":{\"color\":\"green\"},\"mode\":\"lines+markers\",\"name\":\"E_j\",\"x\":[0,-0.14644660940672624],\"y\":[0,0.853553390593274],\"z\":[0,0.5000000000000001],\"type\":\"scatter3d\"},{\"line\":{\"color\":\"blue\",\"dash\":\"solid\"},\"marker\":{\"color\":\"blue\"},\"mode\":\"lines+markers\",\"name\":\"E_k\",\"x\":[0,0.853553390593274],\"y\":[0,-0.14644660940672624],\"z\":[0,0.5000000000000001],\"type\":\"scatter3d\"}],\"name\":\"0\"},{\"data\":[{\"line\":{\"color\":\"red\",\"dash\":\"solid\"},\"marker\":{\"color\":\"red\"},\"mode\":\"lines+markers\",\"name\":\"E_i\",\"x\":[0,0.5000000000000001],\"y\":[0,0.5000000000000001],\"z\":[0,-0.7071067811865476],\"type\":\"scatter3d\"},{\"line\":{\"color\":\"green\",\"dash\":\"solid\"},\"marker\":{\"color\":\"green\"},\"mode\":\"lines+markers\",\"name\":\"E_j\",\"x\":[0,-0.14644660940672624],\"y\":[0,0.853553390593274],\"z\":[0,0.5000000000000001],\"type\":\"scatter3d\"},{\"line\":{\"color\":\"blue\",\"dash\":\"solid\"},\"marker\":{\"color\":\"blue\"},\"mode\":\"lines+markers\",\"name\":\"E_k\",\"x\":[0,0.853553390593274],\"y\":[0,-0.14644660940672624],\"z\":[0,0.5000000000000001],\"type\":\"scatter3d\"}],\"name\":\"1\"},{\"data\":[{\"line\":{\"color\":\"red\",\"dash\":\"solid\"},\"marker\":{\"color\":\"red\"},\"mode\":\"lines+markers\",\"name\":\"E_i\",\"x\":[0,0.5000000000000001],\"y\":[0,0.5000000000000001],\"z\":[0,-0.7071067811865476],\"type\":\"scatter3d\"},{\"line\":{\"color\":\"green\",\"dash\":\"solid\"},\"marker\":{\"color\":\"green\"},\"mode\":\"lines+markers\",\"name\":\"E_j\",\"x\":[0,-0.14644660940672624],\"y\":[0,0.853553390593274],\"z\":[0,0.5000000000000001],\"type\":\"scatter3d\"},{\"line\":{\"color\":\"blue\",\"dash\":\"solid\"},\"marker\":{\"color\":\"blue\"},\"mode\":\"lines+markers\",\"name\":\"E_k\",\"x\":[0,0.853553390593274],\"y\":[0,-0.14644660940672624],\"z\":[0,0.5000000000000001],\"type\":\"scatter3d\"}],\"name\":\"2\"},{\"data\":[{\"line\":{\"color\":\"red\",\"dash\":\"solid\"},\"marker\":{\"color\":\"red\"},\"mode\":\"lines+markers\",\"name\":\"E_i\",\"x\":[0,0.5000000000000001],\"y\":[0,0.5000000000000001],\"z\":[0,-0.7071067811865476],\"type\":\"scatter3d\"},{\"line\":{\"color\":\"green\",\"dash\":\"solid\"},\"marker\":{\"color\":\"green\"},\"mode\":\"lines+markers\",\"name\":\"E_j\",\"x\":[0,-0.14644660940672624],\"y\":[0,0.853553390593274],\"z\":[0,0.5000000000000001],\"type\":\"scatter3d\"},{\"line\":{\"color\":\"blue\",\"dash\":\"solid\"},\"marker\":{\"color\":\"blue\"},\"mode\":\"lines+markers\",\"name\":\"E_k\",\"x\":[0,0.853553390593274],\"y\":[0,-0.14644660940672624],\"z\":[0,0.5000000000000001],\"type\":\"scatter3d\"}],\"name\":\"3\"},{\"data\":[{\"line\":{\"color\":\"red\",\"dash\":\"solid\"},\"marker\":{\"color\":\"red\"},\"mode\":\"lines+markers\",\"name\":\"E_i\",\"x\":[0,0.5000000000000001],\"y\":[0,0.5000000000000001],\"z\":[0,-0.7071067811865476],\"type\":\"scatter3d\"},{\"line\":{\"color\":\"green\",\"dash\":\"solid\"},\"marker\":{\"color\":\"green\"},\"mode\":\"lines+markers\",\"name\":\"E_j\",\"x\":[0,-0.14644660940672624],\"y\":[0,0.853553390593274],\"z\":[0,0.5000000000000001],\"type\":\"scatter3d\"},{\"line\":{\"color\":\"blue\",\"dash\":\"solid\"},\"marker\":{\"color\":\"blue\"},\"mode\":\"lines+markers\",\"name\":\"E_k\",\"x\":[0,0.853553390593274],\"y\":[0,-0.14644660940672624],\"z\":[0,0.5000000000000001],\"type\":\"scatter3d\"}],\"name\":\"4\"},{\"data\":[{\"line\":{\"color\":\"red\",\"dash\":\"solid\"},\"marker\":{\"color\":\"red\"},\"mode\":\"lines+markers\",\"name\":\"E_i\",\"x\":[0,0.5000000000000001],\"y\":[0,0.5000000000000001],\"z\":[0,-0.7071067811865476],\"type\":\"scatter3d\"},{\"line\":{\"color\":\"green\",\"dash\":\"solid\"},\"marker\":{\"color\":\"green\"},\"mode\":\"lines+markers\",\"name\":\"E_j\",\"x\":[0,-0.14644660940672624],\"y\":[0,0.853553390593274],\"z\":[0,0.5000000000000001],\"type\":\"scatter3d\"},{\"line\":{\"color\":\"blue\",\"dash\":\"solid\"},\"marker\":{\"color\":\"blue\"},\"mode\":\"lines+markers\",\"name\":\"E_k\",\"x\":[0,0.853553390593274],\"y\":[0,-0.14644660940672624],\"z\":[0,0.5000000000000001],\"type\":\"scatter3d\"}],\"name\":\"5\"},{\"data\":[{\"line\":{\"color\":\"red\",\"dash\":\"solid\"},\"marker\":{\"color\":\"red\"},\"mode\":\"lines+markers\",\"name\":\"E_i\",\"x\":[0,0.5000000000000001],\"y\":[0,0.5000000000000001],\"z\":[0,-0.7071067811865476],\"type\":\"scatter3d\"},{\"line\":{\"color\":\"green\",\"dash\":\"solid\"},\"marker\":{\"color\":\"green\"},\"mode\":\"lines+markers\",\"name\":\"E_j\",\"x\":[0,-0.14644660940672624],\"y\":[0,0.853553390593274],\"z\":[0,0.5000000000000001],\"type\":\"scatter3d\"},{\"line\":{\"color\":\"blue\",\"dash\":\"solid\"},\"marker\":{\"color\":\"blue\"},\"mode\":\"lines+markers\",\"name\":\"E_k\",\"x\":[0,0.853553390593274],\"y\":[0,-0.14644660940672624],\"z\":[0,0.5000000000000001],\"type\":\"scatter3d\"}],\"name\":\"6\"},{\"data\":[{\"line\":{\"color\":\"red\",\"dash\":\"solid\"},\"marker\":{\"color\":\"red\"},\"mode\":\"lines+markers\",\"name\":\"E_i\",\"x\":[0,0.5000000000000001],\"y\":[0,0.5000000000000001],\"z\":[0,-0.7071067811865476],\"type\":\"scatter3d\"},{\"line\":{\"color\":\"green\",\"dash\":\"solid\"},\"marker\":{\"color\":\"green\"},\"mode\":\"lines+markers\",\"name\":\"E_j\",\"x\":[0,-0.14644660940672624],\"y\":[0,0.853553390593274],\"z\":[0,0.5000000000000001],\"type\":\"scatter3d\"},{\"line\":{\"color\":\"blue\",\"dash\":\"solid\"},\"marker\":{\"color\":\"blue\"},\"mode\":\"lines+markers\",\"name\":\"E_k\",\"x\":[0,0.853553390593274],\"y\":[0,-0.14644660940672624],\"z\":[0,0.5000000000000001],\"type\":\"scatter3d\"}],\"name\":\"7\"},{\"data\":[{\"line\":{\"color\":\"red\",\"dash\":\"solid\"},\"marker\":{\"color\":\"red\"},\"mode\":\"lines+markers\",\"name\":\"E_i\",\"x\":[0,0.5000000000000001],\"y\":[0,0.5000000000000001],\"z\":[0,-0.7071067811865476],\"type\":\"scatter3d\"},{\"line\":{\"color\":\"green\",\"dash\":\"solid\"},\"marker\":{\"color\":\"green\"},\"mode\":\"lines+markers\",\"name\":\"E_j\",\"x\":[0,-0.14644660940672624],\"y\":[0,0.853553390593274],\"z\":[0,0.5000000000000001],\"type\":\"scatter3d\"},{\"line\":{\"color\":\"blue\",\"dash\":\"solid\"},\"marker\":{\"color\":\"blue\"},\"mode\":\"lines+markers\",\"name\":\"E_k\",\"x\":[0,0.853553390593274],\"y\":[0,-0.14644660940672624],\"z\":[0,0.5000000000000001],\"type\":\"scatter3d\"}],\"name\":\"8\"},{\"data\":[{\"line\":{\"color\":\"red\",\"dash\":\"solid\"},\"marker\":{\"color\":\"red\"},\"mode\":\"lines+markers\",\"name\":\"E_i\",\"x\":[0,0.5000000000000001],\"y\":[0,0.5000000000000001],\"z\":[0,-0.7071067811865476],\"type\":\"scatter3d\"},{\"line\":{\"color\":\"green\",\"dash\":\"solid\"},\"marker\":{\"color\":\"green\"},\"mode\":\"lines+markers\",\"name\":\"E_j\",\"x\":[0,-0.14644660940672624],\"y\":[0,0.853553390593274],\"z\":[0,0.5000000000000001],\"type\":\"scatter3d\"},{\"line\":{\"color\":\"blue\",\"dash\":\"solid\"},\"marker\":{\"color\":\"blue\"},\"mode\":\"lines+markers\",\"name\":\"E_k\",\"x\":[0,0.853553390593274],\"y\":[0,-0.14644660940672624],\"z\":[0,0.5000000000000001],\"type\":\"scatter3d\"}],\"name\":\"9\"},{\"data\":[{\"line\":{\"color\":\"red\",\"dash\":\"solid\"},\"marker\":{\"color\":\"red\"},\"mode\":\"lines+markers\",\"name\":\"E_i\",\"x\":[0,0.5000000000000001],\"y\":[0,0.5000000000000001],\"z\":[0,-0.7071067811865476],\"type\":\"scatter3d\"},{\"line\":{\"color\":\"green\",\"dash\":\"solid\"},\"marker\":{\"color\":\"green\"},\"mode\":\"lines+markers\",\"name\":\"E_j\",\"x\":[0,-0.14644660940672624],\"y\":[0,0.853553390593274],\"z\":[0,0.5000000000000001],\"type\":\"scatter3d\"},{\"line\":{\"color\":\"blue\",\"dash\":\"solid\"},\"marker\":{\"color\":\"blue\"},\"mode\":\"lines+markers\",\"name\":\"E_k\",\"x\":[0,0.853553390593274],\"y\":[0,-0.14644660940672624],\"z\":[0,0.5000000000000001],\"type\":\"scatter3d\"}],\"name\":\"10\"},{\"data\":[{\"line\":{\"color\":\"red\",\"dash\":\"solid\"},\"marker\":{\"color\":\"red\"},\"mode\":\"lines+markers\",\"name\":\"E_i\",\"x\":[0,0.5000000000000001],\"y\":[0,0.5000000000000001],\"z\":[0,-0.7071067811865476],\"type\":\"scatter3d\"},{\"line\":{\"color\":\"green\",\"dash\":\"solid\"},\"marker\":{\"color\":\"green\"},\"mode\":\"lines+markers\",\"name\":\"E_j\",\"x\":[0,-0.14644660940672624],\"y\":[0,0.853553390593274],\"z\":[0,0.5000000000000001],\"type\":\"scatter3d\"},{\"line\":{\"color\":\"blue\",\"dash\":\"solid\"},\"marker\":{\"color\":\"blue\"},\"mode\":\"lines+markers\",\"name\":\"E_k\",\"x\":[0,0.853553390593274],\"y\":[0,-0.14644660940672624],\"z\":[0,0.5000000000000001],\"type\":\"scatter3d\"}],\"name\":\"11\"},{\"data\":[{\"line\":{\"color\":\"red\",\"dash\":\"solid\"},\"marker\":{\"color\":\"red\"},\"mode\":\"lines+markers\",\"name\":\"E_i\",\"x\":[0,0.5000000000000001],\"y\":[0,0.5000000000000001],\"z\":[0,-0.7071067811865476],\"type\":\"scatter3d\"},{\"line\":{\"color\":\"green\",\"dash\":\"solid\"},\"marker\":{\"color\":\"green\"},\"mode\":\"lines+markers\",\"name\":\"E_j\",\"x\":[0,-0.14644660940672624],\"y\":[0,0.853553390593274],\"z\":[0,0.5000000000000001],\"type\":\"scatter3d\"},{\"line\":{\"color\":\"blue\",\"dash\":\"solid\"},\"marker\":{\"color\":\"blue\"},\"mode\":\"lines+markers\",\"name\":\"E_k\",\"x\":[0,0.853553390593274],\"y\":[0,-0.14644660940672624],\"z\":[0,0.5000000000000001],\"type\":\"scatter3d\"}],\"name\":\"12\"},{\"data\":[{\"line\":{\"color\":\"red\",\"dash\":\"solid\"},\"marker\":{\"color\":\"red\"},\"mode\":\"lines+markers\",\"name\":\"E_i\",\"x\":[0,0.5000000000000001],\"y\":[0,0.5000000000000001],\"z\":[0,-0.7071067811865476],\"type\":\"scatter3d\"},{\"line\":{\"color\":\"green\",\"dash\":\"solid\"},\"marker\":{\"color\":\"green\"},\"mode\":\"lines+markers\",\"name\":\"E_j\",\"x\":[0,-0.14644660940672624],\"y\":[0,0.853553390593274],\"z\":[0,0.5000000000000001],\"type\":\"scatter3d\"},{\"line\":{\"color\":\"blue\",\"dash\":\"solid\"},\"marker\":{\"color\":\"blue\"},\"mode\":\"lines+markers\",\"name\":\"E_k\",\"x\":[0,0.853553390593274],\"y\":[0,-0.14644660940672624],\"z\":[0,0.5000000000000001],\"type\":\"scatter3d\"}],\"name\":\"13\"},{\"data\":[{\"line\":{\"color\":\"red\",\"dash\":\"solid\"},\"marker\":{\"color\":\"red\"},\"mode\":\"lines+markers\",\"name\":\"E_i\",\"x\":[0,0.5000000000000001],\"y\":[0,0.5000000000000001],\"z\":[0,-0.7071067811865476],\"type\":\"scatter3d\"},{\"line\":{\"color\":\"green\",\"dash\":\"solid\"},\"marker\":{\"color\":\"green\"},\"mode\":\"lines+markers\",\"name\":\"E_j\",\"x\":[0,-0.14644660940672624],\"y\":[0,0.853553390593274],\"z\":[0,0.5000000000000001],\"type\":\"scatter3d\"},{\"line\":{\"color\":\"blue\",\"dash\":\"solid\"},\"marker\":{\"color\":\"blue\"},\"mode\":\"lines+markers\",\"name\":\"E_k\",\"x\":[0,0.853553390593274],\"y\":[0,-0.14644660940672624],\"z\":[0,0.5000000000000001],\"type\":\"scatter3d\"}],\"name\":\"14\"},{\"data\":[{\"line\":{\"color\":\"red\",\"dash\":\"solid\"},\"marker\":{\"color\":\"red\"},\"mode\":\"lines+markers\",\"name\":\"E_i\",\"x\":[0,0.5000000000000001],\"y\":[0,0.5000000000000001],\"z\":[0,-0.7071067811865476],\"type\":\"scatter3d\"},{\"line\":{\"color\":\"green\",\"dash\":\"solid\"},\"marker\":{\"color\":\"green\"},\"mode\":\"lines+markers\",\"name\":\"E_j\",\"x\":[0,-0.14644660940672624],\"y\":[0,0.853553390593274],\"z\":[0,0.5000000000000001],\"type\":\"scatter3d\"},{\"line\":{\"color\":\"blue\",\"dash\":\"solid\"},\"marker\":{\"color\":\"blue\"},\"mode\":\"lines+markers\",\"name\":\"E_k\",\"x\":[0,0.853553390593274],\"y\":[0,-0.14644660940672624],\"z\":[0,0.5000000000000001],\"type\":\"scatter3d\"}],\"name\":\"15\"},{\"data\":[{\"line\":{\"color\":\"red\",\"dash\":\"solid\"},\"marker\":{\"color\":\"red\"},\"mode\":\"lines+markers\",\"name\":\"E_i\",\"x\":[0,0.5000000000000001],\"y\":[0,0.5000000000000001],\"z\":[0,-0.7071067811865476],\"type\":\"scatter3d\"},{\"line\":{\"color\":\"green\",\"dash\":\"solid\"},\"marker\":{\"color\":\"green\"},\"mode\":\"lines+markers\",\"name\":\"E_j\",\"x\":[0,-0.14644660940672624],\"y\":[0,0.853553390593274],\"z\":[0,0.5000000000000001],\"type\":\"scatter3d\"},{\"line\":{\"color\":\"blue\",\"dash\":\"solid\"},\"marker\":{\"color\":\"blue\"},\"mode\":\"lines+markers\",\"name\":\"E_k\",\"x\":[0,0.853553390593274],\"y\":[0,-0.14644660940672624],\"z\":[0,0.5000000000000001],\"type\":\"scatter3d\"}],\"name\":\"16\"},{\"data\":[{\"line\":{\"color\":\"red\",\"dash\":\"solid\"},\"marker\":{\"color\":\"red\"},\"mode\":\"lines+markers\",\"name\":\"E_i\",\"x\":[0,0.5000000000000001],\"y\":[0,0.5000000000000001],\"z\":[0,-0.7071067811865476],\"type\":\"scatter3d\"},{\"line\":{\"color\":\"green\",\"dash\":\"solid\"},\"marker\":{\"color\":\"green\"},\"mode\":\"lines+markers\",\"name\":\"E_j\",\"x\":[0,-0.14644660940672624],\"y\":[0,0.853553390593274],\"z\":[0,0.5000000000000001],\"type\":\"scatter3d\"},{\"line\":{\"color\":\"blue\",\"dash\":\"solid\"},\"marker\":{\"color\":\"blue\"},\"mode\":\"lines+markers\",\"name\":\"E_k\",\"x\":[0,0.853553390593274],\"y\":[0,-0.14644660940672624],\"z\":[0,0.5000000000000001],\"type\":\"scatter3d\"}],\"name\":\"17\"},{\"data\":[{\"line\":{\"color\":\"red\",\"dash\":\"solid\"},\"marker\":{\"color\":\"red\"},\"mode\":\"lines+markers\",\"name\":\"E_i\",\"x\":[0,0.5000000000000001],\"y\":[0,0.5000000000000001],\"z\":[0,-0.7071067811865476],\"type\":\"scatter3d\"},{\"line\":{\"color\":\"green\",\"dash\":\"solid\"},\"marker\":{\"color\":\"green\"},\"mode\":\"lines+markers\",\"name\":\"E_j\",\"x\":[0,-0.14644660940672624],\"y\":[0,0.853553390593274],\"z\":[0,0.5000000000000001],\"type\":\"scatter3d\"},{\"line\":{\"color\":\"blue\",\"dash\":\"solid\"},\"marker\":{\"color\":\"blue\"},\"mode\":\"lines+markers\",\"name\":\"E_k\",\"x\":[0,0.853553390593274],\"y\":[0,-0.14644660940672624],\"z\":[0,0.5000000000000001],\"type\":\"scatter3d\"}],\"name\":\"18\"},{\"data\":[{\"line\":{\"color\":\"red\",\"dash\":\"solid\"},\"marker\":{\"color\":\"red\"},\"mode\":\"lines+markers\",\"name\":\"E_i\",\"x\":[0,0.5000000000000001],\"y\":[0,0.5000000000000001],\"z\":[0,-0.7071067811865476],\"type\":\"scatter3d\"},{\"line\":{\"color\":\"green\",\"dash\":\"solid\"},\"marker\":{\"color\":\"green\"},\"mode\":\"lines+markers\",\"name\":\"E_j\",\"x\":[0,-0.14644660940672624],\"y\":[0,0.853553390593274],\"z\":[0,0.5000000000000001],\"type\":\"scatter3d\"},{\"line\":{\"color\":\"blue\",\"dash\":\"solid\"},\"marker\":{\"color\":\"blue\"},\"mode\":\"lines+markers\",\"name\":\"E_k\",\"x\":[0,0.853553390593274],\"y\":[0,-0.14644660940672624],\"z\":[0,0.5000000000000001],\"type\":\"scatter3d\"}],\"name\":\"19\"},{\"data\":[{\"line\":{\"color\":\"red\",\"dash\":\"solid\"},\"marker\":{\"color\":\"red\"},\"mode\":\"lines+markers\",\"name\":\"E_i\",\"x\":[0,0.5000000000000001],\"y\":[0,0.5000000000000001],\"z\":[0,-0.7071067811865476],\"type\":\"scatter3d\"},{\"line\":{\"color\":\"green\",\"dash\":\"solid\"},\"marker\":{\"color\":\"green\"},\"mode\":\"lines+markers\",\"name\":\"E_j\",\"x\":[0,-0.14644660940672624],\"y\":[0,0.853553390593274],\"z\":[0,0.5000000000000001],\"type\":\"scatter3d\"},{\"line\":{\"color\":\"blue\",\"dash\":\"solid\"},\"marker\":{\"color\":\"blue\"},\"mode\":\"lines+markers\",\"name\":\"E_k\",\"x\":[0,0.853553390593274],\"y\":[0,-0.14644660940672624],\"z\":[0,0.5000000000000001],\"type\":\"scatter3d\"}],\"name\":\"20\"},{\"data\":[{\"line\":{\"color\":\"red\",\"dash\":\"solid\"},\"marker\":{\"color\":\"red\"},\"mode\":\"lines+markers\",\"name\":\"E_i\",\"x\":[0,0.5000000000000001],\"y\":[0,0.5000000000000001],\"z\":[0,-0.7071067811865476],\"type\":\"scatter3d\"},{\"line\":{\"color\":\"green\",\"dash\":\"solid\"},\"marker\":{\"color\":\"green\"},\"mode\":\"lines+markers\",\"name\":\"E_j\",\"x\":[0,-0.14644660940672624],\"y\":[0,0.853553390593274],\"z\":[0,0.5000000000000001],\"type\":\"scatter3d\"},{\"line\":{\"color\":\"blue\",\"dash\":\"solid\"},\"marker\":{\"color\":\"blue\"},\"mode\":\"lines+markers\",\"name\":\"E_k\",\"x\":[0,0.853553390593274],\"y\":[0,-0.14644660940672624],\"z\":[0,0.5000000000000001],\"type\":\"scatter3d\"}],\"name\":\"21\"},{\"data\":[{\"line\":{\"color\":\"red\",\"dash\":\"solid\"},\"marker\":{\"color\":\"red\"},\"mode\":\"lines+markers\",\"name\":\"E_i\",\"x\":[0,0.5000000000000001],\"y\":[0,0.5000000000000001],\"z\":[0,-0.7071067811865476],\"type\":\"scatter3d\"},{\"line\":{\"color\":\"green\",\"dash\":\"solid\"},\"marker\":{\"color\":\"green\"},\"mode\":\"lines+markers\",\"name\":\"E_j\",\"x\":[0,-0.14644660940672624],\"y\":[0,0.853553390593274],\"z\":[0,0.5000000000000001],\"type\":\"scatter3d\"},{\"line\":{\"color\":\"blue\",\"dash\":\"solid\"},\"marker\":{\"color\":\"blue\"},\"mode\":\"lines+markers\",\"name\":\"E_k\",\"x\":[0,0.853553390593274],\"y\":[0,-0.14644660940672624],\"z\":[0,0.5000000000000001],\"type\":\"scatter3d\"}],\"name\":\"22\"},{\"data\":[{\"line\":{\"color\":\"red\",\"dash\":\"solid\"},\"marker\":{\"color\":\"red\"},\"mode\":\"lines+markers\",\"name\":\"E_i\",\"x\":[0,0.5000000000000001],\"y\":[0,0.5000000000000001],\"z\":[0,-0.7071067811865476],\"type\":\"scatter3d\"},{\"line\":{\"color\":\"green\",\"dash\":\"solid\"},\"marker\":{\"color\":\"green\"},\"mode\":\"lines+markers\",\"name\":\"E_j\",\"x\":[0,-0.14644660940672624],\"y\":[0,0.853553390593274],\"z\":[0,0.5000000000000001],\"type\":\"scatter3d\"},{\"line\":{\"color\":\"blue\",\"dash\":\"solid\"},\"marker\":{\"color\":\"blue\"},\"mode\":\"lines+markers\",\"name\":\"E_k\",\"x\":[0,0.853553390593274],\"y\":[0,-0.14644660940672624],\"z\":[0,0.5000000000000001],\"type\":\"scatter3d\"}],\"name\":\"23\"},{\"data\":[{\"line\":{\"color\":\"red\",\"dash\":\"solid\"},\"marker\":{\"color\":\"red\"},\"mode\":\"lines+markers\",\"name\":\"E_i\",\"x\":[0,0.5000000000000001],\"y\":[0,0.5000000000000001],\"z\":[0,-0.7071067811865476],\"type\":\"scatter3d\"},{\"line\":{\"color\":\"green\",\"dash\":\"solid\"},\"marker\":{\"color\":\"green\"},\"mode\":\"lines+markers\",\"name\":\"E_j\",\"x\":[0,-0.14644660940672624],\"y\":[0,0.853553390593274],\"z\":[0,0.5000000000000001],\"type\":\"scatter3d\"},{\"line\":{\"color\":\"blue\",\"dash\":\"solid\"},\"marker\":{\"color\":\"blue\"},\"mode\":\"lines+markers\",\"name\":\"E_k\",\"x\":[0,0.853553390593274],\"y\":[0,-0.14644660940672624],\"z\":[0,0.5000000000000001],\"type\":\"scatter3d\"}],\"name\":\"24\"},{\"data\":[{\"line\":{\"color\":\"red\",\"dash\":\"solid\"},\"marker\":{\"color\":\"red\"},\"mode\":\"lines+markers\",\"name\":\"E_i\",\"x\":[0,0.5000000000000001],\"y\":[0,0.5000000000000001],\"z\":[0,-0.7071067811865476],\"type\":\"scatter3d\"},{\"line\":{\"color\":\"green\",\"dash\":\"solid\"},\"marker\":{\"color\":\"green\"},\"mode\":\"lines+markers\",\"name\":\"E_j\",\"x\":[0,-0.14644660940672624],\"y\":[0,0.853553390593274],\"z\":[0,0.5000000000000001],\"type\":\"scatter3d\"},{\"line\":{\"color\":\"blue\",\"dash\":\"solid\"},\"marker\":{\"color\":\"blue\"},\"mode\":\"lines+markers\",\"name\":\"E_k\",\"x\":[0,0.853553390593274],\"y\":[0,-0.14644660940672624],\"z\":[0,0.5000000000000001],\"type\":\"scatter3d\"}],\"name\":\"25\"},{\"data\":[{\"line\":{\"color\":\"red\",\"dash\":\"solid\"},\"marker\":{\"color\":\"red\"},\"mode\":\"lines+markers\",\"name\":\"E_i\",\"x\":[0,0.5000000000000001],\"y\":[0,0.5000000000000001],\"z\":[0,-0.7071067811865476],\"type\":\"scatter3d\"},{\"line\":{\"color\":\"green\",\"dash\":\"solid\"},\"marker\":{\"color\":\"green\"},\"mode\":\"lines+markers\",\"name\":\"E_j\",\"x\":[0,-0.14644660940672624],\"y\":[0,0.853553390593274],\"z\":[0,0.5000000000000001],\"type\":\"scatter3d\"},{\"line\":{\"color\":\"blue\",\"dash\":\"solid\"},\"marker\":{\"color\":\"blue\"},\"mode\":\"lines+markers\",\"name\":\"E_k\",\"x\":[0,0.853553390593274],\"y\":[0,-0.14644660940672624],\"z\":[0,0.5000000000000001],\"type\":\"scatter3d\"}],\"name\":\"26\"},{\"data\":[{\"line\":{\"color\":\"red\",\"dash\":\"solid\"},\"marker\":{\"color\":\"red\"},\"mode\":\"lines+markers\",\"name\":\"E_i\",\"x\":[0,0.5000000000000001],\"y\":[0,0.5000000000000001],\"z\":[0,-0.7071067811865476],\"type\":\"scatter3d\"},{\"line\":{\"color\":\"green\",\"dash\":\"solid\"},\"marker\":{\"color\":\"green\"},\"mode\":\"lines+markers\",\"name\":\"E_j\",\"x\":[0,-0.14644660940672624],\"y\":[0,0.853553390593274],\"z\":[0,0.5000000000000001],\"type\":\"scatter3d\"},{\"line\":{\"color\":\"blue\",\"dash\":\"solid\"},\"marker\":{\"color\":\"blue\"},\"mode\":\"lines+markers\",\"name\":\"E_k\",\"x\":[0,0.853553390593274],\"y\":[0,-0.14644660940672624],\"z\":[0,0.5000000000000001],\"type\":\"scatter3d\"}],\"name\":\"27\"},{\"data\":[{\"line\":{\"color\":\"red\",\"dash\":\"solid\"},\"marker\":{\"color\":\"red\"},\"mode\":\"lines+markers\",\"name\":\"E_i\",\"x\":[0,0.5000000000000001],\"y\":[0,0.5000000000000001],\"z\":[0,-0.7071067811865476],\"type\":\"scatter3d\"},{\"line\":{\"color\":\"green\",\"dash\":\"solid\"},\"marker\":{\"color\":\"green\"},\"mode\":\"lines+markers\",\"name\":\"E_j\",\"x\":[0,-0.14644660940672624],\"y\":[0,0.853553390593274],\"z\":[0,0.5000000000000001],\"type\":\"scatter3d\"},{\"line\":{\"color\":\"blue\",\"dash\":\"solid\"},\"marker\":{\"color\":\"blue\"},\"mode\":\"lines+markers\",\"name\":\"E_k\",\"x\":[0,0.853553390593274],\"y\":[0,-0.14644660940672624],\"z\":[0,0.5000000000000001],\"type\":\"scatter3d\"}],\"name\":\"28\"},{\"data\":[{\"line\":{\"color\":\"red\",\"dash\":\"solid\"},\"marker\":{\"color\":\"red\"},\"mode\":\"lines+markers\",\"name\":\"E_i\",\"x\":[0,0.5000000000000001],\"y\":[0,0.5000000000000001],\"z\":[0,-0.7071067811865476],\"type\":\"scatter3d\"},{\"line\":{\"color\":\"green\",\"dash\":\"solid\"},\"marker\":{\"color\":\"green\"},\"mode\":\"lines+markers\",\"name\":\"E_j\",\"x\":[0,-0.14644660940672624],\"y\":[0,0.853553390593274],\"z\":[0,0.5000000000000001],\"type\":\"scatter3d\"},{\"line\":{\"color\":\"blue\",\"dash\":\"solid\"},\"marker\":{\"color\":\"blue\"},\"mode\":\"lines+markers\",\"name\":\"E_k\",\"x\":[0,0.853553390593274],\"y\":[0,-0.14644660940672624],\"z\":[0,0.5000000000000001],\"type\":\"scatter3d\"}],\"name\":\"29\"},{\"data\":[{\"line\":{\"color\":\"red\",\"dash\":\"solid\"},\"marker\":{\"color\":\"red\"},\"mode\":\"lines+markers\",\"name\":\"E_i\",\"x\":[0,0.5000000000000001],\"y\":[0,0.5000000000000001],\"z\":[0,-0.7071067811865476],\"type\":\"scatter3d\"},{\"line\":{\"color\":\"green\",\"dash\":\"solid\"},\"marker\":{\"color\":\"green\"},\"mode\":\"lines+markers\",\"name\":\"E_j\",\"x\":[0,-0.14644660940672624],\"y\":[0,0.853553390593274],\"z\":[0,0.5000000000000001],\"type\":\"scatter3d\"},{\"line\":{\"color\":\"blue\",\"dash\":\"solid\"},\"marker\":{\"color\":\"blue\"},\"mode\":\"lines+markers\",\"name\":\"E_k\",\"x\":[0,0.853553390593274],\"y\":[0,-0.14644660940672624],\"z\":[0,0.5000000000000001],\"type\":\"scatter3d\"}],\"name\":\"30\"}]);\n",
       "                        }).then(function(){\n",
       "                            Plotly.animate('06748308-6a28-4929-b6cd-3149cb6cbfda', null);\n",
       "                        }).then(function(){\n",
       "                            \n",
       "var gd = document.getElementById('06748308-6a28-4929-b6cd-3149cb6cbfda');\n",
       "var x = new MutationObserver(function (mutations, observer) {{\n",
       "        var display = window.getComputedStyle(gd).display;\n",
       "        if (!display || display === 'none') {{\n",
       "            console.log([gd, 'removed!']);\n",
       "            Plotly.purge(gd);\n",
       "            observer.disconnect();\n",
       "        }}\n",
       "}});\n",
       "\n",
       "// Listen for the removal of the full notebook cells\n",
       "var notebookContainer = gd.closest('#notebook-container');\n",
       "if (notebookContainer) {{\n",
       "    x.observe(notebookContainer, {childList: true});\n",
       "}}\n",
       "\n",
       "// Listen for the clearing of the current output cell\n",
       "var outputEl = gd.closest('.output');\n",
       "if (outputEl) {{\n",
       "    x.observe(outputEl, {childList: true});\n",
       "}}\n",
       "\n",
       "                        })                };                });            </script>        </div>"
      ]
     },
     "metadata": {},
     "output_type": "display_data"
    }
   ],
   "source": [
    "# Initialize the figure\n",
    "fig = go.Figure()\n",
    "\n",
    "# Initialize the identity matrix for the N-frame\n",
    "N_frame = np.eye(3)\n",
    "\n",
    "# Define a list of tuples containing the vector, its name, and its color for static and initial dynamic display\n",
    "n_vectors = [(N_frame[:, i], f'N_{chr(105+i)}', color) for i, color in enumerate(['red', 'green', 'blue'])]\n",
    "\n",
    "# Adding Static N-frame Vectors\n",
    "for vec, name, color in n_vectors:\n",
    "    fig.add_trace(go.Scatter3d(x=[0, vec[0]], y=[0, vec[1]], z=[0, vec[2]],\n",
    "                               mode='lines+markers', name=name + \" (static)\",\n",
    "                               marker=dict(color=color), line=dict(dash='dot', color=color)))\n",
    "\n",
    "# Adding Initial Dynamic E-frame Vectors\n",
    "for vec, name, color in n_vectors:\n",
    "    fig.add_trace(go.Scatter3d(x=[0, vec[0]], y=[0, vec[1]], z=[0, vec[2]],\n",
    "                               mode='lines+markers', name='E' + name[1:],  # Using 'E' prefix\n",
    "                               marker=dict(color=color), line=dict(dash='solid', color=color)))  # Ensure solid line for dynamic traces\n",
    "\n",
    "# Animation frames\n",
    "frames = []\n",
    "steps = 30\n",
    "target_theta_x_deg, target_theta_y_deg, target_theta_z_deg = 45, 45, 45\n",
    "steps_per_rotation = steps // 3\n",
    "\n",
    "# Animation Frames: Only Update Dynamic E-frame Vectors\n",
    "for frame in range(steps + 1):\n",
    "    # Rotation logic here\n",
    "    # Apply the rotation to the original N-frame basis vectors to get E-frame\n",
    "    E_frame = np.dot(R, N_frame.T)\n",
    "    \n",
    "    # Prepare frame data for the current orientation of the E-frame\n",
    "    frame_data = [go.Scatter3d(x=[0, E_frame[:, i][0]], y=[0, E_frame[:, i][1]], z=[0, E_frame[:, i][2]],\n",
    "                               mode='lines+markers', name=f'E_{chr(105+i)}', \n",
    "                               marker=dict(color=['red', 'green', 'blue'][i]), line=dict(dash='solid', color=['red', 'green', 'blue'][i])) for i in range(3)]\n",
    "    frames.append(go.Frame(data=frame_data, name=str(frame)))\n",
    "\n",
    "# Apply frames to the figure\n",
    "fig.frames = frames\n",
    "\n",
    "# Add a slider and play button\n",
    "fig.update_layout(updatemenus=[dict(type=\"buttons\", \n",
    "                                    showactive=False, \n",
    "                                    y=1.05, x=0.8, \n",
    "                                    xanchor='left', \n",
    "                                    yanchor='bottom',\n",
    "                                    buttons=[dict(label='Play',\n",
    "                                                  method='animate',\n",
    "                                                  args=[None, dict(frame=dict(duration=100, redraw=True), fromcurrent=True, mode='immediate')])])],\n",
    "                  sliders=[dict(steps=[dict(method='animate', \n",
    "                                            args=[[f.name], dict(mode='immediate', frame=dict(duration=100, redraw=True), fromcurrent=True)], label=str(k)) for k, f in enumerate(fig.frames)], \n",
    "                                x=0.1, y=0, \n",
    "                                currentvalue=dict(visible=True, prefix='Step: '))])\n",
    "\n",
    "# Set the layout\n",
    "fig.update_layout(width=1000, \n",
    "                  height=800, \n",
    "                  template='presentation',\n",
    "                  scene=dict(aspectmode='cube', \n",
    "                             xaxis=dict(range=[-1, 1], autorange=False),\n",
    "                             yaxis=dict(range=[-1, 1], autorange=False), \n",
    "                             zaxis=dict(range=[-1, 1], autorange=False)),\n",
    "                  title='321 Rotation Animation')\n",
    "\n",
    "# Show the figure\n",
    "iplot(fig)"
   ]
  },
  {
   "cell_type": "code",
   "execution_count": null,
   "id": "cc8d245f-f957-4156-86a8-851292478a25",
   "metadata": {},
   "outputs": [],
   "source": []
  }
 ],
 "metadata": {
  "kernelspec": {
   "display_name": "Python 3 (ipykernel)",
   "language": "python",
   "name": "python3"
  },
  "language_info": {
   "codemirror_mode": {
    "name": "ipython",
    "version": 3
   },
   "file_extension": ".py",
   "mimetype": "text/x-python",
   "name": "python",
   "nbconvert_exporter": "python",
   "pygments_lexer": "ipython3",
   "version": "3.11.5"
  }
 },
 "nbformat": 4,
 "nbformat_minor": 5
}
