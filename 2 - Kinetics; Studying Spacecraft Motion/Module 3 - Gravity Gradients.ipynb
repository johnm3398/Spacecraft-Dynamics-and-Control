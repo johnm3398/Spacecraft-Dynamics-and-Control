{
 "cells": [
  {
   "cell_type": "markdown",
   "id": "d9fa599b-dd97-4ac9-8a41-23a9cb2bb19d",
   "metadata": {},
   "source": [
    "# Week 3 - Gravity Gradients\n",
    "\n",
    "This week focuses on the influence of **gravity gradients** on the motion of rigid bodies in space. Gravity gradient effects arise due to the differential gravitational force across an extended body. By approximating these effects to the first order, the module examines how they perturb both the attitude and orbital motion of spacecraft. \n",
    "\n",
    "A key outcome of this week is the derivation of gravity gradient relative equilibria conditions. These equilibria are analyzed for stability through linearization techniques, providing insights into how spacecraft orientation naturally evolves in response to Earth's gravity field. \n",
    "\n",
    "Understanding gravity gradients is particularly important for passive stabilization methods, where external forces like gravity are exploited to maintain a desired attitude with minimal control effort.\n",
    "\n",
    "<ins>**Learning Objectives**</ins>\n",
    "\n",
    "- Describe the effect of gravity gradients on the motion of bodies in space\n",
    "- Derive and apply the **gravity gradient torque**\n",
    "- Develop equations of motion for a rigid body with multiple spinning components\n",
    "\n",
    "---"
   ]
  },
  {
   "cell_type": "code",
   "execution_count": null,
   "id": "608661c9-1e68-4479-a045-97016c4c54c9",
   "metadata": {},
   "outputs": [],
   "source": []
  },
  {
   "cell_type": "code",
   "execution_count": null,
   "id": "0baa1d80-f539-473d-8027-06f2d34c654f",
   "metadata": {},
   "outputs": [],
   "source": []
  },
  {
   "cell_type": "code",
   "execution_count": null,
   "id": "a7dde4a7-5f96-460f-a196-85b9b0094687",
   "metadata": {},
   "outputs": [],
   "source": []
  },
  {
   "cell_type": "code",
   "execution_count": null,
   "id": "25249fc7-102a-4a1c-b8fd-1d48e95f341a",
   "metadata": {},
   "outputs": [],
   "source": []
  },
  {
   "cell_type": "code",
   "execution_count": null,
   "id": "b941212f-abe9-42b3-8222-fb7e42d34a00",
   "metadata": {},
   "outputs": [],
   "source": []
  },
  {
   "cell_type": "code",
   "execution_count": null,
   "id": "2fecb077-c326-441d-8568-b6c1297e52c1",
   "metadata": {},
   "outputs": [],
   "source": []
  },
  {
   "cell_type": "code",
   "execution_count": null,
   "id": "fd61085b-51e0-4bb8-92e5-eeb388989399",
   "metadata": {},
   "outputs": [],
   "source": []
  },
  {
   "cell_type": "code",
   "execution_count": null,
   "id": "d46fc958-6ace-4f5f-bc96-5e3013603875",
   "metadata": {},
   "outputs": [],
   "source": []
  },
  {
   "cell_type": "code",
   "execution_count": null,
   "id": "48869d83-6052-4281-a0fb-c9341a3b90c0",
   "metadata": {},
   "outputs": [],
   "source": []
  },
  {
   "cell_type": "code",
   "execution_count": null,
   "id": "f57c64de-a06b-4fca-8bdb-cd6eb9ba351b",
   "metadata": {},
   "outputs": [],
   "source": []
  },
  {
   "cell_type": "code",
   "execution_count": null,
   "id": "af8b485a-116f-4bda-b2b2-f394cca89102",
   "metadata": {},
   "outputs": [],
   "source": []
  }
 ],
 "metadata": {
  "kernelspec": {
   "display_name": "Python 3 (ipykernel)",
   "language": "python",
   "name": "python3"
  },
  "language_info": {
   "codemirror_mode": {
    "name": "ipython",
    "version": 3
   },
   "file_extension": ".py",
   "mimetype": "text/x-python",
   "name": "python",
   "nbconvert_exporter": "python",
   "pygments_lexer": "ipython3",
   "version": "3.11.9"
  }
 },
 "nbformat": 4,
 "nbformat_minor": 5
}
