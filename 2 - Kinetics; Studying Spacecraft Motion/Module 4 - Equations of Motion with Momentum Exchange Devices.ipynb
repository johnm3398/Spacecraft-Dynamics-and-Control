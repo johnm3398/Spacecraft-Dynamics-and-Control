{
 "cells": [
  {
   "cell_type": "markdown",
   "id": "54ca1ba3-647f-4bd5-9c39-573118ab0ddc",
   "metadata": {},
   "source": [
    "# Week 4 - Equations of Motion with Momentum Exchange Devices\n",
    "\n",
    "This module delves into the **equations of motion for rigid bodies** equipped with general momentum exchange devices. These devices play a pivotal role in attitude control systems for spacecraft. The development starts with the most general type—**variable speed control moment gyros (VSCMGs)**—and then progresses to specialized devices such as **single-gimbal control moment gyros (CMGs)** and **reaction wheels (RWs)**.\n",
    "\n",
    "By comparing these devices, we gain insights into how motor torques and gyroscopic dynamics generate control torques on the spacecraft, influencing its attitude. Understanding the dynamic interaction between these devices and the spacecraft body is essential for designing efficient and reliable attitude control systems.\n",
    "\n",
    "<ins>**Learning Objectives**</ins>\n",
    "\n",
    "- Derive equations of motion for rigid bodies with general momentum exchange devices\n",
    "- Compare the effects of **reaction wheels**, **single-gimbal control moment gyros**, and **variable speed CMG devices** on equations of motion\n",
    "- Illustrate how **motor torques** and **device gyroscopic dynamics** translate into control torques on the spacecraft\n",
    "\n",
    "---"
   ]
  },
  {
   "cell_type": "code",
   "execution_count": null,
   "id": "f0241207-939b-4d99-a688-e35de68702b6",
   "metadata": {},
   "outputs": [],
   "source": []
  },
  {
   "cell_type": "code",
   "execution_count": null,
   "id": "0dd730cb-33a0-49ef-8023-04dcf13d7d85",
   "metadata": {},
   "outputs": [],
   "source": []
  },
  {
   "cell_type": "code",
   "execution_count": null,
   "id": "c35cd132-7d44-4580-832d-0420c1ef02e6",
   "metadata": {},
   "outputs": [],
   "source": []
  },
  {
   "cell_type": "code",
   "execution_count": null,
   "id": "7f15b77c-49db-4888-a43c-54bbb2827766",
   "metadata": {},
   "outputs": [],
   "source": []
  },
  {
   "cell_type": "code",
   "execution_count": null,
   "id": "48fbe76b-d055-4237-9d08-d8dd59138733",
   "metadata": {},
   "outputs": [],
   "source": []
  },
  {
   "cell_type": "code",
   "execution_count": null,
   "id": "a72d34be-568c-42db-8cc6-359eaadf5386",
   "metadata": {},
   "outputs": [],
   "source": []
  },
  {
   "cell_type": "code",
   "execution_count": null,
   "id": "eb43a17e-0796-4bc1-a1aa-4c46e7dbbc1f",
   "metadata": {},
   "outputs": [],
   "source": []
  },
  {
   "cell_type": "code",
   "execution_count": null,
   "id": "857ed49d-2cb4-4359-b6e2-33de180a0574",
   "metadata": {},
   "outputs": [],
   "source": []
  },
  {
   "cell_type": "code",
   "execution_count": null,
   "id": "aa1f4daf-1207-4b5b-aabf-69338ed72d06",
   "metadata": {},
   "outputs": [],
   "source": []
  },
  {
   "cell_type": "code",
   "execution_count": null,
   "id": "9c010c83-6dd6-42e0-9504-563d98949cff",
   "metadata": {},
   "outputs": [],
   "source": []
  }
 ],
 "metadata": {
  "kernelspec": {
   "display_name": "Python 3 (ipykernel)",
   "language": "python",
   "name": "python3"
  },
  "language_info": {
   "codemirror_mode": {
    "name": "ipython",
    "version": 3
   },
   "file_extension": ".py",
   "mimetype": "text/x-python",
   "name": "python",
   "nbconvert_exporter": "python",
   "pygments_lexer": "ipython3",
   "version": "3.11.9"
  }
 },
 "nbformat": 4,
 "nbformat_minor": 5
}
