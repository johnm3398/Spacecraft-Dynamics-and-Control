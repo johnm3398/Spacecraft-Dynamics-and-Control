{
 "cells": [
  {
   "cell_type": "markdown",
   "id": "54ca1ba3-647f-4bd5-9c39-573118ab0ddc",
   "metadata": {},
   "source": [
    "# Week 4 - Equations of Motion with Momentum Exchange Devices\n",
    "\n",
    "This module delves into the **equations of motion for rigid bodies** equipped with general momentum exchange devices. These devices play a pivotal role in attitude control systems for spacecraft. The development starts with the most general type—**variable speed control moment gyros (VSCMGs)**—and then progresses to specialized devices such as **single-gimbal control moment gyros (CMGs)** and **reaction wheels (RWs)**.\n",
    "\n",
    "By comparing these devices, we gain insights into how motor torques and gyroscopic dynamics generate control torques on the spacecraft, influencing its attitude. Understanding the dynamic interaction between these devices and the spacecraft body is essential for designing efficient and reliable attitude control systems.\n",
    "\n",
    "<ins>**Learning Objectives**</ins>\n",
    "\n",
    "- Derive equations of motion for rigid bodies with general momentum exchange devices\n",
    "- Compare the effects of **reaction wheels**, **single-gimbal control moment gyros**, and **Variable Speed CMG (VSCMG)** on equations of motion\n",
    "- Illustrate how **motor torques** and **device gyroscopic dynamics** translate into control torques on the spacecraft\n",
    "\n",
    "---"
   ]
  },
  {
   "cell_type": "markdown",
   "id": "90ee4918-761a-4eba-bcd5-e3ef19741d01",
   "metadata": {},
   "source": [
    "# 4.1) Introduction to Momentum Exchange Devices"
   ]
  },
  {
   "cell_type": "markdown",
   "id": "1b55b3da-05e2-4c8d-9da1-d20cf6c591d2",
   "metadata": {},
   "source": [
    "**<ins>Definition</ins>**  \n",
    "Internal rotating masses (reaction wheels, CMGs) used to apply fine torques to a spacecraft without expending propellant.\n",
    "\n",
    "**<ins>Device Types</ins>**  \n",
    "  - **Reaction Wheels**: Fixed‐axis spinning discs.\n",
    "  - **Control Moment Gyroscopes (CMGs)**: High‐speed rotors on gimbals.\n",
    "\n",
    "**<ins>Key Benefits</ins>**  \n",
    "- **No Propellant**: Runs indefinitely on electrical power (solar panels or RTGs)\n",
    "- **High Control Bandwidth**: Infinitely smooth torque via voltage‐controlled motors\n",
    "- **Fine‐Pointing Precision**: Essential for missions like Kepler’s ultra‐stable stare\n",
    "- **Mechanical Simplicity & Robustness**: Few moving parts; easy to cross‐strap for redundancy\n",
    "\n",
    "**<ins>Deep‐Space Operations?</ins>**  \n",
    "  RTGs can power wheels where solar panels aren’t viable (e.g. New Horizons).\n",
    "\n",
    "**<ins>Primary Challenges</ins>**  \n",
    "1. **Momentum Saturation**: Wheel speeds grow under persistent external torques and must be desaturated\n",
    "2. **Zero‐Crossing & Stiction**: Bearings may stick near $\\omega\\!=\\!0$, causing torque ripple (modern wheels largely mitigate this)\n",
    "3. **Structural Imbalance & Vibration**: Even slight rotor imbalance induces jitter at spin frequency\n",
    "4. **Thermal & Mechanical Limits**: Continuous operation heats electronics; rotor containment needed in failure\n",
    "\n",
    "---"
   ]
  },
  {
   "cell_type": "markdown",
   "id": "283ebccb-f0cb-434e-b11f-838a4a23ec62",
   "metadata": {},
   "source": [
    "# 4.2) VSCMG EOM Development"
   ]
  },
  {
   "cell_type": "code",
   "execution_count": null,
   "id": "eb43a17e-0796-4bc1-a1aa-4c46e7dbbc1f",
   "metadata": {},
   "outputs": [],
   "source": []
  },
  {
   "cell_type": "code",
   "execution_count": null,
   "id": "857ed49d-2cb4-4359-b6e2-33de180a0574",
   "metadata": {},
   "outputs": [],
   "source": []
  },
  {
   "cell_type": "code",
   "execution_count": null,
   "id": "aa1f4daf-1207-4b5b-aabf-69338ed72d06",
   "metadata": {},
   "outputs": [],
   "source": []
  },
  {
   "cell_type": "code",
   "execution_count": null,
   "id": "9c010c83-6dd6-42e0-9504-563d98949cff",
   "metadata": {},
   "outputs": [],
   "source": []
  }
 ],
 "metadata": {
  "kernelspec": {
   "display_name": "Python 3 (ipykernel)",
   "language": "python",
   "name": "python3"
  },
  "language_info": {
   "codemirror_mode": {
    "name": "ipython",
    "version": 3
   },
   "file_extension": ".py",
   "mimetype": "text/x-python",
   "name": "python",
   "nbconvert_exporter": "python",
   "pygments_lexer": "ipython3",
   "version": "3.11.9"
  }
 },
 "nbformat": 4,
 "nbformat_minor": 5
}
