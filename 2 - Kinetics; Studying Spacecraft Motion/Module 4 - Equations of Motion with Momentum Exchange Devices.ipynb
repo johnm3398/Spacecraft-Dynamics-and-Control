{
 "cells": [
  {
   "cell_type": "markdown",
   "id": "54ca1ba3-647f-4bd5-9c39-573118ab0ddc",
   "metadata": {},
   "source": [
    "# Week 4 - Equations of Motion with Momentum Exchange Devices\n",
    "\n",
    "This module delves into the **equations of motion for rigid bodies** equipped with general momentum exchange devices. These devices play a pivotal role in attitude control systems for spacecraft. The development starts with the most general type—**variable speed control moment gyros (VSCMGs)**—and then progresses to specialized devices such as **single-gimbal control moment gyros (CMGs)** and **reaction wheels (RWs)**.\n",
    "\n",
    "By comparing these devices, we gain insights into how motor torques and gyroscopic dynamics generate control torques on the spacecraft, influencing its attitude. Understanding the dynamic interaction between these devices and the spacecraft body is essential for designing efficient and reliable attitude control systems.\n",
    "\n",
    "<ins>**Learning Objectives**</ins>\n",
    "\n",
    "- Derive equations of motion for rigid bodies with general momentum exchange devices\n",
    "- Compare the effects of **reaction wheels**, **single-gimbal control moment gyros**, and **Variable Speed CMG (VSCMG)** on equations of motion\n",
    "- Illustrate how **motor torques** and **device gyroscopic dynamics** translate into control torques on the spacecraft\n",
    "\n",
    "---"
   ]
  },
  {
   "cell_type": "markdown",
   "id": "90ee4918-761a-4eba-bcd5-e3ef19741d01",
   "metadata": {},
   "source": [
    "# 4.1) Introduction to Momentum Exchange Devices"
   ]
  },
  {
   "cell_type": "markdown",
   "id": "1b55b3da-05e2-4c8d-9da1-d20cf6c591d2",
   "metadata": {},
   "source": [
    "**<ins>Definition</ins>**  \n",
    "Internal rotating masses (reaction wheels, CMGs) used to apply fine torques to a spacecraft without expending propellant.\n",
    "\n",
    "**<ins>Device Types</ins>**  \n",
    "  - **Reaction Wheels**: Fixed‐axis spinning discs.\n",
    "  - **Control Moment Gyroscopes (CMGs)**: High‐speed rotors on gimbals.\n",
    "\n",
    "**<ins>Key Benefits</ins>**  \n",
    "- **No Propellant**: Runs indefinitely on electrical power (solar panels or RTGs)\n",
    "- **High Control Bandwidth**: Infinitely smooth torque via voltage‐controlled motors\n",
    "- **Fine‐Pointing Precision**: Essential for missions like Kepler’s ultra‐stable stare\n",
    "- **Mechanical Simplicity & Robustness**: Few moving parts; easy to cross‐strap for redundancy\n",
    "\n",
    "**<ins>Deep‐Space Operations?</ins>**  \n",
    "  RTGs can power wheels where solar panels aren’t viable (e.g. New Horizons).\n",
    "\n",
    "**<ins>Primary Challenges</ins>**  \n",
    "1. **Momentum Saturation**: Wheel speeds grow under persistent external torques and must be desaturated\n",
    "2. **Zero‐Crossing & Stiction**: Bearings may stick near $\\omega\\!=\\!0$, causing torque ripple (modern wheels largely mitigate this)\n",
    "3. **Structural Imbalance & Vibration**: Even slight rotor imbalance induces jitter at spin frequency\n",
    "4. **Thermal & Mechanical Limits**: Continuous operation heats electronics; rotor containment needed in failure\n",
    "\n",
    "---"
   ]
  },
  {
   "cell_type": "markdown",
   "id": "283ebccb-f0cb-434e-b11f-838a4a23ec62",
   "metadata": {},
   "source": [
    "# 4.2) VSCMG EOM Development"
   ]
  },
  {
   "cell_type": "markdown",
   "id": "7b809c3c-ed0f-4e58-9779-10041ead17b9",
   "metadata": {},
   "source": [
    "<u>**Variable-Speed CMG (VSCMG)**</u>  \n",
    "A VSCMG is essentially a classic CMG whose rotor spin rate is not fixed but is actively controlled.  \n",
    "- **Hybrid CMG/RW**: Because both the gimbal rate and the wheel speed can be modulated, a single device can act like a reaction wheel (by changing spin speed) or like a CMG (by changing gimbal angle).\n",
    "\n",
    "<u>**Avoiding CMG Singularities**</u>  \n",
    "In a traditional CMG cluster, there are “singular” gimbal configurations where the CMG Jacobian (the mapping from gimbal rates to body torques) becomes rank-deficient.  \n",
    "- **Singularity condition**:  \n",
    "  $$\n",
    "  \\det\\bigl([\\,\\hat g_i \\times \\mathbf H_i\\,]\\bigr) = 0\n",
    "  $$  \n",
    "  where each row is the cross-product of the gimbal axis unit vector $\\hat g_i$ and the wheel angular-momentum vector $\\mathbf H_i$. Physically, this happens when all gimbal axes (or momentum vectors) lie in a common plane, so you lose the ability to generate torque about one axis.  \n",
    "- **VSCMG fix**: By also varying the rotor speed, the effective $\\mathbf H_i$ vectors no longer remain coplanar at a singular gimbal angle, so the Jacobian retains full rank and you never hit an uncontrollable configuration.\n",
    "\n",
    "<u>**Built-In Redundancy**</u>  \n",
    "Each device can perform two roles (CMG or RW) and, in a multi-unit array, you can reconfigure control allocation if one unit fails.  \n",
    "- If a gimbal actuator fails, you can still use the wheel as a RW.  \n",
    "- If a wheel motor fails, you can still torque via gimbal motion (albeit with fixed $|\\mathbf H|$), or shift tasks to the remaining units.  \n",
    "This dual-mode capability makes the overall attitude control system more robust to single-point failures.\n",
    "\n",
    "<u>**Power Storage & Attitude Control**</u>  \n",
    "Since the wheel’s kinetic energy  \n",
    "$$\n",
    "K = \\tfrac12 I_w\\,\\omega_w^2\n",
    "$$  \n",
    "can be varied, a VSCMG can double as a **flywheel energy storage system**.  \n",
    "- During peak power demand, kinetic energy is dumped back to the bus by slowing the wheel.  \n",
    "- During low-load periods, the wheel is spun up again.  \n",
    "This integrated approach reduces mass and complexity compared to separate batteries, reaction wheels, and CMGs.\n",
    "\n",
    "> *Key takeaway*: VSCMGs merge the best of reaction wheels and CMGs—adding spin-rate control removes gimbal singularities and gives built-in redundancy, while also enabling hybrid power storage.*"
   ]
  },
  {
   "cell_type": "markdown",
   "id": "6fe6f04e-5200-4800-ade3-0fdef8533b33",
   "metadata": {},
   "source": [
    "<u>**Battle Plan**</u>  \n",
    "- **Recall Euler’s equation**  \n",
    "  $$\n",
    "  \\dot{\\mathbf H} = \\mathbf L\n",
    "  $$  \n",
    "  This fundamental relation links the time‐rate of change of angular momentum to the net external torque.\n",
    "\n",
    "- **Total angular momentum,** $\\mathbf H_{\\rm tot}$  \n",
    "  We must express  \n",
    "  $$\n",
    "  \\mathbf H_{\\rm tot} = \\mathbf H_{\\rm sc} + \\mathbf H_{\\rm cmg} + \\mathbf H_{\\rm rw}\n",
    "  $$  \n",
    "  where  \n",
    "  - $\\mathbf H_{\\rm sc}$ = spacecraft body‐momentum  \n",
    "  - $\\mathbf H_{\\rm cmg}$ = CMG gimbal‐generated momentum  \n",
    "  - $\\mathbf H_{\\rm rw}$ = reaction‐wheel momentum  \n",
    "  \n",
    "  Differentiating this sum yields the full EOM.\n",
    "\n",
    "- **Algebraic manageability**  \n",
    "  Break the derivation into three parts:  \n",
    "  1. **Spacecraft body**: use $I_{\\rm B}\\,\\dot{\\boldsymbol\\omega}_{\\rm B} + \\boldsymbol\\omega_{\\rm B}\\times(I_{\\rm B}\\,\\boldsymbol\\omega_{\\rm B})$  \n",
    "  2. **CMG momentum**: account for gimbal‐rate kinematics  \n",
    "  3. **RW momentum**: use $I_w\\,\\dot\\omega_w$\n",
    "  \n",
    "  Combining the differentiated components gives the VSCMG EOM in compact form."
   ]
  },
  {
   "cell_type": "markdown",
   "id": "9f4ebb28-11d8-4334-a0b5-d83421211eb6",
   "metadata": {},
   "source": [
    "<u>**VSCMG Frame Notation**</u>  \n",
    "\n",
    "<img src=\"Images/VSCMG_Frame.PNG\" alt=\"VSCMG Frame\" width=\"485\" align=\"left\" style=\"margin-right: 20px;\"/>\n",
    "\n",
    "- <u>**Spin axis**</u> ($\\hat g_s$)  \n",
    "  Unit vector along the wheel’s rotation axis.\n",
    "\n",
    "- <u>**Gimbal axis**</u> ($\\hat g_g$)  \n",
    "  Unit vector about which the wheel frame is reoriented at rate $\\dot\\gamma(t)$.\n",
    "\n",
    "- <u>**Transverse axis**</u> ($\\hat g_t$)  \n",
    "  Completes the right‐hand triad:  \n",
    "  $$\n",
    "  \\hat g_t = \\hat g_g \\times \\hat g_s\n",
    "  $$\n",
    "\n",
    "- <u>**Disk spin rate**</u> ($\\Omega(t)$)  \n",
    "  Instantaneous angular velocity of the rotor about $\\hat g_s$.\n",
    "\n",
    "- <u>**Gimbal rate**</u> ($\\dot\\gamma(t)$)  \n",
    "  Angular velocity of the gimbal frame about $\\hat g_g$.\n",
    "\n",
    "- <u>**Gimbal coordinate frame**</u>  \n",
    "  $$\n",
    "  \\mathcal{G} = \\{\\;\\hat g_s,\\;\\hat g_t,\\;\\hat g_g\\;\\}\n",
    "  $$  \n",
    "  Basis in which both spin and gimbal motions are described.\n",
    "\n",
    "- The gimbal axis **$\\hat g_g$** is fixed in the spacecraft body frame **B**.\n",
    "\n",
    "- **Gimbal frame** **$\\mathcal{G}$** rotates about **$\\hat g_g$** with angular velocity  \n",
    "  $$\n",
    "  \\boldsymbol \\omega_{G/B} = \\dot\\gamma\\,\\hat g_g\n",
    "  $$\n",
    "\n",
    "<u>**Reaction-Wheel Tracking Frame**</u>  \n",
    "\n",
    "- Define frame **$\\mathcal{W}$** that follows the wheel motion:  \n",
    "  $$\n",
    "  \\mathcal{W} = \\{\\;\\hat g_s,\\;\\hat \\omega_t,\\;\\hat \\omega_g\\;\\}\n",
    "  $$  \n",
    "  where  \n",
    "  - **$\\hat g_s$** = spin axis (same as before)  \n",
    "  - **$\\hat \\omega_t$**, **$\\hat \\omega_g$** = instantaneous transverse & gimbal directions in the wheel frame  \n",
    "\n",
    "- The wheel frame spins relative to **$\\mathcal{G}$** at rate **$\\Omega(t)$**, so  \n",
    "  $$\n",
    "  \\boldsymbol \\omega_{W/G} = \\Omega\\,\\hat g_s\n",
    "  $$"
   ]
  },
  {
   "cell_type": "code",
   "execution_count": null,
   "id": "f8dcee29-e8d5-449f-b096-28904711da3b",
   "metadata": {},
   "outputs": [],
   "source": []
  },
  {
   "cell_type": "code",
   "execution_count": null,
   "id": "f860292a-27b9-4145-9023-36475883ffcc",
   "metadata": {},
   "outputs": [],
   "source": []
  },
  {
   "cell_type": "code",
   "execution_count": null,
   "id": "e0243d8b-302c-46c7-b8ba-8c6837d4ef94",
   "metadata": {},
   "outputs": [],
   "source": []
  },
  {
   "cell_type": "code",
   "execution_count": null,
   "id": "9cf3fbfe-b6d8-4ad6-bf2d-7df717025ff1",
   "metadata": {},
   "outputs": [],
   "source": []
  },
  {
   "cell_type": "code",
   "execution_count": null,
   "id": "e2546980-65fa-416f-84bc-558c805c6530",
   "metadata": {},
   "outputs": [],
   "source": []
  },
  {
   "cell_type": "code",
   "execution_count": null,
   "id": "9e77d5e6-38f2-47db-ba84-8db455aafe05",
   "metadata": {},
   "outputs": [],
   "source": []
  },
  {
   "cell_type": "code",
   "execution_count": null,
   "id": "d5bb9ebf-9a0b-4d8f-8a6f-efa0ae4ea0ba",
   "metadata": {},
   "outputs": [],
   "source": []
  }
 ],
 "metadata": {
  "kernelspec": {
   "display_name": "Python 3 (ipykernel)",
   "language": "python",
   "name": "python3"
  },
  "language_info": {
   "codemirror_mode": {
    "name": "ipython",
    "version": 3
   },
   "file_extension": ".py",
   "mimetype": "text/x-python",
   "name": "python",
   "nbconvert_exporter": "python",
   "pygments_lexer": "ipython3",
   "version": "3.11.9"
  }
 },
 "nbformat": 4,
 "nbformat_minor": 5
}
