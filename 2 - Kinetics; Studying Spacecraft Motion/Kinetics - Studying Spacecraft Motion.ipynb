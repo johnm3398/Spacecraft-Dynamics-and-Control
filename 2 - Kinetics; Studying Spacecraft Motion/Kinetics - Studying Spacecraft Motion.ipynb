{
 "cells": [
  {
   "cell_type": "markdown",
   "id": "ef9adec1-f098-41a4-9870-32872fe3a743",
   "metadata": {},
   "source": [
    "# Kinetics: Studying Spacecraft Motion\n",
    "\n",
    "- This notebook is meant to complement \"Kinetics: Studying Spacecraft Motion\" course on Coursera\n",
    "- "
   ]
  },
  {
   "cell_type": "code",
   "execution_count": 1,
   "id": "5aa5c43c-ff02-451b-8b9a-cfec7bd31f8d",
   "metadata": {},
   "outputs": [],
   "source": [
    "# Import Relevant Libraries\n",
    "import numpy as np\n",
    "\n",
    "import matplotlib.pyplot as plt\n",
    "\n",
    "import plotly.graph_objects as go\n",
    "from plotly.offline import init_notebook_mode, iplot"
   ]
  },
  {
   "cell_type": "markdown",
   "id": "e9c022f5-702b-411f-992e-69dd08f2592e",
   "metadata": {},
   "source": [
    "\n",
    "- Numpy:\n",
    "- Matplotlib\n",
    "- Plotly\n",
    "- Sympy\n",
    "\n",
    "---"
   ]
  },
  {
   "cell_type": "markdown",
   "id": "97b941f5-9e7c-4c3a-92d2-1439905231d3",
   "metadata": {},
   "source": [
    "# Week 1 - Continuous Systems and Rigid Bodies\n",
    "1. Objectives\n",
    "2. Continuous Systems\n",
    "3. Rigid Bodies"
   ]
  },
  {
   "cell_type": "markdown",
   "id": "23a14b31-924a-471c-beb1-bd36d5ffde94",
   "metadata": {},
   "source": [
    "## 1.1) Objectives for Week 1\n",
    "\n",
    "We develop the equations of motion using the foundational principles of classical mechanics. Our focus is on understanding the angular momentum and kinetic energy of rigid bodies, and we present these concepts in a way that doesn't rely on a specific coordinate system. We begin by considering flexible shapes (continuous systems) and then transition to treating them as rigid objects, which simplifies the associated equations. This approach ensures a thorough and accessible understanding of the mechanics involved.\n",
    "\n",
    "- Derive from basic angular momentum formulation the rotational equations of motion\r",
    "- \n",
    "Develop equations of motion for a rigid body with multiple spinning components- \r\n",
    "Describe the motion of continuous systems and rigid bodis\n"
   ]
  },
  {
   "cell_type": "markdown",
   "id": "53427f5c-ff4f-4f76-8bb5-5708d9970dc3",
   "metadata": {},
   "source": [
    "## 1.2) Continuous Systems"
   ]
  },
  {
   "cell_type": "markdown",
   "id": "feaa96cb-bdca-4939-a4f1-cbba7655e2cd",
   "metadata": {},
   "source": [
    "### <ins>Newton’s Second Law</ins>\n",
    "Newton's second law relates the force acting on a system to the mass and acceleration of its center of mass:\n",
    "$$\n",
    "M \\ddot{\\mathbf{R}}_c = \\mathbf{F}\n",
    "$$\n",
    "where:\n",
    "- $M$ is the total mass of the system.\n",
    "- $\\ddot{\\mathbf{R}}_c$ is the acceleration of the center of mass.\n",
    "- $\\mathbf{F}$ is the total force acting on the system.\n",
    "\n",
    "### <ins>Total Force Acting on System</ins>\n",
    "The total force acting on a system can be expressed as the integral of the differential forces over the system's boundary $B$:\n",
    "$$\n",
    "\\mathbf{F} = \\int_B \\mathbf{dF}\n",
    "$$\n",
    "\n",
    "### <ins>Center of Mass</ins>\n",
    "The center of mass $\\mathbf{R}_c$ of the system is given by:\n",
    "$$\n",
    "\\mathbf{R}_c = \\frac{1}{M} \\int_B \\mathbf{R} \\, dm\n",
    "$$\n",
    "where:\n",
    "- $\\mathbf{R}$ is the position vector of the differential mass element $dm$."
   ]
  },
  {
   "cell_type": "code",
   "execution_count": 2,
   "id": "c497790b-d0b2-43af-8106-ca8c4bb08684",
   "metadata": {},
   "outputs": [
    {
     "name": "stdout",
     "output_type": "stream",
     "text": [
      "125.0\n"
     ]
    }
   ],
   "source": [
    "# Concept Check 1, Question 2\n",
    "# Given values\n",
    "a = 10  # acceleration in m/s^2\n",
    "t = 5   # time in seconds\n",
    "\n",
    "# Calculate the distance\n",
    "d = 0.5 * a * t**2\n",
    "\n",
    "# Print the result\n",
    "print(d)"
   ]
  },
  {
   "cell_type": "markdown",
   "id": "35cacef0-2390-4d38-9446-a91dd2a77908",
   "metadata": {},
   "source": [
    "### <ins>Total Kinetic Energy</ins>\n",
    "The total kinetic energy $T$ of a system is the sum of the kinetic energy of the center of mass and the kinetic energy due to internal motions:\n",
    "$$\n",
    "T = \\frac{1}{2} M \\dot{\\mathbf{R}}_c \\cdot \\dot{\\mathbf{R}}_c + \\frac{1}{2} \\int_B \\dot{\\mathbf{r}} \\cdot \\dot{\\mathbf{r}} \\, dm\n",
    "$$\n",
    "where:\n",
    "- $\\dot{\\mathbf{R}}_c$ is the velocity of the center of mass.\n",
    "- $\\dot{\\mathbf{r}}$ is the velocity of the differential mass element $dm$ relative to the center of mass.\n",
    "\n",
    "### <ins>Energy of Center of Mass</ins>\n",
    "The kinetic energy of the center of mass is:\n",
    "$$\n",
    "T_{\\text{CM}} = \\frac{1}{2} M \\dot{\\mathbf{R}}_c \\cdot \\dot{\\mathbf{R}}_c\n",
    "$$\n",
    "\n",
    "### <ins>Rate of Change of Kinetic Energy</ins>\n",
    "The work-energy principle states that the change in kinetic energy is equal to the work done by the forces acting on the system:\n",
    "$$\n",
    "\\frac{dT}{dt} = M \\ddot{\\mathbf{R}}_c \\cdot \\dot{\\mathbf{R}}_c + \\int_B \\dot{\\mathbf{r}} \\cdot \\ddot{\\mathbf{r}} \\, dm\n",
    "$$\n",
    "where:\n",
    "- $\\frac{dT}{dt}$ is the rate of change of kinetic energy.\n",
    "- $\\ddot{\\mathbf{R}}_c$ and $\\ddot{\\mathbf{r}}$ are the accelerations of the center of mass and the differential mass element, respectively."
   ]
  },
  {
   "cell_type": "code",
   "execution_count": 6,
   "id": "87fbba53-69f7-4177-a8bb-3a4b35ef915a",
   "metadata": {},
   "outputs": [
    {
     "name": "stdout",
     "output_type": "stream",
     "text": [
      "Translational Kinetic Energy: 7.0 Joules\n",
      "Rotational and Deformation Kinetic Energy: 12.0 Joules\n"
     ]
    }
   ],
   "source": [
    "# Concept Check 2, Question 2\n",
    "\n",
    "# Define the masses of the particles (in Kg)\n",
    "masses = np.array([1, 1, 2, 2])\n",
    "\n",
    "# Define the position vectors of the particles\n",
    "positions = np.array([[1, -1, 2],\n",
    "                      [-1, -3, 2],\n",
    "                      [2, -1, -1],\n",
    "                      [3, -1, -2]])\n",
    "\n",
    "# Define the velocity vectors of the particles\n",
    "velocities = np.array([[2, 1, 1],\n",
    "                       [0, -1, 1],\n",
    "                       [3, 2, -1],\n",
    "                       [0, 0, 1]])\n",
    "\n",
    "# Calculate total mass\n",
    "total_mass = np.sum(masses)\n",
    "\n",
    "# Calculate center of mass\n",
    "R_COM = np.sum(positions.T * masses, axis=1) / total_mass\n",
    "V_COM = np.sum(velocities.T * masses, axis=1) / total_mass\n",
    "\n",
    "# Calculate translational kinetic energy\n",
    "translational_ke = 0.5 * total_mass * np.dot(V_COM, V_COM)\n",
    "\n",
    "# Calculate rotational kinetic energy\n",
    "rotational_ke = 0\n",
    "for i in range(len(masses)):\n",
    "    relative_velocity = velocities[i] - V_COM\n",
    "    rotational_ke += 0.5 * masses[i] * np.dot(relative_velocity, relative_velocity)\n",
    "\n",
    "\n",
    "# Print the results\n",
    "print(\"Translational Kinetic Energy:\", translational_ke, \"Joules\")\n",
    "print(\"Rotational and Deformation Kinetic Energy:\", rotational_ke, \"Joules\")\n"
   ]
  },
  {
   "cell_type": "markdown",
   "id": "d0335b24-99a1-48b1-aed7-e1ef3bf9b182",
   "metadata": {},
   "source": [
    "### <ins>Linear Momentum</ins>\n",
    "The linear momentum $\\mathbf{p}$ of a system is the product of its mass and the velocity of its center of mass:\n",
    "$$\n",
    "\\mathbf{p} = \\int_B \\mathbf{v} \\, dm = M \\dot{\\mathbf{R}}_c\n",
    "$$\n",
    "where:\n",
    "- $\\mathbf{v}$ is the velocity vector of the differential mass element $dm$.\n",
    "\n",
    "### <ins>Rate of change of Linear Momentum</ins>\n",
    "The rate of change of linear momentum is equal to the total force acting on the system:\n",
    "$$\n",
    "\\dot{\\mathbf{p}} = \\mathbf{F}\n",
    "$$"
   ]
  },
  {
   "cell_type": "markdown",
   "id": "b3aa16cc-4d11-4afe-90ea-fb1762c0beae",
   "metadata": {},
   "source": [
    "### <ins>Angular Momentum</ins>\n",
    "The angular momentum $\\mathbf{H}_P$ about a point $P$ is given by:\n",
    "$$\n",
    "\\mathbf{H}_P = \\int_B \\mathbf{r}_{i/P} \\times \\mathbf{p}_i \\, dm\n",
    "$$\n",
    "where:\n",
    "- $\\mathbf{r}_{i/P}$ is the position vector of the differential mass element $dm$ relative to point $P$.\n",
    "- $\\mathbf{p}_i$ is the linear momentum of the differential mass element $dm$.\n",
    "\n",
    "### <ins>Rate of Change of Angular Momentum</ins>\n",
    "The rate of change of angular momentum about a point $P$ is equal to the torque $\\mathbf{L}_P$ about that point:\n",
    "$$\n",
    "\\dot{\\mathbf{H}}_P = \\mathbf{L}_P\n",
    "$$"
   ]
  },
  {
   "cell_type": "code",
   "execution_count": null,
   "id": "b7f1f0d6-3c00-4953-84dc-f836937f18cc",
   "metadata": {},
   "outputs": [],
   "source": []
  },
  {
   "cell_type": "code",
   "execution_count": null,
   "id": "13f0c77c-0e35-441c-a55c-2b72329ef547",
   "metadata": {},
   "outputs": [],
   "source": []
  },
  {
   "cell_type": "code",
   "execution_count": null,
   "id": "4520f9a6-e230-4147-beff-8a8ec9030e9f",
   "metadata": {},
   "outputs": [],
   "source": []
  },
  {
   "cell_type": "markdown",
   "id": "bce8ffb6-a111-4ba7-a677-27996c8b0ffa",
   "metadata": {},
   "source": [
    "# Week 2 - Torque Free Motion\n",
    "1. Objectives\n",
    "2. Torque Free Single Rigid Body\n",
    "3. Torque Free Dual Spinners"
   ]
  },
  {
   "cell_type": "code",
   "execution_count": null,
   "id": "fd3e667b-3190-4edb-a284-ea14d9f4529d",
   "metadata": {},
   "outputs": [],
   "source": []
  },
  {
   "cell_type": "code",
   "execution_count": null,
   "id": "7d91f254-208a-40dc-a5d5-369ae44abee2",
   "metadata": {},
   "outputs": [],
   "source": []
  },
  {
   "cell_type": "code",
   "execution_count": null,
   "id": "f6e9ae20-4306-4bde-abe7-055e739ceed1",
   "metadata": {},
   "outputs": [],
   "source": []
  },
  {
   "cell_type": "code",
   "execution_count": null,
   "id": "df7c0a24-5ff2-4787-9c6e-3e75f14b0ccf",
   "metadata": {},
   "outputs": [],
   "source": []
  },
  {
   "cell_type": "code",
   "execution_count": null,
   "id": "3ee34463-ba7b-46f6-a097-e9a9962c9fe7",
   "metadata": {},
   "outputs": [],
   "source": []
  },
  {
   "cell_type": "markdown",
   "id": "b8660807-bb45-4e66-9f30-cb365be53327",
   "metadata": {},
   "source": [
    "# Week 3 - Gravity Gradients\n",
    "1. Objectives\n",
    "2. Gravity Gradient Notes"
   ]
  },
  {
   "cell_type": "code",
   "execution_count": null,
   "id": "f30ae5a9-853e-4a82-817d-afc8e185b393",
   "metadata": {},
   "outputs": [],
   "source": []
  },
  {
   "cell_type": "code",
   "execution_count": null,
   "id": "aff49066-d898-4b3c-a048-011ead6f5b79",
   "metadata": {},
   "outputs": [],
   "source": []
  },
  {
   "cell_type": "code",
   "execution_count": null,
   "id": "73ac9a2b-3568-4a34-a81f-bafd0f720c85",
   "metadata": {},
   "outputs": [],
   "source": []
  },
  {
   "cell_type": "code",
   "execution_count": null,
   "id": "52a0904b-cfb0-4445-966c-3fa0c6dad8bf",
   "metadata": {},
   "outputs": [],
   "source": []
  },
  {
   "cell_type": "code",
   "execution_count": null,
   "id": "84815d44-be75-4e77-91c1-5b150ba8d889",
   "metadata": {},
   "outputs": [],
   "source": []
  },
  {
   "cell_type": "markdown",
   "id": "6bbaa6ec-b109-4933-ba71-98a1b1ac4c16",
   "metadata": {},
   "source": [
    "# Week 4 - Equations of Motion (EOM) with Momentum Exchange Devices\n",
    "1. Objectives\n",
    "2. Momentum Exchange Devices\n",
    "3. Final Assignment"
   ]
  },
  {
   "cell_type": "code",
   "execution_count": null,
   "id": "efc52c70-ab22-4f97-b574-0532f557fc60",
   "metadata": {},
   "outputs": [],
   "source": []
  },
  {
   "cell_type": "code",
   "execution_count": null,
   "id": "0fc92a82-c18b-416d-94e9-26d4ccd296b1",
   "metadata": {},
   "outputs": [],
   "source": []
  },
  {
   "cell_type": "code",
   "execution_count": null,
   "id": "4c438c3d-0c79-4578-8d63-e6b17712e30b",
   "metadata": {},
   "outputs": [],
   "source": []
  },
  {
   "cell_type": "code",
   "execution_count": null,
   "id": "fb375352-1bb1-4ced-95e0-3d5e933bd3cd",
   "metadata": {},
   "outputs": [],
   "source": []
  },
  {
   "cell_type": "code",
   "execution_count": null,
   "id": "338d3c8e-4f09-4e7e-8c74-b73243cf2b48",
   "metadata": {},
   "outputs": [],
   "source": []
  }
 ],
 "metadata": {
  "kernelspec": {
   "display_name": "Python 3 (ipykernel)",
   "language": "python",
   "name": "python3"
  },
  "language_info": {
   "codemirror_mode": {
    "name": "ipython",
    "version": 3
   },
   "file_extension": ".py",
   "mimetype": "text/x-python",
   "name": "python",
   "nbconvert_exporter": "python",
   "pygments_lexer": "ipython3",
   "version": "3.11.9"
  }
 },
 "nbformat": 4,
 "nbformat_minor": 5
}
