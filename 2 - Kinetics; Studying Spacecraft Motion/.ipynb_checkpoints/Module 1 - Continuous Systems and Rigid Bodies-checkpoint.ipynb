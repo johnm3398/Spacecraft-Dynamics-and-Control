{
 "cells": [
  {
   "cell_type": "markdown",
   "id": "ef9adec1-f098-41a4-9870-32872fe3a743",
   "metadata": {},
   "source": [
    "# Kinetics: Studying Spacecraft Motion\n",
    "\n",
    "- This notebook is meant to complement \"Kinetics: Studying Spacecraft Motion\" course on Coursera\n",
    "- "
   ]
  },
  {
   "cell_type": "code",
   "execution_count": null,
   "id": "5aa5c43c-ff02-451b-8b9a-cfec7bd31f8d",
   "metadata": {},
   "outputs": [],
   "source": [
    "# Import Relevant Libraries\n",
    "import numpy as np\n",
    "\n",
    "import matplotlib.pyplot as plt\n",
    "\n",
    "import plotly.graph_objects as go\n",
    "from plotly.offline import init_notebook_mode, iplot"
   ]
  },
  {
   "cell_type": "markdown",
   "id": "e9c022f5-702b-411f-992e-69dd08f2592e",
   "metadata": {},
   "source": [
    "\n",
    "- Numpy:\n",
    "- Matplotlib\n",
    "- Plotly\n",
    "- Sympy\n",
    "\n",
    "---"
   ]
  },
  {
   "cell_type": "markdown",
   "id": "97b941f5-9e7c-4c3a-92d2-1439905231d3",
   "metadata": {},
   "source": [
    "# Week 1 - Continuous Systems and Rigid Bodies\n",
    "1. Objectives\n",
    "2. Continuous Systems\n",
    "3. Rigid Bodies"
   ]
  },
  {
   "cell_type": "code",
   "execution_count": null,
   "id": "c5228011-e50d-48d7-aabf-0629ea48a27e",
   "metadata": {},
   "outputs": [],
   "source": []
  },
  {
   "cell_type": "code",
   "execution_count": null,
   "id": "a2b44b55-26c4-4b2c-82e8-aff82fc33256",
   "metadata": {},
   "outputs": [],
   "source": []
  },
  {
   "cell_type": "code",
   "execution_count": null,
   "id": "aa60742f-95ce-4171-ab77-cf9bce65746c",
   "metadata": {},
   "outputs": [],
   "source": []
  },
  {
   "cell_type": "code",
   "execution_count": null,
   "id": "3a195439-6bfa-4924-b4c1-65514b142881",
   "metadata": {},
   "outputs": [],
   "source": []
  },
  {
   "cell_type": "code",
   "execution_count": null,
   "id": "661b40e9-7da3-481d-ab24-ad125742f319",
   "metadata": {},
   "outputs": [],
   "source": []
  },
  {
   "cell_type": "markdown",
   "id": "bce8ffb6-a111-4ba7-a677-27996c8b0ffa",
   "metadata": {},
   "source": [
    "# Week 2 - Torque Free Motion\n",
    "1. Objectives\n",
    "2. Torque Free Single Rigid Body\n",
    "3. Torque Free Dual Spinners"
   ]
  },
  {
   "cell_type": "code",
   "execution_count": null,
   "id": "fd3e667b-3190-4edb-a284-ea14d9f4529d",
   "metadata": {},
   "outputs": [],
   "source": []
  },
  {
   "cell_type": "code",
   "execution_count": null,
   "id": "7d91f254-208a-40dc-a5d5-369ae44abee2",
   "metadata": {},
   "outputs": [],
   "source": []
  },
  {
   "cell_type": "code",
   "execution_count": null,
   "id": "f6e9ae20-4306-4bde-abe7-055e739ceed1",
   "metadata": {},
   "outputs": [],
   "source": []
  },
  {
   "cell_type": "code",
   "execution_count": null,
   "id": "df7c0a24-5ff2-4787-9c6e-3e75f14b0ccf",
   "metadata": {},
   "outputs": [],
   "source": []
  },
  {
   "cell_type": "code",
   "execution_count": null,
   "id": "3ee34463-ba7b-46f6-a097-e9a9962c9fe7",
   "metadata": {},
   "outputs": [],
   "source": []
  },
  {
   "cell_type": "markdown",
   "id": "b8660807-bb45-4e66-9f30-cb365be53327",
   "metadata": {},
   "source": [
    "# Week 3 - Gravity Gradients\n",
    "1. Objectives\n",
    "2. Gravity Gradient Notes"
   ]
  },
  {
   "cell_type": "code",
   "execution_count": null,
   "id": "f30ae5a9-853e-4a82-817d-afc8e185b393",
   "metadata": {},
   "outputs": [],
   "source": []
  },
  {
   "cell_type": "code",
   "execution_count": null,
   "id": "aff49066-d898-4b3c-a048-011ead6f5b79",
   "metadata": {},
   "outputs": [],
   "source": []
  },
  {
   "cell_type": "code",
   "execution_count": null,
   "id": "73ac9a2b-3568-4a34-a81f-bafd0f720c85",
   "metadata": {},
   "outputs": [],
   "source": []
  },
  {
   "cell_type": "code",
   "execution_count": null,
   "id": "52a0904b-cfb0-4445-966c-3fa0c6dad8bf",
   "metadata": {},
   "outputs": [],
   "source": []
  },
  {
   "cell_type": "code",
   "execution_count": null,
   "id": "84815d44-be75-4e77-91c1-5b150ba8d889",
   "metadata": {},
   "outputs": [],
   "source": []
  },
  {
   "cell_type": "markdown",
   "id": "6bbaa6ec-b109-4933-ba71-98a1b1ac4c16",
   "metadata": {},
   "source": [
    "# Week 4 - Equations of Motion (EOM) with Momentum Exchange Devices\n",
    "1. Objectives\n",
    "2. Momentum Exchange Devices\n",
    "3. Final Assignment"
   ]
  },
  {
   "cell_type": "code",
   "execution_count": null,
   "id": "efc52c70-ab22-4f97-b574-0532f557fc60",
   "metadata": {},
   "outputs": [],
   "source": []
  },
  {
   "cell_type": "code",
   "execution_count": null,
   "id": "0fc92a82-c18b-416d-94e9-26d4ccd296b1",
   "metadata": {},
   "outputs": [],
   "source": []
  },
  {
   "cell_type": "code",
   "execution_count": null,
   "id": "4c438c3d-0c79-4578-8d63-e6b17712e30b",
   "metadata": {},
   "outputs": [],
   "source": []
  },
  {
   "cell_type": "code",
   "execution_count": null,
   "id": "fb375352-1bb1-4ced-95e0-3d5e933bd3cd",
   "metadata": {},
   "outputs": [],
   "source": []
  },
  {
   "cell_type": "code",
   "execution_count": null,
   "id": "338d3c8e-4f09-4e7e-8c74-b73243cf2b48",
   "metadata": {},
   "outputs": [],
   "source": []
  }
 ],
 "metadata": {
  "kernelspec": {
   "display_name": "Python 3 (ipykernel)",
   "language": "python",
   "name": "python3"
  },
  "language_info": {
   "codemirror_mode": {
    "name": "ipython",
    "version": 3
   },
   "file_extension": ".py",
   "mimetype": "text/x-python",
   "name": "python",
   "nbconvert_exporter": "python",
   "pygments_lexer": "ipython3",
   "version": "3.11.5"
  }
 },
 "nbformat": 4,
 "nbformat_minor": 5
}
