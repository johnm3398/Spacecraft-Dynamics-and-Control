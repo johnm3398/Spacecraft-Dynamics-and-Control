{
 "cells": [
  {
   "cell_type": "markdown",
   "id": "87fc212e-1fd3-4e18-bc85-1ea36cf53d1b",
   "metadata": {},
   "source": [
    "# Week 2 - Torque-Free Motion\n",
    "\n",
    "Week 2 explores the dynamics of single and dual rigid body systems under torque-free conditions, a critical scenario in spacecraft dynamics when no external torques act on the system. The module examines large-scale tumbling motions through the use of **polhode plots**, which visualize the angular velocity motion in the body frame. Analytical rate solutions are derived for both axi-symmetric and general spacecraft shapes, providing insights into how shape and mass distribution affect motion.\n",
    "\n",
    "The module concludes with an analysis of the **dual-spinner dynamical system**, a practical example of how gyroscopic effects can be leveraged to stabilize a principal axis spin. This is particularly relevant for spacecraft with spinning components like reaction wheels or flywheels, where stability is key to maintaining attitude control.\n",
    "\n",
    "Understanding torque-free motion is essential for characterizing the natural dynamics of spacecraft, especially during phases where control torques are intentionally minimized or unavailable (e.g., during thruster-free coasting or detumbling).\n",
    "\n",
    "<ins>**Learning Objectives**</ins>\n",
    "\n",
    "- Predict and determine torque-free motion equilibria and their associated stabilities\n",
    "- Describe the torque-free motion of different rigid bodies in space\n",
    "- Develop equations of motion for rigid bodies with multiple spinning components\n",
    "- Apply static stability conditions for dual-spinner configurations\n",
    "\n",
    "---"
   ]
  },
  {
   "cell_type": "code",
   "execution_count": null,
   "id": "a449a34b-d9a9-4f0e-9c87-2b40e94ecd60",
   "metadata": {},
   "outputs": [],
   "source": []
  },
  {
   "cell_type": "code",
   "execution_count": null,
   "id": "7b9ad956-492c-4654-ac80-753fc74a889d",
   "metadata": {},
   "outputs": [],
   "source": []
  },
  {
   "cell_type": "code",
   "execution_count": null,
   "id": "865efe24-ad8c-4562-a74c-7c33326aa0c0",
   "metadata": {},
   "outputs": [],
   "source": []
  },
  {
   "cell_type": "code",
   "execution_count": null,
   "id": "55edacfe-6ba7-4cca-a454-ef7daae333a8",
   "metadata": {},
   "outputs": [],
   "source": []
  },
  {
   "cell_type": "code",
   "execution_count": null,
   "id": "f80ad932-9fe2-4dbe-ab91-976520b8da6b",
   "metadata": {},
   "outputs": [],
   "source": []
  },
  {
   "cell_type": "code",
   "execution_count": null,
   "id": "057e4df2-bb66-46ab-b3d0-d7e858e7e91e",
   "metadata": {},
   "outputs": [],
   "source": []
  },
  {
   "cell_type": "code",
   "execution_count": null,
   "id": "b4a2cd5c-b61d-41de-8183-0cd091214eff",
   "metadata": {},
   "outputs": [],
   "source": []
  },
  {
   "cell_type": "code",
   "execution_count": null,
   "id": "bba8831a-94a0-4e74-921c-fdf118b3e8fa",
   "metadata": {},
   "outputs": [],
   "source": []
  },
  {
   "cell_type": "code",
   "execution_count": null,
   "id": "0391bef9-59fc-4d24-b74a-576ec040aa5a",
   "metadata": {},
   "outputs": [],
   "source": []
  }
 ],
 "metadata": {
  "kernelspec": {
   "display_name": "Python 3 (ipykernel)",
   "language": "python",
   "name": "python3"
  },
  "language_info": {
   "codemirror_mode": {
    "name": "ipython",
    "version": 3
   },
   "file_extension": ".py",
   "mimetype": "text/x-python",
   "name": "python",
   "nbconvert_exporter": "python",
   "pygments_lexer": "ipython3",
   "version": "3.11.9"
  }
 },
 "nbformat": 4,
 "nbformat_minor": 5
}
