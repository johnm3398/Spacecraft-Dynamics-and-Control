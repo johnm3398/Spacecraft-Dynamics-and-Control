{
 "cells": [
  {
   "cell_type": "markdown",
   "id": "03014f95-dcfa-413b-bc5d-78a0cfa294c0",
   "metadata": {},
   "source": [
    "# Week 1 - Nonlinear Stability Defintions\n",
    "\n",
    "Week 1 introduces the fundamental concepts of nonlinear stability in dynamical systems and relates them to classical linear stability definitions. The focus is on understanding how stability is defined in the nonlinear setting and how these definitions extend or differ from the linear case.\n",
    "\n",
    "The module emphasizes the importance of distinguishing between local and global stability, showing how nonlinear systems may behave differently depending on the size of perturbations from equilibrium. These concepts provide the foundation for analyzing spacecraft attitude motion under nonlinear dynamics.\n",
    "\n",
    "**<ins>Learning Objectives</ins>**\n",
    "\n",
    "- Differentiate between key nonlinear stability concepts (Lyapunov, asymptotic, exponential)\n",
    "- Compare nonlinear stability definitions to their linear counterparts\n",
    "- Understand the distinction between local and global stability in nonlinear systems\n",
    "\n",
    "---"
   ]
  },
  {
   "cell_type": "markdown",
   "id": "5c6c5875-3fd3-465a-9086-08672f6ef169",
   "metadata": {},
   "source": [
    "# 1.1 - A brief history of controls\n",
    "\n",
    "Before introducing nonlinear stability concepts, it is useful to recall the core building blocks of classical control theory. These tools form the foundation from which modern and nonlinear methods extend.\n",
    "\n",
    "The notes below do not delve very deep into the theory. Classical controls on its own require a special attnetion and a study on it is recommended to get a feel for the presentation here (i might create a seperate study in my 'Studies' folder for Controls)."
   ]
  },
  {
   "cell_type": "markdown",
   "id": "a8ffa434-99c7-4da0-bb27-267d90ce2fcb",
   "metadata": {},
   "source": [
    "## 1.1.1 - Classical Tools"
   ]
  },
  {
   "cell_type": "markdown",
   "id": "cbd3a839-c9c0-42d8-abe1-f2f31e055d0c",
   "metadata": {},
   "source": [
    "Early control theory was largely built on **linear system analysis**, where systems could be expressed as transfer functions in the Laplace domain.  \n",
    "\n",
    "**<ins>What makes a System Linear?</ins>**\n",
    "\n",
    "A system is considered **linear** if it satisfies the principle of superposition:\n",
    "\n",
    "1. **Additivity:**  \n",
    "   If $u_1(t) \\mapsto y_1(t)$ and $u_2(t) \\mapsto y_2(t)$, then  \n",
    "   $$\n",
    "   u(t) = u_1(t) + u_2(t) \\quad \\Rightarrow \\quad y(t) = y_1(t) + y_2(t).\n",
    "   $$\n",
    "\n",
    "2. **Homogeneity (Scaling):**  \n",
    "   If $u(t) \\mapsto y(t)$, then for any constant $\\alpha$:  \n",
    "   $$\n",
    "   u(t) \\to \\alpha u(t) \\quad \\Rightarrow \\quad y(t) \\to \\alpha y(t).\n",
    "   $$\n",
    "\n",
    "Together, these properties mean the system’s response is a **linear combination of inputs**.  \n",
    "\n",
    "**<ins>Time Invariance</ins>**\n",
    "\n",
    "A system is **time-invariant** if shifting the input in time results in an equivalent shift of the output.  \n",
    "\n",
    "If input $x(t)$ produces output $y(t)$, then input $x(t - T)$ produces output $y(t - T)$ for any shift $T$.  \n",
    "\n",
    "This means the system’s behavior does not depend on the absolute time the input is applied.\n",
    "\n",
    "**<ins>Impulse Response and the Move to Frequency Domain, s</ins>**\n",
    "\n",
    "In classical control, an important idea is that an LTI system can be fully described by how it reacts to a very short, sharp input — the **impulse**.  \n",
    "\n",
    "- If the impulse response is $h(t)$, then the output to any general input $x(t)$ is given by the **convolution integral**:  \n",
    "\n",
    "  $$\n",
    "  y(t) = (x * h)(t) = \\int_{-\\infty}^{\\infty} x(\\tau) \\, h(t - \\tau) \\, d\\tau .\n",
    "  $$\n",
    "\n",
    "- This is exact in theory, but performing convolution directly in the time domain is often **cumbersome** for analysis and controller design.  \n",
    "\n",
    "To simplify the mathematics, engineers move to the **Laplace transform** (the $s$-domain):  \n",
    "\n",
    "- Convolution in time becomes **multiplication** in the $s$-domain:  \n",
    "\n",
    "  $$\n",
    "  Y(s) = H(s) \\, X(s) .\n",
    "  $$\n",
    "\n",
    "- The system is characterized by its **transfer function** $G(s)$, which is simply the Laplace transform of the impulse response:  \n",
    "\n",
    "  $$\n",
    "  G(s) = \\frac{Y(s)}{U(s)} = H(s) .\n",
    "  $$\n",
    "\n",
    "The transfer function is typically expressed as a ratio of polynomials:\n",
    "\n",
    "$$\n",
    "G(s) = \\frac{b_m s^m + \\dots + b_1 s + b_0}{a_n s^n + \\dots + a_1 s + a_0} .\n",
    "$$\n",
    "\n",
    "- The **poles** (roots of the denominator) determine system stability.  \n",
    "- The **zeros** (roots of the numerator) shape the transient and frequency response.  \n",
    "\n",
    "This connection between poles, zeros, and system dynamics is what makes the transfer function such a powerful representation in classical control.  \n",
    "\n",
    "\n",
    "**<ins>Frequency-Domain Techniques</ins>**\n",
    "\n",
    "Classical stability and performance tools include:\n",
    "\n",
    "- **Bode plots** – gain and phase vs. frequency.  \n",
    "- **Nyquist criterion** – encircling the $-1$ point to assess closed-loop stability.  \n",
    "- **Root locus** – pole locations as controller gain varies.  \n",
    "\n",
    "These remain standard tools in aerospace and mechanical systems."
   ]
  },
  {
   "cell_type": "markdown",
   "id": "ac7cff97-1df6-4256-adf3-157c415cfd50",
   "metadata": {},
   "source": [
    "## 1.1.2 - Feedback Control"
   ]
  },
  {
   "cell_type": "markdown",
   "id": "376e7d01-391c-4783-8e9b-6477e33ef5e2",
   "metadata": {},
   "source": [
    "\n",
    "The central concept of control is **feedback**, where the system output is continually compared against a desired reference. This closed-loop structure allows the controller to automatically compensate for errors and disturbances.\r\n",
    "\r\n",
    "- **Error definition:**  \r\n",
    "\r\n",
    "  $$\r\n",
    "  e(t) = r(t) - y(t)\r\n",
    "  $$\r\n",
    "\r\n",
    "  where $r(t)$ is the desired reference (command) and $y(t)$ the actual system output.\r\n",
    "\r\n",
    "**Generic Feedback Law (PID):**\r\n",
    "\r\n",
    "The most widely used classical controller is the **Proportional–Integral–Derivative (PID)** law:\r\n",
    "\r\n",
    "$$\r\n",
    "u(t) = K_p e(t) + K_d \\dot{e}(t) + K_i \\int e(t)\\,dt\r\n",
    "$$  \r\n",
    "\r\n",
    "- **P-term (Proportional):** provides an immediate correction proportional to the error.  \r\n",
    "- **D-term (Derivative):** adds damping by reacting to the rate of change of the error, improving stability.  \r\n",
    "- **I-term (Integral):** accumulates error over time, eliminating steady-state offsets.  \r\n",
    "\r\n",
    "**Key Insights:**\r\n",
    "\r\n",
    "- **Open-loop vs Closed-loop:** Without feedback (open loop), systems are highly sensitive to model inaccuracies and disturbances. With feedback (closed loop), errors are continuously corrected.  \r\n",
    "- **Tradeoffs:**  \r\n",
    "  - Large $K_p$ improves response but can cause oscillations.  \r\n",
    "  - Large $K_i$ removes steady-state error but risks instability.  \r\n",
    "  - Large $K_d$ improves damping but amplifies noise.  \r\n",
    "- **Robustness:** Feedback provides resilience against uncertainties, modeling errors, and external disturbances — a crucial property for aerospace systems.  \r\n",
    "\r\n",
    "Feedback control remains the backbone of classical control systems, and PID controllers are still used in many aerospace and engineering applications today.\r\n"
   ]
  },
  {
   "cell_type": "markdown",
   "id": "85bacd2a-6dbc-43f4-9a71-3ae0745bbb04",
   "metadata": {},
   "source": [
    "## 1.1.3 - State-Space Formulation"
   ]
  },
  {
   "cell_type": "markdown",
   "id": "aaaf911d-9fe2-4d47-b8e0-ff73b0ca5ab5",
   "metadata": {},
   "source": [
    "With the rise of digital computation, control theory adopted the **state-space** framework, which describes systems using vectors and matrices. A linear time-invariant system is written as:\r\n",
    "\r\n",
    "$$\r\n",
    "\\dot{x}(t) = A x(t) + B u(t), \r\n",
    "\\quad y(t) = Cx(t) + Du(t)\r\n",
    "$$\r\n",
    "\r\n",
    "- $x(t)$ = state vector (system variables such as position, velocity, or attitude).  \r\n",
    "- $u(t)$ = control input vector.  \r\n",
    "- $y(t)$ = output vector (measured variables).  \r\n",
    "- $A, B, C, D$ = constant matrices describing the system.  \r\n",
    "\r\n",
    "**Stability condition:**  \r\n",
    "The system is stable if all eigenvalues of $A$ have negative real parts (for continuous-time systems).  \r\n",
    "\r\n",
    "**Design approaches:**  \r\n",
    "- **Pole placement:** directly assign closed-loop eigenvalues through feedback design.  \r\n",
    "- **LQR (Linear Quadratic Regulator):** minimize a quadratic cost on state deviation and control effort, producing an optimal feedback gain.  \r\n",
    "\r\n",
    "This formalism is particularly powerful for **MIMO** (multi-input, multi-output) systems, which are common in aerospace applications such as spacecraft attitude control with multiple actuators and sensors.  \r\n",
    "\r\n",
    "State-space representation also serves as the natural bridge toward **nonlinear control**, where similar equations are written but without the simplifying assmption of linearity.\r\n"
   ]
  },
  {
   "cell_type": "markdown",
   "id": "18f8fc78-c2ee-402f-afef-82678c7d54a7",
   "metadata": {},
   "source": [
    "## 1.1.4 - Limitations of Classical Control"
   ]
  },
  {
   "cell_type": "markdown",
   "id": "0564146f-09c7-4f33-bcd8-9db764eaa8c9",
   "metadata": {},
   "source": [
    "Despite their success, **linear methods are inherently local**:\n",
    "\n",
    "- Linearization around an equilibrium provides only **local stability guarantees**.  \n",
    "- Spacecraft attitude dynamics live on the **nonlinear manifold $SO(3)$**, where orientation wraps around and cannot be represented globally by linear coordinates.  \n",
    "- Large-angle maneuvers, actuator saturation, and coupled rotational dynamics highlight the limitations of linear tools.  \n",
    "\n",
    "**Nonlinear control** addresses these challenges by working directly with the nonlinear equations of motion, enabling:  \n",
    "\n",
    "- **Global or almost-global stability results.**  \n",
    "- Controllers that remain valid across large attitude ranges.  \n",
    "- Energy-based and geometric approaches (e.g., Lyapunov methods).  \n",
    "\n",
    "**Takeaway:**  \n",
    "Classical control theory provides essential intuition and mathematical tools. However, spacecraft dynamics require methods that go beyond local linear analysis, motivating the study of **nonlinear stability and nonlinear feedback control**.\n",
    "\n",
    "**Note:** Nonlinear control does not replace classical methods — it builds on the same principles. The goal is to extend control design to regimes where linear approximations fail, ensuring stability and performance even for large-angle spacecraft maneuvers and inherently nonlinear dynamics."
   ]
  },
  {
   "cell_type": "markdown",
   "id": "e45db461-dc69-4f28-9cf0-270762fcb50b",
   "metadata": {},
   "source": [
    "# 1.2 - Defintions"
   ]
  },
  {
   "cell_type": "markdown",
   "id": "5507f232-e2c0-4082-9564-224dc658bed8",
   "metadata": {},
   "source": [
    "## 1.2.1 - The Math Terminologies"
   ]
  },
  {
   "cell_type": "markdown",
   "id": "170840fd-4fca-46ca-868d-ef6004adc218",
   "metadata": {},
   "source": [
    "To analyze stability, we first define the basic mathematical objects used in dynamical systems and control.\n",
    "\n",
    "**State Vector**\n",
    "\n",
    "$$\n",
    "x = (x_1, \\dots, x_N)^T\n",
    "$$\n",
    "\n",
    "The state vector $x$ collects all variables needed to describe the system’s condition at time $t$ (e.g., positions, velocities, or attitude parameters).\n",
    "\n",
    "\n",
    "\n",
    "**Equations of Motion (EOM)**\n",
    "\n",
    "- **Non-autonomous system (explicit time dependence):**  \n",
    "  $$\n",
    "  \\dot{x} = f(x,t)\n",
    "  $$\n",
    "\n",
    "- **Autonomous system (time-invariant dynamics):**  \n",
    "  $$\n",
    "  \\dot{x} = f(x)\n",
    "  $$\n",
    "\n",
    "\n",
    "\n",
    "**Control Vector**\n",
    "\n",
    "$$\n",
    "u = g(x)\n",
    "$$\n",
    "\n",
    "The control input $u$ is typically a function of the state (or reference commands) and is applied to influence the system dynamics.\n",
    "\n",
    "\n",
    "\n",
    "**Closed-Loop System**\n",
    "\n",
    "When control is applied, the closed-loop system is expressed as:\n",
    "\n",
    "$$\n",
    "\\dot{x} = f(x,u,t)\n",
    "$$\n",
    "\n",
    "\n",
    "\n",
    "**Equilibrium State**\n",
    "\n",
    "A state vector point $x_e$ is said to be an **equilibrium state (equilibrium point)** of the system described by $\\dot{x} = f(x,t)$ if:\n",
    "\n",
    "$$\n",
    "f(x_e, t) = 0 \\quad \\forall \\, t > t_0\n",
    "$$\n",
    "\n",
    "This implies:\n",
    "\n",
    "$$\n",
    "\\dot{x}_e = 0, \\quad x_e = \\text{constant}\n",
    "$$\n",
    "\n",
    "In words, an equilibrium state is one where the system remains indefinitely if initialized there."
   ]
  },
  {
   "cell_type": "code",
   "execution_count": null,
   "id": "c12a615d-17e5-4d6e-9992-5aae97686035",
   "metadata": {},
   "outputs": [],
   "source": []
  },
  {
   "cell_type": "code",
   "execution_count": null,
   "id": "10a2edd2-4892-4bef-979d-d8ebcc49101f",
   "metadata": {},
   "outputs": [],
   "source": []
  },
  {
   "cell_type": "markdown",
   "id": "891cac2e-4ebe-451a-aa54-d18eae8fbdd0",
   "metadata": {},
   "source": [
    "# 1.2.2 - Stability Definitions"
   ]
  },
  {
   "cell_type": "markdown",
   "id": "5fa7bede-97ce-4a1b-b668-46e1aea1bfa7",
   "metadata": {},
   "source": [
    "**Defintion of Neighborhood**\n",
    "\n",
    "<div align=\"center\">\n",
    "  <img src=\"Images/Wk1_Neighborhood.PNG\" alt=\"Alt text\" width=\"500\"/>\n",
    "</div>\r\n",
    "\r\n",
    "Given a distance $\\delta > 0$, the **neighborhood** $B_\\delta(x_r(t))$ of a reference state $x_r(t)$ is the set of all states $x(t)$ that lie within $\\delta$ of $x_r(t)$:\r\n",
    "\r\n",
    "$$\r\n",
    "\\| x(t) - x_r(t) \\| < \\delta \\quad \\Rightarrow \\quad x(t) \\in B_\\delta(x_r(t)).\r\n",
    "$$\r\n",
    "\r\n",
    "- Intuitively: this is just a “bubble” of radius $\\delta$ around $x_r(t)$.  \r\n",
    "- If $x(t)$ stays inside the bubble, we say it is in the neighborhood of the reference trjectory.\r\n"
   ]
  },
  {
   "cell_type": "markdown",
   "id": "a008d9f2-6f69-4252-adfd-53a5e27441c3",
   "metadata": {},
   "source": [
    "**<ins>Lagrange Stability (Boundedness)</ins>**\n",
    "\n",
    "<div align=\"center\">\n",
    "  <img src=\"Images/Wk1_LagrangeStability.PNG\" alt=\"Alt text\" width=\"500\"/>\n",
    "</div>\n",
    "\r\n",
    "\r\n",
    "The motion $x(t)$ is said to be **Lagrange stable** (or simply bounded) relative to $x_r(t)$ if there exists a $\\delta > 0$ such that:\r\n",
    "\r\n",
    "$$\r\n",
    "x(t) \\in B_\\delta(x_r(t)) \\quad \\forall \\, t > t_0 .\r\n",
    "$$\r\n",
    "\r\n",
    "- In words: once the system starts inside some bubble around the reference, it will **never leave that bubble** as time progresses.  \r\n",
    "- This only says the system stays bounded, not that it converges to the reference."
   ]
  },
  {
   "cell_type": "markdown",
   "id": "a212bb02-0bfc-4663-8362-4328bcb2fb97",
   "metadata": {},
   "source": [
    "**<ins>Lyapunov Stability</ins>**\n",
    "\n",
    "<div align=\"center\">\n",
    "  <img src=\"Images/Wk1_LyapunovStability.PNG\" alt=\"Alt text\" width=\"500\"/>\n",
    "</div>\n",
    "\n",
    "The motion $x(t)$ is said to be **Lyapunov stable** (or simply stable) relative to $x_r(t)$ if, for every tolerance $\\epsilon > 0$, there exists a $\\delta(\\epsilon) > 0$ such that:\n",
    "\n",
    "$$\n",
    "x(t_0) \\in B_\\delta(x_r(t_0)) \n",
    "\\;\\;\\Rightarrow\\;\\;\n",
    "x(t) \\in B_\\epsilon(x_r(t)) \\quad \\forall \\, t > t_0 .\n",
    "$$\n",
    "\n",
    "- In words: if you start close enough to the reference trajectory, you will **remain arbitrarily close** to it for all future time.  \n",
    "- Lyapunov stability is stronger than Lagrange stability, because it guarantees closeness can be made as tight as we like (by picking $\\epsilon$ and choosing the initial condition within a matching $\\delta$-ball).\n"
   ]
  },
  {
   "cell_type": "markdown",
   "id": "879fe54b-7d48-4057-a080-29ef72e7ef6d",
   "metadata": {},
   "source": [
    "**<ins>Asymptotic Stability</ins>**\n",
    "\n",
    "<div align=\"center\">\n",
    "  <img src=\"Images/Wk1_AsymptoticStability.PNG\" alt=\"Alt text\" width=\"500\"/>\n",
    "</div>\r\n",
    "\r\n",
    "The motion $x(t)$ is **asymptotically stable** relative to $x_r(t)$ if:\r\n",
    "\r\n",
    "1. $x(t)$ is **Lyapunov stable**, and  \r\n",
    "2. There exists a $\\delta > 0$ such that:  \r\n",
    "\r\n",
    "$$\r\n",
    "x(t_0) \\in B_\\delta(x_r(t_0)) \r\n",
    "\\;\\;\\Rightarrow\\;\\;\r\n",
    "\\lim_{t \\to \\infty} x(t) = x_r(t).\r\n",
    "$$\r\n",
    "\r\n",
    "- In words: if the system starts close enough to the reference, it not only stays close but also **converges to the reference** as $t \\to \\infty$.  \r\n",
    "- Example: a pendulum with friction always comes back to the bottom equilibrium point, no matter small initial perturbations.  \r\n"
   ]
  },
  {
   "cell_type": "markdown",
   "id": "97060b5b-4bae-4fbc-9282-18c0173ae5f3",
   "metadata": {},
   "source": [
    "**<ins>Global Stability</ins>**\n",
    "\n",
    "<div align=\"center\">\n",
    "  <img src=\"Images/Wk1_GlobalStability.PNG\" alt=\"Alt text\" width=\"500\"/>\n",
    "</div>\n",
    "\n",
    "The motion $x(t)$ is **globally stable** relative to $x_r(t)$ if stability holds for **any initial state vector $x(t_0)$**, not just those close to $x_r(t)$.  \n",
    "\n",
    "- In words: no matter where you start in the state space, the system will eventually converge to the reference point.  \n",
    "- Example: a damped pendulum is globally asymptotically stable at the bottom position — from any starting angle and velocity, it will always return there.  \n"
   ]
  },
  {
   "cell_type": "markdown",
   "id": "25c51b7c-634a-44a2-97a1-a8bacbe901ae",
   "metadata": {},
   "source": [
    "**Summary of Stability Concepts**\r\n",
    "| **Type**               | **Mathematical Condition**                                                                 | **Intuition**                                                                 |\n",
    "|-------------------------|---------------------------------------------------------------------------------------------|-------------------------------------------------------------------------------|\n",
    "| **Lagrange Stability**  | $x(t) \\in B_\\delta(x_r(t)) \\;\\; \\forall t > t_0$                                           | Motion stays **bounded** (never escapes some fixed neighborhood).             |\n",
    "| **Lyapunov Stability**  | $x(t_0) \\in B_\\delta(x_r(t_0)) \\;\\;\\Rightarrow\\;\\; x(t) \\in B_\\epsilon(x_r(t))$           | If you start **close enough**, you stay **arbitrarily close** for all time.   |\n",
    "| **Asymptotic Stability**| $x(t_0) \\in B_\\delta(x_r(t_0)) \\;\\;\\Rightarrow\\;\\; \\lim_{t \\to \\infty} x(t) = x_r(t)$      | If you start close, you not only stay close but also **converge** to the ref. |\n",
    "| **Global Stability**    | Stability holds for **any** initial $x(t_0)$                                               | No matter where you start, you eventually converge to the reference point.    |tes.  "
   ]
  },
  {
   "cell_type": "markdown",
   "id": "da2ddd25-ff6a-4ade-8beb-7aea2a1c4fe3",
   "metadata": {},
   "source": [
    "# 1.3 - Linearization of Nonlinear systems"
   ]
  },
  {
   "cell_type": "code",
   "execution_count": null,
   "id": "cec1fb22-f304-4f97-b96c-60b19cd7e781",
   "metadata": {},
   "outputs": [],
   "source": []
  },
  {
   "cell_type": "code",
   "execution_count": null,
   "id": "90219400-5bf3-47b8-90b3-15ffab6bdc2d",
   "metadata": {},
   "outputs": [],
   "source": []
  },
  {
   "cell_type": "code",
   "execution_count": null,
   "id": "3c54f9f8-7292-442a-9d57-012c0ede565b",
   "metadata": {},
   "outputs": [],
   "source": []
  },
  {
   "cell_type": "code",
   "execution_count": null,
   "id": "bd7db9dc-3163-4508-8390-473933e8151c",
   "metadata": {},
   "outputs": [],
   "source": []
  },
  {
   "cell_type": "code",
   "execution_count": null,
   "id": "b7026276-a624-402b-ac49-6b2baa7833a0",
   "metadata": {},
   "outputs": [],
   "source": []
  }
 ],
 "metadata": {
  "kernelspec": {
   "display_name": "Python 3 (ipykernel)",
   "language": "python",
   "name": "python3"
  },
  "language_info": {
   "codemirror_mode": {
    "name": "ipython",
    "version": 3
   },
   "file_extension": ".py",
   "mimetype": "text/x-python",
   "name": "python",
   "nbconvert_exporter": "python",
   "pygments_lexer": "ipython3",
   "version": "3.11.9"
  }
 },
 "nbformat": 4,
 "nbformat_minor": 5
}
