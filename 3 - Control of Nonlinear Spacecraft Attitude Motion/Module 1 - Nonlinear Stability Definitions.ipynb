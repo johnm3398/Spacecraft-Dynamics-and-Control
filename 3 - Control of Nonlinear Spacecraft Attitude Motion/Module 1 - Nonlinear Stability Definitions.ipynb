{
 "cells": [
  {
   "cell_type": "markdown",
   "id": "03014f95-dcfa-413b-bc5d-78a0cfa294c0",
   "metadata": {},
   "source": [
    "# Week 1 - Nonlinear Stability Defintions\n",
    "\n"
   ]
  },
  {
   "cell_type": "code",
   "execution_count": null,
   "id": "f76689b5-edbb-4f31-8a92-f9d2503bb46b",
   "metadata": {},
   "outputs": [],
   "source": []
  },
  {
   "cell_type": "code",
   "execution_count": null,
   "id": "d99a505d-2760-423a-9401-832a5455d346",
   "metadata": {},
   "outputs": [],
   "source": []
  },
  {
   "cell_type": "code",
   "execution_count": null,
   "id": "59cf6ada-0fb2-466b-bc0c-8769c9503d00",
   "metadata": {},
   "outputs": [],
   "source": []
  },
  {
   "cell_type": "code",
   "execution_count": null,
   "id": "28a3dcfd-2ae9-4d58-b72c-f77828926ec8",
   "metadata": {},
   "outputs": [],
   "source": []
  },
  {
   "cell_type": "code",
   "execution_count": null,
   "id": "0a429814-7eeb-41f4-92ee-a0d269766f00",
   "metadata": {},
   "outputs": [],
   "source": []
  },
  {
   "cell_type": "code",
   "execution_count": null,
   "id": "8a2f29d1-de30-41d0-ba12-7d5762bc134c",
   "metadata": {},
   "outputs": [],
   "source": []
  },
  {
   "cell_type": "code",
   "execution_count": null,
   "id": "cec1fb22-f304-4f97-b96c-60b19cd7e781",
   "metadata": {},
   "outputs": [],
   "source": []
  },
  {
   "cell_type": "code",
   "execution_count": null,
   "id": "90219400-5bf3-47b8-90b3-15ffab6bdc2d",
   "metadata": {},
   "outputs": [],
   "source": []
  },
  {
   "cell_type": "code",
   "execution_count": null,
   "id": "3c54f9f8-7292-442a-9d57-012c0ede565b",
   "metadata": {},
   "outputs": [],
   "source": []
  },
  {
   "cell_type": "code",
   "execution_count": null,
   "id": "bd7db9dc-3163-4508-8390-473933e8151c",
   "metadata": {},
   "outputs": [],
   "source": []
  },
  {
   "cell_type": "code",
   "execution_count": null,
   "id": "b7026276-a624-402b-ac49-6b2baa7833a0",
   "metadata": {},
   "outputs": [],
   "source": []
  }
 ],
 "metadata": {
  "kernelspec": {
   "display_name": "Python 3 (ipykernel)",
   "language": "python",
   "name": "python3"
  },
  "language_info": {
   "codemirror_mode": {
    "name": "ipython",
    "version": 3
   },
   "file_extension": ".py",
   "mimetype": "text/x-python",
   "name": "python",
   "nbconvert_exporter": "python",
   "pygments_lexer": "ipython3",
   "version": "3.11.9"
  }
 },
 "nbformat": 4,
 "nbformat_minor": 5
}
