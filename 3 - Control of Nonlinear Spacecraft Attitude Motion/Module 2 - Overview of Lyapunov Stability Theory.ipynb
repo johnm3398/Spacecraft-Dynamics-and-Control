{
 "cells": [
  {
   "cell_type": "markdown",
   "id": "b272c91c-561e-45ed-94ef-3b73b25ab845",
   "metadata": {},
   "source": [
    "# Week 2 - Overview of Lyapunov Stability Theory\n",
    "\n",
    "**<ins>Motivation</ins>**\n",
    "\n",
    "In this week, we introduce **Lyapunov’s Direct Method** as a powerful tool to analyze the stability of nonlinear systems.  \n",
    "Unlike linearization methods (which only provide local insights), Lyapunov’s method allows us to reason about **global stability** properties without explicitly solving the system equations.\n",
    "\n",
    "**<ins>Key Ideas</ins>**\n",
    "\n",
    "- **Lyapunov’s Direct Method**:  \n",
    "  Provides a systematic way to prove stability and convergence for nonlinear systems by constructing a scalar \"energy-like\" function.\n",
    "\n",
    "- **Definiteness of Functions**:  \n",
    "  The concept of *positive definite*, *negative definite*, and *semi-definite* functions is introduced.  \n",
    "  This serves as the **building block** for Lyapunov’s direct method.\n",
    "\n",
    "- **Candidate Lyapunov Functions**:  \n",
    "  Convenient prototypes are presented for:\n",
    "  - **Rate-error measures** (functions of angular velocity error).  \n",
    "  - **State-error measures** (functions of attitude error).\n",
    " \n",
    "**<ins>Key Ideas</ins>**\n",
    "\n",
    "By the end of this week, you should be able to:\n",
    "1. Apply Lyapunov’s direct method to argue **stability and convergence** on a range of dynamical systems.\n",
    "2. Differentiate between a range of **nonlinear stability concepts** (e.g., stability, asymptotic stability, exponential stability)."
   ]
  },
  {
   "cell_type": "code",
   "execution_count": 1,
   "id": "806cf51c-0240-4c63-8204-0e17644b13e6",
   "metadata": {},
   "outputs": [],
   "source": [
    "import sympy as sp\n",
    "sp.init_printing(use_latex='mathjax')\n",
    "\n",
    "from IPython.display import display\n",
    "\n",
    "import numpy as np"
   ]
  },
  {
   "cell_type": "markdown",
   "id": "7ea47d53-cdb6-4ffa-88ff-0991da1e0f44",
   "metadata": {},
   "source": [
    "# 2.1 - Lyapunov's Direct Method"
   ]
  },
  {
   "cell_type": "markdown",
   "id": "b23a9721-5ef3-492c-9cd1-7367aa8ee026",
   "metadata": {},
   "source": [
    "## 2.1.1 - Definiteness of Functions"
   ]
  },
  {
   "cell_type": "markdown",
   "id": "ce4a2a58-0ffb-4782-b70b-210f12a43347",
   "metadata": {},
   "source": [
    "**<ins>Positive/Negative Definite Function</ins>**\n",
    "\n",
    "A scalar continuous function $V(x)$ is said to be **locally positive definite** about $x_r$ if:\n",
    "\n",
    "- $x = x_r \\;\\;\\Rightarrow\\;\\; V(x) = 0$\n",
    "- There exists a $\\delta > 0$ such that  \n",
    "  $\\forall x \\in B_\\delta(x_r) \\;\\;\\Rightarrow\\;\\; V(x) > 0$  \n",
    "\n",
    "Similarly, $V(x)$ is **locally negative definite** if:  \n",
    "- $x = x_r \\;\\;\\Rightarrow\\;\\; V(x) = 0$  \n",
    "- $\\forall x \\in B_\\delta(x_r) \\;\\;\\Rightarrow\\;\\; V(x) < 0$  "
   ]
  },
  {
   "cell_type": "markdown",
   "id": "468db70a-4509-4858-bc2f-c51ab3bd7b12",
   "metadata": {},
   "source": [
    "**<ins>Positive/Negative Semi-Definite Function</ins>**\n",
    "\n",
    "A scalar continuous function $V(x)$ is said to be **locally positive semi-definite** about $x_r$ if:\n",
    "\n",
    "- $x = x_r \\;\\;\\Rightarrow\\;\\; V(x) = 0$\n",
    "- There exists a $\\delta > 0$ such that  \n",
    "  $\\forall x \\in B_\\delta(x_r) \\;\\;\\Rightarrow\\;\\; V(x) \\geq 0$  \n",
    "\n",
    "Similarly, $V(x)$ is **locally negative semi-definite** if:  \n",
    "- $x = x_r \\;\\;\\Rightarrow\\;\\; V(x) = 0$  \n",
    "- $\\forall x \\in B_\\delta(x_r) \\;\\;\\Rightarrow\\;\\; V(x) \\leq 0$  "
   ]
  },
  {
   "cell_type": "markdown",
   "id": "dfb809c6-364d-4887-a68e-dbefe088be90",
   "metadata": {},
   "source": [
    "A common prototype Lyapunov candidate:\r\n",
    "$$\r\n",
    "V(x, \\dot{x}) = \\tfrac{1}{2}x^2 + \\tfrac{1}{2}\\dot{x}^2\r\n",
    "$$\r\n",
    "\r\n",
    "This function is positive definite, since $V(x, \\dot{x}) = 0$ only at $(x, \\dot{x}) = (0,0)$, and $V(x, \\dot{x}) > 0$ otherwise."
   ]
  },
  {
   "cell_type": "markdown",
   "id": "c3071ec6-12c1-48bb-89f6-f40ab90f59bc",
   "metadata": {},
   "source": [
    "**<ins>Matrix Definiteness</ins>**\n",
    "\n",
    "A matrix $[K]$ is said to be positive or negative (semi-)definite if for every state vector $x$:\r\n",
    "\r\n",
    "$$\r\n",
    "x^T[K]x\r\n",
    "\\begin{cases}\r\n",
    "> 0 & \\text{positive definite} \\\\\r\n",
    "\\geq 0 & \\text{positive semi-definite} \\\\\r\n",
    "< 0 & \\text{negative definite} \\\\\r\n",
    "\\leq 0 & \\text{negative semi-definite}\r\n",
    "\\end{cases}\r\n",
    "$$"
   ]
  },
  {
   "cell_type": "markdown",
   "id": "53fd20c4-d2e0-4f32-84fa-6aaa8bd6144c",
   "metadata": {},
   "source": [
    "**<ins>The Intuition</ins>**\n",
    "\n",
    "- Think of $V(x)$ like an **energy function**:  \r\n",
    "  - Positive definite → strictly positive “energy” everywhere except at equilibrium.  \r\n",
    "  - Semi-definite → “energy” is non-negative but may be flat in some directions.  \r\n",
    "\r\n",
    "- For matrices $[K]$:  \r\n",
    "  - Positive definite matrices act like **stiff springs**: they store positive energy no matter what direction you displace in.  \r\n",
    "  - Semi-definite means there might be “flat” directions where no restoring energy appears.  \r\n",
    "\r\n",
    "- These concepts matter because Lyapunov stability proofs rely on choosing $V(x)$ that behaves like an “energy bowl” centered at the equilibrium point."
   ]
  },
  {
   "cell_type": "code",
   "execution_count": 20,
   "id": "90219400-5bf3-47b8-90b3-15ffab6bdc2d",
   "metadata": {},
   "outputs": [
    {
     "name": "stdout",
     "output_type": "stream",
     "text": [
      "Case 1:\n",
      "Matrix:\n",
      " [[-1  0]\n",
      " [ 0  0]]\n",
      "Eigenvalues: [-1.  0.]\n",
      "Negative semi-definite\n",
      "\n",
      "Case 2:\n"
     ]
    },
    {
     "data": {
      "text/plain": [
       "'Function V(x):'"
      ]
     },
     "metadata": {},
     "output_type": "display_data"
    },
    {
     "data": {
      "text/latex": [
       "$\\displaystyle 0.5 x^{2}$"
      ],
      "text/plain": [
       "     2\n",
       "0.5⋅x "
      ]
     },
     "metadata": {},
     "output_type": "display_data"
    },
    {
     "name": "stdout",
     "output_type": "stream",
     "text": [
      "Positive definite (numerical check)\n"
     ]
    }
   ],
   "source": [
    "def check_definiteness(obj, variables=None, equilibrium=None, sample_points=100):\n",
    "    \"\"\"\n",
    "    Check definiteness of a matrix (NumPy) or a function (SymPy).\n",
    "    \n",
    "    Parameters\n",
    "    ----------\n",
    "    obj : numpy.ndarray or sympy.Expr\n",
    "        The matrix or scalar function to check.\n",
    "        \n",
    "    variables : list of sympy.Symbol, optional\n",
    "        Variables used in the function (only needed if obj is SymPy expression).\n",
    "        \n",
    "    equilibrium : list/tuple of floats, optional\n",
    "        Equilibrium point around which to test (default = all zeros).\n",
    "        \n",
    "    sample_points : int\n",
    "        Number of random samples near equilibrium for numeric testing (function case).\n",
    "    \n",
    "    Returns\n",
    "    -------\n",
    "    str : Definiteness classification\n",
    "    \"\"\"\n",
    "    \n",
    "    # Case 1: Matrix\n",
    "    if isinstance(obj, np.ndarray):\n",
    "        eigvals = np.linalg.eigvals(obj)\n",
    "        print(\"Matrix:\\n\", obj)\n",
    "        print(f\"Eigenvalues: {eigvals}\")\n",
    "        if np.all(eigvals > 0):\n",
    "            return \"Positive definite\"\n",
    "        elif np.all(eigvals >= 0):\n",
    "            return \"Positive semi-definite\"\n",
    "        elif np.all(eigvals < 0):\n",
    "            return \"Negative definite\"\n",
    "        elif np.all(eigvals <= 0):\n",
    "            return \"Negative semi-definite\"\n",
    "        else:\n",
    "            return \"Indefinite\"\n",
    "    \n",
    "    # Case 2: Symbolic function (expressed using SymPy)\n",
    "    elif isinstance(obj, sp.Expr):\n",
    "        display(\"Function V(x):\", obj)\n",
    "        if variables is None:\n",
    "            raise ValueError(\"Must provide variables for SymPy function\")\n",
    "        if equilibrium is None:\n",
    "            equilibrium = [0]*len(variables)\n",
    "        \n",
    "        # Check equilibrium point\n",
    "        V_eq = obj.subs(dict(zip(variables, equilibrium)))\n",
    "        if V_eq != 0:\n",
    "            return f\"Not a valid Lyapunov candidate (V(eq) = {V_eq})\"\n",
    "        \n",
    "        # Sample near equilibrium\n",
    "        vals = []\n",
    "        for _ in range(sample_points):\n",
    "            rand_point = np.random.uniform(-1, 1, len(variables)) * 0.5\n",
    "            V_val = float(obj.subs(dict(zip(variables, rand_point))))\n",
    "            vals.append(V_val)\n",
    "        \n",
    "        if all(v > 0 for v in vals):\n",
    "            return \"Positive definite (numerical check)\"\n",
    "        elif all(v >= 0 for v in vals):\n",
    "            return \"Positive semi-definite (numerical check)\"\n",
    "        elif all(v < 0 for v in vals):\n",
    "            return \"Negative definite (numerical check)\"\n",
    "        elif all(v <= 0 for v in vals):\n",
    "            return \"Negative semi-definite (numerical check)\"\n",
    "        else:\n",
    "            return \"Indefinite (numerical check)\"\n",
    "    \n",
    "    else:\n",
    "        raise TypeError(\"Input must be a NumPy matrix or SymPy expression\")\n",
    "\n",
    "# Example Usage:\n",
    "\n",
    "# Case 1: Inputting a matrix\n",
    "print(\"Case 1:\")\n",
    "K = np.array([[-1, 0], \n",
    "              [0, 0]])\n",
    "print(check_definiteness(K))\n",
    "\n",
    "print()\n",
    "\n",
    "#Case 2: Inputting a function V(x)\n",
    "print(\"Case 2:\")\n",
    "x, xdot = sp.symbols('x xdot')\n",
    "V = 0.5*x**2 #+ 0.5*xdot**2\n",
    "print(check_definiteness(V, variables=[x, xdot]))"
   ]
  },
  {
   "cell_type": "code",
   "execution_count": 4,
   "id": "3c54f9f8-7292-442a-9d57-012c0ede565b",
   "metadata": {},
   "outputs": [
    {
     "data": {
      "text/plain": [
       "'Function V(x):'"
      ]
     },
     "metadata": {},
     "output_type": "display_data"
    },
    {
     "data": {
      "text/latex": [
       "$\\displaystyle 0.5 x_{1}^{2} + 0.5 x_{2}^{2}$"
      ],
      "text/plain": [
       "      2         2\n",
       "0.5⋅x₁  + 0.5⋅x₂ "
      ]
     },
     "metadata": {},
     "output_type": "display_data"
    },
    {
     "name": "stdout",
     "output_type": "stream",
     "text": [
      "Positive definite (numerical check)\n"
     ]
    }
   ],
   "source": [
    "# Concept Check 1 - Qn1\n",
    "x1, x2 = sp.symbols('x1 x2')\n",
    "V = 0.5*(x1**2 + x2**2)\n",
    "print(check_definiteness(V, variables=[x1, x2]))"
   ]
  },
  {
   "cell_type": "code",
   "execution_count": 5,
   "id": "bd7db9dc-3163-4508-8390-473933e8151c",
   "metadata": {},
   "outputs": [
    {
     "data": {
      "text/plain": [
       "'Function V(x):'"
      ]
     },
     "metadata": {},
     "output_type": "display_data"
    },
    {
     "data": {
      "text/latex": [
       "$\\displaystyle 0.5 x_{1}^{2} - 0.5 x_{2}^{2}$"
      ],
      "text/plain": [
       "      2         2\n",
       "0.5⋅x₁  - 0.5⋅x₂ "
      ]
     },
     "metadata": {},
     "output_type": "display_data"
    },
    {
     "name": "stdout",
     "output_type": "stream",
     "text": [
      "Indefinite (numerical check)\n"
     ]
    }
   ],
   "source": [
    "# Concept Check 1 - Qn2\n",
    "x1, x2 = sp.symbols('x1 x2')\n",
    "V = 0.5*(x1**2 - x2**2)\n",
    "print(check_definiteness(V, variables=[x1, x2]))"
   ]
  },
  {
   "cell_type": "code",
   "execution_count": 6,
   "id": "b7026276-a624-402b-ac49-6b2baa7833a0",
   "metadata": {},
   "outputs": [
    {
     "data": {
      "text/plain": [
       "'Function V(x):'"
      ]
     },
     "metadata": {},
     "output_type": "display_data"
    },
    {
     "data": {
      "text/latex": [
       "$\\displaystyle \\log{\\left(x_{1}^{2} + x_{2}^{2} + 1 \\right)}$"
      ],
      "text/plain": [
       "   ⎛  2     2    ⎞\n",
       "log⎝x₁  + x₂  + 1⎠"
      ]
     },
     "metadata": {},
     "output_type": "display_data"
    },
    {
     "name": "stdout",
     "output_type": "stream",
     "text": [
      "Positive definite (numerical check)\n"
     ]
    }
   ],
   "source": [
    "# Concept Check 1 - Qn3\n",
    "x1, x2 = sp.symbols('x1 x2')\n",
    "V = sp.log(1 + x1**2 + x2**2)\n",
    "print(check_definiteness(V, variables=[x1, x2]))"
   ]
  },
  {
   "cell_type": "code",
   "execution_count": 7,
   "id": "d0fa6b8d-eef8-4062-811a-70132b45342f",
   "metadata": {},
   "outputs": [
    {
     "data": {
      "text/plain": [
       "'Function V(x):'"
      ]
     },
     "metadata": {},
     "output_type": "display_data"
    },
    {
     "data": {
      "text/latex": [
       "$\\displaystyle 0.5 x_{1}^{2} + 2.0 x_{2}^{2}$"
      ],
      "text/plain": [
       "      2         2\n",
       "0.5⋅x₁  + 2.0⋅x₂ "
      ]
     },
     "metadata": {},
     "output_type": "display_data"
    },
    {
     "name": "stdout",
     "output_type": "stream",
     "text": [
      "Positive definite (numerical check)\n"
     ]
    }
   ],
   "source": [
    "# Concept Check 1 - Qn4\n",
    "x1, x2 = sp.symbols('x1 x2')\n",
    "V = 0.5*(x1**2 + 4*x2**2)\n",
    "print(check_definiteness(V, variables=[x1, x2]))"
   ]
  },
  {
   "cell_type": "code",
   "execution_count": 8,
   "id": "e3c6e048-c71b-4aaa-a899-437ff0a1aed5",
   "metadata": {},
   "outputs": [
    {
     "data": {
      "text/plain": [
       "'Function V(x):'"
      ]
     },
     "metadata": {},
     "output_type": "display_data"
    },
    {
     "data": {
      "text/latex": [
       "$\\displaystyle \\left(0.5 x_{1}^{2} + 2.0 x_{2}^{2}\\right) e^{- x_{1}^{2} - 4 x_{2}^{2}}$"
      ],
      "text/plain": [
       "                         2       2\n",
       "⎛      2         2⎞  - x₁  - 4⋅x₂ \n",
       "⎝0.5⋅x₁  + 2.0⋅x₂ ⎠⋅ℯ             "
      ]
     },
     "metadata": {},
     "output_type": "display_data"
    },
    {
     "name": "stdout",
     "output_type": "stream",
     "text": [
      "Positive definite (numerical check)\n"
     ]
    }
   ],
   "source": [
    "# Concept Check 1 - Qn5\n",
    "x1, x2 = sp.symbols('x1 x2')\n",
    "V = 0.5*(x1**2 + 4*x2**2) * sp.exp(-(x1**2 + 4*x2**2))\n",
    "print(check_definiteness(V, variables=[x1, x2]))"
   ]
  },
  {
   "cell_type": "code",
   "execution_count": 9,
   "id": "ec6512b5-eb36-460d-b86b-dbca3abfd2bf",
   "metadata": {},
   "outputs": [
    {
     "name": "stdout",
     "output_type": "stream",
     "text": [
      "Matrix:\n",
      " [[ 1.53947   -0.0422688 -0.190629 ]\n",
      " [-0.0422688  1.4759     0.459006 ]\n",
      " [-0.190629   0.459006   1.48463  ]]\n",
      "Eigenvalues: [1.99999822 1.50000363 0.99999815]\n",
      "Positive definite\n"
     ]
    }
   ],
   "source": [
    "# Concept Check 1 - Qn6\n",
    "K = np.array([[1.53947, -0.0422688, -0.190629], \n",
    "              [-0.0422688, 1.4759, 0.459006],\n",
    "              [-0.190629, 0.459006, 1.48463]])\n",
    "print(check_definiteness(K))"
   ]
  },
  {
   "cell_type": "code",
   "execution_count": 10,
   "id": "e08fe172-bfa0-4ddd-9cba-4dcf81e19fea",
   "metadata": {},
   "outputs": [
    {
     "name": "stdout",
     "output_type": "stream",
     "text": [
      "Matrix:\n",
      " [[-0.984331 -1.10006  -0.478579]\n",
      " [-1.10006   1.03255   0.338318]\n",
      " [-0.478579  0.338318  1.45178 ]]\n",
      "Eigenvalues: [-1.49999901  1.99999849  0.99999952]\n",
      "Indefinite\n"
     ]
    }
   ],
   "source": [
    "# Concept Check 1 - Qn7\n",
    "K = np.array([[-0.984331, -1.10006, -0.478579], \n",
    "              [-1.10006, 1.03255, 0.338318],\n",
    "              [-0.478579, 0.338318, 1.45178]])\n",
    "print(check_definiteness(K))"
   ]
  },
  {
   "cell_type": "code",
   "execution_count": 11,
   "id": "0d0c681b-425d-41ba-85b6-a365a81031e5",
   "metadata": {},
   "outputs": [
    {
     "name": "stdout",
     "output_type": "stream",
     "text": [
      "Matrix:\n",
      " [[-2.0353    0.296916 -0.365128]\n",
      " [ 0.296196 -1.10369  -0.074481]\n",
      " [-0.365128 -0.074481 -2.86101 ]]\n",
      "Eigenvalues: [-2.99999716 -1.9997948  -1.00020804]\n",
      "Negative definite\n"
     ]
    }
   ],
   "source": [
    "# Concept Check 1 - Qn8\n",
    "K = np.array([[-2.0353, 0.296916, -0.365128], \n",
    "              [0.296196, -1.10369, -0.074481],\n",
    "              [-0.365128, -0.074481, -2.86101]])\n",
    "print(check_definiteness(K))"
   ]
  },
  {
   "cell_type": "code",
   "execution_count": null,
   "id": "264f5b08-b464-4314-8433-2990cf4c6a58",
   "metadata": {},
   "outputs": [],
   "source": []
  },
  {
   "cell_type": "markdown",
   "id": "9de8bd7b-1bcc-4e01-818c-f178cc423bbc",
   "metadata": {},
   "source": [
    "## 2.1.2 - Lyapunov Function Definition"
   ]
  },
  {
   "cell_type": "code",
   "execution_count": null,
   "id": "7cc95195-d479-435a-8593-b1b4af7f349e",
   "metadata": {},
   "outputs": [],
   "source": []
  },
  {
   "cell_type": "code",
   "execution_count": null,
   "id": "5f391850-0460-4821-966b-1fd192441525",
   "metadata": {},
   "outputs": [],
   "source": []
  },
  {
   "cell_type": "code",
   "execution_count": null,
   "id": "def19a67-0218-487d-9e39-ad53023e30a2",
   "metadata": {},
   "outputs": [],
   "source": []
  },
  {
   "cell_type": "code",
   "execution_count": null,
   "id": "58c37132-504f-43e1-ae4d-eeb2b532e3e3",
   "metadata": {},
   "outputs": [],
   "source": []
  }
 ],
 "metadata": {
  "kernelspec": {
   "display_name": "Python 3 (ipykernel)",
   "language": "python",
   "name": "python3"
  },
  "language_info": {
   "codemirror_mode": {
    "name": "ipython",
    "version": 3
   },
   "file_extension": ".py",
   "mimetype": "text/x-python",
   "name": "python",
   "nbconvert_exporter": "python",
   "pygments_lexer": "ipython3",
   "version": "3.11.9"
  }
 },
 "nbformat": 4,
 "nbformat_minor": 5
}
