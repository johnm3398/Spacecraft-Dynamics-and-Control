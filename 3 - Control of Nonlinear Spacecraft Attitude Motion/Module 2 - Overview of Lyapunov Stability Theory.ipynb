{
 "cells": [
  {
   "cell_type": "markdown",
   "id": "b272c91c-561e-45ed-94ef-3b73b25ab845",
   "metadata": {},
   "source": [
    "# Week 2 - Overview of Lyapunov Stability Theory\n",
    "\n",
    "**<ins>Motivation</ins>**\n",
    "\n",
    "In this week, we introduce **Lyapunov’s Direct Method** as a powerful tool to analyze the stability of nonlinear systems.  \n",
    "Unlike linearization methods (which only provide local insights), Lyapunov’s method allows us to reason about **global stability** properties without explicitly solving the system equations.\n",
    "\n",
    "**<ins>Key Ideas</ins>**\n",
    "\n",
    "- **Lyapunov’s Direct Method**:  \n",
    "  Provides a systematic way to prove stability and convergence for nonlinear systems by constructing a scalar \"energy-like\" function.\n",
    "\n",
    "- **Definiteness of Functions**:  \n",
    "  The concept of *positive definite*, *negative definite*, and *semi-definite* functions is introduced.  \n",
    "  This serves as the **building block** for Lyapunov’s direct method.\n",
    "\n",
    "- **Candidate Lyapunov Functions**:  \n",
    "  Convenient prototypes are presented for:\n",
    "  - **Rate-error measures** (functions of angular velocity error).  \n",
    "  - **State-error measures** (functions of attitude error).\n",
    " \n",
    "**<ins>Key Ideas</ins>**\n",
    "\n",
    "By the end of this week, you should be able to:\n",
    "1. Apply Lyapunov’s direct method to argue **stability and convergence** on a range of dynamical systems.\n",
    "2. Differentiate between a range of **nonlinear stability concepts** (e.g., stability, asymptotic stability, exponential stability)."
   ]
  },
  {
   "cell_type": "code",
   "execution_count": 1,
   "id": "806cf51c-0240-4c63-8204-0e17644b13e6",
   "metadata": {},
   "outputs": [],
   "source": [
    "import sympy as sp\n",
    "sp.init_printing(use_latex='mathjax')\n",
    "\n",
    "from IPython.display import display, Math\n",
    "\n",
    "import numpy as np"
   ]
  },
  {
   "cell_type": "markdown",
   "id": "7ea47d53-cdb6-4ffa-88ff-0991da1e0f44",
   "metadata": {},
   "source": [
    "# 2.1 - Lyapunov's Direct Method"
   ]
  },
  {
   "cell_type": "markdown",
   "id": "b23a9721-5ef3-492c-9cd1-7367aa8ee026",
   "metadata": {},
   "source": [
    "## 2.1.1 - Definiteness of Functions"
   ]
  },
  {
   "cell_type": "markdown",
   "id": "ce4a2a58-0ffb-4782-b70b-210f12a43347",
   "metadata": {},
   "source": [
    "**<ins>Positive/Negative Definite Function</ins>**\n",
    "\n",
    "A scalar continuous function $V(x)$ is said to be **locally positive definite** about $x_r$ if:\n",
    "\n",
    "- $x = x_r \\;\\;\\Rightarrow\\;\\; V(x) = 0$\n",
    "- There exists a $\\delta > 0$ such that  \n",
    "  $\\forall x \\in B_\\delta(x_r) \\;\\;\\Rightarrow\\;\\; V(x) > 0$  \n",
    "\n",
    "Similarly, $V(x)$ is **locally negative definite** if:  \n",
    "- $x = x_r \\;\\;\\Rightarrow\\;\\; V(x) = 0$  \n",
    "- $\\forall x \\in B_\\delta(x_r) \\;\\;\\Rightarrow\\;\\; V(x) < 0$  "
   ]
  },
  {
   "cell_type": "markdown",
   "id": "468db70a-4509-4858-bc2f-c51ab3bd7b12",
   "metadata": {},
   "source": [
    "**<ins>Positive/Negative Semi-Definite Function</ins>**\n",
    "\n",
    "A scalar continuous function $V(x)$ is said to be **locally positive semi-definite** about $x_r$ if:\n",
    "\n",
    "- $x = x_r \\;\\;\\Rightarrow\\;\\; V(x) = 0$\n",
    "- There exists a $\\delta > 0$ such that  \n",
    "  $\\forall x \\in B_\\delta(x_r) \\;\\;\\Rightarrow\\;\\; V(x) \\geq 0$  \n",
    "\n",
    "Similarly, $V(x)$ is **locally negative semi-definite** if:  \n",
    "- $x = x_r \\;\\;\\Rightarrow\\;\\; V(x) = 0$  \n",
    "- $\\forall x \\in B_\\delta(x_r) \\;\\;\\Rightarrow\\;\\; V(x) \\leq 0$  "
   ]
  },
  {
   "cell_type": "markdown",
   "id": "dfb809c6-364d-4887-a68e-dbefe088be90",
   "metadata": {},
   "source": [
    "A common prototype Lyapunov candidate:\r\n",
    "$$\r\n",
    "V(x, \\dot{x}) = \\tfrac{1}{2}x^2 + \\tfrac{1}{2}\\dot{x}^2\r\n",
    "$$\r\n",
    "\r\n",
    "This function is positive definite, since $V(x, \\dot{x}) = 0$ only at $(x, \\dot{x}) = (0,0)$, and $V(x, \\dot{x}) > 0$ otherwise."
   ]
  },
  {
   "cell_type": "markdown",
   "id": "c3071ec6-12c1-48bb-89f6-f40ab90f59bc",
   "metadata": {},
   "source": [
    "**<ins>Matrix Definiteness</ins>**\n",
    "\n",
    "A matrix $[K]$ is said to be positive or negative (semi-)definite if for every state vector $x$:\r\n",
    "\r\n",
    "$$\r\n",
    "x^T[K]x\r\n",
    "\\begin{cases}\r\n",
    "> 0 & \\text{positive definite} \\\\\r\n",
    "\\geq 0 & \\text{positive semi-definite} \\\\\r\n",
    "< 0 & \\text{negative definite} \\\\\r\n",
    "\\leq 0 & \\text{negative semi-definite}\r\n",
    "\\end{cases}\r\n",
    "$$"
   ]
  },
  {
   "cell_type": "markdown",
   "id": "53fd20c4-d2e0-4f32-84fa-6aaa8bd6144c",
   "metadata": {},
   "source": [
    "**<ins>The Intuition</ins>**\n",
    "\n",
    "- Think of $V(x)$ like an **energy function**:  \r\n",
    "  - Positive definite → strictly positive “energy” everywhere except at equilibrium.  \r\n",
    "  - Semi-definite → “energy” is non-negative but may be flat in some directions.  \r\n",
    "\r\n",
    "- For matrices $[K]$:  \r\n",
    "  - Positive definite matrices act like **stiff springs**: they store positive energy no matter what direction you displace in.  \r\n",
    "  - Semi-definite means there might be “flat” directions where no restoring energy appears.  \r\n",
    "\r\n",
    "- These concepts matter because Lyapunov stability proofs rely on choosing $V(x)$ that behaves like an “energy bowl” centered at the equilibrium point."
   ]
  },
  {
   "cell_type": "code",
   "execution_count": 2,
   "id": "90219400-5bf3-47b8-90b3-15ffab6bdc2d",
   "metadata": {},
   "outputs": [
    {
     "name": "stdout",
     "output_type": "stream",
     "text": [
      "Case 1:\n",
      "Matrix:\n",
      " [[-1  0]\n",
      " [ 0  0]]\n",
      "Eigenvalues: [-1.  0.]\n",
      "Negative semi-definite\n",
      "\n",
      "Case 2:\n"
     ]
    },
    {
     "data": {
      "text/plain": [
       "'Function V(x):'"
      ]
     },
     "metadata": {},
     "output_type": "display_data"
    },
    {
     "data": {
      "text/latex": [
       "$\\displaystyle 0.5 x^{2}$"
      ],
      "text/plain": [
       "     2\n",
       "0.5⋅x "
      ]
     },
     "metadata": {},
     "output_type": "display_data"
    },
    {
     "name": "stdout",
     "output_type": "stream",
     "text": [
      "Positive definite (numerical check)\n"
     ]
    }
   ],
   "source": [
    "def check_definiteness(obj, variables=None, equilibrium=None, sample_points=100):\n",
    "    \"\"\"\n",
    "    Check definiteness of a matrix (NumPy) or a function (SymPy).\n",
    "    \n",
    "    Parameters\n",
    "    ----------\n",
    "    obj : numpy.ndarray or sympy.Expr\n",
    "        The matrix or scalar function to check.\n",
    "        \n",
    "    variables : list of sympy.Symbol, optional\n",
    "        Variables used in the function (only needed if obj is SymPy expression).\n",
    "        \n",
    "    equilibrium : list/tuple of floats, optional\n",
    "        Equilibrium point around which to test (default = all zeros).\n",
    "        \n",
    "    sample_points : int\n",
    "        Number of random samples near equilibrium for numeric testing (function case).\n",
    "    \n",
    "    Returns\n",
    "    -------\n",
    "    str : Definiteness classification\n",
    "    \"\"\"\n",
    "    \n",
    "    # Case 1: Matrix\n",
    "    if isinstance(obj, np.ndarray):\n",
    "        eigvals = np.linalg.eigvals(obj)\n",
    "        print(\"Matrix:\\n\", obj)\n",
    "        print(f\"Eigenvalues: {eigvals}\")\n",
    "        if np.all(eigvals > 0):\n",
    "            return \"Positive definite\"\n",
    "        elif np.all(eigvals >= 0):\n",
    "            return \"Positive semi-definite\"\n",
    "        elif np.all(eigvals < 0):\n",
    "            return \"Negative definite\"\n",
    "        elif np.all(eigvals <= 0):\n",
    "            return \"Negative semi-definite\"\n",
    "        else:\n",
    "            return \"Indefinite\"\n",
    "    \n",
    "    # Case 2: Symbolic function (expressed using SymPy)\n",
    "    elif isinstance(obj, sp.Expr):\n",
    "        display(\"Function V(x):\", obj)\n",
    "        if variables is None:\n",
    "            raise ValueError(\"Must provide variables for SymPy function\")\n",
    "        if equilibrium is None:\n",
    "            equilibrium = [0]*len(variables)\n",
    "        \n",
    "        # Check equilibrium point\n",
    "        V_eq = obj.subs(dict(zip(variables, equilibrium)))\n",
    "        if V_eq != 0:\n",
    "            return f\"Not a valid Lyapunov candidate (V(eq) = {V_eq})\"\n",
    "        \n",
    "        # Sample near equilibrium\n",
    "        vals = []\n",
    "        for _ in range(sample_points):\n",
    "            rand_point = np.random.uniform(-1, 1, len(variables)) * 0.5\n",
    "            V_val = float(obj.subs(dict(zip(variables, rand_point))))\n",
    "            vals.append(V_val)\n",
    "        \n",
    "        if all(v > 0 for v in vals):\n",
    "            return \"Positive definite (numerical check)\"\n",
    "        elif all(v >= 0 for v in vals):\n",
    "            return \"Positive semi-definite (numerical check)\"\n",
    "        elif all(v < 0 for v in vals):\n",
    "            return \"Negative definite (numerical check)\"\n",
    "        elif all(v <= 0 for v in vals):\n",
    "            return \"Negative semi-definite (numerical check)\"\n",
    "        else:\n",
    "            return \"Indefinite (numerical check)\"\n",
    "    \n",
    "    else:\n",
    "        raise TypeError(\"Input must be a NumPy matrix or SymPy expression\")\n",
    "\n",
    "# Example Usage:\n",
    "\n",
    "# Case 1: Inputting a matrix\n",
    "print(\"Case 1:\")\n",
    "K = np.array([[-1, 0], \n",
    "              [0, 0]])\n",
    "print(check_definiteness(K))\n",
    "\n",
    "print()\n",
    "\n",
    "#Case 2: Inputting a function V(x)\n",
    "print(\"Case 2:\")\n",
    "x, xdot = sp.symbols('x xdot')\n",
    "V = 0.5*x**2 #+ 0.5*xdot**2\n",
    "print(check_definiteness(V, variables=[x, xdot]))"
   ]
  },
  {
   "cell_type": "code",
   "execution_count": 3,
   "id": "3c54f9f8-7292-442a-9d57-012c0ede565b",
   "metadata": {},
   "outputs": [
    {
     "data": {
      "text/plain": [
       "'Function V(x):'"
      ]
     },
     "metadata": {},
     "output_type": "display_data"
    },
    {
     "data": {
      "text/latex": [
       "$\\displaystyle 0.5 x_{1}^{2} + 0.5 x_{2}^{2}$"
      ],
      "text/plain": [
       "      2         2\n",
       "0.5⋅x₁  + 0.5⋅x₂ "
      ]
     },
     "metadata": {},
     "output_type": "display_data"
    },
    {
     "name": "stdout",
     "output_type": "stream",
     "text": [
      "Positive definite (numerical check)\n"
     ]
    }
   ],
   "source": [
    "# Concept Check 1 - Qn1\n",
    "x1, x2 = sp.symbols('x1 x2')\n",
    "V = 0.5*(x1**2 + x2**2)\n",
    "print(check_definiteness(V, variables=[x1, x2]))"
   ]
  },
  {
   "cell_type": "code",
   "execution_count": 4,
   "id": "bd7db9dc-3163-4508-8390-473933e8151c",
   "metadata": {},
   "outputs": [
    {
     "data": {
      "text/plain": [
       "'Function V(x):'"
      ]
     },
     "metadata": {},
     "output_type": "display_data"
    },
    {
     "data": {
      "text/latex": [
       "$\\displaystyle 0.5 x_{1}^{2} - 0.5 x_{2}^{2}$"
      ],
      "text/plain": [
       "      2         2\n",
       "0.5⋅x₁  - 0.5⋅x₂ "
      ]
     },
     "metadata": {},
     "output_type": "display_data"
    },
    {
     "name": "stdout",
     "output_type": "stream",
     "text": [
      "Indefinite (numerical check)\n"
     ]
    }
   ],
   "source": [
    "# Concept Check 1 - Qn2\n",
    "x1, x2 = sp.symbols('x1 x2')\n",
    "V = 0.5*(x1**2 - x2**2)\n",
    "print(check_definiteness(V, variables=[x1, x2]))"
   ]
  },
  {
   "cell_type": "code",
   "execution_count": 5,
   "id": "b7026276-a624-402b-ac49-6b2baa7833a0",
   "metadata": {},
   "outputs": [
    {
     "data": {
      "text/plain": [
       "'Function V(x):'"
      ]
     },
     "metadata": {},
     "output_type": "display_data"
    },
    {
     "data": {
      "text/latex": [
       "$\\displaystyle \\log{\\left(x_{1}^{2} + x_{2}^{2} + 1 \\right)}$"
      ],
      "text/plain": [
       "   ⎛  2     2    ⎞\n",
       "log⎝x₁  + x₂  + 1⎠"
      ]
     },
     "metadata": {},
     "output_type": "display_data"
    },
    {
     "name": "stdout",
     "output_type": "stream",
     "text": [
      "Positive definite (numerical check)\n"
     ]
    }
   ],
   "source": [
    "# Concept Check 1 - Qn3\n",
    "x1, x2 = sp.symbols('x1 x2')\n",
    "V = sp.log(1 + x1**2 + x2**2)\n",
    "print(check_definiteness(V, variables=[x1, x2]))"
   ]
  },
  {
   "cell_type": "code",
   "execution_count": 6,
   "id": "d0fa6b8d-eef8-4062-811a-70132b45342f",
   "metadata": {},
   "outputs": [
    {
     "data": {
      "text/plain": [
       "'Function V(x):'"
      ]
     },
     "metadata": {},
     "output_type": "display_data"
    },
    {
     "data": {
      "text/latex": [
       "$\\displaystyle 0.5 x_{1}^{2} + 2.0 x_{2}^{2}$"
      ],
      "text/plain": [
       "      2         2\n",
       "0.5⋅x₁  + 2.0⋅x₂ "
      ]
     },
     "metadata": {},
     "output_type": "display_data"
    },
    {
     "name": "stdout",
     "output_type": "stream",
     "text": [
      "Positive definite (numerical check)\n"
     ]
    }
   ],
   "source": [
    "# Concept Check 1 - Qn4\n",
    "x1, x2 = sp.symbols('x1 x2')\n",
    "V = 0.5*(x1**2 + 4*x2**2)\n",
    "print(check_definiteness(V, variables=[x1, x2]))"
   ]
  },
  {
   "cell_type": "code",
   "execution_count": 7,
   "id": "e3c6e048-c71b-4aaa-a899-437ff0a1aed5",
   "metadata": {},
   "outputs": [
    {
     "data": {
      "text/plain": [
       "'Function V(x):'"
      ]
     },
     "metadata": {},
     "output_type": "display_data"
    },
    {
     "data": {
      "text/latex": [
       "$\\displaystyle \\left(0.5 x_{1}^{2} + 2.0 x_{2}^{2}\\right) e^{- x_{1}^{2} - 4 x_{2}^{2}}$"
      ],
      "text/plain": [
       "                         2       2\n",
       "⎛      2         2⎞  - x₁  - 4⋅x₂ \n",
       "⎝0.5⋅x₁  + 2.0⋅x₂ ⎠⋅ℯ             "
      ]
     },
     "metadata": {},
     "output_type": "display_data"
    },
    {
     "name": "stdout",
     "output_type": "stream",
     "text": [
      "Positive definite (numerical check)\n"
     ]
    }
   ],
   "source": [
    "# Concept Check 1 - Qn5\n",
    "x1, x2 = sp.symbols('x1 x2')\n",
    "V = 0.5*(x1**2 + 4*x2**2) * sp.exp(-(x1**2 + 4*x2**2))\n",
    "print(check_definiteness(V, variables=[x1, x2]))"
   ]
  },
  {
   "cell_type": "code",
   "execution_count": 8,
   "id": "ec6512b5-eb36-460d-b86b-dbca3abfd2bf",
   "metadata": {},
   "outputs": [
    {
     "name": "stdout",
     "output_type": "stream",
     "text": [
      "Matrix:\n",
      " [[ 1.53947   -0.0422688 -0.190629 ]\n",
      " [-0.0422688  1.4759     0.459006 ]\n",
      " [-0.190629   0.459006   1.48463  ]]\n",
      "Eigenvalues: [1.99999822 1.50000363 0.99999815]\n",
      "Positive definite\n"
     ]
    }
   ],
   "source": [
    "# Concept Check 1 - Qn6\n",
    "K = np.array([[1.53947, -0.0422688, -0.190629], \n",
    "              [-0.0422688, 1.4759, 0.459006],\n",
    "              [-0.190629, 0.459006, 1.48463]])\n",
    "print(check_definiteness(K))"
   ]
  },
  {
   "cell_type": "code",
   "execution_count": 9,
   "id": "e08fe172-bfa0-4ddd-9cba-4dcf81e19fea",
   "metadata": {},
   "outputs": [
    {
     "name": "stdout",
     "output_type": "stream",
     "text": [
      "Matrix:\n",
      " [[-0.984331 -1.10006  -0.478579]\n",
      " [-1.10006   1.03255   0.338318]\n",
      " [-0.478579  0.338318  1.45178 ]]\n",
      "Eigenvalues: [-1.49999901  1.99999849  0.99999952]\n",
      "Indefinite\n"
     ]
    }
   ],
   "source": [
    "# Concept Check 1 - Qn7\n",
    "K = np.array([[-0.984331, -1.10006, -0.478579], \n",
    "              [-1.10006, 1.03255, 0.338318],\n",
    "              [-0.478579, 0.338318, 1.45178]])\n",
    "print(check_definiteness(K))"
   ]
  },
  {
   "cell_type": "code",
   "execution_count": 10,
   "id": "0d0c681b-425d-41ba-85b6-a365a81031e5",
   "metadata": {},
   "outputs": [
    {
     "name": "stdout",
     "output_type": "stream",
     "text": [
      "Matrix:\n",
      " [[-2.0353    0.296916 -0.365128]\n",
      " [ 0.296196 -1.10369  -0.074481]\n",
      " [-0.365128 -0.074481 -2.86101 ]]\n",
      "Eigenvalues: [-2.99999716 -1.9997948  -1.00020804]\n",
      "Negative definite\n"
     ]
    }
   ],
   "source": [
    "# Concept Check 1 - Qn8\n",
    "K = np.array([[-2.0353, 0.296916, -0.365128], \n",
    "              [0.296196, -1.10369, -0.074481],\n",
    "              [-0.365128, -0.074481, -2.86101]])\n",
    "print(check_definiteness(K))"
   ]
  },
  {
   "cell_type": "code",
   "execution_count": null,
   "id": "264f5b08-b464-4314-8433-2990cf4c6a58",
   "metadata": {},
   "outputs": [],
   "source": []
  },
  {
   "cell_type": "markdown",
   "id": "9de8bd7b-1bcc-4e01-818c-f178cc423bbc",
   "metadata": {},
   "source": [
    "## 2.1.2 - Lyapunov Function Definition"
   ]
  },
  {
   "cell_type": "markdown",
   "id": "c1588fd8-efea-4ced-a787-aa2a0821f65b",
   "metadata": {},
   "source": [
    "**<ins>Defintion</ins>**\n",
    "\n",
    "A **Lyapunov function** for the nonlinear dynamical system\n",
    "\n",
    "$$\n",
    "\\dot{x} = f(x)\n",
    "$$\n",
    "\n",
    "is a scalar function $V(x)$ if there exists a $\\delta > 0$ such that for all  \n",
    "$x \\in B_\\delta(x_r)$ (the neighborhood around the equilibrium $x_r$):\n",
    "\n",
    "1. **Positive definite:**  \n",
    "   $V(x)$ is positive definite about $x_r$, i.e.  \n",
    "   $V(x_r) = 0$ and $V(x) > 0$ for all $x \\neq x_r$ in $B_\\delta(x_r)$.\n",
    "\n",
    "2. **Smoothness:**  \n",
    "   $V(x)$ has continuous partial derivatives.\n",
    "\n",
    "3. **Lyapunov rate:**  \n",
    "   The time derivative of $V(x)$ is negative semi-definite:  \n",
    "   $$\n",
    "   \\dot{V}(x) = \\frac{\\partial V^T}{\\partial x}\\,\\dot{x}\n",
    "               = \\frac{\\partial V^T}{\\partial x}\\,f(x) \\leq 0\n",
    "   $$\n",
    "\n",
    "\n",
    "**<ins>Geometric Interpretation</ins>**\n",
    "\n",
    "<div align=\"center\">\n",
    "  <img src=\"Images/Wk2_EnergyBowl.PNG\" alt=\"Energy bowl\" width=\"500\"/>\n",
    "</div>\n",
    "\n",
    "- $V(x)$ acts like an **energy bowl** centered at $x_r$.  \n",
    "- The condition $\\dot{V}(x) \\leq 0$ means the system’s “energy” can only\n",
    "  decrease or stay the same — trajectories roll downhill or orbit around a\n",
    "  level set, but never climb uphill.  \n",
    "- This traps trajectories inside a bounded region around $x_r$.  \n",
    "- If $\\dot{V}(x) = 0$, motion stays on a “rim” (like a conservative oscillator).  \n",
    "- If $\\dot{V}(x) < 0$, the system continuously loses energy and converges to $x_r$.\n",
    "\n",
    "**<ins>Physical Intuition</ins>**\n",
    "\n",
    "- A Lyapunov function is often **inspired by energy** (e.g., kinetic + potential),  \n",
    "  but it doesn’t have to be physical energy — any mathematical function with  \n",
    "  the three properties works.  \n",
    "- Example: For a spring–mass system with no damping,  \n",
    "  $V(x, \\dot{x}) = \\tfrac{1}{2} m \\dot{x}^2 + \\tfrac{1}{2} kx^2$  \n",
    "  is positive definite, but $\\dot{V} = 0$.  \n",
    "  → The system is Lyapunov stable (oscillates with bounded energy) but not\n",
    "  asymptotically stable (it doesn’t converge to the equilibrium).  \n",
    "\n",
    "**<ins>Lyapunov Stability</ins>**\n",
    "\n",
    "If a Lyapunov function $V(x)$ exists satisfying the three conditions above,  \n",
    "then the equilibrium point $x_r$ is **stable**.\n",
    "\n",
    "- If $\\dot{V}(x) \\leq 0$ → system is **Lyapunov stable**.  \n",
    "- If $\\dot{V}(x) < 0$ → system is **asymptotically stable** (trajectories converge to $x_r$)."
   ]
  },
  {
   "cell_type": "markdown",
   "id": "c6e39425-e8c6-4739-8958-aed3057ccd16",
   "metadata": {},
   "source": [
    "## 2.1.3 - Asymptotic Stability (via Lyapunov Function)"
   ]
  },
  {
   "cell_type": "markdown",
   "id": "9278ade4-3720-4a7c-ba0e-ba80dc4fdd64",
   "metadata": {},
   "source": [
    "**<ins>Definition</ins>**\n",
    "\n",
    "Assume $V(x)$ is a Lyapunov function for the nonlinear system\n",
    "$$\n",
    "\\dot{x} = f(x).\n",
    "$$\n",
    "Then the equilibrium $x_r$ is **asymptotically stable** if:\n",
    "\n",
    "1) The system is **Lyapunov stable** about $x_r$ (i.e., $V$ is positive definite and $\\dot V \\le 0$ in a neighborhood $B_\\delta(x_r)$), **and**  \n",
    "2) $\\dot V(x)$ is **negative definite** about $x_r$ (strictly $<0$ for all $x\\neq x_r$ in $B_\\delta(x_r)$).\n",
    "\n",
    "Intuition: $\\dot V<0$ rules out “flat rims” where the motion can orbit forever; trajectories must **lose energy** until they reach $x_r$ (as $t\\to\\infty$).\n",
    "\n",
    "\n",
    "**<ins>Higher-Derivative Test</ins>**\n",
    "\n",
    "Let\n",
    "$$\n",
    "\\Omega \\;=\\; \\{\\, x \\;|\\; \\dot V(x)=0 \\,\\}\n",
    "$$\n",
    "be the (non-empty) set where the first derivative vanishes.  \n",
    "If, on $\\Omega$,\n",
    "- $ \\dfrac{d^i V(x)}{dt^i} = 0$ for $i = 1,2,\\dots,k-1$, and  \n",
    "- $ \\dfrac{d^{k} V(x)}{dt^{k}} < 0$ for all $x\\in \\Omega$,\n",
    "\n",
    "then the system is **asymptotically stable** when **$k$ is odd**.\n",
    "\n",
    "Intuition: if $\\dot V$ is only semi-definite, look at higher time-derivatives along the “flat” set $\\Omega$. The first **non-zero** derivative must be **negative** (and of odd order) to guarantee decay toward $x_r$.\n",
    "\n",
    "> Practical recipe:  \n",
    "> 1) Find a valid $V(x)$ (PD, smooth).  \n",
    "> 2) Show $\\dot V \\le 0$ (stability).  \n",
    "> 3) Identify $\\Omega=\\{x:\\dot V=0\\}$.  \n",
    "> 4) Evaluate $V^{(i)}$ on $\\Omega$ until the first non-zero appears.  \n",
    "> 5) If that derivative is negative definite and its order is odd → asymptotic stability.\n",
    "\n",
    "\n",
    "**<ins>Example: Spring–Mass–Damper</ins>**\n",
    "\n",
    "Dynamics:\n",
    "$$\n",
    "m\\ddot x + c\\dot x + kx = 0,\\qquad m>0,\\; c>0,\\; k>0.\n",
    "$$\n",
    "\n",
    "Candidate (total energy):\n",
    "$$\n",
    "V(x,\\dot x) = \\tfrac{1}{2}m\\dot x^{2} + \\tfrac{1}{2}k x^{2}.\n",
    "$$\n",
    "\n",
    "1) **First derivative**\n",
    "$$\n",
    "\\dot V = m\\dot x\\,\\ddot x + kx\\,\\dot x\n",
    "       = \\dot x\\,(m\\ddot x + kx)\n",
    "       = \\dot x\\,(-c\\dot x)\n",
    "       = -c\\,\\dot x^{2} \\;\\le\\; 0.\n",
    "$$\n",
    "→ **Stable**, but only **semi-definite** (flat whenever $\\dot x=0$).\n",
    "\n",
    "Set where $\\dot V=0$:\n",
    "$$\n",
    "\\Omega = \\{\\,x:\\dot x=0\\,\\}.\n",
    "$$\n",
    "\n",
    "2) **Second derivative** (evaluate on $\\Omega$)\n",
    "$$\n",
    "\\ddot V = -2c\\,\\dot x\\,\\ddot x \\quad\\Rightarrow\\quad\n",
    "\\ddot V\\big|_{\\Omega} = 0.\n",
    "$$\n",
    "\n",
    "3) **Third derivative** (evaluate on $\\Omega$)  \n",
    "Start from $\\ddot V = -2c\\,\\dot x\\,\\ddot x$:\n",
    "$$\n",
    "\\dddot V = -2c\\left(\\ddot x^{2} + \\dot x\\,\\dddot x\\right)\n",
    "\\;\\Rightarrow\\;\n",
    "\\dddot V\\big|_{\\Omega} = -2c\\,\\ddot x^{2}.\n",
    "$$\n",
    "On $\\Omega$, the dynamics give $m\\ddot x + kx = 0 \\Rightarrow \\ddot x = -\\frac{k}{m}x$, hence\n",
    "$$\n",
    "\\dddot V\\big|_{\\Omega}\n",
    "= -2c\\left(\\frac{k^2}{m^2}\\right) x^{2}\n",
    "< 0 \\quad \\text{for } x\\neq 0.\n",
    "$$\n",
    "\n",
    "- The first non-zero derivative on $\\Omega$ is the **third** (odd) and it is **negative definite** in $x$.  \n",
    "- By the Higher Derivative Test criterion, the equilibrium is **asymptotically stable**.\n",
    "\n",
    "**Key takeaways**\n",
    "- With **no damping** ($c=0$): $\\dot V\\equiv 0$ → **Lyapunov stable** (bounded oscillations), not asymptotically stable.  \n",
    "- With **damping** ($c>0$): $\\dot V=-c\\dot x^2\\le 0$ and the **third derivative test** certifies **asymptotic stability**.\n",
    "\n",
    "\n",
    "**<ins>Implementation Notes (controls workflow)</ins>**\n",
    "- Choose a **state vector** that contains all states that must converge (e.g., for 2nd-order mechanics, include both position and rate).  \n",
    "- Reuse good Lyapunov candidates across related systems; modify the **dynamics/control** to make $\\dot V$ (or a higher derivative on $\\Omega$) **strictly negative**.  \n",
    "- If you cannot show $\\dot V<0$, try the **higher-derivative test** (or LaSalle’s Invariance Principle) to close the gap between stability and convergence."
   ]
  },
  {
   "cell_type": "code",
   "execution_count": 11,
   "id": "3d77430d-f576-4a56-b64e-a1524641db77",
   "metadata": {},
   "outputs": [
    {
     "data": {
      "text/latex": [
       "$\\displaystyle V(x,\\dot{x}) = \\frac{k x^{4}{\\left(t \\right)}}{4} + \\frac{\\left(\\frac{d}{d t} x{\\left(t \\right)}\\right)^{2}}{2}$"
      ],
      "text/plain": [
       "<IPython.core.display.Math object>"
      ]
     },
     "metadata": {},
     "output_type": "display_data"
    },
    {
     "data": {
      "text/latex": [
       "$\\displaystyle \\dot{V}(x,\\dot{x}) = 0$"
      ],
      "text/plain": [
       "<IPython.core.display.Math object>"
      ]
     },
     "metadata": {},
     "output_type": "display_data"
    }
   ],
   "source": [
    "# Concept Check 2 - Qn2\n",
    "\n",
    "# Define symbols\n",
    "t, k = sp.symbols('t k', positive=True, real=True)\n",
    "x = sp.Function('x')(t)\n",
    "xdot = sp.diff(x, t)\n",
    "xddot = sp.diff(x, t, 2)\n",
    "\n",
    "# Candidate Lyapunov function\n",
    "V = sp.Rational(1,2)*xdot**2 + k*sp.Rational(1,4)*x**4\n",
    "display(Math(r\"V(x,\\dot{x}) = \" + sp.latex(V)))\n",
    "\n",
    "# Compute Vdot = dV/dx * xdot + dV/dxdot * xddot\n",
    "Vdot = sp.diff(V, x)*xdot + sp.diff(V, xdot)*xddot\n",
    "\n",
    "# Substitute system dynamics: xddot = -k*x^3\n",
    "Vdot_sub = sp.simplify(Vdot.subs(xddot, -k*x**3))\n",
    "display(Math(r\"\\dot{V}(x,\\dot{x}) = \" + sp.latex(Vdot_sub)))"
   ]
  },
  {
   "cell_type": "code",
   "execution_count": null,
   "id": "72381475-5038-4b9b-a8a1-dd88a6092c5c",
   "metadata": {},
   "outputs": [],
   "source": []
  },
  {
   "cell_type": "code",
   "execution_count": null,
   "id": "d3ba8bff-6773-42df-b229-d22672c43179",
   "metadata": {},
   "outputs": [],
   "source": []
  },
  {
   "cell_type": "code",
   "execution_count": null,
   "id": "50777144-2b81-458d-9616-a0269272a0b5",
   "metadata": {},
   "outputs": [],
   "source": []
  },
  {
   "cell_type": "code",
   "execution_count": null,
   "id": "25c2eced-e271-4c88-8af2-afc93c3e2d98",
   "metadata": {},
   "outputs": [],
   "source": []
  },
  {
   "cell_type": "code",
   "execution_count": null,
   "id": "8eefd1c0-c1de-4b34-a390-c86f175af8b3",
   "metadata": {},
   "outputs": [],
   "source": []
  },
  {
   "cell_type": "code",
   "execution_count": null,
   "id": "6cf9a0a1-4d54-4cda-a380-09c2613cb571",
   "metadata": {},
   "outputs": [],
   "source": []
  },
  {
   "cell_type": "code",
   "execution_count": null,
   "id": "5ca3f260-d710-45e3-87ee-714184931247",
   "metadata": {},
   "outputs": [],
   "source": []
  },
  {
   "cell_type": "code",
   "execution_count": null,
   "id": "55706510-83b4-4234-8aac-5dd792780e47",
   "metadata": {},
   "outputs": [],
   "source": []
  },
  {
   "cell_type": "code",
   "execution_count": null,
   "id": "fe3bc9e6-58a7-43fa-9815-dc559bbc11ca",
   "metadata": {},
   "outputs": [],
   "source": []
  },
  {
   "cell_type": "code",
   "execution_count": null,
   "id": "9fca54f5-893f-4ecc-b42c-f3e747307f59",
   "metadata": {},
   "outputs": [],
   "source": []
  },
  {
   "cell_type": "code",
   "execution_count": null,
   "id": "e89ad7c2-9b10-4af5-b848-46bc47ed6a5b",
   "metadata": {},
   "outputs": [],
   "source": []
  },
  {
   "cell_type": "code",
   "execution_count": null,
   "id": "65fd4b09-8549-4bee-90a0-7b7fffbbdf15",
   "metadata": {},
   "outputs": [],
   "source": []
  },
  {
   "cell_type": "code",
   "execution_count": null,
   "id": "061a7093-b221-4c98-be29-4bfd06b4d0d3",
   "metadata": {},
   "outputs": [],
   "source": []
  },
  {
   "cell_type": "code",
   "execution_count": null,
   "id": "f53d5e40-048e-4f24-a9b4-9084c9cf782b",
   "metadata": {},
   "outputs": [],
   "source": []
  },
  {
   "cell_type": "code",
   "execution_count": null,
   "id": "05d1753e-f232-4920-bff3-c3f968c3e69f",
   "metadata": {},
   "outputs": [],
   "source": []
  },
  {
   "cell_type": "code",
   "execution_count": null,
   "id": "9ed47113-69d6-44a8-8916-5982db5a0558",
   "metadata": {},
   "outputs": [],
   "source": []
  },
  {
   "cell_type": "code",
   "execution_count": null,
   "id": "bdf82157-634a-46f2-8aeb-63c2007919ad",
   "metadata": {},
   "outputs": [],
   "source": []
  },
  {
   "cell_type": "code",
   "execution_count": null,
   "id": "37dbdcd5-42cf-40b7-be0c-82eff040e796",
   "metadata": {},
   "outputs": [],
   "source": []
  },
  {
   "cell_type": "code",
   "execution_count": null,
   "id": "f78503cb-448a-4589-9ffe-c8517e7c04a9",
   "metadata": {},
   "outputs": [],
   "source": []
  },
  {
   "cell_type": "code",
   "execution_count": null,
   "id": "87ee44d2-ffff-483b-aec8-77019ce9b771",
   "metadata": {},
   "outputs": [],
   "source": []
  },
  {
   "cell_type": "code",
   "execution_count": null,
   "id": "34e4ec86-b4ac-4ac0-ba56-864f27dda9d9",
   "metadata": {},
   "outputs": [],
   "source": []
  },
  {
   "cell_type": "code",
   "execution_count": null,
   "id": "d2740393-5101-498c-bee4-6d949a7985d2",
   "metadata": {},
   "outputs": [],
   "source": []
  },
  {
   "cell_type": "code",
   "execution_count": null,
   "id": "05868ab7-6929-4ce6-a1e0-b08c9a9f30e2",
   "metadata": {},
   "outputs": [],
   "source": []
  },
  {
   "cell_type": "code",
   "execution_count": null,
   "id": "cde2a768-ebde-4b1d-b8e4-a7e39b7c77ca",
   "metadata": {},
   "outputs": [],
   "source": []
  },
  {
   "cell_type": "code",
   "execution_count": null,
   "id": "7f9a79c9-aff1-47f0-b19d-5f2f10712f27",
   "metadata": {},
   "outputs": [],
   "source": []
  }
 ],
 "metadata": {
  "kernelspec": {
   "display_name": "Python 3 (ipykernel)",
   "language": "python",
   "name": "python3"
  },
  "language_info": {
   "codemirror_mode": {
    "name": "ipython",
    "version": 3
   },
   "file_extension": ".py",
   "mimetype": "text/x-python",
   "name": "python",
   "nbconvert_exporter": "python",
   "pygments_lexer": "ipython3",
   "version": "3.11.9"
  }
 },
 "nbformat": 4,
 "nbformat_minor": 5
}
