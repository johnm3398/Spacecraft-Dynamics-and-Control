{
 "cells": [
  {
   "cell_type": "markdown",
   "id": "8d3c9d65-ce06-4adf-b2e8-a1425d087825",
   "metadata": {},
   "source": [
    "# BB1 - System Modeling & Transfer Functions"
   ]
  },
  {
   "cell_type": "markdown",
   "id": "ae5a9166-9ab6-41e3-9524-71f76ceb23a8",
   "metadata": {},
   "source": [
    "# 1 - Introduction"
   ]
  },
  {
   "cell_type": "markdown",
   "id": "729efa96-b0c5-4725-9938-e632e7aa1cae",
   "metadata": {},
   "source": [
    "This notebook introduces the fundamental building blocks of control theory: how to model physical systems with differential equations and represent them in a more useful form using transfer functions. \n",
    "\n",
    "We begin with **dynamic modeling**, where physical principles are used to derive equations of motion for mechanical and electrical systems. From there, we explore how the **Laplace transform** turns these time-domain differential equations into algebraic relationships in the $s$-domain. This leads naturally to transfer functions, block diagrams, and key response characteristics.\n",
    "\n",
    "The purpose of this notebook is not to master every detail, but to build the intuition that:  \n",
    "- Physical systems → differential equations.  \n",
    "- Laplace transforms → transfer functions.  \n",
    "- Poles and zeros → stability and dynamic behavior.  \n",
    "\n",
    "**Learning Objectives**\n",
    "\n",
    "By the end of this notebook, you should be able to:  \n",
    "- Derive simple dynamic models for mechanical and electrical systems.  \n",
    "- Apply the Laplace transform to convert time-domain ODEs into transfer functions.  \n",
    "- Interpret system block diagrams and connect them to input-output relationships.  \n",
    "- Relate poles and zeros to stability and dynamic response.  \n",
    "- Recognize key time-domain performance measures (rise time, settling time, overshoot).\n",
    "\n",
    "---"
   ]
  },
  {
   "cell_type": "markdown",
   "id": "ac70ecdf-80e5-4cdd-ab44-787d540ef139",
   "metadata": {},
   "source": [
    "# 2 - Dynamic Modelling"
   ]
  },
  {
   "cell_type": "markdown",
   "id": "eec80728-cd3e-48ea-b3ee-eb7eca7c1701",
   "metadata": {},
   "source": [
    "## 2.1 - Dynamics of Mechanical Systems"
   ]
  },
  {
   "cell_type": "markdown",
   "id": "83840461-9568-4730-a017-8c34d3438c39",
   "metadata": {},
   "source": [
    "### 2.1.1 - Mass-Spring Damper System"
   ]
  },
  {
   "cell_type": "markdown",
   "id": "44c43861-e19f-4ada-8bab-12250c3b4548",
   "metadata": {},
   "source": [
    "\n",
    "Consider a mass $m$ attached to a spring of stiffness $k$ and a damper with coefficient $c$, subject to an external force $F(t)$.\r\n",
    "\r\n",
    "Using **Newton’s Second Law**:\r\n",
    "\r\n",
    "$$\r\n",
    "F(t) = m \\ddot{x}(t) + c \\dot{x}(t) + k x(t)\r\n",
    "$$\r\n",
    "\r\n",
    "- $m \\ddot{x}(t)$ → inertia (resists acceleration).  \r\n",
    "- $c \\dot{x}(t)$ → damping (resists velocity).  \r\n",
    "- $k x(t)$ → restoring spring force.  \r\n",
    "\r\n",
    "This is the canonical **second-order system** form."
   ]
  },
  {
   "cell_type": "code",
   "execution_count": null,
   "id": "4b00da74-e181-44dc-a0a6-52f2d44d2411",
   "metadata": {},
   "outputs": [],
   "source": []
  },
  {
   "cell_type": "markdown",
   "id": "46d6db74-2422-40b6-afa7-9dd225985202",
   "metadata": {},
   "source": [
    "### 2.1.2 - Rotational Analog"
   ]
  },
  {
   "cell_type": "markdown",
   "id": "6b9b68fa-9af2-41fa-890e-13b3b3889925",
   "metadata": {},
   "source": [
    "For rotational systems, the dynamics are analogous:\r\n",
    "\r\n",
    "$$\r\n",
    "\\tau(t) = J \\ddot{\\theta}(t) + b \\dot{\\theta}(t) + k_\\theta \\theta(t)\r\n",
    "$$\r\n",
    "\r\n",
    "- $\\tau(t)$ → applied torque.  \r\n",
    "- $J$ → rotational inertia.  \r\n",
    "- $b$ → rotational damping.  \r\n",
    "- $k_\\theta$ → torsional stiffness.  \r\n"
   ]
  },
  {
   "cell_type": "code",
   "execution_count": null,
   "id": "8ccb6fb1-b673-44db-8cce-4ae78d1f7d24",
   "metadata": {},
   "outputs": [],
   "source": []
  },
  {
   "cell_type": "markdown",
   "id": "713c460f-dd0b-4252-b089-e39b0b272fe0",
   "metadata": {},
   "source": [
    "### 2.1.3 - Generalization"
   ]
  },
  {
   "cell_type": "markdown",
   "id": "de68421e-bc08-4676-9a53-4b52139bf0ad",
   "metadata": {},
   "source": [
    "For multi-degree-of-freedom systems, the equations can be written in matrix form:\r\n",
    "\r\n",
    "$$\r\n",
    "M \\ddot{x}(t) + C \\dot{x}(t) + K x(t) = F(t)\r\n",
    "$$\r\n",
    "\r\n",
    "where $M$, $C$, and $K$ are inertia, damping, and stiffness matrices."
   ]
  },
  {
   "cell_type": "code",
   "execution_count": null,
   "id": "b5ee6daa-8c5a-4ce2-9b7b-6c782300860f",
   "metadata": {},
   "outputs": [],
   "source": []
  },
  {
   "cell_type": "markdown",
   "id": "c8d7ae7f-0269-4d8c-bf6f-89c8f26f5157",
   "metadata": {},
   "source": [
    "## 2.2 - Models of electric Circuits"
   ]
  },
  {
   "cell_type": "code",
   "execution_count": null,
   "id": "98edf876-8809-40ff-ae03-5a77c6915504",
   "metadata": {},
   "outputs": [],
   "source": []
  },
  {
   "cell_type": "code",
   "execution_count": null,
   "id": "b6cd3013-eb7e-4632-8623-6904f8d29835",
   "metadata": {},
   "outputs": [],
   "source": []
  },
  {
   "cell_type": "code",
   "execution_count": null,
   "id": "9aef6e57-7adc-4c42-bb33-4167dcdf3c3a",
   "metadata": {},
   "outputs": [],
   "source": []
  },
  {
   "cell_type": "code",
   "execution_count": null,
   "id": "7e52a709-0b69-442c-ad5f-80ce1eca9bcd",
   "metadata": {},
   "outputs": [],
   "source": []
  },
  {
   "cell_type": "code",
   "execution_count": null,
   "id": "bb8b1d5d-d0bc-4d6c-bdea-5d684ca70b94",
   "metadata": {},
   "outputs": [],
   "source": []
  },
  {
   "cell_type": "code",
   "execution_count": null,
   "id": "5937a640-f784-4e03-a0a7-0c41bb0a087e",
   "metadata": {},
   "outputs": [],
   "source": []
  },
  {
   "cell_type": "code",
   "execution_count": null,
   "id": "42565033-a50b-4bf2-9853-31895044f832",
   "metadata": {},
   "outputs": [],
   "source": []
  },
  {
   "cell_type": "code",
   "execution_count": null,
   "id": "ee18b8f7-727d-47da-a67e-aad0e2fb8595",
   "metadata": {},
   "outputs": [],
   "source": []
  },
  {
   "cell_type": "code",
   "execution_count": null,
   "id": "00007bf4-9ad9-47f3-833c-048155492716",
   "metadata": {},
   "outputs": [],
   "source": []
  },
  {
   "cell_type": "markdown",
   "id": "02e42b3d-9305-43e6-ad99-38001657bd2e",
   "metadata": {},
   "source": [
    "# 3 - Dynamic Response"
   ]
  },
  {
   "cell_type": "markdown",
   "id": "e361e301-c787-4c5e-9f38-9bc0fcdb89af",
   "metadata": {},
   "source": [
    "## 3.1 - Laplace Transform as a tool"
   ]
  },
  {
   "cell_type": "code",
   "execution_count": null,
   "id": "8efe9988-da5d-486c-a903-a83f100859af",
   "metadata": {},
   "outputs": [],
   "source": []
  },
  {
   "cell_type": "code",
   "execution_count": null,
   "id": "d7c45e0f-b2e6-4ae7-9308-71014301f5c2",
   "metadata": {},
   "outputs": [],
   "source": []
  },
  {
   "cell_type": "markdown",
   "id": "79a8f0c8-f0aa-4874-923f-2cbd1ed0b2ec",
   "metadata": {},
   "source": [
    "## 3.2 - System Model Block Diagram"
   ]
  },
  {
   "cell_type": "code",
   "execution_count": null,
   "id": "781774e4-cdbd-4297-9078-c25dc59aa95b",
   "metadata": {},
   "outputs": [],
   "source": []
  },
  {
   "cell_type": "code",
   "execution_count": null,
   "id": "ec92e44c-d613-44db-80c1-77dae1927624",
   "metadata": {},
   "outputs": [],
   "source": []
  },
  {
   "cell_type": "markdown",
   "id": "e31c4e2f-ade5-43bc-8536-fa3bfd96b8f4",
   "metadata": {},
   "source": [
    "## 3.3 - Time-Domain Specifications"
   ]
  },
  {
   "cell_type": "code",
   "execution_count": null,
   "id": "fa6ee9ee-0737-4417-a4db-1b68cbda21ab",
   "metadata": {},
   "outputs": [],
   "source": []
  },
  {
   "cell_type": "code",
   "execution_count": null,
   "id": "4e217c79-81e0-4527-b4f1-b7b30b07de91",
   "metadata": {},
   "outputs": [],
   "source": []
  },
  {
   "cell_type": "markdown",
   "id": "859414d8-6316-4c3b-b190-4fa4159102af",
   "metadata": {},
   "source": [
    "## 3.4 - Effects of Zeros and Poles"
   ]
  },
  {
   "cell_type": "code",
   "execution_count": null,
   "id": "7ab6a72b-9e16-4078-aef4-34cf5025f258",
   "metadata": {},
   "outputs": [],
   "source": []
  },
  {
   "cell_type": "code",
   "execution_count": null,
   "id": "eb7ed503-dc6c-4fc4-9c96-16bdf2369ac1",
   "metadata": {},
   "outputs": [],
   "source": []
  },
  {
   "cell_type": "markdown",
   "id": "fd8e027f-6f37-481c-b668-cd6d06f66a84",
   "metadata": {},
   "source": [
    "## 3.5 - Stability"
   ]
  },
  {
   "cell_type": "code",
   "execution_count": null,
   "id": "1d9a993f-724b-4f00-8ac6-71fb3992ff8a",
   "metadata": {},
   "outputs": [],
   "source": []
  },
  {
   "cell_type": "code",
   "execution_count": null,
   "id": "783c051a-cece-4bb3-aace-c69de61c603c",
   "metadata": {},
   "outputs": [],
   "source": []
  },
  {
   "cell_type": "code",
   "execution_count": null,
   "id": "6dd073db-70fd-4c98-bf3d-9c1ea8fbe6c7",
   "metadata": {},
   "outputs": [],
   "source": []
  },
  {
   "cell_type": "code",
   "execution_count": null,
   "id": "c2ba9b5a-c3be-44cb-9379-6c7a9684a71e",
   "metadata": {},
   "outputs": [],
   "source": []
  },
  {
   "cell_type": "code",
   "execution_count": null,
   "id": "965bae57-d3d9-4ce7-aa67-72aac3c183ff",
   "metadata": {},
   "outputs": [],
   "source": []
  }
 ],
 "metadata": {
  "kernelspec": {
   "display_name": "Python 3 (ipykernel)",
   "language": "python",
   "name": "python3"
  },
  "language_info": {
   "codemirror_mode": {
    "name": "ipython",
    "version": 3
   },
   "file_extension": ".py",
   "mimetype": "text/x-python",
   "name": "python",
   "nbconvert_exporter": "python",
   "pygments_lexer": "ipython3",
   "version": "3.11.9"
  }
 },
 "nbformat": 4,
 "nbformat_minor": 5
}
